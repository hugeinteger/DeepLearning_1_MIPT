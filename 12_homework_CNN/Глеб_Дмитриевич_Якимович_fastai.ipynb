{
 "cells": [
  {
   "cell_type": "code",
   "execution_count": 1,
   "metadata": {
    "colab": {
     "base_uri": "https://localhost:8080/",
     "height": 34
    },
    "colab_type": "code",
    "executionInfo": {
     "elapsed": 4811,
     "status": "ok",
     "timestamp": 1578116272028,
     "user": {
      "displayName": "Глеб Якимович",
      "photoUrl": "https://lh3.googleusercontent.com/a-/AAuE7mCkXUZNflL-8TYvMquxrxnlJZhXJQwWw1qNcEjThA=s64",
      "userId": "13279891794640929356"
     },
     "user_tz": -180
    },
    "id": "WWgcwKwCLBfr",
    "outputId": "728a9155-95e4-4c5d-fe6d-e94df34af8f2"
   },
   "outputs": [
    {
     "name": "stdout",
     "output_type": "stream",
     "text": [
      "CUDA is available!  Training on GPU ...\n"
     ]
    }
   ],
   "source": [
    "#Проверка доступносит cuda\n",
    "import torch\n",
    "train_on_gpu = torch.cuda.is_available()\n",
    "if not train_on_gpu:\n",
    "    print('CUDA is not available.  Training on CPU ...')\n",
    "else:\n",
    "    print('CUDA is available!  Training on GPU ...')"
   ]
  },
  {
   "cell_type": "code",
   "execution_count": null,
   "metadata": {},
   "outputs": [],
   "source": [
    "#для работы необходиv модуль fast ai, который облегчает читаемость кода, при этом \n",
    "! pip install fastai"
   ]
  },
  {
   "cell_type": "code",
   "execution_count": 0,
   "metadata": {
    "colab": {},
    "colab_type": "code",
    "id": "GvtKd0Aw9jhm"
   },
   "outputs": [],
   "source": [
    "#импортируем нужные модули машинного обучения\n",
    "import random\n",
    "import numpy as np\n",
    "import pandas as pd\n",
    "import os\n",
    "#импортируем модуль Fast AI\n",
    "from fastai import *\n",
    "#модуль для работы с графикой\n",
    "from fastai.vision import *\n",
    "#модуль callbacks для интеграциии дополняющего модуля сохранения лучше модели\n",
    "from fastai.callbacks import SaveModelCallback"
   ]
  },
  {
   "cell_type": "code",
   "execution_count": 0,
   "metadata": {
    "colab": {},
    "colab_type": "code",
    "id": "5884h7B89j4L"
   },
   "outputs": [],
   "source": [
    "#обновление рандома для обеспечения повторяемости\n",
    "def seed_everything(seed=42):\n",
    "    random.seed(seed)\n",
    "    os.environ['PYTHONHASHSEED'] = str(seed)\n",
    "    np.random.seed(seed)\n",
    "    torch.manual_seed(seed)\n",
    "    torch.cuda.manual_seed(seed)\n",
    "    torch.backends.cudnn.deterministic = True\n",
    "\n",
    "seed_everything()"
   ]
  },
  {
   "cell_type": "code",
   "execution_count": null,
   "metadata": {},
   "outputs": [],
   "source": [
    "#открываем архив с google drive и распаковываем на colab\n",
    "from google.colab import drive\n",
    "drive.mount('/content/gdrive/', force_remount=True)\n",
    "!unzip -q /content/gdrive/My\\ Drive/Simpsons/data/simpsons4.zip"
   ]
  },
  {
   "cell_type": "code",
   "execution_count": 0,
   "metadata": {
    "colab": {},
    "colab_type": "code",
    "id": "UCTGwR_j9g98"
   },
   "outputs": [],
   "source": [
    "#указываем путь к папке train\n",
    "path = 'train/'\n",
    "#batch size\n",
    "bs = 84\n",
    "seed_everything()\n",
    "#ImageDataBunch.from_folder загружает и нормализует изображения из папки train, \n",
    "#аугментирует их при помощи всех трансформаций из get_transforms()\n",
    "#доля валидационной выборки 0.2, размер картинок 224 пикселя \n",
    "data = ImageDataBunch.from_folder(path, ds_tfms=get_transforms(), valid_pct=0.2, size=224, num_workers=4, bs=bs).normalize()"
   ]
  },
  {
   "cell_type": "code",
   "execution_count": 6,
   "metadata": {
    "colab": {
     "base_uri": "https://localhost:8080/",
     "height": 51
    },
    "colab_type": "code",
    "executionInfo": {
     "elapsed": 16875,
     "status": "ok",
     "timestamp": 1578116336990,
     "user": {
      "displayName": "Глеб Якимович",
      "photoUrl": "https://lh3.googleusercontent.com/a-/AAuE7mCkXUZNflL-8TYvMquxrxnlJZhXJQwWw1qNcEjThA=s64",
      "userId": "13279891794640929356"
     },
     "user_tz": -180
    },
    "id": "JnA-wI9F9g9-",
    "outputId": "c8c839e3-b32d-4409-d50a-e90982ec3614"
   },
   "outputs": [
    {
     "name": "stderr",
     "output_type": "stream",
     "text": [
      "Downloading: \"https://download.pytorch.org/models/resnet34-333f7ec4.pth\" to /root/.cache/torch/checkpoints/resnet34-333f7ec4.pth\n",
      "100%|██████████| 83.3M/83.3M [00:01<00:00, 48.2MB/s]\n"
     ]
    }
   ],
   "source": [
    "#задаём модель ResNet34, отслеживаемая метрика accuracy, оптимизатор AdamW\n",
    "learn = cnn_learner(data, models.resnet34, metrics=accuracy, opt_func = optim.AdamW)\n",
    "#размораживаем веса из готовой модели\n",
    "learn.unfreeze()"
   ]
  },
  {
   "cell_type": "code",
   "execution_count": 0,
   "metadata": {
    "colab": {
     "base_uri": "https://localhost:8080/",
     "height": 95
    },
    "colab_type": "code",
    "executionInfo": {
     "elapsed": 298360,
     "status": "ok",
     "timestamp": 1578072540281,
     "user": {
      "displayName": "Глеб Якимович",
      "photoUrl": "https://lh3.googleusercontent.com/a-/AAuE7mCkXUZNflL-8TYvMquxrxnlJZhXJQwWw1qNcEjThA=s64",
      "userId": "13279891794640929356"
     },
     "user_tz": -180
    },
    "id": "mZ82LmGJh6_8",
    "outputId": "0b7f6835-8379-4c3d-977a-6363f07bdc97"
   },
   "outputs": [
    {
     "data": {
      "text/html": [
       "\n",
       "    <div>\n",
       "        <style>\n",
       "            /* Turns off some styling */\n",
       "            progress {\n",
       "                /* gets rid of default border in Firefox and Opera. */\n",
       "                border: none;\n",
       "                /* Needs to be in here for Safari polyfill so background images work as expected. */\n",
       "                background-size: auto;\n",
       "            }\n",
       "            .progress-bar-interrupted, .progress-bar-interrupted::-webkit-progress-bar {\n",
       "                background: #F44336;\n",
       "            }\n",
       "        </style>\n",
       "      <progress value='0' class='' max='8', style='width:300px; height:20px; vertical-align: middle;'></progress>\n",
       "      0.00% [0/8 00:00<00:00]\n",
       "    </div>\n",
       "    \n",
       "<table border=\"1\" class=\"dataframe\">\n",
       "  <thead>\n",
       "    <tr style=\"text-align: left;\">\n",
       "      <th>epoch</th>\n",
       "      <th>train_loss</th>\n",
       "      <th>valid_loss</th>\n",
       "      <th>accuracy</th>\n",
       "      <th>time</th>\n",
       "    </tr>\n",
       "  </thead>\n",
       "  <tbody>\n",
       "  </tbody>\n",
       "</table><p>\n",
       "\n",
       "    <div>\n",
       "        <style>\n",
       "            /* Turns off some styling */\n",
       "            progress {\n",
       "                /* gets rid of default border in Firefox and Opera. */\n",
       "                border: none;\n",
       "                /* Needs to be in here for Safari polyfill so background images work as expected. */\n",
       "                background-size: auto;\n",
       "            }\n",
       "            .progress-bar-interrupted, .progress-bar-interrupted::-webkit-progress-bar {\n",
       "                background: #F44336;\n",
       "            }\n",
       "        </style>\n",
       "      <progress value='50' class='' max='199', style='width:300px; height:20px; vertical-align: middle;'></progress>\n",
       "      25.13% [50/199 00:59<02:56 4.6219]\n",
       "    </div>\n",
       "    "
      ],
      "text/plain": [
       "<IPython.core.display.HTML object>"
      ]
     },
     "metadata": {
      "tags": []
     },
     "output_type": "display_data"
    }
   ],
   "source": [
    "seed_everything()\n",
    "#обучаем модель согласно one cycle policy, что увеличивает скорость и точность обучения\n",
    "#SaveModelCallback сохраняет лучшую модель на основе метрики accuracy\n",
    "learn.fit_one_cycle(15, callbacks=[SaveModelCallback(learn, every='improvement', monitor='accuracy', name='best')])\n",
    "learn.load('best') #загрузка лучшеё модели\n",
    "learn.export() #экспортируем лучшую версию модели"
   ]
  },
  {
   "cell_type": "code",
   "execution_count": 0,
   "metadata": {
    "colab": {
     "base_uri": "https://localhost:8080/",
     "height": 17
    },
    "colab_type": "code",
    "executionInfo": {
     "elapsed": 16457,
     "status": "ok",
     "timestamp": 1578055119560,
     "user": {
      "displayName": "Глеб Якимович",
      "photoUrl": "https://lh3.googleusercontent.com/a-/AAuE7mCkXUZNflL-8TYvMquxrxnlJZhXJQwWw1qNcEjThA=s64",
      "userId": "13279891794640929356"
     },
     "user_tz": -180
    },
    "id": "i-Eck2Ry9g-G",
    "outputId": "430ddfc2-79e5-4e7e-93bb-77a801884b01"
   },
   "outputs": [
    {
     "data": {
      "text/html": [],
      "text/plain": [
       "<IPython.core.display.HTML object>"
      ]
     },
     "metadata": {
      "tags": []
     },
     "output_type": "display_data"
    }
   ],
   "source": [
    "test = ImageList.from_folder('testset/testset') #загружаем тестовые картинки\n",
    "learn = load_learner('train', test=test) #загружаем сохранённую лучшую модель\n",
    "preds, _ = learn.get_preds(ds_type=DatasetType.Test) # получаем предсказания\n",
    "\n",
    "#список самых вероятных меток из предсказанных:\n",
    "labelled_preds = [' '.join([learn.data.classes[i] for i,p in enumerate(pred) if p == max(pred)]) for pred in preds] \n",
    "fnames = [f.name for f in learn.data.test_ds.items] #список имён файлов\n",
    "df = pd.DataFrame({'Id':fnames, 'Expected':labelled_preds}, columns=['Id', 'Expected']) #объединяем всё в датафрэйм"
   ]
  },
  {
   "cell_type": "code",
   "execution_count": 0,
   "metadata": {
    "colab": {},
    "colab_type": "code",
    "id": "_LvYZeek9g-O",
    "outputId": "55556981-a3c6-4dae-8c2b-8e2f61865f1c"
   },
   "outputs": [
    {
     "data": {
      "text/plain": [
       "991"
      ]
     },
     "execution_count": 57,
     "metadata": {
      "tags": []
     },
     "output_type": "execute_result"
    }
   ],
   "source": [
    "len(preds) #проверяем, все ли предсказания получены"
   ]
  },
  {
   "cell_type": "code",
   "execution_count": 0,
   "metadata": {
    "colab": {},
    "colab_type": "code",
    "id": "ZQ2xeTqsESdJ"
   },
   "outputs": [],
   "source": [
    "#сортировка значений в датафрэйме, необходимость появляется именно при выполнении на colab\n",
    "df = df.sort_values('Id', ascending=True)"
   ]
  },
  {
   "cell_type": "code",
   "execution_count": 0,
   "metadata": {
    "colab": {
     "base_uri": "https://localhost:8080/",
     "height": 204
    },
    "colab_type": "code",
    "executionInfo": {
     "elapsed": 487,
     "status": "ok",
     "timestamp": 1578055130606,
     "user": {
      "displayName": "Глеб Якимович",
      "photoUrl": "https://lh3.googleusercontent.com/a-/AAuE7mCkXUZNflL-8TYvMquxrxnlJZhXJQwWw1qNcEjThA=s64",
      "userId": "13279891794640929356"
     },
     "user_tz": -180
    },
    "id": "5aH4pKKZExfX",
    "outputId": "e4b26cea-173f-4f6a-b58a-2c90c6c3514e"
   },
   "outputs": [
    {
     "data": {
      "text/html": [
       "<div>\n",
       "<style scoped>\n",
       "    .dataframe tbody tr th:only-of-type {\n",
       "        vertical-align: middle;\n",
       "    }\n",
       "\n",
       "    .dataframe tbody tr th {\n",
       "        vertical-align: top;\n",
       "    }\n",
       "\n",
       "    .dataframe thead th {\n",
       "        text-align: right;\n",
       "    }\n",
       "</style>\n",
       "<table border=\"1\" class=\"dataframe\">\n",
       "  <thead>\n",
       "    <tr style=\"text-align: right;\">\n",
       "      <th></th>\n",
       "      <th>Id</th>\n",
       "      <th>Expected</th>\n",
       "    </tr>\n",
       "  </thead>\n",
       "  <tbody>\n",
       "    <tr>\n",
       "      <th>185</th>\n",
       "      <td>img0.jpg</td>\n",
       "      <td>nelson_muntz</td>\n",
       "    </tr>\n",
       "    <tr>\n",
       "      <th>809</th>\n",
       "      <td>img1.jpg</td>\n",
       "      <td>bart_simpson</td>\n",
       "    </tr>\n",
       "    <tr>\n",
       "      <th>273</th>\n",
       "      <td>img10.jpg</td>\n",
       "      <td>ned_flanders</td>\n",
       "    </tr>\n",
       "    <tr>\n",
       "      <th>638</th>\n",
       "      <td>img100.jpg</td>\n",
       "      <td>chief_wiggum</td>\n",
       "    </tr>\n",
       "    <tr>\n",
       "      <th>674</th>\n",
       "      <td>img101.jpg</td>\n",
       "      <td>apu_nahasapeemapetilon</td>\n",
       "    </tr>\n",
       "  </tbody>\n",
       "</table>\n",
       "</div>"
      ],
      "text/plain": [
       "             Id                Expected\n",
       "185    img0.jpg            nelson_muntz\n",
       "809    img1.jpg            bart_simpson\n",
       "273   img10.jpg            ned_flanders\n",
       "638  img100.jpg            chief_wiggum\n",
       "674  img101.jpg  apu_nahasapeemapetilon"
      ]
     },
     "execution_count": 14,
     "metadata": {
      "tags": []
     },
     "output_type": "execute_result"
    }
   ],
   "source": [
    "df.head() #проверка правильности отображения данных"
   ]
  },
  {
   "cell_type": "code",
   "execution_count": 0,
   "metadata": {
    "colab": {},
    "colab_type": "code",
    "id": "A4Qo5c349g-R"
   },
   "outputs": [],
   "source": [
    "df.to_csv('submission.csv', index=False) #экспортируем предсказания в csv"
   ]
  },
  {
   "cell_type": "code",
   "execution_count": 0,
   "metadata": {
    "colab": {},
    "colab_type": "code",
    "id": "gwZ0O7aq9g-b"
   },
   "outputs": [],
   "source": []
  }
 ],
 "metadata": {
  "accelerator": "GPU",
  "colab": {
   "collapsed_sections": [],
   "name": "BaseLine 098877.ipynb",
   "provenance": []
  },
  "kernelspec": {
   "display_name": "Python 3",
   "language": "python",
   "name": "python3"
  },
  "language_info": {
   "codemirror_mode": {
    "name": "ipython",
    "version": 3
   },
   "file_extension": ".py",
   "mimetype": "text/x-python",
   "name": "python",
   "nbconvert_exporter": "python",
   "pygments_lexer": "ipython3",
   "version": "3.7.3"
  }
 },
 "nbformat": 4,
 "nbformat_minor": 1
}
