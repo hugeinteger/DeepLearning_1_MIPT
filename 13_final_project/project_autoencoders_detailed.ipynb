{
  "nbformat": 4,
  "nbformat_minor": 0,
  "metadata": {
    "colab": {
      "name": "project_autoencoders_detailed.ipynb",
      "provenance": [],
      "collapsed_sections": [
        "yIYuKFwijN2U",
        "QQnEGmknYY71",
        "x7jA3PRvhAv5",
        "KN3D_k5W_WZz",
        "qA5xi_AvRjrU",
        "M-KAfd5pLCBS"
      ],
      "toc_visible": true
    },
    "kernelspec": {
      "name": "python3",
      "display_name": "Python 3"
    },
    "accelerator": "GPU"
  },
  "cells": [
    {
      "cell_type": "markdown",
      "metadata": {
        "id": "LQ7i1HkmYY68",
        "colab_type": "text"
      },
      "source": [
        "# Autoencoders"
      ]
    },
    {
      "cell_type": "markdown",
      "metadata": {
        "id": "7rYVufslYY7D",
        "colab_type": "text"
      },
      "source": [
        "В этом ноутбуке мы будем тренировать автоэнкодеры кодировать лица людей. Для этого возьмем следующий датасет: \"Labeled Faces in the Wild\" (LFW) (http://vis-www.cs.umass.edu/lfw/). Код для скачивания и загрузки датасета написан за вас в файле get_dataset.py\n"
      ]
    },
    {
      "cell_type": "markdown",
      "metadata": {
        "id": "Wru2LNFuL2Iq",
        "colab_type": "text"
      },
      "source": [
        "# Vanilla Autoencoder (3 балла)"
      ]
    },
    {
      "cell_type": "markdown",
      "metadata": {
        "id": "kr3STtdpYY7G",
        "colab_type": "text"
      },
      "source": [
        "## Download the data"
      ]
    },
    {
      "cell_type": "code",
      "metadata": {
        "id": "2FD96DGF7zPE",
        "colab_type": "code",
        "outputId": "bc7c478e-0ffe-4588-f0e1-3f98a042577b",
        "colab": {
          "base_uri": "https://localhost:8080/",
          "height": 124
        }
      },
      "source": [
        "# mount drive\n",
        "from google.colab import drive\n",
        "drive.mount('/content/gdrive/', force_remount=True)"
      ],
      "execution_count": 1,
      "outputs": [
        {
          "output_type": "stream",
          "text": [
            "Go to this URL in a browser: https://accounts.google.com/o/oauth2/auth?client_id=947318989803-6bn6qk8qdgf4n4g3pfee6491hc0brc4i.apps.googleusercontent.com&redirect_uri=urn%3aietf%3awg%3aoauth%3a2.0%3aoob&response_type=code&scope=email%20https%3a%2f%2fwww.googleapis.com%2fauth%2fdocs.test%20https%3a%2f%2fwww.googleapis.com%2fauth%2fdrive%20https%3a%2f%2fwww.googleapis.com%2fauth%2fdrive.photos.readonly%20https%3a%2f%2fwww.googleapis.com%2fauth%2fpeopleapi.readonly\n",
            "\n",
            "Enter your authorization code:\n",
            "··········\n",
            "Mounted at /content/gdrive/\n"
          ],
          "name": "stdout"
        }
      ]
    },
    {
      "cell_type": "code",
      "metadata": {
        "id": "sy_C97Sg8LvJ",
        "colab_type": "code",
        "colab": {}
      },
      "source": [
        "import numpy as np\n",
        "import os\n",
        "from imageio import imread\n",
        "from PIL import Image\n",
        "import pandas as pd"
      ],
      "execution_count": 0,
      "outputs": []
    },
    {
      "cell_type": "code",
      "metadata": {
        "id": "dAIN3Q3K8Udt",
        "colab_type": "code",
        "colab": {}
      },
      "source": [
        "# set parameters\n",
        "attrs_name = \"lfw_attributes.txt\"\n",
        "images_name = \"lfw-deepfunneled\"\n",
        "dx = 80; dy = 80\n",
        "dimx = 45; dimy = 45"
      ],
      "execution_count": 0,
      "outputs": []
    },
    {
      "cell_type": "code",
      "metadata": {
        "id": "P8ZNCMlp8ilH",
        "colab_type": "code",
        "colab": {}
      },
      "source": [
        "# download\n",
        "#!wget \"http://vis-www.cs.umass.edu/lfw/lfw-deepfunneled.tgz\" -O /content/gdrive/My\\ Drive/tmp.tgz\n",
        "# print(\"extracting...\")\n",
        "# !tar xvzf /content/gdrive/My\\ Drive/tmp.tgz -C /content/gdrive/My\\ Drive/Autoencoders_project && rm /content/gdrive/My\\ Drive/tmp.tgz\n",
        "# print(\"done\")\n",
        "!ln -sf /content/gdrive/My\\ Drive/Autoencoders_project/lfw-deepfunneled lfw-deepfunneled"
      ],
      "execution_count": 0,
      "outputs": []
    },
    {
      "cell_type": "code",
      "metadata": {
        "id": "U5xpreqQCa-f",
        "colab_type": "code",
        "colab": {}
      },
      "source": [
        "# download attrs\n",
        "# !wget \"http://www.cs.columbia.edu/CAVE/databases/pubfig/download/\"\"$attrs_name\" -O /content/gdrive/My\\ Drive/Autoencoders_project/$attrs_name\n",
        "# print(\"done\")\n",
        "!ln -sf /content/gdrive/My\\ Drive/Autoencoders_project/$attrs_name $attrs_name"
      ],
      "execution_count": 0,
      "outputs": []
    },
    {
      "cell_type": "code",
      "metadata": {
        "id": "g4njBPvpD7OC",
        "colab_type": "code",
        "colab": {}
      },
      "source": [
        "# read attrs\n",
        "df_attrs = pd.read_csv(\"lfw_attributes.txt\",sep='\\t',skiprows=1,) \n",
        "df_attrs = pd.DataFrame(df_attrs.iloc[:,:-1].values, columns = df_attrs.columns[1:])\n",
        "#print(df_attrs.columns)\n",
        "#print(df_attrs)"
      ],
      "execution_count": 0,
      "outputs": []
    },
    {
      "cell_type": "code",
      "metadata": {
        "id": "Gprm2jEPEE4a",
        "colab_type": "code",
        "colab": {}
      },
      "source": [
        "# read photos\n",
        "photo_ids = []\n",
        "for dirpath, dirnames, filenames in os.walk(images_name):\n",
        "    for fname in filenames:\n",
        "        if fname.endswith(\".jpg\"):\n",
        "            fpath = os.path.join(dirpath,fname)\n",
        "            photo_id = fname[:-4].replace('_',' ').split()\n",
        "            person_id = ' '.join(photo_id[:-1])\n",
        "            photo_number = int(photo_id[-1])\n",
        "            photo_ids.append({'person':person_id,'imagenum':photo_number,'photo_path':fpath})\n",
        "\n",
        "photo_ids = pd.DataFrame(photo_ids)\n",
        "# print(photo_ids.columns)\n",
        "# print(photo_ids)\n",
        "\n",
        "# mass-merge\n",
        "# (photos now have same order as attributes)\n",
        "df = pd.merge(df_attrs,photo_ids,on=('person','imagenum'))\n",
        "\n",
        "assert len(df)==len(df_attrs),\"lost some data when merging dataframes\"\n",
        "\n",
        "# print(df.shape)"
      ],
      "execution_count": 0,
      "outputs": []
    },
    {
      "cell_type": "code",
      "metadata": {
        "id": "XXwKbHajE08A",
        "colab_type": "code",
        "colab": {}
      },
      "source": [
        "# image preprocessing\n",
        "all_photos =df['photo_path'].apply(imread)\\\n",
        "                            .apply(lambda img:img[dy:-dy,dx:-dx])\\\n",
        "                            .apply(lambda img: np.array(Image.fromarray(img).resize([dimx,dimy])) )\n",
        "\n",
        "all_photos = np.stack(all_photos.values).astype('uint8')\n",
        "all_attrs = df.drop([\"photo_path\", \"person\", \"imagenum\"], axis=1)"
      ],
      "execution_count": 0,
      "outputs": []
    },
    {
      "cell_type": "code",
      "metadata": {
        "id": "ZpYRVK0ed2I7",
        "colab_type": "code",
        "outputId": "6546cf1c-53ba-48c0-fc18-adc22f9be9f6",
        "colab": {
          "base_uri": "https://localhost:8080/",
          "height": 167
        }
      },
      "source": [
        "all_photos"
      ],
      "execution_count": 0,
      "outputs": [
        {
          "output_type": "error",
          "ename": "NameError",
          "evalue": "ignored",
          "traceback": [
            "\u001b[0;31m---------------------------------------------------------------------------\u001b[0m",
            "\u001b[0;31mNameError\u001b[0m                                 Traceback (most recent call last)",
            "\u001b[0;32m<ipython-input-9-b38710172e37>\u001b[0m in \u001b[0;36m<module>\u001b[0;34m()\u001b[0m\n\u001b[0;32m----> 1\u001b[0;31m \u001b[0mall_photos\u001b[0m\u001b[0;34m\u001b[0m\u001b[0;34m\u001b[0m\u001b[0m\n\u001b[0m",
            "\u001b[0;31mNameError\u001b[0m: name 'all_photos' is not defined"
          ]
        }
      ]
    },
    {
      "cell_type": "markdown",
      "metadata": {
        "id": "OMw_W3qO7rO7",
        "colab_type": "text"
      },
      "source": [
        "## Prepare the data\n"
      ]
    },
    {
      "cell_type": "code",
      "metadata": {
        "id": "xTNi9JLRYY7I",
        "colab_type": "code",
        "colab": {}
      },
      "source": [
        "import numpy as np\n",
        "from torch.autograd import Variable\n",
        "import torch.nn as nn\n",
        "import torch.nn.functional as F\n",
        "import torch.optim as optim\n",
        "import torch.utils.data as data_utils\n",
        "import torch\n",
        "import matplotlib.pyplot as plt\n",
        "%matplotlib inline"
      ],
      "execution_count": 0,
      "outputs": []
    },
    {
      "cell_type": "code",
      "metadata": {
        "id": "W3KhlblLYY7P",
        "colab_type": "code",
        "colab": {}
      },
      "source": [
        "# The following line fetches you two datasets: images, usable for autoencoder training and attributes.\n",
        "# Those attributes will be required for the final part of the assignment (applying smiles), so please keep them in mind\n",
        "#from get_dataset import fetch_dataset\n",
        "#data, attrs = fetch_dataset()\n",
        "data, attrs = all_photos, all_attrs"
      ],
      "execution_count": 0,
      "outputs": []
    },
    {
      "cell_type": "code",
      "metadata": {
        "id": "oW_Jsi42YY7T",
        "colab_type": "code",
        "outputId": "6de9fa31-24e3-43cf-b8d5-72e9289c54cf",
        "colab": {
          "base_uri": "https://localhost:8080/",
          "height": 167
        }
      },
      "source": [
        "IMAGE_H = data.shape[1]\n",
        "IMAGE_W = data.shape[2]\n",
        "# у нас цветные изображения\n",
        "N_CHANNELS = 3\n",
        "\n",
        "TRAIN_SIZE = 10000\n",
        "VAL_SIZE = data.shape[0] - TRAIN_SIZE\n",
        "\n",
        "SEED = 42\n",
        "# работаем на видеокарте\n",
        "DEVICE = torch.device(\"cuda\")\n",
        "EPOCHS = 10"
      ],
      "execution_count": 0,
      "outputs": [
        {
          "output_type": "error",
          "ename": "NameError",
          "evalue": "ignored",
          "traceback": [
            "\u001b[0;31m---------------------------------------------------------------------------\u001b[0m",
            "\u001b[0;31mNameError\u001b[0m                                 Traceback (most recent call last)",
            "\u001b[0;32m<ipython-input-1-59d98d0e7cec>\u001b[0m in \u001b[0;36m<module>\u001b[0;34m()\u001b[0m\n\u001b[0;32m----> 1\u001b[0;31m \u001b[0mDEVICE\u001b[0m \u001b[0;34m=\u001b[0m \u001b[0mtorch\u001b[0m\u001b[0;34m.\u001b[0m\u001b[0mdevice\u001b[0m\u001b[0;34m(\u001b[0m\u001b[0;34m\"cuda\"\u001b[0m\u001b[0;34m)\u001b[0m\u001b[0;34m\u001b[0m\u001b[0;34m\u001b[0m\u001b[0m\n\u001b[0m",
            "\u001b[0;31mNameError\u001b[0m: name 'torch' is not defined"
          ]
        }
      ]
    },
    {
      "cell_type": "code",
      "metadata": {
        "id": "_FCY5SbtVyIk",
        "colab_type": "code",
        "colab": {}
      },
      "source": [
        "import random\n",
        "\n",
        "random.seed(SEED)\n",
        "np.random.seed(SEED)\n",
        "torch.manual_seed(SEED)\n",
        "torch.cuda.manual_seed(SEED)\n",
        "torch.backends.cudnn.deterministic = True\n"
      ],
      "execution_count": 0,
      "outputs": []
    },
    {
      "cell_type": "markdown",
      "metadata": {
        "id": "8MSzXXGoYY7X",
        "colab_type": "text"
      },
      "source": [
        "\n",
        "Разбейте выборку картинок на train и val и приведите значения элементов в интервал [0, 1] типа float"
      ]
    },
    {
      "cell_type": "code",
      "metadata": {
        "scrolled": true,
        "id": "dFc8lTm_YY7Y",
        "colab_type": "code",
        "colab": {}
      },
      "source": [
        "indices = np.random.permutation(data.shape[0])\n",
        "training_idx, test_idx = indices[:TRAIN_SIZE], indices[TRAIN_SIZE:]\n",
        "\n",
        "X_train = np.array(data[:TRAIN_SIZE,:] / 255, dtype='float32')\n",
        "X_val = np.array(data[TRAIN_SIZE:,:] / 255, dtype='float32')"
      ],
      "execution_count": 0,
      "outputs": []
    },
    {
      "cell_type": "markdown",
      "metadata": {
        "id": "MES0waD1YY7c",
        "colab_type": "text"
      },
      "source": [
        "Напишем вспомогательную функцию, которая будет выводить n_row $\\cdot$ n_col первых картинок в массиве images:"
      ]
    },
    {
      "cell_type": "code",
      "metadata": {
        "id": "3z2ZvgS0YY7d",
        "colab_type": "code",
        "colab": {}
      },
      "source": [
        "def plot_gallery(images, h, w, n_row=3, n_col=6):\n",
        "    \"\"\"Helper function to plot a gallery of portraits\"\"\"\n",
        "    plt.figure(figsize=(1.5 * n_col, 1.7 * n_row))\n",
        "    plt.subplots_adjust(bottom=0, left=.01, right=.99, top=.90, hspace=.35)\n",
        "    for i in range(n_row * n_col):\n",
        "        plt.subplot(n_row, n_col, i + 1)\n",
        "        try:\n",
        "            plt.imshow(images[i].reshape((h, w, 3)), cmap=plt.cm.gray, vmin=-1, vmax=1, interpolation='nearest')\n",
        "            plt.xticks(())\n",
        "            plt.yticks(())\n",
        "        except:\n",
        "            pass"
      ],
      "execution_count": 0,
      "outputs": []
    },
    {
      "cell_type": "code",
      "metadata": {
        "id": "fk2Vi_vJYY7e",
        "colab_type": "code",
        "outputId": "40fa012c-59b1-476e-a674-73df4f491598",
        "colab": {
          "base_uri": "https://localhost:8080/",
          "height": 365
        }
      },
      "source": [
        "plot_gallery(X_train, IMAGE_H, IMAGE_W)"
      ],
      "execution_count": 0,
      "outputs": [
        {
          "output_type": "display_data",
          "data": {
            "image/png": "[encoded data removed]",
            "text/plain": [
              "<Figure size 648x367.2 with 18 Axes>"
            ]
          },
          "metadata": {
            "tags": []
          }
        }
      ]
    },
    {
      "cell_type": "markdown",
      "metadata": {
        "id": "t-yV79BQYY7g",
        "colab_type": "text"
      },
      "source": [
        "Осталось привести картинки к тензорам из PyTorch, чтобы можно было потом скармливать их автоэнкодеру: "
      ]
    },
    {
      "cell_type": "code",
      "metadata": {
        "id": "H__1M-rKYY7h",
        "colab_type": "code",
        "colab": {}
      },
      "source": [
        "X_train = torch.from_numpy(X_train)\n",
        "X_val = torch.from_numpy(X_val)"
      ],
      "execution_count": 0,
      "outputs": []
    },
    {
      "cell_type": "code",
      "metadata": {
        "id": "ofv1STD9ZNAP",
        "colab_type": "code",
        "colab": {}
      },
      "source": [
        "# send to GPU \n",
        "my_img_tensor.to(device)"
      ],
      "execution_count": 0,
      "outputs": []
    },
    {
      "cell_type": "markdown",
      "metadata": {
        "id": "z9CC-DUhYY7i",
        "colab_type": "text"
      },
      "source": [
        "## Autoencoder\n",
        "\n",
        "Why to use all this complicated formulaes and regularizations, what is the need for variational inference? To analyze the difference, let's first train just an autoencoder on the data:\n",
        "<img src=\"https://i.imgur.com/nVJAtMT.png\" alt=\"Autoencoder\">"
      ]
    },
    {
      "cell_type": "code",
      "metadata": {
        "id": "csrNCYh-YY7j",
        "colab_type": "code",
        "outputId": "1f3a1e4d-86d9-4708-9488-db9dcb261204",
        "colab": {
          "base_uri": "https://localhost:8080/",
          "height": 236
        }
      },
      "source": [
        "inp_size=X_train.shape[1]\n",
        "# размерность промежуточных слоев \n",
        "hid_size=250\n",
        "# размерность среднего слоя - latent dimension\n",
        "dimZ = 100"
      ],
      "execution_count": 0,
      "outputs": [
        {
          "output_type": "error",
          "ename": "NameError",
          "evalue": "ignored",
          "traceback": [
            "\u001b[0;31m---------------------------------------------------------------------------\u001b[0m",
            "\u001b[0;31mNameError\u001b[0m                                 Traceback (most recent call last)",
            "\u001b[0;32m<ipython-input-13-f2e36be9b8aa>\u001b[0m in \u001b[0;36m<module>\u001b[0;34m()\u001b[0m\n\u001b[0;32m----> 1\u001b[0;31m \u001b[0minp_size\u001b[0m\u001b[0;34m=\u001b[0m\u001b[0mX_train\u001b[0m\u001b[0;34m.\u001b[0m\u001b[0mshape\u001b[0m\u001b[0;34m[\u001b[0m\u001b[0;36m1\u001b[0m\u001b[0;34m]\u001b[0m\u001b[0;34m\u001b[0m\u001b[0;34m\u001b[0m\u001b[0m\n\u001b[0m\u001b[1;32m      2\u001b[0m \u001b[0;31m# размерность промежуточных слоев\u001b[0m\u001b[0;34m\u001b[0m\u001b[0;34m\u001b[0m\u001b[0;34m\u001b[0m\u001b[0m\n\u001b[1;32m      3\u001b[0m \u001b[0mhid_size\u001b[0m\u001b[0;34m=\u001b[0m\u001b[0;36m250\u001b[0m\u001b[0;34m\u001b[0m\u001b[0;34m\u001b[0m\u001b[0m\n\u001b[1;32m      4\u001b[0m \u001b[0;31m# размерность среднего слоя - latent dimension\u001b[0m\u001b[0;34m\u001b[0m\u001b[0;34m\u001b[0m\u001b[0;34m\u001b[0m\u001b[0m\n\u001b[1;32m      5\u001b[0m \u001b[0mdimZ\u001b[0m \u001b[0;34m=\u001b[0m \u001b[0;36m100\u001b[0m\u001b[0;34m\u001b[0m\u001b[0;34m\u001b[0m\u001b[0m\n",
            "\u001b[0;31mNameError\u001b[0m: name 'X_train' is not defined"
          ]
        }
      ]
    },
    {
      "cell_type": "markdown",
      "metadata": {
        "id": "Fjr-N8AWee-k",
        "colab_type": "text"
      },
      "source": [
        "Реализуем autoencoder. Архитектуру (conv, fully-connected, ReLu, etc) можете выбирать сами. Экспериментируйте!"
      ]
    },
    {
      "cell_type": "code",
      "metadata": {
        "id": "8SjHNX-rYY7k",
        "colab_type": "code",
        "colab": {}
      },
      "source": [
        "from copy import deepcopy\n",
        "\n",
        "class Autoencoder(nn.Module):\n",
        "    def __init__(self):\n",
        "        super().__init__()\n",
        "        # define encoder\n",
        "        self.encoder = nn.Sequential(\n",
        "            nn.Conv2d(in_channels=3, out_channels=8, kernel_size=3),\n",
        "            nn.ReLU(),\n",
        "            nn.MaxPool2d(kernel_size=2, stride=2), # 8x21x21\n",
        "            nn.Conv2d(in_channels=8, out_channels=16, kernel_size=3),\n",
        "            nn.ReLU(),\n",
        "            nn.MaxPool2d(kernel_size=2, stride=2), # 16x9x9\n",
        "            nn.Linear(16 * 9 * 9, 512),\n",
        "            nn.ReLU(),\n",
        "            nn.Linear(512, dimZ))\n",
        "        \n",
        "        # define encoder\n",
        "        self.decoder = nn.Sequential(             \n",
        "            nn.Linear(dimZ, 512),\n",
        "            nn.ReLU(),\n",
        "            nn.Linear(512, 16 * 9 * 9),\n",
        "            nn.MaxUnpool2d(kernel_size=2, stride=2),\n",
        "            nn.ReLU(),\n",
        "            nn.ConvTranspose2d(in_channels=16, out_channels=8, kernel_size=3),\n",
        "            nn.MaxUnpool2d(kernel_size=2, stride=2),\n",
        "            nn.ReLU(),\n",
        "            nn.ConvTranspose2d(in_channels=8, out_channels=3, kernel_size=3),)\n",
        "        \n",
        "        \n",
        "    def forward(self, x):\n",
        "        # в качестве ваозвращаемых переменных -- латентное представление картинки (latent_code) \n",
        "        # и полученная реконструкция изображения (reconstruction)\n",
        "        latent_code = self.encoder(x)\n",
        "        reconstruction = self.decoder(latent_code)\n",
        "        return reconstruction, latent_code"
      ],
      "execution_count": 0,
      "outputs": []
    },
    {
      "cell_type": "code",
      "metadata": {
        "id": "73lg3bI2YY7m",
        "colab_type": "code",
        "colab": {}
      },
      "source": [
        "autoencoder = Autoencoder().to(DEVICE)\n",
        "print(autoencoder)"
      ],
      "execution_count": 0,
      "outputs": []
    },
    {
      "cell_type": "code",
      "metadata": {
        "id": "Nh7U06idsRlO",
        "colab_type": "code",
        "colab": {}
      },
      "source": [
        "criterion = nn.MSELoss()\n",
        "optimizer = torch.optim.Adam(autoencoder.parameters(), lr=1e-4)"
      ],
      "execution_count": 0,
      "outputs": []
    },
    {
      "cell_type": "markdown",
      "metadata": {
        "id": "Bdxg_3WJYY7o",
        "colab_type": "text"
      },
      "source": [
        "Осталось написать код обучения автоэнкодера. При этом было бы неплохо в процессе иногда смотреть, как автоэнкодер реконструирует изображения на данном этапе обучения. Наример, после каждой эпохи (прогона train выборки через автоэекодер) можно смотреть, какие реконструкции получились для каких-то изображений val выборки.\n",
        "\n",
        "Подсказка: если x_val -- каринка, а reconstruction -- ее реконструкция автоэнкодером, то красиво вывести эту каритинку и ее реконструкцию можно с помощью функции plot_gallery вот так:\n",
        "\n",
        "*plot_gallery([x_val, reconstruction], image_h, image_w, n_row=1, n_col=2)*\n",
        "\n",
        "А, ну еще было бы неплохо выводить графики train и val лоссов в процессе тренировки =)"
      ]
    },
    {
      "cell_type": "code",
      "metadata": {
        "id": "6pEQ-ad_srW0",
        "colab_type": "code",
        "colab": {}
      },
      "source": [
        "def fit_epoch(model, train_data, criterion, optimizer):\n",
        "    running_loss = 0.0\n",
        "    processed_data = 0\n",
        "  \n",
        "    for inputs in train_data:\n",
        "        inputs = inputs.to(DEVICE)\n",
        "        optimizer.zero_grad()\n",
        "\n",
        "        outputs = model(inputs)\n",
        "        loss = criterion(outputs, inputs)\n",
        "        loss.backward()\n",
        "        optimizer.step()\n",
        "\n",
        "        running_loss += loss.item()\n",
        "        processed_data += 1\n",
        "              \n",
        "    train_loss = running_loss / processed_data\n",
        "    return train_loss"
      ],
      "execution_count": 0,
      "outputs": []
    },
    {
      "cell_type": "code",
      "metadata": {
        "scrolled": true,
        "id": "3H3DOojrYY7o",
        "colab_type": "code",
        "colab": {}
      },
      "source": [
        "def train(train_data, val_data, model, epochs):\n",
        "    history = []\n",
        "    log_template = \"\\nEpoch {ep:03d} train_loss: {t_loss:0.4f} \\\n",
        "    val_loss {v_loss:0.4f}\"\n",
        "\n",
        "    for epoch in range(epochs):\n",
        "        train_loss = fit_epoch(model, train_data, criterion, optimizer)\n",
        "        print(\"loss\", train_loss)\n",
        "        \n",
        "        val_loss = eval_epoch(model, val_data, criterion)\n",
        "        history.append((train_loss, val_loss))\n",
        "            \n",
        "    return history"
      ],
      "execution_count": 0,
      "outputs": []
    },
    {
      "cell_type": "markdown",
      "metadata": {
        "id": "FAztAMA4YY7q",
        "colab_type": "text"
      },
      "source": [
        "Давайте посмотрим, как наш тренированный автоэекодер кодирует и восстанавливает картинки:"
      ]
    },
    {
      "cell_type": "code",
      "metadata": {
        "id": "I1J__yvxYY7r",
        "colab_type": "code",
        "colab": {}
      },
      "source": [
        "< тут Ваш код: выведите первые Х картинок и их реконструкций из val выборки на экран>"
      ],
      "execution_count": 0,
      "outputs": []
    },
    {
      "cell_type": "markdown",
      "metadata": {
        "id": "1OPh9O6UYY7s",
        "colab_type": "text"
      },
      "source": [
        "Not bad, right? "
      ]
    },
    {
      "cell_type": "markdown",
      "metadata": {
        "id": "dFi96giuYY7t",
        "colab_type": "text"
      },
      "source": [
        "## Sampling"
      ]
    },
    {
      "cell_type": "markdown",
      "metadata": {
        "id": "AOtUaPNYYY7t",
        "colab_type": "text"
      },
      "source": [
        "Давайте теперь будем не просто брать картинку, прогонять ее через автоэекодер и получать реконструкцию, а попробуем создать что-то НОВОЕ\n",
        "\n",
        "Давайте возьмем и подсунем декодеру какие-нибудь сгенерированные нами векторы (например, из нормального распределения) и посмотрим на результат реконструкции декодера:\n",
        "\n",
        "#### If that doesn't work\n",
        "Если вместо лиц у вас выводится непонятно что, попробуйте посмотреть, как выглядят латентные векторы картинок из датасета. Так как в обучении нейронных сетей есть определенная доля рандома, векторы латентного слоя могут быть распределены НЕ как np.random.randn(25, <latent_space_dim>). А чтобы у нас получались лица при запихивании вектора декодеру, вектор должен быть распределен так же, как лаьентные векторы реальных фоток. Так что ридется рандом подогнать."
      ]
    },
    {
      "cell_type": "code",
      "metadata": {
        "scrolled": true,
        "id": "8IZykARRYY7u",
        "colab_type": "code",
        "colab": {}
      },
      "source": [
        "# сгенерируем 25 рандомных векторов размера latent_space\n",
        "z = np.random.randn(25, <latent_space_dim>)\n",
        "output = <скормите z декодеру>\n",
        "plot_gallery(output.data.cpu().numpy(), IMAGE_H, IMAGE_W, n_row=5, n_col=5)"
      ],
      "execution_count": 0,
      "outputs": []
    },
    {
      "cell_type": "markdown",
      "metadata": {
        "collapsed": true,
        "id": "Ey8dD9s0YY7w",
        "colab_type": "text"
      },
      "source": [
        "## Congrats!\n",
        "\n",
        "Time to make fun!\n",
        "\n",
        "Давайте научимся пририсовывать людям улыбки =)"
      ]
    },
    {
      "cell_type": "markdown",
      "metadata": {
        "id": "i1v-8WwuYY7w",
        "colab_type": "text"
      },
      "source": [
        "<img src=\"https://i.imgur.com/tOE9rDK.png\" alt=\"linear\">"
      ]
    },
    {
      "cell_type": "markdown",
      "metadata": {
        "id": "eGE0M2GDYY7x",
        "colab_type": "text"
      },
      "source": [
        "План такой:\n",
        "\n",
        "1) Нужно выделить \"вектор улыбки\": для этого нужно из выборки изображений найти несколько (~15 сойдет) людей с улыбками и столько же без.\n",
        "\n",
        "Найти людей с улыбками вам поможет файл с описанием датасета, скачанный вместе с датасетом. В нем указаны имена картинок и присутствубщие атрибуты (улыбки, очки...)\n",
        "\n",
        "2) Вычислить латентный вектор для всех улыбающихся людей (прогнать их через encoder) и то же для всех грустненьких\n",
        "\n",
        "3) Вычислить, собственно, вектор улыбки -- посчитать разность между средним латентным вектором улыбающихся людей и средним латентным вектором грустных людей\n",
        "\n",
        "3) А теперь приделаем улыбку грустному человеку: добавим полученный в пункте 3 вектор к латентному вектору грустного чувака и прогоним полученный вектор через decoder. Получим того же человека, но уже не грустненького!"
      ]
    },
    {
      "cell_type": "code",
      "metadata": {
        "id": "f1oBX9EeYY7x",
        "colab_type": "code",
        "colab": {}
      },
      "source": [
        "<а вот тут все это надо запрогать, да>"
      ],
      "execution_count": 0,
      "outputs": []
    },
    {
      "cell_type": "markdown",
      "metadata": {
        "id": "bXI6jprOYY7z",
        "colab_type": "text"
      },
      "source": [
        "Вуаля! Вы восхитительны!"
      ]
    },
    {
      "cell_type": "markdown",
      "metadata": {
        "id": "E2UAf0bpYY70",
        "colab_type": "text"
      },
      "source": [
        "Теперь вы можете пририсовывать людям не только улыбки, но и много чего другого -- закрывать/открывать глаза, пририсовывать очки... в общем, все, на что хватит фантазии)"
      ]
    },
    {
      "cell_type": "markdown",
      "metadata": {
        "id": "yIYuKFwijN2U",
        "colab_type": "text"
      },
      "source": [
        "# Conditional Autoencoder (3 балла)\n"
      ]
    },
    {
      "cell_type": "markdown",
      "metadata": {
        "id": "s4ABYDnLMe1e",
        "colab_type": "text"
      },
      "source": [
        "Мы уже научились обучать обычный AE на датасете картинок и получать новые картинки, используя генерацию шума и декодер. \n",
        "Давайте теперь допустим, что мы обучили AE на датасете MNIST и теперь хотим генерировать новые картинки с числами с помощью декодера (как выше мы генерили рандомные лица). \n",
        "И вот мне понадобилось сгенерировать цифру 8. И я подставляю разные варианты шума, и все никак не генерится восьмерка -- у меня получаются то пятерки, то тройки, то четверки. Гадость(\n",
        "\n",
        "  Хотелось бы добавить к нашему AE функцию \"выдай мне пожалуйста рандомное число из вот этого вот класса\", где классов десять (цифры от 0 до 9 образуют десять классов).\n",
        "  Типа я такая говорю \"выдай мне случайную восьмерку\" и оно генерит случайную восьмерку!\n",
        "\n",
        "Conditional AE -- так называется вид автоэнкодера, который предоставляет такую возможность. Ну, название \"conditional\" уже говорит само за себя.\n",
        "\n",
        "И в этой части проекта мы научимся такие обучать."
      ]
    },
    {
      "cell_type": "markdown",
      "metadata": {
        "id": "sSp3u2vmuMiQ",
        "colab_type": "text"
      },
      "source": [
        "## Архитектура\n",
        "\n",
        "На картинке ниже представлена архитектура простого Conditional AE.\n",
        "\n",
        "По сути, единственное отличие от обычного -- это то, что мы вместе с картинкой в первом слое энкодера и декодера передаем еще информацию о классе картинки. \n",
        "\n",
        "То есть, в первый (входной) слой энкодера есть конкатенация картинки и информации о классе (например, вектора из девяти нулей и одной единицы). Первый слой декодера есть конкатенация латентного вектора и информации о классе."
      ]
    },
    {
      "cell_type": "markdown",
      "metadata": {
        "id": "A5Xu3YuUrjGX",
        "colab_type": "text"
      },
      "source": [
        "\n",
        "![alt text](https://i.ibb.co/2tsWknB/Screen-Shot-2020-01-15-at-9-02-15-PM.png)\n",
        "\n"
      ]
    },
    {
      "cell_type": "markdown",
      "metadata": {
        "id": "g1gA28KVvT5Z",
        "colab_type": "text"
      },
      "source": [
        "Таким образом, при генерации новой рандомной картинки мы должны будем передать декодеру сконкатенированные латентный вектор и класс картинки."
      ]
    },
    {
      "cell_type": "markdown",
      "metadata": {
        "id": "YJa6QD87vqm8",
        "colab_type": "text"
      },
      "source": [
        "### P.S.\n",
        "Можно ередавать класс картинки не только в первый слой, но и в каждый слой сети. То есть на каждом слое конкатенировать выход из предыдущего слоя и информацию о классе."
      ]
    },
    {
      "cell_type": "markdown",
      "metadata": {
        "id": "4ICnlbsAt6Vt",
        "colab_type": "text"
      },
      "source": [
        "### Датасет\n",
        "\n",
        "Как вы уже догадались, здесь мы будем использовать датасет MNIST (http://yann.lecun.com/exdb/mnist/)\n",
        "\n",
        "Если он вам очень не нравится, можете загуглить любой другой, в котором будет четкое разделение картинок по классам."
      ]
    },
    {
      "cell_type": "code",
      "metadata": {
        "id": "zvn50Lf_v2j9",
        "colab_type": "code",
        "colab": {}
      },
      "source": [
        "<тут надо обработать датасет, построить и обучить Conditional AE (код обычного AE прекрасно берется за основу)>"
      ],
      "execution_count": 0,
      "outputs": []
    },
    {
      "cell_type": "markdown",
      "metadata": {
        "id": "mxVAEW0ywF6W",
        "colab_type": "text"
      },
      "source": [
        "## Sampling\n"
      ]
    },
    {
      "cell_type": "code",
      "metadata": {
        "id": "yyV0vcFiwTDO",
        "colab_type": "code",
        "colab": {}
      },
      "source": [
        "<тут нужно научиться сэмплировать из декодера цифры определенного класса>"
      ],
      "execution_count": 0,
      "outputs": []
    },
    {
      "cell_type": "markdown",
      "metadata": {
        "id": "JnxBdgmE0lMG",
        "colab_type": "text"
      },
      "source": [
        "Splendid! Вы великолепны!\n",
        "\n",
        "Теперь давайте сделаем следующее: посмотрим на то, как выглядит латентное пространство векторов, соответствующих нашим картинкам. \n",
        "Для этого вам нужно:\n",
        "1.  прогнать картинки из датасета через encoder, получить латентные векторы\n",
        "2. Прогнать векторы через TSNE, получить их двумерную проекцию\n",
        "3. Изобразить полученные после TSNE двумерные векторы на плоскости с помощью plt.scatter, покрасив точки в цвета в зависимости от класса картинки, которой она соответствует. (как красить точки, см. в документации к plt.scatter). \n",
        "4. Подумать, что вы видите и записать свои мысли"
      ]
    },
    {
      "cell_type": "code",
      "metadata": {
        "id": "aylvuymY2dwl",
        "colab_type": "code",
        "colab": {}
      },
      "source": [
        "<тут код получения латентных векторов, прогона через TSNE и рисования scatter plot>"
      ],
      "execution_count": 0,
      "outputs": []
    },
    {
      "cell_type": "markdown",
      "metadata": {
        "id": "W_Y5iVuu2kJ2",
        "colab_type": "text"
      },
      "source": [
        "<тут ваши мысли по поводу того, что вы видите на рисунке>"
      ]
    },
    {
      "cell_type": "markdown",
      "metadata": {
        "id": "QQnEGmknYY71",
        "colab_type": "text"
      },
      "source": [
        "# BONUS 1. (2 балла) \n",
        "### Variational Autoencoder"
      ]
    },
    {
      "cell_type": "markdown",
      "metadata": {
        "id": "bWQNRjJq2uTz",
        "colab_type": "text"
      },
      "source": [
        "Если вы (надеюсь) осознали, в каком месте у conditional AE выше могли бы быть проблемы, то -- тадам!!\n",
        "\n",
        "Представляю вам проапгрейдженную версию автоэнкодеров -- вариационные автоэнкодеры."
      ]
    },
    {
      "cell_type": "markdown",
      "metadata": {
        "id": "nb5AHMcxYY73",
        "colab_type": "text"
      },
      "source": [
        "https://towardsdatascience.com/intuitively-understanding-variational-autoencoders-1bfe67eb5daf"
      ]
    },
    {
      "cell_type": "code",
      "metadata": {
        "id": "IoNVT5tYYY74",
        "colab_type": "code",
        "colab": {}
      },
      "source": [
        "class VAE(nn.Module):\n",
        "    def __init__(self):\n",
        "        <определите архитектуры encoder и decoder\n",
        "        помните, у encoder должны быть два \"хвоста\", \n",
        "        т.е. encoder должен кодировать картинку в 2 переменные -- mu и logsigma>\n",
        "\n",
        "    def encode(self, x):\n",
        "        <реализуйте forward проход энкодера\n",
        "        в качестве ваозвращаемых переменных -- mu и logsigma>\n",
        "        \n",
        "        return mu, logsigma\n",
        "    \n",
        "    def gaussian_sampler(self, mu, logsigma):\n",
        "        \"\"\"\n",
        "        Функция сэмплирует латентные векторы из нормального распределения с параметрами mu и sigma\n",
        "        \"\"\"\n",
        "        if self.training:\n",
        "            std = logsigma.exp_()\n",
        "            eps = Variable(std.data.new(std.size()).normal_())\n",
        "            return eps.mul(std).add_(mu)\n",
        "        else:\n",
        "            return mu\n",
        "    \n",
        "    def decode(self, z):\n",
        "        <реализуйте forward проход декодера\n",
        "        в качестве ваозвращаемой переменной -- reconstruction>\n",
        "        \n",
        "        return reconstruction\n",
        "\n",
        "    def forward(self, x):\n",
        "        <используя encode и decode, реализуйте forward проход автоэнкодера\n",
        "        в качестве ваозвращаемых переменных -- mu, logsigma и reconstruction>\n",
        "        return mu, logsigma, mu_z, reconstruction"
      ],
      "execution_count": 0,
      "outputs": []
    },
    {
      "cell_type": "markdown",
      "metadata": {
        "id": "hAB77d-PYY76",
        "colab_type": "text"
      },
      "source": [
        "Определим лосс и его компоненты для VAE:"
      ]
    },
    {
      "cell_type": "code",
      "metadata": {
        "id": "ac5ey7uIYY77",
        "colab_type": "code",
        "colab": {}
      },
      "source": [
        "def KL_divergence(mu, logsigma):\n",
        "    \"\"\"\n",
        "    часть функции потерь, которая отвечает за \"близость\" латентных представлений разных людей\n",
        "    \"\"\"\n",
        "    return -(1/2) * (1 + 2*logsigma - mu**2 - torch.exp(logsigma)**2).sum(dim=-1)\n",
        "\n",
        "def log_likelihood(x, reconstruction):\n",
        "    \"\"\"\n",
        "    часть функции потерь, которая отвечает за качество реконструкции (как mse в обычном autoencoder)\n",
        "    \"\"\"\n",
        "    loss = nn.BCELoss()\n",
        "    return loss(reconstruction, x)\n",
        "\n",
        "def loss_vae(x, mu, logsigma, reconstruction):\n",
        "    return -(-KL_divergence(mu, logsigma) + log_likelihood(x, reconstruction)).mean()"
      ],
      "execution_count": 0,
      "outputs": []
    },
    {
      "cell_type": "markdown",
      "metadata": {
        "id": "ZPJQu70eYY79",
        "colab_type": "text"
      },
      "source": [
        "И обучим модель:"
      ]
    },
    {
      "cell_type": "code",
      "metadata": {
        "id": "dtCjfqXdYY79",
        "colab_type": "code",
        "colab": {}
      },
      "source": [
        "criterion = <MSE LOSS>\n",
        "\n",
        "autoencoder = Autoencoder()\n",
        "\n",
        "optimizer = <Ваш любимый оптимизатор>"
      ],
      "execution_count": 0,
      "outputs": []
    },
    {
      "cell_type": "code",
      "metadata": {
        "scrolled": true,
        "id": "rY1khca6YY7_",
        "colab_type": "code",
        "colab": {}
      },
      "source": [
        "<обучите модель, как и autoencoder>"
      ],
      "execution_count": 0,
      "outputs": []
    },
    {
      "cell_type": "markdown",
      "metadata": {
        "scrolled": true,
        "id": "SkxW_8fkYY8B",
        "colab_type": "text"
      },
      "source": [
        "Давайте посмотрим, как наш тренированный VAE кодирует и восстанавливает картинки:"
      ]
    },
    {
      "cell_type": "code",
      "metadata": {
        "id": "4Jd3BWM_YY8C",
        "colab_type": "code",
        "colab": {}
      },
      "source": [
        "< тут Ваш код: выведите первые Х картинок и их реконструкций из val выборки на экран>"
      ],
      "execution_count": 0,
      "outputs": []
    },
    {
      "cell_type": "markdown",
      "metadata": {
        "id": "N0jI-FKEYY8E",
        "colab_type": "text"
      },
      "source": [
        "And finally sample from VAE."
      ]
    },
    {
      "cell_type": "markdown",
      "metadata": {
        "id": "Po-KV8E8YY8F",
        "colab_type": "text"
      },
      "source": [
        "## Sampling"
      ]
    },
    {
      "cell_type": "markdown",
      "metadata": {
        "id": "PQXYIXjoYY8F",
        "colab_type": "text"
      },
      "source": [
        "Давайте попробуем проделать для VAE то же, что и с обычным автоэнкодером -- подсунуть decoder'у из VAE случайные векторы из нормального распределения и посмотреть, какие лица получатся:"
      ]
    },
    {
      "cell_type": "code",
      "metadata": {
        "id": "bOhhH-osYY8G",
        "colab_type": "code",
        "colab": {}
      },
      "source": [
        "# вспомните про замечание из этого же ункта обычного AE про распределение латентных переменных\n",
        "z = np.array([np.random.normal(0, 1, 100) for i in range(10)])\n",
        "output = <скормите z декодеру>\n",
        "plot_gallery(output.data.cpu().numpy(), IMAGE_H, IMAGE_W, n_row=2, n_col=5)"
      ],
      "execution_count": 0,
      "outputs": []
    },
    {
      "cell_type": "markdown",
      "metadata": {
        "id": "ESPBHrL3YY8H",
        "colab_type": "text"
      },
      "source": [
        "## Congrats v2.0!\n",
        "\n",
        "Как вы уже догадались, здесь тоже можно попробовать пририсовывать разные атрибуты людям. Можно, например, так же пририсовать улыбки и сравнить с тем, как это получалось у обычного автоэнкодера"
      ]
    },
    {
      "cell_type": "code",
      "metadata": {
        "id": "tq-hgOk-YY8I",
        "colab_type": "code",
        "colab": {}
      },
      "source": [
        "<как вы уже догадались, тут Ваш код>"
      ],
      "execution_count": 0,
      "outputs": []
    },
    {
      "cell_type": "markdown",
      "metadata": {
        "id": "x7jA3PRvhAv5",
        "colab_type": "text"
      },
      "source": [
        "# BONUS 2. (2 балла)"
      ]
    },
    {
      "cell_type": "markdown",
      "metadata": {
        "id": "woSjtsK63Lan",
        "colab_type": "text"
      },
      "source": [
        "А теперь пришло время сделать \n",
        "## Conditional Variational AE"
      ]
    },
    {
      "cell_type": "code",
      "metadata": {
        "id": "cZf-Dr9-hFAt",
        "colab_type": "code",
        "colab": {}
      },
      "source": [
        "<тут обучение Conditional Variational AE>"
      ],
      "execution_count": 0,
      "outputs": []
    },
    {
      "cell_type": "markdown",
      "metadata": {
        "id": "Rt2S77cm3O1v",
        "colab_type": "text"
      },
      "source": [
        "... и так же посмотреть на латентное пространство векторов VAE, как мы делали это с обычным variational AE, понять, чем же оно отличается и сделать выводы:"
      ]
    },
    {
      "cell_type": "code",
      "metadata": {
        "id": "LSCYK7sH3KEc",
        "colab_type": "code",
        "colab": {}
      },
      "source": [
        "<тут код>"
      ],
      "execution_count": 0,
      "outputs": []
    },
    {
      "cell_type": "markdown",
      "metadata": {
        "id": "ET8IELWu3Z2c",
        "colab_type": "text"
      },
      "source": [
        "<тут выводы>"
      ]
    },
    {
      "cell_type": "markdown",
      "metadata": {
        "id": "KN3D_k5W_WZz",
        "colab_type": "text"
      },
      "source": [
        "# BONUS 3. (2 балла)"
      ]
    },
    {
      "cell_type": "markdown",
      "metadata": {
        "id": "12a1jkpkCsIU",
        "colab_type": "text"
      },
      "source": [
        "У автоэнкодеров, кроме сжатия и генерации изображений, есть другие практические применения. Про одно из них это бонксное задание."
      ]
    },
    {
      "cell_type": "markdown",
      "metadata": {
        "id": "v8EN-8jlCtmd",
        "colab_type": "text"
      },
      "source": [
        "Автоэнкодеры могут быть использованы для избавления от шума на фотографиях (denoising). Для этого их нужно обучить специальным образом: input картинка будет зашумленной, а выдавать автоэнкодер должен будет картинку без шума. \n",
        "То есть, loss-функция AE останется той же (MSE между реальной картинкой и выданной), а на вход автоэнкодеру будет подаваться зашумленная картинка."
      ]
    },
    {
      "cell_type": "markdown",
      "metadata": {
        "id": "ysI0BCuRDbvm",
        "colab_type": "text"
      },
      "source": [
        "Для того, чтобы поставить эксперимент, нужно взять ваш любимый датасет (датасет лиц или MSE с прошлых заданий или любой другой) и сделать копию этого датасета с шумом. \n",
        "\n",
        "В питоне шум можно добавить так:"
      ]
    },
    {
      "cell_type": "code",
      "metadata": {
        "id": "X5e746iVDgSm",
        "colab_type": "code",
        "colab": {}
      },
      "source": [
        "noise_factor = 0.5\n",
        "X_noisy = X + noise_factor * np.random.normal(loc=0.0, scale=1.0, size=X.shape) "
      ],
      "execution_count": 0,
      "outputs": []
    },
    {
      "cell_type": "code",
      "metadata": {
        "id": "9fSPkXMtDpd5",
        "colab_type": "code",
        "colab": {}
      },
      "source": [
        "<тут ваш код обучения автоэнкодера на зашумленных картинках. Не забудтье разбить на train/test!>"
      ],
      "execution_count": 0,
      "outputs": []
    },
    {
      "cell_type": "code",
      "metadata": {
        "id": "B03NQ_sKDvg2",
        "colab_type": "code",
        "colab": {}
      },
      "source": [
        "<тут проверка, как AE убирает щум с тестовых картинок. Надеюсь, все получилось =)>"
      ],
      "execution_count": 0,
      "outputs": []
    },
    {
      "cell_type": "markdown",
      "metadata": {
        "id": "qA5xi_AvRjrU",
        "colab_type": "text"
      },
      "source": [
        "# Bonus 4. (2+ балла)"
      ]
    },
    {
      "cell_type": "markdown",
      "metadata": {
        "id": "dHEYlsVHRzIE",
        "colab_type": "text"
      },
      "source": [
        "Пишем телеграм-бота!\n",
        "\n",
        "Можно написать телеграм-бота, которому на вход вы подаете, например, картинку без улыбки, а он вам возвращает с улыбкой.\n",
        "\n",
        "Или еще много вариантов, чего может уметь делать бот. Придумайте сами)"
      ]
    },
    {
      "cell_type": "markdown",
      "metadata": {
        "id": "M-KAfd5pLCBS",
        "colab_type": "text"
      },
      "source": [
        "# Эпилог"
      ]
    },
    {
      "cell_type": "markdown",
      "metadata": {
        "id": "SDI06AONLYKG",
        "colab_type": "text"
      },
      "source": [
        "здесь мы рассмотрели не все применения автоэнкодеров. Еще есть, например:\n",
        "\n",
        "-- поиск аномалий\n",
        "-- дополнение отсутствующих частей картины\n",
        "-- работа с sequential данными (например, временными рядами)\n",
        "-- гибриды ГАН+АЕ, которые активно изучаются в последнее время\n",
        "-- использование латентных переменных АЕ в качестве фичей\n",
        "...\n",
        "\n",
        "Они не были частью этого проекта, потому что для их реализации пришлось бы больше возиться с датасетами. \n",
        "\n",
        "Но! Если вы хотите, вы, конечно, всегда можете реализовать еще что-то и получить за это еще допбаллы."
      ]
    },
    {
      "cell_type": "markdown",
      "metadata": {
        "id": "bBCiWOicLwLI",
        "colab_type": "text"
      },
      "source": [
        "Надеюсь, вам понравилось!"
      ]
    }
  ]
}