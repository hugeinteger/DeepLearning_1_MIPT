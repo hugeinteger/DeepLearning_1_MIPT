{
 "cells": [
  {
   "cell_type": "markdown",
   "metadata": {
    "colab_type": "text",
    "id": "KxIquH6GK7kt"
   },
   "source": [
    "<p style=\"align: center;\"><img align=center src=\"https://s8.hostingkartinok.com/uploads/images/2018/08/308b49fcfbc619d629fe4604bceb67ac.jpg\" width=500 height=450/></p>\n",
    "\n",
    "<h3 style=\"text-align: center;\"><b>\"Глубокое обучение\". Продвинутый поток</b></h3>\n",
    "\n",
    "<h2 style=\"text-align: center;\"><b>Домашнее задание 2. Библиотека Numpy и линейная алгебра.\n",
    "</b></h2>"
   ]
  },
  {
   "cell_type": "markdown",
   "metadata": {
    "colab_type": "text",
    "id": "h8gsBtzoGEhe"
   },
   "source": [
    "---"
   ]
  },
  {
   "cell_type": "code",
   "execution_count": 1,
   "metadata": {
    "colab": {},
    "colab_type": "code",
    "id": "YEJ8DQ4QK7kx"
   },
   "outputs": [],
   "source": [
    "import numpy as np\n",
    "import random\n",
    "import scipy.stats as sps"
   ]
  },
  {
   "cell_type": "markdown",
   "metadata": {
    "colab_type": "text",
    "id": "5_eFZpeoK7k2"
   },
   "source": [
    "### Numpy"
   ]
  },
  {
   "cell_type": "markdown",
   "metadata": {
    "colab_type": "text",
    "id": "hYXhVX0eK7k2"
   },
   "source": [
    "### Задание 1\n",
    "В первой задаче вам предлагается перемножить две квадратные матрицы двумя способами -- без использования пакета ***numpy*** и с ним."
   ]
  },
  {
   "cell_type": "code",
   "execution_count": 0,
   "metadata": {
    "colab": {
     "base_uri": "https://localhost:8080/",
     "height": 295
    },
    "colab_type": "code",
    "id": "zJR8EANzK7k3",
    "outputId": "60ec7dd7-df4c-4f61-878d-b35b8dc8db87"
   },
   "outputs": [
    {
     "name": "stdout",
     "output_type": "stream",
     "text": [
      "2 (100, 100)\n",
      "[4, 4, 4, 4]\n",
      "[[0.81444147 0.5771695  0.99938183 ... 0.92199147 0.18554125 0.53061109]\n",
      " [0.57524722 0.40290354 0.81341824 ... 0.66024247 0.85642688 0.75942655]\n",
      " [0.13981637 0.22169724 0.65459725 ... 0.18718818 0.23564331 0.99795304]\n",
      " ...\n",
      " [0.27739395 0.76040179 0.90613036 ... 0.12098131 0.02936325 0.07940973]\n",
      " [0.56535459 0.66485084 0.26542942 ... 0.78382669 0.64013563 0.3911131 ]\n",
      " [0.17579683 0.32602199 0.75620382 ... 0.02489133 0.48535457 0.33055937]]\n",
      "[[0.84092963 0.58028767 0.46520166 ... 0.3613074  0.65325455 0.99298672]\n",
      " [0.22968741 0.40832616 0.52057294 ... 0.59877814 0.23056045 0.39534739]\n",
      " [0.23124157 0.62141914 0.59818211 ... 0.25415258 0.3992672  0.34489402]\n",
      " ...\n",
      " [0.84542295 0.42513768 0.43931212 ... 0.76317173 0.44653392 0.09083107]\n",
      " [0.22727724 0.35154837 0.85823244 ... 0.81852075 0.03194845 0.63178754]\n",
      " [0.40432991 0.97772962 0.99907375 ... 0.15185317 0.83842076 0.13550568]]\n"
     ]
    }
   ],
   "source": [
    "import numpy as np\n",
    "# Для генерации матриц используем фукнцию random -- она используется для генерации случайных объектов \n",
    "# функция sample создает случайную выборку. В качестве аргумента ей передается кортеж (i,j),  \n",
    "# здесь i -- число строк, j -- число столбцов.\n",
    "a = np.random.sample((100, 100))\n",
    "b = np.random.sample((100, 100))\n",
    "# выведите размерность (ранг) каждой матрицы с помощью функции ndim.\n",
    "# Используйте функцию shape, что она вывела?\n",
    "\n",
    "\n",
    "# ========\n",
    "# Ваш код здесь\n",
    "print(a.ndim, a.shape)\n",
    "\n",
    "flist = [ [1, 3, 4, 5],[1, 3, 4, 5], [1, 3, 4, 5],[1, 3, 4, 5]]\n",
    "\n",
    "print([flist[j][2]  for j in range(len(flist))] )\n",
    "\n",
    "# ========\n",
    "print(a)\n",
    "print(b)"
   ]
  },
  {
   "cell_type": "code",
   "execution_count": 0,
   "metadata": {
    "colab": {},
    "colab_type": "code",
    "id": "bkWCI4TPK7k8"
   },
   "outputs": [],
   "source": [
    "def mult(a, b):\n",
    "#     lst = []\n",
    "#     tmp = []\n",
    "#     x = 0.0\n",
    "#     for i in range(a.shape[0]):\n",
    "#         for j in range(b.shape[1]):\n",
    "#             for k in range(b.shape[0]):\n",
    "#                 x += a[i][k]*b[k][j]\n",
    "#             tmp.append(x)\n",
    "#             x = 0.0\n",
    "#         print(tmp)\n",
    "#         lst.append(list(tmp))\n",
    "#         tmp = []\n",
    "#     print(lst)\n",
    "    \n",
    "    def vector_mult(av, bv):\n",
    "      return sum([av[i]*bv[i] for i in range(a.shape[1])])\n",
    "  \n",
    "  \n",
    "    prod_list = [[vector_mult(a[i, :], b[:, j]) for j in range(a.shape[1])] for i in range(a.shape[1])]\n",
    "\n",
    "   \n",
    "  \n",
    "  \n",
    "    return prod_list"
   ]
  },
  {
   "cell_type": "code",
   "execution_count": 0,
   "metadata": {
    "colab": {},
    "colab_type": "code",
    "id": "IIgYD1W5K7lB"
   },
   "outputs": [],
   "source": [
    "def np_mult(a, b):\n",
    "    \n",
    "  \n",
    "    return np.dot(a,b)"
   ]
  },
  {
   "cell_type": "code",
   "execution_count": 0,
   "metadata": {
    "colab": {
     "base_uri": "https://localhost:8080/",
     "height": 52
    },
    "colab_type": "code",
    "id": "TmD0adgHK7lK",
    "outputId": "4bcb4158-b83b-4ade-f9df-724812500cac"
   },
   "outputs": [
    {
     "name": "stdout",
     "output_type": "stream",
     "text": [
      "CPU times: user 240 µs, sys: 4.94 ms, total: 5.18 ms\n",
      "Wall time: 6.4 ms\n"
     ]
    }
   ],
   "source": [
    "%%time\n",
    "# засечем время работы функции с NumPy\n",
    "M2 = np_mult(a, b)"
   ]
  },
  {
   "cell_type": "code",
   "execution_count": 0,
   "metadata": {
    "colab": {
     "base_uri": "https://localhost:8080/",
     "height": 52
    },
    "colab_type": "code",
    "id": "tktkYzUHK7lE",
    "outputId": "36315d46-d6a3-41a3-d099-9d98b838fe44"
   },
   "outputs": [
    {
     "name": "stdout",
     "output_type": "stream",
     "text": [
      "CPU times: user 339 ms, sys: 0 ns, total: 339 ms\n",
      "Wall time: 349 ms\n"
     ]
    }
   ],
   "source": [
    "%%time\n",
    "# засечем время работы функции без NumPy\n",
    "M1 = mult(a, b)\n"
   ]
  },
  {
   "cell_type": "code",
   "execution_count": 0,
   "metadata": {
    "colab": {
     "base_uri": "https://localhost:8080/",
     "height": 35
    },
    "colab_type": "code",
    "id": "6AbSqk8ZDBGt",
    "outputId": "69fa996c-37cf-4936-88a1-7dc2be98c526"
   },
   "outputs": [
    {
     "name": "stdout",
     "output_type": "stream",
     "text": [
      "100\n"
     ]
    }
   ],
   "source": [
    "print(len(M1))"
   ]
  },
  {
   "cell_type": "code",
   "execution_count": 0,
   "metadata": {
    "colab": {
     "base_uri": "https://localhost:8080/",
     "height": 35
    },
    "colab_type": "code",
    "id": "oftqyANQK7lS",
    "outputId": "251e582e-21a2-4eb6-ad6e-8c846c4375e3"
   },
   "outputs": [
    {
     "data": {
      "text/plain": [
       "1.3571366253017914e-11"
      ]
     },
     "execution_count": 31,
     "metadata": {
      "tags": []
     },
     "output_type": "execute_result"
    }
   ],
   "source": [
    "# проверим корректность\n",
    "np.abs(np.array(M1) - M2).sum()"
   ]
  },
  {
   "cell_type": "code",
   "execution_count": 0,
   "metadata": {
    "colab": {
     "base_uri": "https://localhost:8080/",
     "height": 35
    },
    "colab_type": "code",
    "id": "lZnVUPyI7Ruy",
    "outputId": "617cd517-a11a-4378-dd0c-69b917f68223"
   },
   "outputs": [
    {
     "name": "stdout",
     "output_type": "stream",
     "text": [
      "3\n"
     ]
    }
   ],
   "source": [
    "a = [[23, 32, 234], [23, 465, 56]]\n",
    "print(len(a[0]))"
   ]
  },
  {
   "cell_type": "code",
   "execution_count": 0,
   "metadata": {
    "colab": {},
    "colab_type": "code",
    "id": "99NMcU33UNhS"
   },
   "outputs": [],
   "source": [
    "import numpy as np\n",
    "\n",
    "def no_numpy_mult(first, second):\n",
    "    \"\"\"\n",
    "    param first: list of \"size\" lists, each contains \"size\" floats\n",
    "    param first: list of \"size\" lists, each contains \"size\" floats\n",
    "    \"\"\"\n",
    "    result = [[0 for j in range(second.shape[1])] for i in range(first.shape[0])]\n",
    "    print(result)\n",
    "    for i in range(first.shape[0]):\n",
    "        for j in range(second.shape[1]):\n",
    "            for k in range(second.shape[0]):\n",
    "                result[i][j] += first[i][k]*second[k][j]\n",
    "    return result\n",
    "\n",
    "def numpy_mult(first, second):\n",
    "    return np.dot(first, second)"
   ]
  },
  {
   "cell_type": "code",
   "execution_count": 0,
   "metadata": {
    "colab": {
     "base_uri": "https://localhost:8080/",
     "height": 121
    },
    "colab_type": "code",
    "id": "S0ObrsWSUV4C",
    "outputId": "e8f14275-be07-477a-99c2-5ceff6701ab8"
   },
   "outputs": [
    {
     "name": "stdout",
     "output_type": "stream",
     "text": [
      "[[1 0]\n",
      " [0 1]]\n",
      "[[1 2]\n",
      " [3 4]]\n",
      "[[0, 0], [0, 0]]\n",
      "[[1, 2], [3, 4]]\n"
     ]
    }
   ],
   "source": [
    "a = np.array([[1, 0], [0, 1]])\n",
    "b = np.array([[1, 2], [3, 4]])\n",
    "print(a)\n",
    "print(b)\n",
    "print(no_numpy_mult(a, b))"
   ]
  },
  {
   "cell_type": "markdown",
   "metadata": {
    "colab_type": "text",
    "id": "2itTyTlcaHAu"
   },
   "source": [
    "### Задание 2"
   ]
  },
  {
   "cell_type": "markdown",
   "metadata": {
    "colab_type": "text",
    "id": "BCemQSq-aEbO"
   },
   "source": [
    "Вам подаются на вход два вектора `a` и `b` в трехмерном пространстве. Заполните их случайными числами. Реализуйте их скалярное произведение с помощью  `NumPy` и без. Засеките время работы, как это показано в заданиях выше."
   ]
  },
  {
   "cell_type": "code",
   "execution_count": 3,
   "metadata": {
    "colab": {
     "base_uri": "https://localhost:8080/",
     "height": 107
    },
    "colab_type": "code",
    "id": "lJ5KaCwTXaqj",
    "outputId": "49a35f49-66fe-4474-9b55-c345240f7a45"
   },
   "outputs": [
    {
     "name": "stdout",
     "output_type": "stream",
     "text": [
      "14\n",
      "14\n"
     ]
    },
    {
     "name": "stderr",
     "output_type": "stream",
     "text": [
      "C:\\ProgramData\\Anaconda3\\lib\\site-packages\\ipykernel_launcher.py:4: DeprecationWarning: Calling np.sum(generator) is deprecated, and in the future will give a different result. Use np.sum(np.fromiter(generator)) or the python sum builtin instead.\n",
      "  after removing the cwd from sys.path.\n"
     ]
    }
   ],
   "source": [
    "import numpy as np\n",
    "\n",
    "def no_numpy_scalar(v1, v2):\n",
    "    return np.sum(v1[i]*v2[i] for i in range(len(v1)))\n",
    "\n",
    "def numpy_scalar (v1, v2):\n",
    "    return np.dot(v1, v2)\n",
    "v1 = [0, 1, 2]\n",
    "v2 = [3, 4, 5]\n",
    "print(no_numpy_scalar(v1, v2))\n",
    "print(numpy_scalar(v1, v2))"
   ]
  },
  {
   "cell_type": "code",
   "execution_count": 4,
   "metadata": {
    "colab": {
     "base_uri": "https://localhost:8080/",
     "height": 235
    },
    "colab_type": "code",
    "id": "lWhr_gPSZ9o_",
    "outputId": "651ac067-2343-44b2-9d64-f4fbb1d36f37"
   },
   "outputs": [
    {
     "name": "stdout",
     "output_type": "stream",
     "text": [
      "[0.33018484 0.25571163 0.40346574] [0.80777312 0.20755242 0.97790298]\n"
     ]
    }
   ],
   "source": [
    "a = np.random.sample((1, 3))\n",
    "a = list(a)[0]\n",
    "b = np.random.sample((1, 3))\n",
    "b = list(b)[0]\n",
    "print(a, b)"
   ]
  },
  {
   "cell_type": "code",
   "execution_count": 5,
   "metadata": {
    "colab": {
     "base_uri": "https://localhost:8080/",
     "height": 398
    },
    "colab_type": "code",
    "id": "BOQfYf-2aCQJ",
    "outputId": "a331601f-939c-45fe-ad10-dcac660259c8",
    "scrolled": true
   },
   "outputs": [
    {
     "name": "stdout",
     "output_type": "stream",
     "text": [
      "Wall time: 999 µs\n",
      "Wall time: 0 ns\n"
     ]
    },
    {
     "name": "stderr",
     "output_type": "stream",
     "text": [
      "C:\\ProgramData\\Anaconda3\\lib\\site-packages\\ipykernel_launcher.py:4: DeprecationWarning: Calling np.sum(generator) is deprecated, and in the future will give a different result. Use np.sum(np.fromiter(generator)) or the python sum builtin instead.\n",
      "  after removing the cwd from sys.path.\n"
     ]
    },
    {
     "data": {
      "text/plain": [
       "0.0"
      ]
     },
     "execution_count": 5,
     "metadata": {},
     "output_type": "execute_result"
    }
   ],
   "source": [
    "%time product_1 = no_numpy_scalar(a,b)\n",
    "%time product_2 = numpy_scalar(a,b)\n",
    "# проверим корректность:\n",
    "np.abs(product_1 - product_2).sum()"
   ]
  },
  {
   "cell_type": "markdown",
   "metadata": {
    "colab_type": "text",
    "id": "NHaHu6q1K7mH"
   },
   "source": [
    "Почему методы ***numpy*** оказываются эффективнее? Что вы можете сказать о скорости вычислений в NumPy?"
   ]
  },
  {
   "cell_type": "markdown",
   "metadata": {
    "colab_type": "text",
    "id": "StLAtJ-tQlfR"
   },
   "source": [
    "------------------"
   ]
  },
  {
   "cell_type": "markdown",
   "metadata": {
    "colab_type": "text",
    "id": "_A3p2s4eK7mI"
   },
   "source": [
    "**Ответ:** Скорость вычислений вектоных и матричных операций в NumPy сильно превосходит скорость вычислений без него, по большей части потому, что функции numpy работаю с массивами данных одного типа (числовыми), это позволяет реализовать встроенные функции numpy на C/C++, что, конечно, делает numpy быстрее (функции, которые вызывает Numpy для работы с числовыми данными, сильно оптимизированы именно под эти задачи, а сам Python просто гоняет интерпретатор по циклу в таких операциях, что является чуть ли не самым большим замедлением в работе интерпретатора)."
   ]
  },
  {
   "cell_type": "code",
   "execution_count": 0,
   "metadata": {
    "colab": {},
    "colab_type": "code",
    "id": "bTt0OmsJYNpy"
   },
   "outputs": [],
   "source": []
  },
  {
   "cell_type": "markdown",
   "metadata": {
    "colab_type": "text",
    "id": "mJXeUuznK7lm"
   },
   "source": [
    "### Задание 3\n",
    "Напишите функцию, которая находим сумму четных диагональныех элементов квадратной матрицы. Если таких элементов нет, то вывести `0`."
   ]
  },
  {
   "cell_type": "code",
   "execution_count": 15,
   "metadata": {
    "colab": {},
    "colab_type": "code",
    "id": "MjxKxv-bQlfW"
   },
   "outputs": [],
   "source": [
    "# функция, решающая задачу с помощью NumPy\n",
    "def np_diag_2k(a):\n",
    "    result = sum([x if x%2==0 else 0 for x in np.diagonal(a)])\n",
    "    # result = np.sum(np.diag(a)[np.diag(a)%2==0])\n",
    "    return result"
   ]
  },
  {
   "cell_type": "code",
   "execution_count": 16,
   "metadata": {
    "colab": {
     "base_uri": "https://localhost:8080/",
     "height": 102
    },
    "colab_type": "code",
    "id": "h_oazhcNQlfZ",
    "outputId": "2d89432c-a215-498a-c80e-36d5cf8bc25c"
   },
   "outputs": [
    {
     "name": "stdout",
     "output_type": "stream",
     "text": [
      "[[4 8 4 5 3]\n",
      " [4 9 3 6 2]\n",
      " [9 5 1 3 4]\n",
      " [4 5 5 6 9]\n",
      " [8 9 2 6 3]]\n",
      "[4 9 1 6 3]\n",
      "[4, 0, 0, 6, 0]\n",
      "10\n"
     ]
    }
   ],
   "source": [
    "# зададим некоторую квадратную матрицу\n",
    "a = np.random.randint(1, 10, size=(5, 5))\n",
    "print(a)\n",
    "print(np.diagonal(a))\n",
    "print([x if x%2==0 else 0 for x in np.diagonal(a)])\n",
    "print(np_diag_2k(a))"
   ]
  },
  {
   "cell_type": "code",
   "execution_count": 0,
   "metadata": {
    "colab": {
     "base_uri": "https://localhost:8080/",
     "height": 34
    },
    "colab_type": "code",
    "id": "RRVzPIKIYRbP",
    "outputId": "4cab5674-d94a-4366-ba83-0d8495b2ba16"
   },
   "outputs": [
    {
     "data": {
      "text/plain": [
       "10"
      ]
     },
     "execution_count": 45,
     "metadata": {
      "tags": []
     },
     "output_type": "execute_result"
    }
   ],
   "source": [
    "np.sum(list(filter(lambda x: x % 2 == 0, np.diag(a))))"
   ]
  },
  {
   "cell_type": "code",
   "execution_count": 0,
   "metadata": {
    "colab": {
     "base_uri": "https://localhost:8080/",
     "height": 72
    },
    "colab_type": "code",
    "id": "_9jg1CuWQlfc",
    "outputId": "6be0ca7a-be69-4905-f8e0-198023d5ba0c"
   },
   "outputs": [
    {
     "name": "stdout",
     "output_type": "stream",
     "text": [
      "CPU times: user 43 µs, sys: 11 µs, total: 54 µs\n",
      "Wall time: 57.2 µs\n"
     ]
    },
    {
     "data": {
      "text/plain": [
       "16"
      ]
     },
     "execution_count": 19,
     "metadata": {
      "tags": []
     },
     "output_type": "execute_result"
    }
   ],
   "source": [
    "%%time\n",
    "# засечем время работы функции с NumPy\n",
    "np_diag_2k(a)"
   ]
  },
  {
   "cell_type": "markdown",
   "metadata": {
    "colab_type": "text",
    "id": "D-N46M-tQlff"
   },
   "source": [
    "### Задание 4\n",
    "На вход дан двумерный массив $X$. Напишите функцию, которая для каждой строчки $x = (x_1, x_2, \\ldots, x_n)$ массива $X$  строит строчку $s = (s_1, s_2, \\ldots, s_n)$, где $s_k=x_1+...+x_k$, а затем выдаёт массив из построенных строчек. Используйте библиотеку numpy (вам поможет функция cumsum). Выходом функции должен быть двумерный массив той же формы, что и $X$."
   ]
  },
  {
   "cell_type": "code",
   "execution_count": 23,
   "metadata": {
    "colab": {},
    "colab_type": "code",
    "id": "lrkiG7oAaD7Y"
   },
   "outputs": [],
   "source": [
    "import numpy as np\n",
    "\n",
    "def cumsum(A):\n",
    "    result = np.cumsum(A, 1)\n",
    "    return result"
   ]
  },
  {
   "cell_type": "code",
   "execution_count": 25,
   "metadata": {
    "colab": {
     "base_uri": "https://localhost:8080/",
     "height": 85
    },
    "colab_type": "code",
    "id": "LxSLtkYbakcP",
    "outputId": "b4964f15-1130-43bf-d817-00c1acf4f799"
   },
   "outputs": [
    {
     "name": "stdout",
     "output_type": "stream",
     "text": [
      "[[1 2 2]\n",
      " [3 3 1]\n",
      " [1 5 5]\n",
      " [2 3 3]]\n",
      "[[ 1  3  5]\n",
      " [ 3  6  7]\n",
      " [ 1  6 11]\n",
      " [ 2  5  8]]\n"
     ]
    }
   ],
   "source": [
    "X = np.array([[1, 2, 2], [3, 3, 1], [1, 5, 5], [2, 3, 3]])\n",
    "print(X)\n",
    "print(cumsum(X))"
   ]
  },
  {
   "cell_type": "markdown",
   "metadata": {
    "colab_type": "text",
    "id": "2InIez3ZQlfw"
   },
   "source": [
    "### Задание 5\n",
    "Написать функцию для кодирование массива (Run-length encoding). Все подряд повторения элементов функция сжимает в один элемент и считает количество повторений. Функция возвращает кортеж из двух векторов одинаковой длины. Первый содержит элементы, а второй — сколько раз их нужно повторить. \n",
    "\n",
    "Пример: encode(np.array([1, 2, 2, 3, 3, 1, 1, 5, 5, 2, 3, 3])) = (np.array[1, 2, 3, 1, 5, 2, 3]), np.array[1, 2, 2, 2, 2, 1, 2])"
   ]
  },
  {
   "cell_type": "code",
   "execution_count": 73,
   "metadata": {
    "colab": {
     "base_uri": "https://localhost:8080/",
     "height": 34
    },
    "colab_type": "code",
    "id": "Ug7c71c_dBEF",
    "outputId": "3683b467-294d-4c99-88da-eb4b27660c64"
   },
   "outputs": [
    {
     "data": {
      "text/plain": [
       "(array([1, 2, 3, 1, 5, 2, 3]), array([1, 2, 2, 3, 2, 1, 2], dtype=int64))"
      ]
     },
     "execution_count": 73,
     "metadata": {},
     "output_type": "execute_result"
    }
   ],
   "source": [
    "import numpy as np\n",
    "\n",
    "def encode(a):\n",
    "    # elements, repetitions = np.unique(a, return_counts=True)\n",
    "    indices = np.r_[np.flatnonzero(np.diff(a)), len(a) - 1]\n",
    "    elements = a[indices]\n",
    "    repetitions = np.r_[indices[0] + 1, np.diff(indices)]\n",
    "    return elements, repetitions\n",
    "  \n",
    "encode(np.array([1, 2, 2, 3, 3, 1, 1, 1, 5, 5, 2, 3, 3]))"
   ]
  },
  {
   "cell_type": "code",
   "execution_count": 74,
   "metadata": {
    "colab": {
     "base_uri": "https://localhost:8080/",
     "height": 72
    },
    "colab_type": "code",
    "id": "zMaDQdNBQlf0",
    "outputId": "4003d60e-cb64-4ecb-c6b6-dd8d0a70cc79"
   },
   "outputs": [
    {
     "name": "stdout",
     "output_type": "stream",
     "text": [
      "Wall time: 0 ns\n"
     ]
    }
   ],
   "source": [
    "X = np.array([1, 2, 2, 3, 3, 1, 1, 5, 5, 2, 3, 3])\n",
    "\n",
    "%time x, num = encode(X)"
   ]
  },
  {
   "cell_type": "markdown",
   "metadata": {
    "colab_type": "text",
    "id": "teVCPWZmK7l5"
   },
   "source": [
    "### Задание 6\n",
    "\n",
    "Задан двумерный массив $X$. Для каждой строчки массива $X$ необходимо сделать следующее преобразование.\n",
    "\n",
    "Пусть дана строчка $x$. Необходимо построить новый массив, где все элементы с нечетными индексами требуется заменить на число $a$ (значение по умолчанию $a$=1). Все элементы с четными индексами нужно возвести в куб. Затем записать элементы в обратном порядке относительно их позиций. В конце требуется слить массив $x$ с преобразованным $x$ и вывести.\n",
    "\n",
    "Напишите функцию, которая выполняет данное преобразование для каждой строчки двумерного массива $X$. Массив $X$ при этом должен остаться без изменений.\n",
    "\n",
    "\n",
    "Пример:  \n",
    "X = [100, 200, 300, 400, 500] -> [100, a, 300, a, 500] -> [500^3, a, 300^3, a, 100^3] -> склеиваем -> [100, 200, 300, 400, 500, 500^3, a, 300^3, a, 100^3]"
   ]
  },
  {
   "cell_type": "code",
   "execution_count": 110,
   "metadata": {
    "colab": {
     "base_uri": "https://localhost:8080/",
     "height": 118
    },
    "colab_type": "code",
    "id": "W41ww9OLgdM0",
    "outputId": "6d102ad7-782a-4d72-e532-86a21923c12a"
   },
   "outputs": [
    {
     "name": "stdout",
     "output_type": "stream",
     "text": [
      "[[ 1  2  3  4  5]\n",
      " [ 6  7  8  9 10]]\n",
      "[[   1    2    3    4    5  125   -1   27   -1    1]\n",
      " [   6    7    8    9   10 1000   -1  512   -1  216]]\n"
     ]
    }
   ],
   "source": [
    "import numpy as np\n",
    "import copy\n",
    "\n",
    "\n",
    "def transform(X, a=1):\n",
    "    b = np.array(X[:, ::-1])\n",
    "    b[:, 0::2] **= 3\n",
    "    b[:, 1::2] = a\n",
    "    X = np.concatenate((X, b), axis=1)\n",
    "    return X\n",
    "\n",
    "X = np.array([[1, 2, 3, 4, 5], [6, 7, 8, 9, 10]])\n",
    "print(X)\n",
    "print(transform(X, -1))"
   ]
  },
  {
   "cell_type": "code",
   "execution_count": 0,
   "metadata": {
    "colab": {},
    "colab_type": "code",
    "id": "a2ngCxzlz0Ir"
   },
   "outputs": [],
   "source": []
  }
 ],
 "metadata": {
  "colab": {
   "collapsed_sections": [],
   "name": "[homework, prodv]3_numpy.ipynb",
   "provenance": []
  },
  "kernelspec": {
   "display_name": "Python 3",
   "language": "python",
   "name": "python3"
  },
  "language_info": {
   "codemirror_mode": {
    "name": "ipython",
    "version": 3
   },
   "file_extension": ".py",
   "mimetype": "text/x-python",
   "name": "python",
   "nbconvert_exporter": "python",
   "pygments_lexer": "ipython3",
   "version": "3.7.3"
  }
 },
 "nbformat": 4,
 "nbformat_minor": 1
}
