{
 "cells": [
  {
   "cell_type": "markdown",
   "metadata": {
    "colab_type": "text",
    "id": "LYCbBYAoK01P"
   },
   "source": [
    "<p style=\"align: center;\"><img align=center src=\"https://s8.hostingkartinok.com/uploads/images/2018/08/308b49fcfbc619d629fe4604bceb67ac.jpg\" width=500 height=450/></p>\n",
    "\n",
    "<h3 style=\"text-align: center;\"><b>Физтех-Школа Прикладной математики и информатики (ФПМИ) МФТИ</b></h3>\n"
   ]
  },
  {
   "cell_type": "markdown",
   "metadata": {
    "colab_type": "text",
    "id": "WCndMFM25mhM"
   },
   "source": [
    "---"
   ]
  },
  {
   "cell_type": "markdown",
   "metadata": {
    "colab_type": "text",
    "id": "Jv3wM2EJK01Q"
   },
   "source": [
    "<h2 style=\"text-align: center;\"><b>Python. Занятие 2: Numpy, Scipy</b></h2>"
   ]
  },
  {
   "cell_type": "markdown",
   "metadata": {
    "colab_type": "text",
    "id": "ZFb530GdK01R"
   },
   "source": [
    "<img align=left src=\"https://cdn.fedoramagazine.org/wp-content/uploads/2015/11/Python_logo.png\" width=400 height=250/>\n",
    "\n",
    "<img src=\"https://steemit-production-imageproxy-thumbnail.s3.amazonaws.com/DQmPzrCtkniAypHNkuGgEdqcmzzCxD6xCYKD7uFNDyZQLTv_1680x8400\" width=400 height=200 />"
   ]
  },
  {
   "cell_type": "markdown",
   "metadata": {
    "colab_type": "text",
    "id": "6FcX8uOqK01S"
   },
   "source": [
    "#### При подготовке ноутбука использовался сайт: http://www.inp.nsk.su/~grozin/python/"
   ]
  },
  {
   "cell_type": "markdown",
   "metadata": {
    "colab_type": "text",
    "id": "GB_0NqPUK01T"
   },
   "source": [
    "---"
   ]
  },
  {
   "cell_type": "markdown",
   "metadata": {
    "colab_type": "text",
    "id": "kBGnvjStK01T"
   },
   "source": [
    "## Библиотека NumPy"
   ]
  },
  {
   "cell_type": "markdown",
   "metadata": {
    "colab_type": "text",
    "id": "Iug83l7wK01U"
   },
   "source": [
    "Пакет **`NumPy`** предоставляет $n$-мерные однородные массивы (все элементы одного типа); в них нельзя вставить или удалить элемент в произвольном месте. В `numpy` реализовано много операций над массивами в целом. Если задачу можно решить, произведя некоторую последовательность операций над массивами, то это будет столь же эффективно, как в `C` или `matlab`, поскольку функции этой библиотеки реализованы на C, и мы просто вызываем из из питона."
   ]
  },
  {
   "cell_type": "code",
   "execution_count": 2,
   "metadata": {
    "colab": {},
    "colab_type": "code",
    "id": "zB8-qzXEK01V"
   },
   "outputs": [],
   "source": [
    "# стандартное название для импорта numpy - np\n",
    "import numpy as np\n",
    "import math"
   ]
  },
  {
   "cell_type": "code",
   "execution_count": 0,
   "metadata": {
    "colab": {},
    "colab_type": "code",
    "id": "2_IOYl5-K01Y"
   },
   "outputs": [],
   "source": [
    "# from numpy import *\n",
    "# как и влюбом другом языке и библиотке, так делать нельзя. Вы очень быстро запутаетесь в функциях из numpy \n",
    "# и запутаете всех, кто читает ваш код"
   ]
  },
  {
   "cell_type": "markdown",
   "metadata": {
    "colab_type": "text",
    "id": "f6y8_ITBK01Y"
   },
   "source": [
    "## Векторы и матрицы в numpy"
   ]
  },
  {
   "cell_type": "markdown",
   "metadata": {
    "colab_type": "text",
    "id": "3k5eaQgGHLJD"
   },
   "source": [
    "* **Одномерные массивы**. Я предполагаю, что почти все знают про обычные массивы и про операции над ними. Они выглядят следующим образом:"
   ]
  },
  {
   "cell_type": "code",
   "execution_count": 4,
   "metadata": {
    "colab": {
     "base_uri": "https://localhost:8080/",
     "height": 34
    },
    "colab_type": "code",
    "id": "A8y4lFcdHLJD",
    "outputId": "1e520d53-013f-4979-f9eb-b3677a96fc32"
   },
   "outputs": [
    {
     "name": "stdout",
     "output_type": "stream",
     "text": [
      "[3, 4, 1]\n"
     ]
    }
   ],
   "source": [
    "x = [3, 4, 1]\n",
    "print(x)"
   ]
  },
  {
   "cell_type": "markdown",
   "metadata": {
    "colab_type": "text",
    "id": "dHYKof4KK01b"
   },
   "source": [
    "Давайте преобразуем наш массив в __numpy__ массив:"
   ]
  },
  {
   "cell_type": "code",
   "execution_count": 5,
   "metadata": {
    "colab": {
     "base_uri": "https://localhost:8080/",
     "height": 34
    },
    "colab_type": "code",
    "id": "rffXuWJaK01c",
    "outputId": "d93f7cf1-acf2-4ce4-bacb-d1dd1e5d3ab2"
   },
   "outputs": [
    {
     "name": "stdout",
     "output_type": "stream",
     "text": [
      "[3 4 1] <class 'numpy.ndarray'>\n"
     ]
    }
   ],
   "source": [
    "a = np.array(x)\n",
    "print(a, type(a))"
   ]
  },
  {
   "cell_type": "markdown",
   "metadata": {
    "colab_type": "text",
    "id": "iLQtJmH0K01g"
   },
   "source": [
    "`print` печатает массивы в удобной форме."
   ]
  },
  {
   "cell_type": "code",
   "execution_count": 6,
   "metadata": {
    "colab": {
     "base_uri": "https://localhost:8080/",
     "height": 34
    },
    "colab_type": "code",
    "id": "QGFfGuPtK01h",
    "outputId": "4aed6bf1-46b7-4794-88cc-de85641dfed4"
   },
   "outputs": [
    {
     "name": "stdout",
     "output_type": "stream",
     "text": [
      "[0.03370787 0.04494382 0.01123596]\n"
     ]
    }
   ],
   "source": [
    "print(a/89)"
   ]
  },
  {
   "cell_type": "markdown",
   "metadata": {
    "colab_type": "text",
    "id": "Kxxjms2DaSBX"
   },
   "source": [
    "* **Многомерные массивы**"
   ]
  },
  {
   "cell_type": "code",
   "execution_count": 9,
   "metadata": {
    "colab": {
     "base_uri": "https://localhost:8080/",
     "height": 34
    },
    "colab_type": "code",
    "id": "9J22jldfaSBZ",
    "outputId": "671e51e6-ca95-45b2-a487-eea3c31d8f91"
   },
   "outputs": [
    {
     "name": "stdout",
     "output_type": "stream",
     "text": [
      "[[3, 4, 1], [1, 2, 3]]\n"
     ]
    }
   ],
   "source": [
    "# Простая матричка\n",
    "x = [[3, 4, 1],\n",
    "     [1, 2, 3]]\n",
    "print(x)"
   ]
  },
  {
   "cell_type": "code",
   "execution_count": 10,
   "metadata": {
    "colab": {
     "base_uri": "https://localhost:8080/",
     "height": 51
    },
    "colab_type": "code",
    "id": "wvbw-zhdaSBe",
    "outputId": "e6ad109e-24be-4f47-df59-f243b629e1d1"
   },
   "outputs": [
    {
     "name": "stdout",
     "output_type": "stream",
     "text": [
      "[[3 4 1]\n",
      " [1 2 3]]\n"
     ]
    }
   ],
   "source": [
    "a = np.array(x)\n",
    "print(a)"
   ]
  },
  {
   "cell_type": "code",
   "execution_count": 11,
   "metadata": {
    "colab": {
     "base_uri": "https://localhost:8080/",
     "height": 215
    },
    "colab_type": "code",
    "id": "GPeALYOLaSBi",
    "outputId": "538e2254-4f4a-4bee-a195-42cab95373c1",
    "scrolled": true
   },
   "outputs": [
    {
     "name": "stdout",
     "output_type": "stream",
     "text": [
      "[[[1, 2, 3], [4, 5, 6]], [[7, 8, 9], [10, 11, 12]]]\n"
     ]
    }
   ],
   "source": [
    "# Реально многомерный массив\n",
    "x = [\n",
    "        [ [1, 2, 3], [4, 5, 6]],\n",
    "        [ [7, 8, 9], [10, 11, 12]] \n",
    "    ]\n",
    "print(x)"
   ]
  },
  {
   "cell_type": "code",
   "execution_count": 12,
   "metadata": {
    "colab": {
     "base_uri": "https://localhost:8080/",
     "height": 119
    },
    "colab_type": "code",
    "id": "-SeTuAAjaSBl",
    "outputId": "e2b479c5-f387-4633-a21b-e4dd77c6eb6a"
   },
   "outputs": [
    {
     "name": "stdout",
     "output_type": "stream",
     "text": [
      "[[[ 1  2  3]\n",
      "  [ 4  5  6]]\n",
      "\n",
      " [[ 7  8  9]\n",
      "  [10 11 12]]]\n"
     ]
    }
   ],
   "source": [
    "a = np.array(x)\n",
    "print(a)"
   ]
  },
  {
   "cell_type": "markdown",
   "metadata": {
    "colab_type": "text",
    "id": "tv2xp3kjaSBo"
   },
   "source": [
    "Как мы видим, для numpy нет никакой разницы, сколько измерений у матрицы, все они представляются numpy.ndarray"
   ]
  },
  {
   "cell_type": "markdown",
   "metadata": {
    "colab_type": "text",
    "id": "Tjm58y2OaSBq"
   },
   "source": [
    "# Типы данных в numpy"
   ]
  },
  {
   "cell_type": "markdown",
   "metadata": {
    "colab_type": "text",
    "id": "6tBmi8DrHLJR"
   },
   "source": [
    "`numpy` предоставляет несколько типов для целых (`int16`, `int32`, `int64`) и чисел с плавающей точкой (`float32`, `float64`)."
   ]
  },
  {
   "cell_type": "code",
   "execution_count": 13,
   "metadata": {
    "colab": {
     "base_uri": "https://localhost:8080/",
     "height": 34
    },
    "colab_type": "code",
    "id": "XROlITuVHLJR",
    "outputId": "36dcaeb6-7d5e-41af-8746-c497f973db77"
   },
   "outputs": [
    {
     "data": {
      "text/plain": [
       "(dtype('int32'), 'int32', 4)"
      ]
     },
     "execution_count": 13,
     "metadata": {},
     "output_type": "execute_result"
    }
   ],
   "source": [
    "a.dtype, a.dtype.name, a.itemsize"
   ]
  },
  {
   "cell_type": "code",
   "execution_count": 14,
   "metadata": {
    "colab": {
     "base_uri": "https://localhost:8080/",
     "height": 34
    },
    "colab_type": "code",
    "id": "bYMWEBdmHLJV",
    "outputId": "be1718c4-d33b-4948-97c4-c49efe2e538f"
   },
   "outputs": [
    {
     "data": {
      "text/plain": [
       "dtype('float64')"
      ]
     },
     "execution_count": 14,
     "metadata": {},
     "output_type": "execute_result"
    }
   ],
   "source": [
    "b = np.array([0., 2, 1])\n",
    "b.dtype"
   ]
  },
  {
   "cell_type": "markdown",
   "metadata": {
    "colab_type": "text",
    "id": "4gsvp2fjHLJY"
   },
   "source": [
    "Точно такой же массив."
   ]
  },
  {
   "cell_type": "code",
   "execution_count": 15,
   "metadata": {
    "colab": {
     "base_uri": "https://localhost:8080/",
     "height": 34
    },
    "colab_type": "code",
    "id": "ZrJbtW3OHLJY",
    "outputId": "0325330d-bff8-4b14-ecdc-7cdc4cc0c7ea"
   },
   "outputs": [
    {
     "name": "stdout",
     "output_type": "stream",
     "text": [
      "[0.1 2.  1. ]\n"
     ]
    }
   ],
   "source": [
    "c = np.array([0.1, 2, 1], dtype=np.float64)\n",
    "print(c)"
   ]
  },
  {
   "cell_type": "markdown",
   "metadata": {
    "colab_type": "text",
    "id": "-U7vEzu-HLJe"
   },
   "source": [
    "Преобразование данных"
   ]
  },
  {
   "cell_type": "code",
   "execution_count": 16,
   "metadata": {
    "colab": {
     "base_uri": "https://localhost:8080/",
     "height": 68
    },
    "colab_type": "code",
    "id": "51ZSoCJJHLJg",
    "outputId": "bd9382ce-afd1-4e10-d215-447b99ae90a2"
   },
   "outputs": [
    {
     "name": "stdout",
     "output_type": "stream",
     "text": [
      "float64\n",
      "[0 2 1]\n",
      "['0.1' '2.0' '1.0']\n"
     ]
    }
   ],
   "source": [
    "print(c.dtype)\n",
    "print(c.astype(int))\n",
    "print(c.astype(str))"
   ]
  },
  {
   "cell_type": "markdown",
   "metadata": {
    "colab_type": "text",
    "id": "AhMuoHJ3HLJm"
   },
   "source": [
    "Так для чего нам нужны эти массивы, почему нам может не хватать возможностей обычных массивов?"
   ]
  },
  {
   "cell_type": "markdown",
   "metadata": {
    "colab_type": "text",
    "id": "49Hkkuc0K01k"
   },
   "source": [
    "# Методы массивов в numpy\n",
    "Класс `ndarray` имеет много методов."
   ]
  },
  {
   "cell_type": "code",
   "execution_count": 17,
   "metadata": {
    "colab": {
     "base_uri": "https://localhost:8080/",
     "height": 54
    },
    "colab_type": "code",
    "id": "j7W2JXyH9Yy9",
    "outputId": "4f651a07-40f9-4162-bab3-e1619ad9526e"
   },
   "outputs": [
    {
     "name": "stdout",
     "output_type": "stream",
     "text": [
      "['T', '__abs__', '__add__', '__and__', '__array__', '__array_finalize__', '__array_function__', '__array_interface__', '__array_prepare__', '__array_priority__', '__array_struct__', '__array_ufunc__', '__array_wrap__', '__bool__', '__class__', '__complex__', '__contains__', '__copy__', '__deepcopy__', '__delattr__', '__delitem__', '__dir__', '__divmod__', '__doc__', '__eq__', '__float__', '__floordiv__', '__format__', '__ge__', '__getattribute__', '__getitem__', '__gt__', '__hash__', '__iadd__', '__iand__', '__ifloordiv__', '__ilshift__', '__imatmul__', '__imod__', '__imul__', '__index__', '__init__', '__init_subclass__', '__int__', '__invert__', '__ior__', '__ipow__', '__irshift__', '__isub__', '__iter__', '__itruediv__', '__ixor__', '__le__', '__len__', '__lshift__', '__lt__', '__matmul__', '__mod__', '__mul__', '__ne__', '__neg__', '__new__', '__or__', '__pos__', '__pow__', '__radd__', '__rand__', '__rdivmod__', '__reduce__', '__reduce_ex__', '__repr__', '__rfloordiv__', '__rlshift__', '__rmatmul__', '__rmod__', '__rmul__', '__ror__', '__rpow__', '__rrshift__', '__rshift__', '__rsub__', '__rtruediv__', '__rxor__', '__setattr__', '__setitem__', '__setstate__', '__sizeof__', '__str__', '__sub__', '__subclasshook__', '__truediv__', '__xor__', 'all', 'any', 'argmax', 'argmin', 'argpartition', 'argsort', 'astype', 'base', 'byteswap', 'choose', 'clip', 'compress', 'conj', 'conjugate', 'copy', 'ctypes', 'cumprod', 'cumsum', 'data', 'diagonal', 'dot', 'dtype', 'dump', 'dumps', 'fill', 'flags', 'flat', 'flatten', 'getfield', 'imag', 'item', 'itemset', 'itemsize', 'max', 'mean', 'min', 'nbytes', 'ndim', 'newbyteorder', 'nonzero', 'partition', 'prod', 'ptp', 'put', 'ravel', 'real', 'repeat', 'reshape', 'resize', 'round', 'searchsorted', 'setfield', 'setflags', 'shape', 'size', 'sort', 'squeeze', 'std', 'strides', 'sum', 'swapaxes', 'take', 'tobytes', 'tofile', 'tolist', 'tostring', 'trace', 'transpose', 'var', 'view']\n"
     ]
    }
   ],
   "source": [
    "print(dir(a))"
   ]
  },
  {
   "cell_type": "markdown",
   "metadata": {
    "colab_type": "text",
    "id": "fkxB2f57aSCC"
   },
   "source": [
    "## Одномерные массивы\n",
    "* числовые операции и нахождение статистик"
   ]
  },
  {
   "cell_type": "code",
   "execution_count": 18,
   "metadata": {
    "colab": {},
    "colab_type": "code",
    "id": "t43hJQPyaSCD"
   },
   "outputs": [],
   "source": [
    "x = [1, 2, 0, 3, 4]\n",
    "a = np.array(x)"
   ]
  },
  {
   "cell_type": "code",
   "execution_count": 19,
   "metadata": {
    "colab": {
     "base_uri": "https://localhost:8080/",
     "height": 34
    },
    "colab_type": "code",
    "id": "SLqJ9iQu8h9J",
    "outputId": "528940a1-f6f7-47f1-9ac6-7ae697b1c8b5",
    "scrolled": true
   },
   "outputs": [
    {
     "data": {
      "text/plain": [
       "(1.4142135623730951, 10, 0, 0, 4, 2.0)"
      ]
     },
     "execution_count": 19,
     "metadata": {},
     "output_type": "execute_result"
    }
   ],
   "source": [
    "# У массивов можно легко и быстро посчитать разные статистики\n",
    "a.std(), a.sum(), a.prod(), a.min(), a.max(), a.mean()"
   ]
  },
  {
   "cell_type": "code",
   "execution_count": 26,
   "metadata": {
    "colab": {
     "base_uri": "https://localhost:8080/",
     "height": 85
    },
    "colab_type": "code",
    "id": "VRnGSSDXaSCK",
    "outputId": "d5514394-cf79-4ed6-997a-ff4330c8ec35"
   },
   "outputs": [
    {
     "data": {
      "text/plain": [
       "(array([2, 4, 0, 6, 8]),\n",
       " array([0.5, 1. , 0. , 1.5, 2. ]),\n",
       " array([2, 3, 1, 4, 5]),\n",
       " array([ 0,  1, -1,  2,  3]))"
      ]
     },
     "execution_count": 26,
     "metadata": {},
     "output_type": "execute_result"
    }
   ],
   "source": [
    "# массивы можно умножать и складывать со скалярами и другими массивами, операции проходят поэлементно\n",
    "a * 2, a / 2, a + 1, a - 1"
   ]
  },
  {
   "cell_type": "code",
   "execution_count": 23,
   "metadata": {
    "colab": {
     "base_uri": "https://localhost:8080/",
     "height": 119
    },
    "colab_type": "code",
    "id": "Hm-9q9XGaSCN",
    "outputId": "4f1f037c-7a00-4dca-84ce-4f6fc77028af"
   },
   "outputs": [
    {
     "name": "stderr",
     "output_type": "stream",
     "text": [
      "C:\\ProgramData\\Anaconda3\\lib\\site-packages\\ipykernel_launcher.py:1: RuntimeWarning: invalid value encountered in true_divide\n",
      "  \"\"\"Entry point for launching an IPython kernel.\n"
     ]
    },
    {
     "data": {
      "text/plain": [
       "(array([2, 4, 0, 6, 8]),\n",
       " array([ 1,  4,  0,  9, 16]),\n",
       " array([ 1.,  1., nan,  1.,  1.]),\n",
       " array([ 1,  4,  0,  9, 16], dtype=int32))"
      ]
     },
     "execution_count": 23,
     "metadata": {},
     "output_type": "execute_result"
    }
   ],
   "source": [
    "a + a, a * a, a / a, a ** 2"
   ]
  },
  {
   "cell_type": "code",
   "execution_count": 27,
   "metadata": {
    "colab": {
     "base_uri": "https://localhost:8080/",
     "height": 266
    },
    "colab_type": "code",
    "id": "29ugcejkHLJs",
    "outputId": "79149e69-82e2-4e9d-e3e6-56c52dae3dec"
   },
   "outputs": [
    {
     "name": "stdout",
     "output_type": "stream",
     "text": [
      "<class 'list'>\n",
      "[1, 2, 0, 3, 4]\n",
      "[1, 2, 0, 3, 4, 1, 2, 0, 3, 4]\n",
      "[1, 2, 0, 3, 4, 1, 2, 0, 3, 4]\n"
     ]
    },
    {
     "ename": "TypeError",
     "evalue": "unsupported operand type(s) for ** or pow(): 'list' and 'int'",
     "output_type": "error",
     "traceback": [
      "\u001b[1;31m---------------------------------------------------------------------------\u001b[0m",
      "\u001b[1;31mTypeError\u001b[0m                                 Traceback (most recent call last)",
      "\u001b[1;32m<ipython-input-27-5204a47c1fd4>\u001b[0m in \u001b[0;36m<module>\u001b[1;34m\u001b[0m\n\u001b[0;32m      4\u001b[0m \u001b[0mprint\u001b[0m\u001b[1;33m(\u001b[0m\u001b[0mx\u001b[0m \u001b[1;33m+\u001b[0m \u001b[0mx\u001b[0m\u001b[1;33m)\u001b[0m\u001b[1;33m\u001b[0m\u001b[1;33m\u001b[0m\u001b[0m\n\u001b[0;32m      5\u001b[0m \u001b[0mprint\u001b[0m\u001b[1;33m(\u001b[0m\u001b[0mx\u001b[0m \u001b[1;33m*\u001b[0m \u001b[1;36m2\u001b[0m\u001b[1;33m)\u001b[0m\u001b[1;33m\u001b[0m\u001b[1;33m\u001b[0m\u001b[0m\n\u001b[1;32m----> 6\u001b[1;33m \u001b[0mprint\u001b[0m\u001b[1;33m(\u001b[0m\u001b[0mx\u001b[0m \u001b[1;33m**\u001b[0m \u001b[1;36m2\u001b[0m\u001b[1;33m)\u001b[0m\u001b[1;33m\u001b[0m\u001b[1;33m\u001b[0m\u001b[0m\n\u001b[0m",
      "\u001b[1;31mTypeError\u001b[0m: unsupported operand type(s) for ** or pow(): 'list' and 'int'"
     ]
    }
   ],
   "source": [
    "# (с листами из питона так не получится, для них сложение означает конкатенацию)\n",
    "print(type(x))\n",
    "print(x)\n",
    "print(x + x)\n",
    "print(x * 2)\n",
    "print(x ** 2)"
   ]
  },
  {
   "cell_type": "markdown",
   "metadata": {
    "colab_type": "text",
    "id": "8Fg3G3MgaSCU"
   },
   "source": [
    "* Поэлементные операции"
   ]
  },
  {
   "cell_type": "code",
   "execution_count": 29,
   "metadata": {
    "colab": {
     "base_uri": "https://localhost:8080/",
     "height": 85
    },
    "colab_type": "code",
    "id": "FCXExpERaSCV",
    "outputId": "a7152fde-9be9-4405-b0ff-87a443a1ed69"
   },
   "outputs": [
    {
     "data": {
      "text/plain": [
       "(array([1, 1, 0, 1, 1]),\n",
       " array([ 2.71828183,  7.3890561 ,  1.        , 20.08553692, 54.59815003]),\n",
       " array([ 0.84147098,  0.90929743,  0.        ,  0.14112001, -0.7568025 ]),\n",
       " array([ 0.54030231, -0.41614684,  1.        , -0.9899925 , -0.65364362]),\n",
       " array([1, 2, 0, 3, 4]))"
      ]
     },
     "execution_count": 29,
     "metadata": {},
     "output_type": "execute_result"
    }
   ],
   "source": [
    "# В numpy есть почти функции, которых хватает для построения почти любого расчета\n",
    "np.sign(a), np.exp(a), np.sin(a), np.cos(a), np.round(a) # и много других, лучше просто загуглить, когда вам что-то понадобится"
   ]
  },
  {
   "cell_type": "markdown",
   "metadata": {
    "colab_type": "text",
    "id": "9-yZuXHFaSCY"
   },
   "source": [
    "* сортировка/добавление/удаление элементов массива"
   ]
  },
  {
   "cell_type": "code",
   "execution_count": 30,
   "metadata": {
    "colab": {
     "base_uri": "https://localhost:8080/",
     "height": 68
    },
    "colab_type": "code",
    "id": "FZ442SUWHLLF",
    "outputId": "beb60f84-9260-49e0-a5c4-7023cf15d582"
   },
   "outputs": [
    {
     "name": "stdout",
     "output_type": "stream",
     "text": [
      "sorted b [0 1 2 3 4 5 6 7 8 9]\n",
      "original b [9 8 7 6 5 4 3 2 1 0]\n",
      "original b after inplace sort [0 1 2 3 4 5 6 7 8 9]\n"
     ]
    }
   ],
   "source": [
    "b = np.arange(9, -1,-1)\n",
    "print(f'sorted b {np.sort(b)}')\n",
    "print(f'original b {b}')\n",
    "b.sort()\n",
    "print(f'original b after inplace sort {b}')"
   ]
  },
  {
   "cell_type": "markdown",
   "metadata": {
    "colab_type": "text",
    "id": "JtLygbXuHLLH"
   },
   "source": [
    "Функции delete, insert и append не меняют массив на месте, а возвращают новый массив, в котором удалены, вставлены в середину или добавлены в конец какие-то элементы.\n"
   ]
  },
  {
   "cell_type": "code",
   "execution_count": 32,
   "metadata": {
    "colab": {
     "base_uri": "https://localhost:8080/",
     "height": 34
    },
    "colab_type": "code",
    "id": "FR2hIiO6HLLH",
    "outputId": "57c5a6a2-58de-482c-d76b-51ba6e85f019"
   },
   "outputs": [
    {
     "name": "stdout",
     "output_type": "stream",
     "text": [
      "[10  9  8  7  6  5  4  3  2  1  0]\n",
      "[10  9  8  7  6  4  2  1  0]\n"
     ]
    }
   ],
   "source": [
    "a = np.arange(10, -1, -1)\n",
    "print(a)\n",
    "a = np.delete(a, [5, 7])\n",
    "print(a)"
   ]
  },
  {
   "cell_type": "code",
   "execution_count": 33,
   "metadata": {
    "colab": {},
    "colab_type": "code",
    "id": "TXpfhNR4HLLJ"
   },
   "outputs": [
    {
     "name": "stdout",
     "output_type": "stream",
     "text": [
      "[  10    9 -100    8 -200    7    6    4    2    1    0]\n"
     ]
    }
   ],
   "source": [
    "a = np.insert(a, [2, 3], [-100, -200])\n",
    "print(a)"
   ]
  },
  {
   "cell_type": "code",
   "execution_count": 34,
   "metadata": {
    "colab": {
     "base_uri": "https://localhost:8080/",
     "height": 34
    },
    "colab_type": "code",
    "id": "edUJplmjHLLM",
    "outputId": "8669fc8e-8242-4e53-9bf5-3587e975a39e"
   },
   "outputs": [
    {
     "name": "stdout",
     "output_type": "stream",
     "text": [
      "[  10    9 -100    8 -200    7    6    4    2    1    0    1    2    3]\n"
     ]
    }
   ],
   "source": [
    "a = np.append(a, [1, 2, 3])\n",
    "print(a)"
   ]
  },
  {
   "cell_type": "markdown",
   "metadata": {
    "colab_type": "text",
    "id": "9s-fpupQaSCl"
   },
   "source": [
    "## Многомерные массивы\n",
    "\n",
    "В случае многомерных массивов работает все, что мы только что попробовали для одномерных, но появляются и новые возможности.\n",
    "\n",
    "* работа с shape массива\n",
    "\n",
    "У многомерны массивов есть понятие осей (их еще можно назвать измерениями). Так как одни и те же данные могут храниться в массивах разной формы, в numpy есть методы, чтобы эту форму менять"
   ]
  },
  {
   "cell_type": "markdown",
   "metadata": {
    "colab_type": "text",
    "id": "4nnvpsEIK01s"
   },
   "source": [
    "`ndarray.shape` — размеры массива, его форма. Это кортеж натуральных чисел, показывающий длину массива по каждой оси. Для матрицы из n строк и m столбов, shape будет (n,m). "
   ]
  },
  {
   "cell_type": "markdown",
   "metadata": {
    "colab_type": "text",
    "id": "aeRIBlpSK01s"
   },
   "source": [
    "В $n$-мерном случае возвращается кортеж размеров по каждой координате."
   ]
  },
  {
   "cell_type": "code",
   "execution_count": 37,
   "metadata": {
    "colab": {
     "base_uri": "https://localhost:8080/",
     "height": 85
    },
    "colab_type": "code",
    "id": "k65UpbDEaSCp",
    "outputId": "26248f6d-747e-4be5-f3e3-db408b9da10c"
   },
   "outputs": [
    {
     "name": "stdout",
     "output_type": "stream",
     "text": [
      "shape(): (2, 3) \n",
      "ndim(): 2 \n",
      "size(): 6 \n",
      "len(): 2\n"
     ]
    }
   ],
   "source": [
    "x = [[1, 2, 3],\n",
    "     [4, 5, 6]]\n",
    "a = np.array(x)\n",
    "print('shape():', a.shape,'\\nndim():', a.ndim, '\\nsize():', a.size, '\\nlen():', len(a))"
   ]
  },
  {
   "cell_type": "markdown",
   "metadata": {
    "colab_type": "text",
    "id": "Hq1rOe4FK018"
   },
   "source": [
    "**Вопрос:** \n",
    " >Как связаны элементы кортежа shape, ndim, size?"
   ]
  },
  {
   "cell_type": "markdown",
   "metadata": {
    "colab_type": "text",
    "id": "KQrw6IV-p-S1"
   },
   "source": [
    "**Ответ:**\n",
    "shape = (s1, ..., sn), ndim = n, size = s1 * ... * sn, len = s1"
   ]
  },
  {
   "cell_type": "markdown",
   "metadata": {
    "colab_type": "text",
    "id": "tUA07amuo1jt"
   },
   "source": [
    "**Вопрос:**\n",
    ">Каковы значения shape, ndim, size, len для картинки RGB 160x100? \n",
    "\n",
    ">А для массива из 1000 таких картинок?"
   ]
  },
  {
   "cell_type": "markdown",
   "metadata": {
    "colab_type": "text",
    "id": "_LuF70JEK018"
   },
   "source": [
    "**Ответ:**\n",
    "> shape = (160, 100, 3) chanels last\n",
    "> or shape = (3, 160, 100) chanels first\n",
    "\n",
    "> shape = (1000, 160, 100, 3)"
   ]
  },
  {
   "cell_type": "markdown",
   "metadata": {
    "colab_type": "text",
    "id": "F7WqCNImaSCx"
   },
   "source": [
    "Для смены shape есть методы reshape, flatten, ravel"
   ]
  },
  {
   "cell_type": "code",
   "execution_count": 40,
   "metadata": {
    "colab": {
     "base_uri": "https://localhost:8080/",
     "height": 170
    },
    "colab_type": "code",
    "id": "Knm6SxbraSCy",
    "outputId": "cdc8986b-b3b7-449f-9407-04cec6efad5c"
   },
   "outputs": [
    {
     "name": "stdout",
     "output_type": "stream",
     "text": [
      "[[1 2 3]\n",
      " [4 5 6]]\n",
      "[[1 2]\n",
      " [3 4]\n",
      " [5 6]]\n",
      "[[1 2]\n",
      " [3 4]\n",
      " [5 6]]\n",
      "[1 2 3 4 5 6]\n"
     ]
    }
   ],
   "source": [
    "print(a)\n",
    "# reshape\n",
    "print(a.reshape(3, 2))\n",
    "# вместо одной из осей можно просто вставить -1, тогда numpy попытается сам понять, какое там должно быть число\n",
    "print(a.reshape(-1, 2))\n",
    "# если такое число не получится найти, то будет ошибка\n",
    "print(a.reshape(-1))"
   ]
  },
  {
   "cell_type": "code",
   "execution_count": 43,
   "metadata": {
    "colab": {
     "base_uri": "https://localhost:8080/",
     "height": 85
    },
    "colab_type": "code",
    "id": "H9Ts_O-7aSC1",
    "outputId": "f1f48084-9ace-43d9-804e-755c771593f2"
   },
   "outputs": [
    {
     "name": "stdout",
     "output_type": "stream",
     "text": [
      "[[1 2 3]\n",
      " [4 5 6]]\n",
      "[1 2 3 4 5 6]\n",
      "[[1000    2    3]\n",
      " [   4    5    6]]\n"
     ]
    }
   ],
   "source": [
    "# flatten и ravel очень похожи, они вытягивают матрицу любой размерности в строчку\n",
    "# Единственно отличие в том, что flatten возвращает копию массива, вытянутую в строчку\n",
    "# а ravel - просто view(т.е. не происходит реального копирования значений)\n",
    "# Пример снизу показывает это отличие\n",
    "x = [[1, 2, 3],\n",
    "     [4, 5, 6]]\n",
    "a = np.array(x)\n",
    "flattened = a.flatten()\n",
    "flattened[0] = 1000\n",
    "print(a)\n",
    "raveled = a.ravel()\n",
    "print(raveled)\n",
    "raveled[0] = 1000\n",
    "print(a)"
   ]
  },
  {
   "cell_type": "markdown",
   "metadata": {
    "colab_type": "text",
    "id": "mZwb98wiaSC3"
   },
   "source": [
    "* Подсчет статистик по осям"
   ]
  },
  {
   "cell_type": "code",
   "execution_count": 56,
   "metadata": {
    "colab": {
     "base_uri": "https://localhost:8080/",
     "height": 51
    },
    "colab_type": "code",
    "id": "J1Ue3z9FaSC4",
    "outputId": "897a0194-1bc6-4d60-9583-66c18fb9496c"
   },
   "outputs": [
    {
     "name": "stdout",
     "output_type": "stream",
     "text": [
      "[[[ 1  2  3]\n",
      "  [ 4  5  6]]\n",
      "\n",
      " [[ 7 15  9]\n",
      "  [10 11 12]]] (2, 2, 3)\n"
     ]
    }
   ],
   "source": [
    "x = [[[1, 2, 3],\n",
    "     [4, 5, 6]], \n",
    "     [[7, 15, 9],\n",
    "     [10, 11, 12]]]\n",
    "a = np.array(x)\n",
    "print(a, a.shape)"
   ]
  },
  {
   "cell_type": "code",
   "execution_count": 57,
   "metadata": {
    "colab": {
     "base_uri": "https://localhost:8080/",
     "height": 119
    },
    "colab_type": "code",
    "id": "lMFOHDVTaSC6",
    "outputId": "ff9ad936-8e63-4c37-fb24-9f05875ba0f5",
    "scrolled": true
   },
   "outputs": [
    {
     "data": {
      "text/plain": [
       "(array([[3. , 6.5, 3. ],\n",
       "        [3. , 3. , 3. ]]), (2, 3), array([[ 8, 17, 12],\n",
       "        [14, 16, 18]]), array([[ 7, 30, 27],\n",
       "        [40, 55, 72]]), array([[1, 2, 3],\n",
       "        [4, 5, 6]]), array([[ 7, 15,  9],\n",
       "        [10, 11, 12]]), array([[4. , 8.5, 6. ],\n",
       "        [7. , 8. , 9. ]]))"
      ]
     },
     "execution_count": 57,
     "metadata": {},
     "output_type": "execute_result"
    }
   ],
   "source": [
    "# Если не написать axis, то статистика посчиатется по всем массиву\n",
    "# Если axis=1, то для трехмерной матрицы суммирование (например) будет идти по элементам с индексами (i, *, j)\n",
    "# Если axis=(1, 2), то для трехмерной матрицы суммирование (например) будет идти по элементам с индексами (i, *, *)\n",
    "a.std(axis=0), a.sum(axis=0).shape, a.sum(axis=0), a.prod(axis=0), a.min(axis=0), a.max(axis=0), a.mean(axis=0)"
   ]
  },
  {
   "cell_type": "code",
   "execution_count": 58,
   "metadata": {
    "colab": {
     "base_uri": "https://localhost:8080/",
     "height": 119
    },
    "colab_type": "code",
    "id": "f8E9einlaSC8",
    "outputId": "c31bc889-1947-4b3b-8b87-e289c49fa528",
    "scrolled": true
   },
   "outputs": [
    {
     "data": {
      "text/plain": [
       "(array([[1.5, 1.5, 1.5],\n",
       "        [1.5, 2. , 1.5]]), array([[ 5,  7,  9],\n",
       "        [17, 26, 21]]), array([[  4,  10,  18],\n",
       "        [ 70, 165, 108]]), array([[ 1,  2,  3],\n",
       "        [ 7, 11,  9]]), array([[ 4,  5,  6],\n",
       "        [10, 15, 12]]), array([[ 2.5,  3.5,  4.5],\n",
       "        [ 8.5, 13. , 10.5]]))"
      ]
     },
     "execution_count": 58,
     "metadata": {},
     "output_type": "execute_result"
    }
   ],
   "source": [
    "# Посчитаем, итерируясь по 1 оси\n",
    "a.std(axis=1), a.sum(axis=1), a.prod(axis=1), a.min(axis=1), a.max(axis=1), a.mean(axis=1)"
   ]
  },
  {
   "cell_type": "code",
   "execution_count": 59,
   "metadata": {},
   "outputs": [
    {
     "data": {
      "text/plain": [
       "(array([1.70782513, 2.49443826]),\n",
       " array([21, 64]),\n",
       " array([    720, 1247400]),\n",
       " array([1, 7]),\n",
       " array([ 6, 15]),\n",
       " array([ 3.5       , 10.66666667]))"
      ]
     },
     "execution_count": 59,
     "metadata": {},
     "output_type": "execute_result"
    }
   ],
   "source": [
    "# a.sum(axis=(1,2)) ~ a.sum(axis=1).sum(axis=1)\n",
    "a.std(axis=(1,2)), a.sum(axis=(1,2)), a.prod(axis=(1,2)), a.min(axis=(1,2)), a.max(axis=(1,2)), a.mean(axis=(1,2))"
   ]
  },
  {
   "cell_type": "markdown",
   "metadata": {
    "colab_type": "text",
    "id": "IBZg2BrkaSC-"
   },
   "source": [
    "## Булевы массивы\n",
    "Булевы массивы не настолько особенны, чтобы выделять их в отдельную категорию, но у них есть несколько интересных свойств, которые нам помогут. Булевы массивы естественно возникают в нашей программе при сравнении каких-то двух массивов в numpy (==,>,>=,<,<=)."
   ]
  },
  {
   "cell_type": "code",
   "execution_count": 60,
   "metadata": {
    "colab": {
     "base_uri": "https://localhost:8080/",
     "height": 102
    },
    "colab_type": "code",
    "id": "tTYLjXS-aSC-",
    "outputId": "2a0b86c0-d5e5-45c2-89a0-2594a6c6e2bc"
   },
   "outputs": [
    {
     "data": {
      "text/plain": [
       "(array([ True,  True, False]),\n",
       " array([False, False,  True]),\n",
       " array([ True,  True,  True]),\n",
       " array([False, False, False]),\n",
       " array([ True,  True, False]))"
      ]
     },
     "execution_count": 60,
     "metadata": {},
     "output_type": "execute_result"
    }
   ],
   "source": [
    "a = np.array([1, 2, 3])\n",
    "b = np.array([1, 2, 0])\n",
    "\n",
    "a == b, a > b, a >= b, a < b, a <= b"
   ]
  },
  {
   "cell_type": "markdown",
   "metadata": {
    "colab_type": "text",
    "id": "zAIjHDPJaSDB"
   },
   "source": [
    "Посмотрим, что мы можем делать с такими массивами"
   ]
  },
  {
   "cell_type": "code",
   "execution_count": 61,
   "metadata": {
    "colab": {
     "base_uri": "https://localhost:8080/",
     "height": 85
    },
    "colab_type": "code",
    "id": "NDJw37SAaSDC",
    "outputId": "b5ca7c21-1a2c-41fd-da7f-6102d41a1940"
   },
   "outputs": [
    {
     "name": "stdout",
     "output_type": "stream",
     "text": [
      "a and b [False False  True]\n",
      "a or b [ True False  True]\n",
      "not a [False  True False]\n",
      "a xor b [ True False False]\n"
     ]
    }
   ],
   "source": [
    "a = np.array([True, False, True])\n",
    "b = np.array([False, False, True])\n",
    "\n",
    "# Логические поэлементные операции\n",
    "print(f'a and b {a & b}')\n",
    "print(f'a or b {a | b}')\n",
    "print(f'not a {~a}')\n",
    "print(f'a xor b {a ^ b}')"
   ]
  },
  {
   "cell_type": "code",
   "execution_count": 62,
   "metadata": {
    "colab": {
     "base_uri": "https://localhost:8080/",
     "height": 34
    },
    "colab_type": "code",
    "id": "6cSvHdOpaSDE",
    "outputId": "46ac3839-572e-48dc-bd60-00f90fc41b3a"
   },
   "outputs": [
    {
     "data": {
      "text/plain": [
       "(True, False)"
      ]
     },
     "execution_count": 62,
     "metadata": {},
     "output_type": "execute_result"
    }
   ],
   "source": [
    "# Логические операции над всеми элементами массива, в них тоже можно использовать параметр axis\n",
    "# any() returns True if there's any values that are equal to True in the array.\n",
    "# all() returns True if all values in the array are equal to True\n",
    "a.any(), a.all()"
   ]
  },
  {
   "cell_type": "code",
   "execution_count": 63,
   "metadata": {
    "colab": {
     "base_uri": "https://localhost:8080/",
     "height": 34
    },
    "colab_type": "code",
    "id": "7XZ8pcHiaSDI",
    "outputId": "ecd08c62-1b46-4110-efd1-f26007445a35"
   },
   "outputs": [
    {
     "data": {
      "text/plain": [
       "(0.6666666666666666, True, 2, 0.4714045207910317)"
      ]
     },
     "execution_count": 63,
     "metadata": {},
     "output_type": "execute_result"
    }
   ],
   "source": [
    "# Если к булевому массиву применить функции, предназначенные только для чисел, \n",
    "# то перед применением все True сконвертируются в 1, а False в 0\n",
    "# Здесь также можно добавить параметр axis\n",
    "a.mean(), a.max(), a.sum(), a.std()"
   ]
  },
  {
   "cell_type": "markdown",
   "metadata": {
    "colab_type": "text",
    "id": "cak7YP_NaSDL"
   },
   "source": [
    "**Задание на булевы массивы:**\n",
    "> Пусть у нас есть два одномерных массива y_pred - предсказанный нашей моделью класс, и y_true - настоящий класс. Посчитайте accuracy нашего классификатора на этих данных (долю случаев, в которых реальный класс совпал с предсказанием)"
   ]
  },
  {
   "cell_type": "code",
   "execution_count": 65,
   "metadata": {
    "colab": {
     "base_uri": "https://localhost:8080/",
     "height": 34
    },
    "colab_type": "code",
    "id": "K5g7mFm5aSDL",
    "outputId": "c8bfc9a4-9601-468b-ad98-b0a37446e434"
   },
   "outputs": [
    {
     "data": {
      "text/plain": [
       "0.8333333333333334"
      ]
     },
     "execution_count": 65,
     "metadata": {},
     "output_type": "execute_result"
    }
   ],
   "source": [
    "y_pred = np.array([1, 2, 1, 2, 1, 1])\n",
    "y_true = np.array([1, 2, 1, 1, 1, 1])\n",
    "\n",
    "(y_pred == y_true).mean()"
   ]
  },
  {
   "cell_type": "markdown",
   "metadata": {
    "colab_type": "text",
    "id": "WUyvxPIXaSDO"
   },
   "source": [
    "# Полезные функции из numpy"
   ]
  },
  {
   "cell_type": "markdown",
   "metadata": {
    "colab_type": "text",
    "id": "jjNg7ndbaSDP"
   },
   "source": [
    "Также в numpy есть много полезных методов для получения готовых массивов какого-то вида"
   ]
  },
  {
   "cell_type": "markdown",
   "metadata": {
    "colab_type": "text",
    "id": "-ihFsBq-HLJ3"
   },
   "source": [
    "* Функция **arange** подобна range. Аргументы могут быть с плавающей точкой. Следует избегать ситуаций, когда (конец−начало)/шаг - целое число, потому что в этом случае включение последнего элемента зависит от ошибок округления. Лучше, чтобы конец диапазона был где-то посредине шага."
   ]
  },
  {
   "cell_type": "code",
   "execution_count": 66,
   "metadata": {
    "colab": {
     "base_uri": "https://localhost:8080/",
     "height": 85
    },
    "colab_type": "code",
    "id": "XyLV0bszHLJ3",
    "outputId": "7d25784a-53aa-4fa7-850f-4733890b6c38"
   },
   "outputs": [
    {
     "name": "stdout",
     "output_type": "stream",
     "text": [
      "[0, 1, 2, 3, 4, 5, 6, 7]\n",
      "0 1 2 3 4 5 6 7\n",
      "2 5\n",
      "2 5\n"
     ]
    }
   ],
   "source": [
    "# поиграемся с питоновским методом range\n",
    "print(list(range(8)))\n",
    "print(*range(0, 8))\n",
    "print(*[2,5])\n",
    "print(2,5)"
   ]
  },
  {
   "cell_type": "code",
   "execution_count": 67,
   "metadata": {
    "colab": {
     "base_uri": "https://localhost:8080/",
     "height": 164
    },
    "colab_type": "code",
    "id": "ajsJU8KyHLJ8",
    "outputId": "2d583fe3-048d-47ca-ca8a-7e45155f0707"
   },
   "outputs": [
    {
     "ename": "TypeError",
     "evalue": "'float' object cannot be interpreted as an integer",
     "output_type": "error",
     "traceback": [
      "\u001b[1;31m---------------------------------------------------------------------------\u001b[0m",
      "\u001b[1;31mTypeError\u001b[0m                                 Traceback (most recent call last)",
      "\u001b[1;32m<ipython-input-67-dd5a2c3993fe>\u001b[0m in \u001b[0;36m<module>\u001b[1;34m\u001b[0m\n\u001b[0;32m      1\u001b[0m \u001b[1;31m# в нем нельзя использовать не целый шаг\u001b[0m\u001b[1;33m\u001b[0m\u001b[1;33m\u001b[0m\u001b[1;33m\u001b[0m\u001b[0m\n\u001b[1;32m----> 2\u001b[1;33m \u001b[0mprint\u001b[0m\u001b[1;33m(\u001b[0m\u001b[1;33m*\u001b[0m\u001b[0mrange\u001b[0m\u001b[1;33m(\u001b[0m\u001b[1;36m0\u001b[0m\u001b[1;33m,\u001b[0m \u001b[1;36m8\u001b[0m\u001b[1;33m,\u001b[0m \u001b[1;36m0.5\u001b[0m\u001b[1;33m)\u001b[0m\u001b[1;33m)\u001b[0m\u001b[1;33m\u001b[0m\u001b[1;33m\u001b[0m\u001b[0m\n\u001b[0m",
      "\u001b[1;31mTypeError\u001b[0m: 'float' object cannot be interpreted as an integer"
     ]
    }
   ],
   "source": [
    "# в нем нельзя использовать не целый шаг\n",
    "print(*range(0, 8, 0.5))"
   ]
  },
  {
   "cell_type": "code",
   "execution_count": 69,
   "metadata": {
    "colab": {
     "base_uri": "https://localhost:8080/",
     "height": 68
    },
    "colab_type": "code",
    "id": "t8qoTrmZHLJ_",
    "outputId": "bf7ee7f6-80fd-4300-a2c4-f08f63006a20"
   },
   "outputs": [
    {
     "name": "stdout",
     "output_type": "stream",
     "text": [
      "<class 'numpy.ndarray'>\n",
      "[ 0.  -0.5 -1.  -1.5 -2.  -2.5 -3.  -3.5 -4.  -4.5 -5.  -5.5 -6.  -6.5\n",
      " -7.  -7.5]\n"
     ]
    }
   ],
   "source": [
    "# перейдем к arange\n",
    "# здесь не целый шаг использовать уже можно\n",
    "print(type(np.arange(0, 8)))\n",
    "print(np.arange(0, -8, -0.5))"
   ]
  },
  {
   "cell_type": "code",
   "execution_count": 70,
   "metadata": {
    "colab": {
     "base_uri": "https://localhost:8080/",
     "height": 34
    },
    "colab_type": "code",
    "id": "yzlqxNrXaSDX",
    "outputId": "1f20ba07-18cb-4630-a17d-311b3c6d047f"
   },
   "outputs": [
    {
     "name": "stdout",
     "output_type": "stream",
     "text": [
      "[0.  0.5 1.  1.5 2.  2.5 3.  3.5 4.  4.5 5.  5.5 6.  6.5 7.  7.5]\n"
     ]
    }
   ],
   "source": [
    "print(np.arange(0, 8, 0.5))"
   ]
  },
  {
   "cell_type": "markdown",
   "metadata": {
    "colab_type": "text",
    "id": "ouxSb-QvHLKB"
   },
   "source": [
    "Но самое главное:"
   ]
  },
  {
   "cell_type": "code",
   "execution_count": 73,
   "metadata": {
    "colab": {
     "base_uri": "https://localhost:8080/",
     "height": 136
    },
    "colab_type": "code",
    "id": "aaFIwlCqHLKC",
    "outputId": "6ce28036-09f7-48f7-e7e6-f5fb584ed5cb"
   },
   "outputs": [
    {
     "name": "stdout",
     "output_type": "stream",
     "text": [
      "Wall time: 112 ms\n",
      "Wall time: 1.34 s\n",
      "Wall time: 0 ns\n"
     ]
    }
   ],
   "source": [
    "%time np.arange(0, 50000000)   # creation of array\n",
    "%time list(range(0, 50000000))\n",
    "%time bb=range(0, 50000000)    # just keeps start, end, step"
   ]
  },
  {
   "cell_type": "markdown",
   "metadata": {
    "colab_type": "text",
    "id": "94th67WKaSDb"
   },
   "source": [
    "**Вопрос на знание питона**: почему просто range занял 12 мкс, даже меньше, чем numpy?"
   ]
  },
  {
   "cell_type": "markdown",
   "metadata": {
    "colab_type": "text",
    "id": "r_i9uX70HLKF"
   },
   "source": [
    "* Еще один метод, похожий на arange это **linspace**. С его помощью можно создавать последовательности чисел с постоянным шагом. Начало и конец диапазона включаются; последний аргумент - число точек."
   ]
  },
  {
   "cell_type": "code",
   "execution_count": 80,
   "metadata": {
    "colab": {
     "base_uri": "https://localhost:8080/",
     "height": 119
    },
    "colab_type": "code",
    "id": "1R3y2u7kHLKF",
    "outputId": "955743af-32d8-473c-e205-4abc28103f9a"
   },
   "outputs": [
    {
     "name": "stdout",
     "output_type": "stream",
     "text": [
      "Wall time: 0 ns\n",
      "[0.         1.14285714 2.28571429 3.42857143 4.57142857 5.71428571\n",
      " 6.85714286 8.        ]\n",
      "Wall time: 0 ns\n"
     ]
    }
   ],
   "source": [
    "%time a = np.linspace(0, 8, 8)\n",
    "%time print(a)"
   ]
  },
  {
   "cell_type": "markdown",
   "metadata": {
    "colab_type": "text",
    "id": "7pykEjWGHLKI"
   },
   "source": [
    "* **Быстродействие**. Массивы, разумеется, можно использовать в `for` циклах. Но при этом теряется главное преимущество `numpy` - быстродействие. Всегда, когда это возможно, лучше использовать операции, определенные в numpy."
   ]
  },
  {
   "cell_type": "code",
   "execution_count": 78,
   "metadata": {
    "colab": {
     "base_uri": "https://localhost:8080/",
     "height": 51
    },
    "colab_type": "code",
    "id": "XOcvgxP8HLKI",
    "outputId": "fa6040fe-3538-4588-c0b8-9e27c3cd4324"
   },
   "outputs": [
    {
     "name": "stdout",
     "output_type": "stream",
     "text": [
      "Wall time: 0 ns\n"
     ]
    }
   ],
   "source": [
    "%%time \n",
    "res = a + a"
   ]
  },
  {
   "cell_type": "code",
   "execution_count": 81,
   "metadata": {
    "colab": {
     "base_uri": "https://localhost:8080/",
     "height": 51
    },
    "colab_type": "code",
    "id": "33yWW6tzHLKK",
    "outputId": "671f73bd-ff69-495f-f73c-d29a766d8a06"
   },
   "outputs": [
    {
     "name": "stdout",
     "output_type": "stream",
     "text": [
      "Wall time: 0 ns\n"
     ]
    }
   ],
   "source": [
    "%time\n",
    "res = []\n",
    "for value in a:\n",
    "    res.append(value + value)"
   ]
  },
  {
   "cell_type": "markdown",
   "metadata": {
    "colab_type": "text",
    "id": "XWLsgd8uaSDj"
   },
   "source": [
    "(в совсем простых операциях, таких как сложение двух чисел, питон не уступает в скорости C++ или C, а поэтому использование numpy не дает ввыигрыша, но в более тяжелых вычислениях разница становится колоссальнной)"
   ]
  },
  {
   "cell_type": "markdown",
   "metadata": {
    "colab_type": "text",
    "id": "rXe3ZDApHLL-"
   },
   "source": [
    "* Еще один способ создавать стандартные массивы - __`numpy.eye(N, M=None, ...)`__, __`numpy.zeros(shape, ...)`__, __`numpy.ones(shape, ...)`__.\n",
    "\n",
    "Первая функция создает единичную матрицу размера $N \\times M$; если $M$ не задан, то $M = N$. \n",
    "\n",
    "Вторая и третья функции создают матрицы, состоящие целиком из нулей или единиц соответственно. В качестве первого аргумента необходимо задать размерность массива — кортеж целых чисел. В двумерном случае это набор из двух чисел: количество строк и столбцов матрицы.\n",
    "\n",
    "__Примеры:__"
   ]
  },
  {
   "cell_type": "code",
   "execution_count": 83,
   "metadata": {
    "colab": {
     "base_uri": "https://localhost:8080/",
     "height": 119
    },
    "colab_type": "code",
    "id": "2j4wk0IJHLL_",
    "outputId": "247ce660-8fde-47e8-cc0a-448621058418"
   },
   "outputs": [
    {
     "name": "stdout",
     "output_type": "stream",
     "text": [
      "Единичная матрица:\n",
      " [[1. 0. 0. 0. 0.]\n",
      " [0. 1. 0. 0. 0.]\n",
      " [0. 0. 1. 0. 0.]\n",
      " [0. 0. 0. 1. 0.]\n",
      " [0. 0. 0. 0. 1.]]\n"
     ]
    }
   ],
   "source": [
    "b = np.eye(5)\n",
    "print(\"Единичная матрица:\\n\", b)"
   ]
  },
  {
   "cell_type": "code",
   "execution_count": 0,
   "metadata": {
    "colab": {
     "base_uri": "https://localhost:8080/",
     "height": 153
    },
    "colab_type": "code",
    "id": "wskPIk0pHLME",
    "outputId": "eed429ba-0776-4e19-d392-68a1c42e1fc1"
   },
   "outputs": [
    {
     "name": "stdout",
     "output_type": "stream",
     "text": [
      "Матрица, состоящая из одних единиц:\n",
      " [[1. 1. 1. 1. 1.]\n",
      " [1. 1. 1. 1. 1.]\n",
      " [1. 1. 1. 1. 1.]\n",
      " [1. 1. 1. 1. 1.]\n",
      " [1. 1. 1. 1. 1.]\n",
      " [1. 1. 1. 1. 1.]\n",
      " [1. 1. 1. 1. 1.]]\n"
     ]
    }
   ],
   "source": [
    "c = np.ones((7, 5))\n",
    "print(\"Матрица, состоящая из одних единиц:\\n\", c)"
   ]
  },
  {
   "cell_type": "markdown",
   "metadata": {
    "colab_type": "text",
    "id": "p_VsgozbHLMF"
   },
   "source": [
    "__Обратите внимание: размерность массива задается не двумя аргументами функции, а одним — кортежем!__ \n",
    "\n",
    "Вот так —  __`np.ones(7, 5)`__ — создать массив не получится, так как функции в качестве параметра `shape` передается `7`, а не кортеж `(7, 5)`."
   ]
  },
  {
   "cell_type": "markdown",
   "metadata": {
    "colab_type": "text",
    "id": "_EWNyOMzBHWd"
   },
   "source": [
    "**Задание на создание матриц:**\n",
    "> Создайте матрицу размера 4х5, у которой все элементы стоящие на диагонали равны -1, а все остальные равны 0.5"
   ]
  },
  {
   "cell_type": "code",
   "execution_count": 0,
   "metadata": {
    "colab": {
     "base_uri": "https://localhost:8080/",
     "height": 85
    },
    "colab_type": "code",
    "id": "lT-TsytjBGky",
    "outputId": "4d015f47-e145-41b0-ff59-2e9a905cca63"
   },
   "outputs": [
    {
     "data": {
      "text/plain": [
       "array([[-1. ,  0.5,  0.5,  0.5,  0.5],\n",
       "       [ 0.5, -1. ,  0.5,  0.5,  0.5],\n",
       "       [ 0.5,  0.5, -1. ,  0.5,  0.5],\n",
       "       [ 0.5,  0.5,  0.5, -1. ,  0.5]])"
      ]
     },
     "execution_count": 54,
     "metadata": {
      "tags": []
     },
     "output_type": "execute_result"
    }
   ],
   "source": [
    "0.5 * np.ones((4, 5)) - 1.5 * np.eye(4, 5)"
   ]
  },
  {
   "cell_type": "markdown",
   "metadata": {
    "colab_type": "text",
    "id": "ULmaIAMTHLKP"
   },
   "source": [
    "# Slices, Fancy Indexing and stuff"
   ]
  },
  {
   "cell_type": "markdown",
   "metadata": {
    "colab_type": "text",
    "id": "Aax0h2xWaSDp"
   },
   "source": [
    "* Обращение по слайсам\n",
    "\n",
    "Так же как и для обычных листов, для numpy массивов доступно обращение по слайсам (a[2:5:2], 2:5:2 - слайс). Но есть одно отличие. В numpy можно писать несколько слайсов через запятую, чтобы сделать _срез_ сразу по нескольким осям - a[2:5, 1:4]. "
   ]
  },
  {
   "cell_type": "code",
   "execution_count": 3,
   "metadata": {
    "colab": {
     "base_uri": "https://localhost:8080/",
     "height": 102
    },
    "colab_type": "code",
    "id": "QwEvyLoNaSDq",
    "outputId": "959fecd6-3377-4f31-8fb1-740910e862e9"
   },
   "outputs": [
    {
     "name": "stdout",
     "output_type": "stream",
     "text": [
      "[[ 1  2  3  4]\n",
      " [ 5  6  7  8]\n",
      " [ 9 10 11 12]]\n",
      "[[2 3]\n",
      " [6 7]]\n"
     ]
    }
   ],
   "source": [
    "a = np.array([\n",
    "                [1, 2, 3, 4],\n",
    "                [5, 6, 7, 8],\n",
    "                [9, 10, 11, 12]\n",
    "             ])\n",
    "print(a)\n",
    "print(a[0:2, 1:3])\n",
    "#print(a[0:2][:, 1:3])"
   ]
  },
  {
   "cell_type": "markdown",
   "metadata": {
    "colab_type": "text",
    "id": "KdzPmxUaHLL5"
   },
   "source": [
    "* Обращение по слайсам с добавлением новых осей. \n",
    "\n",
    "В NumPy к размерностям объектов можно добавлять фиктивные оси с помощью np.newaxis. Для того, чтобы понять, как это сделать, рассмотрим пример:"
   ]
  },
  {
   "cell_type": "code",
   "execution_count": 4,
   "metadata": {
    "colab": {
     "base_uri": "https://localhost:8080/",
     "height": 85
    },
    "colab_type": "code",
    "id": "-hUON9TIHLL5",
    "outputId": "800638f3-f939-4ee2-befb-ab1027172211"
   },
   "outputs": [
    {
     "name": "stdout",
     "output_type": "stream",
     "text": [
      "[[ 1  2  3  4]\n",
      " [ 5  6  7  8]\n",
      " [ 9 10 11 12]] (3, 4)\n",
      "Вектор a с newaxis --> вектор-строка:\n",
      " [[[ 1  2  3  4]\n",
      "  [ 5  6  7  8]\n",
      "  [ 9 10 11 12]]]\n",
      "Полученная размерность: (1, 3, 4)\n"
     ]
    }
   ],
   "source": [
    "#a = np.arange(1, 4, 1)\n",
    "print(a, a.shape)\n",
    "print('Вектор a с newaxis --> вектор-строка:\\n', a[None, :])\n",
    "print('Полученная размерность:', a[np.newaxis, :].shape)"
   ]
  },
  {
   "cell_type": "markdown",
   "metadata": {
    "colab_type": "text",
    "id": "gqyenIEhaSDy"
   },
   "source": [
    "* Обращение по индексам\n",
    "\n",
    "в numpy можно обращаться сразу к нескольким элементам массива, которые не идут подряд, передав в качестве аргумента list или numpy array индексов"
   ]
  },
  {
   "cell_type": "code",
   "execution_count": 5,
   "metadata": {
    "colab": {
     "base_uri": "https://localhost:8080/",
     "height": 34
    },
    "colab_type": "code",
    "id": "aN79z1QtaSDz",
    "outputId": "7bacecd9-5253-450d-8e03-159cfd0e5f38"
   },
   "outputs": [
    {
     "name": "stdout",
     "output_type": "stream",
     "text": [
      "[0 1 2 3] (4,)\n"
     ]
    },
    {
     "data": {
      "text/plain": [
       "(0, array([0, 1, 1, 2]), array([0, 1, 1, 2]))"
      ]
     },
     "execution_count": 5,
     "metadata": {},
     "output_type": "execute_result"
    }
   ],
   "source": [
    "a = np.array([0, 1, 2, 3])\n",
    "print(a, a.shape)\n",
    "a[0], a[[0, 1, 1, 2]], a[np.array([0, 1, 1, 2])]"
   ]
  },
  {
   "cell_type": "code",
   "execution_count": 6,
   "metadata": {
    "colab": {
     "base_uri": "https://localhost:8080/",
     "height": 68
    },
    "colab_type": "code",
    "id": "a9aN9JaLaSD1",
    "outputId": "207afdd9-07c2-4d34-fe8b-d517b3afa496"
   },
   "outputs": [
    {
     "name": "stdout",
     "output_type": "stream",
     "text": [
      "[[1 2]\n",
      " [3 4]]\n",
      "[1 4]\n"
     ]
    }
   ],
   "source": [
    "# многомерный случай\n",
    "z = np.array([[1,2], [3,4]])\n",
    "print(z)\n",
    "# можно передать лист с индексами для каждого из измерений. \n",
    "# В данном случае выберутся элементы с индексами (0, 0) и (1, 1). Результат - одномерный массив\n",
    "print(z[[0,1], [0,1]])"
   ]
  },
  {
   "cell_type": "markdown",
   "metadata": {
    "colab_type": "text",
    "id": "nb8G_LUdaSD3"
   },
   "source": [
    "* Обращение по булевому массиву"
   ]
  },
  {
   "cell_type": "code",
   "execution_count": 7,
   "metadata": {
    "colab": {
     "base_uri": "https://localhost:8080/",
     "height": 68
    },
    "colab_type": "code",
    "id": "VP7UZPrnHLKS",
    "outputId": "648f2684-f341-4717-a7dc-8c1007e2efee"
   },
   "outputs": [
    {
     "name": "stdout",
     "output_type": "stream",
     "text": [
      "[0 1 2 3]\n",
      "[0 2 3]\n",
      "[2 3]\n"
     ]
    }
   ],
   "source": [
    "print(a)\n",
    "print(a[[True, False, True, True]])\n",
    "# Как мы уже выяснили, в результате сравнения numpy массивов получается булев массив, \n",
    "# его очень удобно использовать, чтобы обращаться к элементам, удовлетворяющим какому-то условию\n",
    "print(a[a > 1])"
   ]
  },
  {
   "cell_type": "markdown",
   "metadata": {
    "colab_type": "text",
    "id": "SDRu54bhaSD5"
   },
   "source": [
    "В NumPy к размерностям объектов можно добавлять фиктивные оси с помощью np.newaxis. Для того, чтобы понять, как это сделать, рассмотрим пример:"
   ]
  },
  {
   "cell_type": "markdown",
   "metadata": {
    "colab_type": "text",
    "id": "sl_dxkHfaSEB"
   },
   "source": [
    "* Присвоение значений во view\n",
    "\n",
    "Когда мы используем слайсы для выборки каких-то элементов массива, нам возвращается не новый массив с этими элементами, а просто объект view, который ссылается на какие-то ячейки в реальном массиве. Поэтому мы можем сделать так:"
   ]
  },
  {
   "cell_type": "code",
   "execution_count": 8,
   "metadata": {
    "colab": {
     "base_uri": "https://localhost:8080/",
     "height": 68
    },
    "colab_type": "code",
    "id": "b_Li8FGLaSEB",
    "outputId": "f192d100-88de-4acb-d8fb-6d39a766e1a5"
   },
   "outputs": [
    {
     "name": "stdout",
     "output_type": "stream",
     "text": [
      "[1 2]\n",
      "[100   2]\n",
      "[100   2   3]\n"
     ]
    }
   ],
   "source": [
    "# but in case of regular python lists, b will be a copy\n",
    "a = np.array([1, 2, 3])\n",
    "# b = np.array(a[0:2]) # copy\n",
    "b = a[0:2]\n",
    "print(b)\n",
    "b[0] = 100\n",
    "print(b)\n",
    "print(a)"
   ]
  },
  {
   "cell_type": "markdown",
   "metadata": {
    "colab_type": "text",
    "id": "PfdoN87ZaSED"
   },
   "source": [
    "Изменив элемент во view b, мы поменяли элемент и в массиве а. Если же обратиться по списку координат или булевому массиву, так не получится"
   ]
  },
  {
   "cell_type": "code",
   "execution_count": 9,
   "metadata": {
    "colab": {
     "base_uri": "https://localhost:8080/",
     "height": 68
    },
    "colab_type": "code",
    "id": "brYHL8v4aSED",
    "outputId": "aa930483-e0a0-4fe2-e874-2ae200b9321c"
   },
   "outputs": [
    {
     "name": "stdout",
     "output_type": "stream",
     "text": [
      "[1 2]\n",
      "[100   2]\n",
      "[1 2 3]\n"
     ]
    }
   ],
   "source": [
    "a = np.array([1, 2, 3])\n",
    "b = a[[0, 1]]\n",
    "print(b)\n",
    "b[0] = 100\n",
    "print(b)\n",
    "print(a)"
   ]
  },
  {
   "cell_type": "code",
   "execution_count": 10,
   "metadata": {
    "colab": {
     "base_uri": "https://localhost:8080/",
     "height": 68
    },
    "colab_type": "code",
    "id": "x-PVgDYAaSEF",
    "outputId": "8156ff08-8134-4587-8b77-e134a85a1f2b"
   },
   "outputs": [
    {
     "name": "stdout",
     "output_type": "stream",
     "text": [
      "[1 2]\n",
      "[100   2]\n",
      "[1 2 3]\n"
     ]
    }
   ],
   "source": [
    "a = np.array([1, 2, 3])\n",
    "b = a[[True, True, False]]\n",
    "print(b)\n",
    "b[0] = 100\n",
    "print(b)\n",
    "print(a)"
   ]
  },
  {
   "cell_type": "markdown",
   "metadata": {
    "colab_type": "text",
    "id": "TR5bSBAsaSEH"
   },
   "source": [
    "Означает ли это, что не сработают выражения вида:\n",
    "> a[[0, 1]] = 100\n",
    "\n",
    "> a[[True, True, False]] = 100\n",
    "\n",
    "Присваивания сработают, потому что в данном случае копия массива создаваться не будет, вместо этого вызовется магический метод питона \\_\\_setitem\\_\\_. Очень удобная особенность питона, про которую не стоит забывать."
   ]
  },
  {
   "cell_type": "code",
   "execution_count": 11,
   "metadata": {
    "colab": {
     "base_uri": "https://localhost:8080/",
     "height": 34
    },
    "colab_type": "code",
    "id": "dqLwgnxYaSEH",
    "outputId": "5f1d832a-6ed7-4a04-fec3-67b16621cee7"
   },
   "outputs": [
    {
     "name": "stdout",
     "output_type": "stream",
     "text": [
      "[100 100   3]\n"
     ]
    }
   ],
   "source": [
    "a = np.array([1, 2, 3])\n",
    "a[[True, True, False]] = 100\n",
    "print(a)"
   ]
  },
  {
   "cell_type": "markdown",
   "metadata": {
    "colab_type": "text",
    "id": "4px-96mmaSEK"
   },
   "source": [
    "Если же слева будет не просто обращение по индексу, а двойное обращение по индексу, то питону придется вычислить значение \n",
    "> a[[True, True, False]]\n",
    "\n",
    "тем самым создав копию, и только потом взять у него нулевой элемент. Поэтому 0 присвоится в массив-копию, который тут же уничтожится."
   ]
  },
  {
   "cell_type": "code",
   "execution_count": 12,
   "metadata": {
    "colab": {
     "base_uri": "https://localhost:8080/",
     "height": 51
    },
    "colab_type": "code",
    "id": "HUryf9tWaSEL",
    "outputId": "6ea282df-fe7a-4e32-be27-bd054e193f29"
   },
   "outputs": [
    {
     "name": "stdout",
     "output_type": "stream",
     "text": [
      "[1 2 3]\n"
     ]
    }
   ],
   "source": [
    "a = np.array([1, 2, 3])\n",
    "a[[True, True, False]][0] = 100\n",
    "print(a)"
   ]
  },
  {
   "cell_type": "markdown",
   "metadata": {
    "colab_type": "text",
    "id": "qPgkWQN2CMOf"
   },
   "source": [
    "**Задание на slicing:**\n",
    "> Создайте матрицу 4х4, у которой элементы i=3-j равны 1, а остальные - нулю"
   ]
  },
  {
   "cell_type": "code",
   "execution_count": 13,
   "metadata": {
    "colab": {
     "base_uri": "https://localhost:8080/",
     "height": 85
    },
    "colab_type": "code",
    "id": "1v0h7fi6CcN2",
    "outputId": "cda5fa2d-1c8b-4085-9900-3764d2e1a587"
   },
   "outputs": [
    {
     "name": "stdout",
     "output_type": "stream",
     "text": [
      "[[0. 0. 0. 1.]\n",
      " [0. 0. 1. 0.]\n",
      " [0. 1. 0. 0.]\n",
      " [1. 0. 0. 0.]]\n",
      "[[0. 0. 0. 1.]\n",
      " [0. 0. 1. 0.]\n",
      " [0. 1. 0. 0.]\n",
      " [1. 0. 0. 0.]]\n"
     ]
    }
   ],
   "source": [
    "a = np.eye(4)\n",
    "\n",
    "print(a[::-1])    # flip vertically\n",
    "print(a[:, ::-1]) # flip horizontally\n",
    "#print(a[a>0])"
   ]
  },
  {
   "cell_type": "markdown",
   "metadata": {
    "colab_type": "text",
    "id": "AM3HRmx5aSEM"
   },
   "source": [
    "# Линейная Алгебра\n",
    "\n",
    "До этого мы рассматривали разные операции numpy, которые не связаны напрямую с линейной алгеброй. Пришло время это изменить)"
   ]
  },
  {
   "cell_type": "markdown",
   "metadata": {
    "colab_type": "text",
    "id": "WfqfXImaHLKg"
   },
   "source": [
    "* Скалярное произведение \n",
    "$a~\\cdot~b = (a_1, a_2, .., a_n) \\cdot (b_1, b_2, .., b_n) = a_1b_1 + a_2b_2 + .. + b_nb_n = \\sum_{i=1}^{n} a_ib_i$:\n"
   ]
  },
  {
   "cell_type": "code",
   "execution_count": 14,
   "metadata": {
    "colab": {
     "base_uri": "https://localhost:8080/",
     "height": 34
    },
    "colab_type": "code",
    "id": "47c57Q62EQmw",
    "outputId": "4d69d7c6-0b05-43b5-9716-2b0b60df18ab"
   },
   "outputs": [
    {
     "name": "stdout",
     "output_type": "stream",
     "text": [
      "[1 2 3] [2 3 4]\n"
     ]
    }
   ],
   "source": [
    "a = np.array([1, 2, 3])\n",
    "b = np.array([2, 3, 4])\n",
    "print(a,b)"
   ]
  },
  {
   "cell_type": "code",
   "execution_count": 15,
   "metadata": {
    "colab": {
     "base_uri": "https://localhost:8080/",
     "height": 34
    },
    "colab_type": "code",
    "id": "zae5Ebopvf5t",
    "outputId": "d8e7c10e-a0d0-4d76-9b77-279b8a279ef2"
   },
   "outputs": [
    {
     "data": {
      "text/plain": [
       "20"
      ]
     },
     "execution_count": 15,
     "metadata": {},
     "output_type": "execute_result"
    }
   ],
   "source": [
    "a @ b"
   ]
  },
  {
   "cell_type": "code",
   "execution_count": 16,
   "metadata": {
    "colab": {
     "base_uri": "https://localhost:8080/",
     "height": 34
    },
    "colab_type": "code",
    "id": "YXx9wDsyHLKi",
    "outputId": "f7ad5513-532e-4c96-e660-fb572979d9f7"
   },
   "outputs": [
    {
     "name": "stdout",
     "output_type": "stream",
     "text": [
      "20\n",
      "20\n"
     ]
    }
   ],
   "source": [
    "print(np.matmul(a, b))\n",
    "print(np.dot(a, b))"
   ]
  },
  {
   "cell_type": "markdown",
   "metadata": {},
   "source": [
    "Differences between np.dot and np.matmul"
   ]
  },
  {
   "cell_type": "code",
   "execution_count": 19,
   "metadata": {},
   "outputs": [
    {
     "name": "stdout",
     "output_type": "stream",
     "text": [
      "[ 5 10 15]\n"
     ]
    }
   ],
   "source": [
    "# print(np.matmul(a, 5)) # is not allowed\n",
    "print(np.dot(a, 5))"
   ]
  },
  {
   "cell_type": "code",
   "execution_count": 18,
   "metadata": {},
   "outputs": [
    {
     "name": "stdout",
     "output_type": "stream",
     "text": [
      "(4, 4)\n",
      "(3, 4, 2)\n",
      "4x4*4x2x3 dot (4, 3, 2):\n",
      " [[[232 152]\n",
      "  [125 112]\n",
      "  [125 112]]\n",
      "\n",
      " [[172 116]\n",
      "  [123  76]\n",
      "  [123  76]]\n",
      "\n",
      " [[442 296]\n",
      "  [228 226]\n",
      "  [228 226]]\n",
      "\n",
      " [[962 652]\n",
      "  [465 512]\n",
      "  [465 512]]]\n",
      "\n",
      "4x4*4x2x3 matmul (3, 4, 2):\n",
      " [[[232 152]\n",
      "  [172 116]\n",
      "  [442 296]\n",
      "  [962 652]]\n",
      "\n",
      " [[125 112]\n",
      "  [123  76]\n",
      "  [228 226]\n",
      "  [465 512]]\n",
      "\n",
      " [[125 112]\n",
      "  [123  76]\n",
      "  [228 226]\n",
      "  [465 512]]]\n",
      "\n"
     ]
    }
   ],
   "source": [
    "fourbyfour = np.array([\n",
    "                       [1,2,3,4],\n",
    "                       [3,2,1,4],\n",
    "                       [5,4,6,7],\n",
    "                       [11,12,13,14]\n",
    "                      ])\n",
    "\n",
    "\n",
    "twobyfourbythree = np.array([\n",
    "                             [[2,3],[11,9],[32,21],[28,17]],\n",
    "                             [[2,3],[1,9],[3,21],[28,7]],\n",
    "                             [[2,3],[1,9],[3,21],[28,7]],\n",
    "                            ])\n",
    "print(fourbyfour.shape)\n",
    "print(twobyfourbythree.shape)\n",
    "# sum product over the last axis of a and the second-to-last of b\n",
    "dot_res = np.dot(fourbyfour,twobyfourbythree)\n",
    "# like matrix product\n",
    "matmul_res = np.matmul(fourbyfour,twobyfourbythree)\n",
    "print('4x4*4x2x3 dot {}:\\n {}\\n'.format(dot_res.shape, dot_res))\n",
    "print('4x4*4x2x3 matmul {}:\\n {}\\n'.format(matmul_res.shape, matmul_res))"
   ]
  },
  {
   "cell_type": "code",
   "execution_count": 0,
   "metadata": {
    "colab": {},
    "colab_type": "code",
    "id": "JY03g_bEHLLe"
   },
   "outputs": [],
   "source": [
    "* Векторы и матрицы"
   ]
  },
  {
   "cell_type": "code",
   "execution_count": 22,
   "metadata": {
    "colab": {},
    "colab_type": "code",
    "id": "HKDz1cB9aSEU"
   },
   "outputs": [],
   "source": [
    "b = np.array([\n",
    "    [1, 2, 3],\n",
    "    [4, 5, 6]\n",
    "])"
   ]
  },
  {
   "cell_type": "markdown",
   "metadata": {
    "colab_type": "text",
    "id": "FFiel6s3HLLp"
   },
   "source": [
    "Наш 2-мерный массив __b__, также его можно назвать матрицей, имеет 2 строки и 3 столбца.\n",
    "То есть наша матрица состоит из 2 вектор-строк:"
   ]
  },
  {
   "cell_type": "code",
   "execution_count": 23,
   "metadata": {
    "colab": {
     "base_uri": "https://localhost:8080/",
     "height": 85
    },
    "colab_type": "code",
    "id": "LxQ6e7GCHLLq",
    "outputId": "73464f93-9185-4df4-c8d9-acd0deb73fde"
   },
   "outputs": [
    {
     "name": "stdout",
     "output_type": "stream",
     "text": [
      "[[1 2 3]\n",
      " [4 5 6]]\n"
     ]
    },
    {
     "data": {
      "text/plain": [
       "array([[1],\n",
       "       [4]])"
      ]
     },
     "execution_count": 23,
     "metadata": {},
     "output_type": "execute_result"
    }
   ],
   "source": [
    "print(b)\n",
    "b[0:2,0:1]"
   ]
  },
  {
   "cell_type": "code",
   "execution_count": 24,
   "metadata": {
    "colab": {},
    "colab_type": "code",
    "id": "q1V4QuJvHLLs"
   },
   "outputs": [
    {
     "data": {
      "text/plain": [
       "array([[4, 5, 6]])"
      ]
     },
     "execution_count": 24,
     "metadata": {},
     "output_type": "execute_result"
    }
   ],
   "source": [
    "b[1:2]"
   ]
  },
  {
   "cell_type": "markdown",
   "metadata": {
    "colab_type": "text",
    "id": "UX0T5yRzHLLv"
   },
   "source": [
    "Обычно в линейной алгебре под любым вектором подразумевается вектор-столбец. Наша матрица содержит 3 вектор-стобца:"
   ]
  },
  {
   "cell_type": "code",
   "execution_count": 25,
   "metadata": {
    "colab": {
     "base_uri": "https://localhost:8080/",
     "height": 51
    },
    "colab_type": "code",
    "id": "0kWqkkhmHLLv",
    "outputId": "de68cadf-c713-4876-adfa-d4d5fca75c2a"
   },
   "outputs": [
    {
     "data": {
      "text/plain": [
       "array([[1],\n",
       "       [4]])"
      ]
     },
     "execution_count": 25,
     "metadata": {},
     "output_type": "execute_result"
    }
   ],
   "source": [
    "b[:, 0:1]"
   ]
  },
  {
   "cell_type": "code",
   "execution_count": 26,
   "metadata": {
    "colab": {
     "base_uri": "https://localhost:8080/",
     "height": 51
    },
    "colab_type": "code",
    "id": "CxUwuDqUHLLx",
    "outputId": "9e092db8-9f94-4a0c-b892-046dd8c90a64"
   },
   "outputs": [
    {
     "data": {
      "text/plain": [
       "array([[2],\n",
       "       [5]])"
      ]
     },
     "execution_count": 26,
     "metadata": {},
     "output_type": "execute_result"
    }
   ],
   "source": [
    "b[:, 1:2]"
   ]
  },
  {
   "cell_type": "code",
   "execution_count": 27,
   "metadata": {
    "colab": {
     "base_uri": "https://localhost:8080/",
     "height": 51
    },
    "colab_type": "code",
    "id": "ulY47VBJHLL1",
    "outputId": "235e64ff-b067-4d2f-db06-dbbc0eabab61"
   },
   "outputs": [
    {
     "data": {
      "text/plain": [
       "array([[3],\n",
       "       [6]])"
      ]
     },
     "execution_count": 27,
     "metadata": {},
     "output_type": "execute_result"
    }
   ],
   "source": [
    "b[:, 2:3]"
   ]
  },
  {
   "cell_type": "markdown",
   "metadata": {
    "colab_type": "text",
    "id": "j5YLEr1YHLMe"
   },
   "source": [
    "## Операции с матрицами"
   ]
  },
  {
   "cell_type": "code",
   "execution_count": 29,
   "metadata": {
    "colab": {},
    "colab_type": "code",
    "id": "LuHvQIYYHLMe"
   },
   "outputs": [],
   "source": [
    "A = np.array([[1, 0], [0, 1]])\n",
    "B = np.array([[4, 1], [2, 2]])"
   ]
  },
  {
   "cell_type": "markdown",
   "metadata": {
    "colab_type": "text",
    "id": "Y7CJCuL5HLMl"
   },
   "source": [
    "__Напоминание теории.__ __Транспонированной матрицей__ $A^{T}$ называется матрица, полученная из исходной матрицы $A$ заменой строк на столбцы. Формально: элементы матрицы $A^{T}$ определяются как $a^{T}_{ij} = a_{ji}$, где $a^{T}_{ij}$ — элемент матрицы $A^{T}$, стоящий на пересечении строки с номером $i$ и столбца с номером $j$.\n",
    "\n",
    "В `NumPy` транспонированная матрица вычисляется с помощью функции __`numpy.transpose()`__ или с помощью _метода_ __`array.T`__, где __`array`__ — нужный двумерный массив."
   ]
  },
  {
   "cell_type": "code",
   "execution_count": 30,
   "metadata": {
    "colab": {},
    "colab_type": "code",
    "id": "Q6G6FzQ3HLMl"
   },
   "outputs": [],
   "source": [
    "a = np.array([[1, 2], [3, 4]])\n",
    "b = np.transpose(a)\n",
    "c = a.T"
   ]
  },
  {
   "cell_type": "code",
   "execution_count": 31,
   "metadata": {
    "colab": {
     "base_uri": "https://localhost:8080/",
     "height": 170
    },
    "colab_type": "code",
    "id": "_dBqecA2HLMn",
    "outputId": "d03838ae-733c-4974-e186-2d0bca1588a6"
   },
   "outputs": [
    {
     "name": "stdout",
     "output_type": "stream",
     "text": [
      "Матрица:\n",
      " [[1 2]\n",
      " [3 4]]\n",
      "Транспонирование функцией:\n",
      " [[1 3]\n",
      " [2 4]]\n",
      "Транспонирование методом:\n",
      " [[1 3]\n",
      " [2 4]]\n"
     ]
    }
   ],
   "source": [
    "print(\"Матрица:\\n\", a)\n",
    "print(\"Транспонирование функцией:\\n\", b)\n",
    "print(\"Транспонирование методом:\\n\",  c)"
   ]
  },
  {
   "cell_type": "code",
   "execution_count": 32,
   "metadata": {
    "colab": {},
    "colab_type": "code",
    "id": "xRH5WThdwJ_m"
   },
   "outputs": [
    {
     "data": {
      "text/plain": [
       "array([[ 5, 11],\n",
       "       [11, 25]])"
      ]
     },
     "execution_count": 32,
     "metadata": {},
     "output_type": "execute_result"
    }
   ],
   "source": [
    "a @ b"
   ]
  },
  {
   "cell_type": "markdown",
   "metadata": {
    "colab_type": "text",
    "id": "gPABHln8HLMp"
   },
   "source": [
    "__Напоминание теории.__ Операция __умножения__ определена для двух матриц, таких что число столбцов первой равно числу строк второй. \n",
    "\n",
    "Пусть матрицы $A$ и $B$ таковы, что $A \\in \\mathbb{R}^{n \\times k}$ и $B \\in \\mathbb{R}^{k \\times m}$. __Произведением__ матриц $A$ и $B$ называется матрица $C$, такая что $c_{ij} = \\sum_{r=1}^{k} a_{ir}b_{rj}$, где $c_{ij}$ — элемент матрицы $C$, стоящий на пересечении строки с номером $i$ и столбца с номером $j$.\n",
    "\n",
    "В `NumPy` произведение матриц вычисляется с помощью функции __`numpy.dot(a, b, ...)`__ или с помощью _метода_ __`array1.dot(array2)`__, где __`array1`__ и __`array2`__ — перемножаемые матрицы."
   ]
  },
  {
   "cell_type": "code",
   "execution_count": 33,
   "metadata": {
    "colab": {},
    "colab_type": "code",
    "id": "nvmP9mmLHLMq"
   },
   "outputs": [],
   "source": [
    "y = np.array([1, 0])\n",
    "z = np.dot(A, y)"
   ]
  },
  {
   "cell_type": "code",
   "execution_count": 34,
   "metadata": {
    "colab": {
     "base_uri": "https://localhost:8080/",
     "height": 34
    },
    "colab_type": "code",
    "id": "YIsxb9UdK06n",
    "outputId": "805319e4-cfe2-42ca-95cc-7a04b1bf6d22"
   },
   "outputs": [
    {
     "name": "stdout",
     "output_type": "stream",
     "text": [
      "[1. 0.]\n"
     ]
    }
   ],
   "source": [
    "y = np.linalg.solve(A, z)\n",
    "print(y)"
   ]
  },
  {
   "cell_type": "markdown",
   "metadata": {
    "colab_type": "text",
    "id": "4t6WW1poHLMs"
   },
   "source": [
    "#### Линейная алгебра (модуль `np.linalg`)zxxz"
   ]
  },
  {
   "cell_type": "code",
   "execution_count": 37,
   "metadata": {
    "colab": {
     "base_uri": "https://localhost:8080/",
     "height": 51
    },
    "colab_type": "code",
    "id": "UyCMO5DvHLMt",
    "outputId": "4c18b318-c15f-4eeb-8f40-c20998730ef2"
   },
   "outputs": [
    {
     "name": "stdout",
     "output_type": "stream",
     "text": [
      "[[4 1]\n",
      " [2 2]]\n"
     ]
    }
   ],
   "source": [
    "A = np.array([[1, 0], [0, 1]])\n",
    "x = np.array([[4, 1], [2, 2]])\n",
    "b = np.dot(A, x)\n",
    "print(b)"
   ]
  },
  {
   "cell_type": "markdown",
   "metadata": {
    "colab_type": "text",
    "id": "Fse23NT-HLMu"
   },
   "source": [
    "* Решение линейной системы __$Ax=b$__:"
   ]
  },
  {
   "cell_type": "code",
   "execution_count": 38,
   "metadata": {
    "colab": {
     "base_uri": "https://localhost:8080/",
     "height": 324
    },
    "colab_type": "code",
    "id": "zzseRnnjHLMv",
    "outputId": "95e2445c-fd58-4ae4-db29-9fbb36484548"
   },
   "outputs": [
    {
     "name": "stdout",
     "output_type": "stream",
     "text": [
      "[[4. 1.]\n",
      " [2. 2.]]\n"
     ]
    }
   ],
   "source": [
    "x = np.linalg.solve(A, b)\n",
    "print(x)"
   ]
  },
  {
   "cell_type": "markdown",
   "metadata": {
    "colab_type": "text",
    "id": "GV6WaYJ3K06x"
   },
   "source": [
    "### Библиотека SciPy"
   ]
  },
  {
   "cell_type": "markdown",
   "metadata": {
    "colab_type": "text",
    "id": "rfbdWyb7K06x"
   },
   "source": [
    "* Оптимизация функции (нахождение минимума/максимума):"
   ]
  },
  {
   "cell_type": "code",
   "execution_count": 39,
   "metadata": {
    "colab": {},
    "colab_type": "code",
    "id": "8UhGZKOEK06y"
   },
   "outputs": [],
   "source": [
    "from scipy.optimize import minimize"
   ]
  },
  {
   "cell_type": "markdown",
   "metadata": {
    "colab_type": "text",
    "id": "9adfxLQHK06y"
   },
   "source": [
    "Обязательно посмотрите документацию, сходу не очевидно, как именно использовать:"
   ]
  },
  {
   "cell_type": "code",
   "execution_count": 40,
   "metadata": {
    "colab": {},
    "colab_type": "code",
    "id": "_vpG937gK06y"
   },
   "outputs": [],
   "source": [
    "?minimize"
   ]
  },
  {
   "cell_type": "markdown",
   "metadata": {
    "colab_type": "text",
    "id": "tOHJi6hZK06z"
   },
   "source": [
    "Опмтимизируем (минимизируем) простую функцию:"
   ]
  },
  {
   "cell_type": "code",
   "execution_count": 41,
   "metadata": {
    "colab": {},
    "colab_type": "code",
    "id": "7cyblRsMK06z"
   },
   "outputs": [],
   "source": [
    "def f(x):\n",
    "    return x ** 2"
   ]
  },
  {
   "cell_type": "code",
   "execution_count": 42,
   "metadata": {
    "colab": {
     "base_uri": "https://localhost:8080/",
     "height": 286
    },
    "colab_type": "code",
    "id": "jg1vmj6oyRhB",
    "outputId": "4b3e0b47-a718-4dfb-90e4-d5fa81d2c3c9"
   },
   "outputs": [
    {
     "data": {
      "text/plain": [
       "[<matplotlib.lines.Line2D at 0x11f6aac8630>]"
      ]
     },
     "execution_count": 42,
     "metadata": {},
     "output_type": "execute_result"
    },
    {
     "data": {
      "image/png": "[encoded data removed]",
      "text/plain": [
       "<Figure size 432x288 with 1 Axes>"
      ]
     },
     "metadata": {
      "needs_background": "light"
     },
     "output_type": "display_data"
    }
   ],
   "source": [
    "%matplotlib inline\n",
    "import matplotlib.pyplot as plt\n",
    "\n",
    "x = np.arange(-3, 3, .1)\n",
    "y = f(x)\n",
    "\n",
    "plt.plot(x,y)\n",
    "# plt.show()"
   ]
  },
  {
   "cell_type": "code",
   "execution_count": 43,
   "metadata": {
    "colab": {},
    "colab_type": "code",
    "id": "8AQZT2IDK060"
   },
   "outputs": [],
   "source": [
    "res = minimize(f, x0=100)"
   ]
  },
  {
   "cell_type": "code",
   "execution_count": 44,
   "metadata": {
    "colab": {
     "base_uri": "https://localhost:8080/",
     "height": 187
    },
    "colab_type": "code",
    "id": "u5-yXZoDK060",
    "outputId": "801a7a21-6a29-4395-b365-e3015754bdf8"
   },
   "outputs": [
    {
     "data": {
      "text/plain": [
       "      fun: 5.552074997367714e-17\n",
       " hess_inv: array([[0.50000004]])\n",
       "      jac: array([-1.28826571e-12])\n",
       "  message: 'Optimization terminated successfully.'\n",
       "     nfev: 21\n",
       "      nit: 4\n",
       "     njev: 7\n",
       "   status: 0\n",
       "  success: True\n",
       "        x: array([-7.45122473e-09])"
      ]
     },
     "execution_count": 44,
     "metadata": {},
     "output_type": "execute_result"
    }
   ],
   "source": [
    "res"
   ]
  },
  {
   "cell_type": "markdown",
   "metadata": {
    "colab_type": "text",
    "id": "JPQkniL8K061"
   },
   "source": [
    "Тут нужно смотреть на 4 строчки: `fun, message, success и x`  \n",
    "`fun` - значние функции в точке минимума  \n",
    "`message` - служебное сообщение об окончании процесса (может быть \"успешно\", как здесь, или сообщение о том, что что-то пошло не так (\"не сошлось\"))  \n",
    "`success` - True, если успешно сошлось (но лучше всегда всё же смотреть и `message`)  \n",
    "`x` - точка, в которой достигается минимум"
   ]
  },
  {
   "cell_type": "markdown",
   "metadata": {
    "colab_type": "text",
    "id": "JutOzQrlK062"
   },
   "source": [
    "Можно в аргумент `method` подавать разные ключевые слова для смены метода оптимизации, подробнее о них лучше читать документацию или погуглить."
   ]
  },
  {
   "cell_type": "markdown",
   "metadata": {
    "colab_type": "text",
    "id": "eNfjwNPcK062"
   },
   "source": [
    "* Интегрирование:"
   ]
  },
  {
   "cell_type": "code",
   "execution_count": 45,
   "metadata": {
    "colab": {},
    "colab_type": "code",
    "id": "v07dtKwdK062"
   },
   "outputs": [],
   "source": [
    "from scipy.integrate import quad, odeint\n",
    "from scipy.special import erf"
   ]
  },
  {
   "cell_type": "code",
   "execution_count": 46,
   "metadata": {
    "colab": {},
    "colab_type": "code",
    "id": "5JAJF-RHK063"
   },
   "outputs": [],
   "source": [
    "def f(x):\n",
    "    return np.exp(-x ** 2)\n",
    "?erf  "
   ]
  },
  {
   "cell_type": "code",
   "execution_count": 47,
   "metadata": {
    "colab": {
     "base_uri": "https://localhost:8080/",
     "height": 269
    },
    "colab_type": "code",
    "id": "VpncsF4KylNB",
    "outputId": "c538acdf-651f-4818-f7ce-33182d55d3ae"
   },
   "outputs": [
    {
     "data": {
      "image/png": "[encoded data removed]",
      "text/plain": [
       "<Figure size 432x288 with 1 Axes>"
      ]
     },
     "metadata": {
      "needs_background": "light"
     },
     "output_type": "display_data"
    }
   ],
   "source": [
    "%matplotlib inline\n",
    "import matplotlib.pyplot as plt\n",
    "\n",
    "x = np.arange(-3, 3, .1)\n",
    "y = f(x)\n",
    "\n",
    "plt.plot(x,y);\n",
    "# plt.show()"
   ]
  },
  {
   "cell_type": "markdown",
   "metadata": {
    "colab_type": "text",
    "id": "EI4PK884K063"
   },
   "source": [
    "Адаптивное численное интегрирование (может быть до бесконечности). `err` - оценка ошибки."
   ]
  },
  {
   "cell_type": "code",
   "execution_count": 48,
   "metadata": {
    "colab": {
     "base_uri": "https://localhost:8080/",
     "height": 34
    },
    "colab_type": "code",
    "id": "rMrrAR8EK063",
    "outputId": "dcc46c68-028e-43ad-eb29-57ee3a861a3e"
   },
   "outputs": [
    {
     "name": "stdout",
     "output_type": "stream",
     "text": [
      "0.8862269254527579 0.8862269254527579 7.101318390915439e-09\n"
     ]
    }
   ],
   "source": [
    "res, err = quad(f, 0, np.inf)\n",
    "print(np.sqrt(np.pi) / 2, res, err)"
   ]
  },
  {
   "cell_type": "code",
   "execution_count": 50,
   "metadata": {
    "colab": {
     "base_uri": "https://localhost:8080/",
     "height": 34
    },
    "colab_type": "code",
    "id": "nUGcUPBBK064",
    "outputId": "21f5eb5e-2522-4021-9fec-0f130c2c473c"
   },
   "outputs": [
    {
     "name": "stdout",
     "output_type": "stream",
     "text": [
      "0.7468241328124269 0.7468241328124271 8.291413475940725e-15\n"
     ]
    }
   ],
   "source": [
    "res, err = quad(f, 0, 1)\n",
    "print(np.sqrt(np.pi) / 2 * erf(1), res, err)\n",
    "?erf\n"
   ]
  },
  {
   "cell_type": "markdown",
   "metadata": {
    "colab_type": "text",
    "id": "7gHqPZZHRV2f"
   },
   "source": [
    "## Поиграем с изображением\n",
    "Изображение - это тензор. Загрузим картинку из сети."
   ]
  },
  {
   "cell_type": "code",
   "execution_count": 51,
   "metadata": {
    "colab": {},
    "colab_type": "code",
    "id": "IQqrKhgjaSFD"
   },
   "outputs": [],
   "source": [
    "from PIL import Image\n",
    "import requests\n",
    "from io import BytesIO\n",
    "\n",
    "url = 'https://s8.hostingkartinok.com/uploads/images/2018/08/308b49fcfbc619d629fe4604bceb67ac.jpg'\n",
    "\n",
    "response = requests.get(url)\n",
    "img = Image.open(BytesIO(response.content))"
   ]
  },
  {
   "cell_type": "code",
   "execution_count": 52,
   "metadata": {
    "colab": {
     "base_uri": "https://localhost:8080/",
     "height": 34
    },
    "colab_type": "code",
    "id": "VvmoZT798Mjo",
    "outputId": "ccbc3cfb-6976-4f94-c916-8cc1d52e2850"
   },
   "outputs": [
    {
     "data": {
      "text/plain": [
       "PIL.JpegImagePlugin.JpegImageFile"
      ]
     },
     "execution_count": 52,
     "metadata": {},
     "output_type": "execute_result"
    }
   ],
   "source": [
    "type(img)"
   ]
  },
  {
   "cell_type": "markdown",
   "metadata": {
    "colab_type": "text",
    "id": "-j48ouBxRsbJ"
   },
   "source": [
    "Код выше был скопирован с гугла и не представляет для нас большого интереса. Главное - получить изображение в формате numpy:"
   ]
  },
  {
   "cell_type": "code",
   "execution_count": 53,
   "metadata": {
    "colab": {
     "base_uri": "https://localhost:8080/",
     "height": 34
    },
    "colab_type": "code",
    "id": "gNvRYxevHy3N",
    "outputId": "601a0f6f-60bf-4d10-b1fc-f1111debbfe9"
   },
   "outputs": [
    {
     "data": {
      "text/plain": [
       "(851, 1024, 3)"
      ]
     },
     "execution_count": 53,
     "metadata": {},
     "output_type": "execute_result"
    }
   ],
   "source": [
    "img = np.array(img)\n",
    "img.shape"
   ]
  },
  {
   "cell_type": "code",
   "execution_count": 54,
   "metadata": {
    "colab": {
     "base_uri": "https://localhost:8080/",
     "height": 286
    },
    "colab_type": "code",
    "id": "dwDVnMM5GoUl",
    "outputId": "7f260d0f-2925-4b06-d263-ab8ec6e083a3"
   },
   "outputs": [
    {
     "data": {
      "text/plain": [
       "<matplotlib.image.AxesImage at 0x11f6b301780>"
      ]
     },
     "execution_count": 54,
     "metadata": {},
     "output_type": "execute_result"
    },
    {
     "data": {
      "image/png": "[encoded data removed]",
      "text/plain": [
       "<Figure size 432x288 with 1 Axes>"
      ]
     },
     "metadata": {
      "needs_background": "light"
     },
     "output_type": "display_data"
    }
   ],
   "source": [
    "from matplotlib import pyplot as plt\n",
    "plt.imshow(img)"
   ]
  },
  {
   "cell_type": "code",
   "execution_count": 57,
   "metadata": {
    "colab": {
     "base_uri": "https://localhost:8080/",
     "height": 286
    },
    "colab_type": "code",
    "id": "dBD8QGRpGsQE",
    "outputId": "1b4b25d9-2cfd-4a0f-8cae-157ca5a7e9bc"
   },
   "outputs": [
    {
     "data": {
      "text/plain": [
       "<matplotlib.image.AxesImage at 0x11f6bb9d6a0>"
      ]
     },
     "execution_count": 57,
     "metadata": {},
     "output_type": "execute_result"
    },
    {
     "data": {
      "image/png": "[encoded data removed]",
      "text/plain": [
       "<Figure size 432x288 with 1 Axes>"
      ]
     },
     "metadata": {
      "needs_background": "light"
     },
     "output_type": "display_data"
    }
   ],
   "source": [
    "# RGB => BGR (blue, green, red)\n",
    "img2 = img[:, :, ::-1]\n",
    "plt.imshow(img2)"
   ]
  },
  {
   "cell_type": "code",
   "execution_count": 59,
   "metadata": {
    "colab": {
     "base_uri": "https://localhost:8080/",
     "height": 286
    },
    "colab_type": "code",
    "id": "Tj1XJf5KH3y0",
    "outputId": "35aff885-20fd-4b0a-bbb6-d2167f6268a3"
   },
   "outputs": [
    {
     "data": {
      "text/plain": [
       "<matplotlib.image.AxesImage at 0x11f6bef7860>"
      ]
     },
     "execution_count": 59,
     "metadata": {},
     "output_type": "execute_result"
    },
    {
     "data": {
      "image/png": "[encoded data removed]",
      "text/plain": [
       "<Figure size 432x288 with 1 Axes>"
      ]
     },
     "metadata": {
      "needs_background": "light"
     },
     "output_type": "display_data"
    }
   ],
   "source": [
    "# flip vertically\n",
    "img3 = img[:, ::-1]\n",
    "plt.imshow(img3)"
   ]
  },
  {
   "cell_type": "code",
   "execution_count": 60,
   "metadata": {
    "colab": {
     "base_uri": "https://localhost:8080/",
     "height": 34
    },
    "colab_type": "code",
    "id": "vRga1T60H7cg",
    "outputId": "3f933588-ea79-43fe-8d73-919b0fb4d38b"
   },
   "outputs": [
    {
     "data": {
      "text/plain": [
       "(3, 851, 1024, 3)"
      ]
     },
     "execution_count": 60,
     "metadata": {},
     "output_type": "execute_result"
    }
   ],
   "source": [
    "batch = np.concatenate([img[None, :, :, :], img2[None, :, :, :], img3[None, :, :, :]])\n",
    "batch.shape"
   ]
  },
  {
   "cell_type": "code",
   "execution_count": 61,
   "metadata": {
    "colab": {
     "base_uri": "https://localhost:8080/",
     "height": 286
    },
    "colab_type": "code",
    "id": "0HSbP-ZwIEoS",
    "outputId": "40e61c43-6191-4822-f0b5-37c4630ee2bb"
   },
   "outputs": [
    {
     "data": {
      "text/plain": [
       "<matplotlib.image.AxesImage at 0x11f6d700ac8>"
      ]
     },
     "execution_count": 61,
     "metadata": {},
     "output_type": "execute_result"
    },
    {
     "data": {
      "image/png": "[encoded data removed]",
      "text/plain": [
       "<Figure size 432x288 with 1 Axes>"
      ]
     },
     "metadata": {
      "needs_background": "light"
     },
     "output_type": "display_data"
    }
   ],
   "source": [
    "# sum up color chanel\n",
    "img4 = img.sum(axis=2)\n",
    "#plt.imshow(img4)\n",
    "plt.imshow(img4, cmap=plt.cm.gray)"
   ]
  },
  {
   "cell_type": "code",
   "execution_count": 62,
   "metadata": {
    "colab": {
     "base_uri": "https://localhost:8080/",
     "height": 34
    },
    "colab_type": "code",
    "id": "ymtoMMel8XjG",
    "outputId": "f6ca32d4-204c-4080-d24b-919d3a798fd8"
   },
   "outputs": [
    {
     "data": {
      "text/plain": [
       "(851, 1024)"
      ]
     },
     "execution_count": 62,
     "metadata": {},
     "output_type": "execute_result"
    }
   ],
   "source": [
    "img4.shape"
   ]
  },
  {
   "cell_type": "markdown",
   "metadata": {
    "colab_type": "text",
    "id": "JqUN04vPK065"
   },
   "source": [
    "## Список материалов для самостоятельного изучения"
   ]
  },
  {
   "cell_type": "markdown",
   "metadata": {
    "colab_type": "text",
    "id": "a6m68ZUgK065"
   },
   "source": [
    "*Статья на Хабре по основам NumPy - https://habr.com/post/121031/*  \n",
    "\n",
    "*100 задач по NumPy для любителей посидеть вечерком за чашечкой программирования* - https://pythonworld.ru/numpy/100-exercises.html  \n",
    "\n",
    "*Очень крутой, продвинутый ноутбук по NumPy* - https://nbviewer.jupyter.org/github/vlad17/np-learn/blob/master/presentation.ipynb\n",
    "\n",
    "*Штука, которая вам в будущем может пригодиться ;)* - https://stackoverflow.com/questions/27948363/numpy-broadcast-to-perform-euclidean-distance-vectorized/35814006  \n",
    "\n",
    "*Лекции по SciPy и NumPy* - http://www.scipy-lectures.org/index.html"
   ]
  }
 ],
 "metadata": {
  "colab": {
   "collapsed_sections": [],
   "name": "[seminar,prodv]2_Numpy.ipynb",
   "provenance": []
  },
  "hide_input": false,
  "kernelspec": {
   "display_name": "Python 3",
   "language": "python",
   "name": "python3"
  },
  "language_info": {
   "codemirror_mode": {
    "name": "ipython",
    "version": 3
   },
   "file_extension": ".py",
   "mimetype": "text/x-python",
   "name": "python",
   "nbconvert_exporter": "python",
   "pygments_lexer": "ipython3",
   "version": "3.7.3"
  },
  "varInspector": {
   "cols": {
    "lenName": 16,
    "lenType": 16,
    "lenVar": 40
   },
   "kernels_config": {
    "python": {
     "delete_cmd_postfix": "",
     "delete_cmd_prefix": "del ",
     "library": "var_list.py",
     "varRefreshCmd": "print(var_dic_list())"
    },
    "r": {
     "delete_cmd_postfix": ") ",
     "delete_cmd_prefix": "rm(",
     "library": "var_list.r",
     "varRefreshCmd": "cat(var_dic_list()) "
    }
   },
   "types_to_exclude": [
    "module",
    "function",
    "builtin_function_or_method",
    "instance",
    "_Feature"
   ],
   "window_display": false
  }
 },
 "nbformat": 4,
 "nbformat_minor": 1
}
