{
 "cells": [
  {
   "cell_type": "markdown",
   "metadata": {
    "colab_type": "text",
    "id": "hoxBEVcAmvQF"
   },
   "source": [
    "<p style=\"align: center;\"><img align=center src=\"https://s8.hostingkartinok.com/uploads/images/2018/08/308b49fcfbc619d629fe4604bceb67ac.jpg\" style=\"height:90px;\" width=500/></p>\n",
    "\n",
    "<h3 style=\"text-align: center;\"><b>Физтех-Школа Прикладной математики и информатики (ФПМИ) МФТИ</b></h3>"
   ]
  },
  {
   "cell_type": "markdown",
   "metadata": {
    "colab_type": "text",
    "id": "fqKI3PvQqk-x"
   },
   "source": [
    "---"
   ]
  },
  {
   "cell_type": "markdown",
   "metadata": {
    "colab_type": "text",
    "id": "nNHiiRDYk09K"
   },
   "source": [
    "<h3 style=\"text-align: center;\"><b>Convolution and pooling operations</b></h3>"
   ]
  },
  {
   "cell_type": "markdown",
   "metadata": {
    "colab_type": "text",
    "id": "Nm7aIzDKk0_W"
   },
   "source": [
    "---"
   ]
  },
  {
   "cell_type": "markdown",
   "metadata": {
    "colab_type": "text",
    "id": "bKKVmlbQoL6j"
   },
   "source": [
    "### Convolution (свёртка)"
   ]
  },
  {
   "cell_type": "markdown",
   "metadata": {
    "colab_type": "text",
    "id": "FTx--liIcRvb"
   },
   "source": [
    "На этом семинаре мы посмотрим, как свёртки влияют на изображение и попрактикуемся в вычислении свёрток и пулингов от различных изображений.\n",
    "\n",
    "Для начала напомним, что такое свёртка:"
   ]
  },
  {
   "cell_type": "markdown",
   "metadata": {
    "colab_type": "text",
    "id": "uqB6WXdvcRxk"
   },
   "source": [
    "<img src=\"https://neurohive.io/wp-content/uploads/2018/07/convolutional-neural-network.gif\" width=450 height=400>"
   ]
  },
  {
   "cell_type": "markdown",
   "metadata": {
    "colab_type": "text",
    "id": "6ecEffsDfGon"
   },
   "source": [
    "*https://neurohive.io/wp-content/uploads/2018/07/convolutional-neural-network.gif*"
   ]
  },
  {
   "cell_type": "markdown",
   "metadata": {
    "colab_type": "text",
    "id": "lJYJIrjtcyd3"
   },
   "source": [
    "То есть мы берём фильтр размера FxF, умножаем его на область изображения размером FxF поэлементно, складываем получившиеся поэлемнетные произведения и записываем это число в результирующий тензор.\n",
    "\n",
    "Если картинка размера HxWx3, то фильтр будет размер FxFx3, и поэлементное произведение будет по всему объёму, то есть третья размерность фильтра всегда свопадает с третьей размерностью входного тензора (не считая MobileNet, там есть depthwise separable convolution)."
   ]
  },
  {
   "cell_type": "markdown",
   "metadata": {
    "colab_type": "text",
    "id": "_ohz-kSFcygB"
   },
   "source": [
    "Напомним, что stride -- это размер шага окна свёртка по осям x и y (обычно совпадают, но вполне могут быть и разными). "
   ]
  },
  {
   "cell_type": "markdown",
   "metadata": {
    "colab_type": "text",
    "id": "x0_Bv0O-gzE3"
   },
   "source": [
    "---"
   ]
  },
  {
   "cell_type": "markdown",
   "metadata": {
    "colab_type": "text",
    "id": "QiTZg8f5gVk9"
   },
   "source": [
    "Посмотрим на то, как применение свёртки с определёнными фильтрами влияет на изображение. На этот счёт есть хорошая статья на Хабрахабре:  \n",
    "\n",
    "https://habr.com/post/142818/ "
   ]
  },
  {
   "cell_type": "markdown",
   "metadata": {
    "colab_type": "text",
    "id": "PfNwcnWAiVR3"
   },
   "source": [
    "Возьмём код из статьи и посмотрим, как будет меняться картинка в зависимости от фильтра:"
   ]
  },
  {
   "cell_type": "code",
   "execution_count": 2,
   "metadata": {
    "colab": {
     "base_uri": "https://localhost:8080/",
     "height": 208
    },
    "colab_type": "code",
    "executionInfo": {
     "elapsed": 4939,
     "status": "ok",
     "timestamp": 1573315449205,
     "user": {
      "displayName": "Yury Yarovikov",
      "photoUrl": "https://lh3.googleusercontent.com/a-/AAuE7mC24lfRb5mqvHhq4-WOsbzM6PTdlPQIH4hwnhO_=s64",
      "userId": "05223355485824927663"
     },
     "user_tz": -180
    },
    "id": "-KEz7te5i9ay",
    "outputId": "0757091d-0b0a-4041-c58a-7b2706317362"
   },
   "outputs": [],
   "source": [
    "#! wget https://www.kotzendes-einhorn.de/blog/wp-content/uploads/2011/01/lenna.jpg"
   ]
  },
  {
   "cell_type": "code",
   "execution_count": 3,
   "metadata": {
    "colab": {
     "base_uri": "https://localhost:8080/",
     "height": 269
    },
    "colab_type": "code",
    "executionInfo": {
     "elapsed": 1642,
     "status": "ok",
     "timestamp": 1573315450562,
     "user": {
      "displayName": "Yury Yarovikov",
      "photoUrl": "https://lh3.googleusercontent.com/a-/AAuE7mC24lfRb5mqvHhq4-WOsbzM6PTdlPQIH4hwnhO_=s64",
      "userId": "05223355485824927663"
     },
     "user_tz": -180
    },
    "id": "9WxCdlpmjrxr",
    "outputId": "69359c4e-1ebc-496d-9f78-09a584977a8d"
   },
   "outputs": [],
   "source": [
    "from PIL import Image\n",
    "from math import ceil, sqrt\n",
    "from math import floor\n",
    "\n",
    "import matplotlib.pyplot as plt\n",
    "\n",
    "#https://habrahabr.ru/post/142818/\n",
    "def checkByte(a):\n",
    "    if a > 255:\n",
    "        a = 255\n",
    "    if a < 0:\n",
    "        a = 0\n",
    "    return a\n",
    "  \n",
    "\n",
    "def svertka(a, b):\n",
    "    sum = 0\n",
    "    for i in range(len(a)):\n",
    "        for j in range(len(a[0])):\n",
    "            sum += a[i][j] * b[i][j]\n",
    "    return sum\n",
    "  \n",
    "\n",
    "def median(a):\n",
    "    c = []\n",
    "    for i in range(len(a)):\n",
    "        for j in range(len(a[0])):\n",
    "            c.append(a[i][j])\n",
    "    c.sort()\n",
    "    return c[ceil(len(c)/2)]\n",
    "  \n",
    "\n",
    "def max(a):\n",
    "    c = []\n",
    "    for i in range(len(a)):\n",
    "        for j in range(len(a[0])):\n",
    "            c.append(a[i][j])\n",
    "    c.sort()\n",
    "    return c[len(c)-1]\n",
    "  \n",
    "\n",
    "def min(a):\n",
    "    c = []\n",
    "    for i in range(len(a)):\n",
    "        for j in range(len(a[0])):\n",
    "            c.append(a[i][j])\n",
    "    c.sort()\n",
    "    return c[0]\n",
    "\n",
    "im = Image.open('./lenna.jpg')\n",
    "pixels = im.load()\n",
    "\n",
    "\n",
    "plt.imshow(im);"
   ]
  },
  {
   "cell_type": "code",
   "execution_count": 5,
   "metadata": {
    "colab": {
     "base_uri": "https://localhost:8080/",
     "height": 269
    },
    "colab_type": "code",
    "executionInfo": {
     "elapsed": 7545,
     "status": "ok",
     "timestamp": 1573315533768,
     "user": {
      "displayName": "Yury Yarovikov",
      "photoUrl": "https://lh3.googleusercontent.com/a-/AAuE7mC24lfRb5mqvHhq4-WOsbzM6PTdlPQIH4hwnhO_=s64",
      "userId": "05223355485824927663"
     },
     "user_tz": -180
    },
    "id": "rhw2cNclibZe",
    "outputId": "9cbec239-2da6-44fa-dba5-4d71be9cbba8"
   },
   "outputs": [
    {
     "data": {
      "image/png": "[encoded data removed]",
      "text/plain": [
       "<Figure size 432x288 with 1 Axes>"
      ]
     },
     "metadata": {
      "needs_background": "light"
     },
     "output_type": "display_data"
    }
   ],
   "source": [
    "imFinal = im.copy()\n",
    "pixels2 = imFinal.load()\n",
    "\n",
    "\"\"\"\n",
    "filter = [\n",
    "    [-1, -1, 0, 0, 0],\n",
    "    [0, -1, -1, -1, 0],\n",
    "    [0, -1, 9, -1, 0],\n",
    "    [0, -1, -1, -1, 0],\n",
    "    [0, 0, 0, 0, 0]\n",
    "]\n",
    "\"\"\"\n",
    "\n",
    "\"\"\"\n",
    "filter = [\n",
    "    [-1, -1, -1, -1, -1],\n",
    "    [-1, -1, -1, -1, -1],\n",
    "    [-1, -1, 4, -1, -1],\n",
    "    [-1, -1, -1, -1, -1],\n",
    "    [-1, -1, -1, -1, -1]\n",
    "]\n",
    "\"\"\"\n",
    "\n",
    "\n",
    "filter = [\n",
    "    [0, 0, 0, 1, 0, 0, 0],\n",
    "    [0, 0, 1, 1, 1, 0, 0],\n",
    "    [0, 1, 1, 1, 1, 1, 0],\n",
    "    [1, 1, 1, 1, 1, 1, 1],\n",
    "    [0, 1, 1, 1, 1, 1, 0],\n",
    "    [0, 0, 1, 1, 1, 0, 0],\n",
    "    [0, 0, 0, 1, 0, 0, 0]\n",
    "]\n",
    "\n",
    "\n",
    "'''\n",
    "filter = [\n",
    "    [-1, -1, -1],\n",
    "    [-1, 9, -1],\n",
    "    [-1, -1, -1]\n",
    "]\n",
    "'''\n",
    "\n",
    "\n",
    "'''\n",
    "filter = [\n",
    "    [0.5, 1.5, 2, 1.5, 0.5],\n",
    "    [1.5, 3.5, 5, 3.5, 1.5],\n",
    "    [  2,   5, 10,  5,   2],\n",
    "    [1.5, 3.5, 5, 3.5, 1.5],\n",
    "    [0.5, 1.5, 2, 1.5, 0.5]\n",
    "]'''\n",
    "\n",
    "\n",
    "div = 0\n",
    "for i in range(len(filter)):\n",
    "    for j in range(len(filter[0])):\n",
    "        div += filter[i][j]\n",
    "if div == 0:\n",
    "    div = 1\n",
    "\n",
    "for i in range(floor(len(filter)/2), im.width - floor(len(filter)/2)):\n",
    "    for j in range(floor(len(filter)/2), im.height - floor(len(filter)/2)):\n",
    "        matrR = []\n",
    "        matrG = []\n",
    "        matrB = []\n",
    "        for n in range(-floor(len(filter)/2), ceil(len(filter)/2)):\n",
    "            rowR = []\n",
    "            rowG = []\n",
    "            rowB = []\n",
    "            for m in range(-floor(len(filter)/2), ceil(len(filter)/2)):\n",
    "                r, g, b = pixels[i + n, j + m]\n",
    "                rowR.append(r)\n",
    "                rowG.append(g)\n",
    "                rowB.append(b)\n",
    "            matrR.append(rowR)\n",
    "            matrG.append(rowG)\n",
    "            matrB.append(rowB)\n",
    "\n",
    "        r = checkByte(round(svertka(matrR, filter) / div))\n",
    "        g = checkByte(round(svertka(matrG, filter) / div))\n",
    "        b = checkByte(round(svertka(matrB, filter) / div))\n",
    "\n",
    "       # r = checkByte(min(matrR))\n",
    "       # g = checkByte(min(matrG))\n",
    "       # b = checkByte(min(matrB))\n",
    "        '''\n",
    "        if r < 512:\n",
    "            pixels2[i, j] = (255, 255, 255)\n",
    "        else:\n",
    "            pixels2[i, j] = (0, 0, 0)'''\n",
    "        pixels2[i, j] = (r, g, b)\n",
    "\n",
    "plt.imshow(imFinal);"
   ]
  },
  {
   "cell_type": "markdown",
   "metadata": {
    "colab_type": "text",
    "id": "YEEsyglXjwvL"
   },
   "source": [
    "Попробуйте поменять фильтр и посмотреть, что будет."
   ]
  },
  {
   "cell_type": "markdown",
   "metadata": {
    "colab_type": "text",
    "id": "qpsz2NnDg0wY"
   },
   "source": [
    "---"
   ]
  },
  {
   "cell_type": "markdown",
   "metadata": {
    "colab_type": "text",
    "id": "KyOdHmyjgwFx"
   },
   "source": [
    "Давайте немного потренируемся в вычислении размера результата применения свёртки к картинке:"
   ]
  },
  {
   "cell_type": "markdown",
   "metadata": {
    "colab_type": "text",
    "id": "cSD3-hWbcR0T"
   },
   "source": [
    "### Задача 1\n",
    "\n",
    "Вычислить размер результата после применения свёртки, $I$ -- размеры входного изображения, $f$ -- размеры фильтра:\n",
    "\n",
    "1). Пример: $I$ = (50, 50, 3), $f$ = (3, 3), $stride$ = 1. Вычисляем (на доске/листочке нагляднее): \n",
    "по ширине: 50 - 3 + 1 = 48,  \n",
    "по высоте: 50 - 3 + 1 = 48,   \n",
    "то есть размер результата будет (48, 48)\n",
    "\n",
    "2). $I$ = (1024, 768, 3), $f$=(5,5), $stride$ = 2\n",
    "\n",
    "3). $I$ = (500, 700, 5), $f$=(7,4), $stride$ = 2\n",
    "\n",
    "Выведите общую формулу для $I$ = (H, W, C), $f$=(F, F) (фильтры обычно всё же квадратные)"
   ]
  },
  {
   "cell_type": "markdown",
   "metadata": {
    "colab_type": "text",
    "id": "sYkgMGupklXL"
   },
   "source": [
    "***((H-F)/S+1)x((W-F)/S+1)***"
   ]
  },
  {
   "cell_type": "markdown",
   "metadata": {
    "colab_type": "text",
    "id": "TcWiBj8XiBex"
   },
   "source": [
    "Напомним, что $padding$ -- это окружение картинки нулями (рамка) (или чем-то другим) для того, чтобы придать изображению после свёртки нужный размер (пэддинг делается до свёртки)."
   ]
  },
  {
   "cell_type": "markdown",
   "metadata": {
    "colab_type": "text",
    "id": "kJI080Xokq_U"
   },
   "source": [
    "***((H+2P-F)/S+1)x((W+2P-F)/S+1)***"
   ]
  },
  {
   "cell_type": "markdown",
   "metadata": {
    "colab_type": "text",
    "id": "EiEbmTaRiBhI"
   },
   "source": [
    "**Вопросы для самоконтроля:**\n",
    "Что такое свёртка?\n",
    "Фильтр?\n",
    "Stride?\n",
    "Padding?"
   ]
  },
  {
   "cell_type": "markdown",
   "metadata": {
    "colab_type": "text",
    "id": "DDYm8-PDiBji"
   },
   "source": [
    "### Pooling"
   ]
  },
  {
   "cell_type": "markdown",
   "metadata": {
    "colab_type": "text",
    "id": "xw3tzbQYoyxy"
   },
   "source": [
    "Pooling (пулинг) -- операция, нужная для уменьшения размерности по ширине и по высоте. Можно брать очень много операций в качестве пулинга, например, минимум из элементов, максимум, среднее, сумму и т.д."
   ]
  },
  {
   "cell_type": "markdown",
   "metadata": {
    "colab_type": "text",
    "id": "c5d3-8FMpAhW"
   },
   "source": [
    "Обычно используется max- и avg-pooling."
   ]
  },
  {
   "cell_type": "markdown",
   "metadata": {
    "colab_type": "text",
    "id": "5P9j08aGov9S"
   },
   "source": [
    "Пример применения max-pooling'а:"
   ]
  },
  {
   "cell_type": "markdown",
   "metadata": {
    "colab_type": "text",
    "id": "Qhk4dNqZoe06"
   },
   "source": [
    "<img src=\"https://i.stack.imgur.com/W9a9n.jpg\">"
   ]
  },
  {
   "cell_type": "markdown",
   "metadata": {
    "colab_type": "text",
    "id": "a1ORuKltpWul"
   },
   "source": [
    "*https://i.stack.imgur.com/W9a9n.jpg*"
   ]
  },
  {
   "cell_type": "markdown",
   "metadata": {
    "colab_type": "text",
    "id": "FxGQ1VuQoe3L"
   },
   "source": [
    "Примеры применения max и avg pooling'ов:\n"
   ]
  },
  {
   "cell_type": "markdown",
   "metadata": {
    "colab_type": "text",
    "id": "keHMyqmfoe5K"
   },
   "source": [
    "<img src=\"https://www.researchgate.net/profile/Zenghui_Wang2/publication/317496930/figure/fig1/AS:551445004066816@1508486142257/Average-versus-max-pooling.png\">"
   ]
  },
  {
   "cell_type": "markdown",
   "metadata": {
    "colab_type": "text",
    "id": "6jJf4keepZBr"
   },
   "source": [
    "*https://www.researchgate.net/profile/Zenghui_Wang2/publication/317496930/figure/fig1/AS:551445004066816@1508486142257/Average-versus-max-pooling.png*"
   ]
  },
  {
   "cell_type": "markdown",
   "metadata": {
    "colab_type": "text",
    "id": "mw0n5Fl8pZD5"
   },
   "source": [
    "Если на вход подаётся изображение с несколькими каналами, то пулинг берётся по каналам, то есть если это цветная картинка HxWxC, и мы применяем к ней pooling 2x2, то получим на выходе (H // 2) x (W // 2) x C"
   ]
  },
  {
   "cell_type": "markdown",
   "metadata": {
    "colab_type": "text",
    "id": "ESB025NApZGM"
   },
   "source": [
    "Эта операция весьма простая, но лучше разобрать несколько примеров (см. на доску)."
   ]
  },
  {
   "cell_type": "markdown",
   "metadata": {
    "colab_type": "text",
    "id": "BIIpG-8lmvSK"
   },
   "source": [
    "<h3 style=\"text-align: center;\"><b>Полезные ссылки</b></h3>"
   ]
  },
  {
   "cell_type": "markdown",
   "metadata": {
    "colab_type": "text",
    "id": "cxjnt47smvSO"
   },
   "source": [
    "1). *Примеры написания нейросетей на PyTorch (офийиальные туториалы) (на английском): https://pytorch.org/tutorials/beginner/pytorch_with_examples.html#examples  \n",
    "https://pytorch.org/tutorials/beginner/blitz/cifar10_tutorial.html*"
   ]
  },
  {
   "cell_type": "markdown",
   "metadata": {
    "colab_type": "text",
    "id": "s0OoUDBDmvSP"
   },
   "source": [
    "2). ***Один из самых подробных и полных курсов по deep learning на данный момент - это курс Стэнфордского Университета:  http://cs231n.github.io/***  "
   ]
  },
  {
   "cell_type": "markdown",
   "metadata": {
    "colab_type": "text",
    "id": "lfCLur8VmvSR"
   },
   "source": [
    "3). Практически исчерпывающая информация по основам свёрточных нейросетей (из cs231n) (на английском):  \n",
    "\n",
    "http://cs231n.github.io/convolutional-networks/  \n",
    "http://cs231n.github.io/understanding-cnn/  \n",
    "http://cs231n.github.io/transfer-learning/"
   ]
  },
  {
   "cell_type": "markdown",
   "metadata": {
    "colab_type": "text",
    "id": "9cYDmcZxmvSR"
   },
   "source": [
    "4). Видео о Computer Vision от Andrej Karpathy: https://www.youtube.com/watch?v=u6aEYuemt0M"
   ]
  }
 ],
 "metadata": {
  "colab": {
   "collapsed_sections": [],
   "name": "[seminar]convolution_pooling.ipynb",
   "provenance": []
  },
  "hide_input": false,
  "kernelspec": {
   "display_name": "Python 3",
   "language": "python",
   "name": "python3"
  },
  "language_info": {
   "codemirror_mode": {
    "name": "ipython",
    "version": 3
   },
   "file_extension": ".py",
   "mimetype": "text/x-python",
   "name": "python",
   "nbconvert_exporter": "python",
   "pygments_lexer": "ipython3",
   "version": "3.7.3"
  },
  "varInspector": {
   "cols": {
    "lenName": 16,
    "lenType": 16,
    "lenVar": 40
   },
   "kernels_config": {
    "python": {
     "delete_cmd_postfix": "",
     "delete_cmd_prefix": "del ",
     "library": "var_list.py",
     "varRefreshCmd": "print(var_dic_list())"
    },
    "r": {
     "delete_cmd_postfix": ") ",
     "delete_cmd_prefix": "rm(",
     "library": "var_list.r",
     "varRefreshCmd": "cat(var_dic_list()) "
    }
   },
   "types_to_exclude": [
    "module",
    "function",
    "builtin_function_or_method",
    "instance",
    "_Feature"
   ],
   "window_display": false
  }
 },
 "nbformat": 4,
 "nbformat_minor": 1
}
