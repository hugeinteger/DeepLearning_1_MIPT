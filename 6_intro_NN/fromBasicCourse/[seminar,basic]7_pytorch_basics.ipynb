{
 "cells": [
  {
   "cell_type": "markdown",
   "metadata": {
    "colab_type": "text",
    "id": "5RETQ6CxbdOz"
   },
   "source": [
    "<p style=\"align: center;\"><img align=center src=\"https://s8.hostingkartinok.com/uploads/images/2018/08/308b49fcfbc619d629fe4604bceb67ac.jpg\" width=500 height=450/></p>\n",
    "\n",
    "<h3 style=\"text-align: center;\"><b>\"Глубокое обучение\". Продвинутый поток</b></h3>\n",
    "\n",
    "<h2 style=\"text-align: center;\"><b>Семинар 6. Основы библиотеки Pythorch </b></h2>\n"
   ]
  },
  {
   "cell_type": "markdown",
   "metadata": {
    "colab_type": "text",
    "id": "vcnGdgw_YJ8u"
   },
   "source": [
    "<h2 style=\"text-align: center;\"><b>PyTorch basics: syntax, torch.cuda and torch.autograd</b></h2>"
   ]
  },
  {
   "cell_type": "markdown",
   "metadata": {
    "colab_type": "text",
    "id": "-Iv1eX2mYJ8v"
   },
   "source": [
    "<p style=\"align: center;\"><img src=\"https://upload.wikimedia.org/wikipedia/commons/9/96/Pytorch_logo.png\" width=400 height=100></p>"
   ]
  },
  {
   "cell_type": "markdown",
   "metadata": {
    "colab_type": "text",
    "id": "JwiKExhuYJ8w"
   },
   "source": [
    "Hi! In this notebook we will cover the basics of the **PyTorch deep learning framework**. "
   ]
  },
  {
   "cell_type": "markdown",
   "metadata": {
    "colab_type": "text",
    "id": "70_JTnaRbdPD"
   },
   "source": [
    "<h3 style=\"text-align: center;\"><b>Intro</b></h3>"
   ]
  },
  {
   "cell_type": "markdown",
   "metadata": {
    "colab_type": "text",
    "id": "8UBMClK6bdPE"
   },
   "source": [
    "**Frameworks** are the specific code libraries with their own internal structure and pipelines."
   ]
  },
  {
   "cell_type": "markdown",
   "metadata": {
    "colab_type": "text",
    "id": "tQoex-sZYJ8x"
   },
   "source": [
    "There are many deep learning frameworks nowadays (02/2019). The difference between them is in the internal computation principles. For example, in **[Caffe](http://caffe.berkeleyvision.org/)** and **[Caffe2](https://caffe2.ai/)** you write the code using some \"ready blocks\" (just like the $LEGO^{TM}$ :). In **[TensorFlow](https://www.tensorflow.org/)** and **[Theano](http://deeplearning.net/software/theano/)** you declare the computation graph at first, then compile it and use it for inference/training (`tf.session()`). By the way, now TensorFlow (since v1.10) has the [Eager Execution](https://www.tensorflow.org/guide/eager), which can be handy for fast prototyping and debugging. **[Keras](https://keras.io/)** is a very popular and useful DL framework that allows to create networks fast and has many demanding features. "
   ]
  },
  {
   "cell_type": "markdown",
   "metadata": {
    "colab_type": "text",
    "id": "97MX7yrBYJ8y"
   },
   "source": [
    "<p style=\"align: center;\"><img src=\"https://habrastorage.org/web/e3e/c3e/b78/e3ec3eb78d714a7993a6b922911c0866.png\" width=500 height=500></p>  \n",
    "<p style=\"text-align: center;\"><i>Image credit: https://habr.com/post/334380/</i><p>"
   ]
  },
  {
   "cell_type": "markdown",
   "metadata": {
    "colab_type": "text",
    "id": "h5yBQj7EbdPJ"
   },
   "source": [
    "We will use PyTorch bacause it's been actively developed and supported by the community and [Facebook AI Research](https://research.fb.com/category/facebook-ai-research/)."
   ]
  },
  {
   "cell_type": "markdown",
   "metadata": {
    "colab_type": "text",
    "id": "J74O-qdJYJ80"
   },
   "source": [
    "<h3 style=\"text-align: center;\"><b>Installation</b></h3>"
   ]
  },
  {
   "cell_type": "markdown",
   "metadata": {
    "colab_type": "text",
    "id": "WpXxZ4-4YJ83"
   },
   "source": [
    "The detailed instruction on how to install PyTorch you can find on the [official PyTorch website](https://pytorch.org/)."
   ]
  },
  {
   "cell_type": "markdown",
   "metadata": {
    "colab_type": "text",
    "id": "uxdjjnqIYJ86"
   },
   "source": [
    "<h3 style=\"text-align: center;\">Syntax<b></b></h3>"
   ]
  },
  {
   "cell_type": "code",
   "execution_count": 0,
   "metadata": {
    "colab": {},
    "colab_type": "code",
    "id": "RtyozNmmYJ89"
   },
   "outputs": [],
   "source": [
    "import torch"
   ]
  },
  {
   "cell_type": "markdown",
   "metadata": {
    "colab_type": "text",
    "id": "zjfLQzEPYJ9B"
   },
   "source": [
    "Some facts about PyTorch:  \n",
    "- dynamic computation graph\n",
    "- handy `torch.nn` and `torchvision` modules for fast neural network prototyping\n",
    "- even faster than TensorFlow on some tasks\n",
    "- allows to use GPU easily"
   ]
  },
  {
   "cell_type": "markdown",
   "metadata": {
    "colab_type": "text",
    "id": "0AL-T8TMYJ9D"
   },
   "source": [
    "If PyTorch was a formula, it would be:  \n",
    "\n",
    "$$PyTorch = NumPy + CUDA + Autograd$$"
   ]
  },
  {
   "cell_type": "markdown",
   "metadata": {
    "colab_type": "text",
    "id": "X_O59VXWYJ9E"
   },
   "source": [
    "(CUDA - [wiki](https://en.wikipedia.org/wiki/CUDA))"
   ]
  },
  {
   "cell_type": "markdown",
   "metadata": {
    "colab_type": "text",
    "id": "lWIeTFxSYJ9F"
   },
   "source": [
    "Let's see how we can use PyTorch to operate with vectors and tensors.  \n",
    "\n",
    "Recall that **a tensor** is a multidimensional vector, e.g. :  \n",
    "\n",
    "`x = np.array([1,2,3])` -- a vector = a tensor with 1 dimension (to be more precise: `(1,)`)  \n",
    "`y = np.array([[1, 2, 3], [4, 5, 6]])` -- a matrix = a tensor with 2 dimensions (`(2, 3)` in this case)  \n",
    "`z = np.array([[[1, 2, 3], [4, 5, 6], [7, 8, 9]],  \n",
    "               [[1, 2, 3], [4, 5, 6], [7, 8, 9]],  \n",
    "               [[1, 2, 3], [4, 5, 6], [7, 8, 9]]])` -- \"a cube\" (3, 3, 3) = a tensor with 3 dimensions (`(3, 3, 3)` in this case)"
   ]
  },
  {
   "cell_type": "markdown",
   "metadata": {
    "colab_type": "text",
    "id": "hS97vo7mYJ9G"
   },
   "source": [
    "One real example of 3-dimensional tensor is **an image**, it has 3 dimensions: `height`, `width` and the `channel depth` (= 3 for color images, 1 for a greyscale). You can think of it as of parallelepiped consisting of the real numbers."
   ]
  },
  {
   "cell_type": "markdown",
   "metadata": {
    "colab_type": "text",
    "id": "tEeGGtRiYJ9H"
   },
   "source": [
    "In PyTorch we will use `torch.Tensor` (`FloatTensor`, `IntTensor`, `ByteTensor`) for all the computations."
   ]
  },
  {
   "cell_type": "markdown",
   "metadata": {
    "colab_type": "text",
    "id": "byu7xZtLYJ9J"
   },
   "source": [
    "All tensor types:"
   ]
  },
  {
   "cell_type": "code",
   "execution_count": 0,
   "metadata": {
    "colab": {
     "base_uri": "https://localhost:8080/",
     "height": 37
    },
    "colab_type": "code",
    "executionInfo": {
     "elapsed": 943,
     "status": "ok",
     "timestamp": 1572624727370,
     "user": {
      "displayName": "Aleksandr Veselev",
      "photoUrl": "",
      "userId": "06497019213520827031"
     },
     "user_tz": -180
    },
    "id": "lPIaCLY3YJ9K",
    "outputId": "15fb2c3b-be28-414a-abb9-81230ca3fbca"
   },
   "outputs": [
    {
     "data": {
      "text/plain": [
       "torch.ByteTensor"
      ]
     },
     "execution_count": 2,
     "metadata": {
      "tags": []
     },
     "output_type": "execute_result"
    }
   ],
   "source": [
    "torch.HalfTensor      # 16 бит, floating point\n",
    "torch.FloatTensor     # 32 бита, floating point\n",
    "torch.DoubleTensor    # 64 бита, floating point\n",
    "\n",
    "torch.ShortTensor     # 16 бит, integer, signed\n",
    "torch.IntTensor       # 32 бита, integer, signed\n",
    "torch.LongTensor      # 64 бита, integer, signed\n",
    "\n",
    "torch.CharTensor      # 8 бит, integer, signed\n",
    "torch.ByteTensor      # 8 бит, integer, unsigned"
   ]
  },
  {
   "cell_type": "markdown",
   "metadata": {
    "colab_type": "text",
    "id": "NWk2gidNYJ9P"
   },
   "source": [
    "We will use only `torch.FloatTensor()` and `torch.IntTensor()`. "
   ]
  },
  {
   "cell_type": "markdown",
   "metadata": {
    "colab_type": "text",
    "id": "CllyEKvVYJ9Q"
   },
   "source": [
    "Let's begin to do something!"
   ]
  },
  {
   "cell_type": "markdown",
   "metadata": {
    "colab_type": "text",
    "id": "R4HEetsxYJ9Q"
   },
   "source": [
    "* Creating the tensor:"
   ]
  },
  {
   "cell_type": "code",
   "execution_count": 0,
   "metadata": {
    "colab": {
     "base_uri": "https://localhost:8080/",
     "height": 37
    },
    "colab_type": "code",
    "executionInfo": {
     "elapsed": 517,
     "status": "ok",
     "timestamp": 1572624754199,
     "user": {
      "displayName": "Aleksandr Veselev",
      "photoUrl": "",
      "userId": "06497019213520827031"
     },
     "user_tz": -180
    },
    "id": "MVawE9lRYJ9R",
    "outputId": "f831609c-83d0-4612-c857-9bbb755848b8"
   },
   "outputs": [
    {
     "data": {
      "text/plain": [
       "tensor([1., 2.])"
      ]
     },
     "execution_count": 3,
     "metadata": {
      "tags": []
     },
     "output_type": "execute_result"
    }
   ],
   "source": [
    "a = torch.FloatTensor([1, 2])\n",
    "a"
   ]
  },
  {
   "cell_type": "code",
   "execution_count": 0,
   "metadata": {
    "colab": {
     "base_uri": "https://localhost:8080/",
     "height": 37
    },
    "colab_type": "code",
    "executionInfo": {
     "elapsed": 513,
     "status": "ok",
     "timestamp": 1572624771177,
     "user": {
      "displayName": "Aleksandr Veselev",
      "photoUrl": "",
      "userId": "06497019213520827031"
     },
     "user_tz": -180
    },
    "id": "ARjaPS_GYJ9W",
    "outputId": "b68b7d11-18e0-4dce-e71d-8a95bff13681"
   },
   "outputs": [
    {
     "data": {
      "text/plain": [
       "torch.Size([2])"
      ]
     },
     "execution_count": 5,
     "metadata": {
      "tags": []
     },
     "output_type": "execute_result"
    }
   ],
   "source": [
    "a.shape"
   ]
  },
  {
   "cell_type": "code",
   "execution_count": 2,
   "metadata": {
    "colab": {
     "base_uri": "https://localhost:8080/",
     "height": 54
    },
    "colab_type": "code",
    "executionInfo": {
     "elapsed": 1169,
     "status": "ok",
     "timestamp": 1572711801950,
     "user": {
      "displayName": "Aleksandr Veselev",
      "photoUrl": "",
      "userId": "06497019213520827031"
     },
     "user_tz": -180
    },
    "id": "4gXf0akDYJ9Z",
    "outputId": "f7098802-ac99-4a3a-c113-ed105d2de326"
   },
   "outputs": [
    {
     "data": {
      "text/plain": [
       "tensor([[1., 2., 3.],\n",
       "        [4., 5., 6.]])"
      ]
     },
     "execution_count": 2,
     "metadata": {
      "tags": []
     },
     "output_type": "execute_result"
    }
   ],
   "source": [
    "b = torch.FloatTensor([[1,2,3], [4,5,6]])\n",
    "b"
   ]
  },
  {
   "cell_type": "code",
   "execution_count": 3,
   "metadata": {
    "colab": {
     "base_uri": "https://localhost:8080/",
     "height": 35
    },
    "colab_type": "code",
    "executionInfo": {
     "elapsed": 651,
     "status": "ok",
     "timestamp": 1572711816500,
     "user": {
      "displayName": "Aleksandr Veselev",
      "photoUrl": "",
      "userId": "06497019213520827031"
     },
     "user_tz": -180
    },
    "id": "rcVvTntt7alI",
    "outputId": "5414bad9-c2de-44ef-9b2c-76bce2532a37"
   },
   "outputs": [
    {
     "data": {
      "text/plain": [
       "torch.Size([2, 3])"
      ]
     },
     "execution_count": 3,
     "metadata": {
      "tags": []
     },
     "output_type": "execute_result"
    }
   ],
   "source": [
    "b.size()"
   ]
  },
  {
   "cell_type": "code",
   "execution_count": 4,
   "metadata": {
    "colab": {
     "base_uri": "https://localhost:8080/",
     "height": 35
    },
    "colab_type": "code",
    "executionInfo": {
     "elapsed": 597,
     "status": "ok",
     "timestamp": 1572711819357,
     "user": {
      "displayName": "Aleksandr Veselev",
      "photoUrl": "",
      "userId": "06497019213520827031"
     },
     "user_tz": -180
    },
    "id": "0HTkoIzpYJ9e",
    "outputId": "68468883-fb94-4153-ec06-4edeced8e1d7"
   },
   "outputs": [
    {
     "data": {
      "text/plain": [
       "torch.Size([2, 3])"
      ]
     },
     "execution_count": 4,
     "metadata": {
      "tags": []
     },
     "output_type": "execute_result"
    }
   ],
   "source": [
    "b.shape"
   ]
  },
  {
   "cell_type": "code",
   "execution_count": 0,
   "metadata": {
    "colab": {},
    "colab_type": "code",
    "id": "WYJ9L-yFYJ9j"
   },
   "outputs": [],
   "source": [
    "x = torch.FloatTensor(2,3,4)"
   ]
  },
  {
   "cell_type": "code",
   "execution_count": 6,
   "metadata": {
    "colab": {
     "base_uri": "https://localhost:8080/",
     "height": 35
    },
    "colab_type": "code",
    "executionInfo": {
     "elapsed": 646,
     "status": "ok",
     "timestamp": 1572711838751,
     "user": {
      "displayName": "Aleksandr Veselev",
      "photoUrl": "",
      "userId": "06497019213520827031"
     },
     "user_tz": -180
    },
    "id": "GQ4RNyKkvc7L",
    "outputId": "5cf8c883-2c1f-4a3a-fbf7-4595a26c5f07"
   },
   "outputs": [
    {
     "data": {
      "text/plain": [
       "torch.Size([2, 3, 4])"
      ]
     },
     "execution_count": 6,
     "metadata": {
      "tags": []
     },
     "output_type": "execute_result"
    }
   ],
   "source": [
    "x.shape"
   ]
  },
  {
   "cell_type": "code",
   "execution_count": 0,
   "metadata": {
    "colab": {
     "base_uri": "https://localhost:8080/",
     "height": 153
    },
    "colab_type": "code",
    "executionInfo": {
     "elapsed": 620,
     "status": "ok",
     "timestamp": 1572624808921,
     "user": {
      "displayName": "Aleksandr Veselev",
      "photoUrl": "",
      "userId": "06497019213520827031"
     },
     "user_tz": -180
    },
    "id": "qWAEP27IYJ9m",
    "outputId": "e4e76b26-2271-4256-ca3b-6463d002f715"
   },
   "outputs": [
    {
     "data": {
      "text/plain": [
       "tensor([[[5.9231e-37, 0.0000e+00, 6.8664e-44, 7.9874e-44],\n",
       "         [6.3058e-44, 6.8664e-44, 6.8664e-44, 6.3058e-44],\n",
       "         [6.7262e-44, 6.8664e-44, 1.1771e-43, 6.8664e-44]],\n",
       "\n",
       "        [[7.5670e-44, 8.1275e-44, 6.8664e-44, 7.1466e-44],\n",
       "         [8.1275e-44, 6.7262e-44, 6.8664e-44, 6.4460e-44],\n",
       "         [6.7262e-44, 7.9874e-44, 7.8473e-44, 6.7262e-44]]])"
      ]
     },
     "execution_count": 10,
     "metadata": {
      "tags": []
     },
     "output_type": "execute_result"
    }
   ],
   "source": [
    "x"
   ]
  },
  {
   "cell_type": "code",
   "execution_count": 7,
   "metadata": {
    "colab": {
     "base_uri": "https://localhost:8080/",
     "height": 331
    },
    "colab_type": "code",
    "executionInfo": {
     "elapsed": 606,
     "status": "ok",
     "timestamp": 1572711993005,
     "user": {
      "displayName": "Aleksandr Veselev",
      "photoUrl": "",
      "userId": "06497019213520827031"
     },
     "user_tz": -180
    },
    "id": "o5CsOJ_xYJ9s",
    "outputId": "a9ff93fc-921f-4a1e-da27-4c7be016dbde",
    "scrolled": true
   },
   "outputs": [
    {
     "data": {
      "text/plain": [
       "tensor([3.2833e-36, 0.0000e+00, 1.4418e-37, 0.0000e+00, 1.5658e-36, 0.0000e+00,\n",
       "        0.0000e+00, 0.0000e+00, 0.0000e+00, 0.0000e+00, 0.0000e+00, 0.0000e+00,\n",
       "        0.0000e+00, 0.0000e+00, 0.0000e+00, 0.0000e+00, 0.0000e+00, 0.0000e+00,\n",
       "        3.2874e-36, 0.0000e+00, 4.2039e-45, 0.0000e+00, 0.0000e+00, 0.0000e+00,\n",
       "        0.0000e+00, 0.0000e+00, 1.0000e+00, 4.5915e-41, 4.2039e-45, 0.0000e+00,\n",
       "        0.0000e+00, 0.0000e+00, 3.2875e-36, 0.0000e+00, 4.2039e-45, 0.0000e+00,\n",
       "        0.0000e+00, 0.0000e+00, 0.0000e+00, 0.0000e+00, 1.0000e+00, 4.5741e-41,\n",
       "        4.2039e-45, 0.0000e+00, 0.0000e+00, 0.0000e+00, 0.0000e+00, 0.0000e+00,\n",
       "        0.0000e+00, 0.0000e+00, 0.0000e+00, 0.0000e+00, 1.4013e-45, 0.0000e+00,\n",
       "        0.0000e+00, 0.0000e+00, 3.2875e-36, 0.0000e+00, 1.4418e-37, 0.0000e+00,\n",
       "        1.5658e-36, 0.0000e+00, 0.0000e+00, 0.0000e+00, 0.0000e+00, 0.0000e+00,\n",
       "        0.0000e+00, 0.0000e+00, 0.0000e+00, 0.0000e+00, 0.0000e+00, 0.0000e+00,\n",
       "        0.0000e+00, 0.0000e+00, 0.0000e+00, 0.0000e+00, 0.0000e+00, 0.0000e+00,\n",
       "        0.0000e+00, 0.0000e+00, 0.0000e+00, 0.0000e+00, 0.0000e+00, 0.0000e+00,\n",
       "        0.0000e+00, 0.0000e+00, 0.0000e+00, 0.0000e+00, 0.0000e+00, 0.0000e+00,\n",
       "        0.0000e+00, 0.0000e+00, 0.0000e+00, 0.0000e+00, 0.0000e+00, 0.0000e+00,\n",
       "        0.0000e+00, 0.0000e+00, 0.0000e+00, 0.0000e+00])"
      ]
     },
     "execution_count": 7,
     "metadata": {
      "tags": []
     },
     "output_type": "execute_result"
    }
   ],
   "source": [
    "x = torch.FloatTensor(100)\n",
    "x"
   ]
  },
  {
   "cell_type": "code",
   "execution_count": 10,
   "metadata": {
    "colab": {
     "base_uri": "https://localhost:8080/",
     "height": 35
    },
    "colab_type": "code",
    "executionInfo": {
     "elapsed": 615,
     "status": "ok",
     "timestamp": 1572712023907,
     "user": {
      "displayName": "Aleksandr Veselev",
      "photoUrl": "",
      "userId": "06497019213520827031"
     },
     "user_tz": -180
    },
    "id": "uIVhvmzZYJ91",
    "outputId": "d371ad7d-63c3-48b5-88ab-c0e77f566ceb"
   },
   "outputs": [
    {
     "data": {
      "text/plain": [
       "torch.Size([45, 57, 14, 2])"
      ]
     },
     "execution_count": 10,
     "metadata": {
      "tags": []
     },
     "output_type": "execute_result"
    }
   ],
   "source": [
    "x = torch.IntTensor(45, 57, 14, 2)\n",
    "x.shape"
   ]
  },
  {
   "cell_type": "markdown",
   "metadata": {
    "colab_type": "text",
    "id": "cUzl8DFRYJ95"
   },
   "source": [
    "**Note:** if you create `torch.Tensor` with the following constructor it will be filled with the \"random trash numbers\":"
   ]
  },
  {
   "cell_type": "code",
   "execution_count": 11,
   "metadata": {
    "colab": {
     "base_uri": "https://localhost:8080/",
     "height": 165
    },
    "colab_type": "code",
    "executionInfo": {
     "elapsed": 792,
     "status": "ok",
     "timestamp": 1572712024987,
     "user": {
      "displayName": "Aleksandr Veselev",
      "photoUrl": "",
      "userId": "06497019213520827031"
     },
     "user_tz": -180
    },
    "id": "QX0QcIOzYJ96",
    "outputId": "8c47e298-7dd7-4885-e649-dfa550b2ba98"
   },
   "outputs": [
    {
     "data": {
      "text/plain": [
       "tensor([[[62917888,        0,       49,       57],\n",
       "         [      45,       49,       49,       45]],\n",
       "\n",
       "        [[      48,       50,       84,       49],\n",
       "         [      54,       58,       50,       55]],\n",
       "\n",
       "        [[      58,       48,       52,       46],\n",
       "         [      52,       54,       52,       56]]], dtype=torch.int32)"
      ]
     },
     "execution_count": 11,
     "metadata": {
      "tags": []
     },
     "output_type": "execute_result"
    }
   ],
   "source": [
    "x = torch.IntTensor(3, 2, 4)\n",
    "x"
   ]
  },
  {
   "cell_type": "markdown",
   "metadata": {
    "colab_type": "text",
    "id": "utra2t4SbdQR"
   },
   "source": [
    "Here is a way to fill a new tensor with zeroes:"
   ]
  },
  {
   "cell_type": "code",
   "execution_count": 12,
   "metadata": {
    "colab": {
     "base_uri": "https://localhost:8080/",
     "height": 165
    },
    "colab_type": "code",
    "executionInfo": {
     "elapsed": 765,
     "status": "ok",
     "timestamp": 1572712034657,
     "user": {
      "displayName": "Aleksandr Veselev",
      "photoUrl": "",
      "userId": "06497019213520827031"
     },
     "user_tz": -180
    },
    "id": "XV3w9lVwYJ-A",
    "outputId": "ad3cfc29-aca4-49d7-926c-83805792af20"
   },
   "outputs": [
    {
     "data": {
      "text/plain": [
       "tensor([[[0, 0, 0, 0],\n",
       "         [0, 0, 0, 0]],\n",
       "\n",
       "        [[0, 0, 0, 0],\n",
       "         [0, 0, 0, 0]],\n",
       "\n",
       "        [[0, 0, 0, 0],\n",
       "         [0, 0, 0, 0]]], dtype=torch.int32)"
      ]
     },
     "execution_count": 12,
     "metadata": {
      "tags": []
     },
     "output_type": "execute_result"
    }
   ],
   "source": [
    "x = torch.IntTensor(3, 2, 4).zero_()\n",
    "x"
   ]
  },
  {
   "cell_type": "markdown",
   "metadata": {
    "colab_type": "text",
    "id": "bzq1klQuzXA9"
   },
   "source": [
    "## Как писать на torch, если знаешь numpy\n",
    "\n",
    "Все функции на numpy имеют соответствующие функции на torch. Их соответствие вы можете посмотреть здесь:\n",
    "\n",
    "https://github.com/torch/torch7/wiki/Torch-for-Numpy-users"
   ]
  },
  {
   "cell_type": "markdown",
   "metadata": {
    "colab_type": "text",
    "id": "SAAmLRwzYJ-E"
   },
   "source": [
    "`np.reshape()` == `torch.view()`:"
   ]
  },
  {
   "cell_type": "code",
   "execution_count": 0,
   "metadata": {
    "colab": {
     "base_uri": "https://localhost:8080/",
     "height": 56
    },
    "colab_type": "code",
    "executionInfo": {
     "elapsed": 866,
     "status": "ok",
     "timestamp": 1572624854887,
     "user": {
      "displayName": "Aleksandr Veselev",
      "photoUrl": "",
      "userId": "06497019213520827031"
     },
     "user_tz": -180
    },
    "id": "spMYG2xXYJ-L",
    "outputId": "085483c6-fb5a-4a72-e2d0-fa4e3dff252e"
   },
   "outputs": [
    {
     "data": {
      "text/plain": [
       "tensor([[1., 2., 3.],\n",
       "        [4., 5., 6.]])"
      ]
     },
     "execution_count": 15,
     "metadata": {
      "tags": []
     },
     "output_type": "execute_result"
    }
   ],
   "source": [
    "b"
   ]
  },
  {
   "cell_type": "code",
   "execution_count": 0,
   "metadata": {
    "colab": {
     "base_uri": "https://localhost:8080/",
     "height": 75
    },
    "colab_type": "code",
    "executionInfo": {
     "elapsed": 525,
     "status": "ok",
     "timestamp": 1572624857957,
     "user": {
      "displayName": "Aleksandr Veselev",
      "photoUrl": "",
      "userId": "06497019213520827031"
     },
     "user_tz": -180
    },
    "id": "ePjL3X3GYJ-H",
    "outputId": "4e19df8b-babd-4d23-ffca-dfe0a97713d6"
   },
   "outputs": [
    {
     "data": {
      "text/plain": [
       "tensor([[1., 2.],\n",
       "        [3., 4.],\n",
       "        [5., 6.]])"
      ]
     },
     "execution_count": 16,
     "metadata": {
      "tags": []
     },
     "output_type": "execute_result"
    }
   ],
   "source": [
    "b.view(3, 2)"
   ]
  },
  {
   "cell_type": "markdown",
   "metadata": {
    "colab_type": "text",
    "id": "amVu0N1zYJ-O"
   },
   "source": [
    "**Note:** `torch.view()` creates a new tensor, one the old one remains unchanged"
   ]
  },
  {
   "cell_type": "code",
   "execution_count": 0,
   "metadata": {
    "colab": {
     "base_uri": "https://localhost:8080/",
     "height": 37
    },
    "colab_type": "code",
    "executionInfo": {
     "elapsed": 522,
     "status": "ok",
     "timestamp": 1572624862752,
     "user": {
      "displayName": "Aleksandr Veselev",
      "photoUrl": "",
      "userId": "06497019213520827031"
     },
     "user_tz": -180
    },
    "id": "hWqyugOSYJ-Q",
    "outputId": "bc5bffde-51a2-4d8d-e1a1-c641a75f91ac"
   },
   "outputs": [
    {
     "data": {
      "text/plain": [
       "tensor([1., 2., 3., 4., 5., 6.])"
      ]
     },
     "execution_count": 17,
     "metadata": {
      "tags": []
     },
     "output_type": "execute_result"
    }
   ],
   "source": [
    "b.view(-1)"
   ]
  },
  {
   "cell_type": "code",
   "execution_count": 0,
   "metadata": {
    "colab": {
     "base_uri": "https://localhost:8080/",
     "height": 56
    },
    "colab_type": "code",
    "executionInfo": {
     "elapsed": 796,
     "status": "ok",
     "timestamp": 1572624874410,
     "user": {
      "displayName": "Aleksandr Veselev",
      "photoUrl": "",
      "userId": "06497019213520827031"
     },
     "user_tz": -180
    },
    "id": "S9CvF56uYJ-U",
    "outputId": "79c503e9-9837-4d5e-f2e9-4806cfde2e5e"
   },
   "outputs": [
    {
     "data": {
      "text/plain": [
       "tensor([[1., 2., 3.],\n",
       "        [4., 5., 6.]])"
      ]
     },
     "execution_count": 18,
     "metadata": {
      "tags": []
     },
     "output_type": "execute_result"
    }
   ],
   "source": [
    "b"
   ]
  },
  {
   "cell_type": "markdown",
   "metadata": {
    "colab_type": "text",
    "id": "t401j1E2YJ-Z"
   },
   "source": [
    "* Change a tensor type:"
   ]
  },
  {
   "cell_type": "code",
   "execution_count": 0,
   "metadata": {
    "colab": {},
    "colab_type": "code",
    "id": "f_iDUEH4YJ-Z"
   },
   "outputs": [],
   "source": [
    "a = torch.FloatTensor([1.5, 3.2, -7])"
   ]
  },
  {
   "cell_type": "code",
   "execution_count": 15,
   "metadata": {
    "colab": {
     "base_uri": "https://localhost:8080/",
     "height": 35
    },
    "colab_type": "code",
    "executionInfo": {
     "elapsed": 701,
     "status": "ok",
     "timestamp": 1572712136982,
     "user": {
      "displayName": "Aleksandr Veselev",
      "photoUrl": "",
      "userId": "06497019213520827031"
     },
     "user_tz": -180
    },
    "id": "PelO4HFF8m1c",
    "outputId": "68926e2f-d073-4171-80c2-229b6d3467cd"
   },
   "outputs": [
    {
     "data": {
      "text/plain": [
       "tensor([[ 1.5000,  3.2000, -7.0000]])"
      ]
     },
     "execution_count": 15,
     "metadata": {
      "tags": []
     },
     "output_type": "execute_result"
    }
   ],
   "source": [
    "a.view((1,3))"
   ]
  },
  {
   "cell_type": "code",
   "execution_count": 16,
   "metadata": {
    "colab": {
     "base_uri": "https://localhost:8080/",
     "height": 35
    },
    "colab_type": "code",
    "executionInfo": {
     "elapsed": 1138,
     "status": "ok",
     "timestamp": 1572712143872,
     "user": {
      "displayName": "Aleksandr Veselev",
      "photoUrl": "",
      "userId": "06497019213520827031"
     },
     "user_tz": -180
    },
    "id": "V3EdW7yy8r2s",
    "outputId": "05cdd3cb-33e5-4ca8-83ad-1b894c6e4a51"
   },
   "outputs": [
    {
     "data": {
      "text/plain": [
       "tensor([ 1.5000,  3.2000, -7.0000])"
      ]
     },
     "execution_count": 16,
     "metadata": {
      "tags": []
     },
     "output_type": "execute_result"
    }
   ],
   "source": [
    "a"
   ]
  },
  {
   "cell_type": "code",
   "execution_count": 0,
   "metadata": {
    "colab": {},
    "colab_type": "code",
    "id": "Jdvih9wx8tLw"
   },
   "outputs": [],
   "source": []
  },
  {
   "cell_type": "code",
   "execution_count": 0,
   "metadata": {
    "colab": {},
    "colab_type": "code",
    "id": "Hykbg-fy8oLD"
   },
   "outputs": [],
   "source": []
  },
  {
   "cell_type": "code",
   "execution_count": 0,
   "metadata": {
    "colab": {
     "base_uri": "https://localhost:8080/",
     "height": 37
    },
    "colab_type": "code",
    "executionInfo": {
     "elapsed": 499,
     "status": "ok",
     "timestamp": 1572624902409,
     "user": {
      "displayName": "Aleksandr Veselev",
      "photoUrl": "",
      "userId": "06497019213520827031"
     },
     "user_tz": -180
    },
    "id": "EzJOrXitYJ-e",
    "outputId": "0570cbff-3102-49c6-829c-d3f9cadcac2f"
   },
   "outputs": [
    {
     "data": {
      "text/plain": [
       "tensor([ 1,  3, -7], dtype=torch.int32)"
      ]
     },
     "execution_count": 20,
     "metadata": {
      "tags": []
     },
     "output_type": "execute_result"
    }
   ],
   "source": [
    "a.type_as(torch.IntTensor())"
   ]
  },
  {
   "cell_type": "code",
   "execution_count": 18,
   "metadata": {
    "colab": {
     "base_uri": "https://localhost:8080/",
     "height": 35
    },
    "colab_type": "code",
    "executionInfo": {
     "elapsed": 939,
     "status": "ok",
     "timestamp": 1572712210332,
     "user": {
      "displayName": "Aleksandr Veselev",
      "photoUrl": "",
      "userId": "06497019213520827031"
     },
     "user_tz": -180
    },
    "id": "hNzMvSgev6aX",
    "outputId": "941c2071-961c-4c42-e88e-bbfe95b85bdd"
   },
   "outputs": [
    {
     "data": {
      "text/plain": [
       "tensor([ 1.5000,  3.2000, -7.0000])"
      ]
     },
     "execution_count": 18,
     "metadata": {
      "tags": []
     },
     "output_type": "execute_result"
    }
   ],
   "source": [
    "a.float()"
   ]
  },
  {
   "cell_type": "code",
   "execution_count": 19,
   "metadata": {
    "colab": {
     "base_uri": "https://localhost:8080/",
     "height": 35
    },
    "colab_type": "code",
    "executionInfo": {
     "elapsed": 624,
     "status": "ok",
     "timestamp": 1572712213118,
     "user": {
      "displayName": "Aleksandr Veselev",
      "photoUrl": "",
      "userId": "06497019213520827031"
     },
     "user_tz": -180
    },
    "id": "hAe3OWWUYJ-i",
    "outputId": "4b4c8079-c1f9-42e7-a0f1-d6bfa034cde5"
   },
   "outputs": [
    {
     "data": {
      "text/plain": [
       "tensor([  1,   3, 249], dtype=torch.uint8)"
      ]
     },
     "execution_count": 19,
     "metadata": {
      "tags": []
     },
     "output_type": "execute_result"
    }
   ],
   "source": [
    "a.type_as(torch.ByteTensor())"
   ]
  },
  {
   "cell_type": "markdown",
   "metadata": {
    "colab_type": "text",
    "id": "4rkatrUeYJ-n"
   },
   "source": [
    "**Note:** `.type_as()` creates a new tensor, the old one remains unchanged"
   ]
  },
  {
   "cell_type": "code",
   "execution_count": 0,
   "metadata": {
    "colab": {
     "base_uri": "https://localhost:8080/",
     "height": 37
    },
    "colab_type": "code",
    "executionInfo": {
     "elapsed": 544,
     "status": "ok",
     "timestamp": 1572624919841,
     "user": {
      "displayName": "Aleksandr Veselev",
      "photoUrl": "",
      "userId": "06497019213520827031"
     },
     "user_tz": -180
    },
    "id": "fCgDT14MYJ-o",
    "outputId": "7a02e2f3-8454-4e98-b7b3-3ef67e932f83"
   },
   "outputs": [
    {
     "data": {
      "text/plain": [
       "tensor([ 1.5000,  3.2000, -7.0000])"
      ]
     },
     "execution_count": 22,
     "metadata": {
      "tags": []
     },
     "output_type": "execute_result"
    }
   ],
   "source": [
    "a"
   ]
  },
  {
   "cell_type": "markdown",
   "metadata": {
    "colab_type": "text",
    "id": "hG1OwtFBYJ-r"
   },
   "source": [
    "* Indexing is just like in `NumPy`:"
   ]
  },
  {
   "cell_type": "code",
   "execution_count": 0,
   "metadata": {
    "colab": {
     "base_uri": "https://localhost:8080/",
     "height": 75
    },
    "colab_type": "code",
    "executionInfo": {
     "elapsed": 897,
     "status": "ok",
     "timestamp": 1572624928525,
     "user": {
      "displayName": "Aleksandr Veselev",
      "photoUrl": "",
      "userId": "06497019213520827031"
     },
     "user_tz": -180
    },
    "id": "prr0EGIYYJ-r",
    "outputId": "795c6345-4528-4cd6-c6df-ced7fde64a84"
   },
   "outputs": [
    {
     "data": {
      "text/plain": [
       "tensor([[100.,  20.,  35.],\n",
       "        [ 15., 163., 534.],\n",
       "        [ 52.,  90.,  66.]])"
      ]
     },
     "execution_count": 23,
     "metadata": {
      "tags": []
     },
     "output_type": "execute_result"
    }
   ],
   "source": [
    "a = torch.FloatTensor([[100, 20, 35], [15, 163, 534], [52, 90, 66]])\n",
    "a"
   ]
  },
  {
   "cell_type": "code",
   "execution_count": 0,
   "metadata": {
    "colab": {
     "base_uri": "https://localhost:8080/",
     "height": 37
    },
    "colab_type": "code",
    "executionInfo": {
     "elapsed": 520,
     "status": "ok",
     "timestamp": 1572624929718,
     "user": {
      "displayName": "Aleksandr Veselev",
      "photoUrl": "",
      "userId": "06497019213520827031"
     },
     "user_tz": -180
    },
    "id": "IBq7JiccYJ-w",
    "outputId": "47ac20a2-c9ed-4501-9b22-6c50757d1a09"
   },
   "outputs": [
    {
     "data": {
      "text/plain": [
       "tensor(100.)"
      ]
     },
     "execution_count": 24,
     "metadata": {
      "tags": []
     },
     "output_type": "execute_result"
    }
   ],
   "source": [
    "a[0, 0]"
   ]
  },
  {
   "cell_type": "code",
   "execution_count": 0,
   "metadata": {
    "colab": {
     "base_uri": "https://localhost:8080/",
     "height": 37
    },
    "colab_type": "code",
    "executionInfo": {
     "elapsed": 390,
     "status": "ok",
     "timestamp": 1572624930376,
     "user": {
      "displayName": "Aleksandr Veselev",
      "photoUrl": "",
      "userId": "06497019213520827031"
     },
     "user_tz": -180
    },
    "id": "vE9cb0XkYJ-z",
    "outputId": "50968432-3203-4948-e6e4-192fce99fe34"
   },
   "outputs": [
    {
     "data": {
      "text/plain": [
       "tensor(100.)"
      ]
     },
     "execution_count": 25,
     "metadata": {
      "tags": []
     },
     "output_type": "execute_result"
    }
   ],
   "source": [
    "a[0][0]"
   ]
  },
  {
   "cell_type": "code",
   "execution_count": 0,
   "metadata": {
    "colab": {
     "base_uri": "https://localhost:8080/",
     "height": 56
    },
    "colab_type": "code",
    "executionInfo": {
     "elapsed": 563,
     "status": "ok",
     "timestamp": 1572624931859,
     "user": {
      "displayName": "Aleksandr Veselev",
      "photoUrl": "",
      "userId": "06497019213520827031"
     },
     "user_tz": -180
    },
    "id": "UUZzx2F_YJ-2",
    "outputId": "41d1c72f-b3c0-4609-cfe4-03bcb4091e2e"
   },
   "outputs": [
    {
     "data": {
      "text/plain": [
       "tensor([[100.,  20.],\n",
       "        [ 15., 163.]])"
      ]
     },
     "execution_count": 26,
     "metadata": {
      "tags": []
     },
     "output_type": "execute_result"
    }
   ],
   "source": [
    "a[0:2, 0:2]"
   ]
  },
  {
   "cell_type": "markdown",
   "metadata": {
    "colab_type": "text",
    "id": "KffQsYwWYJ_D"
   },
   "source": [
    "**Ariphmetics and boolean operations** and their analogues:  \n",
    "\n",
    "| Оператор | Аналог |\n",
    "|:-:|:-:|\n",
    "|`+`| `torch.add()` |\n",
    "|`-`| `torch.sub()` |\n",
    "|`*`| `torch.mul()` |\n",
    "|`/`| `torch.div()` |"
   ]
  },
  {
   "cell_type": "markdown",
   "metadata": {
    "colab_type": "text",
    "id": "UMpR8T11YJ_D"
   },
   "source": [
    "* Addition:"
   ]
  },
  {
   "cell_type": "code",
   "execution_count": 0,
   "metadata": {
    "colab": {},
    "colab_type": "code",
    "id": "1XHkSjEUYJ_D"
   },
   "outputs": [],
   "source": [
    "a = torch.FloatTensor([[1, 2, 3], [10, 20, 30], [100, 200, 300]])\n",
    "b = torch.FloatTensor([[-1, -2, -3], [-10, -20, -30], [100, 200, 300]])"
   ]
  },
  {
   "cell_type": "code",
   "execution_count": 0,
   "metadata": {
    "colab": {
     "base_uri": "https://localhost:8080/",
     "height": 75
    },
    "colab_type": "code",
    "executionInfo": {
     "elapsed": 467,
     "status": "ok",
     "timestamp": 1572624984634,
     "user": {
      "displayName": "Aleksandr Veselev",
      "photoUrl": "",
      "userId": "06497019213520827031"
     },
     "user_tz": -180
    },
    "id": "td25tuFKYJ_H",
    "outputId": "70fa25cd-4b92-4954-ce64-f2c24d1ac598"
   },
   "outputs": [
    {
     "data": {
      "text/plain": [
       "tensor([[  0.,   0.,   0.],\n",
       "        [  0.,   0.,   0.],\n",
       "        [200., 400., 600.]])"
      ]
     },
     "execution_count": 29,
     "metadata": {
      "tags": []
     },
     "output_type": "execute_result"
    }
   ],
   "source": [
    "a + b"
   ]
  },
  {
   "cell_type": "code",
   "execution_count": 0,
   "metadata": {
    "colab": {
     "base_uri": "https://localhost:8080/",
     "height": 75
    },
    "colab_type": "code",
    "executionInfo": {
     "elapsed": 597,
     "status": "ok",
     "timestamp": 1572625013862,
     "user": {
      "displayName": "Aleksandr Veselev",
      "photoUrl": "",
      "userId": "06497019213520827031"
     },
     "user_tz": -180
    },
    "id": "wHka8PxFYJ_N",
    "outputId": "4d5ed50c-5855-4c09-fe07-97906e5dcb6e"
   },
   "outputs": [
    {
     "data": {
      "text/plain": [
       "tensor([[  0.,   0.,   0.],\n",
       "        [  0.,   0.,   0.],\n",
       "        [200., 400., 600.]])"
      ]
     },
     "execution_count": 30,
     "metadata": {
      "tags": []
     },
     "output_type": "execute_result"
    }
   ],
   "source": [
    "a.add(b)"
   ]
  },
  {
   "cell_type": "code",
   "execution_count": 0,
   "metadata": {
    "colab": {
     "base_uri": "https://localhost:8080/",
     "height": 75
    },
    "colab_type": "code",
    "executionInfo": {
     "elapsed": 523,
     "status": "ok",
     "timestamp": 1572625015983,
     "user": {
      "displayName": "Aleksandr Veselev",
      "photoUrl": "",
      "userId": "06497019213520827031"
     },
     "user_tz": -180
    },
    "id": "FHQj4DbBYJ_Q",
    "outputId": "4cb09527-a1e3-4865-9d54-2c3a1b4aa11c"
   },
   "outputs": [
    {
     "data": {
      "text/plain": [
       "tensor([[  -1.,   -2.,   -3.],\n",
       "        [ -10.,  -20.,  -30.],\n",
       "        [-100., -200., -300.]])"
      ]
     },
     "execution_count": 31,
     "metadata": {
      "tags": []
     },
     "output_type": "execute_result"
    }
   ],
   "source": [
    "b = -a\n",
    "b"
   ]
  },
  {
   "cell_type": "code",
   "execution_count": 0,
   "metadata": {
    "colab": {
     "base_uri": "https://localhost:8080/",
     "height": 75
    },
    "colab_type": "code",
    "executionInfo": {
     "elapsed": 496,
     "status": "ok",
     "timestamp": 1572625017962,
     "user": {
      "displayName": "Aleksandr Veselev",
      "photoUrl": "",
      "userId": "06497019213520827031"
     },
     "user_tz": -180
    },
    "id": "xLCDzO7iYJ_V",
    "outputId": "88ef1eab-a818-4b86-a1cd-0189661dc94d"
   },
   "outputs": [
    {
     "data": {
      "text/plain": [
       "tensor([[0., 0., 0.],\n",
       "        [0., 0., 0.],\n",
       "        [0., 0., 0.]])"
      ]
     },
     "execution_count": 32,
     "metadata": {
      "tags": []
     },
     "output_type": "execute_result"
    }
   ],
   "source": [
    "a + b"
   ]
  },
  {
   "cell_type": "markdown",
   "metadata": {
    "colab_type": "text",
    "id": "z_3gVLY3YJ_Z"
   },
   "source": [
    "* Subtraction:"
   ]
  },
  {
   "cell_type": "code",
   "execution_count": 0,
   "metadata": {
    "colab": {
     "base_uri": "https://localhost:8080/",
     "height": 75
    },
    "colab_type": "code",
    "executionInfo": {
     "elapsed": 569,
     "status": "ok",
     "timestamp": 1572625025549,
     "user": {
      "displayName": "Aleksandr Veselev",
      "photoUrl": "",
      "userId": "06497019213520827031"
     },
     "user_tz": -180
    },
    "id": "PANHq3eFYJ_a",
    "outputId": "c69874e8-549e-4f23-e0b2-60da3a3eac23"
   },
   "outputs": [
    {
     "data": {
      "text/plain": [
       "tensor([[  2.,   4.,   6.],\n",
       "        [ 20.,  40.,  60.],\n",
       "        [200., 400., 600.]])"
      ]
     },
     "execution_count": 33,
     "metadata": {
      "tags": []
     },
     "output_type": "execute_result"
    }
   ],
   "source": [
    "a - b"
   ]
  },
  {
   "cell_type": "code",
   "execution_count": 0,
   "metadata": {
    "colab": {
     "base_uri": "https://localhost:8080/",
     "height": 75
    },
    "colab_type": "code",
    "executionInfo": {
     "elapsed": 342,
     "status": "ok",
     "timestamp": 1572625026430,
     "user": {
      "displayName": "Aleksandr Veselev",
      "photoUrl": "",
      "userId": "06497019213520827031"
     },
     "user_tz": -180
    },
    "id": "AH7xhdkRYJ_i",
    "outputId": "04f751b0-63fe-42a9-981b-5698b880c496"
   },
   "outputs": [
    {
     "data": {
      "text/plain": [
       "tensor([[  2.,   4.,   6.],\n",
       "        [ 20.,  40.,  60.],\n",
       "        [200., 400., 600.]])"
      ]
     },
     "execution_count": 34,
     "metadata": {
      "tags": []
     },
     "output_type": "execute_result"
    }
   ],
   "source": [
    "a.sub(b)"
   ]
  },
  {
   "cell_type": "markdown",
   "metadata": {
    "colab_type": "text",
    "id": "KOX3dTuZYJ_l"
   },
   "source": [
    "* Multiplication (elementwise):"
   ]
  },
  {
   "cell_type": "code",
   "execution_count": 0,
   "metadata": {
    "colab": {
     "base_uri": "https://localhost:8080/",
     "height": 75
    },
    "colab_type": "code",
    "executionInfo": {
     "elapsed": 666,
     "status": "ok",
     "timestamp": 1572625028835,
     "user": {
      "displayName": "Aleksandr Veselev",
      "photoUrl": "",
      "userId": "06497019213520827031"
     },
     "user_tz": -180
    },
    "id": "J380CvNGYJ_m",
    "outputId": "1be06ec5-6125-4990-945c-895ece26ce35"
   },
   "outputs": [
    {
     "data": {
      "text/plain": [
       "tensor([[-1.0000e+00, -4.0000e+00, -9.0000e+00],\n",
       "        [-1.0000e+02, -4.0000e+02, -9.0000e+02],\n",
       "        [-1.0000e+04, -4.0000e+04, -9.0000e+04]])"
      ]
     },
     "execution_count": 35,
     "metadata": {
      "tags": []
     },
     "output_type": "execute_result"
    }
   ],
   "source": [
    "a * b"
   ]
  },
  {
   "cell_type": "code",
   "execution_count": 0,
   "metadata": {
    "colab": {
     "base_uri": "https://localhost:8080/",
     "height": 75
    },
    "colab_type": "code",
    "executionInfo": {
     "elapsed": 698,
     "status": "ok",
     "timestamp": 1572625029082,
     "user": {
      "displayName": "Aleksandr Veselev",
      "photoUrl": "",
      "userId": "06497019213520827031"
     },
     "user_tz": -180
    },
    "id": "cixW0jgdYJ_o",
    "outputId": "3c345496-d529-4592-b834-494e4a42d32a"
   },
   "outputs": [
    {
     "data": {
      "text/plain": [
       "tensor([[-1.0000e+00, -4.0000e+00, -9.0000e+00],\n",
       "        [-1.0000e+02, -4.0000e+02, -9.0000e+02],\n",
       "        [-1.0000e+04, -4.0000e+04, -9.0000e+04]])"
      ]
     },
     "execution_count": 36,
     "metadata": {
      "tags": []
     },
     "output_type": "execute_result"
    }
   ],
   "source": [
    "a.mul(b)"
   ]
  },
  {
   "cell_type": "markdown",
   "metadata": {
    "colab_type": "text",
    "id": "V-GYTERKYJ_q"
   },
   "source": [
    "* Division (elementwise):"
   ]
  },
  {
   "cell_type": "code",
   "execution_count": 0,
   "metadata": {
    "colab": {},
    "colab_type": "code",
    "id": "fUBQns2SYJ_r"
   },
   "outputs": [],
   "source": [
    "a = torch.FloatTensor([[1, 2, 3], [10, 20, 30], [100, 200, 300]])\n",
    "b = torch.FloatTensor([[-1, -2, -3], [-10, -20, -30], [100, 200, 0]])"
   ]
  },
  {
   "cell_type": "code",
   "execution_count": 26,
   "metadata": {
    "colab": {
     "base_uri": "https://localhost:8080/",
     "height": 35
    },
    "colab_type": "code",
    "executionInfo": {
     "elapsed": 884,
     "status": "ok",
     "timestamp": 1572712319080,
     "user": {
      "displayName": "Aleksandr Veselev",
      "photoUrl": "",
      "userId": "06497019213520827031"
     },
     "user_tz": -180
    },
    "id": "2hrKeMjAYJ_v",
    "outputId": "ecb97103-f2aa-4ef9-8bcf-18157d245840"
   },
   "outputs": [
    {
     "data": {
      "text/plain": [
       "float"
      ]
     },
     "execution_count": 26,
     "metadata": {
      "tags": []
     },
     "output_type": "execute_result"
    }
   ],
   "source": [
    "type((a / b)[-1][-1].item())"
   ]
  },
  {
   "cell_type": "markdown",
   "metadata": {
    "colab_type": "text",
    "id": "KvcGLFVNYJ_0"
   },
   "source": [
    "Лучше:"
   ]
  },
  {
   "cell_type": "code",
   "execution_count": 0,
   "metadata": {
    "colab": {
     "base_uri": "https://localhost:8080/",
     "height": 75
    },
    "colab_type": "code",
    "executionInfo": {
     "elapsed": 742,
     "status": "ok",
     "timestamp": 1572625050845,
     "user": {
      "displayName": "Aleksandr Veselev",
      "photoUrl": "",
      "userId": "06497019213520827031"
     },
     "user_tz": -180
    },
    "id": "cpg3YFVPYJ_2",
    "outputId": "14a8f113-9174-419d-e601-5e20e734efaf"
   },
   "outputs": [
    {
     "data": {
      "text/plain": [
       "tensor([[-1., -1., -1.],\n",
       "        [-1., -1., -1.],\n",
       "        [ 1.,  1., -inf]])"
      ]
     },
     "execution_count": 43,
     "metadata": {
      "tags": []
     },
     "output_type": "execute_result"
    }
   ],
   "source": [
    "a.div(b)"
   ]
  },
  {
   "cell_type": "markdown",
   "metadata": {
    "colab_type": "text",
    "id": "VeLAbx1tYJ_7"
   },
   "source": [
    "**Note:** all this operations create new tensors, the old tensors remain unchanged"
   ]
  },
  {
   "cell_type": "code",
   "execution_count": 0,
   "metadata": {
    "colab": {
     "base_uri": "https://localhost:8080/",
     "height": 75
    },
    "colab_type": "code",
    "executionInfo": {
     "elapsed": 580,
     "status": "ok",
     "timestamp": 1572625053474,
     "user": {
      "displayName": "Aleksandr Veselev",
      "photoUrl": "",
      "userId": "06497019213520827031"
     },
     "user_tz": -180
    },
    "id": "57BFtnlgYJ_8",
    "outputId": "c9661b22-8ea8-4c51-c75b-c338b3763465"
   },
   "outputs": [
    {
     "data": {
      "text/plain": [
       "tensor([[   1.,    2.,    3.],\n",
       "        [  10.,   20.,   30.],\n",
       "        [ 100.,  200., -300.]])"
      ]
     },
     "execution_count": 44,
     "metadata": {
      "tags": []
     },
     "output_type": "execute_result"
    }
   ],
   "source": [
    "a"
   ]
  },
  {
   "cell_type": "code",
   "execution_count": 0,
   "metadata": {
    "colab": {
     "base_uri": "https://localhost:8080/",
     "height": 75
    },
    "colab_type": "code",
    "executionInfo": {
     "elapsed": 490,
     "status": "ok",
     "timestamp": 1572625053835,
     "user": {
      "displayName": "Aleksandr Veselev",
      "photoUrl": "",
      "userId": "06497019213520827031"
     },
     "user_tz": -180
    },
    "id": "UziXyvtDYJ_-",
    "outputId": "572e8b83-f0d1-4850-e6b1-b79a146a38aa"
   },
   "outputs": [
    {
     "data": {
      "text/plain": [
       "tensor([[ -1.,  -2.,  -3.],\n",
       "        [-10., -20., -30.],\n",
       "        [100., 200.,   0.]])"
      ]
     },
     "execution_count": 45,
     "metadata": {
      "tags": []
     },
     "output_type": "execute_result"
    }
   ],
   "source": [
    "b"
   ]
  },
  {
   "cell_type": "markdown",
   "metadata": {
    "colab_type": "text",
    "id": "vLpwZPc3YKAC"
   },
   "source": [
    "* Comparison operators:"
   ]
  },
  {
   "cell_type": "code",
   "execution_count": 0,
   "metadata": {
    "colab": {},
    "colab_type": "code",
    "id": "FfRzvw_UYKAC"
   },
   "outputs": [],
   "source": [
    "a = torch.FloatTensor([[1, 2, 3], [10, 20, 30], [100, 200, 300]])\n",
    "b = torch.FloatTensor([[-1, -2, -3], [-10, -20, -30], [100, 200, 300]])"
   ]
  },
  {
   "cell_type": "code",
   "execution_count": 0,
   "metadata": {
    "colab": {
     "base_uri": "https://localhost:8080/",
     "height": 75
    },
    "colab_type": "code",
    "executionInfo": {
     "elapsed": 640,
     "status": "ok",
     "timestamp": 1572625064298,
     "user": {
      "displayName": "Aleksandr Veselev",
      "photoUrl": "",
      "userId": "06497019213520827031"
     },
     "user_tz": -180
    },
    "id": "o1RUTP2BYKAD",
    "outputId": "8acdd6e8-38d9-4b4d-eb75-bb8347044f33"
   },
   "outputs": [
    {
     "data": {
      "text/plain": [
       "tensor([[False, False, False],\n",
       "        [False, False, False],\n",
       "        [ True,  True,  True]])"
      ]
     },
     "execution_count": 47,
     "metadata": {
      "tags": []
     },
     "output_type": "execute_result"
    }
   ],
   "source": [
    "a == b"
   ]
  },
  {
   "cell_type": "code",
   "execution_count": 0,
   "metadata": {
    "colab": {
     "base_uri": "https://localhost:8080/",
     "height": 75
    },
    "colab_type": "code",
    "executionInfo": {
     "elapsed": 1432,
     "status": "ok",
     "timestamp": 1572625068209,
     "user": {
      "displayName": "Aleksandr Veselev",
      "photoUrl": "",
      "userId": "06497019213520827031"
     },
     "user_tz": -180
    },
    "id": "JO3HaVIAYKAF",
    "outputId": "f108d07b-ad58-4db5-f4cf-422b24283097"
   },
   "outputs": [
    {
     "data": {
      "text/plain": [
       "tensor([[ True,  True,  True],\n",
       "        [ True,  True,  True],\n",
       "        [False, False, False]])"
      ]
     },
     "execution_count": 48,
     "metadata": {
      "tags": []
     },
     "output_type": "execute_result"
    }
   ],
   "source": [
    "a != b"
   ]
  },
  {
   "cell_type": "code",
   "execution_count": 0,
   "metadata": {
    "colab": {
     "base_uri": "https://localhost:8080/",
     "height": 75
    },
    "colab_type": "code",
    "executionInfo": {
     "elapsed": 1142,
     "status": "ok",
     "timestamp": 1572625068211,
     "user": {
      "displayName": "Aleksandr Veselev",
      "photoUrl": "",
      "userId": "06497019213520827031"
     },
     "user_tz": -180
    },
    "id": "DExLBj4VYKAH",
    "outputId": "4be2e2af-83f9-4541-c12e-e8d9d2b86188"
   },
   "outputs": [
    {
     "data": {
      "text/plain": [
       "tensor([[False, False, False],\n",
       "        [False, False, False],\n",
       "        [False, False, False]])"
      ]
     },
     "execution_count": 49,
     "metadata": {
      "tags": []
     },
     "output_type": "execute_result"
    }
   ],
   "source": [
    "a < b"
   ]
  },
  {
   "cell_type": "code",
   "execution_count": 0,
   "metadata": {
    "colab": {
     "base_uri": "https://localhost:8080/",
     "height": 75
    },
    "colab_type": "code",
    "executionInfo": {
     "elapsed": 361,
     "status": "ok",
     "timestamp": 1572625068486,
     "user": {
      "displayName": "Aleksandr Veselev",
      "photoUrl": "",
      "userId": "06497019213520827031"
     },
     "user_tz": -180
    },
    "id": "0_IH_FUNYKAJ",
    "outputId": "2b287590-f057-4f20-cbe1-3710bb10b9c3"
   },
   "outputs": [
    {
     "data": {
      "text/plain": [
       "tensor([[ True,  True,  True],\n",
       "        [ True,  True,  True],\n",
       "        [False, False, False]])"
      ]
     },
     "execution_count": 50,
     "metadata": {
      "tags": []
     },
     "output_type": "execute_result"
    }
   ],
   "source": [
    "a > b"
   ]
  },
  {
   "cell_type": "markdown",
   "metadata": {
    "colab_type": "text",
    "id": "24nzBJR8YKAM"
   },
   "source": [
    "* Using boolean mask indexing:"
   ]
  },
  {
   "cell_type": "code",
   "execution_count": 0,
   "metadata": {
    "colab": {
     "base_uri": "https://localhost:8080/",
     "height": 37
    },
    "colab_type": "code",
    "executionInfo": {
     "elapsed": 535,
     "status": "ok",
     "timestamp": 1572625077660,
     "user": {
      "displayName": "Aleksandr Veselev",
      "photoUrl": "",
      "userId": "06497019213520827031"
     },
     "user_tz": -180
    },
    "id": "C-xVDslwYKAN",
    "outputId": "dcd670d0-6f85-4cd2-c81d-96032188e263"
   },
   "outputs": [
    {
     "data": {
      "text/plain": [
       "tensor([ 1.,  2.,  3., 10., 20., 30.])"
      ]
     },
     "execution_count": 51,
     "metadata": {
      "tags": []
     },
     "output_type": "execute_result"
    }
   ],
   "source": [
    "a[a > b]"
   ]
  },
  {
   "cell_type": "code",
   "execution_count": 0,
   "metadata": {
    "colab": {
     "base_uri": "https://localhost:8080/",
     "height": 37
    },
    "colab_type": "code",
    "executionInfo": {
     "elapsed": 617,
     "status": "ok",
     "timestamp": 1572625084587,
     "user": {
      "displayName": "Aleksandr Veselev",
      "photoUrl": "",
      "userId": "06497019213520827031"
     },
     "user_tz": -180
    },
    "id": "XatDJF5YYKAQ",
    "outputId": "fb600c0e-a27f-422c-972d-c282a50fc166"
   },
   "outputs": [
    {
     "data": {
      "text/plain": [
       "tensor([100., 200., 300.])"
      ]
     },
     "execution_count": 52,
     "metadata": {
      "tags": []
     },
     "output_type": "execute_result"
    }
   ],
   "source": [
    "b[a == b]"
   ]
  },
  {
   "cell_type": "markdown",
   "metadata": {
    "colab_type": "text",
    "id": "54bQky1bYKAf"
   },
   "source": [
    "Elementwise application of the **universal functions**:"
   ]
  },
  {
   "cell_type": "code",
   "execution_count": 0,
   "metadata": {
    "colab": {},
    "colab_type": "code",
    "id": "lWnGSuUhYKAf"
   },
   "outputs": [],
   "source": [
    "a = torch.FloatTensor([[1, 2, 3], [10, 20, 30], [100, 200, 300]])"
   ]
  },
  {
   "cell_type": "code",
   "execution_count": 28,
   "metadata": {
    "colab": {
     "base_uri": "https://localhost:8080/",
     "height": 72
    },
    "colab_type": "code",
    "executionInfo": {
     "elapsed": 1459,
     "status": "ok",
     "timestamp": 1572712432000,
     "user": {
      "displayName": "Aleksandr Veselev",
      "photoUrl": "",
      "userId": "06497019213520827031"
     },
     "user_tz": -180
    },
    "id": "J6ZyxZBNYKAl",
    "outputId": "7b1784bf-590d-468f-c733-4dbd2395b8f3"
   },
   "outputs": [
    {
     "data": {
      "text/plain": [
       "tensor([[ 0.8415,  0.9093,  0.1411],\n",
       "        [-0.5440,  0.9129, -0.9880],\n",
       "        [-0.5064, -0.8733, -0.9998]])"
      ]
     },
     "execution_count": 28,
     "metadata": {
      "tags": []
     },
     "output_type": "execute_result"
    }
   ],
   "source": [
    "a.sin()"
   ]
  },
  {
   "cell_type": "code",
   "execution_count": 29,
   "metadata": {
    "colab": {
     "base_uri": "https://localhost:8080/",
     "height": 72
    },
    "colab_type": "code",
    "executionInfo": {
     "elapsed": 1317,
     "status": "ok",
     "timestamp": 1572712432002,
     "user": {
      "displayName": "Aleksandr Veselev",
      "photoUrl": "",
      "userId": "06497019213520827031"
     },
     "user_tz": -180
    },
    "id": "SScTSkJMYKAo",
    "outputId": "a162e69f-d8f7-4d15-b1b6-287a9f7f0401"
   },
   "outputs": [
    {
     "data": {
      "text/plain": [
       "tensor([[ 0.8415,  0.9093,  0.1411],\n",
       "        [-0.5440,  0.9129, -0.9880],\n",
       "        [-0.5064, -0.8733, -0.9998]])"
      ]
     },
     "execution_count": 29,
     "metadata": {
      "tags": []
     },
     "output_type": "execute_result"
    }
   ],
   "source": [
    "torch.sin(a)"
   ]
  },
  {
   "cell_type": "code",
   "execution_count": 30,
   "metadata": {
    "colab": {
     "base_uri": "https://localhost:8080/",
     "height": 72
    },
    "colab_type": "code",
    "executionInfo": {
     "elapsed": 1193,
     "status": "ok",
     "timestamp": 1572712432003,
     "user": {
      "displayName": "Aleksandr Veselev",
      "photoUrl": "",
      "userId": "06497019213520827031"
     },
     "user_tz": -180
    },
    "id": "0bYVYVV7YKAr",
    "outputId": "fcfcf30c-a342-48e0-f07f-a61e3d0d1d9d"
   },
   "outputs": [
    {
     "data": {
      "text/plain": [
       "tensor([[ 0.5403, -0.4161, -0.9900],\n",
       "        [-0.8391,  0.4081,  0.1543],\n",
       "        [ 0.8623,  0.4872, -0.0221]])"
      ]
     },
     "execution_count": 30,
     "metadata": {
      "tags": []
     },
     "output_type": "execute_result"
    }
   ],
   "source": [
    "a.cos()"
   ]
  },
  {
   "cell_type": "code",
   "execution_count": 31,
   "metadata": {
    "colab": {
     "base_uri": "https://localhost:8080/",
     "height": 72
    },
    "colab_type": "code",
    "executionInfo": {
     "elapsed": 1037,
     "status": "ok",
     "timestamp": 1572712432004,
     "user": {
      "displayName": "Aleksandr Veselev",
      "photoUrl": "",
      "userId": "06497019213520827031"
     },
     "user_tz": -180
    },
    "id": "c-rYL8HQYKAt",
    "outputId": "26b0022f-9436-4749-de8f-11b96424b68c"
   },
   "outputs": [
    {
     "data": {
      "text/plain": [
       "tensor([[2.7183e+00, 7.3891e+00, 2.0086e+01],\n",
       "        [2.2026e+04, 4.8517e+08, 1.0686e+13],\n",
       "        [       inf,        inf,        inf]])"
      ]
     },
     "execution_count": 31,
     "metadata": {
      "tags": []
     },
     "output_type": "execute_result"
    }
   ],
   "source": [
    "a.exp()"
   ]
  },
  {
   "cell_type": "code",
   "execution_count": 32,
   "metadata": {
    "colab": {
     "base_uri": "https://localhost:8080/",
     "height": 72
    },
    "colab_type": "code",
    "executionInfo": {
     "elapsed": 902,
     "status": "ok",
     "timestamp": 1572712432005,
     "user": {
      "displayName": "Aleksandr Veselev",
      "photoUrl": "",
      "userId": "06497019213520827031"
     },
     "user_tz": -180
    },
    "id": "EbiCDYUzYKAw",
    "outputId": "0e71a2ee-11e7-48c8-80dd-44b1cd0e593d"
   },
   "outputs": [
    {
     "data": {
      "text/plain": [
       "tensor([[0.0000, 0.6931, 1.0986],\n",
       "        [2.3026, 2.9957, 3.4012],\n",
       "        [4.6052, 5.2983, 5.7038]])"
      ]
     },
     "execution_count": 32,
     "metadata": {
      "tags": []
     },
     "output_type": "execute_result"
    }
   ],
   "source": [
    "a.log()"
   ]
  },
  {
   "cell_type": "code",
   "execution_count": 33,
   "metadata": {
    "colab": {
     "base_uri": "https://localhost:8080/",
     "height": 72
    },
    "colab_type": "code",
    "executionInfo": {
     "elapsed": 742,
     "status": "ok",
     "timestamp": 1572712432005,
     "user": {
      "displayName": "Aleksandr Veselev",
      "photoUrl": "",
      "userId": "06497019213520827031"
     },
     "user_tz": -180
    },
    "id": "yh1sySpiYKAy",
    "outputId": "dc622f7a-d786-4d27-a33d-8418709ae4ff"
   },
   "outputs": [
    {
     "data": {
      "text/plain": [
       "tensor([[  -1.,   -2.,   -3.],\n",
       "        [ -10.,  -20.,  -30.],\n",
       "        [-100., -200., -300.]])"
      ]
     },
     "execution_count": 33,
     "metadata": {
      "tags": []
     },
     "output_type": "execute_result"
    }
   ],
   "source": [
    "b = -a\n",
    "b"
   ]
  },
  {
   "cell_type": "code",
   "execution_count": 34,
   "metadata": {
    "colab": {
     "base_uri": "https://localhost:8080/",
     "height": 72
    },
    "colab_type": "code",
    "executionInfo": {
     "elapsed": 606,
     "status": "ok",
     "timestamp": 1572712432485,
     "user": {
      "displayName": "Aleksandr Veselev",
      "photoUrl": "",
      "userId": "06497019213520827031"
     },
     "user_tz": -180
    },
    "id": "PNU0UxqIYKA2",
    "outputId": "df7423ab-2394-4337-8f7c-520d68427265"
   },
   "outputs": [
    {
     "data": {
      "text/plain": [
       "tensor([[  1.,   2.,   3.],\n",
       "        [ 10.,  20.,  30.],\n",
       "        [100., 200., 300.]])"
      ]
     },
     "execution_count": 34,
     "metadata": {
      "tags": []
     },
     "output_type": "execute_result"
    }
   ],
   "source": [
    "b.abs()"
   ]
  },
  {
   "cell_type": "markdown",
   "metadata": {
    "colab_type": "text",
    "id": "eqERQjISYKA9"
   },
   "source": [
    "* The sum, mean, max, min:"
   ]
  },
  {
   "cell_type": "code",
   "execution_count": 35,
   "metadata": {
    "colab": {
     "base_uri": "https://localhost:8080/",
     "height": 35
    },
    "colab_type": "code",
    "executionInfo": {
     "elapsed": 1013,
     "status": "ok",
     "timestamp": 1572712434488,
     "user": {
      "displayName": "Aleksandr Veselev",
      "photoUrl": "",
      "userId": "06497019213520827031"
     },
     "user_tz": -180
    },
    "id": "HLmJGdl9YKA-",
    "outputId": "1596f4d3-e8af-47d1-f035-52077aff4685"
   },
   "outputs": [
    {
     "data": {
      "text/plain": [
       "tensor(666.)"
      ]
     },
     "execution_count": 35,
     "metadata": {
      "tags": []
     },
     "output_type": "execute_result"
    }
   ],
   "source": [
    "a.sum()"
   ]
  },
  {
   "cell_type": "code",
   "execution_count": 36,
   "metadata": {
    "colab": {
     "base_uri": "https://localhost:8080/",
     "height": 35
    },
    "colab_type": "code",
    "executionInfo": {
     "elapsed": 405,
     "status": "ok",
     "timestamp": 1572712435231,
     "user": {
      "displayName": "Aleksandr Veselev",
      "photoUrl": "",
      "userId": "06497019213520827031"
     },
     "user_tz": -180
    },
    "id": "ervIuNGnYKBD",
    "outputId": "835c08fb-fa9d-453b-f0fe-a964c6a74bbe"
   },
   "outputs": [
    {
     "data": {
      "text/plain": [
       "tensor(74.)"
      ]
     },
     "execution_count": 36,
     "metadata": {
      "tags": []
     },
     "output_type": "execute_result"
    }
   ],
   "source": [
    "a.mean()"
   ]
  },
  {
   "cell_type": "markdown",
   "metadata": {
    "colab_type": "text",
    "id": "1qxkdUQ2YKBF"
   },
   "source": [
    "Along axis:"
   ]
  },
  {
   "cell_type": "code",
   "execution_count": 37,
   "metadata": {
    "colab": {
     "base_uri": "https://localhost:8080/",
     "height": 72
    },
    "colab_type": "code",
    "executionInfo": {
     "elapsed": 619,
     "status": "ok",
     "timestamp": 1572712439936,
     "user": {
      "displayName": "Aleksandr Veselev",
      "photoUrl": "",
      "userId": "06497019213520827031"
     },
     "user_tz": -180
    },
    "id": "OzU2H7jBbdS-",
    "outputId": "010bc483-a707-4302-cdb2-03a7157ac425"
   },
   "outputs": [
    {
     "data": {
      "text/plain": [
       "tensor([[  1.,   2.,   3.],\n",
       "        [ 10.,  20.,  30.],\n",
       "        [100., 200., 300.]])"
      ]
     },
     "execution_count": 37,
     "metadata": {
      "tags": []
     },
     "output_type": "execute_result"
    }
   ],
   "source": [
    "a"
   ]
  },
  {
   "cell_type": "code",
   "execution_count": 39,
   "metadata": {
    "colab": {
     "base_uri": "https://localhost:8080/",
     "height": 35
    },
    "colab_type": "code",
    "executionInfo": {
     "elapsed": 875,
     "status": "ok",
     "timestamp": 1572712448282,
     "user": {
      "displayName": "Aleksandr Veselev",
      "photoUrl": "",
      "userId": "06497019213520827031"
     },
     "user_tz": -180
    },
    "id": "cc6RjJYeYKBG",
    "outputId": "39cac22b-083f-4c82-aefb-5cdc1d2d547c"
   },
   "outputs": [
    {
     "data": {
      "text/plain": [
       "tensor([111., 222., 333.])"
      ]
     },
     "execution_count": 39,
     "metadata": {
      "tags": []
     },
     "output_type": "execute_result"
    }
   ],
   "source": [
    "a.sum(dim=0)"
   ]
  },
  {
   "cell_type": "code",
   "execution_count": 0,
   "metadata": {
    "colab": {
     "base_uri": "https://localhost:8080/",
     "height": 37
    },
    "colab_type": "code",
    "executionInfo": {
     "elapsed": 663,
     "status": "ok",
     "timestamp": 1572625141044,
     "user": {
      "displayName": "Aleksandr Veselev",
      "photoUrl": "",
      "userId": "06497019213520827031"
     },
     "user_tz": -180
    },
    "id": "Dgi5BmhOYKBJ",
    "outputId": "84d721d2-f1ce-40e2-a3a5-24ad9f056fae"
   },
   "outputs": [
    {
     "data": {
      "text/plain": [
       "tensor([  6.,  60., 600.])"
      ]
     },
     "execution_count": 65,
     "metadata": {
      "tags": []
     },
     "output_type": "execute_result"
    }
   ],
   "source": [
    "a.sum(1)"
   ]
  },
  {
   "cell_type": "code",
   "execution_count": 0,
   "metadata": {
    "colab": {
     "base_uri": "https://localhost:8080/",
     "height": 37
    },
    "colab_type": "code",
    "executionInfo": {
     "elapsed": 668,
     "status": "ok",
     "timestamp": 1572625141840,
     "user": {
      "displayName": "Aleksandr Veselev",
      "photoUrl": "",
      "userId": "06497019213520827031"
     },
     "user_tz": -180
    },
    "id": "-tIkcTENYKBK",
    "outputId": "c8270f0f-abf0-4ca9-e585-b995f7167c2e"
   },
   "outputs": [
    {
     "data": {
      "text/plain": [
       "tensor(300.)"
      ]
     },
     "execution_count": 66,
     "metadata": {
      "tags": []
     },
     "output_type": "execute_result"
    }
   ],
   "source": [
    "a.max()"
   ]
  },
  {
   "cell_type": "code",
   "execution_count": 0,
   "metadata": {
    "colab": {
     "base_uri": "https://localhost:8080/",
     "height": 37
    },
    "colab_type": "code",
    "executionInfo": {
     "elapsed": 433,
     "status": "ok",
     "timestamp": 1572625142863,
     "user": {
      "displayName": "Aleksandr Veselev",
      "photoUrl": "",
      "userId": "06497019213520827031"
     },
     "user_tz": -180
    },
    "id": "V4U_LyyPYKBL",
    "outputId": "0d9c6903-291e-4783-e5f2-80ad946ab6d0"
   },
   "outputs": [
    {
     "data": {
      "text/plain": [
       "torch.return_types.max(values=tensor([100., 200., 300.]), indices=tensor([2, 2, 2]))"
      ]
     },
     "execution_count": 67,
     "metadata": {
      "tags": []
     },
     "output_type": "execute_result"
    }
   ],
   "source": [
    "a.max(0)"
   ]
  },
  {
   "cell_type": "code",
   "execution_count": 0,
   "metadata": {
    "colab": {
     "base_uri": "https://localhost:8080/",
     "height": 37
    },
    "colab_type": "code",
    "executionInfo": {
     "elapsed": 539,
     "status": "ok",
     "timestamp": 1572625145475,
     "user": {
      "displayName": "Aleksandr Veselev",
      "photoUrl": "",
      "userId": "06497019213520827031"
     },
     "user_tz": -180
    },
    "id": "TSqmVtWjYKBO",
    "outputId": "4ccfdc9f-d26d-4252-dc78-158db3c145c3"
   },
   "outputs": [
    {
     "data": {
      "text/plain": [
       "tensor(1.)"
      ]
     },
     "execution_count": 68,
     "metadata": {
      "tags": []
     },
     "output_type": "execute_result"
    }
   ],
   "source": [
    "a.min()"
   ]
  },
  {
   "cell_type": "code",
   "execution_count": 0,
   "metadata": {
    "colab": {
     "base_uri": "https://localhost:8080/",
     "height": 37
    },
    "colab_type": "code",
    "executionInfo": {
     "elapsed": 631,
     "status": "ok",
     "timestamp": 1572625151831,
     "user": {
      "displayName": "Aleksandr Veselev",
      "photoUrl": "",
      "userId": "06497019213520827031"
     },
     "user_tz": -180
    },
    "id": "OeA2hlZ2YKBP",
    "outputId": "439c5845-cede-48f2-a211-21aec2ecde96"
   },
   "outputs": [
    {
     "data": {
      "text/plain": [
       "torch.return_types.min(values=tensor([1., 2., 3.]), indices=tensor([0, 0, 0]))"
      ]
     },
     "execution_count": 69,
     "metadata": {
      "tags": []
     },
     "output_type": "execute_result"
    }
   ],
   "source": [
    "a.min(0)"
   ]
  },
  {
   "cell_type": "markdown",
   "metadata": {
    "colab_type": "text",
    "id": "Ys-9hnr4YKBS"
   },
   "source": [
    "**Note:** the second tensor returned by `.max()` and `.min()` contains the indices of max/min elements along this axis. E.g. in that case `a.min()` returned `(1, 2, 3)` which are the minimum elements along 0 axis (along columns) and their indices along 0 axis are `(0, 0, 0)`."
   ]
  },
  {
   "cell_type": "markdown",
   "metadata": {
    "colab_type": "text",
    "id": "kepFeTZ0YKBV"
   },
   "source": [
    "**Matrix operations**:"
   ]
  },
  {
   "cell_type": "markdown",
   "metadata": {
    "colab_type": "text",
    "id": "7RYm3mdrYKBX"
   },
   "source": [
    "* Transpose a tensor:"
   ]
  },
  {
   "cell_type": "code",
   "execution_count": 0,
   "metadata": {
    "colab": {
     "base_uri": "https://localhost:8080/",
     "height": 75
    },
    "colab_type": "code",
    "executionInfo": {
     "elapsed": 792,
     "status": "ok",
     "timestamp": 1572625164459,
     "user": {
      "displayName": "Aleksandr Veselev",
      "photoUrl": "",
      "userId": "06497019213520827031"
     },
     "user_tz": -180
    },
    "id": "T8-1TSkeYKBY",
    "outputId": "28d1c2c2-5b99-434c-91a6-bd2f59e5900f"
   },
   "outputs": [
    {
     "data": {
      "text/plain": [
       "tensor([[  1.,   2.,   3.],\n",
       "        [ 10.,  20.,  30.],\n",
       "        [100., 200., 300.]])"
      ]
     },
     "execution_count": 70,
     "metadata": {
      "tags": []
     },
     "output_type": "execute_result"
    }
   ],
   "source": [
    "a = torch.FloatTensor([[1, 2, 3], [10, 20, 30], [100, 200, 300]])\n",
    "a"
   ]
  },
  {
   "cell_type": "code",
   "execution_count": 0,
   "metadata": {
    "colab": {},
    "colab_type": "code",
    "id": "1pHR6znRw6Sq"
   },
   "outputs": [],
   "source": []
  },
  {
   "cell_type": "code",
   "execution_count": 0,
   "metadata": {
    "colab": {
     "base_uri": "https://localhost:8080/",
     "height": 75
    },
    "colab_type": "code",
    "executionInfo": {
     "elapsed": 483,
     "status": "ok",
     "timestamp": 1572625170614,
     "user": {
      "displayName": "Aleksandr Veselev",
      "photoUrl": "",
      "userId": "06497019213520827031"
     },
     "user_tz": -180
    },
    "id": "HSAZwai7YKBa",
    "outputId": "95feae5b-a785-44a9-eb0d-f36121aa4577"
   },
   "outputs": [
    {
     "data": {
      "text/plain": [
       "tensor([[  1.,  10., 100.],\n",
       "        [  2.,  20., 200.],\n",
       "        [  3.,  30., 300.]])"
      ]
     },
     "execution_count": 71,
     "metadata": {
      "tags": []
     },
     "output_type": "execute_result"
    }
   ],
   "source": [
    "a.t()"
   ]
  },
  {
   "cell_type": "code",
   "execution_count": 0,
   "metadata": {
    "colab": {
     "base_uri": "https://localhost:8080/",
     "height": 75
    },
    "colab_type": "code",
    "executionInfo": {
     "elapsed": 579,
     "status": "ok",
     "timestamp": 1572625173654,
     "user": {
      "displayName": "Aleksandr Veselev",
      "photoUrl": "",
      "userId": "06497019213520827031"
     },
     "user_tz": -180
    },
    "id": "vGWGYIOQw74h",
    "outputId": "a9f565b2-d87e-4bf0-f990-0f2268ec514d"
   },
   "outputs": [
    {
     "data": {
      "text/plain": [
       "tensor([[  1.,  10., 100.],\n",
       "        [  2.,  20., 200.],\n",
       "        [  3.,  30., 300.]])"
      ]
     },
     "execution_count": 72,
     "metadata": {
      "tags": []
     },
     "output_type": "execute_result"
    }
   ],
   "source": [
    "a.T"
   ]
  },
  {
   "cell_type": "markdown",
   "metadata": {
    "colab_type": "text",
    "id": "QqsPkleRYKBd"
   },
   "source": [
    "It is not not the inplace operation too:"
   ]
  },
  {
   "cell_type": "code",
   "execution_count": 0,
   "metadata": {
    "colab": {
     "base_uri": "https://localhost:8080/",
     "height": 75
    },
    "colab_type": "code",
    "executionInfo": {
     "elapsed": 807,
     "status": "ok",
     "timestamp": 1572625177724,
     "user": {
      "displayName": "Aleksandr Veselev",
      "photoUrl": "",
      "userId": "06497019213520827031"
     },
     "user_tz": -180
    },
    "id": "NRPamd2EYKBe",
    "outputId": "ee5a6992-1b6d-45b1-ff8d-a3c15ff29067"
   },
   "outputs": [
    {
     "data": {
      "text/plain": [
       "tensor([[  1.,   2.,   3.],\n",
       "        [ 10.,  20.,  30.],\n",
       "        [100., 200., 300.]])"
      ]
     },
     "execution_count": 73,
     "metadata": {
      "tags": []
     },
     "output_type": "execute_result"
    }
   ],
   "source": [
    "a"
   ]
  },
  {
   "cell_type": "markdown",
   "metadata": {
    "colab_type": "text",
    "id": "q8YhoxHPYKBh"
   },
   "source": [
    "* Dot product of vectors:"
   ]
  },
  {
   "cell_type": "code",
   "execution_count": 0,
   "metadata": {
    "colab": {},
    "colab_type": "code",
    "id": "i1pRtl7HYKBi"
   },
   "outputs": [],
   "source": [
    "a = torch.FloatTensor([1, 2, 3, 4, 5, 6])\n",
    "b = torch.FloatTensor([-1, -2, -4, -6, -8, -10])"
   ]
  },
  {
   "cell_type": "code",
   "execution_count": 0,
   "metadata": {
    "colab": {
     "base_uri": "https://localhost:8080/",
     "height": 37
    },
    "colab_type": "code",
    "executionInfo": {
     "elapsed": 661,
     "status": "ok",
     "timestamp": 1572625182241,
     "user": {
      "displayName": "Aleksandr Veselev",
      "photoUrl": "",
      "userId": "06497019213520827031"
     },
     "user_tz": -180
    },
    "id": "qcS-28dwYKBp",
    "outputId": "1a10a750-480e-47ef-bbae-10f78a044f62"
   },
   "outputs": [
    {
     "data": {
      "text/plain": [
       "tensor(-141.)"
      ]
     },
     "execution_count": 75,
     "metadata": {
      "tags": []
     },
     "output_type": "execute_result"
    }
   ],
   "source": [
    "a.dot(b)"
   ]
  },
  {
   "cell_type": "code",
   "execution_count": 0,
   "metadata": {
    "colab": {
     "base_uri": "https://localhost:8080/",
     "height": 37
    },
    "colab_type": "code",
    "executionInfo": {
     "elapsed": 522,
     "status": "ok",
     "timestamp": 1572625190493,
     "user": {
      "displayName": "Aleksandr Veselev",
      "photoUrl": "",
      "userId": "06497019213520827031"
     },
     "user_tz": -180
    },
    "id": "MXyhOelQYKBs",
    "outputId": "4c7d82ce-4d18-48db-9a24-1a3166bef6af"
   },
   "outputs": [
    {
     "data": {
      "text/plain": [
       "tensor(-141.)"
      ]
     },
     "execution_count": 76,
     "metadata": {
      "tags": []
     },
     "output_type": "execute_result"
    }
   ],
   "source": [
    "a @ b"
   ]
  },
  {
   "cell_type": "code",
   "execution_count": 0,
   "metadata": {
    "colab": {
     "base_uri": "https://localhost:8080/",
     "height": 37
    },
    "colab_type": "code",
    "executionInfo": {
     "elapsed": 335,
     "status": "ok",
     "timestamp": 1572625191753,
     "user": {
      "displayName": "Aleksandr Veselev",
      "photoUrl": "",
      "userId": "06497019213520827031"
     },
     "user_tz": -180
    },
    "id": "sxqg4xhoYKBt",
    "outputId": "82edb695-6398-4b43-b106-a71c62892428"
   },
   "outputs": [
    {
     "data": {
      "text/plain": [
       "torch.Tensor"
      ]
     },
     "execution_count": 77,
     "metadata": {
      "tags": []
     },
     "output_type": "execute_result"
    }
   ],
   "source": [
    "type(a)"
   ]
  },
  {
   "cell_type": "code",
   "execution_count": 0,
   "metadata": {
    "colab": {
     "base_uri": "https://localhost:8080/",
     "height": 37
    },
    "colab_type": "code",
    "executionInfo": {
     "elapsed": 655,
     "status": "ok",
     "timestamp": 1572625193097,
     "user": {
      "displayName": "Aleksandr Veselev",
      "photoUrl": "",
      "userId": "06497019213520827031"
     },
     "user_tz": -180
    },
    "id": "_v2ZjPqDYKBz",
    "outputId": "8f3c74aa-e77d-4dcd-8172-faa43ded99a7"
   },
   "outputs": [
    {
     "data": {
      "text/plain": [
       "torch.Tensor"
      ]
     },
     "execution_count": 78,
     "metadata": {
      "tags": []
     },
     "output_type": "execute_result"
    }
   ],
   "source": [
    "type(b)"
   ]
  },
  {
   "cell_type": "code",
   "execution_count": 0,
   "metadata": {
    "colab": {
     "base_uri": "https://localhost:8080/",
     "height": 37
    },
    "colab_type": "code",
    "executionInfo": {
     "elapsed": 745,
     "status": "ok",
     "timestamp": 1572625195597,
     "user": {
      "displayName": "Aleksandr Veselev",
      "photoUrl": "",
      "userId": "06497019213520827031"
     },
     "user_tz": -180
    },
    "id": "UsWB9vTuYKB0",
    "outputId": "b85796b5-8a29-4b36-fe3d-337886352dfd"
   },
   "outputs": [
    {
     "data": {
      "text/plain": [
       "torch.Tensor"
      ]
     },
     "execution_count": 79,
     "metadata": {
      "tags": []
     },
     "output_type": "execute_result"
    }
   ],
   "source": [
    "type(a @ b)"
   ]
  },
  {
   "cell_type": "markdown",
   "metadata": {
    "colab_type": "text",
    "id": "KSrnLwkGYKB1"
   },
   "source": [
    "* Matrix product:"
   ]
  },
  {
   "cell_type": "code",
   "execution_count": 0,
   "metadata": {
    "colab": {},
    "colab_type": "code",
    "id": "ViurnbjPYKB2"
   },
   "outputs": [],
   "source": [
    "a = torch.FloatTensor([[1, 2, 3], [10, 20, 30], [100, 200, 300]])\n",
    "b = torch.FloatTensor([[-1, -2, -3], [-10, -20, -30], [100, 200, 300]])"
   ]
  },
  {
   "cell_type": "code",
   "execution_count": 0,
   "metadata": {
    "colab": {
     "base_uri": "https://localhost:8080/",
     "height": 75
    },
    "colab_type": "code",
    "executionInfo": {
     "elapsed": 530,
     "status": "ok",
     "timestamp": 1572625208031,
     "user": {
      "displayName": "Aleksandr Veselev",
      "photoUrl": "",
      "userId": "06497019213520827031"
     },
     "user_tz": -180
    },
    "id": "5TrCnfWiYKB3",
    "outputId": "9db6d76b-67ed-4595-8add-05b7c0aab5f2"
   },
   "outputs": [
    {
     "data": {
      "text/plain": [
       "tensor([[  279.,   558.,   837.],\n",
       "        [ 2790.,  5580.,  8370.],\n",
       "        [27900., 55800., 83700.]])"
      ]
     },
     "execution_count": 81,
     "metadata": {
      "tags": []
     },
     "output_type": "execute_result"
    }
   ],
   "source": [
    "a.mm(b)"
   ]
  },
  {
   "cell_type": "code",
   "execution_count": 0,
   "metadata": {
    "colab": {
     "base_uri": "https://localhost:8080/",
     "height": 75
    },
    "colab_type": "code",
    "executionInfo": {
     "elapsed": 593,
     "status": "ok",
     "timestamp": 1572625212683,
     "user": {
      "displayName": "Aleksandr Veselev",
      "photoUrl": "",
      "userId": "06497019213520827031"
     },
     "user_tz": -180
    },
    "id": "HMzIz-_MYKB4",
    "outputId": "008d7f0c-bafd-40fd-9dc8-a143a8772e9a"
   },
   "outputs": [
    {
     "data": {
      "text/plain": [
       "tensor([[  279.,   558.,   837.],\n",
       "        [ 2790.,  5580.,  8370.],\n",
       "        [27900., 55800., 83700.]])"
      ]
     },
     "execution_count": 82,
     "metadata": {
      "tags": []
     },
     "output_type": "execute_result"
    }
   ],
   "source": [
    "a @ b"
   ]
  },
  {
   "cell_type": "markdown",
   "metadata": {
    "colab_type": "text",
    "id": "Ig2pr52xYKB5"
   },
   "source": [
    "Remain unchanged:"
   ]
  },
  {
   "cell_type": "code",
   "execution_count": 0,
   "metadata": {
    "colab": {
     "base_uri": "https://localhost:8080/",
     "height": 75
    },
    "colab_type": "code",
    "executionInfo": {
     "elapsed": 580,
     "status": "ok",
     "timestamp": 1572625215351,
     "user": {
      "displayName": "Aleksandr Veselev",
      "photoUrl": "",
      "userId": "06497019213520827031"
     },
     "user_tz": -180
    },
    "id": "22QOePSyYKB6",
    "outputId": "6a86799c-7eb9-4637-e930-20c45783a7e0"
   },
   "outputs": [
    {
     "data": {
      "text/plain": [
       "tensor([[  1.,   2.,   3.],\n",
       "        [ 10.,  20.,  30.],\n",
       "        [100., 200., 300.]])"
      ]
     },
     "execution_count": 83,
     "metadata": {
      "tags": []
     },
     "output_type": "execute_result"
    }
   ],
   "source": [
    "a"
   ]
  },
  {
   "cell_type": "code",
   "execution_count": 0,
   "metadata": {
    "colab": {
     "base_uri": "https://localhost:8080/",
     "height": 75
    },
    "colab_type": "code",
    "executionInfo": {
     "elapsed": 748,
     "status": "ok",
     "timestamp": 1572625216422,
     "user": {
      "displayName": "Aleksandr Veselev",
      "photoUrl": "",
      "userId": "06497019213520827031"
     },
     "user_tz": -180
    },
    "id": "JHr6eKADYKB6",
    "outputId": "d02b66ed-5b08-4415-de5a-6e7bec649eb4"
   },
   "outputs": [
    {
     "data": {
      "text/plain": [
       "tensor([[ -1.,  -2.,  -3.],\n",
       "        [-10., -20., -30.],\n",
       "        [100., 200., 300.]])"
      ]
     },
     "execution_count": 84,
     "metadata": {
      "tags": []
     },
     "output_type": "execute_result"
    }
   ],
   "source": [
    "b"
   ]
  },
  {
   "cell_type": "code",
   "execution_count": 0,
   "metadata": {
    "colab": {},
    "colab_type": "code",
    "id": "vtuvt20-YKB8"
   },
   "outputs": [],
   "source": [
    "a = torch.FloatTensor([[1, 2, 3], [10, 20, 30], [100, 200, 300]])\n",
    "b = torch.FloatTensor([[-1], [-10], [100]])"
   ]
  },
  {
   "cell_type": "code",
   "execution_count": 0,
   "metadata": {
    "colab": {
     "base_uri": "https://localhost:8080/",
     "height": 37
    },
    "colab_type": "code",
    "executionInfo": {
     "elapsed": 528,
     "status": "ok",
     "timestamp": 1572625217561,
     "user": {
      "displayName": "Aleksandr Veselev",
      "photoUrl": "",
      "userId": "06497019213520827031"
     },
     "user_tz": -180
    },
    "id": "fdDnu5XjYKB9",
    "outputId": "399c139a-2b71-4baf-90ae-3e229e48e8f6"
   },
   "outputs": [
    {
     "name": "stdout",
     "output_type": "stream",
     "text": [
      "torch.Size([3, 3]) torch.Size([3, 1])\n"
     ]
    }
   ],
   "source": [
    "print(a.shape, b.shape)"
   ]
  },
  {
   "cell_type": "code",
   "execution_count": 0,
   "metadata": {
    "colab": {
     "base_uri": "https://localhost:8080/",
     "height": 74
    },
    "colab_type": "code",
    "executionInfo": {
     "elapsed": 2315,
     "status": "ok",
     "timestamp": 1572601790262,
     "user": {
      "displayName": "Aleksandr Veselev",
      "photoUrl": "",
      "userId": "06497019213520827031"
     },
     "user_tz": -180
    },
    "id": "oD4N4WN8YKB_",
    "outputId": "324d86e0-ea50-4f41-84f5-27af2480cbbf"
   },
   "outputs": [
    {
     "data": {
      "text/plain": [
       "tensor([[  279.],\n",
       "        [ 2790.],\n",
       "        [27900.]])"
      ]
     },
     "execution_count": 79,
     "metadata": {
      "tags": []
     },
     "output_type": "execute_result"
    }
   ],
   "source": [
    "a @ b"
   ]
  },
  {
   "cell_type": "markdown",
   "metadata": {
    "colab_type": "text",
    "id": "va9w-BavYKCB"
   },
   "source": [
    "If we unroll the tensor `b` in an array (`torch.view(-1)`) the multiplication would be like with the column:"
   ]
  },
  {
   "cell_type": "code",
   "execution_count": 0,
   "metadata": {
    "colab": {
     "base_uri": "https://localhost:8080/",
     "height": 75
    },
    "colab_type": "code",
    "executionInfo": {
     "elapsed": 581,
     "status": "ok",
     "timestamp": 1572625228131,
     "user": {
      "displayName": "Aleksandr Veselev",
      "photoUrl": "",
      "userId": "06497019213520827031"
     },
     "user_tz": -180
    },
    "id": "V7KsdYcBYKCC",
    "outputId": "478f9804-9ff1-4d76-8d7f-1b7b23339792"
   },
   "outputs": [
    {
     "data": {
      "text/plain": [
       "tensor([[ -1.],\n",
       "        [-10.],\n",
       "        [100.]])"
      ]
     },
     "execution_count": 87,
     "metadata": {
      "tags": []
     },
     "output_type": "execute_result"
    }
   ],
   "source": [
    "b"
   ]
  },
  {
   "cell_type": "code",
   "execution_count": 0,
   "metadata": {
    "colab": {
     "base_uri": "https://localhost:8080/",
     "height": 37
    },
    "colab_type": "code",
    "executionInfo": {
     "elapsed": 833,
     "status": "ok",
     "timestamp": 1572625228888,
     "user": {
      "displayName": "Aleksandr Veselev",
      "photoUrl": "",
      "userId": "06497019213520827031"
     },
     "user_tz": -180
    },
    "id": "t7k6spayYKCF",
    "outputId": "f19a8014-dbc4-4c73-f867-7ef2435f3aba"
   },
   "outputs": [
    {
     "data": {
      "text/plain": [
       "tensor([ -1., -10., 100.])"
      ]
     },
     "execution_count": 88,
     "metadata": {
      "tags": []
     },
     "output_type": "execute_result"
    }
   ],
   "source": [
    "b.view(-1)"
   ]
  },
  {
   "cell_type": "code",
   "execution_count": 0,
   "metadata": {
    "colab": {
     "base_uri": "https://localhost:8080/",
     "height": 37
    },
    "colab_type": "code",
    "executionInfo": {
     "elapsed": 464,
     "status": "ok",
     "timestamp": 1572625229812,
     "user": {
      "displayName": "Aleksandr Veselev",
      "photoUrl": "",
      "userId": "06497019213520827031"
     },
     "user_tz": -180
    },
    "id": "8u8xQ20bYKCH",
    "outputId": "63ea03dd-476f-4e1c-ac9f-060e930e82ec"
   },
   "outputs": [
    {
     "data": {
      "text/plain": [
       "tensor([  279.,  2790., 27900.])"
      ]
     },
     "execution_count": 89,
     "metadata": {
      "tags": []
     },
     "output_type": "execute_result"
    }
   ],
   "source": [
    "a @ b.view(-1)"
   ]
  },
  {
   "cell_type": "code",
   "execution_count": 0,
   "metadata": {
    "colab": {
     "base_uri": "https://localhost:8080/",
     "height": 37
    },
    "colab_type": "code",
    "executionInfo": {
     "elapsed": 410,
     "status": "ok",
     "timestamp": 1572625230146,
     "user": {
      "displayName": "Aleksandr Veselev",
      "photoUrl": "",
      "userId": "06497019213520827031"
     },
     "user_tz": -180
    },
    "id": "QvCu1sJEYKCJ",
    "outputId": "03b2e801-e4a1-48af-d72a-ade34063180a"
   },
   "outputs": [
    {
     "data": {
      "text/plain": [
       "tensor([  279.,  2790., 27900.])"
      ]
     },
     "execution_count": 90,
     "metadata": {
      "tags": []
     },
     "output_type": "execute_result"
    }
   ],
   "source": [
    "a.mv(b.view(-1))"
   ]
  },
  {
   "cell_type": "markdown",
   "metadata": {
    "colab_type": "text",
    "id": "gZitrCN6YKCL"
   },
   "source": [
    "**From NumPy to PyTorch conversion**:"
   ]
  },
  {
   "cell_type": "code",
   "execution_count": 40,
   "metadata": {
    "colab": {
     "base_uri": "https://localhost:8080/",
     "height": 72
    },
    "colab_type": "code",
    "executionInfo": {
     "elapsed": 808,
     "status": "ok",
     "timestamp": 1572712524908,
     "user": {
      "displayName": "Aleksandr Veselev",
      "photoUrl": "",
      "userId": "06497019213520827031"
     },
     "user_tz": -180
    },
    "id": "bnLS4CGXYKCL",
    "outputId": "716cd813-0244-4d99-d780-89940942ef7c"
   },
   "outputs": [
    {
     "data": {
      "text/plain": [
       "array([[0.16418051, 0.45971051, 0.09401552],\n",
       "       [0.43893546, 0.01225098, 0.21028455],\n",
       "       [0.86153681, 0.38811779, 0.80888506]])"
      ]
     },
     "execution_count": 40,
     "metadata": {
      "tags": []
     },
     "output_type": "execute_result"
    }
   ],
   "source": [
    "import numpy as np\n",
    "\n",
    "a = np.random.rand(3, 3)\n",
    "a"
   ]
  },
  {
   "cell_type": "code",
   "execution_count": 41,
   "metadata": {
    "colab": {
     "base_uri": "https://localhost:8080/",
     "height": 72
    },
    "colab_type": "code",
    "executionInfo": {
     "elapsed": 738,
     "status": "ok",
     "timestamp": 1572712528476,
     "user": {
      "displayName": "Aleksandr Veselev",
      "photoUrl": "",
      "userId": "06497019213520827031"
     },
     "user_tz": -180
    },
    "id": "PXge57waYKCM",
    "outputId": "e929b981-44f4-437c-e670-b579dfcec390"
   },
   "outputs": [
    {
     "data": {
      "text/plain": [
       "tensor([[0.1642, 0.4597, 0.0940],\n",
       "        [0.4389, 0.0123, 0.2103],\n",
       "        [0.8615, 0.3881, 0.8089]], dtype=torch.float64)"
      ]
     },
     "execution_count": 41,
     "metadata": {
      "tags": []
     },
     "output_type": "execute_result"
    }
   ],
   "source": [
    "b = torch.from_numpy(a.copy())\n",
    "b"
   ]
  },
  {
   "cell_type": "markdown",
   "metadata": {
    "colab_type": "text",
    "id": "Nvcr3ymPYKCN"
   },
   "source": [
    "**NOTE!** `a` and `b` have the same data storage, so the changes in one tensor will lead to the changes in another:"
   ]
  },
  {
   "cell_type": "code",
   "execution_count": 42,
   "metadata": {
    "colab": {
     "base_uri": "https://localhost:8080/",
     "height": 72
    },
    "colab_type": "code",
    "executionInfo": {
     "elapsed": 673,
     "status": "ok",
     "timestamp": 1572712531076,
     "user": {
      "displayName": "Aleksandr Veselev",
      "photoUrl": "",
      "userId": "06497019213520827031"
     },
     "user_tz": -180
    },
    "id": "0N_ZW6TQYKCN",
    "outputId": "31de75df-cae9-4398-b7b7-a6be54423a0e"
   },
   "outputs": [
    {
     "data": {
      "text/plain": [
       "tensor([[0., 0., 0.],\n",
       "        [0., 0., 0.],\n",
       "        [0., 0., 0.]], dtype=torch.float64)"
      ]
     },
     "execution_count": 42,
     "metadata": {
      "tags": []
     },
     "output_type": "execute_result"
    }
   ],
   "source": [
    "b -= b\n",
    "b"
   ]
  },
  {
   "cell_type": "code",
   "execution_count": 43,
   "metadata": {
    "colab": {
     "base_uri": "https://localhost:8080/",
     "height": 72
    },
    "colab_type": "code",
    "executionInfo": {
     "elapsed": 525,
     "status": "ok",
     "timestamp": 1572712531078,
     "user": {
      "displayName": "Aleksandr Veselev",
      "photoUrl": "",
      "userId": "06497019213520827031"
     },
     "user_tz": -180
    },
    "id": "wzUnCKsiYKCP",
    "outputId": "914bccbe-a338-453c-eee2-fb0107b1bb6d"
   },
   "outputs": [
    {
     "data": {
      "text/plain": [
       "array([[0.16418051, 0.45971051, 0.09401552],\n",
       "       [0.43893546, 0.01225098, 0.21028455],\n",
       "       [0.86153681, 0.38811779, 0.80888506]])"
      ]
     },
     "execution_count": 43,
     "metadata": {
      "tags": []
     },
     "output_type": "execute_result"
    }
   ],
   "source": [
    "a"
   ]
  },
  {
   "cell_type": "markdown",
   "metadata": {
    "colab_type": "text",
    "id": "Al73RqKSYKCR"
   },
   "source": [
    "**From PyTorch to NumPy conversion:**"
   ]
  },
  {
   "cell_type": "code",
   "execution_count": 46,
   "metadata": {
    "colab": {
     "base_uri": "https://localhost:8080/",
     "height": 146
    },
    "colab_type": "code",
    "executionInfo": {
     "elapsed": 1211,
     "status": "ok",
     "timestamp": 1572712541516,
     "user": {
      "displayName": "Aleksandr Veselev",
      "photoUrl": "",
      "userId": "06497019213520827031"
     },
     "user_tz": -180
    },
    "id": "u5rngw4vYKCR",
    "outputId": "4c70640f-2505-4974-a7cd-8f1309abb8d1"
   },
   "outputs": [
    {
     "data": {
      "text/plain": [
       "tensor([[[1.1287e-36, 0.0000e+00, 6.8664e-44, 7.9874e-44],\n",
       "         [6.3058e-44, 6.8664e-44, 6.8664e-44, 6.3058e-44],\n",
       "         [6.7262e-44, 7.0065e-44, 1.1771e-43, 6.8664e-44]],\n",
       "\n",
       "        [[7.5670e-44, 8.1275e-44, 7.1466e-44, 7.4269e-44],\n",
       "         [8.1275e-44, 7.2868e-44, 6.7262e-44, 6.4460e-44],\n",
       "         [7.2868e-44, 7.7071e-44, 6.7262e-44, 6.7262e-44]]])"
      ]
     },
     "execution_count": 46,
     "metadata": {
      "tags": []
     },
     "output_type": "execute_result"
    }
   ],
   "source": [
    "a = torch.FloatTensor(2, 3, 4)\n",
    "a"
   ]
  },
  {
   "cell_type": "code",
   "execution_count": 47,
   "metadata": {
    "colab": {
     "base_uri": "https://localhost:8080/",
     "height": 165
    },
    "colab_type": "code",
    "executionInfo": {
     "elapsed": 891,
     "status": "ok",
     "timestamp": 1572712550858,
     "user": {
      "displayName": "Aleksandr Veselev",
      "photoUrl": "",
      "userId": "06497019213520827031"
     },
     "user_tz": -180
    },
    "id": "xnuwv5eF-Of7",
    "outputId": "a01e7dfe-1f1d-4469-ba82-b8c67805ca63"
   },
   "outputs": [
    {
     "data": {
      "text/plain": [
       "array([[[1.1286697e-36, 0.0000000e+00, 6.8663625e-44, 7.9874012e-44],\n",
       "        [6.3058431e-44, 6.8663625e-44, 6.8663625e-44, 6.3058431e-44],\n",
       "        [6.7262326e-44, 7.0064923e-44, 1.1770907e-43, 6.8663625e-44]],\n",
       "\n",
       "       [[7.5670117e-44, 8.1275311e-44, 7.1466222e-44, 7.4268819e-44],\n",
       "        [8.1275311e-44, 7.2867520e-44, 6.7262326e-44, 6.4459729e-44],\n",
       "        [7.2867520e-44, 7.7071416e-44, 6.7262326e-44, 6.7262326e-44]]],\n",
       "      dtype=float32)"
      ]
     },
     "execution_count": 47,
     "metadata": {
      "tags": []
     },
     "output_type": "execute_result"
    }
   ],
   "source": [
    "a.numpy()"
   ]
  },
  {
   "cell_type": "code",
   "execution_count": 48,
   "metadata": {
    "colab": {
     "base_uri": "https://localhost:8080/",
     "height": 35
    },
    "colab_type": "code",
    "executionInfo": {
     "elapsed": 688,
     "status": "ok",
     "timestamp": 1572712574062,
     "user": {
      "displayName": "Aleksandr Veselev",
      "photoUrl": "",
      "userId": "06497019213520827031"
     },
     "user_tz": -180
    },
    "id": "q5dGeUCm-Q1q",
    "outputId": "5cd7b28c-617f-4d8d-fcc9-7584fb485ae1"
   },
   "outputs": [
    {
     "data": {
      "text/plain": [
       "True"
      ]
     },
     "execution_count": 48,
     "metadata": {
      "tags": []
     },
     "output_type": "execute_result"
    }
   ],
   "source": [
    "torch.cuda.is_available()"
   ]
  },
  {
   "cell_type": "code",
   "execution_count": 0,
   "metadata": {
    "colab": {},
    "colab_type": "code",
    "id": "UluI-KJL-Wk0"
   },
   "outputs": [],
   "source": [
    "a = a.to('cuda:0')"
   ]
  },
  {
   "cell_type": "code",
   "execution_count": 50,
   "metadata": {
    "colab": {
     "base_uri": "https://localhost:8080/",
     "height": 146
    },
    "colab_type": "code",
    "executionInfo": {
     "elapsed": 662,
     "status": "ok",
     "timestamp": 1572712608702,
     "user": {
      "displayName": "Aleksandr Veselev",
      "photoUrl": "",
      "userId": "06497019213520827031"
     },
     "user_tz": -180
    },
    "id": "_GoeorW5-cS6",
    "outputId": "5cef4e76-f785-419f-961b-c6c84f4f25be"
   },
   "outputs": [
    {
     "data": {
      "text/plain": [
       "tensor([[[1.1287e-36, 0.0000e+00, 6.8664e-44, 7.9874e-44],\n",
       "         [6.3058e-44, 6.8664e-44, 6.8664e-44, 6.3058e-44],\n",
       "         [6.7262e-44, 7.0065e-44, 1.1771e-43, 6.8664e-44]],\n",
       "\n",
       "        [[7.5670e-44, 8.1275e-44, 7.1466e-44, 7.4269e-44],\n",
       "         [8.1275e-44, 7.2868e-44, 6.7262e-44, 6.4460e-44],\n",
       "         [7.2868e-44, 7.7071e-44, 6.7262e-44, 6.7262e-44]]], device='cuda:0')"
      ]
     },
     "execution_count": 50,
     "metadata": {
      "tags": []
     },
     "output_type": "execute_result"
    }
   ],
   "source": [
    "a"
   ]
  },
  {
   "cell_type": "code",
   "execution_count": 0,
   "metadata": {
    "colab": {},
    "colab_type": "code",
    "id": "sUJlRGwz-fCP"
   },
   "outputs": [],
   "source": [
    "x_ = a.cpu().numpy()"
   ]
  },
  {
   "cell_type": "code",
   "execution_count": 0,
   "metadata": {
    "colab": {},
    "colab_type": "code",
    "id": "S26YA8cK-i4X"
   },
   "outputs": [],
   "source": []
  },
  {
   "cell_type": "code",
   "execution_count": 45,
   "metadata": {
    "colab": {
     "base_uri": "https://localhost:8080/",
     "height": 35
    },
    "colab_type": "code",
    "executionInfo": {
     "elapsed": 436,
     "status": "ok",
     "timestamp": 1572712532559,
     "user": {
      "displayName": "Aleksandr Veselev",
      "photoUrl": "",
      "userId": "06497019213520827031"
     },
     "user_tz": -180
    },
    "id": "yjK68Kk-YKCS",
    "outputId": "7f4e0706-655a-4f29-9ddf-7f77c0a5cfde"
   },
   "outputs": [
    {
     "data": {
      "text/plain": [
       "torch.Tensor"
      ]
     },
     "execution_count": 45,
     "metadata": {
      "tags": []
     },
     "output_type": "execute_result"
    }
   ],
   "source": [
    "type(a)"
   ]
  },
  {
   "cell_type": "code",
   "execution_count": 0,
   "metadata": {
    "colab": {
     "base_uri": "https://localhost:8080/",
     "height": 37
    },
    "colab_type": "code",
    "executionInfo": {
     "elapsed": 805,
     "status": "ok",
     "timestamp": 1572625383063,
     "user": {
      "displayName": "Aleksandr Veselev",
      "photoUrl": "",
      "userId": "06497019213520827031"
     },
     "user_tz": -180
    },
    "id": "toMMluQ2xogT",
    "outputId": "7d1ee153-81bc-41d6-9eab-90aa2b839c1b"
   },
   "outputs": [
    {
     "data": {
      "text/plain": [
       "True"
      ]
     },
     "execution_count": 103,
     "metadata": {
      "tags": []
     },
     "output_type": "execute_result"
    }
   ],
   "source": [
    "torch.cuda.is_available()"
   ]
  },
  {
   "cell_type": "code",
   "execution_count": 0,
   "metadata": {
    "colab": {
     "base_uri": "https://localhost:8080/",
     "height": 37
    },
    "colab_type": "code",
    "executionInfo": {
     "elapsed": 730,
     "status": "ok",
     "timestamp": 1572625403137,
     "user": {
      "displayName": "Aleksandr Veselev",
      "photoUrl": "",
      "userId": "06497019213520827031"
     },
     "user_tz": -180
    },
    "id": "SQnocvq2xvrQ",
    "outputId": "81bc7c7c-5382-4926-db1d-2812cc8c9089"
   },
   "outputs": [
    {
     "data": {
      "text/plain": [
       "torch.Tensor"
      ]
     },
     "execution_count": 104,
     "metadata": {
      "tags": []
     },
     "output_type": "execute_result"
    }
   ],
   "source": [
    "type(b)"
   ]
  },
  {
   "cell_type": "code",
   "execution_count": 0,
   "metadata": {
    "colab": {},
    "colab_type": "code",
    "id": "Pw3ucD1Lx0j8"
   },
   "outputs": [],
   "source": [
    "b = b.to(\"cuda:0\")"
   ]
  },
  {
   "cell_type": "code",
   "execution_count": 0,
   "metadata": {
    "colab": {},
    "colab_type": "code",
    "id": "AIVGkup4yAyD"
   },
   "outputs": [],
   "source": []
  },
  {
   "cell_type": "code",
   "execution_count": 0,
   "metadata": {
    "colab": {
     "base_uri": "https://localhost:8080/",
     "height": 75
    },
    "colab_type": "code",
    "executionInfo": {
     "elapsed": 689,
     "status": "ok",
     "timestamp": 1572625456952,
     "user": {
      "displayName": "Aleksandr Veselev",
      "photoUrl": "",
      "userId": "06497019213520827031"
     },
     "user_tz": -180
    },
    "id": "RIw2-Ze8x7J0",
    "outputId": "1c49d1fe-37ee-43e5-a6e1-09b57c745111"
   },
   "outputs": [
    {
     "data": {
      "text/plain": [
       "tensor([[0., 0., 0.],\n",
       "        [0., 0., 0.],\n",
       "        [0., 0., 0.]], device='cuda:0', dtype=torch.float64)"
      ]
     },
     "execution_count": 108,
     "metadata": {
      "tags": []
     },
     "output_type": "execute_result"
    }
   ],
   "source": [
    "b"
   ]
  },
  {
   "cell_type": "code",
   "execution_count": 0,
   "metadata": {
    "colab": {},
    "colab_type": "code",
    "id": "auPATFeex9SZ"
   },
   "outputs": [],
   "source": [
    "x_ = b.cpu().numpy()"
   ]
  },
  {
   "cell_type": "code",
   "execution_count": 0,
   "metadata": {
    "colab": {
     "base_uri": "https://localhost:8080/",
     "height": 75
    },
    "colab_type": "code",
    "executionInfo": {
     "elapsed": 672,
     "status": "ok",
     "timestamp": 1572625506012,
     "user": {
      "displayName": "Aleksandr Veselev",
      "photoUrl": "",
      "userId": "06497019213520827031"
     },
     "user_tz": -180
    },
    "id": "cm30vX53yHOL",
    "outputId": "ed494484-e3b1-4e07-d2df-3f4da8cc387d"
   },
   "outputs": [
    {
     "data": {
      "text/plain": [
       "tensor([[0., 0., 0.],\n",
       "        [0., 0., 0.],\n",
       "        [0., 0., 0.]], device='cuda:0', dtype=torch.float64)"
      ]
     },
     "execution_count": 111,
     "metadata": {
      "tags": []
     },
     "output_type": "execute_result"
    }
   ],
   "source": [
    "b"
   ]
  },
  {
   "cell_type": "code",
   "execution_count": 0,
   "metadata": {
    "colab": {
     "base_uri": "https://localhost:8080/",
     "height": 172
    },
    "colab_type": "code",
    "executionInfo": {
     "elapsed": 500,
     "status": "ok",
     "timestamp": 1572625519645,
     "user": {
      "displayName": "Aleksandr Veselev",
      "photoUrl": "",
      "userId": "06497019213520827031"
     },
     "user_tz": -180
    },
    "id": "viLUF7gQYKCU",
    "outputId": "29912c1e-8ceb-4ed7-98ba-9a1620f27605"
   },
   "outputs": [
    {
     "data": {
      "text/plain": [
       "array([[[5.9228155e-37, 0.0000000e+00, 6.8663625e-44, 7.9874012e-44],\n",
       "        [6.3058431e-44, 6.8663625e-44, 6.8663625e-44, 6.3058431e-44],\n",
       "        [6.7262326e-44, 6.8663625e-44, 1.1770907e-43, 6.8663625e-44]],\n",
       "\n",
       "       [[7.5670117e-44, 8.1275311e-44, 7.0064923e-44, 7.0064923e-44],\n",
       "        [8.1275311e-44, 6.8663625e-44, 7.2867520e-44, 6.4459729e-44],\n",
       "        [7.4268819e-44, 7.5670117e-44, 7.1466222e-44, 7.9874012e-44]]],\n",
       "      dtype=float32)"
      ]
     },
     "execution_count": 112,
     "metadata": {
      "tags": []
     },
     "output_type": "execute_result"
    }
   ],
   "source": [
    "x = a.numpy()\n",
    "x"
   ]
  },
  {
   "cell_type": "code",
   "execution_count": 0,
   "metadata": {
    "colab": {},
    "colab_type": "code",
    "id": "QdpE4RWIyQ_8"
   },
   "outputs": [],
   "source": []
  },
  {
   "cell_type": "code",
   "execution_count": 0,
   "metadata": {
    "colab": {
     "base_uri": "https://localhost:8080/",
     "height": 37
    },
    "colab_type": "code",
    "executionInfo": {
     "elapsed": 730,
     "status": "ok",
     "timestamp": 1572625521471,
     "user": {
      "displayName": "Aleksandr Veselev",
      "photoUrl": "",
      "userId": "06497019213520827031"
     },
     "user_tz": -180
    },
    "id": "9HxgiLxKYKCV",
    "outputId": "7b6bdc0e-c724-41cf-d8ac-779f288eef65"
   },
   "outputs": [
    {
     "data": {
      "text/plain": [
       "(2, 3, 4)"
      ]
     },
     "execution_count": 113,
     "metadata": {
      "tags": []
     },
     "output_type": "execute_result"
    }
   ],
   "source": [
    "x.shape"
   ]
  },
  {
   "cell_type": "code",
   "execution_count": 0,
   "metadata": {
    "colab": {
     "base_uri": "https://localhost:8080/",
     "height": 37
    },
    "colab_type": "code",
    "executionInfo": {
     "elapsed": 419,
     "status": "ok",
     "timestamp": 1572625522359,
     "user": {
      "displayName": "Aleksandr Veselev",
      "photoUrl": "",
      "userId": "06497019213520827031"
     },
     "user_tz": -180
    },
    "id": "SdW5bhmeYKCX",
    "outputId": "73ec1c26-27e8-4447-a602-18359cdf6f25"
   },
   "outputs": [
    {
     "data": {
      "text/plain": [
       "numpy.ndarray"
      ]
     },
     "execution_count": 114,
     "metadata": {
      "tags": []
     },
     "output_type": "execute_result"
    }
   ],
   "source": [
    "type(x)"
   ]
  },
  {
   "cell_type": "markdown",
   "metadata": {
    "colab_type": "text",
    "id": "7-KS81rUYKCY"
   },
   "source": [
    "Let's write the `forward_pass(X, w)` ($w_0$ is a part of the $w$) for a single neuron (activation = sigmoid) using PyTorch:"
   ]
  },
  {
   "cell_type": "code",
   "execution_count": 0,
   "metadata": {
    "colab": {},
    "colab_type": "code",
    "id": "vkaIwpn6YKCY"
   },
   "outputs": [],
   "source": [
    "def forward_pass(X, w):\n",
    "    return torch.sigmoid(X @ w)"
   ]
  },
  {
   "cell_type": "code",
   "execution_count": 0,
   "metadata": {
    "colab": {
     "base_uri": "https://localhost:8080/",
     "height": 75
    },
    "colab_type": "code",
    "executionInfo": {
     "elapsed": 782,
     "status": "ok",
     "timestamp": 1572625575785,
     "user": {
      "displayName": "Aleksandr Veselev",
      "photoUrl": "",
      "userId": "06497019213520827031"
     },
     "user_tz": -180
    },
    "id": "VyqlDItxYKCZ",
    "outputId": "8c7a4519-8f06-4e99-c51c-abda68c319a1"
   },
   "outputs": [
    {
     "name": "stdout",
     "output_type": "stream",
     "text": [
      "result: tensor([[1.0000],\n",
      "        [0.9985],\n",
      "        [0.0474]])\n"
     ]
    }
   ],
   "source": [
    "X = torch.FloatTensor([[-5, 5], [2, 3], [1, -1]])\n",
    "w = torch.FloatTensor([[-0.5], [2.5]])\n",
    "result = forward_pass(X, w)\n",
    "print('result: {}'.format(result))"
   ]
  },
  {
   "cell_type": "markdown",
   "metadata": {
    "colab_type": "text",
    "id": "MzLVLQ2GYKCa"
   },
   "source": [
    "<h3 style=\"text-align: center;\"><a href=\"https://ru.wikipedia.org/wiki/CUDA\">CUDA</a></h3>"
   ]
  },
  {
   "cell_type": "markdown",
   "metadata": {
    "colab_type": "text",
    "id": "PrIicAAiYKCa"
   },
   "source": [
    "[CUDA documentation](https://docs.nvidia.com/cuda/)"
   ]
  },
  {
   "cell_type": "markdown",
   "metadata": {
    "colab_type": "text",
    "id": "2nDkAG6NYKCa"
   },
   "source": [
    "We can use both CPU (Central Processing Unit) and GPU (Graphical Processing Unit) to make the computations with PyTorch. We can switch between them easily, this is one of the most important things in PyTorch framework."
   ]
  },
  {
   "cell_type": "code",
   "execution_count": 0,
   "metadata": {
    "colab": {
     "base_uri": "https://localhost:8080/",
     "height": 153
    },
    "colab_type": "code",
    "executionInfo": {
     "elapsed": 602,
     "status": "ok",
     "timestamp": 1572625586545,
     "user": {
      "displayName": "Aleksandr Veselev",
      "photoUrl": "",
      "userId": "06497019213520827031"
     },
     "user_tz": -180
    },
    "id": "_0Nsl2IoYKCa",
    "outputId": "fd8c4fb5-f5ab-4ff6-a01e-daf0f8c92d60"
   },
   "outputs": [
    {
     "data": {
      "text/plain": [
       "tensor([[0.4027, 0.6399, 0.8644,  ..., 0.4850, 0.1571, 0.5722],\n",
       "        [0.9349, 0.3903, 0.3236,  ..., 0.0723, 0.0421, 0.1672],\n",
       "        [0.4089, 0.4447, 0.3754,  ..., 0.2633, 0.4668, 0.5736],\n",
       "        ...,\n",
       "        [0.4328, 0.9765, 0.3669,  ..., 0.4416, 0.3458, 0.1800],\n",
       "        [0.6662, 0.7299, 0.4771,  ..., 0.3753, 0.4587, 0.8859],\n",
       "        [0.0416, 0.2276, 0.1308,  ..., 0.0952, 0.3367, 0.2046]])"
      ]
     },
     "execution_count": 117,
     "metadata": {
      "tags": []
     },
     "output_type": "execute_result"
    }
   ],
   "source": [
    "x = torch.FloatTensor(1024, 1024).uniform_()\n",
    "x"
   ]
  },
  {
   "cell_type": "code",
   "execution_count": 0,
   "metadata": {
    "colab": {
     "base_uri": "https://localhost:8080/",
     "height": 37
    },
    "colab_type": "code",
    "executionInfo": {
     "elapsed": 562,
     "status": "ok",
     "timestamp": 1572625597506,
     "user": {
      "displayName": "Aleksandr Veselev",
      "photoUrl": "",
      "userId": "06497019213520827031"
     },
     "user_tz": -180
    },
    "id": "FVr5_SAdYKCb",
    "outputId": "29335066-a855-41b0-b039-e1a59ccf66bd"
   },
   "outputs": [
    {
     "data": {
      "text/plain": [
       "False"
      ]
     },
     "execution_count": 118,
     "metadata": {
      "tags": []
     },
     "output_type": "execute_result"
    }
   ],
   "source": [
    "x.is_cuda"
   ]
  },
  {
   "cell_type": "markdown",
   "metadata": {
    "colab_type": "text",
    "id": "mAy8GGXAYKCd"
   },
   "source": [
    "Place a tensor on GPU:"
   ]
  },
  {
   "cell_type": "code",
   "execution_count": 0,
   "metadata": {
    "colab": {},
    "colab_type": "code",
    "id": "6UGKZbfyYKCd"
   },
   "outputs": [],
   "source": [
    "x = x.cuda()"
   ]
  },
  {
   "cell_type": "code",
   "execution_count": 0,
   "metadata": {
    "colab": {
     "base_uri": "https://localhost:8080/",
     "height": 172
    },
    "colab_type": "code",
    "executionInfo": {
     "elapsed": 588,
     "status": "ok",
     "timestamp": 1572625609520,
     "user": {
      "displayName": "Aleksandr Veselev",
      "photoUrl": "",
      "userId": "06497019213520827031"
     },
     "user_tz": -180
    },
    "id": "ue2SLd9nYKCd",
    "outputId": "41bb4a3f-7165-4971-cd14-c25b00d71a04"
   },
   "outputs": [
    {
     "data": {
      "text/plain": [
       "tensor([[0.4027, 0.6399, 0.8644,  ..., 0.4850, 0.1571, 0.5722],\n",
       "        [0.9349, 0.3903, 0.3236,  ..., 0.0723, 0.0421, 0.1672],\n",
       "        [0.4089, 0.4447, 0.3754,  ..., 0.2633, 0.4668, 0.5736],\n",
       "        ...,\n",
       "        [0.4328, 0.9765, 0.3669,  ..., 0.4416, 0.3458, 0.1800],\n",
       "        [0.6662, 0.7299, 0.4771,  ..., 0.3753, 0.4587, 0.8859],\n",
       "        [0.0416, 0.2276, 0.1308,  ..., 0.0952, 0.3367, 0.2046]],\n",
       "       device='cuda:0')"
      ]
     },
     "execution_count": 120,
     "metadata": {
      "tags": []
     },
     "output_type": "execute_result"
    }
   ],
   "source": [
    "x"
   ]
  },
  {
   "cell_type": "markdown",
   "metadata": {
    "colab_type": "text",
    "id": "dI73B59PYKCg"
   },
   "source": [
    "Let's multiply two tensors on GPU and then move the result on the CPU:"
   ]
  },
  {
   "cell_type": "code",
   "execution_count": 0,
   "metadata": {
    "colab": {},
    "colab_type": "code",
    "id": "KS4QxJJoYKCg"
   },
   "outputs": [],
   "source": [
    "a = torch.FloatTensor(10000, 10000).uniform_()\n",
    "b = torch.FloatTensor(10000, 10000).uniform_()\n",
    "c = a.cuda().mul(b.cuda()).cpu()"
   ]
  },
  {
   "cell_type": "code",
   "execution_count": 0,
   "metadata": {
    "colab": {
     "base_uri": "https://localhost:8080/",
     "height": 153
    },
    "colab_type": "code",
    "executionInfo": {
     "elapsed": 487,
     "status": "ok",
     "timestamp": 1572625618950,
     "user": {
      "displayName": "Aleksandr Veselev",
      "photoUrl": "",
      "userId": "06497019213520827031"
     },
     "user_tz": -180
    },
    "id": "1ImlgEbwYKCg",
    "outputId": "5a14446d-c129-4ff6-c87c-2c77b8cbd6a6"
   },
   "outputs": [
    {
     "data": {
      "text/plain": [
       "tensor([[0.3807, 0.5525, 0.1062,  ..., 0.7243, 0.1689, 0.1242],\n",
       "        [0.1832, 0.5600, 0.0969,  ..., 0.1388, 0.0671, 0.2765],\n",
       "        [0.0576, 0.4444, 0.1857,  ..., 0.0150, 0.1965, 0.1314],\n",
       "        ...,\n",
       "        [0.0841, 0.1014, 0.0424,  ..., 0.4576, 0.2949, 0.0786],\n",
       "        [0.3890, 0.0889, 0.1095,  ..., 0.2898, 0.0856, 0.1966],\n",
       "        [0.3653, 0.8354, 0.1741,  ..., 0.0731, 0.2845, 0.2340]])"
      ]
     },
     "execution_count": 122,
     "metadata": {
      "tags": []
     },
     "output_type": "execute_result"
    }
   ],
   "source": [
    "c"
   ]
  },
  {
   "cell_type": "code",
   "execution_count": 0,
   "metadata": {
    "colab": {
     "base_uri": "https://localhost:8080/",
     "height": 153
    },
    "colab_type": "code",
    "executionInfo": {
     "elapsed": 525,
     "status": "ok",
     "timestamp": 1572625623202,
     "user": {
      "displayName": "Aleksandr Veselev",
      "photoUrl": "",
      "userId": "06497019213520827031"
     },
     "user_tz": -180
    },
    "id": "4DAN9MhDYKCh",
    "outputId": "e4f36262-df05-4712-991d-16cc0d7daad1"
   },
   "outputs": [
    {
     "data": {
      "text/plain": [
       "tensor([[0.4653, 0.7906, 0.2188,  ..., 0.7449, 0.3096, 0.2357],\n",
       "        [0.2769, 0.6990, 0.7340,  ..., 0.1928, 0.9313, 0.9282],\n",
       "        [0.0843, 0.7805, 0.5093,  ..., 0.3752, 0.3841, 0.2143],\n",
       "        ...,\n",
       "        [0.4642, 0.2722, 0.1169,  ..., 0.7612, 0.4234, 0.0800],\n",
       "        [0.7629, 0.2531, 0.1229,  ..., 0.6555, 0.2177, 0.2523],\n",
       "        [0.9742, 0.8684, 0.2852,  ..., 0.3868, 0.5131, 0.5960]])"
      ]
     },
     "execution_count": 123,
     "metadata": {
      "tags": []
     },
     "output_type": "execute_result"
    }
   ],
   "source": [
    "a"
   ]
  },
  {
   "cell_type": "markdown",
   "metadata": {
    "colab_type": "text",
    "id": "xWc-PiA9YKCi"
   },
   "source": [
    "Tensors placed on CPU and tensors placed on GPU are unavailable for each other:"
   ]
  },
  {
   "cell_type": "code",
   "execution_count": 0,
   "metadata": {
    "colab": {},
    "colab_type": "code",
    "id": "1lwV1sgSYKCi"
   },
   "outputs": [],
   "source": [
    "a = torch.FloatTensor(10000, 10000).uniform_().cpu()\n",
    "b = torch.FloatTensor(10000, 10000).uniform_().cuda()"
   ]
  },
  {
   "cell_type": "code",
   "execution_count": 56,
   "metadata": {
    "colab": {
     "base_uri": "https://localhost:8080/",
     "height": 174
    },
    "colab_type": "code",
    "executionInfo": {
     "elapsed": 646,
     "status": "error",
     "timestamp": 1572712825505,
     "user": {
      "displayName": "Aleksandr Veselev",
      "photoUrl": "",
      "userId": "06497019213520827031"
     },
     "user_tz": -180
    },
    "id": "G6tYdYtTYKCj",
    "outputId": "512e7cf0-7767-48f0-afc8-eb16c61ab6a4"
   },
   "outputs": [
    {
     "ename": "RuntimeError",
     "evalue": "ignored",
     "output_type": "error",
     "traceback": [
      "\u001b[0;31m---------------------------------------------------------------------------\u001b[0m",
      "\u001b[0;31mRuntimeError\u001b[0m                              Traceback (most recent call last)",
      "\u001b[0;32m<ipython-input-56-44550f31dd64>\u001b[0m in \u001b[0;36m<module>\u001b[0;34m()\u001b[0m\n\u001b[0;32m----> 1\u001b[0;31m \u001b[0mb\u001b[0m \u001b[0;34m+\u001b[0m \u001b[0ma\u001b[0m\u001b[0;34m\u001b[0m\u001b[0;34m\u001b[0m\u001b[0m\n\u001b[0m",
      "\u001b[0;31mRuntimeError\u001b[0m: expected device cuda:0 but got device cpu"
     ]
    }
   ],
   "source": [
    "b + a"
   ]
  },
  {
   "cell_type": "markdown",
   "metadata": {
    "colab_type": "text",
    "id": "QEtwaIxDYKCk"
   },
   "source": [
    "Example of working with GPU:"
   ]
  },
  {
   "cell_type": "code",
   "execution_count": 57,
   "metadata": {
    "colab": {
     "base_uri": "https://localhost:8080/",
     "height": 1000
    },
    "colab_type": "code",
    "executionInfo": {
     "elapsed": 1192,
     "status": "ok",
     "timestamp": 1572712850639,
     "user": {
      "displayName": "Aleksandr Veselev",
      "photoUrl": "",
      "userId": "06497019213520827031"
     },
     "user_tz": -180
    },
    "id": "bJgVfAbUYKCk",
    "outputId": "7f8afd35-6d10-495e-f66e-34f05be5a3ad",
    "scrolled": true
   },
   "outputs": [
    {
     "name": "stdout",
     "output_type": "stream",
     "text": [
      "tensor([[[1.3472, 1.1246, 1.3548, 1.8101, 1.3363],\n",
      "         [1.3728, 1.7053, 1.9586, 1.1576, 1.4201],\n",
      "         [1.6990, 1.5959, 1.8868, 1.7493, 1.4998],\n",
      "         [1.7699, 1.0273, 1.2044, 1.5267, 1.4737],\n",
      "         [1.5073, 1.6410, 1.7872, 1.9843, 1.0928]],\n",
      "\n",
      "        [[1.2074, 1.9778, 1.2099, 1.4244, 1.0611],\n",
      "         [1.8449, 1.0224, 1.1215, 1.6722, 1.1779],\n",
      "         [1.3378, 1.5410, 1.2299, 1.6999, 1.8470],\n",
      "         [1.0019, 1.6963, 1.8706, 1.8386, 1.3538],\n",
      "         [1.8116, 1.3651, 1.3802, 1.4461, 1.4702]],\n",
      "\n",
      "        [[1.6872, 1.5959, 1.5335, 1.7983, 1.0591],\n",
      "         [1.5234, 1.5836, 1.0192, 1.7576, 1.2997],\n",
      "         [1.0259, 1.8393, 1.8570, 1.4751, 1.5658],\n",
      "         [1.2853, 1.6550, 1.4225, 1.0559, 1.9032],\n",
      "         [1.3360, 1.3552, 1.0834, 1.0586, 1.0302]],\n",
      "\n",
      "        [[1.3685, 1.7693, 1.7187, 1.1715, 1.5759],\n",
      "         [1.0244, 1.8772, 1.0367, 1.1238, 1.5551],\n",
      "         [1.5231, 1.9143, 1.0730, 1.7899, 1.2627],\n",
      "         [1.7481, 1.0430, 1.5570, 1.1055, 1.9050],\n",
      "         [1.7729, 1.0374, 1.7134, 1.7476, 1.7617]],\n",
      "\n",
      "        [[1.3723, 1.7990, 1.7477, 1.8340, 1.5070],\n",
      "         [1.2908, 1.0331, 1.6189, 1.2208, 1.0011],\n",
      "         [1.5717, 1.3103, 1.6295, 1.1847, 1.7928],\n",
      "         [1.1817, 1.6501, 1.2338, 1.4914, 1.9787],\n",
      "         [1.2402, 1.5297, 1.1052, 1.1550, 1.0256]]], device='cuda:0')\n",
      "tensor([[[1.3472, 1.1246, 1.3548, 1.8101, 1.3363],\n",
      "         [1.3728, 1.7053, 1.9586, 1.1576, 1.4201],\n",
      "         [1.6990, 1.5959, 1.8868, 1.7493, 1.4998],\n",
      "         [1.7699, 1.0273, 1.2044, 1.5267, 1.4737],\n",
      "         [1.5073, 1.6410, 1.7872, 1.9843, 1.0928]],\n",
      "\n",
      "        [[1.2074, 1.9778, 1.2099, 1.4244, 1.0611],\n",
      "         [1.8449, 1.0224, 1.1215, 1.6722, 1.1779],\n",
      "         [1.3378, 1.5410, 1.2299, 1.6999, 1.8470],\n",
      "         [1.0019, 1.6963, 1.8706, 1.8386, 1.3538],\n",
      "         [1.8116, 1.3651, 1.3802, 1.4461, 1.4702]],\n",
      "\n",
      "        [[1.6872, 1.5959, 1.5335, 1.7983, 1.0591],\n",
      "         [1.5234, 1.5836, 1.0192, 1.7576, 1.2997],\n",
      "         [1.0259, 1.8393, 1.8570, 1.4751, 1.5658],\n",
      "         [1.2853, 1.6550, 1.4225, 1.0559, 1.9032],\n",
      "         [1.3360, 1.3552, 1.0834, 1.0586, 1.0302]],\n",
      "\n",
      "        [[1.3685, 1.7693, 1.7187, 1.1715, 1.5759],\n",
      "         [1.0244, 1.8772, 1.0367, 1.1238, 1.5551],\n",
      "         [1.5231, 1.9143, 1.0730, 1.7899, 1.2627],\n",
      "         [1.7481, 1.0430, 1.5570, 1.1055, 1.9050],\n",
      "         [1.7729, 1.0374, 1.7134, 1.7476, 1.7617]],\n",
      "\n",
      "        [[1.3723, 1.7990, 1.7477, 1.8340, 1.5070],\n",
      "         [1.2908, 1.0331, 1.6189, 1.2208, 1.0011],\n",
      "         [1.5717, 1.3103, 1.6295, 1.1847, 1.7928],\n",
      "         [1.1817, 1.6501, 1.2338, 1.4914, 1.9787],\n",
      "         [1.2402, 1.5297, 1.1052, 1.1550, 1.0256]]], dtype=torch.float64)\n"
     ]
    }
   ],
   "source": [
    "x = torch.FloatTensor(5, 5, 5).uniform_()\n",
    "\n",
    "# check for CUDA availability (NVIDIA GPU)\n",
    "if torch.cuda.is_available():\n",
    "    # get the CUDA device name\n",
    "    device = torch.device('cuda')          # CUDA-device object\n",
    "    y = torch.ones_like(x, device='cuda:0')  # create a tensor on GPU\n",
    "    x = x.to(device)                       # or just `.to(\"cuda\")`\n",
    "    z = x + y\n",
    "    print(z)\n",
    "    # you can set the type while `.to` operation\n",
    "    print(z.to(\"cpu\", torch.double))"
   ]
  },
  {
   "cell_type": "markdown",
   "metadata": {
    "colab_type": "text",
    "id": "iFg82MJIYKCl"
   },
   "source": [
    "<h3 style=\"text-align: center;\">Autograd<b></b></h3>"
   ]
  },
  {
   "cell_type": "markdown",
   "metadata": {
    "colab_type": "text",
    "id": "udpOWYK-YKCm"
   },
   "source": [
    "The autograd package provides automatic differentiation for all operations on Tensors. It is a define-by-run framework, which means that your backprop is defined by how your code is run, and that every single iteration can be different."
   ]
  },
  {
   "cell_type": "markdown",
   "metadata": {
    "colab_type": "text",
    "id": "OAfNuSknYKCm"
   },
   "source": [
    "Importing the `Variable()` class:"
   ]
  },
  {
   "cell_type": "code",
   "execution_count": 0,
   "metadata": {
    "colab": {},
    "colab_type": "code",
    "id": "PJdDG51vYKCm"
   },
   "outputs": [],
   "source": [
    "from torch.autograd import Variable"
   ]
  },
  {
   "cell_type": "markdown",
   "metadata": {
    "colab_type": "text",
    "id": "dZzZFE-0YKCm"
   },
   "source": [
    "Now we will convert `torch.Tensor()` into `torch.Variable()` and we will get just the same tensor but the possibility to calculate the gradients with respect to this tensor."
   ]
  },
  {
   "cell_type": "markdown",
   "metadata": {
    "colab_type": "text",
    "id": "VzMGFf1xYKCm"
   },
   "source": [
    "If `а` is a tensor wrapped into `Variable()`, then `a.backward()` calculates the gradients with respect to all the tensors on which the tensor `a` depends."
   ]
  },
  {
   "cell_type": "markdown",
   "metadata": {
    "colab_type": "text",
    "id": "bTVyleFWYKCn"
   },
   "source": [
    "**Note:** If you use `pytorch 0.4.0` version (or newer), then `torch.Tensor` and `torch.Variable()` were merged into `torch.tensor`, so one doesn't need to use `Variable()` any more. (`torch.Variable()` is deprecated).\n"
   ]
  },
  {
   "cell_type": "markdown",
   "metadata": {
    "colab_type": "text",
    "id": "AEDz971fYKCn"
   },
   "source": [
    "The examples:"
   ]
  },
  {
   "cell_type": "code",
   "execution_count": 0,
   "metadata": {
    "colab": {},
    "colab_type": "code",
    "id": "lcDl5T-rDK0J"
   },
   "outputs": [],
   "source": [
    "from torch.autograd import Variable"
   ]
  },
  {
   "cell_type": "code",
   "execution_count": 0,
   "metadata": {
    "colab": {},
    "colab_type": "code",
    "id": "bUuMWRO4_pyl"
   },
   "outputs": [],
   "source": [
    "x = torch.tensor([1.], requires_grad=True)\n",
    "y = torch.tensor([2.], requires_grad=True)\n",
    "z = torch.tensor([3.], requires_grad=True)\n",
    "\n",
    "f = (x + y)*z\n",
    "f.backward()"
   ]
  },
  {
   "cell_type": "code",
   "execution_count": 62,
   "metadata": {
    "colab": {
     "base_uri": "https://localhost:8080/",
     "height": 35
    },
    "colab_type": "code",
    "executionInfo": {
     "elapsed": 1066,
     "status": "ok",
     "timestamp": 1572712995477,
     "user": {
      "displayName": "Aleksandr Veselev",
      "photoUrl": "",
      "userId": "06497019213520827031"
     },
     "user_tz": -180
    },
    "id": "V_RD_3Vr_5Ox",
    "outputId": "0618673e-636d-4a7f-cff8-09b595a93819"
   },
   "outputs": [
    {
     "data": {
      "text/plain": [
       "(tensor([3.]), tensor([3.]), tensor([3.]))"
      ]
     },
     "execution_count": 62,
     "metadata": {
      "tags": []
     },
     "output_type": "execute_result"
    }
   ],
   "source": [
    "x.grad, y.grad, z.grad"
   ]
  },
  {
   "cell_type": "code",
   "execution_count": 0,
   "metadata": {
    "colab": {},
    "colab_type": "code",
    "id": "L6HyABfx_9QN"
   },
   "outputs": [],
   "source": []
  },
  {
   "cell_type": "code",
   "execution_count": 0,
   "metadata": {
    "colab": {},
    "colab_type": "code",
    "id": "rYWqXsAjYKCn"
   },
   "outputs": [],
   "source": [
    "x = torch.FloatTensor(3, 1).uniform_()\n",
    "y = torch.FloatTensor(3, 1).uniform_()\n",
    "w = torch.FloatTensor(3, 3).uniform_() \n",
    "b = torch.FloatTensor(3, 1).uniform_()\n",
    "\n",
    "x = Variable(x, requires_grad=False)\n",
    "y = Variable(y, requires_grad=False)\n",
    "w = Variable(w, requires_grad=True)\n",
    "b = Variable(b, requires_grad=True)\n",
    "\n",
    "y_pred = (w @ x).add(b)\n",
    "\n",
    "loss = (y_pred - y).sum()\n",
    "\n",
    "# calculate the gradients\n",
    "loss.backward()"
   ]
  },
  {
   "cell_type": "code",
   "execution_count": 0,
   "metadata": {
    "colab": {},
    "colab_type": "code",
    "id": "ZsePHOo0YKCp"
   },
   "outputs": [],
   "source": [
    "x.grad"
   ]
  },
  {
   "cell_type": "code",
   "execution_count": 65,
   "metadata": {
    "colab": {
     "base_uri": "https://localhost:8080/",
     "height": 72
    },
    "colab_type": "code",
    "executionInfo": {
     "elapsed": 677,
     "status": "ok",
     "timestamp": 1572713016165,
     "user": {
      "displayName": "Aleksandr Veselev",
      "photoUrl": "",
      "userId": "06497019213520827031"
     },
     "user_tz": -180
    },
    "id": "qLkn5C7JYKCp",
    "outputId": "23ecc290-ede7-47a6-f825-749d906d8923"
   },
   "outputs": [
    {
     "data": {
      "text/plain": [
       "tensor([[0.2584, 0.6292, 0.4496],\n",
       "        [0.2584, 0.6292, 0.4496],\n",
       "        [0.2584, 0.6292, 0.4496]])"
      ]
     },
     "execution_count": 65,
     "metadata": {
      "tags": []
     },
     "output_type": "execute_result"
    }
   ],
   "source": [
    "w.grad"
   ]
  },
  {
   "cell_type": "code",
   "execution_count": 66,
   "metadata": {
    "colab": {
     "base_uri": "https://localhost:8080/",
     "height": 72
    },
    "colab_type": "code",
    "executionInfo": {
     "elapsed": 516,
     "status": "ok",
     "timestamp": 1572713017426,
     "user": {
      "displayName": "Aleksandr Veselev",
      "photoUrl": "",
      "userId": "06497019213520827031"
     },
     "user_tz": -180
    },
    "id": "CYkrFbD5YKCq",
    "outputId": "eb140322-d32d-4c86-b8f0-b3bfe4b17bc1"
   },
   "outputs": [
    {
     "data": {
      "text/plain": [
       "tensor([[1.],\n",
       "        [1.],\n",
       "        [1.]])"
      ]
     },
     "execution_count": 66,
     "metadata": {
      "tags": []
     },
     "output_type": "execute_result"
    }
   ],
   "source": [
    "b.grad"
   ]
  },
  {
   "cell_type": "code",
   "execution_count": 0,
   "metadata": {
    "colab": {},
    "colab_type": "code",
    "id": "ouMNnbtXYKCr"
   },
   "outputs": [],
   "source": [
    "y.grad"
   ]
  },
  {
   "cell_type": "code",
   "execution_count": 0,
   "metadata": {
    "colab": {},
    "colab_type": "code",
    "id": "MgUAuK6LbdU1"
   },
   "outputs": [],
   "source": [
    "loss.grad"
   ]
  },
  {
   "cell_type": "markdown",
   "metadata": {
    "colab_type": "text",
    "id": "DIsqxWIvYKCs"
   },
   "source": [
    "**NOTE:** the gradients are placed into the `.grad` field of tensors (variables) on which gradients were calculated. Gradients *are not placed* in the variable `loss` here!"
   ]
  },
  {
   "cell_type": "markdown",
   "metadata": {
    "colab_type": "text",
    "id": "Nf2xLNDgYKCs"
   },
   "source": [
    "Here is how to get `torch.Tensor()` from the `Variable()` (`.data` field):"
   ]
  },
  {
   "cell_type": "code",
   "execution_count": 0,
   "metadata": {
    "colab": {
     "base_uri": "https://localhost:8080/",
     "height": 75
    },
    "colab_type": "code",
    "executionInfo": {
     "elapsed": 790,
     "status": "ok",
     "timestamp": 1572625915657,
     "user": {
      "displayName": "Aleksandr Veselev",
      "photoUrl": "",
      "userId": "06497019213520827031"
     },
     "user_tz": -180
    },
    "id": "5wU_TFedYKCt",
    "outputId": "a3b4831e-1885-4f6b-b95e-9834f57b9955"
   },
   "outputs": [
    {
     "data": {
      "text/plain": [
       "tensor([[0.5650],\n",
       "        [0.4667],\n",
       "        [0.7447]])"
      ]
     },
     "execution_count": 140,
     "metadata": {
      "tags": []
     },
     "output_type": "execute_result"
    }
   ],
   "source": [
    "x"
   ]
  },
  {
   "cell_type": "code",
   "execution_count": 0,
   "metadata": {
    "colab": {
     "base_uri": "https://localhost:8080/",
     "height": 75
    },
    "colab_type": "code",
    "executionInfo": {
     "elapsed": 520,
     "status": "ok",
     "timestamp": 1572625915659,
     "user": {
      "displayName": "Aleksandr Veselev",
      "photoUrl": "",
      "userId": "06497019213520827031"
     },
     "user_tz": -180
    },
    "id": "_NnBKF9kYKCt",
    "outputId": "2201dd34-4cf5-4f60-aa40-1f78e2752171"
   },
   "outputs": [
    {
     "data": {
      "text/plain": [
       "tensor([[0.5650],\n",
       "        [0.4667],\n",
       "        [0.7447]])"
      ]
     },
     "execution_count": 141,
     "metadata": {
      "tags": []
     },
     "output_type": "execute_result"
    }
   ],
   "source": [
    "x.data"
   ]
  },
  {
   "cell_type": "markdown",
   "metadata": {
    "colab_type": "text",
    "id": "J094WEHQYKCv"
   },
   "source": [
    "<h3 style=\"text-align: center;\">Further reading:<b></b></h3>"
   ]
  },
  {
   "cell_type": "markdown",
   "metadata": {
    "colab_type": "text",
    "id": "ftVUTfvUYKCv"
   },
   "source": [
    "*1). Official PyTorch tutorials: https://pytorch.org/tutorials/beginner/blitz/tensor_tutorial.html#sphx-glr-beginner-blitz-tensor-tutorial-py*"
   ]
  },
  {
   "cell_type": "markdown",
   "metadata": {
    "colab_type": "text",
    "id": "ovymy5F6YKCw"
   },
   "source": [
    "*2). arXiv article about the deep learning frameworks comparison: https://arxiv.org/pdf/1511.06435.pdf*"
   ]
  },
  {
   "cell_type": "markdown",
   "metadata": {
    "colab_type": "text",
    "id": "VXEEowQAYKCx"
   },
   "source": [
    "*3). Useful repo with different tutorials: https://github.com/yunjey/pytorch-tutorial*"
   ]
  },
  {
   "cell_type": "markdown",
   "metadata": {
    "colab_type": "text",
    "id": "9cROZcrYYKC0"
   },
   "source": [
    "*4). Facebook AI Research (main contributor of PyTorch) website: https://facebook.ai/developers/tools*"
   ]
  }
 ],
 "metadata": {
  "accelerator": "GPU",
  "colab": {
   "collapsed_sections": [],
   "name": "[seminar,basic]7_pytorch_basics.ipynb",
   "provenance": []
  },
  "kernelspec": {
   "display_name": "Python 3",
   "language": "python",
   "name": "python3"
  },
  "language_info": {
   "codemirror_mode": {
    "name": "ipython",
    "version": 3
   },
   "file_extension": ".py",
   "mimetype": "text/x-python",
   "name": "python",
   "nbconvert_exporter": "python",
   "pygments_lexer": "ipython3",
   "version": "3.7.3"
  }
 },
 "nbformat": 4,
 "nbformat_minor": 1
}
