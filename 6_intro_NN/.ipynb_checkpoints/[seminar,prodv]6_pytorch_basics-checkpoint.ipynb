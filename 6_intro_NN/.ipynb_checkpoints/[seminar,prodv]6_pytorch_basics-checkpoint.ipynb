{
 "cells": [
  {
   "cell_type": "markdown",
   "metadata": {
    "colab_type": "text",
    "id": "5RETQ6CxbdOz"
   },
   "source": [
    "<p style=\"align: center;\"><img align=center src=\"https://s8.hostingkartinok.com/uploads/images/2018/08/308b49fcfbc619d629fe4604bceb67ac.jpg\" width=500 height=450/></p>\n",
    "\n",
    "<h3 style=\"text-align: center;\"><b>\"Глубокое обучение\". Продвинутый поток</b></h3>\n",
    "\n",
    "<h2 style=\"text-align: center;\"><b>Семинар 6. Основы библиотеки Pythorch </b></h2>\n"
   ]
  },
  {
   "cell_type": "markdown",
   "metadata": {
    "colab_type": "text",
    "id": "vcnGdgw_YJ8u"
   },
   "source": [
    "<h2 style=\"text-align: center;\"><b>PyTorch basics: syntax, torch.cuda and torch.autograd</b></h2>"
   ]
  },
  {
   "cell_type": "markdown",
   "metadata": {
    "colab_type": "text",
    "id": "-Iv1eX2mYJ8v"
   },
   "source": [
    "<p style=\"align: center;\"><img src=\"https://upload.wikimedia.org/wikipedia/commons/9/96/Pytorch_logo.png\" width=400 height=100></p>"
   ]
  },
  {
   "cell_type": "markdown",
   "metadata": {
    "colab_type": "text",
    "id": "JwiKExhuYJ8w"
   },
   "source": [
    "Hi! In this notebook we will cover the basics of the **PyTorch deep learning framework**. "
   ]
  },
  {
   "cell_type": "markdown",
   "metadata": {
    "colab_type": "text",
    "id": "70_JTnaRbdPD"
   },
   "source": [
    "<h3 style=\"text-align: center;\"><b>Intro</b></h3>"
   ]
  },
  {
   "cell_type": "markdown",
   "metadata": {
    "colab_type": "text",
    "id": "8UBMClK6bdPE"
   },
   "source": [
    "**Frameworks** are the specific code libraries with their own internal structure and pipelines."
   ]
  },
  {
   "cell_type": "markdown",
   "metadata": {
    "colab_type": "text",
    "id": "tQoex-sZYJ8x"
   },
   "source": [
    "There are many deep learning frameworks nowadays (02/2019). The difference between them is in the internal computation principles. For example, in **[Caffe](http://caffe.berkeleyvision.org/)** and **[Caffe2](https://caffe2.ai/)** you write the code using some \"ready blocks\" (just like the $LEGO^{TM}$ :). In **[TensorFlow](https://www.tensorflow.org/)** and **[Theano](http://deeplearning.net/software/theano/)** you declare the computation graph at first, then compile it and use it for inference/training (`tf.session()`). By the way, now TensorFlow (since v1.10) has the [Eager Execution](https://www.tensorflow.org/guide/eager), which can be handy for fast prototyping and debugging. **[Keras](https://keras.io/)** is a very popular and useful DL framework that allows to create networks fast and has many demanding features. "
   ]
  },
  {
   "cell_type": "markdown",
   "metadata": {
    "colab_type": "text",
    "id": "97MX7yrBYJ8y"
   },
   "source": [
    "<p style=\"align: center;\"><img src=\"https://habrastorage.org/web/e3e/c3e/b78/e3ec3eb78d714a7993a6b922911c0866.png\" width=500 height=500></p>  \n",
    "<p style=\"text-align: center;\"><i>Image credit: https://habr.com/post/334380/</i><p>"
   ]
  },
  {
   "cell_type": "markdown",
   "metadata": {
    "colab_type": "text",
    "id": "h5yBQj7EbdPJ"
   },
   "source": [
    "We will use PyTorch bacause it's been actively developed and supported by the community and [Facebook AI Research](https://research.fb.com/category/facebook-ai-research/)."
   ]
  },
  {
   "cell_type": "markdown",
   "metadata": {
    "colab_type": "text",
    "id": "J74O-qdJYJ80"
   },
   "source": [
    "<h3 style=\"text-align: center;\"><b>Installation</b></h3>"
   ]
  },
  {
   "cell_type": "markdown",
   "metadata": {
    "colab_type": "text",
    "id": "WpXxZ4-4YJ83"
   },
   "source": [
    "The detailed instruction on how to install PyTorch you can find on the [official PyTorch website](https://pytorch.org/)."
   ]
  },
  {
   "cell_type": "markdown",
   "metadata": {
    "colab_type": "text",
    "id": "uxdjjnqIYJ86"
   },
   "source": [
    "<h3 style=\"text-align: center;\">Syntax<b></b></h3>"
   ]
  },
  {
   "cell_type": "code",
   "execution_count": 1,
   "metadata": {
    "colab": {},
    "colab_type": "code",
    "id": "RtyozNmmYJ89"
   },
   "outputs": [],
   "source": [
    "import torch"
   ]
  },
  {
   "cell_type": "markdown",
   "metadata": {
    "colab_type": "text",
    "id": "zjfLQzEPYJ9B"
   },
   "source": [
    "Some facts about PyTorch:  \n",
    "- dynamic computation graph\n",
    "- handy `torch.nn` and `torchvision` modules for fast neural network prototyping\n",
    "- even faster than TensorFlow on some tasks\n",
    "- allows to use GPU easily"
   ]
  },
  {
   "cell_type": "markdown",
   "metadata": {
    "colab_type": "text",
    "id": "0AL-T8TMYJ9D"
   },
   "source": [
    "If PyTorch was a formula, it would be:  \n",
    "\n",
    "$$PyTorch = NumPy + CUDA + Autograd$$"
   ]
  },
  {
   "cell_type": "markdown",
   "metadata": {
    "colab_type": "text",
    "id": "X_O59VXWYJ9E"
   },
   "source": [
    "(CUDA - [wiki](https://en.wikipedia.org/wiki/CUDA))"
   ]
  },
  {
   "cell_type": "markdown",
   "metadata": {
    "colab_type": "text",
    "id": "lWIeTFxSYJ9F"
   },
   "source": [
    "Let's see how we can use PyTorch to operate with vectors and tensors.  \n",
    "\n",
    "Recall that **a tensor** is a multidimensional vector, e.g. :  \n",
    "\n",
    "`x = np.array([1,2,3])` -- a vector = a tensor with 1 dimension (to be more precise: `(1,)`)  \n",
    "`y = np.array([[1, 2, 3], [4, 5, 6]])` -- a matrix = a tensor with 2 dimensions (`(2, 3)` in this case)  \n",
    "`z = np.array([[[1, 2, 3], [4, 5, 6], [7, 8, 9]],  \n",
    "               [[1, 2, 3], [4, 5, 6], [7, 8, 9]],  \n",
    "               [[1, 2, 3], [4, 5, 6], [7, 8, 9]]])` -- \"a cube\" (3, 3, 3) = a tensor with 3 dimensions (`(3, 3, 3)` in this case)"
   ]
  },
  {
   "cell_type": "markdown",
   "metadata": {
    "colab_type": "text",
    "id": "hS97vo7mYJ9G"
   },
   "source": [
    "One real example of 3-dimensional tensor is **an image**, it has 3 dimensions: `height`, `width` and the `channel depth` (= 3 for color images, 1 for a greyscale). You can think of it as of parallelepiped consisting of the real numbers."
   ]
  },
  {
   "cell_type": "markdown",
   "metadata": {
    "colab_type": "text",
    "id": "tEeGGtRiYJ9H"
   },
   "source": [
    "In PyTorch we will use `torch.Tensor` (`FloatTensor`, `IntTensor`, `ByteTensor`) for all the computations."
   ]
  },
  {
   "cell_type": "markdown",
   "metadata": {
    "colab_type": "text",
    "id": "byu7xZtLYJ9J"
   },
   "source": [
    "All tensor types:"
   ]
  },
  {
   "cell_type": "code",
   "execution_count": 0,
   "metadata": {
    "colab": {},
    "colab_type": "code",
    "id": "zilSktmEGgAv"
   },
   "outputs": [],
   "source": [
    "torch.HalfTensor      # 16 бит, floating point\n",
    "torch.FloatTensor     # 32 бита, floating point\n",
    "torch.DoubleTensor    # 64 бита, floating point\n",
    "\n",
    "torch.ShortTensor     # 16 бит, integer, signed\n",
    "torch.IntTensor       # 32 бита, integer, signed\n",
    "torch.LongTensor      # 64 бита, integer, signed\n",
    "\n",
    "torch.CharTensor      # 8 бит, integer, signed\n",
    "torch.ByteTensor      # 8 бит, integer, unsigned"
   ]
  },
  {
   "cell_type": "markdown",
   "metadata": {
    "colab_type": "text",
    "id": "NWk2gidNYJ9P"
   },
   "source": [
    "We will use only `torch.FloatTensor()` and `torch.IntTensor()`. "
   ]
  },
  {
   "cell_type": "markdown",
   "metadata": {
    "colab_type": "text",
    "id": "CllyEKvVYJ9Q"
   },
   "source": [
    "Let's begin to do something!"
   ]
  },
  {
   "cell_type": "markdown",
   "metadata": {
    "colab_type": "text",
    "id": "R4HEetsxYJ9Q"
   },
   "source": [
    "* Creating the tensor:"
   ]
  },
  {
   "cell_type": "code",
   "execution_count": 6,
   "metadata": {
    "colab": {
     "base_uri": "https://localhost:8080/",
     "height": 36
    },
    "colab_type": "code",
    "executionInfo": {
     "elapsed": 821,
     "status": "ok",
     "timestamp": 1572597391901,
     "user": {
      "displayName": "Aleksandr Veselev",
      "photoUrl": "",
      "userId": "06497019213520827031"
     },
     "user_tz": -180
    },
    "id": "MVawE9lRYJ9R",
    "outputId": "59fa696a-1370-4e54-dc75-d66afbfb4746"
   },
   "outputs": [
    {
     "data": {
      "text/plain": [
       "tensor([1., 2.])"
      ]
     },
     "execution_count": 6,
     "metadata": {},
     "output_type": "execute_result"
    }
   ],
   "source": [
    "a = torch.FloatTensor([1, 2])\n",
    "a"
   ]
  },
  {
   "cell_type": "code",
   "execution_count": 7,
   "metadata": {
    "colab": {
     "base_uri": "https://localhost:8080/",
     "height": 36
    },
    "colab_type": "code",
    "executionInfo": {
     "elapsed": 693,
     "status": "ok",
     "timestamp": 1572597393573,
     "user": {
      "displayName": "Aleksandr Veselev",
      "photoUrl": "",
      "userId": "06497019213520827031"
     },
     "user_tz": -180
    },
    "id": "ARjaPS_GYJ9W",
    "outputId": "04176f1e-09f8-475a-e0be-b553ee2f2a8f"
   },
   "outputs": [
    {
     "data": {
      "text/plain": [
       "torch.Size([2])"
      ]
     },
     "execution_count": 7,
     "metadata": {},
     "output_type": "execute_result"
    }
   ],
   "source": [
    "a.shape"
   ]
  },
  {
   "cell_type": "code",
   "execution_count": 8,
   "metadata": {
    "colab": {
     "base_uri": "https://localhost:8080/",
     "height": 55
    },
    "colab_type": "code",
    "executionInfo": {
     "elapsed": 892,
     "status": "ok",
     "timestamp": 1572597395777,
     "user": {
      "displayName": "Aleksandr Veselev",
      "photoUrl": "",
      "userId": "06497019213520827031"
     },
     "user_tz": -180
    },
    "id": "4gXf0akDYJ9Z",
    "outputId": "872b1cb7-21c7-4185-a6f6-ed7598d32013"
   },
   "outputs": [
    {
     "data": {
      "text/plain": [
       "tensor([[1., 2., 3.],\n",
       "        [4., 5., 6.]])"
      ]
     },
     "execution_count": 8,
     "metadata": {},
     "output_type": "execute_result"
    }
   ],
   "source": [
    "b = torch.FloatTensor([[1,2,3], [4,5,6]])\n",
    "b"
   ]
  },
  {
   "cell_type": "code",
   "execution_count": 11,
   "metadata": {
    "colab": {
     "base_uri": "https://localhost:8080/",
     "height": 36
    },
    "colab_type": "code",
    "executionInfo": {
     "elapsed": 587,
     "status": "ok",
     "timestamp": 1572597395780,
     "user": {
      "displayName": "Aleksandr Veselev",
      "photoUrl": "",
      "userId": "06497019213520827031"
     },
     "user_tz": -180
    },
    "id": "0HTkoIzpYJ9e",
    "outputId": "2b35bbbf-4aa2-4b72-acda-3512d3ec4cb9"
   },
   "outputs": [
    {
     "data": {
      "text/plain": [
       "torch.Size([2, 3])"
      ]
     },
     "execution_count": 11,
     "metadata": {},
     "output_type": "execute_result"
    }
   ],
   "source": [
    "b.shape\n",
    "#b.shape[0]"
   ]
  },
  {
   "cell_type": "code",
   "execution_count": 18,
   "metadata": {
    "colab": {},
    "colab_type": "code",
    "id": "WYJ9L-yFYJ9j"
   },
   "outputs": [],
   "source": [
    "# create tensor with specified shape (values are garbage)\n",
    "x = torch.FloatTensor(2,3,4)"
   ]
  },
  {
   "cell_type": "code",
   "execution_count": 19,
   "metadata": {
    "colab": {
     "base_uri": "https://localhost:8080/",
     "height": 150
    },
    "colab_type": "code",
    "executionInfo": {
     "elapsed": 532,
     "status": "ok",
     "timestamp": 1572597401621,
     "user": {
      "displayName": "Aleksandr Veselev",
      "photoUrl": "",
      "userId": "06497019213520827031"
     },
     "user_tz": -180
    },
    "id": "qWAEP27IYJ9m",
    "outputId": "0ae35b42-89d6-4469-c20f-664963c7022c"
   },
   "outputs": [
    {
     "data": {
      "text/plain": [
       "tensor([[[0.0000e+00, 5.9694e-39, 7.7052e+31, 7.2148e+22],\n",
       "         [2.5226e-18, 1.6898e-04, 1.0072e-11, 1.2353e-08],\n",
       "         [2.6260e-06, 4.0971e-11, 1.7061e-07, 2.9571e-18]],\n",
       "\n",
       "        [[6.7333e+22, 1.7591e+22, 1.7184e+25, 4.3222e+27],\n",
       "         [6.1972e-04, 7.2443e+22, 1.7728e+28, 7.0367e+22],\n",
       "         [1.1970e+22, 1.6917e-04, 1.0301e-11, 6.8000e+22]]])"
      ]
     },
     "execution_count": 19,
     "metadata": {},
     "output_type": "execute_result"
    }
   ],
   "source": [
    "x"
   ]
  },
  {
   "cell_type": "code",
   "execution_count": 20,
   "metadata": {
    "colab": {
     "base_uri": "https://localhost:8080/",
     "height": 340
    },
    "colab_type": "code",
    "executionInfo": {
     "elapsed": 971,
     "status": "ok",
     "timestamp": 1572597405787,
     "user": {
      "displayName": "Aleksandr Veselev",
      "photoUrl": "",
      "userId": "06497019213520827031"
     },
     "user_tz": -180
    },
    "id": "o5CsOJ_xYJ9s",
    "outputId": "49825396-eb3a-49b2-9ca2-f36ab577dc07",
    "scrolled": true
   },
   "outputs": [
    {
     "data": {
      "text/plain": [
       "tensor([7.2056e+22, 2.1720e+29, 1.8057e+28, 5.1412e+31, 7.5338e+28, 6.1687e+16,\n",
       "        6.3370e-10, 5.2002e+22, 2.5038e-12, 1.6614e-04, 5.3193e+22, 2.6318e-12,\n",
       "        1.0384e-05, 5.2598e+22, 2.5182e-12, 1.0141e-08, 5.4367e+22, 8.0252e+17,\n",
       "        2.0190e-19, 1.3563e-19, 1.3563e-19, 6.4893e-07, 5.3775e+22, 2.6175e-12,\n",
       "        2.5957e-06, 5.4373e+22, 2.5606e-12, 6.3371e-10, 5.2600e+22, 2.5181e-12,\n",
       "        1.0139e-08, 5.2893e+22, 8.2951e+17, 2.0190e-19, 1.3563e-19, 1.3563e-19,\n",
       "        2.5957e-06, 5.2009e+22, 2.5890e-12, 6.3375e-10, 5.2305e+22, 2.5181e-12,\n",
       "        1.0383e-05, 5.2304e+22, 2.6033e-12, 1.6613e-04, 5.2305e+22, 8.2953e+17,\n",
       "        1.7035e+28, 1.3589e-19, 1.3563e-19, 6.1678e+16, 4.2650e-08, 8.1428e-13,\n",
       "        1.4586e-19, 6.8240e-07, 8.1425e-13, 1.4586e-19, 2.6656e-09, 8.1430e-13,\n",
       "        1.4587e-19, 1.0430e-08, 8.1427e-13, 3.1437e-12, 1.3589e-19, 1.3563e-19,\n",
       "        4.5071e+16, 1.6897e-04, 1.3028e-11, 1.4586e-19, 1.6594e-07, 8.1428e-13,\n",
       "        1.4586e-19, 1.0918e-05, 8.1435e-13, 1.4588e-19, 4.1020e-08, 8.1434e-13,\n",
       "        3.1434e-12, 1.3589e-19, 1.3563e-19, 4.5071e+16, 1.6897e-04, 8.1424e-13,\n",
       "        1.4586e-19, 1.7374e-04, 1.3029e-11, 1.4586e-19, 4.1020e-08, 1.3028e-11,\n",
       "        1.4585e-19, 6.7004e-10, 8.1424e-13, 9.9618e+17, 1.3472e+37, 6.9989e+22,\n",
       "        2.6330e+20, 6.1943e-04, 2.3377e-18, 4.2330e+21])"
      ]
     },
     "execution_count": 20,
     "metadata": {},
     "output_type": "execute_result"
    }
   ],
   "source": [
    "x = torch.FloatTensor(100)\n",
    "x"
   ]
  },
  {
   "cell_type": "code",
   "execution_count": 21,
   "metadata": {
    "colab": {
     "base_uri": "https://localhost:8080/",
     "height": 36
    },
    "colab_type": "code",
    "executionInfo": {
     "elapsed": 826,
     "status": "ok",
     "timestamp": 1572597464252,
     "user": {
      "displayName": "Aleksandr Veselev",
      "photoUrl": "",
      "userId": "06497019213520827031"
     },
     "user_tz": -180
    },
    "id": "uIVhvmzZYJ91",
    "outputId": "be828049-4004-49ce-9883-b6f0204233c2"
   },
   "outputs": [
    {
     "data": {
      "text/plain": [
       "torch.Size([45, 57, 14, 2])"
      ]
     },
     "execution_count": 21,
     "metadata": {},
     "output_type": "execute_result"
    }
   ],
   "source": [
    "x = torch.IntTensor(45, 57, 14, 2)\n",
    "x.shape"
   ]
  },
  {
   "cell_type": "markdown",
   "metadata": {
    "colab_type": "text",
    "id": "cUzl8DFRYJ95"
   },
   "source": [
    "**Note:** if you create `torch.Tensor` with the following constructor it will be filled with the \"random trash numbers\":"
   ]
  },
  {
   "cell_type": "code",
   "execution_count": 22,
   "metadata": {
    "colab": {
     "base_uri": "https://localhost:8080/",
     "height": 169
    },
    "colab_type": "code",
    "executionInfo": {
     "elapsed": 856,
     "status": "ok",
     "timestamp": 1572597497272,
     "user": {
      "displayName": "Aleksandr Veselev",
      "photoUrl": "",
      "userId": "06497019213520827031"
     },
     "user_tz": -180
    },
    "id": "QX0QcIOzYJ96",
    "outputId": "b0da1b5e-aaa3-46cc-951d-f8c4f203ff9f"
   },
   "outputs": [
    {
     "data": {
      "text/plain": [
       "tensor([[[6553710, 3342433, 7077980, 6422633],\n",
       "         [7536732, 7602281, 2949221, 6357104]],\n",
       "\n",
       "        [[7012451, 6750305, 7536741, 7602268],\n",
       "         [7471215, 6815843, 6553692, 7536745]],\n",
       "\n",
       "        [[7471220, 6422633, 7602293, 7274601],\n",
       "         [7536750, 7798876, 6881381, 7667810]]], dtype=torch.int32)"
      ]
     },
     "execution_count": 22,
     "metadata": {},
     "output_type": "execute_result"
    }
   ],
   "source": [
    "x = torch.IntTensor(3, 2, 4)\n",
    "x"
   ]
  },
  {
   "cell_type": "markdown",
   "metadata": {
    "colab_type": "text",
    "id": "utra2t4SbdQR"
   },
   "source": [
    "Here is a way to fill a new tensor with zeroes:"
   ]
  },
  {
   "cell_type": "code",
   "execution_count": 23,
   "metadata": {
    "colab": {
     "base_uri": "https://localhost:8080/",
     "height": 154
    },
    "colab_type": "code",
    "executionInfo": {
     "elapsed": 726,
     "status": "ok",
     "timestamp": 1572374272697,
     "user": {
      "displayName": "Yury Yarovikov",
      "photoUrl": "https://lh3.googleusercontent.com/a-/AAuE7mC24lfRb5mqvHhq4-WOsbzM6PTdlPQIH4hwnhO_=s64",
      "userId": "05223355485824927663"
     },
     "user_tz": -180
    },
    "id": "XV3w9lVwYJ-A",
    "outputId": "f55ebe72-75d3-4c4f-d781-550daf1acdb5"
   },
   "outputs": [
    {
     "data": {
      "text/plain": [
       "tensor([[[0, 0, 0, 0],\n",
       "         [0, 0, 0, 0]],\n",
       "\n",
       "        [[0, 0, 0, 0],\n",
       "         [0, 0, 0, 0]],\n",
       "\n",
       "        [[0, 0, 0, 0],\n",
       "         [0, 0, 0, 0]]], dtype=torch.int32)"
      ]
     },
     "execution_count": 23,
     "metadata": {},
     "output_type": "execute_result"
    }
   ],
   "source": [
    "x = torch.IntTensor(3, 2, 4).zero_()\n",
    "x"
   ]
  },
  {
   "cell_type": "markdown",
   "metadata": {
    "colab_type": "text",
    "id": "bzq1klQuzXA9"
   },
   "source": [
    "## Как писать на torch, если знаешь numpy\n",
    "\n",
    "Все функции на numpy имеют соответствующие функции на torch. Их соответствие вы можете посмотреть здесь:\n",
    "\n",
    "https://github.com/torch/torch7/wiki/Torch-for-Numpy-users"
   ]
  },
  {
   "cell_type": "markdown",
   "metadata": {
    "colab_type": "text",
    "id": "SAAmLRwzYJ-E"
   },
   "source": [
    "`np.reshape()` == `torch.view()`:"
   ]
  },
  {
   "cell_type": "code",
   "execution_count": 24,
   "metadata": {
    "colab": {
     "base_uri": "https://localhost:8080/",
     "height": 55
    },
    "colab_type": "code",
    "executionInfo": {
     "elapsed": 1328,
     "status": "ok",
     "timestamp": 1572597585384,
     "user": {
      "displayName": "Aleksandr Veselev",
      "photoUrl": "",
      "userId": "06497019213520827031"
     },
     "user_tz": -180
    },
    "id": "spMYG2xXYJ-L",
    "outputId": "f01f831a-2381-4f29-e4f7-890a4ed89f5d"
   },
   "outputs": [
    {
     "data": {
      "text/plain": [
       "tensor([[1., 2., 3.],\n",
       "        [4., 5., 6.]])"
      ]
     },
     "execution_count": 24,
     "metadata": {},
     "output_type": "execute_result"
    }
   ],
   "source": [
    "b"
   ]
  },
  {
   "cell_type": "code",
   "execution_count": 25,
   "metadata": {
    "colab": {
     "base_uri": "https://localhost:8080/",
     "height": 74
    },
    "colab_type": "code",
    "executionInfo": {
     "elapsed": 1457,
     "status": "ok",
     "timestamp": 1572597585745,
     "user": {
      "displayName": "Aleksandr Veselev",
      "photoUrl": "",
      "userId": "06497019213520827031"
     },
     "user_tz": -180
    },
    "id": "ePjL3X3GYJ-H",
    "outputId": "66ccc8cb-f9bb-496d-eca0-f5d1c22949bf"
   },
   "outputs": [
    {
     "data": {
      "text/plain": [
       "tensor([[1., 2.],\n",
       "        [3., 4.],\n",
       "        [5., 6.]])"
      ]
     },
     "execution_count": 25,
     "metadata": {},
     "output_type": "execute_result"
    }
   ],
   "source": [
    "b.view(3, 2)"
   ]
  },
  {
   "cell_type": "markdown",
   "metadata": {
    "colab_type": "text",
    "id": "amVu0N1zYJ-O"
   },
   "source": [
    "**Note:** `torch.view()` creates a new tensor, one the old one remains unchanged"
   ]
  },
  {
   "cell_type": "code",
   "execution_count": 26,
   "metadata": {
    "colab": {
     "base_uri": "https://localhost:8080/",
     "height": 36
    },
    "colab_type": "code",
    "executionInfo": {
     "elapsed": 1188,
     "status": "ok",
     "timestamp": 1572597587656,
     "user": {
      "displayName": "Aleksandr Veselev",
      "photoUrl": "",
      "userId": "06497019213520827031"
     },
     "user_tz": -180
    },
    "id": "hWqyugOSYJ-Q",
    "outputId": "888df831-bc55-4e8c-cdcb-e201934d77a8"
   },
   "outputs": [
    {
     "data": {
      "text/plain": [
       "tensor([1., 2., 3., 4., 5., 6.])"
      ]
     },
     "execution_count": 26,
     "metadata": {},
     "output_type": "execute_result"
    }
   ],
   "source": [
    "b.view(-1)"
   ]
  },
  {
   "cell_type": "code",
   "execution_count": 29,
   "metadata": {
    "colab": {
     "base_uri": "https://localhost:8080/",
     "height": 55
    },
    "colab_type": "code",
    "executionInfo": {
     "elapsed": 527,
     "status": "ok",
     "timestamp": 1572597588739,
     "user": {
      "displayName": "Aleksandr Veselev",
      "photoUrl": "",
      "userId": "06497019213520827031"
     },
     "user_tz": -180
    },
    "id": "S9CvF56uYJ-U",
    "outputId": "550fd4ce-1570-4934-fd06-6e65484175c2"
   },
   "outputs": [
    {
     "data": {
      "text/plain": [
       "tensor([[1., 2.],\n",
       "        [3., 4.],\n",
       "        [5., 6.]])"
      ]
     },
     "execution_count": 29,
     "metadata": {},
     "output_type": "execute_result"
    }
   ],
   "source": [
    "# the first dimension will be found automatically\n",
    "b.view(-1, 2)"
   ]
  },
  {
   "cell_type": "markdown",
   "metadata": {
    "colab_type": "text",
    "id": "t401j1E2YJ-Z"
   },
   "source": [
    "* Change a tensor type:"
   ]
  },
  {
   "cell_type": "code",
   "execution_count": 30,
   "metadata": {
    "colab": {},
    "colab_type": "code",
    "id": "f_iDUEH4YJ-Z"
   },
   "outputs": [],
   "source": [
    "a = torch.FloatTensor([1.5, 3.2, -7])"
   ]
  },
  {
   "cell_type": "code",
   "execution_count": 31,
   "metadata": {
    "colab": {
     "base_uri": "https://localhost:8080/",
     "height": 36
    },
    "colab_type": "code",
    "executionInfo": {
     "elapsed": 598,
     "status": "ok",
     "timestamp": 1572597592240,
     "user": {
      "displayName": "Aleksandr Veselev",
      "photoUrl": "",
      "userId": "06497019213520827031"
     },
     "user_tz": -180
    },
    "id": "EzJOrXitYJ-e",
    "outputId": "f7325774-aa5d-4efa-c977-84e5196c491f"
   },
   "outputs": [
    {
     "data": {
      "text/plain": [
       "tensor([ 1,  3, -7], dtype=torch.int32)"
      ]
     },
     "execution_count": 31,
     "metadata": {},
     "output_type": "execute_result"
    }
   ],
   "source": [
    "a.type_as(torch.IntTensor())"
   ]
  },
  {
   "cell_type": "code",
   "execution_count": 32,
   "metadata": {
    "colab": {
     "base_uri": "https://localhost:8080/",
     "height": 36
    },
    "colab_type": "code",
    "executionInfo": {
     "elapsed": 1417,
     "status": "ok",
     "timestamp": 1572597595473,
     "user": {
      "displayName": "Aleksandr Veselev",
      "photoUrl": "",
      "userId": "06497019213520827031"
     },
     "user_tz": -180
    },
    "id": "hAe3OWWUYJ-i",
    "outputId": "25c170fb-c555-4b59-b994-2c2f9a438961"
   },
   "outputs": [
    {
     "data": {
      "text/plain": [
       "tensor([  1,   3, 249], dtype=torch.uint8)"
      ]
     },
     "execution_count": 32,
     "metadata": {},
     "output_type": "execute_result"
    }
   ],
   "source": [
    "a.type_as(torch.ByteTensor())"
   ]
  },
  {
   "cell_type": "markdown",
   "metadata": {
    "colab_type": "text",
    "id": "4rkatrUeYJ-n"
   },
   "source": [
    "**Note:** `.type_as()` creates a new tensor, the old one remains unchanged"
   ]
  },
  {
   "cell_type": "code",
   "execution_count": 33,
   "metadata": {
    "colab": {
     "base_uri": "https://localhost:8080/",
     "height": 36
    },
    "colab_type": "code",
    "executionInfo": {
     "elapsed": 923,
     "status": "ok",
     "timestamp": 1572597603252,
     "user": {
      "displayName": "Aleksandr Veselev",
      "photoUrl": "",
      "userId": "06497019213520827031"
     },
     "user_tz": -180
    },
    "id": "fCgDT14MYJ-o",
    "outputId": "b42d4fbc-4b19-4006-b3f3-c4e326108003"
   },
   "outputs": [
    {
     "data": {
      "text/plain": [
       "tensor([ 1.5000,  3.2000, -7.0000])"
      ]
     },
     "execution_count": 33,
     "metadata": {},
     "output_type": "execute_result"
    }
   ],
   "source": [
    "a"
   ]
  },
  {
   "cell_type": "markdown",
   "metadata": {
    "colab_type": "text",
    "id": "hG1OwtFBYJ-r"
   },
   "source": [
    "* Indexing is just like in `NumPy`:"
   ]
  },
  {
   "cell_type": "code",
   "execution_count": 34,
   "metadata": {
    "colab": {
     "base_uri": "https://localhost:8080/",
     "height": 74
    },
    "colab_type": "code",
    "executionInfo": {
     "elapsed": 879,
     "status": "ok",
     "timestamp": 1572597605309,
     "user": {
      "displayName": "Aleksandr Veselev",
      "photoUrl": "",
      "userId": "06497019213520827031"
     },
     "user_tz": -180
    },
    "id": "prr0EGIYYJ-r",
    "outputId": "d19e9793-e561-456c-ae5c-468b143a4211"
   },
   "outputs": [
    {
     "data": {
      "text/plain": [
       "tensor([[100.,  20.,  35.],\n",
       "        [ 15., 163., 534.],\n",
       "        [ 52.,  90.,  66.]])"
      ]
     },
     "execution_count": 34,
     "metadata": {},
     "output_type": "execute_result"
    }
   ],
   "source": [
    "a = torch.FloatTensor([[100, 20, 35], [15, 163, 534], [52, 90, 66]])\n",
    "a"
   ]
  },
  {
   "cell_type": "code",
   "execution_count": 36,
   "metadata": {
    "colab": {
     "base_uri": "https://localhost:8080/",
     "height": 36
    },
    "colab_type": "code",
    "executionInfo": {
     "elapsed": 1011,
     "status": "ok",
     "timestamp": 1572597607210,
     "user": {
      "displayName": "Aleksandr Veselev",
      "photoUrl": "",
      "userId": "06497019213520827031"
     },
     "user_tz": -180
    },
    "id": "IBq7JiccYJ-w",
    "outputId": "6ca1ba33-8747-4d72-cbe6-720a3bab4bed"
   },
   "outputs": [
    {
     "data": {
      "text/plain": [
       "tensor(100.)"
      ]
     },
     "execution_count": 36,
     "metadata": {},
     "output_type": "execute_result"
    }
   ],
   "source": [
    "a[0, 0]"
   ]
  },
  {
   "cell_type": "code",
   "execution_count": 37,
   "metadata": {
    "colab": {
     "base_uri": "https://localhost:8080/",
     "height": 36
    },
    "colab_type": "code",
    "executionInfo": {
     "elapsed": 646,
     "status": "ok",
     "timestamp": 1572597607751,
     "user": {
      "displayName": "Aleksandr Veselev",
      "photoUrl": "",
      "userId": "06497019213520827031"
     },
     "user_tz": -180
    },
    "id": "vE9cb0XkYJ-z",
    "outputId": "9bcdaa1d-44b2-492a-d0cc-c5d3da36882b"
   },
   "outputs": [
    {
     "data": {
      "text/plain": [
       "tensor(100.)"
      ]
     },
     "execution_count": 37,
     "metadata": {},
     "output_type": "execute_result"
    }
   ],
   "source": [
    "a[0][0]"
   ]
  },
  {
   "cell_type": "code",
   "execution_count": 38,
   "metadata": {
    "colab": {
     "base_uri": "https://localhost:8080/",
     "height": 55
    },
    "colab_type": "code",
    "executionInfo": {
     "elapsed": 682,
     "status": "ok",
     "timestamp": 1572597608125,
     "user": {
      "displayName": "Aleksandr Veselev",
      "photoUrl": "",
      "userId": "06497019213520827031"
     },
     "user_tz": -180
    },
    "id": "UUZzx2F_YJ-2",
    "outputId": "51ffeabd-4acf-4e2c-e218-2cd6444f08f2"
   },
   "outputs": [
    {
     "data": {
      "text/plain": [
       "tensor([[100.,  20.],\n",
       "        [ 15., 163.]])"
      ]
     },
     "execution_count": 38,
     "metadata": {},
     "output_type": "execute_result"
    }
   ],
   "source": [
    "a[0:2, 0:2]"
   ]
  },
  {
   "cell_type": "markdown",
   "metadata": {
    "colab_type": "text",
    "id": "bzq1klQuzXA9"
   },
   "source": [
    "## Exercise 1\n",
    "\n",
    "1) create 2 float tensors: a(3, 4), b(12,) <br/>\n",
    "2) create tensor c, that is the same as b but with shape (2, 2, 3) <br>\n",
    "3) print first column of a using indexing"
   ]
  },
  {
   "cell_type": "code",
   "execution_count": 72,
   "metadata": {},
   "outputs": [],
   "source": [
    "a = torch.FloatTensor(range(12)).view(3, 4)\n",
    "b = torch.FloatTensor(range(12))"
   ]
  },
  {
   "cell_type": "code",
   "execution_count": 69,
   "metadata": {},
   "outputs": [
    {
     "data": {
      "text/plain": [
       "tensor([[[ 0.,  1.,  2.],\n",
       "         [ 3.,  4.,  5.]],\n",
       "\n",
       "        [[ 6.,  7.,  8.],\n",
       "         [ 9., 10., 11.]]])"
      ]
     },
     "execution_count": 69,
     "metadata": {},
     "output_type": "execute_result"
    }
   ],
   "source": [
    "c = b.view(2, 2, 3)\n",
    "c"
   ]
  },
  {
   "cell_type": "code",
   "execution_count": 75,
   "metadata": {},
   "outputs": [
    {
     "data": {
      "text/plain": [
       "tensor([[0.],\n",
       "        [4.],\n",
       "        [8.]])"
      ]
     },
     "execution_count": 75,
     "metadata": {},
     "output_type": "execute_result"
    }
   ],
   "source": [
    "a[0:, 0:1]\n",
    "#a[:, 0]"
   ]
  },
  {
   "cell_type": "markdown",
   "metadata": {
    "colab_type": "text",
    "id": "KffQsYwWYJ_D"
   },
   "source": [
    "**Ariphmetics and boolean operations** and their analogues:  \n",
    "\n",
    "| Оператор | Аналог |\n",
    "|:-:|:-:|\n",
    "|`+`| `torch.add()` |\n",
    "|`-`| `torch.sub()` |\n",
    "|`*`| `torch.mul()` |\n",
    "|`/`| `torch.div()` |"
   ]
  },
  {
   "cell_type": "markdown",
   "metadata": {
    "colab_type": "text",
    "id": "UMpR8T11YJ_D"
   },
   "source": [
    "* Addition:"
   ]
  },
  {
   "cell_type": "code",
   "execution_count": 39,
   "metadata": {
    "colab": {},
    "colab_type": "code",
    "id": "1XHkSjEUYJ_D"
   },
   "outputs": [],
   "source": [
    "a = torch.FloatTensor([[1, 2, 3], [10, 20, 30], [100, 200, 300]])\n",
    "b = torch.FloatTensor([[-1, -2, -3], [-10, -20, -30], [100, 200, 300]])"
   ]
  },
  {
   "cell_type": "code",
   "execution_count": 40,
   "metadata": {
    "colab": {
     "base_uri": "https://localhost:8080/",
     "height": 74
    },
    "colab_type": "code",
    "executionInfo": {
     "elapsed": 557,
     "status": "ok",
     "timestamp": 1572597611168,
     "user": {
      "displayName": "Aleksandr Veselev",
      "photoUrl": "",
      "userId": "06497019213520827031"
     },
     "user_tz": -180
    },
    "id": "td25tuFKYJ_H",
    "outputId": "b8bcb26e-86f9-4dff-cafd-43a80a07f08d"
   },
   "outputs": [
    {
     "data": {
      "text/plain": [
       "tensor([[  0.,   0.,   0.],\n",
       "        [  0.,   0.,   0.],\n",
       "        [200., 400., 600.]])"
      ]
     },
     "execution_count": 40,
     "metadata": {},
     "output_type": "execute_result"
    }
   ],
   "source": [
    "a + b"
   ]
  },
  {
   "cell_type": "code",
   "execution_count": 43,
   "metadata": {
    "colab": {
     "base_uri": "https://localhost:8080/",
     "height": 74
    },
    "colab_type": "code",
    "executionInfo": {
     "elapsed": 1099,
     "status": "ok",
     "timestamp": 1572597612207,
     "user": {
      "displayName": "Aleksandr Veselev",
      "photoUrl": "",
      "userId": "06497019213520827031"
     },
     "user_tz": -180
    },
    "id": "wHka8PxFYJ_N",
    "outputId": "99420dd8-79cc-430e-9e08-fd53c381ca1b"
   },
   "outputs": [
    {
     "data": {
      "text/plain": [
       "tensor([[  0.,   0.,   0.],\n",
       "        [  0.,   0.,   0.],\n",
       "        [200., 400., 600.]])"
      ]
     },
     "execution_count": 43,
     "metadata": {},
     "output_type": "execute_result"
    }
   ],
   "source": [
    "a.add(b)"
   ]
  },
  {
   "cell_type": "code",
   "execution_count": 44,
   "metadata": {
    "colab": {
     "base_uri": "https://localhost:8080/",
     "height": 74
    },
    "colab_type": "code",
    "executionInfo": {
     "elapsed": 833,
     "status": "ok",
     "timestamp": 1572597612631,
     "user": {
      "displayName": "Aleksandr Veselev",
      "photoUrl": "",
      "userId": "06497019213520827031"
     },
     "user_tz": -180
    },
    "id": "FHQj4DbBYJ_Q",
    "outputId": "4d7d5327-644e-4bea-c8ec-e7a1e53c1cdf"
   },
   "outputs": [
    {
     "data": {
      "text/plain": [
       "tensor([[  -1.,   -2.,   -3.],\n",
       "        [ -10.,  -20.,  -30.],\n",
       "        [-100., -200., -300.]])"
      ]
     },
     "execution_count": 44,
     "metadata": {},
     "output_type": "execute_result"
    }
   ],
   "source": [
    "b = -a\n",
    "b"
   ]
  },
  {
   "cell_type": "code",
   "execution_count": 45,
   "metadata": {
    "colab": {
     "base_uri": "https://localhost:8080/",
     "height": 74
    },
    "colab_type": "code",
    "executionInfo": {
     "elapsed": 1043,
     "status": "ok",
     "timestamp": 1572597614505,
     "user": {
      "displayName": "Aleksandr Veselev",
      "photoUrl": "",
      "userId": "06497019213520827031"
     },
     "user_tz": -180
    },
    "id": "xLCDzO7iYJ_V",
    "outputId": "ed4e669b-a647-4d67-e774-1330b879b63f"
   },
   "outputs": [
    {
     "data": {
      "text/plain": [
       "tensor([[0., 0., 0.],\n",
       "        [0., 0., 0.],\n",
       "        [0., 0., 0.]])"
      ]
     },
     "execution_count": 45,
     "metadata": {},
     "output_type": "execute_result"
    }
   ],
   "source": [
    "a + b"
   ]
  },
  {
   "cell_type": "markdown",
   "metadata": {
    "colab_type": "text",
    "id": "z_3gVLY3YJ_Z"
   },
   "source": [
    "* Subtraction:"
   ]
  },
  {
   "cell_type": "code",
   "execution_count": 46,
   "metadata": {
    "colab": {
     "base_uri": "https://localhost:8080/",
     "height": 74
    },
    "colab_type": "code",
    "executionInfo": {
     "elapsed": 1064,
     "status": "ok",
     "timestamp": 1572597704525,
     "user": {
      "displayName": "Aleksandr Veselev",
      "photoUrl": "",
      "userId": "06497019213520827031"
     },
     "user_tz": -180
    },
    "id": "PANHq3eFYJ_a",
    "outputId": "be70aa01-4ed5-4559-a9f6-0ac7bdbd42c1"
   },
   "outputs": [
    {
     "data": {
      "text/plain": [
       "tensor([[  2.,   4.,   6.],\n",
       "        [ 20.,  40.,  60.],\n",
       "        [200., 400., 600.]])"
      ]
     },
     "execution_count": 46,
     "metadata": {},
     "output_type": "execute_result"
    }
   ],
   "source": [
    "a - b"
   ]
  },
  {
   "cell_type": "code",
   "execution_count": 47,
   "metadata": {
    "colab": {
     "base_uri": "https://localhost:8080/",
     "height": 74
    },
    "colab_type": "code",
    "executionInfo": {
     "elapsed": 583,
     "status": "ok",
     "timestamp": 1572597704527,
     "user": {
      "displayName": "Aleksandr Veselev",
      "photoUrl": "",
      "userId": "06497019213520827031"
     },
     "user_tz": -180
    },
    "id": "AH7xhdkRYJ_i",
    "outputId": "c368d772-27cd-4223-8630-2afcd2e3195f"
   },
   "outputs": [
    {
     "data": {
      "text/plain": [
       "tensor([[  2.,   4.,   6.],\n",
       "        [ 20.,  40.,  60.],\n",
       "        [200., 400., 600.]])"
      ]
     },
     "execution_count": 47,
     "metadata": {},
     "output_type": "execute_result"
    }
   ],
   "source": [
    "a.sub(b)"
   ]
  },
  {
   "cell_type": "markdown",
   "metadata": {
    "colab_type": "text",
    "id": "KOX3dTuZYJ_l"
   },
   "source": [
    "* Multiplication (elementwise):"
   ]
  },
  {
   "cell_type": "code",
   "execution_count": 48,
   "metadata": {
    "colab": {
     "base_uri": "https://localhost:8080/",
     "height": 74
    },
    "colab_type": "code",
    "executionInfo": {
     "elapsed": 865,
     "status": "ok",
     "timestamp": 1572597707702,
     "user": {
      "displayName": "Aleksandr Veselev",
      "photoUrl": "",
      "userId": "06497019213520827031"
     },
     "user_tz": -180
    },
    "id": "J380CvNGYJ_m",
    "outputId": "25bfcd2e-0962-49e2-d7ea-e004e6532147"
   },
   "outputs": [
    {
     "data": {
      "text/plain": [
       "tensor([[-1.0000e+00, -4.0000e+00, -9.0000e+00],\n",
       "        [-1.0000e+02, -4.0000e+02, -9.0000e+02],\n",
       "        [-1.0000e+04, -4.0000e+04, -9.0000e+04]])"
      ]
     },
     "execution_count": 48,
     "metadata": {},
     "output_type": "execute_result"
    }
   ],
   "source": [
    "a * b"
   ]
  },
  {
   "cell_type": "code",
   "execution_count": 49,
   "metadata": {
    "colab": {
     "base_uri": "https://localhost:8080/",
     "height": 74
    },
    "colab_type": "code",
    "executionInfo": {
     "elapsed": 473,
     "status": "ok",
     "timestamp": 1572597709143,
     "user": {
      "displayName": "Aleksandr Veselev",
      "photoUrl": "",
      "userId": "06497019213520827031"
     },
     "user_tz": -180
    },
    "id": "cixW0jgdYJ_o",
    "outputId": "3126455d-f6d0-4e7f-859f-a931397a5206"
   },
   "outputs": [
    {
     "data": {
      "text/plain": [
       "tensor([[-1.0000e+00, -4.0000e+00, -9.0000e+00],\n",
       "        [-1.0000e+02, -4.0000e+02, -9.0000e+02],\n",
       "        [-1.0000e+04, -4.0000e+04, -9.0000e+04]])"
      ]
     },
     "execution_count": 49,
     "metadata": {},
     "output_type": "execute_result"
    }
   ],
   "source": [
    "a.mul(b)"
   ]
  },
  {
   "cell_type": "markdown",
   "metadata": {
    "colab_type": "text",
    "id": "V-GYTERKYJ_q"
   },
   "source": [
    "* Division (elementwise):"
   ]
  },
  {
   "cell_type": "code",
   "execution_count": 50,
   "metadata": {
    "colab": {},
    "colab_type": "code",
    "id": "fUBQns2SYJ_r"
   },
   "outputs": [],
   "source": [
    "a = torch.FloatTensor([[1, 2, 3], [10, 20, 30], [100, 200, 300]])\n",
    "b = torch.FloatTensor([[-1, -2, -3], [-10, -20, -30], [100, 200, 300]])"
   ]
  },
  {
   "cell_type": "code",
   "execution_count": 51,
   "metadata": {
    "colab": {
     "base_uri": "https://localhost:8080/",
     "height": 74
    },
    "colab_type": "code",
    "executionInfo": {
     "elapsed": 1242,
     "status": "ok",
     "timestamp": 1572597751259,
     "user": {
      "displayName": "Aleksandr Veselev",
      "photoUrl": "",
      "userId": "06497019213520827031"
     },
     "user_tz": -180
    },
    "id": "2hrKeMjAYJ_v",
    "outputId": "637525ce-300f-4149-c6a9-4ae34164713e"
   },
   "outputs": [
    {
     "data": {
      "text/plain": [
       "tensor([[-1., -1., -1.],\n",
       "        [-1., -1., -1.],\n",
       "        [ 1.,  1.,  1.]])"
      ]
     },
     "execution_count": 51,
     "metadata": {},
     "output_type": "execute_result"
    }
   ],
   "source": [
    "a / b"
   ]
  },
  {
   "cell_type": "markdown",
   "metadata": {
    "colab_type": "text",
    "id": "KvcGLFVNYJ_0"
   },
   "source": [
    "Лучше:"
   ]
  },
  {
   "cell_type": "code",
   "execution_count": 52,
   "metadata": {
    "colab": {
     "base_uri": "https://localhost:8080/",
     "height": 74
    },
    "colab_type": "code",
    "executionInfo": {
     "elapsed": 1027,
     "status": "ok",
     "timestamp": 1572597751738,
     "user": {
      "displayName": "Aleksandr Veselev",
      "photoUrl": "",
      "userId": "06497019213520827031"
     },
     "user_tz": -180
    },
    "id": "cpg3YFVPYJ_2",
    "outputId": "bec99603-0be8-470c-afe2-9a53f11423e0"
   },
   "outputs": [
    {
     "data": {
      "text/plain": [
       "tensor([[-1., -1., -1.],\n",
       "        [-1., -1., -1.],\n",
       "        [ 1.,  1.,  1.]])"
      ]
     },
     "execution_count": 52,
     "metadata": {},
     "output_type": "execute_result"
    }
   ],
   "source": [
    "a.div(b)"
   ]
  },
  {
   "cell_type": "markdown",
   "metadata": {
    "colab_type": "text",
    "id": "VeLAbx1tYJ_7"
   },
   "source": [
    "**Note:** all this operations create new tensors, the old tensors remain unchanged"
   ]
  },
  {
   "cell_type": "code",
   "execution_count": 53,
   "metadata": {
    "colab": {
     "base_uri": "https://localhost:8080/",
     "height": 74
    },
    "colab_type": "code",
    "executionInfo": {
     "elapsed": 1275,
     "status": "ok",
     "timestamp": 1572597752779,
     "user": {
      "displayName": "Aleksandr Veselev",
      "photoUrl": "",
      "userId": "06497019213520827031"
     },
     "user_tz": -180
    },
    "id": "57BFtnlgYJ_8",
    "outputId": "9bee3918-5a63-4cf3-c6f8-75fd9ddbbea3"
   },
   "outputs": [
    {
     "data": {
      "text/plain": [
       "tensor([[  1.,   2.,   3.],\n",
       "        [ 10.,  20.,  30.],\n",
       "        [100., 200., 300.]])"
      ]
     },
     "execution_count": 53,
     "metadata": {},
     "output_type": "execute_result"
    }
   ],
   "source": [
    "a"
   ]
  },
  {
   "cell_type": "code",
   "execution_count": 54,
   "metadata": {
    "colab": {
     "base_uri": "https://localhost:8080/",
     "height": 74
    },
    "colab_type": "code",
    "executionInfo": {
     "elapsed": 916,
     "status": "ok",
     "timestamp": 1572597753332,
     "user": {
      "displayName": "Aleksandr Veselev",
      "photoUrl": "",
      "userId": "06497019213520827031"
     },
     "user_tz": -180
    },
    "id": "UziXyvtDYJ_-",
    "outputId": "7a56dda6-b46b-4e22-8de1-ed72e2facc5c"
   },
   "outputs": [
    {
     "data": {
      "text/plain": [
       "tensor([[ -1.,  -2.,  -3.],\n",
       "        [-10., -20., -30.],\n",
       "        [100., 200., 300.]])"
      ]
     },
     "execution_count": 54,
     "metadata": {},
     "output_type": "execute_result"
    }
   ],
   "source": [
    "b"
   ]
  },
  {
   "cell_type": "markdown",
   "metadata": {
    "colab_type": "text",
    "id": "bzq1klQuzXA9"
   },
   "source": [
    "## Exercise 2\n",
    "\n",
    "1) create 2 float tensors: `a` (5, 2), `b` (1, 10) <br/>\n",
    "2) create tensor `c`, that is the same as `b` but with shape (5, 2) <br>\n",
    "3) do arithmetics with `a` and `c`"
   ]
  },
  {
   "cell_type": "code",
   "execution_count": 77,
   "metadata": {},
   "outputs": [],
   "source": [
    "a = torch.FloatTensor(range(10)).view(5, 2)\n",
    "b = torch.FloatTensor(range(10)).view(1, 10)\n",
    "c = b.view(5, 2)"
   ]
  },
  {
   "cell_type": "code",
   "execution_count": 82,
   "metadata": {},
   "outputs": [
    {
     "data": {
      "text/plain": [
       "tensor([[ 0.,  1.],\n",
       "        [ 4.,  9.],\n",
       "        [16., 25.],\n",
       "        [36., 49.],\n",
       "        [64., 81.]])"
      ]
     },
     "execution_count": 82,
     "metadata": {},
     "output_type": "execute_result"
    }
   ],
   "source": [
    "a.mul(c)"
   ]
  },
  {
   "cell_type": "markdown",
   "metadata": {
    "colab_type": "text",
    "id": "vLpwZPc3YKAC"
   },
   "source": [
    "* Comparison operators:"
   ]
  },
  {
   "cell_type": "code",
   "execution_count": 55,
   "metadata": {
    "colab": {},
    "colab_type": "code",
    "id": "FfRzvw_UYKAC"
   },
   "outputs": [],
   "source": [
    "a = torch.FloatTensor([[1, 2, 3], [10, 20, 30], [100, 200, 300]])\n",
    "b = torch.FloatTensor([[-1, -2, -3], [-10, -20, -30], [100, 200, 300]])"
   ]
  },
  {
   "cell_type": "code",
   "execution_count": 56,
   "metadata": {
    "colab": {
     "base_uri": "https://localhost:8080/",
     "height": 74
    },
    "colab_type": "code",
    "executionInfo": {
     "elapsed": 815,
     "status": "ok",
     "timestamp": 1572597762998,
     "user": {
      "displayName": "Aleksandr Veselev",
      "photoUrl": "",
      "userId": "06497019213520827031"
     },
     "user_tz": -180
    },
    "id": "o1RUTP2BYKAD",
    "outputId": "98b17b0a-80a5-4c86-f41b-2433348c1b45"
   },
   "outputs": [
    {
     "data": {
      "text/plain": [
       "tensor([[0, 0, 0],\n",
       "        [0, 0, 0],\n",
       "        [1, 1, 1]], dtype=torch.uint8)"
      ]
     },
     "execution_count": 56,
     "metadata": {},
     "output_type": "execute_result"
    }
   ],
   "source": [
    "a == b"
   ]
  },
  {
   "cell_type": "code",
   "execution_count": 57,
   "metadata": {
    "colab": {
     "base_uri": "https://localhost:8080/",
     "height": 74
    },
    "colab_type": "code",
    "executionInfo": {
     "elapsed": 987,
     "status": "ok",
     "timestamp": 1572597834063,
     "user": {
      "displayName": "Aleksandr Veselev",
      "photoUrl": "",
      "userId": "06497019213520827031"
     },
     "user_tz": -180
    },
    "id": "JO3HaVIAYKAF",
    "outputId": "fa20c588-c9a4-4ea5-94fc-59b21d73fbf8"
   },
   "outputs": [
    {
     "data": {
      "text/plain": [
       "tensor([[1, 1, 1],\n",
       "        [1, 1, 1],\n",
       "        [0, 0, 0]], dtype=torch.uint8)"
      ]
     },
     "execution_count": 57,
     "metadata": {},
     "output_type": "execute_result"
    }
   ],
   "source": [
    "a != b"
   ]
  },
  {
   "cell_type": "code",
   "execution_count": 58,
   "metadata": {
    "colab": {
     "base_uri": "https://localhost:8080/",
     "height": 74
    },
    "colab_type": "code",
    "executionInfo": {
     "elapsed": 552,
     "status": "ok",
     "timestamp": 1572597835004,
     "user": {
      "displayName": "Aleksandr Veselev",
      "photoUrl": "",
      "userId": "06497019213520827031"
     },
     "user_tz": -180
    },
    "id": "DExLBj4VYKAH",
    "outputId": "c8528e05-9a02-4fda-bd87-f97cb6831017"
   },
   "outputs": [
    {
     "data": {
      "text/plain": [
       "tensor([[0, 0, 0],\n",
       "        [0, 0, 0],\n",
       "        [0, 0, 0]], dtype=torch.uint8)"
      ]
     },
     "execution_count": 58,
     "metadata": {},
     "output_type": "execute_result"
    }
   ],
   "source": [
    "a < b"
   ]
  },
  {
   "cell_type": "code",
   "execution_count": 59,
   "metadata": {
    "colab": {
     "base_uri": "https://localhost:8080/",
     "height": 74
    },
    "colab_type": "code",
    "executionInfo": {
     "elapsed": 635,
     "status": "ok",
     "timestamp": 1572597835977,
     "user": {
      "displayName": "Aleksandr Veselev",
      "photoUrl": "",
      "userId": "06497019213520827031"
     },
     "user_tz": -180
    },
    "id": "0_IH_FUNYKAJ",
    "outputId": "a73dac3b-3645-4292-f703-d77319085f8e"
   },
   "outputs": [
    {
     "data": {
      "text/plain": [
       "tensor([[1, 1, 1],\n",
       "        [1, 1, 1],\n",
       "        [0, 0, 0]], dtype=torch.uint8)"
      ]
     },
     "execution_count": 59,
     "metadata": {},
     "output_type": "execute_result"
    }
   ],
   "source": [
    "a > b"
   ]
  },
  {
   "cell_type": "markdown",
   "metadata": {
    "colab_type": "text",
    "id": "24nzBJR8YKAM"
   },
   "source": [
    "* Using boolean mask indexing:"
   ]
  },
  {
   "cell_type": "code",
   "execution_count": 60,
   "metadata": {
    "colab": {
     "base_uri": "https://localhost:8080/",
     "height": 36
    },
    "colab_type": "code",
    "executionInfo": {
     "elapsed": 1534,
     "status": "ok",
     "timestamp": 1572597838159,
     "user": {
      "displayName": "Aleksandr Veselev",
      "photoUrl": "",
      "userId": "06497019213520827031"
     },
     "user_tz": -180
    },
    "id": "C-xVDslwYKAN",
    "outputId": "44a5ca57-3b88-4022-8ea8-1e4695a63257"
   },
   "outputs": [
    {
     "name": "stdout",
     "output_type": "stream",
     "text": [
      "tensor([[  1.,   2.,   3.],\n",
      "        [ 10.,  20.,  30.],\n",
      "        [100., 200., 300.]])\n"
     ]
    },
    {
     "data": {
      "text/plain": [
       "tensor([ 1.,  2.,  3., 10., 20., 30.])"
      ]
     },
     "execution_count": 60,
     "metadata": {},
     "output_type": "execute_result"
    }
   ],
   "source": [
    "print(a)\n",
    "a[a > b]"
   ]
  },
  {
   "cell_type": "code",
   "execution_count": 61,
   "metadata": {
    "colab": {
     "base_uri": "https://localhost:8080/",
     "height": 36
    },
    "colab_type": "code",
    "executionInfo": {
     "elapsed": 675,
     "status": "ok",
     "timestamp": 1572597848705,
     "user": {
      "displayName": "Aleksandr Veselev",
      "photoUrl": "",
      "userId": "06497019213520827031"
     },
     "user_tz": -180
    },
    "id": "XatDJF5YYKAQ",
    "outputId": "871951de-27d6-4376-a541-3dbd363adccd"
   },
   "outputs": [
    {
     "data": {
      "text/plain": [
       "tensor([100., 200., 300.])"
      ]
     },
     "execution_count": 61,
     "metadata": {},
     "output_type": "execute_result"
    }
   ],
   "source": [
    "b[a == b]"
   ]
  },
  {
   "cell_type": "markdown",
   "metadata": {
    "colab_type": "text",
    "id": "54bQky1bYKAf"
   },
   "source": [
    "Elementwise application of the **universal functions**:"
   ]
  },
  {
   "cell_type": "code",
   "execution_count": 83,
   "metadata": {
    "colab": {},
    "colab_type": "code",
    "id": "lWnGSuUhYKAf"
   },
   "outputs": [],
   "source": [
    "a = torch.FloatTensor([[1, 2, 3], [10, 20, 30], [100, 200, 300]])"
   ]
  },
  {
   "cell_type": "code",
   "execution_count": 84,
   "metadata": {
    "colab": {
     "base_uri": "https://localhost:8080/",
     "height": 74
    },
    "colab_type": "code",
    "executionInfo": {
     "elapsed": 1476,
     "status": "ok",
     "timestamp": 1572598408763,
     "user": {
      "displayName": "Aleksandr Veselev",
      "photoUrl": "",
      "userId": "06497019213520827031"
     },
     "user_tz": -180
    },
    "id": "J6ZyxZBNYKAl",
    "outputId": "a45b3c11-7059-4598-ce7f-d43375275a7d"
   },
   "outputs": [
    {
     "data": {
      "text/plain": [
       "tensor([[ 0.8415,  0.9093,  0.1411],\n",
       "        [-0.5440,  0.9129, -0.9880],\n",
       "        [-0.5064, -0.8733, -0.9998]])"
      ]
     },
     "execution_count": 84,
     "metadata": {},
     "output_type": "execute_result"
    }
   ],
   "source": [
    "a.sin()"
   ]
  },
  {
   "cell_type": "code",
   "execution_count": 85,
   "metadata": {
    "colab": {
     "base_uri": "https://localhost:8080/",
     "height": 74
    },
    "colab_type": "code",
    "executionInfo": {
     "elapsed": 1272,
     "status": "ok",
     "timestamp": 1572598408764,
     "user": {
      "displayName": "Aleksandr Veselev",
      "photoUrl": "",
      "userId": "06497019213520827031"
     },
     "user_tz": -180
    },
    "id": "SScTSkJMYKAo",
    "outputId": "6a803960-5ef5-4a9b-c51c-d928f208bed4"
   },
   "outputs": [
    {
     "data": {
      "text/plain": [
       "tensor([[ 0.8415,  0.9093,  0.1411],\n",
       "        [-0.5440,  0.9129, -0.9880],\n",
       "        [-0.5064, -0.8733, -0.9998]])"
      ]
     },
     "execution_count": 85,
     "metadata": {},
     "output_type": "execute_result"
    }
   ],
   "source": [
    "torch.sin(a)"
   ]
  },
  {
   "cell_type": "code",
   "execution_count": 86,
   "metadata": {
    "colab": {
     "base_uri": "https://localhost:8080/",
     "height": 74
    },
    "colab_type": "code",
    "executionInfo": {
     "elapsed": 1139,
     "status": "ok",
     "timestamp": 1572598408766,
     "user": {
      "displayName": "Aleksandr Veselev",
      "photoUrl": "",
      "userId": "06497019213520827031"
     },
     "user_tz": -180
    },
    "id": "0bYVYVV7YKAr",
    "outputId": "c8681287-e38d-459e-957a-771f30c71161"
   },
   "outputs": [
    {
     "data": {
      "text/plain": [
       "tensor([[ 0.5403, -0.4161, -0.9900],\n",
       "        [-0.8391,  0.4081,  0.1543],\n",
       "        [ 0.8623,  0.4872, -0.0221]])"
      ]
     },
     "execution_count": 86,
     "metadata": {},
     "output_type": "execute_result"
    }
   ],
   "source": [
    "a.cos()"
   ]
  },
  {
   "cell_type": "code",
   "execution_count": 87,
   "metadata": {
    "colab": {
     "base_uri": "https://localhost:8080/",
     "height": 74
    },
    "colab_type": "code",
    "executionInfo": {
     "elapsed": 1630,
     "status": "ok",
     "timestamp": 1572598409435,
     "user": {
      "displayName": "Aleksandr Veselev",
      "photoUrl": "",
      "userId": "06497019213520827031"
     },
     "user_tz": -180
    },
    "id": "c-rYL8HQYKAt",
    "outputId": "f694cb22-7f7a-4e04-e34a-c590f6398d40"
   },
   "outputs": [
    {
     "data": {
      "text/plain": [
       "tensor([[2.7183e+00, 7.3891e+00, 2.0086e+01],\n",
       "        [2.2026e+04, 4.8517e+08, 1.0686e+13],\n",
       "        [       inf,        inf,        inf]])"
      ]
     },
     "execution_count": 87,
     "metadata": {},
     "output_type": "execute_result"
    }
   ],
   "source": [
    "a.exp()"
   ]
  },
  {
   "cell_type": "code",
   "execution_count": 88,
   "metadata": {
    "colab": {
     "base_uri": "https://localhost:8080/",
     "height": 74
    },
    "colab_type": "code",
    "executionInfo": {
     "elapsed": 1476,
     "status": "ok",
     "timestamp": 1572598409436,
     "user": {
      "displayName": "Aleksandr Veselev",
      "photoUrl": "",
      "userId": "06497019213520827031"
     },
     "user_tz": -180
    },
    "id": "EbiCDYUzYKAw",
    "outputId": "d00bad59-b0f7-444b-8856-b1ebc7655a88"
   },
   "outputs": [
    {
     "data": {
      "text/plain": [
       "tensor([[0.0000, 0.6931, 1.0986],\n",
       "        [2.3026, 2.9957, 3.4012],\n",
       "        [4.6052, 5.2983, 5.7038]])"
      ]
     },
     "execution_count": 88,
     "metadata": {},
     "output_type": "execute_result"
    }
   ],
   "source": [
    "a.log()"
   ]
  },
  {
   "cell_type": "code",
   "execution_count": 89,
   "metadata": {
    "colab": {
     "base_uri": "https://localhost:8080/",
     "height": 74
    },
    "colab_type": "code",
    "executionInfo": {
     "elapsed": 1323,
     "status": "ok",
     "timestamp": 1572598409438,
     "user": {
      "displayName": "Aleksandr Veselev",
      "photoUrl": "",
      "userId": "06497019213520827031"
     },
     "user_tz": -180
    },
    "id": "yh1sySpiYKAy",
    "outputId": "9a7d15a5-8e01-4bfe-f390-89565b3a6344"
   },
   "outputs": [
    {
     "data": {
      "text/plain": [
       "tensor([[  -1.,   -2.,   -3.],\n",
       "        [ -10.,  -20.,  -30.],\n",
       "        [-100., -200., -300.]])"
      ]
     },
     "execution_count": 89,
     "metadata": {},
     "output_type": "execute_result"
    }
   ],
   "source": [
    "b = -a\n",
    "b"
   ]
  },
  {
   "cell_type": "code",
   "execution_count": 90,
   "metadata": {
    "colab": {
     "base_uri": "https://localhost:8080/",
     "height": 74
    },
    "colab_type": "code",
    "executionInfo": {
     "elapsed": 1573,
     "status": "ok",
     "timestamp": 1572598409844,
     "user": {
      "displayName": "Aleksandr Veselev",
      "photoUrl": "",
      "userId": "06497019213520827031"
     },
     "user_tz": -180
    },
    "id": "PNU0UxqIYKA2",
    "outputId": "256069e5-6fc8-4d0e-f380-458adb494dd4"
   },
   "outputs": [
    {
     "data": {
      "text/plain": [
       "tensor([[  1.,   2.,   3.],\n",
       "        [ 10.,  20.,  30.],\n",
       "        [100., 200., 300.]])"
      ]
     },
     "execution_count": 90,
     "metadata": {},
     "output_type": "execute_result"
    }
   ],
   "source": [
    "b.abs()"
   ]
  },
  {
   "cell_type": "markdown",
   "metadata": {
    "colab_type": "text",
    "id": "eqERQjISYKA9"
   },
   "source": [
    "* The sum, mean, max, min:"
   ]
  },
  {
   "cell_type": "code",
   "execution_count": 91,
   "metadata": {
    "colab": {
     "base_uri": "https://localhost:8080/",
     "height": 36
    },
    "colab_type": "code",
    "executionInfo": {
     "elapsed": 1255,
     "status": "ok",
     "timestamp": 1572598409847,
     "user": {
      "displayName": "Aleksandr Veselev",
      "photoUrl": "",
      "userId": "06497019213520827031"
     },
     "user_tz": -180
    },
    "id": "HLmJGdl9YKA-",
    "outputId": "211462ba-9638-4b28-a81d-4702c78d197d"
   },
   "outputs": [
    {
     "data": {
      "text/plain": [
       "tensor(666.)"
      ]
     },
     "execution_count": 91,
     "metadata": {},
     "output_type": "execute_result"
    }
   ],
   "source": [
    "a.sum()"
   ]
  },
  {
   "cell_type": "code",
   "execution_count": 92,
   "metadata": {
    "colab": {
     "base_uri": "https://localhost:8080/",
     "height": 36
    },
    "colab_type": "code",
    "executionInfo": {
     "elapsed": 1099,
     "status": "ok",
     "timestamp": 1572598409849,
     "user": {
      "displayName": "Aleksandr Veselev",
      "photoUrl": "",
      "userId": "06497019213520827031"
     },
     "user_tz": -180
    },
    "id": "ervIuNGnYKBD",
    "outputId": "515ae09f-30a4-4ac6-f2ae-da0c9a2ca9b4"
   },
   "outputs": [
    {
     "data": {
      "text/plain": [
       "tensor(74.)"
      ]
     },
     "execution_count": 92,
     "metadata": {},
     "output_type": "execute_result"
    }
   ],
   "source": [
    "a.mean()"
   ]
  },
  {
   "cell_type": "markdown",
   "metadata": {
    "colab_type": "text",
    "id": "1qxkdUQ2YKBF"
   },
   "source": [
    "Along axis:"
   ]
  },
  {
   "cell_type": "code",
   "execution_count": 93,
   "metadata": {
    "colab": {
     "base_uri": "https://localhost:8080/",
     "height": 74
    },
    "colab_type": "code",
    "executionInfo": {
     "elapsed": 510,
     "status": "ok",
     "timestamp": 1572598409851,
     "user": {
      "displayName": "Aleksandr Veselev",
      "photoUrl": "",
      "userId": "06497019213520827031"
     },
     "user_tz": -180
    },
    "id": "OzU2H7jBbdS-",
    "outputId": "5c9a45fe-69f2-42f4-e859-00196600301b"
   },
   "outputs": [
    {
     "data": {
      "text/plain": [
       "tensor([[  1.,   2.,   3.],\n",
       "        [ 10.,  20.,  30.],\n",
       "        [100., 200., 300.]])"
      ]
     },
     "execution_count": 93,
     "metadata": {},
     "output_type": "execute_result"
    }
   ],
   "source": [
    "a"
   ]
  },
  {
   "cell_type": "code",
   "execution_count": 94,
   "metadata": {
    "colab": {
     "base_uri": "https://localhost:8080/",
     "height": 36
    },
    "colab_type": "code",
    "executionInfo": {
     "elapsed": 686,
     "status": "ok",
     "timestamp": 1572598410265,
     "user": {
      "displayName": "Aleksandr Veselev",
      "photoUrl": "",
      "userId": "06497019213520827031"
     },
     "user_tz": -180
    },
    "id": "cc6RjJYeYKBG",
    "outputId": "1214abb5-0180-4f1d-9515-0a0d7588d9c0"
   },
   "outputs": [
    {
     "data": {
      "text/plain": [
       "tensor([111., 222., 333.])"
      ]
     },
     "execution_count": 94,
     "metadata": {},
     "output_type": "execute_result"
    }
   ],
   "source": [
    "a.sum(dim=0)"
   ]
  },
  {
   "cell_type": "code",
   "execution_count": 95,
   "metadata": {
    "colab": {
     "base_uri": "https://localhost:8080/",
     "height": 36
    },
    "colab_type": "code",
    "executionInfo": {
     "elapsed": 768,
     "status": "ok",
     "timestamp": 1572598410719,
     "user": {
      "displayName": "Aleksandr Veselev",
      "photoUrl": "",
      "userId": "06497019213520827031"
     },
     "user_tz": -180
    },
    "id": "Dgi5BmhOYKBJ",
    "outputId": "c9251a87-91b0-4873-b12c-444922e31495"
   },
   "outputs": [
    {
     "data": {
      "text/plain": [
       "tensor([  6.,  60., 600.])"
      ]
     },
     "execution_count": 95,
     "metadata": {},
     "output_type": "execute_result"
    }
   ],
   "source": [
    "a.sum(1)"
   ]
  },
  {
   "cell_type": "code",
   "execution_count": 96,
   "metadata": {
    "colab": {
     "base_uri": "https://localhost:8080/",
     "height": 36
    },
    "colab_type": "code",
    "executionInfo": {
     "elapsed": 631,
     "status": "ok",
     "timestamp": 1572598411166,
     "user": {
      "displayName": "Aleksandr Veselev",
      "photoUrl": "",
      "userId": "06497019213520827031"
     },
     "user_tz": -180
    },
    "id": "-tIkcTENYKBK",
    "outputId": "0e60bf8b-0979-4468-853a-af82a8dbc781"
   },
   "outputs": [
    {
     "data": {
      "text/plain": [
       "tensor(300.)"
      ]
     },
     "execution_count": 96,
     "metadata": {},
     "output_type": "execute_result"
    }
   ],
   "source": [
    "a.max()"
   ]
  },
  {
   "cell_type": "code",
   "execution_count": 98,
   "metadata": {
    "colab": {
     "base_uri": "https://localhost:8080/",
     "height": 36
    },
    "colab_type": "code",
    "executionInfo": {
     "elapsed": 1589,
     "status": "ok",
     "timestamp": 1572598412461,
     "user": {
      "displayName": "Aleksandr Veselev",
      "photoUrl": "",
      "userId": "06497019213520827031"
     },
     "user_tz": -180
    },
    "id": "V4U_LyyPYKBL",
    "outputId": "8423f4b7-a008-46f5-aec0-241b82cfcc22"
   },
   "outputs": [
    {
     "data": {
      "text/plain": [
       "torch.return_types.max(\n",
       "values=tensor([  3.,  30., 300.]),\n",
       "indices=tensor([2, 2, 2]))"
      ]
     },
     "execution_count": 98,
     "metadata": {},
     "output_type": "execute_result"
    }
   ],
   "source": [
    "a.max(1)"
   ]
  },
  {
   "cell_type": "code",
   "execution_count": 99,
   "metadata": {
    "colab": {
     "base_uri": "https://localhost:8080/",
     "height": 36
    },
    "colab_type": "code",
    "executionInfo": {
     "elapsed": 805,
     "status": "ok",
     "timestamp": 1572598412464,
     "user": {
      "displayName": "Aleksandr Veselev",
      "photoUrl": "",
      "userId": "06497019213520827031"
     },
     "user_tz": -180
    },
    "id": "TSqmVtWjYKBO",
    "outputId": "639058aa-f16c-422b-f40a-a1b7e8b7a358"
   },
   "outputs": [
    {
     "data": {
      "text/plain": [
       "tensor(1.)"
      ]
     },
     "execution_count": 99,
     "metadata": {},
     "output_type": "execute_result"
    }
   ],
   "source": [
    "a.min()"
   ]
  },
  {
   "cell_type": "code",
   "execution_count": 100,
   "metadata": {
    "colab": {
     "base_uri": "https://localhost:8080/",
     "height": 36
    },
    "colab_type": "code",
    "executionInfo": {
     "elapsed": 1343,
     "status": "ok",
     "timestamp": 1572598413918,
     "user": {
      "displayName": "Aleksandr Veselev",
      "photoUrl": "",
      "userId": "06497019213520827031"
     },
     "user_tz": -180
    },
    "id": "OeA2hlZ2YKBP",
    "outputId": "9b403bb8-6e6e-4a5f-f501-0f8321861b0c"
   },
   "outputs": [
    {
     "data": {
      "text/plain": [
       "torch.return_types.min(\n",
       "values=tensor([1., 2., 3.]),\n",
       "indices=tensor([0, 0, 0]))"
      ]
     },
     "execution_count": 100,
     "metadata": {},
     "output_type": "execute_result"
    }
   ],
   "source": [
    "a.min(0)"
   ]
  },
  {
   "cell_type": "markdown",
   "metadata": {
    "colab_type": "text",
    "id": "Ys-9hnr4YKBS"
   },
   "source": [
    "**Note:** the second tensor returned by `.max()` and `.min()` contains the indices of max/min elements along this axis. E.g. in that case `a.min()` returned `(1, 2, 3)` which are the minimum elements along 0 axis (along columns) and their indices along 0 axis are `(0, 0, 0)`."
   ]
  },
  {
   "cell_type": "markdown",
   "metadata": {
    "colab_type": "text",
    "id": "Ys-9hnr4YKBS"
   },
   "source": [
    "## Exercise 3\n",
    "\n",
    "Create tensor `a` (100, 780, 780, 3) (this could be interpreted as 100 photos of 780x780 size and 3 color channels) and print first element of that array as a picture (use matplotlib.pyplot). <br/>\n",
    "Print mean of the elements by 1st axis (mean picture over all pictures) and by 4th axis (mean ov color channel for every picture)."
   ]
  },
  {
   "cell_type": "code",
   "execution_count": 102,
   "metadata": {},
   "outputs": [],
   "source": [
    "a = torch.FloatTensor(100, 780, 780, 3)"
   ]
  },
  {
   "cell_type": "code",
   "execution_count": 105,
   "metadata": {},
   "outputs": [
    {
     "data": {
      "text/plain": [
       "torch.Size([780, 780, 3])"
      ]
     },
     "execution_count": 105,
     "metadata": {},
     "output_type": "execute_result"
    }
   ],
   "source": [
    "pics_mean = a.mean(dim=0)\n",
    "pics_mean.shape"
   ]
  },
  {
   "cell_type": "code",
   "execution_count": 106,
   "metadata": {},
   "outputs": [
    {
     "data": {
      "text/plain": [
       "torch.Size([100, 780, 780])"
      ]
     },
     "execution_count": 106,
     "metadata": {},
     "output_type": "execute_result"
    }
   ],
   "source": [
    "channels_mean = a.mean(dim=3)\n",
    "channels_mean.shape"
   ]
  },
  {
   "cell_type": "code",
   "execution_count": null,
   "metadata": {},
   "outputs": [],
   "source": []
  },
  {
   "cell_type": "markdown",
   "metadata": {
    "colab_type": "text",
    "id": "kepFeTZ0YKBV"
   },
   "source": [
    "**Matrix operations**:"
   ]
  },
  {
   "cell_type": "markdown",
   "metadata": {
    "colab_type": "text",
    "id": "7RYm3mdrYKBX"
   },
   "source": [
    "* Transpose a tensor:"
   ]
  },
  {
   "cell_type": "code",
   "execution_count": 107,
   "metadata": {
    "colab": {
     "base_uri": "https://localhost:8080/",
     "height": 74
    },
    "colab_type": "code",
    "executionInfo": {
     "elapsed": 877,
     "status": "ok",
     "timestamp": 1572598440171,
     "user": {
      "displayName": "Aleksandr Veselev",
      "photoUrl": "",
      "userId": "06497019213520827031"
     },
     "user_tz": -180
    },
    "id": "T8-1TSkeYKBY",
    "outputId": "3ae93026-7bc4-4bff-9b46-8665060131a7"
   },
   "outputs": [
    {
     "data": {
      "text/plain": [
       "tensor([[  1.,   2.,   3.],\n",
       "        [ 10.,  20.,  30.],\n",
       "        [100., 200., 300.]])"
      ]
     },
     "execution_count": 107,
     "metadata": {},
     "output_type": "execute_result"
    }
   ],
   "source": [
    "a = torch.FloatTensor([[1, 2, 3], [10, 20, 30], [100, 200, 300]])\n",
    "a"
   ]
  },
  {
   "cell_type": "code",
   "execution_count": 108,
   "metadata": {
    "colab": {
     "base_uri": "https://localhost:8080/",
     "height": 74
    },
    "colab_type": "code",
    "executionInfo": {
     "elapsed": 1297,
     "status": "ok",
     "timestamp": 1572598445401,
     "user": {
      "displayName": "Aleksandr Veselev",
      "photoUrl": "",
      "userId": "06497019213520827031"
     },
     "user_tz": -180
    },
    "id": "HSAZwai7YKBa",
    "outputId": "b794b877-a11f-4f6c-ffa4-b26c0139e515"
   },
   "outputs": [
    {
     "data": {
      "text/plain": [
       "tensor([[  1.,  10., 100.],\n",
       "        [  2.,  20., 200.],\n",
       "        [  3.,  30., 300.]])"
      ]
     },
     "execution_count": 108,
     "metadata": {},
     "output_type": "execute_result"
    }
   ],
   "source": [
    "a.t()"
   ]
  },
  {
   "cell_type": "markdown",
   "metadata": {
    "colab_type": "text",
    "id": "QqsPkleRYKBd"
   },
   "source": [
    "It is not not the inplace operation too:"
   ]
  },
  {
   "cell_type": "code",
   "execution_count": 109,
   "metadata": {
    "colab": {},
    "colab_type": "code",
    "id": "NRPamd2EYKBe"
   },
   "outputs": [
    {
     "data": {
      "text/plain": [
       "tensor([[  1.,   2.,   3.],\n",
       "        [ 10.,  20.,  30.],\n",
       "        [100., 200., 300.]])"
      ]
     },
     "execution_count": 109,
     "metadata": {},
     "output_type": "execute_result"
    }
   ],
   "source": [
    "a"
   ]
  },
  {
   "cell_type": "markdown",
   "metadata": {
    "colab_type": "text",
    "id": "q8YhoxHPYKBh"
   },
   "source": [
    "* Dot product of vectors:"
   ]
  },
  {
   "cell_type": "code",
   "execution_count": 110,
   "metadata": {
    "colab": {},
    "colab_type": "code",
    "id": "i1pRtl7HYKBi"
   },
   "outputs": [],
   "source": [
    "a = torch.FloatTensor([1, 2, 3, 4, 5, 6])\n",
    "b = torch.FloatTensor([-1, -2, -4, -6, -8, -10])"
   ]
  },
  {
   "cell_type": "code",
   "execution_count": 111,
   "metadata": {
    "colab": {
     "base_uri": "https://localhost:8080/",
     "height": 36
    },
    "colab_type": "code",
    "executionInfo": {
     "elapsed": 873,
     "status": "ok",
     "timestamp": 1572598519942,
     "user": {
      "displayName": "Aleksandr Veselev",
      "photoUrl": "",
      "userId": "06497019213520827031"
     },
     "user_tz": -180
    },
    "id": "qcS-28dwYKBp",
    "outputId": "9d12eb5f-6c56-4259-ef96-a8e525874b8b"
   },
   "outputs": [
    {
     "data": {
      "text/plain": [
       "tensor(-141.)"
      ]
     },
     "execution_count": 111,
     "metadata": {},
     "output_type": "execute_result"
    }
   ],
   "source": [
    "a.dot(b)"
   ]
  },
  {
   "cell_type": "code",
   "execution_count": 112,
   "metadata": {
    "colab": {
     "base_uri": "https://localhost:8080/",
     "height": 36
    },
    "colab_type": "code",
    "executionInfo": {
     "elapsed": 990,
     "status": "ok",
     "timestamp": 1572598525977,
     "user": {
      "displayName": "Aleksandr Veselev",
      "photoUrl": "",
      "userId": "06497019213520827031"
     },
     "user_tz": -180
    },
    "id": "sBiRR1V3LP-r",
    "outputId": "3f5fc8fc-64d3-4275-a8b3-125ff84ed607"
   },
   "outputs": [
    {
     "data": {
      "text/plain": [
       "(torch.Size([6]), torch.Size([6]))"
      ]
     },
     "execution_count": 112,
     "metadata": {},
     "output_type": "execute_result"
    }
   ],
   "source": [
    "a.shape, b.shape"
   ]
  },
  {
   "cell_type": "code",
   "execution_count": 113,
   "metadata": {
    "colab": {
     "base_uri": "https://localhost:8080/",
     "height": 178
    },
    "colab_type": "code",
    "executionInfo": {
     "elapsed": 776,
     "status": "error",
     "timestamp": 1572598567400,
     "user": {
      "displayName": "Aleksandr Veselev",
      "photoUrl": "",
      "userId": "06497019213520827031"
     },
     "user_tz": -180
    },
    "id": "MXyhOelQYKBs",
    "outputId": "dffd2d89-463e-421d-b221-4b6e52876675"
   },
   "outputs": [
    {
     "ename": "NameError",
     "evalue": "name 'azz' is not defined",
     "output_type": "error",
     "traceback": [
      "\u001b[1;31m---------------------------------------------------------------------------\u001b[0m",
      "\u001b[1;31mNameError\u001b[0m                                 Traceback (most recent call last)",
      "\u001b[1;32m<ipython-input-113-6bf77457a60c>\u001b[0m in \u001b[0;36m<module>\u001b[1;34m\u001b[0m\n\u001b[1;32m----> 1\u001b[1;33m \u001b[0mazz\u001b[0m \u001b[1;33m@\u001b[0m \u001b[0mb\u001b[0m\u001b[1;33m\u001b[0m\u001b[1;33m\u001b[0m\u001b[0m\n\u001b[0m",
      "\u001b[1;31mNameError\u001b[0m: name 'azz' is not defined"
     ]
    }
   ],
   "source": [
    "azz @ b"
   ]
  },
  {
   "cell_type": "code",
   "execution_count": 114,
   "metadata": {
    "colab": {
     "base_uri": "https://localhost:8080/",
     "height": 36
    },
    "colab_type": "code",
    "executionInfo": {
     "elapsed": 999,
     "status": "ok",
     "timestamp": 1572598568773,
     "user": {
      "displayName": "Aleksandr Veselev",
      "photoUrl": "",
      "userId": "06497019213520827031"
     },
     "user_tz": -180
    },
    "id": "sxqg4xhoYKBt",
    "outputId": "3ddc24a5-1fb9-4820-8599-4c67dcd58d4a"
   },
   "outputs": [
    {
     "data": {
      "text/plain": [
       "torch.Tensor"
      ]
     },
     "execution_count": 114,
     "metadata": {},
     "output_type": "execute_result"
    }
   ],
   "source": [
    "type(a)"
   ]
  },
  {
   "cell_type": "code",
   "execution_count": 115,
   "metadata": {
    "colab": {
     "base_uri": "https://localhost:8080/",
     "height": 36
    },
    "colab_type": "code",
    "executionInfo": {
     "elapsed": 1741,
     "status": "ok",
     "timestamp": 1572598569944,
     "user": {
      "displayName": "Aleksandr Veselev",
      "photoUrl": "",
      "userId": "06497019213520827031"
     },
     "user_tz": -180
    },
    "id": "_v2ZjPqDYKBz",
    "outputId": "5546b1ab-624d-40fc-88ef-09bf4216e88c"
   },
   "outputs": [
    {
     "data": {
      "text/plain": [
       "torch.Tensor"
      ]
     },
     "execution_count": 115,
     "metadata": {},
     "output_type": "execute_result"
    }
   ],
   "source": [
    "type(b)"
   ]
  },
  {
   "cell_type": "code",
   "execution_count": 116,
   "metadata": {
    "colab": {
     "base_uri": "https://localhost:8080/",
     "height": 36
    },
    "colab_type": "code",
    "executionInfo": {
     "elapsed": 1364,
     "status": "ok",
     "timestamp": 1572598569945,
     "user": {
      "displayName": "Aleksandr Veselev",
      "photoUrl": "",
      "userId": "06497019213520827031"
     },
     "user_tz": -180
    },
    "id": "UsWB9vTuYKB0",
    "outputId": "bd0a9717-c556-4c2f-fbd4-1cca26c37db2"
   },
   "outputs": [
    {
     "data": {
      "text/plain": [
       "torch.Tensor"
      ]
     },
     "execution_count": 116,
     "metadata": {},
     "output_type": "execute_result"
    }
   ],
   "source": [
    "type(a @ b)"
   ]
  },
  {
   "cell_type": "markdown",
   "metadata": {
    "colab_type": "text",
    "id": "KSrnLwkGYKB1"
   },
   "source": [
    "* Matrix product:"
   ]
  },
  {
   "cell_type": "code",
   "execution_count": 117,
   "metadata": {
    "colab": {},
    "colab_type": "code",
    "id": "ViurnbjPYKB2"
   },
   "outputs": [],
   "source": [
    "a = torch.FloatTensor([[1, 2, 3], [10, 20, 30], [100, 200, 300]])\n",
    "b = torch.FloatTensor([[-1, -2, -3], [-10, -20, -30], [100, 200, 300]])"
   ]
  },
  {
   "cell_type": "code",
   "execution_count": 118,
   "metadata": {
    "colab": {
     "base_uri": "https://localhost:8080/",
     "height": 74
    },
    "colab_type": "code",
    "executionInfo": {
     "elapsed": 1003,
     "status": "ok",
     "timestamp": 1572598570364,
     "user": {
      "displayName": "Aleksandr Veselev",
      "photoUrl": "",
      "userId": "06497019213520827031"
     },
     "user_tz": -180
    },
    "id": "5TrCnfWiYKB3",
    "outputId": "3d188ec3-15be-4b78-873c-72b0fc432b73"
   },
   "outputs": [
    {
     "data": {
      "text/plain": [
       "tensor([[  279.,   558.,   837.],\n",
       "        [ 2790.,  5580.,  8370.],\n",
       "        [27900., 55800., 83700.]])"
      ]
     },
     "execution_count": 118,
     "metadata": {},
     "output_type": "execute_result"
    }
   ],
   "source": [
    "a.mm(b)"
   ]
  },
  {
   "cell_type": "code",
   "execution_count": 119,
   "metadata": {
    "colab": {
     "base_uri": "https://localhost:8080/",
     "height": 74
    },
    "colab_type": "code",
    "executionInfo": {
     "elapsed": 752,
     "status": "ok",
     "timestamp": 1572598570366,
     "user": {
      "displayName": "Aleksandr Veselev",
      "photoUrl": "",
      "userId": "06497019213520827031"
     },
     "user_tz": -180
    },
    "id": "HMzIz-_MYKB4",
    "outputId": "c1666bcc-3d50-4889-9941-14adf0cd341a"
   },
   "outputs": [
    {
     "data": {
      "text/plain": [
       "tensor([[  279.,   558.,   837.],\n",
       "        [ 2790.,  5580.,  8370.],\n",
       "        [27900., 55800., 83700.]])"
      ]
     },
     "execution_count": 119,
     "metadata": {},
     "output_type": "execute_result"
    }
   ],
   "source": [
    "a @ b"
   ]
  },
  {
   "cell_type": "markdown",
   "metadata": {
    "colab_type": "text",
    "id": "Ig2pr52xYKB5"
   },
   "source": [
    "Remain unchanged:"
   ]
  },
  {
   "cell_type": "code",
   "execution_count": 120,
   "metadata": {
    "colab": {
     "base_uri": "https://localhost:8080/",
     "height": 74
    },
    "colab_type": "code",
    "executionInfo": {
     "elapsed": 859,
     "status": "ok",
     "timestamp": 1572598571168,
     "user": {
      "displayName": "Aleksandr Veselev",
      "photoUrl": "",
      "userId": "06497019213520827031"
     },
     "user_tz": -180
    },
    "id": "22QOePSyYKB6",
    "outputId": "6f887e0b-e9c0-49b0-8605-26ae47140b94"
   },
   "outputs": [
    {
     "data": {
      "text/plain": [
       "tensor([[  1.,   2.,   3.],\n",
       "        [ 10.,  20.,  30.],\n",
       "        [100., 200., 300.]])"
      ]
     },
     "execution_count": 120,
     "metadata": {},
     "output_type": "execute_result"
    }
   ],
   "source": [
    "a"
   ]
  },
  {
   "cell_type": "code",
   "execution_count": 121,
   "metadata": {
    "colab": {
     "base_uri": "https://localhost:8080/",
     "height": 74
    },
    "colab_type": "code",
    "executionInfo": {
     "elapsed": 836,
     "status": "ok",
     "timestamp": 1572598571521,
     "user": {
      "displayName": "Aleksandr Veselev",
      "photoUrl": "",
      "userId": "06497019213520827031"
     },
     "user_tz": -180
    },
    "id": "JHr6eKADYKB6",
    "outputId": "cd652a94-e738-42a2-c03b-f5035a8e984d"
   },
   "outputs": [
    {
     "data": {
      "text/plain": [
       "tensor([[ -1.,  -2.,  -3.],\n",
       "        [-10., -20., -30.],\n",
       "        [100., 200., 300.]])"
      ]
     },
     "execution_count": 121,
     "metadata": {},
     "output_type": "execute_result"
    }
   ],
   "source": [
    "b"
   ]
  },
  {
   "cell_type": "code",
   "execution_count": 122,
   "metadata": {
    "colab": {},
    "colab_type": "code",
    "id": "vtuvt20-YKB8"
   },
   "outputs": [],
   "source": [
    "a = torch.FloatTensor([[1, 2, 3], [10, 20, 30], [100, 200, 300]])\n",
    "b = torch.FloatTensor([[-1], [-10], [100]])"
   ]
  },
  {
   "cell_type": "code",
   "execution_count": 123,
   "metadata": {
    "colab": {
     "base_uri": "https://localhost:8080/",
     "height": 36
    },
    "colab_type": "code",
    "executionInfo": {
     "elapsed": 1047,
     "status": "ok",
     "timestamp": 1572598573207,
     "user": {
      "displayName": "Aleksandr Veselev",
      "photoUrl": "",
      "userId": "06497019213520827031"
     },
     "user_tz": -180
    },
    "id": "fdDnu5XjYKB9",
    "outputId": "516e2194-5b5f-4a73-c47a-2ec4c7b31a19"
   },
   "outputs": [
    {
     "name": "stdout",
     "output_type": "stream",
     "text": [
      "torch.Size([3, 3]) torch.Size([3, 1])\n"
     ]
    }
   ],
   "source": [
    "print(a.shape, b.shape)"
   ]
  },
  {
   "cell_type": "code",
   "execution_count": 124,
   "metadata": {
    "colab": {
     "base_uri": "https://localhost:8080/",
     "height": 74
    },
    "colab_type": "code",
    "executionInfo": {
     "elapsed": 914,
     "status": "ok",
     "timestamp": 1572598575948,
     "user": {
      "displayName": "Aleksandr Veselev",
      "photoUrl": "",
      "userId": "06497019213520827031"
     },
     "user_tz": -180
    },
    "id": "oD4N4WN8YKB_",
    "outputId": "4ef5a395-b82a-4748-a1c9-f1d1c2c56098"
   },
   "outputs": [
    {
     "data": {
      "text/plain": [
       "tensor([[  279.],\n",
       "        [ 2790.],\n",
       "        [27900.]])"
      ]
     },
     "execution_count": 124,
     "metadata": {},
     "output_type": "execute_result"
    }
   ],
   "source": [
    "a @ b"
   ]
  },
  {
   "cell_type": "markdown",
   "metadata": {
    "colab_type": "text",
    "id": "va9w-BavYKCB"
   },
   "source": [
    "If we unroll the tensor `b` in an array (`torch.view(-1)`) the multiplication would be like with the column:"
   ]
  },
  {
   "cell_type": "code",
   "execution_count": 125,
   "metadata": {
    "colab": {},
    "colab_type": "code",
    "id": "V7KsdYcBYKCC"
   },
   "outputs": [
    {
     "data": {
      "text/plain": [
       "tensor([[ -1.],\n",
       "        [-10.],\n",
       "        [100.]])"
      ]
     },
     "execution_count": 125,
     "metadata": {},
     "output_type": "execute_result"
    }
   ],
   "source": [
    "b"
   ]
  },
  {
   "cell_type": "code",
   "execution_count": 126,
   "metadata": {
    "colab": {},
    "colab_type": "code",
    "id": "t7k6spayYKCF"
   },
   "outputs": [
    {
     "data": {
      "text/plain": [
       "tensor([ -1., -10., 100.])"
      ]
     },
     "execution_count": 126,
     "metadata": {},
     "output_type": "execute_result"
    }
   ],
   "source": [
    "b.view(-1)"
   ]
  },
  {
   "cell_type": "code",
   "execution_count": 128,
   "metadata": {},
   "outputs": [
    {
     "data": {
      "text/plain": [
       "tensor([[  1.,   2.,   3.],\n",
       "        [ 10.,  20.,  30.],\n",
       "        [100., 200., 300.]])"
      ]
     },
     "execution_count": 128,
     "metadata": {},
     "output_type": "execute_result"
    }
   ],
   "source": [
    "a"
   ]
  },
  {
   "cell_type": "code",
   "execution_count": 127,
   "metadata": {
    "colab": {},
    "colab_type": "code",
    "id": "8u8xQ20bYKCH"
   },
   "outputs": [
    {
     "data": {
      "text/plain": [
       "tensor([  279.,  2790., 27900.])"
      ]
     },
     "execution_count": 127,
     "metadata": {},
     "output_type": "execute_result"
    }
   ],
   "source": [
    "a @ b.view(-1)"
   ]
  },
  {
   "cell_type": "code",
   "execution_count": 129,
   "metadata": {
    "colab": {},
    "colab_type": "code",
    "id": "QvCu1sJEYKCJ"
   },
   "outputs": [
    {
     "data": {
      "text/plain": [
       "tensor([  279.,  2790., 27900.])"
      ]
     },
     "execution_count": 129,
     "metadata": {},
     "output_type": "execute_result"
    }
   ],
   "source": [
    "a.mv(b.view(-1))"
   ]
  },
  {
   "cell_type": "markdown",
   "metadata": {
    "colab_type": "text",
    "id": "gZitrCN6YKCL"
   },
   "source": [
    "**From NumPu to PyTorch conversion**:"
   ]
  },
  {
   "cell_type": "code",
   "execution_count": 130,
   "metadata": {
    "colab": {
     "base_uri": "https://localhost:8080/",
     "height": 74
    },
    "colab_type": "code",
    "executionInfo": {
     "elapsed": 917,
     "status": "ok",
     "timestamp": 1572599616239,
     "user": {
      "displayName": "Aleksandr Veselev",
      "photoUrl": "",
      "userId": "06497019213520827031"
     },
     "user_tz": -180
    },
    "id": "bnLS4CGXYKCL",
    "outputId": "e0ede682-52f4-466d-efcf-206499f1a8ac"
   },
   "outputs": [
    {
     "data": {
      "text/plain": [
       "array([[0.92340097, 0.71748115, 0.44280475],\n",
       "       [0.03279199, 0.54962697, 0.25887129],\n",
       "       [0.91518268, 0.24579258, 0.41542153]])"
      ]
     },
     "execution_count": 130,
     "metadata": {},
     "output_type": "execute_result"
    }
   ],
   "source": [
    "import numpy as np\n",
    "\n",
    "a = np.random.rand(3, 3)\n",
    "a"
   ]
  },
  {
   "cell_type": "code",
   "execution_count": 131,
   "metadata": {
    "colab": {
     "base_uri": "https://localhost:8080/",
     "height": 74
    },
    "colab_type": "code",
    "executionInfo": {
     "elapsed": 648,
     "status": "ok",
     "timestamp": 1572599616243,
     "user": {
      "displayName": "Aleksandr Veselev",
      "photoUrl": "",
      "userId": "06497019213520827031"
     },
     "user_tz": -180
    },
    "id": "PXge57waYKCM",
    "outputId": "6e1946a0-847a-4d6c-9888-f528d0ad62c6"
   },
   "outputs": [
    {
     "data": {
      "text/plain": [
       "tensor([[0.9234, 0.7175, 0.4428],\n",
       "        [0.0328, 0.5496, 0.2589],\n",
       "        [0.9152, 0.2458, 0.4154]], dtype=torch.float64)"
      ]
     },
     "execution_count": 131,
     "metadata": {},
     "output_type": "execute_result"
    }
   ],
   "source": [
    "b = torch.from_numpy(a)\n",
    "b"
   ]
  },
  {
   "cell_type": "markdown",
   "metadata": {
    "colab_type": "text",
    "id": "Nvcr3ymPYKCN"
   },
   "source": [
    "**NOTE!** `a` and `b` have the same data storage, so the changes in one tensor will lead to the changes in another:"
   ]
  },
  {
   "cell_type": "code",
   "execution_count": 132,
   "metadata": {
    "colab": {
     "base_uri": "https://localhost:8080/",
     "height": 74
    },
    "colab_type": "code",
    "executionInfo": {
     "elapsed": 1206,
     "status": "ok",
     "timestamp": 1572599617723,
     "user": {
      "displayName": "Aleksandr Veselev",
      "photoUrl": "",
      "userId": "06497019213520827031"
     },
     "user_tz": -180
    },
    "id": "0N_ZW6TQYKCN",
    "outputId": "47720615-c19c-43dd-f72d-7b03a71a6755"
   },
   "outputs": [
    {
     "data": {
      "text/plain": [
       "tensor([[0., 0., 0.],\n",
       "        [0., 0., 0.],\n",
       "        [0., 0., 0.]], dtype=torch.float64)"
      ]
     },
     "execution_count": 132,
     "metadata": {},
     "output_type": "execute_result"
    }
   ],
   "source": [
    "b -= b\n",
    "b"
   ]
  },
  {
   "cell_type": "code",
   "execution_count": 133,
   "metadata": {
    "colab": {
     "base_uri": "https://localhost:8080/",
     "height": 74
    },
    "colab_type": "code",
    "executionInfo": {
     "elapsed": 883,
     "status": "ok",
     "timestamp": 1572599617724,
     "user": {
      "displayName": "Aleksandr Veselev",
      "photoUrl": "",
      "userId": "06497019213520827031"
     },
     "user_tz": -180
    },
    "id": "wzUnCKsiYKCP",
    "outputId": "4b5de83e-2256-46f4-ecb1-d8b98713f431"
   },
   "outputs": [
    {
     "data": {
      "text/plain": [
       "array([[0., 0., 0.],\n",
       "       [0., 0., 0.],\n",
       "       [0., 0., 0.]])"
      ]
     },
     "execution_count": 133,
     "metadata": {},
     "output_type": "execute_result"
    }
   ],
   "source": [
    "a"
   ]
  },
  {
   "cell_type": "markdown",
   "metadata": {
    "colab_type": "text",
    "id": "Al73RqKSYKCR"
   },
   "source": [
    "**From PyTorch to NumPy conversion:**"
   ]
  },
  {
   "cell_type": "code",
   "execution_count": 134,
   "metadata": {
    "colab": {
     "base_uri": "https://localhost:8080/",
     "height": 150
    },
    "colab_type": "code",
    "executionInfo": {
     "elapsed": 1376,
     "status": "ok",
     "timestamp": 1572599621775,
     "user": {
      "displayName": "Aleksandr Veselev",
      "photoUrl": "",
      "userId": "06497019213520827031"
     },
     "user_tz": -180
    },
    "id": "u5rngw4vYKCR",
    "outputId": "f4df4e42-a865-4d6c-8375-0d2495cee4e6"
   },
   "outputs": [
    {
     "data": {
      "text/plain": [
       "tensor([[[2.5226e-18, 1.6898e-04, 1.0072e-11, 1.2353e-08],\n",
       "         [4.1264e-08, 4.1881e-11, 4.2192e-08, 2.9575e-18],\n",
       "         [6.7333e+22, 1.7591e+22, 1.7184e+25, 4.3222e+27]],\n",
       "\n",
       "        [[6.1972e-04, 7.2443e+22, 1.7728e+28, 7.0367e+22],\n",
       "         [1.1970e+22, 1.6917e-04, 1.0301e-11, 6.8000e+22],\n",
       "         [8.2656e-10, 1.7565e-04, 6.3013e-10, 2.6950e-09]]])"
      ]
     },
     "execution_count": 134,
     "metadata": {},
     "output_type": "execute_result"
    }
   ],
   "source": [
    "a = torch.FloatTensor(2, 3, 4)\n",
    "a"
   ]
  },
  {
   "cell_type": "code",
   "execution_count": 135,
   "metadata": {
    "colab": {
     "base_uri": "https://localhost:8080/",
     "height": 36
    },
    "colab_type": "code",
    "executionInfo": {
     "elapsed": 999,
     "status": "ok",
     "timestamp": 1572599623048,
     "user": {
      "displayName": "Aleksandr Veselev",
      "photoUrl": "",
      "userId": "06497019213520827031"
     },
     "user_tz": -180
    },
    "id": "yjK68Kk-YKCS",
    "outputId": "ba63cbc9-4b75-4ef1-ec42-c4f6cc1c66c0"
   },
   "outputs": [
    {
     "data": {
      "text/plain": [
       "torch.Tensor"
      ]
     },
     "execution_count": 135,
     "metadata": {},
     "output_type": "execute_result"
    }
   ],
   "source": [
    "type(a)"
   ]
  },
  {
   "cell_type": "code",
   "execution_count": 136,
   "metadata": {
    "colab": {
     "base_uri": "https://localhost:8080/",
     "height": 169
    },
    "colab_type": "code",
    "executionInfo": {
     "elapsed": 550,
     "status": "ok",
     "timestamp": 1572599623049,
     "user": {
      "displayName": "Aleksandr Veselev",
      "photoUrl": "",
      "userId": "06497019213520827031"
     },
     "user_tz": -180
    },
    "id": "viLUF7gQYKCU",
    "outputId": "0da4ad32-6b7e-473c-b718-bb364cc4e0eb"
   },
   "outputs": [
    {
     "data": {
      "text/plain": [
       "array([[[2.5225907e-18, 1.6897990e-04, 1.0072204e-11, 1.2353028e-08],\n",
       "        [4.1263949e-08, 4.1881366e-11, 4.2191662e-08, 2.9574786e-18],\n",
       "        [6.7333120e+22, 1.7590538e+22, 1.7184218e+25, 4.3221663e+27]],\n",
       "\n",
       "       [[6.1971537e-04, 7.2443192e+22, 1.7728345e+28, 7.0366722e+22],\n",
       "        [1.1970246e+22, 1.6917058e-04, 1.0300692e-11, 6.7999756e+22],\n",
       "        [8.2656265e-10, 1.7564515e-04, 6.3012895e-10, 2.6949589e-09]]],\n",
       "      dtype=float32)"
      ]
     },
     "execution_count": 136,
     "metadata": {},
     "output_type": "execute_result"
    }
   ],
   "source": [
    "x = a.numpy()\n",
    "x"
   ]
  },
  {
   "cell_type": "code",
   "execution_count": 137,
   "metadata": {
    "colab": {
     "base_uri": "https://localhost:8080/",
     "height": 36
    },
    "colab_type": "code",
    "executionInfo": {
     "elapsed": 878,
     "status": "ok",
     "timestamp": 1572599624461,
     "user": {
      "displayName": "Aleksandr Veselev",
      "photoUrl": "",
      "userId": "06497019213520827031"
     },
     "user_tz": -180
    },
    "id": "9HxgiLxKYKCV",
    "outputId": "4c0cd450-e224-479a-bfe8-42b78ce51954"
   },
   "outputs": [
    {
     "data": {
      "text/plain": [
       "(2, 3, 4)"
      ]
     },
     "execution_count": 137,
     "metadata": {},
     "output_type": "execute_result"
    }
   ],
   "source": [
    "x.shape"
   ]
  },
  {
   "cell_type": "code",
   "execution_count": 138,
   "metadata": {
    "colab": {
     "base_uri": "https://localhost:8080/",
     "height": 36
    },
    "colab_type": "code",
    "executionInfo": {
     "elapsed": 670,
     "status": "ok",
     "timestamp": 1572599625415,
     "user": {
      "displayName": "Aleksandr Veselev",
      "photoUrl": "",
      "userId": "06497019213520827031"
     },
     "user_tz": -180
    },
    "id": "SdW5bhmeYKCX",
    "outputId": "6992373a-9e55-4a48-897b-cb7267e92a5c"
   },
   "outputs": [
    {
     "data": {
      "text/plain": [
       "numpy.ndarray"
      ]
     },
     "execution_count": 138,
     "metadata": {},
     "output_type": "execute_result"
    }
   ],
   "source": [
    "type(x)"
   ]
  },
  {
   "cell_type": "markdown",
   "metadata": {
    "colab_type": "text",
    "id": "7-KS81rUYKCY"
   },
   "source": [
    "Let's write the `forward_pass(X, w)` ($w_0$ is a part of the $w$) for a single neuron (activation = sigmoid) using PyTorch:"
   ]
  },
  {
   "cell_type": "code",
   "execution_count": 141,
   "metadata": {
    "colab": {},
    "colab_type": "code",
    "id": "vkaIwpn6YKCY"
   },
   "outputs": [],
   "source": [
    "def forward_pass(X, w):\n",
    "    return torch.sigmoid(X @ w)"
   ]
  },
  {
   "cell_type": "code",
   "execution_count": 142,
   "metadata": {
    "colab": {
     "base_uri": "https://localhost:8080/",
     "height": 74
    },
    "colab_type": "code",
    "executionInfo": {
     "elapsed": 944,
     "status": "ok",
     "timestamp": 1572599632516,
     "user": {
      "displayName": "Aleksandr Veselev",
      "photoUrl": "",
      "userId": "06497019213520827031"
     },
     "user_tz": -180
    },
    "id": "VyqlDItxYKCZ",
    "outputId": "54a7c4ac-3d97-4535-88bf-1ae99d35fe00"
   },
   "outputs": [
    {
     "name": "stdout",
     "output_type": "stream",
     "text": [
      "result: tensor([[1.0000],\n",
      "        [0.9985],\n",
      "        [0.0474]])\n"
     ]
    }
   ],
   "source": [
    "X = torch.FloatTensor([[-5, 5], [2, 3], [1, -1]])\n",
    "w = torch.FloatTensor([[-0.5], [2.5]])\n",
    "result = forward_pass(X, w)\n",
    "print('result: {}'.format(result))"
   ]
  },
  {
   "cell_type": "markdown",
   "metadata": {
    "colab_type": "text",
    "id": "MzLVLQ2GYKCa"
   },
   "source": [
    "<h3 style=\"text-align: center;\"><a href=\"https://ru.wikipedia.org/wiki/CUDA\">CUDA</a></h3>"
   ]
  },
  {
   "cell_type": "markdown",
   "metadata": {
    "colab_type": "text",
    "id": "PrIicAAiYKCa"
   },
   "source": [
    "[CUDA documentation](https://docs.nvidia.com/cuda/)"
   ]
  },
  {
   "cell_type": "markdown",
   "metadata": {
    "colab_type": "text",
    "id": "2nDkAG6NYKCa"
   },
   "source": [
    "We can use both CPU (Central Processing Unit) and GPU (Graphical Processing Unit) to make the computations with PyTorch. We can switch between them easily, this is one of the most important things in PyTorch framework."
   ]
  },
  {
   "cell_type": "code",
   "execution_count": 143,
   "metadata": {
    "colab": {
     "base_uri": "https://localhost:8080/",
     "height": 264
    },
    "colab_type": "code",
    "executionInfo": {
     "elapsed": 1386,
     "status": "ok",
     "timestamp": 1572599661490,
     "user": {
      "displayName": "Aleksandr Veselev",
      "photoUrl": "",
      "userId": "06497019213520827031"
     },
     "user_tz": -180
    },
    "id": "_0Nsl2IoYKCa",
    "outputId": "e56ecb0e-bfe9-47e8-903e-8215d970ae42"
   },
   "outputs": [
    {
     "data": {
      "text/plain": [
       "tensor([[0.6764, 0.7330, 0.4400,  ..., 0.1052, 0.9731, 0.4554],\n",
       "        [0.3554, 0.2025, 0.7941,  ..., 0.8469, 0.0212, 0.8435],\n",
       "        [0.9659, 0.6654, 0.2714,  ..., 0.3324, 0.5882, 0.8457],\n",
       "        ...,\n",
       "        [0.0872, 0.9689, 0.6670,  ..., 0.7070, 0.1467, 0.4895],\n",
       "        [0.0502, 0.1906, 0.4372,  ..., 0.8150, 0.1836, 0.0089],\n",
       "        [0.4885, 0.7832, 0.5167,  ..., 0.8588, 0.8204, 0.4833]])"
      ]
     },
     "execution_count": 143,
     "metadata": {},
     "output_type": "execute_result"
    }
   ],
   "source": [
    "x = torch.FloatTensor(1024, 1024).uniform_()\n",
    "x"
   ]
  },
  {
   "cell_type": "code",
   "execution_count": 144,
   "metadata": {
    "colab": {
     "base_uri": "https://localhost:8080/",
     "height": 36
    },
    "colab_type": "code",
    "executionInfo": {
     "elapsed": 1478,
     "status": "ok",
     "timestamp": 1572599665180,
     "user": {
      "displayName": "Aleksandr Veselev",
      "photoUrl": "",
      "userId": "06497019213520827031"
     },
     "user_tz": -180
    },
    "id": "FVr5_SAdYKCb",
    "outputId": "8050a96c-4558-401e-b56b-90b7fddccce0"
   },
   "outputs": [
    {
     "data": {
      "text/plain": [
       "False"
      ]
     },
     "execution_count": 144,
     "metadata": {},
     "output_type": "execute_result"
    }
   ],
   "source": [
    "x.is_cuda"
   ]
  },
  {
   "cell_type": "markdown",
   "metadata": {
    "colab_type": "text",
    "id": "mAy8GGXAYKCd"
   },
   "source": [
    "Place a tensor on GPU:"
   ]
  },
  {
   "cell_type": "code",
   "execution_count": 145,
   "metadata": {
    "colab": {},
    "colab_type": "code",
    "id": "6UGKZbfyYKCd"
   },
   "outputs": [
    {
     "ename": "AssertionError",
     "evalue": "Torch not compiled with CUDA enabled",
     "output_type": "error",
     "traceback": [
      "\u001b[1;31m---------------------------------------------------------------------------\u001b[0m",
      "\u001b[1;31mAssertionError\u001b[0m                            Traceback (most recent call last)",
      "\u001b[1;32m<ipython-input-145-298f8d08c218>\u001b[0m in \u001b[0;36m<module>\u001b[1;34m\u001b[0m\n\u001b[1;32m----> 1\u001b[1;33m \u001b[0mx\u001b[0m \u001b[1;33m=\u001b[0m \u001b[0mx\u001b[0m\u001b[1;33m.\u001b[0m\u001b[0mcuda\u001b[0m\u001b[1;33m(\u001b[0m\u001b[1;33m)\u001b[0m\u001b[1;33m\u001b[0m\u001b[1;33m\u001b[0m\u001b[0m\n\u001b[0m",
      "\u001b[1;32mC:\\ProgramData\\Anaconda3\\lib\\site-packages\\torch\\cuda\\__init__.py\u001b[0m in \u001b[0;36m_lazy_init\u001b[1;34m()\u001b[0m\n\u001b[0;32m    160\u001b[0m         raise RuntimeError(\n\u001b[0;32m    161\u001b[0m             \"Cannot re-initialize CUDA in forked subprocess. \" + msg)\n\u001b[1;32m--> 162\u001b[1;33m     \u001b[0m_check_driver\u001b[0m\u001b[1;33m(\u001b[0m\u001b[1;33m)\u001b[0m\u001b[1;33m\u001b[0m\u001b[1;33m\u001b[0m\u001b[0m\n\u001b[0m\u001b[0;32m    163\u001b[0m     \u001b[0mtorch\u001b[0m\u001b[1;33m.\u001b[0m\u001b[0m_C\u001b[0m\u001b[1;33m.\u001b[0m\u001b[0m_cuda_init\u001b[0m\u001b[1;33m(\u001b[0m\u001b[1;33m)\u001b[0m\u001b[1;33m\u001b[0m\u001b[1;33m\u001b[0m\u001b[0m\n\u001b[0;32m    164\u001b[0m     \u001b[0m_cudart\u001b[0m \u001b[1;33m=\u001b[0m \u001b[0m_load_cudart\u001b[0m\u001b[1;33m(\u001b[0m\u001b[1;33m)\u001b[0m\u001b[1;33m\u001b[0m\u001b[1;33m\u001b[0m\u001b[0m\n",
      "\u001b[1;32mC:\\ProgramData\\Anaconda3\\lib\\site-packages\\torch\\cuda\\__init__.py\u001b[0m in \u001b[0;36m_check_driver\u001b[1;34m()\u001b[0m\n\u001b[0;32m     73\u001b[0m \u001b[1;32mdef\u001b[0m \u001b[0m_check_driver\u001b[0m\u001b[1;33m(\u001b[0m\u001b[1;33m)\u001b[0m\u001b[1;33m:\u001b[0m\u001b[1;33m\u001b[0m\u001b[1;33m\u001b[0m\u001b[0m\n\u001b[0;32m     74\u001b[0m     \u001b[1;32mif\u001b[0m \u001b[1;32mnot\u001b[0m \u001b[0mhasattr\u001b[0m\u001b[1;33m(\u001b[0m\u001b[0mtorch\u001b[0m\u001b[1;33m.\u001b[0m\u001b[0m_C\u001b[0m\u001b[1;33m,\u001b[0m \u001b[1;34m'_cuda_isDriverSufficient'\u001b[0m\u001b[1;33m)\u001b[0m\u001b[1;33m:\u001b[0m\u001b[1;33m\u001b[0m\u001b[1;33m\u001b[0m\u001b[0m\n\u001b[1;32m---> 75\u001b[1;33m         \u001b[1;32mraise\u001b[0m \u001b[0mAssertionError\u001b[0m\u001b[1;33m(\u001b[0m\u001b[1;34m\"Torch not compiled with CUDA enabled\"\u001b[0m\u001b[1;33m)\u001b[0m\u001b[1;33m\u001b[0m\u001b[1;33m\u001b[0m\u001b[0m\n\u001b[0m\u001b[0;32m     76\u001b[0m     \u001b[1;32mif\u001b[0m \u001b[1;32mnot\u001b[0m \u001b[0mtorch\u001b[0m\u001b[1;33m.\u001b[0m\u001b[0m_C\u001b[0m\u001b[1;33m.\u001b[0m\u001b[0m_cuda_isDriverSufficient\u001b[0m\u001b[1;33m(\u001b[0m\u001b[1;33m)\u001b[0m\u001b[1;33m:\u001b[0m\u001b[1;33m\u001b[0m\u001b[1;33m\u001b[0m\u001b[0m\n\u001b[0;32m     77\u001b[0m         \u001b[1;32mif\u001b[0m \u001b[0mtorch\u001b[0m\u001b[1;33m.\u001b[0m\u001b[0m_C\u001b[0m\u001b[1;33m.\u001b[0m\u001b[0m_cuda_getDriverVersion\u001b[0m\u001b[1;33m(\u001b[0m\u001b[1;33m)\u001b[0m \u001b[1;33m==\u001b[0m \u001b[1;36m0\u001b[0m\u001b[1;33m:\u001b[0m\u001b[1;33m\u001b[0m\u001b[1;33m\u001b[0m\u001b[0m\n",
      "\u001b[1;31mAssertionError\u001b[0m: Torch not compiled with CUDA enabled"
     ]
    }
   ],
   "source": [
    "x = x.cuda()"
   ]
  },
  {
   "cell_type": "code",
   "execution_count": 146,
   "metadata": {
    "colab": {
     "base_uri": "https://localhost:8080/",
     "height": 264
    },
    "colab_type": "code",
    "executionInfo": {
     "elapsed": 1460,
     "status": "ok",
     "timestamp": 1572599668481,
     "user": {
      "displayName": "Aleksandr Veselev",
      "photoUrl": "",
      "userId": "06497019213520827031"
     },
     "user_tz": -180
    },
    "id": "ue2SLd9nYKCd",
    "outputId": "fc778b4b-5d15-4b9e-ff5e-2a3bb8ba60f9"
   },
   "outputs": [
    {
     "data": {
      "text/plain": [
       "tensor([[0.6764, 0.7330, 0.4400,  ..., 0.1052, 0.9731, 0.4554],\n",
       "        [0.3554, 0.2025, 0.7941,  ..., 0.8469, 0.0212, 0.8435],\n",
       "        [0.9659, 0.6654, 0.2714,  ..., 0.3324, 0.5882, 0.8457],\n",
       "        ...,\n",
       "        [0.0872, 0.9689, 0.6670,  ..., 0.7070, 0.1467, 0.4895],\n",
       "        [0.0502, 0.1906, 0.4372,  ..., 0.8150, 0.1836, 0.0089],\n",
       "        [0.4885, 0.7832, 0.5167,  ..., 0.8588, 0.8204, 0.4833]])"
      ]
     },
     "execution_count": 146,
     "metadata": {},
     "output_type": "execute_result"
    }
   ],
   "source": [
    "x"
   ]
  },
  {
   "cell_type": "markdown",
   "metadata": {
    "colab_type": "text",
    "id": "dI73B59PYKCg"
   },
   "source": [
    "Let's multiply two tensors on GPU and then move the result on the CPU:"
   ]
  },
  {
   "cell_type": "code",
   "execution_count": 147,
   "metadata": {
    "colab": {},
    "colab_type": "code",
    "id": "KS4QxJJoYKCg"
   },
   "outputs": [
    {
     "ename": "AssertionError",
     "evalue": "Torch not compiled with CUDA enabled",
     "output_type": "error",
     "traceback": [
      "\u001b[1;31m---------------------------------------------------------------------------\u001b[0m",
      "\u001b[1;31mAssertionError\u001b[0m                            Traceback (most recent call last)",
      "\u001b[1;32m<ipython-input-147-fc7240419b7e>\u001b[0m in \u001b[0;36m<module>\u001b[1;34m\u001b[0m\n\u001b[0;32m      1\u001b[0m \u001b[0ma\u001b[0m \u001b[1;33m=\u001b[0m \u001b[0mtorch\u001b[0m\u001b[1;33m.\u001b[0m\u001b[0mFloatTensor\u001b[0m\u001b[1;33m(\u001b[0m\u001b[1;36m10000\u001b[0m\u001b[1;33m,\u001b[0m \u001b[1;36m10000\u001b[0m\u001b[1;33m)\u001b[0m\u001b[1;33m.\u001b[0m\u001b[0muniform_\u001b[0m\u001b[1;33m(\u001b[0m\u001b[1;33m)\u001b[0m\u001b[1;33m\u001b[0m\u001b[1;33m\u001b[0m\u001b[0m\n\u001b[0;32m      2\u001b[0m \u001b[0mb\u001b[0m \u001b[1;33m=\u001b[0m \u001b[0mtorch\u001b[0m\u001b[1;33m.\u001b[0m\u001b[0mFloatTensor\u001b[0m\u001b[1;33m(\u001b[0m\u001b[1;36m10000\u001b[0m\u001b[1;33m,\u001b[0m \u001b[1;36m10000\u001b[0m\u001b[1;33m)\u001b[0m\u001b[1;33m.\u001b[0m\u001b[0muniform_\u001b[0m\u001b[1;33m(\u001b[0m\u001b[1;33m)\u001b[0m\u001b[1;33m\u001b[0m\u001b[1;33m\u001b[0m\u001b[0m\n\u001b[1;32m----> 3\u001b[1;33m \u001b[0mc\u001b[0m \u001b[1;33m=\u001b[0m \u001b[0ma\u001b[0m\u001b[1;33m.\u001b[0m\u001b[0mcuda\u001b[0m\u001b[1;33m(\u001b[0m\u001b[1;33m)\u001b[0m\u001b[1;33m.\u001b[0m\u001b[0mmul\u001b[0m\u001b[1;33m(\u001b[0m\u001b[0mb\u001b[0m\u001b[1;33m.\u001b[0m\u001b[0mcuda\u001b[0m\u001b[1;33m(\u001b[0m\u001b[1;33m)\u001b[0m\u001b[1;33m)\u001b[0m\u001b[1;33m.\u001b[0m\u001b[0mcpu\u001b[0m\u001b[1;33m(\u001b[0m\u001b[1;33m)\u001b[0m\u001b[1;33m\u001b[0m\u001b[1;33m\u001b[0m\u001b[0m\n\u001b[0m",
      "\u001b[1;32mC:\\ProgramData\\Anaconda3\\lib\\site-packages\\torch\\cuda\\__init__.py\u001b[0m in \u001b[0;36m_lazy_init\u001b[1;34m()\u001b[0m\n\u001b[0;32m    160\u001b[0m         raise RuntimeError(\n\u001b[0;32m    161\u001b[0m             \"Cannot re-initialize CUDA in forked subprocess. \" + msg)\n\u001b[1;32m--> 162\u001b[1;33m     \u001b[0m_check_driver\u001b[0m\u001b[1;33m(\u001b[0m\u001b[1;33m)\u001b[0m\u001b[1;33m\u001b[0m\u001b[1;33m\u001b[0m\u001b[0m\n\u001b[0m\u001b[0;32m    163\u001b[0m     \u001b[0mtorch\u001b[0m\u001b[1;33m.\u001b[0m\u001b[0m_C\u001b[0m\u001b[1;33m.\u001b[0m\u001b[0m_cuda_init\u001b[0m\u001b[1;33m(\u001b[0m\u001b[1;33m)\u001b[0m\u001b[1;33m\u001b[0m\u001b[1;33m\u001b[0m\u001b[0m\n\u001b[0;32m    164\u001b[0m     \u001b[0m_cudart\u001b[0m \u001b[1;33m=\u001b[0m \u001b[0m_load_cudart\u001b[0m\u001b[1;33m(\u001b[0m\u001b[1;33m)\u001b[0m\u001b[1;33m\u001b[0m\u001b[1;33m\u001b[0m\u001b[0m\n",
      "\u001b[1;32mC:\\ProgramData\\Anaconda3\\lib\\site-packages\\torch\\cuda\\__init__.py\u001b[0m in \u001b[0;36m_check_driver\u001b[1;34m()\u001b[0m\n\u001b[0;32m     73\u001b[0m \u001b[1;32mdef\u001b[0m \u001b[0m_check_driver\u001b[0m\u001b[1;33m(\u001b[0m\u001b[1;33m)\u001b[0m\u001b[1;33m:\u001b[0m\u001b[1;33m\u001b[0m\u001b[1;33m\u001b[0m\u001b[0m\n\u001b[0;32m     74\u001b[0m     \u001b[1;32mif\u001b[0m \u001b[1;32mnot\u001b[0m \u001b[0mhasattr\u001b[0m\u001b[1;33m(\u001b[0m\u001b[0mtorch\u001b[0m\u001b[1;33m.\u001b[0m\u001b[0m_C\u001b[0m\u001b[1;33m,\u001b[0m \u001b[1;34m'_cuda_isDriverSufficient'\u001b[0m\u001b[1;33m)\u001b[0m\u001b[1;33m:\u001b[0m\u001b[1;33m\u001b[0m\u001b[1;33m\u001b[0m\u001b[0m\n\u001b[1;32m---> 75\u001b[1;33m         \u001b[1;32mraise\u001b[0m \u001b[0mAssertionError\u001b[0m\u001b[1;33m(\u001b[0m\u001b[1;34m\"Torch not compiled with CUDA enabled\"\u001b[0m\u001b[1;33m)\u001b[0m\u001b[1;33m\u001b[0m\u001b[1;33m\u001b[0m\u001b[0m\n\u001b[0m\u001b[0;32m     76\u001b[0m     \u001b[1;32mif\u001b[0m \u001b[1;32mnot\u001b[0m \u001b[0mtorch\u001b[0m\u001b[1;33m.\u001b[0m\u001b[0m_C\u001b[0m\u001b[1;33m.\u001b[0m\u001b[0m_cuda_isDriverSufficient\u001b[0m\u001b[1;33m(\u001b[0m\u001b[1;33m)\u001b[0m\u001b[1;33m:\u001b[0m\u001b[1;33m\u001b[0m\u001b[1;33m\u001b[0m\u001b[0m\n\u001b[0;32m     77\u001b[0m         \u001b[1;32mif\u001b[0m \u001b[0mtorch\u001b[0m\u001b[1;33m.\u001b[0m\u001b[0m_C\u001b[0m\u001b[1;33m.\u001b[0m\u001b[0m_cuda_getDriverVersion\u001b[0m\u001b[1;33m(\u001b[0m\u001b[1;33m)\u001b[0m \u001b[1;33m==\u001b[0m \u001b[1;36m0\u001b[0m\u001b[1;33m:\u001b[0m\u001b[1;33m\u001b[0m\u001b[1;33m\u001b[0m\u001b[0m\n",
      "\u001b[1;31mAssertionError\u001b[0m: Torch not compiled with CUDA enabled"
     ]
    }
   ],
   "source": [
    "a = torch.FloatTensor(10000, 10000).uniform_()\n",
    "b = torch.FloatTensor(10000, 10000).uniform_()\n",
    "c = a.cuda().mul(b.cuda()).cpu()"
   ]
  },
  {
   "cell_type": "code",
   "execution_count": 148,
   "metadata": {
    "colab": {
     "base_uri": "https://localhost:8080/",
     "height": 264
    },
    "colab_type": "code",
    "executionInfo": {
     "elapsed": 964,
     "status": "ok",
     "timestamp": 1572599682176,
     "user": {
      "displayName": "Aleksandr Veselev",
      "photoUrl": "",
      "userId": "06497019213520827031"
     },
     "user_tz": -180
    },
    "id": "1ImlgEbwYKCg",
    "outputId": "291194f8-4e89-4351-9b28-ee08a809d0d1"
   },
   "outputs": [
    {
     "data": {
      "text/plain": [
       "tensor([[0., 1.],\n",
       "        [2., 3.],\n",
       "        [4., 5.],\n",
       "        [6., 7.],\n",
       "        [8., 9.]])"
      ]
     },
     "execution_count": 148,
     "metadata": {},
     "output_type": "execute_result"
    }
   ],
   "source": [
    "c"
   ]
  },
  {
   "cell_type": "code",
   "execution_count": 218,
   "metadata": {
    "colab": {
     "base_uri": "https://localhost:8080/",
     "height": 150
    },
    "colab_type": "code",
    "executionInfo": {
     "elapsed": 851,
     "status": "ok",
     "timestamp": 1572599683806,
     "user": {
      "displayName": "Aleksandr Veselev",
      "photoUrl": "",
      "userId": "06497019213520827031"
     },
     "user_tz": -180
    },
    "id": "4DAN9MhDYKCh",
    "outputId": "b0e59040-55f7-4223-ffb3-a8f4d4127583"
   },
   "outputs": [
    {
     "data": {
      "text/plain": [
       "tensor([[0.4134, 0.7144, 0.3621,  ..., 0.8463, 0.9178, 0.3219],\n",
       "        [0.2326, 0.5165, 0.3940,  ..., 0.9106, 0.6627, 0.2380],\n",
       "        [0.4425, 0.2982, 0.3435,  ..., 0.5108, 0.7118, 0.4837],\n",
       "        ...,\n",
       "        [0.9319, 0.1526, 0.7414,  ..., 0.1972, 0.2364, 0.2674],\n",
       "        [0.0087, 0.1227, 0.0506,  ..., 0.8916, 0.5391, 0.0966],\n",
       "        [0.7177, 0.3744, 0.7303,  ..., 0.7601, 0.4462, 0.9392]])"
      ]
     },
     "execution_count": 218,
     "metadata": {
      "tags": []
     },
     "output_type": "execute_result"
    }
   ],
   "source": [
    "a"
   ]
  },
  {
   "cell_type": "markdown",
   "metadata": {
    "colab_type": "text",
    "id": "xWc-PiA9YKCi"
   },
   "source": [
    "Tensors placed on CPU and tensors placed on GPU are unavailable for each other:"
   ]
  },
  {
   "cell_type": "code",
   "execution_count": 0,
   "metadata": {
    "colab": {},
    "colab_type": "code",
    "id": "1lwV1sgSYKCi"
   },
   "outputs": [],
   "source": [
    "a = torch.FloatTensor(10000, 10000).uniform_().cpu()\n",
    "b = torch.FloatTensor(10000, 10000).uniform_().cuda()"
   ]
  },
  {
   "cell_type": "code",
   "execution_count": 220,
   "metadata": {
    "colab": {
     "base_uri": "https://localhost:8080/",
     "height": 178
    },
    "colab_type": "code",
    "executionInfo": {
     "elapsed": 2391,
     "status": "error",
     "timestamp": 1572599699901,
     "user": {
      "displayName": "Aleksandr Veselev",
      "photoUrl": "",
      "userId": "06497019213520827031"
     },
     "user_tz": -180
    },
    "id": "G6tYdYtTYKCj",
    "outputId": "a480c9b5-1af9-4e24-a455-8db3518752a9"
   },
   "outputs": [
    {
     "ename": "RuntimeError",
     "evalue": "ignored",
     "output_type": "error",
     "traceback": [
      "\u001b[0;31m---------------------------------------------------------------------------\u001b[0m",
      "\u001b[0;31mRuntimeError\u001b[0m                              Traceback (most recent call last)",
      "\u001b[0;32m<ipython-input-220-bd58363a63fc>\u001b[0m in \u001b[0;36m<module>\u001b[0;34m()\u001b[0m\n\u001b[0;32m----> 1\u001b[0;31m \u001b[0ma\u001b[0m \u001b[0;34m+\u001b[0m \u001b[0mb\u001b[0m\u001b[0;34m\u001b[0m\u001b[0;34m\u001b[0m\u001b[0m\n\u001b[0m",
      "\u001b[0;31mRuntimeError\u001b[0m: expected device cpu but got device cuda:0"
     ]
    }
   ],
   "source": [
    "a + b"
   ]
  },
  {
   "cell_type": "markdown",
   "metadata": {
    "colab_type": "text",
    "id": "QEtwaIxDYKCk"
   },
   "source": [
    "Example of working with GPU:"
   ]
  },
  {
   "cell_type": "code",
   "execution_count": 221,
   "metadata": {
    "colab": {
     "base_uri": "https://localhost:8080/",
     "height": 1000
    },
    "colab_type": "code",
    "executionInfo": {
     "elapsed": 857,
     "status": "ok",
     "timestamp": 1572599724366,
     "user": {
      "displayName": "Aleksandr Veselev",
      "photoUrl": "",
      "userId": "06497019213520827031"
     },
     "user_tz": -180
    },
    "id": "bJgVfAbUYKCk",
    "outputId": "e5726884-0284-4939-e60b-c278d4426de6",
    "scrolled": true
   },
   "outputs": [
    {
     "name": "stdout",
     "output_type": "stream",
     "text": [
      "tensor([[[1.6695, 1.9395, 1.4733, 1.6176, 1.3716],\n",
      "         [1.5912, 1.1578, 1.6940, 1.1913, 1.8216],\n",
      "         [1.1387, 1.8160, 1.3657, 1.7954, 1.7290],\n",
      "         [1.0676, 1.2387, 1.0750, 1.7754, 1.3096],\n",
      "         [1.7434, 1.9968, 1.6883, 1.6106, 1.6749]],\n",
      "\n",
      "        [[1.6908, 1.8940, 1.6391, 1.4692, 1.5364],\n",
      "         [1.8591, 1.3123, 1.2625, 1.4673, 1.4177],\n",
      "         [1.7043, 1.5180, 1.1830, 1.9805, 1.8478],\n",
      "         [1.7560, 1.4573, 1.3150, 1.2354, 1.0597],\n",
      "         [1.7357, 1.5306, 1.2359, 1.3097, 1.2323]],\n",
      "\n",
      "        [[1.6483, 1.3895, 1.4038, 1.2873, 1.4304],\n",
      "         [1.6006, 1.1627, 1.2560, 1.9306, 1.7897],\n",
      "         [1.3810, 1.8838, 1.7592, 1.5259, 1.3820],\n",
      "         [1.6131, 1.5177, 1.4783, 1.0457, 1.9967],\n",
      "         [1.6891, 1.1999, 1.8903, 1.5926, 1.3492]],\n",
      "\n",
      "        [[1.3623, 1.2249, 1.4177, 1.2275, 1.3586],\n",
      "         [1.7984, 1.5034, 1.5878, 1.0261, 1.1851],\n",
      "         [1.2084, 1.1202, 1.6084, 1.6668, 1.5333],\n",
      "         [1.4375, 1.9599, 1.8649, 1.8970, 1.3910],\n",
      "         [1.9181, 1.5763, 1.1035, 1.7559, 1.7556]],\n",
      "\n",
      "        [[1.6800, 1.9386, 1.6587, 1.3795, 1.5992],\n",
      "         [1.9473, 1.9754, 1.6725, 1.7549, 1.8363],\n",
      "         [1.4906, 1.7694, 1.8384, 1.1383, 1.4120],\n",
      "         [1.6988, 1.3017, 1.3775, 1.7727, 1.7259],\n",
      "         [1.5891, 1.0546, 1.6424, 1.5741, 1.2986]]], device='cuda:0')\n",
      "tensor([[[1.6695, 1.9395, 1.4733, 1.6176, 1.3716],\n",
      "         [1.5912, 1.1578, 1.6940, 1.1913, 1.8216],\n",
      "         [1.1387, 1.8160, 1.3657, 1.7954, 1.7290],\n",
      "         [1.0676, 1.2387, 1.0750, 1.7754, 1.3096],\n",
      "         [1.7434, 1.9968, 1.6883, 1.6106, 1.6749]],\n",
      "\n",
      "        [[1.6908, 1.8940, 1.6391, 1.4692, 1.5364],\n",
      "         [1.8591, 1.3123, 1.2625, 1.4673, 1.4177],\n",
      "         [1.7043, 1.5180, 1.1830, 1.9805, 1.8478],\n",
      "         [1.7560, 1.4573, 1.3150, 1.2354, 1.0597],\n",
      "         [1.7357, 1.5306, 1.2359, 1.3097, 1.2323]],\n",
      "\n",
      "        [[1.6483, 1.3895, 1.4038, 1.2873, 1.4304],\n",
      "         [1.6006, 1.1627, 1.2560, 1.9306, 1.7897],\n",
      "         [1.3810, 1.8838, 1.7592, 1.5259, 1.3820],\n",
      "         [1.6131, 1.5177, 1.4783, 1.0457, 1.9967],\n",
      "         [1.6891, 1.1999, 1.8903, 1.5926, 1.3492]],\n",
      "\n",
      "        [[1.3623, 1.2249, 1.4177, 1.2275, 1.3586],\n",
      "         [1.7984, 1.5034, 1.5878, 1.0261, 1.1851],\n",
      "         [1.2084, 1.1202, 1.6084, 1.6668, 1.5333],\n",
      "         [1.4375, 1.9599, 1.8649, 1.8970, 1.3910],\n",
      "         [1.9181, 1.5763, 1.1035, 1.7559, 1.7556]],\n",
      "\n",
      "        [[1.6800, 1.9386, 1.6587, 1.3795, 1.5992],\n",
      "         [1.9473, 1.9754, 1.6725, 1.7549, 1.8363],\n",
      "         [1.4906, 1.7694, 1.8384, 1.1383, 1.4120],\n",
      "         [1.6988, 1.3017, 1.3775, 1.7727, 1.7259],\n",
      "         [1.5891, 1.0546, 1.6424, 1.5741, 1.2986]]], dtype=torch.float64)\n"
     ]
    }
   ],
   "source": [
    "x = torch.FloatTensor(5, 5, 5).uniform_()\n",
    "\n",
    "# check for CUDA availability (NVIDIA GPU)\n",
    "if torch.cuda.is_available():\n",
    "    # get the CUDA device name\n",
    "    device = torch.device('cuda')          # CUDA-device object\n",
    "    y = torch.ones_like(x, device=device)  # create a tensor on GPU\n",
    "    x = x.to(device)                       # or just `.to(\"cuda\")`\n",
    "    z = x + y\n",
    "    print(z)\n",
    "    # you can set the type while `.to` operation\n",
    "    print(z.to(\"cpu\", torch.double))"
   ]
  },
  {
   "cell_type": "markdown",
   "metadata": {
    "colab_type": "text",
    "id": "iFg82MJIYKCl"
   },
   "source": [
    "<h3 style=\"text-align: center;\">Autograd<b></b></h3>"
   ]
  },
  {
   "cell_type": "markdown",
   "metadata": {
    "colab_type": "text",
    "id": "udpOWYK-YKCm"
   },
   "source": [
    "The autograd package provides automatic differentiation for all operations on Tensors. It is a define-by-run framework, which means that your backprop is defined by how your code is run, and that every single iteration can be different."
   ]
  },
  {
   "cell_type": "markdown",
   "metadata": {
    "colab_type": "text",
    "id": "OAfNuSknYKCm"
   },
   "source": [
    "Importing the `Variable()` class:"
   ]
  },
  {
   "cell_type": "code",
   "execution_count": 149,
   "metadata": {
    "colab": {},
    "colab_type": "code",
    "id": "PJdDG51vYKCm"
   },
   "outputs": [],
   "source": [
    "from torch.autograd import Variable"
   ]
  },
  {
   "cell_type": "markdown",
   "metadata": {
    "colab_type": "text",
    "id": "dZzZFE-0YKCm"
   },
   "source": [
    "Now we will convert `torch.Tensor()` into `torch.Variable()` and we will get just the same tensor but the possibility to calculate the gradients with respect to this tensor."
   ]
  },
  {
   "cell_type": "markdown",
   "metadata": {
    "colab_type": "text",
    "id": "VzMGFf1xYKCm"
   },
   "source": [
    "If `а` is a tensor wrapped into `Variable()`, then `a.backward()` calculates the gradients with respect to all the tensors on which the tensor `a` depends."
   ]
  },
  {
   "cell_type": "markdown",
   "metadata": {
    "colab_type": "text",
    "id": "bTVyleFWYKCn"
   },
   "source": [
    "**Note:** If you use `pytorch 0.4.0` version (or newer), then `torch.Tensor` and `torch.Variable()` were merged into `torch.Tensor`, so one doesn't need to use `Variable()` any more. (`torch.Variable()` is deprecated)."
   ]
  },
  {
   "cell_type": "markdown",
   "metadata": {
    "colab_type": "text",
    "id": "AEDz971fYKCn"
   },
   "source": [
    "The examples:"
   ]
  },
  {
   "cell_type": "code",
   "execution_count": 150,
   "metadata": {
    "colab": {},
    "colab_type": "code",
    "id": "lcDl5T-rDK0J"
   },
   "outputs": [],
   "source": [
    "from torch.autograd import Variable"
   ]
  },
  {
   "cell_type": "code",
   "execution_count": 151,
   "metadata": {
    "colab": {},
    "colab_type": "code",
    "id": "rYWqXsAjYKCn"
   },
   "outputs": [],
   "source": [
    "dtype = torch.float\n",
    "device = torch.device(\"cpu\")\n",
    "# device = torch.device(\"cuda:0\") # Uncomment this to run on GPU\n",
    "\n",
    "# N is batch size; D_in is input dimension;\n",
    "# H is hidden dimension; D_out is output dimension.\n",
    "N, D_in, H, D_out = 64, 3, 3, 10\n",
    "\n",
    "# Create random Tensors to hold input and outputs.\n",
    "# Setting requires_grad=False indicates that we do not need to compute gradients\n",
    "# with respect to these Tensors during the backward pass.\n",
    "x = torch.randn(N, D_in, device=device, dtype=dtype)\n",
    "y = torch.randn(N, D_out, device=device, dtype=dtype)\n",
    "\n",
    "# Create random Tensors for weights.\n",
    "# Setting requires_grad=True indicates that we want to compute gradients with\n",
    "# respect to these Tensors during the backward pass.\n",
    "w1 = torch.randn(D_in, H, device=device, dtype=dtype, requires_grad=True)\n",
    "w2 = torch.randn(H, D_out, device=device, dtype=dtype, requires_grad=True)\n",
    "\n",
    "# x = torch.FloatTensor(3, 1).uniform_()\n",
    "# y = torch.FloatTensor(3, 1).uniform_()\n",
    "# w = torch.FloatTensor(3, 3).uniform_() \n",
    "# b = torch.FloatTensor(3, 1).uniform_()\n",
    "\n",
    "# x = Variable(x, requires_grad=True)\n",
    "# y = Variable(x, requires_grad=False)\n",
    "# w = Variable(w, requires_grad=True)\n",
    "# b = Variable(b, requires_grad=True)\n",
    "\n",
    "y_pred = (x @ w1).clamp(min=0).mm(w2)\n",
    "\n",
    "loss = (y_pred - y).pow(2).sum()\n",
    "# calculate the gradients\n",
    "loss.backward()"
   ]
  },
  {
   "cell_type": "code",
   "execution_count": 152,
   "metadata": {
    "colab": {
     "base_uri": "https://localhost:8080/",
     "height": 36
    },
    "colab_type": "code",
    "executionInfo": {
     "elapsed": 876,
     "status": "ok",
     "timestamp": 1572601675555,
     "user": {
      "displayName": "Aleksandr Veselev",
      "photoUrl": "",
      "userId": "06497019213520827031"
     },
     "user_tz": -180
    },
    "id": "T3vfuF-wXS8O",
    "outputId": "c7da045d-80b7-4f54-c141-732ffa745d9d"
   },
   "outputs": [
    {
     "name": "stdout",
     "output_type": "stream",
     "text": [
      "tensor(9254.7539)\n"
     ]
    }
   ],
   "source": [
    "print( Variable((y_pred - y).pow(2).sum()) )"
   ]
  },
  {
   "cell_type": "code",
   "execution_count": 153,
   "metadata": {
    "colab": {},
    "colab_type": "code",
    "id": "jr19Gh3ZU2Ws"
   },
   "outputs": [],
   "source": [
    "loss.grad"
   ]
  },
  {
   "cell_type": "code",
   "execution_count": 154,
   "metadata": {
    "colab": {
     "base_uri": "https://localhost:8080/",
     "height": 74
    },
    "colab_type": "code",
    "executionInfo": {
     "elapsed": 895,
     "status": "ok",
     "timestamp": 1572601707655,
     "user": {
      "displayName": "Aleksandr Veselev",
      "photoUrl": "",
      "userId": "06497019213520827031"
     },
     "user_tz": -180
    },
    "id": "qLkn5C7JYKCp",
    "outputId": "14cb0d87-6386-47ca-c061-328f63360c09"
   },
   "outputs": [
    {
     "data": {
      "text/plain": [
       "tensor([[ 925.8430, -715.0887,  206.2299],\n",
       "        [4625.8887, 2422.7463,  -64.6453],\n",
       "        [2028.0885,   50.7381,  -83.8440]])"
      ]
     },
     "execution_count": 154,
     "metadata": {},
     "output_type": "execute_result"
    }
   ],
   "source": [
    "w1.grad"
   ]
  },
  {
   "cell_type": "code",
   "execution_count": 155,
   "metadata": {
    "colab": {},
    "colab_type": "code",
    "id": "CYkrFbD5YKCq"
   },
   "outputs": [],
   "source": [
    "b.grad"
   ]
  },
  {
   "cell_type": "code",
   "execution_count": 156,
   "metadata": {
    "colab": {},
    "colab_type": "code",
    "id": "ouMNnbtXYKCr"
   },
   "outputs": [],
   "source": [
    "y.grad"
   ]
  },
  {
   "cell_type": "code",
   "execution_count": 157,
   "metadata": {
    "colab": {
     "base_uri": "https://localhost:8080/",
     "height": 36
    },
    "colab_type": "code",
    "executionInfo": {
     "elapsed": 1046,
     "status": "ok",
     "timestamp": 1572601165343,
     "user": {
      "displayName": "Aleksandr Veselev",
      "photoUrl": "",
      "userId": "06497019213520827031"
     },
     "user_tz": -180
    },
    "id": "MgUAuK6LbdU1",
    "outputId": "caea9b3a-b39c-44a6-9740-b50df3a9389b"
   },
   "outputs": [],
   "source": [
    "loss.grad"
   ]
  },
  {
   "cell_type": "markdown",
   "metadata": {
    "colab_type": "text",
    "id": "DIsqxWIvYKCs"
   },
   "source": [
    "**NOTE:** the gradients are placed into the `.grad` field of tensors (variables) on which gradients were calculated. Gradients *are not placed* in the variable `loss` here!"
   ]
  },
  {
   "cell_type": "markdown",
   "metadata": {
    "colab_type": "text",
    "id": "Nf2xLNDgYKCs"
   },
   "source": [
    "Here is how to get `torch.Tensor()` from the `Variable()` (`.data` field):"
   ]
  },
  {
   "cell_type": "code",
   "execution_count": 158,
   "metadata": {
    "colab": {
     "base_uri": "https://localhost:8080/",
     "height": 74
    },
    "colab_type": "code",
    "executionInfo": {
     "elapsed": 476,
     "status": "ok",
     "timestamp": 1572600458151,
     "user": {
      "displayName": "Aleksandr Veselev",
      "photoUrl": "",
      "userId": "06497019213520827031"
     },
     "user_tz": -180
    },
    "id": "5wU_TFedYKCt",
    "outputId": "faf34591-789b-4d41-fc00-5d5c740f1ece"
   },
   "outputs": [
    {
     "data": {
      "text/plain": [
       "tensor([[ 2.6161, -1.1276,  0.1437],\n",
       "        [ 1.4647, -0.9272,  0.7040],\n",
       "        [-0.9664,  1.7427,  0.9931],\n",
       "        [-0.3304,  1.4716,  0.4710],\n",
       "        [ 0.8365,  0.6276,  1.3592],\n",
       "        [ 0.6006,  1.6157, -1.0416],\n",
       "        [-0.2507, -1.3446,  0.2688],\n",
       "        [-0.7753, -0.6941,  0.3525],\n",
       "        [ 1.0023, -0.4212, -0.6244],\n",
       "        [ 0.4109,  2.3053,  0.5356],\n",
       "        [-0.5320,  0.2670, -1.0922],\n",
       "        [ 1.4956, -2.9413,  1.7375],\n",
       "        [ 0.3156,  0.1543, -0.0908],\n",
       "        [ 2.0881,  0.8399,  0.5710],\n",
       "        [ 2.5749, -1.1084, -0.0941],\n",
       "        [-2.2383,  2.4053,  0.0514],\n",
       "        [-0.8988,  2.0671,  0.3352],\n",
       "        [ 0.0438,  0.5800, -0.4143],\n",
       "        [-0.4456,  0.2334, -0.3863],\n",
       "        [-0.4694, -1.0978, -0.0068],\n",
       "        [-0.4735,  0.9107,  0.9864],\n",
       "        [ 1.0688,  0.0765,  1.5109],\n",
       "        [-0.4808,  0.4545,  0.2258],\n",
       "        [-1.1842,  1.2845,  0.0327],\n",
       "        [ 0.8949,  0.0933,  1.8347],\n",
       "        [-1.7118, -0.1355, -1.2798],\n",
       "        [ 1.6152,  1.2709,  2.0281],\n",
       "        [-1.8097,  2.1313,  0.1485],\n",
       "        [-1.5191,  0.3661, -0.2506],\n",
       "        [-0.6032, -0.2066,  0.8499],\n",
       "        [ 0.2845, -0.5418,  0.5386],\n",
       "        [-1.1629,  0.8480,  0.8181],\n",
       "        [-0.7453,  1.6791,  0.5313],\n",
       "        [ 0.5932,  1.3755,  1.1043],\n",
       "        [-0.2087, -0.4462, -1.1188],\n",
       "        [ 0.6507, -0.1023, -0.1154],\n",
       "        [-1.2553, -0.4789,  1.6390],\n",
       "        [-1.6548, -0.9151, -0.9781],\n",
       "        [-0.2156,  1.1138, -1.2120],\n",
       "        [-1.6849,  2.4541,  0.1371],\n",
       "        [-0.6767, -0.0566, -0.1474],\n",
       "        [-1.0956,  1.9335, -0.1909],\n",
       "        [-1.0213, -0.0917,  0.3612],\n",
       "        [-0.5638,  0.2257, -1.6212],\n",
       "        [ 1.8351, -0.2874, -0.9974],\n",
       "        [ 0.8611, -1.0400, -1.6073],\n",
       "        [-1.4275,  1.4730, -0.6390],\n",
       "        [ 0.3653,  1.0502, -1.4174],\n",
       "        [-1.6814,  0.3860,  0.1646],\n",
       "        [-1.3740, -1.2212, -0.5214],\n",
       "        [ 1.1933,  1.6418, -0.5985],\n",
       "        [ 0.5471,  0.9691,  0.2939],\n",
       "        [ 0.3423,  3.1460,  3.0374],\n",
       "        [ 0.2807,  1.4720,  0.2988],\n",
       "        [ 0.4645, -0.1983, -0.3686],\n",
       "        [-0.8706, -1.6183,  0.2420],\n",
       "        [ 0.9381, -1.4296, -0.7542],\n",
       "        [ 1.2890, -1.3817,  0.2638],\n",
       "        [ 0.1266, -1.7077,  0.1947],\n",
       "        [ 0.3252, -0.5605, -1.0479],\n",
       "        [-1.8973,  0.6063,  0.4626],\n",
       "        [ 0.8527,  1.5424, -1.1201],\n",
       "        [ 0.6460,  1.2194, -1.8112],\n",
       "        [-1.7265,  1.0902,  2.0878]])"
      ]
     },
     "execution_count": 158,
     "metadata": {},
     "output_type": "execute_result"
    }
   ],
   "source": [
    "x"
   ]
  },
  {
   "cell_type": "code",
   "execution_count": 159,
   "metadata": {
    "colab": {
     "base_uri": "https://localhost:8080/",
     "height": 74
    },
    "colab_type": "code",
    "executionInfo": {
     "elapsed": 1047,
     "status": "ok",
     "timestamp": 1572600403996,
     "user": {
      "displayName": "Aleksandr Veselev",
      "photoUrl": "",
      "userId": "06497019213520827031"
     },
     "user_tz": -180
    },
    "id": "_NnBKF9kYKCt",
    "outputId": "d9a96939-b512-41e4-d7c6-cf605d9fecee"
   },
   "outputs": [
    {
     "data": {
      "text/plain": [
       "tensor([[ 2.6161, -1.1276,  0.1437],\n",
       "        [ 1.4647, -0.9272,  0.7040],\n",
       "        [-0.9664,  1.7427,  0.9931],\n",
       "        [-0.3304,  1.4716,  0.4710],\n",
       "        [ 0.8365,  0.6276,  1.3592],\n",
       "        [ 0.6006,  1.6157, -1.0416],\n",
       "        [-0.2507, -1.3446,  0.2688],\n",
       "        [-0.7753, -0.6941,  0.3525],\n",
       "        [ 1.0023, -0.4212, -0.6244],\n",
       "        [ 0.4109,  2.3053,  0.5356],\n",
       "        [-0.5320,  0.2670, -1.0922],\n",
       "        [ 1.4956, -2.9413,  1.7375],\n",
       "        [ 0.3156,  0.1543, -0.0908],\n",
       "        [ 2.0881,  0.8399,  0.5710],\n",
       "        [ 2.5749, -1.1084, -0.0941],\n",
       "        [-2.2383,  2.4053,  0.0514],\n",
       "        [-0.8988,  2.0671,  0.3352],\n",
       "        [ 0.0438,  0.5800, -0.4143],\n",
       "        [-0.4456,  0.2334, -0.3863],\n",
       "        [-0.4694, -1.0978, -0.0068],\n",
       "        [-0.4735,  0.9107,  0.9864],\n",
       "        [ 1.0688,  0.0765,  1.5109],\n",
       "        [-0.4808,  0.4545,  0.2258],\n",
       "        [-1.1842,  1.2845,  0.0327],\n",
       "        [ 0.8949,  0.0933,  1.8347],\n",
       "        [-1.7118, -0.1355, -1.2798],\n",
       "        [ 1.6152,  1.2709,  2.0281],\n",
       "        [-1.8097,  2.1313,  0.1485],\n",
       "        [-1.5191,  0.3661, -0.2506],\n",
       "        [-0.6032, -0.2066,  0.8499],\n",
       "        [ 0.2845, -0.5418,  0.5386],\n",
       "        [-1.1629,  0.8480,  0.8181],\n",
       "        [-0.7453,  1.6791,  0.5313],\n",
       "        [ 0.5932,  1.3755,  1.1043],\n",
       "        [-0.2087, -0.4462, -1.1188],\n",
       "        [ 0.6507, -0.1023, -0.1154],\n",
       "        [-1.2553, -0.4789,  1.6390],\n",
       "        [-1.6548, -0.9151, -0.9781],\n",
       "        [-0.2156,  1.1138, -1.2120],\n",
       "        [-1.6849,  2.4541,  0.1371],\n",
       "        [-0.6767, -0.0566, -0.1474],\n",
       "        [-1.0956,  1.9335, -0.1909],\n",
       "        [-1.0213, -0.0917,  0.3612],\n",
       "        [-0.5638,  0.2257, -1.6212],\n",
       "        [ 1.8351, -0.2874, -0.9974],\n",
       "        [ 0.8611, -1.0400, -1.6073],\n",
       "        [-1.4275,  1.4730, -0.6390],\n",
       "        [ 0.3653,  1.0502, -1.4174],\n",
       "        [-1.6814,  0.3860,  0.1646],\n",
       "        [-1.3740, -1.2212, -0.5214],\n",
       "        [ 1.1933,  1.6418, -0.5985],\n",
       "        [ 0.5471,  0.9691,  0.2939],\n",
       "        [ 0.3423,  3.1460,  3.0374],\n",
       "        [ 0.2807,  1.4720,  0.2988],\n",
       "        [ 0.4645, -0.1983, -0.3686],\n",
       "        [-0.8706, -1.6183,  0.2420],\n",
       "        [ 0.9381, -1.4296, -0.7542],\n",
       "        [ 1.2890, -1.3817,  0.2638],\n",
       "        [ 0.1266, -1.7077,  0.1947],\n",
       "        [ 0.3252, -0.5605, -1.0479],\n",
       "        [-1.8973,  0.6063,  0.4626],\n",
       "        [ 0.8527,  1.5424, -1.1201],\n",
       "        [ 0.6460,  1.2194, -1.8112],\n",
       "        [-1.7265,  1.0902,  2.0878]])"
      ]
     },
     "execution_count": 159,
     "metadata": {},
     "output_type": "execute_result"
    }
   ],
   "source": [
    "x.data"
   ]
  },
  {
   "cell_type": "markdown",
   "metadata": {
    "colab_type": "text",
    "id": "J094WEHQYKCv"
   },
   "source": [
    "<h3 style=\"text-align: center;\">Further reading:<b></b></h3>"
   ]
  },
  {
   "cell_type": "markdown",
   "metadata": {
    "colab_type": "text",
    "id": "ftVUTfvUYKCv"
   },
   "source": [
    "*1). Official PyTorch tutorials: https://pytorch.org/tutorials/beginner/blitz/tensor_tutorial.html#sphx-glr-beginner-blitz-tensor-tutorial-py*"
   ]
  },
  {
   "cell_type": "markdown",
   "metadata": {
    "colab_type": "text",
    "id": "ovymy5F6YKCw"
   },
   "source": [
    "*2). arXiv article about the deep learning frameworks comparison: https://arxiv.org/pdf/1511.06435.pdf*"
   ]
  },
  {
   "cell_type": "markdown",
   "metadata": {
    "colab_type": "text",
    "id": "VXEEowQAYKCx"
   },
   "source": [
    "*3). Useful repo with different tutorials: https://github.com/yunjey/pytorch-tutorial*"
   ]
  },
  {
   "cell_type": "markdown",
   "metadata": {
    "colab_type": "text",
    "id": "9cROZcrYYKC0"
   },
   "source": [
    "*4). Facebook AI Research (main contributor of PyTorch) website: https://facebook.ai/developers/tools*"
   ]
  }
 ],
 "metadata": {
  "accelerator": "GPU",
  "colab": {
   "collapsed_sections": [],
   "name": "[seminar,prodv]6_pytorch_basics.ipynb",
   "provenance": [
    {
     "file_id": "1xBkndRb9dYUgCtS98x2bCF170VFMMubl",
     "timestamp": 1572021903909
    }
   ]
  },
  "kernelspec": {
   "display_name": "Python 3",
   "language": "python",
   "name": "python3"
  },
  "language_info": {
   "codemirror_mode": {
    "name": "ipython",
    "version": 3
   },
   "file_extension": ".py",
   "mimetype": "text/x-python",
   "name": "python",
   "nbconvert_exporter": "python",
   "pygments_lexer": "ipython3",
   "version": "3.7.3"
  }
 },
 "nbformat": 4,
 "nbformat_minor": 1
}
