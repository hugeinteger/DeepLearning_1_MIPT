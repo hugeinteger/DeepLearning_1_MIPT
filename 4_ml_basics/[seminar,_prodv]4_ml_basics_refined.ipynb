{
 "cells": [
  {
   "cell_type": "markdown",
   "metadata": {
    "colab_type": "text",
    "id": "wU-s4PgBFoRY"
   },
   "source": [
    "<p style=\"align: center;\"><img src=\"https://static.tildacdn.com/tild6636-3531-4239-b465-376364646465/Deep_Learning_School.png\" width=\"300\"></p>\n",
    "\n",
    "<h3 style=\"text-align: center;\"><b>Физтех-Школа Прикладной математики и информатики (ФПМИ) МФТИ</b></h3>"
   ]
  },
  {
   "cell_type": "markdown",
   "metadata": {
    "colab_type": "text",
    "id": "datr8Mp5FoRf"
   },
   "source": [
    "---"
   ]
  },
  {
   "cell_type": "markdown",
   "metadata": {
    "colab_type": "text",
    "id": "GEmhGa2kFoRi"
   },
   "source": [
    "В этом ноутбке будет рассказано об основах машинного обучения."
   ]
  },
  {
   "cell_type": "markdown",
   "metadata": {
    "colab_type": "text",
    "id": "ZRDXUuj7FoRo"
   },
   "source": [
    "# 1. Основные понятия и пример"
   ]
  },
  {
   "cell_type": "markdown",
   "metadata": {
    "colab_type": "text",
    "id": "r42wjO9XFoRr"
   },
   "source": [
    "Машинное обучение -- наука о восстановлении закономерностей по частным данным. Рассмотрим на примере, что под этим имеется в виду."
   ]
  },
  {
   "cell_type": "markdown",
   "metadata": {
    "colab_type": "text",
    "id": "jjnobv6mFoRt"
   },
   "source": [
    "<img src=\"https://fm.cnbc.com/applications/cnbc.com/resources/img/editorial/2013/06/14/100816105-157952284.1910x1000.jpg\" width=400>"
   ]
  },
  {
   "cell_type": "markdown",
   "metadata": {
    "colab_type": "text",
    "id": "ZhJJpOEqFoRx"
   },
   "source": [
    "Предположим, что Вы -- начинающий фермер-любитель, и занимаетесь выращиванием картофеля. Ваш огород разделён на несколько участков, и уже прошёл месяц с того момента, как Вы посадили картофель. К сожалению, в этом году особенно много колорадских жуков, а оставшегося у Вас средства от вредителей хватит только на один из этих участков. Жуки очень очень его боятся, и трогать обработанный участок не будут. Однако все остальные картофельные кусты они съедят подчистую. Поэтому Вы хотите узнать, какой из участков принёсёт Вам больше всего килограмм картофеля."
   ]
  },
  {
   "cell_type": "markdown",
   "metadata": {
    "colab_type": "text",
    "id": "C0AcmpOwFoRz"
   },
   "source": [
    "Иными словами, Вы хотите по каждому из участков научится определять, сколько картофеля он принесёт. Однако, к Вашему сожалению, Вы не имеете никакого понятия, от чего это может зависеть. Однако, к Вашему счастью, в прошлом году Вы, по какой-то причине, решили измерить площадь и число кустов картофеля на каждом из участков на соседнем огороде, а также записали, каков был урожай на каждом из них. Если бы Вы могли, **используя эти данные, восстановить закон**, по которому площадь и число кустов на участке переходит в киллограмы картофеля, то Ваш урожай был бы спасён!"
   ]
  },
  {
   "cell_type": "markdown",
   "metadata": {
    "colab_type": "text",
    "id": "0EVF3F4FFoR3"
   },
   "source": [
    "## 1.1 Термины"
   ]
  },
  {
   "cell_type": "markdown",
   "metadata": {
    "colab_type": "text",
    "id": "aAoesGSCFoR7"
   },
   "source": [
    "Формулируя задачу в терминах машинного обучения, множество участков с картофелем (как наших, так и соседа) будет называться *пространством объектов*, и обозначаться через $\\mathbb{X}$ (обратите внимание на шрифт). А величина, которую мы хотим научиться определять -- в данном случае, количество килограмм картофеля при сборе урожая -- *целевой переменной*. Множество значений целевой переменной -- в данном случае, это вещественные неотрицательные числа -- обозначается через $\\mathbb{Y}$."
   ]
  },
  {
   "cell_type": "markdown",
   "metadata": {
    "colab_type": "text",
    "id": "caTkMvr_FoR-"
   },
   "source": [
    "Множество объектов, для которых нам известно значение целевой переменной -- в данном случае \n",
    "это множество участков на соседнем огороде -- называются *обучающей выборкой*,  для которой используется обозначение $X = \\{ x_1, \\ldots, x_n\\}$, где $x_i$ -- это участок $i$. Соответственно, значения целевой переменной $y_1, \\ldots, y_n$ -- объёмы урожая на каждом из этих участков."
   ]
  },
  {
   "cell_type": "markdown",
   "metadata": {
    "colab_type": "text",
    "id": "0YzrXv9KFoSB"
   },
   "source": [
    "Непонятно, как можно построить формальный закон, оперируя такими неясными с математической точки зрения объектами как участок с картофелем. Поэтому каждому объекту выборки соотносят набор параметров, который этот объект описывает, который называют *вектором признаков*. В нашем примере это -- площадь участка и число кустов на нём. Обычно объект отождествляют с его вектором признаков, поэтому будем считать, что $x_i$ -- это набор признаков объекта $i$."
   ]
  },
  {
   "cell_type": "markdown",
   "metadata": {
    "colab_type": "text",
    "id": "4INRLM1SFoSC"
   },
   "source": [
    "Цель задачи машинного обучения -- найти такую функцию $f$, переводящую вектор признаков в целевую переменную -- площадь и число кустов в число киллограммов -- что её значение будут \"наиболее близко\" приближать истинные значения целевой переменной. Такая функция $f$ называется *моделью*. Конечно, в идеале нам хотелось бы, чтобы $f$ всегда давала точный ответ, но такой точности почти никогда не получается добиться.  "
   ]
  },
  {
   "cell_type": "markdown",
   "metadata": {
    "colab_type": "text",
    "id": "2Z44-L5aFoSE"
   },
   "source": [
    "Но что означает \"наиболее близко\"? Которая ошибается не больше, чем 1 киллограмм? Но таких функций может быть много. Какую из них выбрать?"
   ]
  },
  {
   "cell_type": "markdown",
   "metadata": {
    "colab_type": "text",
    "id": "rFwbgrROFoSG"
   },
   "source": [
    "Заметим, что судить о \"точности\" нашей модели мы можем только по обучающей выборке, так как только для неё мы знаем истинные ответы. Поэтому в машинном обучении используется подход, основанный на так называемой *функции потерь*."
   ]
  },
  {
   "cell_type": "markdown",
   "metadata": {
    "colab_type": "text",
    "id": "zncEp_xTFoSI"
   },
   "source": [
    "Функция потерь $L(f, X, y)$ даёт нам численную оценку \"точности\" нашей модели на выборке $X$. То есть, формально говоря, она сопоставляет паре из модели и выборки число. Очень часто используется так называемая среднеквадратичная ошибка:\n",
    "$$\n",
    "    L(f, X, y) = \\frac{1}{n}\\sum\\limits_{i=1}^{n} (f(x_i) - y_i)^2\n",
    "$$"
   ]
  },
  {
   "cell_type": "markdown",
   "metadata": {
    "colab_type": "text",
    "id": "DDUjdRBqFoSK"
   },
   "source": [
    "Весьма логично было бы взять такую функцию $f$, для которой значение функции потерь было бы минимальным. Но тут нас встречает ещё она проблема. В принципе, никто не мешает нам взять такую функцию $f$, что её значение на векторах из обучающей выборки будут в точности равны целевой переменной, а на всех остальных -- $0$. Однако пользы от такой модели никакой, поскольку когда мы попытаемся предсказать с её помощью значение $y$ на новых данных, мы получим $0$."
   ]
  },
  {
   "cell_type": "markdown",
   "metadata": {
    "colab_type": "text",
    "id": "86nffGYnFoSN"
   },
   "source": [
    "Поэтому множество всех возможных моделей ограничивают каким-то семейством (множеством) $\\mathcal{A}$, в котором потом и ищут наилучшую модель."
   ]
  },
  {
   "cell_type": "markdown",
   "metadata": {
    "colab_type": "text",
    "id": "rWuib9DSFoSQ"
   },
   "source": [
    "Таким образом, в общей форме задача машинного обучения звучит так: найти такую функцию $f$ из $\\mathcal{A}$, что значение функции потерь $L$ на выборке $X, y$ было бы минимальным, или\n",
    "$$\n",
    "    f* = \\arg \\min_{f \\in \\mathcal{A}} L(f, X, y)\n",
    "$$\n",
    "Задачи такого рода называются задачами оптимизации, или минимизации."
   ]
  },
  {
   "cell_type": "markdown",
   "metadata": {
    "colab_type": "text",
    "id": "OzcCkLBUFoST"
   },
   "source": [
    "Обычно семейство $\\mathcal{A}$ можно параметризовать, то есть поставить в соответствие каждой модели из $\\mathcal{A}$ какое-то число или вектор из чисел $w$. Тогда соответствующая задача оптимизации будет выглядеть следующим образом:\n",
    "$$\n",
    "    w* = \\arg \\min_{w \\in \\mathbb{W}} L(f_w, X, y)\n",
    "$$"
   ]
  },
  {
   "cell_type": "markdown",
   "metadata": {
    "colab_type": "text",
    "id": "_3cId_9vFoSV"
   },
   "source": [
    "## 1.2 Пример"
   ]
  },
  {
   "cell_type": "markdown",
   "metadata": {
    "colab_type": "text",
    "id": "jhdwNf05FoSa"
   },
   "source": [
    "Разберём это на нашем примере. В нашем примере вектор признаков -- это пара из площади и числа кустов, которые обозначим за $s_i$ и $k_i$. В качестве функции потерь будем рассматривать среднеквадратичную ошибку. Наконец, в качестве множества $\\mathcal{A}$ будем использовать *линейные модели*, то есть функции вида:\n",
    "$$\n",
    "    f(s, k) = a + bs + ck\n",
    "$$\n",
    "где $a, b, c$ -- произвольные вещественные числа.\n",
    "\n",
    "Заметим, что на таком множестве можно ввести очень естественную параметризацию, а именно $w \\in \\mathbb{R}^3$:\n",
    "$$\n",
    "    f_w(s, k) = w_0 + w_1s + w_2k\n",
    "$$\n",
    "Отметим, что зачастую параметр $w$ записывают как аргумент для функции $f$:\n",
    "$$\n",
    "    f(w, s, k) = w_0 + w_1s + w_2k\n",
    "$$\n",
    "Пожалуйста, будте внимательны и не путайте параметры и аргументы функции."
   ]
  },
  {
   "cell_type": "markdown",
   "metadata": {
    "colab_type": "text",
    "id": "b9xku2eyFoSd"
   },
   "source": [
    "Теперь запишем это в виде задачи оптимизации:\n",
    "$$\n",
    "    w* = \\arg \\min_{w \\in \\mathbb{R}^3} L(f_w, X, y) = \n",
    "    \\arg \\min_{w \\in \\mathbb{R}^3}  \\frac{1}{n} \\sum\\limits_{i=1}^{n}(f_w(x_i) - y_i)^2 =\n",
    "    \\arg \\min_{w \\in \\mathbb{R}^3}  \\frac{1}{n} \\sum\\limits_{i=1}^{n}(w_0 + w_1s + w_2k - y_i)^2\n",
    "$$"
   ]
  },
  {
   "cell_type": "markdown",
   "metadata": {
    "colab_type": "text",
    "id": "vYEajIvaFoSf"
   },
   "source": [
    "### 1.2.1 А как найти минимум?"
   ]
  },
  {
   "cell_type": "markdown",
   "metadata": {
    "colab_type": "text",
    "id": "7cI0laFGFoSi"
   },
   "source": [
    "В самом деле, всё что нас отделяет от успеха -- это, собственно, поиск минимума. К сожалению, в общем случае выписать явную формулу не удаётся, и приходится использовать приближённые методы -- такие, как градиентный спуск. Вообще, методы оптимизации -- это отдельная большая наука. Но, тем не менее, если достаточно сильно упростить задачу, решить её сможет любой школьник."
   ]
  },
  {
   "cell_type": "markdown",
   "metadata": {
    "colab_type": "text",
    "id": "76fG7N42FoSj"
   },
   "source": [
    "###  1.2.2 Очень простой пример"
   ]
  },
  {
   "cell_type": "markdown",
   "metadata": {
    "colab_type": "text",
    "id": "sepCjXErFoSm"
   },
   "source": [
    "Упростим постановку задачи, упростив множество $\\mathcal{A}$. В принципе, никто не запрещает нам игнорировать один из наших признаков -- скажем, число кустов. Также избавимся от свободного члена $w_0$. Тогда наша функция приобретёт вид\n",
    "$$\n",
    "f_w(s) = ws, w \\in \\mathbb{R}\n",
    "$$\n",
    "Подставим это в функцию потерь.\n",
    "$$\n",
    "L(w, X) = \\frac{1}{n} \\sum\\limits_{i=1}^{n} (ws_i - y_i)^2\n",
    "$$\n",
    "Раскроем скобки\n",
    "$$\n",
    "L(w, X) = \\frac{1}{n} \\sum\\limits_{i=1}^{n} (s_i^2 w^2 - 2 y_i s_i w + y_i^2)\n",
    "$$\n",
    "Перегруппируем слагаемые\n",
    "$$\n",
    "L(w, X) = \\frac{1}{n}( \\sum\\limits_{i=1}^{n} (s_i^2) w^2 - \\sum\\limits_{i=1}^{n}(2 y_i s_i) w + \\sum\\limits_{i=1}^{n} (y_i^2))\n",
    "$$\n",
    "Теперь обозначим $a = \\frac{1}{n} \\sum\\limits_{i=1}^{n} (s_i^2) $, $b = -\\frac{1}{n} \\sum\\limits_{i=1}^{n}(2 y_i s_i)$, $c = \\frac{1}{n} \\sum\\limits_{i=1}^{n} (y_i^2)$. Таким образом\n",
    "$$\n",
    "L(w, X) = aw^2 + bw + c\n",
    "$$\n",
    "Как мы видим, мы получили обычный квадратный трёхчлен от $w$. Как всем известно, если $a > 0$ (что, как можно видеть, в данном случае выполняется), то его минимум достигается в точке \n",
    "$$\n",
    "w^* = \\frac{-b}{2a} = \\frac{\\frac{1}{n} \\sum\\limits_{i=1}^{n}2 y_i s_i}{\\frac{2}{n} \\sum\\limits_{i=1}^{n} s_i^2} = \n",
    "\\frac{\\sum\\limits_{i=1}^{n}y_i s_i}{\\sum\\limits_{i=1}^{n} s_i^2} \n",
    "$$"
   ]
  },
  {
   "cell_type": "markdown",
   "metadata": {
    "colab_type": "text",
    "id": "AhmQVUPSFoSn"
   },
   "source": [
    "К сожалению, очевидно, что сколь-нибудь нетривиальную зависимость выразить таким способов не выдет, однако даже это хороший пример того, как нужно менять параметры модели, чтобы она предсказывала оптимально (с точки зрения выбранной функции потерь). \n",
    "\n",
    "То есть суть ***обучения*** состоит в том, чтобы **изменить параметры** модели из выбранного семейства таким образом, чтобы она предсказывала **оптимально** с точки зрения **выбранной функции потерь**, для этого используется определённый  **алгоритм оптимизации**."
   ]
  },
  {
   "cell_type": "markdown",
   "metadata": {
    "colab_type": "text",
    "id": "H2K7LDZ1FoSo"
   },
   "source": [
    "# 2. Заключение"
   ]
  },
  {
   "cell_type": "markdown",
   "metadata": {
    "colab_type": "text",
    "id": "42u4CQbjFoSp"
   },
   "source": [
    "Рассмотренная нами задача относится к *задаче регрессии* -- то есть её целевая переменная принимает значения в $\\mathbb{R}$. Кроме неё существует множество других задач, например задача классификации.\n",
    "\n",
    "Кроме того, эта задача является примером задачи *обучения с учителем* -- то есть, нам даны обучающие примеры с известными значениями целевой переменной. Задачи, в которых целевые переменные неизвестны, относятся к задачам *обучения без учителя*.\n",
    "\n",
    "Мир машинного обучения черезвычайно разнообразен, поэтому в нашем курсе мы сможем познакомить вас лишь с его небольшой частью, перед тем, как углубиться в нейронные сети."
   ]
  },
  {
   "cell_type": "markdown",
   "metadata": {
    "colab_type": "text",
    "id": "-SFYozOuFoSx"
   },
   "source": [
    "# 3. Полезные ссылки"
   ]
  },
  {
   "cell_type": "markdown",
   "metadata": {
    "colab_type": "text",
    "id": "LPgBJ6-WFoSz"
   },
   "source": [
    "1. [Больше о разных направлениях машинного обучения](http://www.machinelearning.ru/wiki/index.php?title=%D0%9C%D0%B0%D1%88%D0%B8%D0%BD%D0%BD%D0%BE%D0%B5_%D0%BE%D0%B1%D1%83%D1%87%D0%B5%D0%BD%D0%B8%D0%B5)\n",
    "2. Лекции Евгения Соколова https://github.com/esokolov/ml-course-msu/tree/master/ML15/lecture-notes"
   ]
  },
  {
   "cell_type": "markdown",
   "metadata": {
    "colab_type": "text",
    "id": "-yV7gJsjwmxo"
   },
   "source": [
    "# 4. Практическое занятие"
   ]
  },
  {
   "cell_type": "markdown",
   "metadata": {
    "colab_type": "text",
    "id": "-r2Tcu_awmxp"
   },
   "source": [
    "# Данные\n",
    "\n",
    "Данные - информация о приложениях из AppStore. Поставим регрессионную задачу - предсказать рейтинг приложения. \n",
    "\n",
    "Скачать данные: https://www.kaggle.com/ramamet4/app-store-apple-data-set-10k-apps"
   ]
  },
  {
   "cell_type": "markdown",
   "metadata": {
    "colab_type": "text",
    "id": "lD-u2d-iwmxq"
   },
   "source": [
    "# Анализ данных\n",
    "\n",
    "Начнем с самой важной части - посмотрим на данные. "
   ]
  },
  {
   "cell_type": "code",
   "execution_count": 0,
   "metadata": {
    "colab": {},
    "colab_type": "code",
    "id": "vvwd-1ftwmxq"
   },
   "outputs": [],
   "source": [
    "import pandas as pd\n",
    "import numpy as np\n",
    "from matplotlib import pyplot as plt"
   ]
  },
  {
   "cell_type": "code",
   "execution_count": 0,
   "metadata": {
    "colab": {
     "base_uri": "https://localhost:8080/",
     "height": 428
    },
    "colab_type": "code",
    "id": "iMh6fwm9wmxt",
    "outputId": "8aedf748-d4c5-4d6a-e83e-81a24a2ab1ec"
   },
   "outputs": [
    {
     "data": {
      "text/html": [
       "<div>\n",
       "<style scoped>\n",
       "    .dataframe tbody tr th:only-of-type {\n",
       "        vertical-align: middle;\n",
       "    }\n",
       "\n",
       "    .dataframe tbody tr th {\n",
       "        vertical-align: top;\n",
       "    }\n",
       "\n",
       "    .dataframe thead th {\n",
       "        text-align: right;\n",
       "    }\n",
       "</style>\n",
       "<table border=\"1\" class=\"dataframe\">\n",
       "  <thead>\n",
       "    <tr style=\"text-align: right;\">\n",
       "      <th></th>\n",
       "      <th>Unnamed: 0</th>\n",
       "      <th>id</th>\n",
       "      <th>track_name</th>\n",
       "      <th>size_bytes</th>\n",
       "      <th>currency</th>\n",
       "      <th>price</th>\n",
       "      <th>rating_count_tot</th>\n",
       "      <th>rating_count_ver</th>\n",
       "      <th>user_rating</th>\n",
       "      <th>user_rating_ver</th>\n",
       "      <th>ver</th>\n",
       "      <th>cont_rating</th>\n",
       "      <th>prime_genre</th>\n",
       "      <th>sup_devices.num</th>\n",
       "      <th>ipadSc_urls.num</th>\n",
       "      <th>lang.num</th>\n",
       "      <th>vpp_lic</th>\n",
       "    </tr>\n",
       "  </thead>\n",
       "  <tbody>\n",
       "    <tr>\n",
       "      <th>0</th>\n",
       "      <td>1</td>\n",
       "      <td>281656475</td>\n",
       "      <td>PAC-MAN Premium</td>\n",
       "      <td>100788224</td>\n",
       "      <td>USD</td>\n",
       "      <td>3.99</td>\n",
       "      <td>21292</td>\n",
       "      <td>26</td>\n",
       "      <td>4.0</td>\n",
       "      <td>4.5</td>\n",
       "      <td>6.3.5</td>\n",
       "      <td>4+</td>\n",
       "      <td>Games</td>\n",
       "      <td>38</td>\n",
       "      <td>5</td>\n",
       "      <td>10</td>\n",
       "      <td>1</td>\n",
       "    </tr>\n",
       "    <tr>\n",
       "      <th>1</th>\n",
       "      <td>2</td>\n",
       "      <td>281796108</td>\n",
       "      <td>Evernote - stay organized</td>\n",
       "      <td>158578688</td>\n",
       "      <td>USD</td>\n",
       "      <td>0.00</td>\n",
       "      <td>161065</td>\n",
       "      <td>26</td>\n",
       "      <td>4.0</td>\n",
       "      <td>3.5</td>\n",
       "      <td>8.2.2</td>\n",
       "      <td>4+</td>\n",
       "      <td>Productivity</td>\n",
       "      <td>37</td>\n",
       "      <td>5</td>\n",
       "      <td>23</td>\n",
       "      <td>1</td>\n",
       "    </tr>\n",
       "    <tr>\n",
       "      <th>2</th>\n",
       "      <td>3</td>\n",
       "      <td>281940292</td>\n",
       "      <td>WeatherBug - Local Weather, Radar, Maps, Alerts</td>\n",
       "      <td>100524032</td>\n",
       "      <td>USD</td>\n",
       "      <td>0.00</td>\n",
       "      <td>188583</td>\n",
       "      <td>2822</td>\n",
       "      <td>3.5</td>\n",
       "      <td>4.5</td>\n",
       "      <td>5.0.0</td>\n",
       "      <td>4+</td>\n",
       "      <td>Weather</td>\n",
       "      <td>37</td>\n",
       "      <td>5</td>\n",
       "      <td>3</td>\n",
       "      <td>1</td>\n",
       "    </tr>\n",
       "    <tr>\n",
       "      <th>3</th>\n",
       "      <td>4</td>\n",
       "      <td>282614216</td>\n",
       "      <td>eBay: Best App to Buy, Sell, Save! Online Shop...</td>\n",
       "      <td>128512000</td>\n",
       "      <td>USD</td>\n",
       "      <td>0.00</td>\n",
       "      <td>262241</td>\n",
       "      <td>649</td>\n",
       "      <td>4.0</td>\n",
       "      <td>4.5</td>\n",
       "      <td>5.10.0</td>\n",
       "      <td>12+</td>\n",
       "      <td>Shopping</td>\n",
       "      <td>37</td>\n",
       "      <td>5</td>\n",
       "      <td>9</td>\n",
       "      <td>1</td>\n",
       "    </tr>\n",
       "    <tr>\n",
       "      <th>4</th>\n",
       "      <td>5</td>\n",
       "      <td>282935706</td>\n",
       "      <td>Bible</td>\n",
       "      <td>92774400</td>\n",
       "      <td>USD</td>\n",
       "      <td>0.00</td>\n",
       "      <td>985920</td>\n",
       "      <td>5320</td>\n",
       "      <td>4.5</td>\n",
       "      <td>5.0</td>\n",
       "      <td>7.5.1</td>\n",
       "      <td>4+</td>\n",
       "      <td>Reference</td>\n",
       "      <td>37</td>\n",
       "      <td>5</td>\n",
       "      <td>45</td>\n",
       "      <td>1</td>\n",
       "    </tr>\n",
       "  </tbody>\n",
       "</table>\n",
       "</div>"
      ],
      "text/plain": [
       "   Unnamed: 0         id  ... lang.num  vpp_lic\n",
       "0           1  281656475  ...       10        1\n",
       "1           2  281796108  ...       23        1\n",
       "2           3  281940292  ...        3        1\n",
       "3           4  282614216  ...        9        1\n",
       "4           5  282935706  ...       45        1\n",
       "\n",
       "[5 rows x 17 columns]"
      ]
     },
     "execution_count": 44,
     "metadata": {
      "tags": []
     },
     "output_type": "execute_result"
    }
   ],
   "source": [
    "# Загрузим данные и посмотрим на небольшую часть\n",
    "data = pd.read_csv('./AppleStore.csv')\n",
    "data.head()"
   ]
  },
  {
   "cell_type": "markdown",
   "metadata": {
    "colab_type": "text",
    "id": "jL6T4Xgpwmxw"
   },
   "source": [
    "Выделим фичи из датасета и поделим их на числовые и категориальные. "
   ]
  },
  {
   "cell_type": "code",
   "execution_count": 0,
   "metadata": {
    "colab": {},
    "colab_type": "code",
    "id": "EaL0CF3Nwmxw"
   },
   "outputs": [],
   "source": [
    "num_cols = [\n",
    "    'size_bytes',\n",
    "    'price',\n",
    "    'rating_count_tot',\n",
    "    'rating_count_ver',\n",
    "    'sup_devices.num',\n",
    "    'ipadSc_urls.num',\n",
    "    'lang.num',\n",
    "    # Эта фича - не числовая, а порядковая, но мы все равно возьмем ее как числовую для удобства\n",
    "    'cont_rating',\n",
    "]\n",
    "\n",
    "cat_cols = [\n",
    "    'currency',\n",
    "    'prime_genre'\n",
    "]\n",
    "\n",
    "target_col = 'user_rating'\n",
    "\n",
    "cols = num_cols + cat_cols + [target_col]"
   ]
  },
  {
   "cell_type": "code",
   "execution_count": 0,
   "metadata": {
    "colab": {
     "base_uri": "https://localhost:8080/",
     "height": 204
    },
    "colab_type": "code",
    "id": "3aDmxmqdwmxy",
    "outputId": "26007766-4143-4ff9-ca25-be5a7e28968b",
    "scrolled": false
   },
   "outputs": [
    {
     "data": {
      "text/html": [
       "<div>\n",
       "<style scoped>\n",
       "    .dataframe tbody tr th:only-of-type {\n",
       "        vertical-align: middle;\n",
       "    }\n",
       "\n",
       "    .dataframe tbody tr th {\n",
       "        vertical-align: top;\n",
       "    }\n",
       "\n",
       "    .dataframe thead th {\n",
       "        text-align: right;\n",
       "    }\n",
       "</style>\n",
       "<table border=\"1\" class=\"dataframe\">\n",
       "  <thead>\n",
       "    <tr style=\"text-align: right;\">\n",
       "      <th></th>\n",
       "      <th>size_bytes</th>\n",
       "      <th>price</th>\n",
       "      <th>rating_count_tot</th>\n",
       "      <th>rating_count_ver</th>\n",
       "      <th>sup_devices.num</th>\n",
       "      <th>ipadSc_urls.num</th>\n",
       "      <th>lang.num</th>\n",
       "      <th>cont_rating</th>\n",
       "      <th>currency</th>\n",
       "      <th>prime_genre</th>\n",
       "      <th>user_rating</th>\n",
       "    </tr>\n",
       "  </thead>\n",
       "  <tbody>\n",
       "    <tr>\n",
       "      <th>0</th>\n",
       "      <td>100788224</td>\n",
       "      <td>3.99</td>\n",
       "      <td>21292</td>\n",
       "      <td>26</td>\n",
       "      <td>38</td>\n",
       "      <td>5</td>\n",
       "      <td>10</td>\n",
       "      <td>4</td>\n",
       "      <td>USD</td>\n",
       "      <td>Games</td>\n",
       "      <td>4.0</td>\n",
       "    </tr>\n",
       "    <tr>\n",
       "      <th>1</th>\n",
       "      <td>158578688</td>\n",
       "      <td>0.00</td>\n",
       "      <td>161065</td>\n",
       "      <td>26</td>\n",
       "      <td>37</td>\n",
       "      <td>5</td>\n",
       "      <td>23</td>\n",
       "      <td>4</td>\n",
       "      <td>USD</td>\n",
       "      <td>Productivity</td>\n",
       "      <td>4.0</td>\n",
       "    </tr>\n",
       "    <tr>\n",
       "      <th>2</th>\n",
       "      <td>100524032</td>\n",
       "      <td>0.00</td>\n",
       "      <td>188583</td>\n",
       "      <td>2822</td>\n",
       "      <td>37</td>\n",
       "      <td>5</td>\n",
       "      <td>3</td>\n",
       "      <td>4</td>\n",
       "      <td>USD</td>\n",
       "      <td>Weather</td>\n",
       "      <td>3.5</td>\n",
       "    </tr>\n",
       "    <tr>\n",
       "      <th>3</th>\n",
       "      <td>128512000</td>\n",
       "      <td>0.00</td>\n",
       "      <td>262241</td>\n",
       "      <td>649</td>\n",
       "      <td>37</td>\n",
       "      <td>5</td>\n",
       "      <td>9</td>\n",
       "      <td>12</td>\n",
       "      <td>USD</td>\n",
       "      <td>Shopping</td>\n",
       "      <td>4.0</td>\n",
       "    </tr>\n",
       "    <tr>\n",
       "      <th>4</th>\n",
       "      <td>92774400</td>\n",
       "      <td>0.00</td>\n",
       "      <td>985920</td>\n",
       "      <td>5320</td>\n",
       "      <td>37</td>\n",
       "      <td>5</td>\n",
       "      <td>45</td>\n",
       "      <td>4</td>\n",
       "      <td>USD</td>\n",
       "      <td>Reference</td>\n",
       "      <td>4.5</td>\n",
       "    </tr>\n",
       "  </tbody>\n",
       "</table>\n",
       "</div>"
      ],
      "text/plain": [
       "   size_bytes  price  rating_count_tot  ...  currency   prime_genre  user_rating\n",
       "0   100788224   3.99             21292  ...       USD         Games          4.0\n",
       "1   158578688   0.00            161065  ...       USD  Productivity          4.0\n",
       "2   100524032   0.00            188583  ...       USD       Weather          3.5\n",
       "3   128512000   0.00            262241  ...       USD      Shopping          4.0\n",
       "4    92774400   0.00            985920  ...       USD     Reference          4.5\n",
       "\n",
       "[5 rows x 11 columns]"
      ]
     },
     "execution_count": 46,
     "metadata": {
      "tags": []
     },
     "output_type": "execute_result"
    }
   ],
   "source": [
    "data = data[cols]\n",
    "# Возраст записан не в виде числа, исправим это, вырезав последний символ и скастовав к числу\n",
    "data['cont_rating'] = data['cont_rating'].str.slice(0, -1).astype(int)\n",
    "data.head()"
   ]
  },
  {
   "cell_type": "code",
   "execution_count": 0,
   "metadata": {
    "colab": {
     "base_uri": "https://localhost:8080/",
     "height": 221
    },
    "colab_type": "code",
    "id": "jaZbsLqDwmx0",
    "outputId": "23239541-9ca4-4610-89e1-902adeacd0e0"
   },
   "outputs": [
    {
     "data": {
      "text/plain": [
       "size_bytes          0.0\n",
       "price               0.0\n",
       "rating_count_tot    0.0\n",
       "rating_count_ver    0.0\n",
       "sup_devices.num     0.0\n",
       "ipadSc_urls.num     0.0\n",
       "lang.num            0.0\n",
       "cont_rating         0.0\n",
       "currency            0.0\n",
       "prime_genre         0.0\n",
       "user_rating         0.0\n",
       "dtype: float64"
      ]
     },
     "execution_count": 47,
     "metadata": {
      "tags": []
     },
     "output_type": "execute_result"
    }
   ],
   "source": [
    "# Посмотрим на пропущенные значения\n",
    "data.isna().mean()"
   ]
  },
  {
   "cell_type": "code",
   "execution_count": 0,
   "metadata": {
    "colab": {
     "base_uri": "https://localhost:8080/",
     "height": 527
    },
    "colab_type": "code",
    "id": "dUqi-Oh0wmx2",
    "outputId": "c1c429fc-6363-4f8a-fd24-b5794cb84971"
   },
   "outputs": [
    {
     "name": "stdout",
     "output_type": "stream",
     "text": [
      "currency DISTRIBUTION\n",
      "USD    7197\n",
      "Name: currency, dtype: int64\n",
      "\n",
      "prime_genre DISTRIBUTION\n",
      "Games                3862\n",
      "Entertainment         535\n",
      "Education             453\n",
      "Photo & Video         349\n",
      "Utilities             248\n",
      "Health & Fitness      180\n",
      "Productivity          178\n",
      "Social Networking     167\n",
      "Lifestyle             144\n",
      "Music                 138\n",
      "Shopping              122\n",
      "Sports                114\n",
      "Book                  112\n",
      "Finance               104\n",
      "Travel                 81\n",
      "News                   75\n",
      "Weather                72\n",
      "Reference              64\n",
      "Food & Drink           63\n",
      "Business               57\n",
      "Navigation             46\n",
      "Medical                23\n",
      "Catalogs               10\n",
      "Name: prime_genre, dtype: int64\n",
      "\n"
     ]
    }
   ],
   "source": [
    "# Посмотрим на распределение категориальных фичей\n",
    "for col in cat_cols:\n",
    "    print(f\"{col} DISTRIBUTION\")\n",
    "    print(data[col].value_counts())\n",
    "    print()"
   ]
  },
  {
   "cell_type": "code",
   "execution_count": 0,
   "metadata": {
    "colab": {},
    "colab_type": "code",
    "id": "DFQE9cmBwmx5"
   },
   "outputs": [],
   "source": [
    "# Как мы видим, в колонке currency только одно значение, можно колонку убрать\n",
    "data = data.drop(columns=['currency'])\n",
    "cat_cols.remove('currency')"
   ]
  },
  {
   "cell_type": "code",
   "execution_count": 0,
   "metadata": {
    "colab": {
     "base_uri": "https://localhost:8080/",
     "height": 621
    },
    "colab_type": "code",
    "id": "El4QFJTLwmx7",
    "outputId": "22254b5c-9cce-499c-fb90-0077085c7cee",
    "scrolled": false
   },
   "outputs": [
    {
     "data": {
      "image/png": "[encoded data removed]",
      "text/plain": [
       "<Figure size 1008x720 with 9 Axes>"
      ]
     },
     "metadata": {
      "tags": []
     },
     "output_type": "display_data"
    }
   ],
   "source": [
    "# data.hist(column=num_cols+cat_cols+[target_col], figsize=(14, 10))\n",
    "data.hist(column=num_cols+[target_col], figsize=(14, 10))\n",
    "None"
   ]
  },
  {
   "cell_type": "markdown",
   "metadata": {
    "colab_type": "text",
    "id": "wBCr3_Qbwmx9"
   },
   "source": [
    "А теперь посмотрим на корреляции между фичами"
   ]
  },
  {
   "cell_type": "code",
   "execution_count": 0,
   "metadata": {
    "colab": {
     "base_uri": "https://localhost:8080/",
     "height": 229
    },
    "colab_type": "code",
    "id": "rYbXfpISwmx-",
    "outputId": "648e5f0d-168f-4f4f-edd2-50fea3908f38",
    "scrolled": true
   },
   "outputs": [
    {
     "data": {
      "text/html": [
       "<style  type=\"text/css\" >\n",
       "    #T_363b979c_fee8_11e9_891c_0242ac1c0002row0_col0 {\n",
       "            background-color:  #b40426;\n",
       "            color:  #f1f1f1;\n",
       "        }    #T_363b979c_fee8_11e9_891c_0242ac1c0002row0_col1 {\n",
       "            background-color:  #93b5fe;\n",
       "            color:  #000000;\n",
       "        }    #T_363b979c_fee8_11e9_891c_0242ac1c0002row0_col2 {\n",
       "            background-color:  #465ecf;\n",
       "            color:  #f1f1f1;\n",
       "        }    #T_363b979c_fee8_11e9_891c_0242ac1c0002row0_col3 {\n",
       "            background-color:  #4257c9;\n",
       "            color:  #f1f1f1;\n",
       "        }    #T_363b979c_fee8_11e9_891c_0242ac1c0002row0_col4 {\n",
       "            background-color:  #3b4cc0;\n",
       "            color:  #f1f1f1;\n",
       "        }    #T_363b979c_fee8_11e9_891c_0242ac1c0002row0_col5 {\n",
       "            background-color:  #88abfd;\n",
       "            color:  #000000;\n",
       "        }    #T_363b979c_fee8_11e9_891c_0242ac1c0002row0_col6 {\n",
       "            background-color:  #4f69d9;\n",
       "            color:  #000000;\n",
       "        }    #T_363b979c_fee8_11e9_891c_0242ac1c0002row0_col7 {\n",
       "            background-color:  #84a7fc;\n",
       "            color:  #000000;\n",
       "        }    #T_363b979c_fee8_11e9_891c_0242ac1c0002row0_col8 {\n",
       "            background-color:  #6a8bef;\n",
       "            color:  #000000;\n",
       "        }    #T_363b979c_fee8_11e9_891c_0242ac1c0002row1_col0 {\n",
       "            background-color:  #93b5fe;\n",
       "            color:  #000000;\n",
       "        }    #T_363b979c_fee8_11e9_891c_0242ac1c0002row1_col1 {\n",
       "            background-color:  #b40426;\n",
       "            color:  #f1f1f1;\n",
       "        }    #T_363b979c_fee8_11e9_891c_0242ac1c0002row1_col2 {\n",
       "            background-color:  #3b4cc0;\n",
       "            color:  #f1f1f1;\n",
       "        }    #T_363b979c_fee8_11e9_891c_0242ac1c0002row1_col3 {\n",
       "            background-color:  #3b4cc0;\n",
       "            color:  #f1f1f1;\n",
       "        }    #T_363b979c_fee8_11e9_891c_0242ac1c0002row1_col4 {\n",
       "            background-color:  #3b4cc0;\n",
       "            color:  #f1f1f1;\n",
       "        }    #T_363b979c_fee8_11e9_891c_0242ac1c0002row1_col5 {\n",
       "            background-color:  #6c8ff1;\n",
       "            color:  #000000;\n",
       "        }    #T_363b979c_fee8_11e9_891c_0242ac1c0002row1_col6 {\n",
       "            background-color:  #4c66d6;\n",
       "            color:  #000000;\n",
       "        }    #T_363b979c_fee8_11e9_891c_0242ac1c0002row1_col7 {\n",
       "            background-color:  #506bda;\n",
       "            color:  #000000;\n",
       "        }    #T_363b979c_fee8_11e9_891c_0242ac1c0002row1_col8 {\n",
       "            background-color:  #6384eb;\n",
       "            color:  #000000;\n",
       "        }    #T_363b979c_fee8_11e9_891c_0242ac1c0002row2_col0 {\n",
       "            background-color:  #5d7ce6;\n",
       "            color:  #000000;\n",
       "        }    #T_363b979c_fee8_11e9_891c_0242ac1c0002row2_col1 {\n",
       "            background-color:  #4f69d9;\n",
       "            color:  #000000;\n",
       "        }    #T_363b979c_fee8_11e9_891c_0242ac1c0002row2_col2 {\n",
       "            background-color:  #b40426;\n",
       "            color:  #f1f1f1;\n",
       "        }    #T_363b979c_fee8_11e9_891c_0242ac1c0002row2_col3 {\n",
       "            background-color:  #7396f5;\n",
       "            color:  #000000;\n",
       "        }    #T_363b979c_fee8_11e9_891c_0242ac1c0002row2_col4 {\n",
       "            background-color:  #5e7de7;\n",
       "            color:  #000000;\n",
       "        }    #T_363b979c_fee8_11e9_891c_0242ac1c0002row2_col5 {\n",
       "            background-color:  #5d7ce6;\n",
       "            color:  #000000;\n",
       "        }    #T_363b979c_fee8_11e9_891c_0242ac1c0002row2_col6 {\n",
       "            background-color:  #799cf8;\n",
       "            color:  #000000;\n",
       "        }    #T_363b979c_fee8_11e9_891c_0242ac1c0002row2_col7 {\n",
       "            background-color:  #5b7ae5;\n",
       "            color:  #000000;\n",
       "        }    #T_363b979c_fee8_11e9_891c_0242ac1c0002row2_col8 {\n",
       "            background-color:  #6f92f3;\n",
       "            color:  #000000;\n",
       "        }    #T_363b979c_fee8_11e9_891c_0242ac1c0002row3_col0 {\n",
       "            background-color:  #5d7ce6;\n",
       "            color:  #000000;\n",
       "        }    #T_363b979c_fee8_11e9_891c_0242ac1c0002row3_col1 {\n",
       "            background-color:  #5572df;\n",
       "            color:  #000000;\n",
       "        }    #T_363b979c_fee8_11e9_891c_0242ac1c0002row3_col2 {\n",
       "            background-color:  #799cf8;\n",
       "            color:  #000000;\n",
       "        }    #T_363b979c_fee8_11e9_891c_0242ac1c0002row3_col3 {\n",
       "            background-color:  #b40426;\n",
       "            color:  #f1f1f1;\n",
       "        }    #T_363b979c_fee8_11e9_891c_0242ac1c0002row3_col4 {\n",
       "            background-color:  #6687ed;\n",
       "            color:  #000000;\n",
       "        }    #T_363b979c_fee8_11e9_891c_0242ac1c0002row3_col5 {\n",
       "            background-color:  #5f7fe8;\n",
       "            color:  #000000;\n",
       "        }    #T_363b979c_fee8_11e9_891c_0242ac1c0002row3_col6 {\n",
       "            background-color:  #516ddb;\n",
       "            color:  #000000;\n",
       "        }    #T_363b979c_fee8_11e9_891c_0242ac1c0002row3_col7 {\n",
       "            background-color:  #5977e3;\n",
       "            color:  #000000;\n",
       "        }    #T_363b979c_fee8_11e9_891c_0242ac1c0002row3_col8 {\n",
       "            background-color:  #6a8bef;\n",
       "            color:  #000000;\n",
       "        }    #T_363b979c_fee8_11e9_891c_0242ac1c0002row4_col0 {\n",
       "            background-color:  #3b4cc0;\n",
       "            color:  #f1f1f1;\n",
       "        }    #T_363b979c_fee8_11e9_891c_0242ac1c0002row4_col1 {\n",
       "            background-color:  #3b4cc0;\n",
       "            color:  #f1f1f1;\n",
       "        }    #T_363b979c_fee8_11e9_891c_0242ac1c0002row4_col2 {\n",
       "            background-color:  #485fd1;\n",
       "            color:  #f1f1f1;\n",
       "        }    #T_363b979c_fee8_11e9_891c_0242ac1c0002row4_col3 {\n",
       "            background-color:  #4b64d5;\n",
       "            color:  #f1f1f1;\n",
       "        }    #T_363b979c_fee8_11e9_891c_0242ac1c0002row4_col4 {\n",
       "            background-color:  #b40426;\n",
       "            color:  #f1f1f1;\n",
       "        }    #T_363b979c_fee8_11e9_891c_0242ac1c0002row4_col5 {\n",
       "            background-color:  #4e68d8;\n",
       "            color:  #000000;\n",
       "        }    #T_363b979c_fee8_11e9_891c_0242ac1c0002row4_col6 {\n",
       "            background-color:  #4257c9;\n",
       "            color:  #f1f1f1;\n",
       "        }    #T_363b979c_fee8_11e9_891c_0242ac1c0002row4_col7 {\n",
       "            background-color:  #5e7de7;\n",
       "            color:  #000000;\n",
       "        }    #T_363b979c_fee8_11e9_891c_0242ac1c0002row4_col8 {\n",
       "            background-color:  #4961d2;\n",
       "            color:  #f1f1f1;\n",
       "        }    #T_363b979c_fee8_11e9_891c_0242ac1c0002row5_col0 {\n",
       "            background-color:  #8badfd;\n",
       "            color:  #000000;\n",
       "        }    #T_363b979c_fee8_11e9_891c_0242ac1c0002row5_col1 {\n",
       "            background-color:  #6e90f2;\n",
       "            color:  #000000;\n",
       "        }    #T_363b979c_fee8_11e9_891c_0242ac1c0002row5_col2 {\n",
       "            background-color:  #4a63d3;\n",
       "            color:  #f1f1f1;\n",
       "        }    #T_363b979c_fee8_11e9_891c_0242ac1c0002row5_col3 {\n",
       "            background-color:  #465ecf;\n",
       "            color:  #f1f1f1;\n",
       "        }    #T_363b979c_fee8_11e9_891c_0242ac1c0002row5_col4 {\n",
       "            background-color:  #506bda;\n",
       "            color:  #000000;\n",
       "        }    #T_363b979c_fee8_11e9_891c_0242ac1c0002row5_col5 {\n",
       "            background-color:  #b40426;\n",
       "            color:  #f1f1f1;\n",
       "        }    #T_363b979c_fee8_11e9_891c_0242ac1c0002row5_col6 {\n",
       "            background-color:  #688aef;\n",
       "            color:  #000000;\n",
       "        }    #T_363b979c_fee8_11e9_891c_0242ac1c0002row5_col7 {\n",
       "            background-color:  #3b4cc0;\n",
       "            color:  #f1f1f1;\n",
       "        }    #T_363b979c_fee8_11e9_891c_0242ac1c0002row5_col8 {\n",
       "            background-color:  #a9c6fd;\n",
       "            color:  #000000;\n",
       "        }    #T_363b979c_fee8_11e9_891c_0242ac1c0002row6_col0 {\n",
       "            background-color:  #5d7ce6;\n",
       "            color:  #000000;\n",
       "        }    #T_363b979c_fee8_11e9_891c_0242ac1c0002row6_col1 {\n",
       "            background-color:  #5875e1;\n",
       "            color:  #000000;\n",
       "        }    #T_363b979c_fee8_11e9_891c_0242ac1c0002row6_col2 {\n",
       "            background-color:  #7093f3;\n",
       "            color:  #000000;\n",
       "        }    #T_363b979c_fee8_11e9_891c_0242ac1c0002row6_col3 {\n",
       "            background-color:  #4358cb;\n",
       "            color:  #f1f1f1;\n",
       "        }    #T_363b979c_fee8_11e9_891c_0242ac1c0002row6_col4 {\n",
       "            background-color:  #4f69d9;\n",
       "            color:  #000000;\n",
       "        }    #T_363b979c_fee8_11e9_891c_0242ac1c0002row6_col5 {\n",
       "            background-color:  #7396f5;\n",
       "            color:  #000000;\n",
       "        }    #T_363b979c_fee8_11e9_891c_0242ac1c0002row6_col6 {\n",
       "            background-color:  #b40426;\n",
       "            color:  #f1f1f1;\n",
       "        }    #T_363b979c_fee8_11e9_891c_0242ac1c0002row6_col7 {\n",
       "            background-color:  #445acc;\n",
       "            color:  #f1f1f1;\n",
       "        }    #T_363b979c_fee8_11e9_891c_0242ac1c0002row6_col8 {\n",
       "            background-color:  #8badfd;\n",
       "            color:  #000000;\n",
       "        }    #T_363b979c_fee8_11e9_891c_0242ac1c0002row7_col0 {\n",
       "            background-color:  #86a9fc;\n",
       "            color:  #000000;\n",
       "        }    #T_363b979c_fee8_11e9_891c_0242ac1c0002row7_col1 {\n",
       "            background-color:  #516ddb;\n",
       "            color:  #000000;\n",
       "        }    #T_363b979c_fee8_11e9_891c_0242ac1c0002row7_col2 {\n",
       "            background-color:  #485fd1;\n",
       "            color:  #f1f1f1;\n",
       "        }    #T_363b979c_fee8_11e9_891c_0242ac1c0002row7_col3 {\n",
       "            background-color:  #3f53c6;\n",
       "            color:  #f1f1f1;\n",
       "        }    #T_363b979c_fee8_11e9_891c_0242ac1c0002row7_col4 {\n",
       "            background-color:  #6180e9;\n",
       "            color:  #000000;\n",
       "        }    #T_363b979c_fee8_11e9_891c_0242ac1c0002row7_col5 {\n",
       "            background-color:  #3b4cc0;\n",
       "            color:  #f1f1f1;\n",
       "        }    #T_363b979c_fee8_11e9_891c_0242ac1c0002row7_col6 {\n",
       "            background-color:  #3b4cc0;\n",
       "            color:  #f1f1f1;\n",
       "        }    #T_363b979c_fee8_11e9_891c_0242ac1c0002row7_col7 {\n",
       "            background-color:  #b40426;\n",
       "            color:  #f1f1f1;\n",
       "        }    #T_363b979c_fee8_11e9_891c_0242ac1c0002row7_col8 {\n",
       "            background-color:  #3b4cc0;\n",
       "            color:  #f1f1f1;\n",
       "        }    #T_363b979c_fee8_11e9_891c_0242ac1c0002row8_col0 {\n",
       "            background-color:  #6f92f3;\n",
       "            color:  #000000;\n",
       "        }    #T_363b979c_fee8_11e9_891c_0242ac1c0002row8_col1 {\n",
       "            background-color:  #688aef;\n",
       "            color:  #000000;\n",
       "        }    #T_363b979c_fee8_11e9_891c_0242ac1c0002row8_col2 {\n",
       "            background-color:  #5f7fe8;\n",
       "            color:  #000000;\n",
       "        }    #T_363b979c_fee8_11e9_891c_0242ac1c0002row8_col3 {\n",
       "            background-color:  #5470de;\n",
       "            color:  #000000;\n",
       "        }    #T_363b979c_fee8_11e9_891c_0242ac1c0002row8_col4 {\n",
       "            background-color:  #4f69d9;\n",
       "            color:  #000000;\n",
       "        }    #T_363b979c_fee8_11e9_891c_0242ac1c0002row8_col5 {\n",
       "            background-color:  #abc8fd;\n",
       "            color:  #000000;\n",
       "        }    #T_363b979c_fee8_11e9_891c_0242ac1c0002row8_col6 {\n",
       "            background-color:  #84a7fc;\n",
       "            color:  #000000;\n",
       "        }    #T_363b979c_fee8_11e9_891c_0242ac1c0002row8_col7 {\n",
       "            background-color:  #3d50c3;\n",
       "            color:  #f1f1f1;\n",
       "        }    #T_363b979c_fee8_11e9_891c_0242ac1c0002row8_col8 {\n",
       "            background-color:  #b40426;\n",
       "            color:  #f1f1f1;\n",
       "        }</style><table id=\"T_363b979c_fee8_11e9_891c_0242ac1c0002\" ><thead>    <tr>        <th class=\"blank level0\" ></th>        <th class=\"col_heading level0 col0\" >size_bytes</th>        <th class=\"col_heading level0 col1\" >price</th>        <th class=\"col_heading level0 col2\" >rating_count_tot</th>        <th class=\"col_heading level0 col3\" >rating_count_ver</th>        <th class=\"col_heading level0 col4\" >sup_devices.num</th>        <th class=\"col_heading level0 col5\" >ipadSc_urls.num</th>        <th class=\"col_heading level0 col6\" >lang.num</th>        <th class=\"col_heading level0 col7\" >cont_rating</th>        <th class=\"col_heading level0 col8\" >user_rating</th>    </tr></thead><tbody>\n",
       "                <tr>\n",
       "                        <th id=\"T_363b979c_fee8_11e9_891c_0242ac1c0002level0_row0\" class=\"row_heading level0 row0\" >size_bytes</th>\n",
       "                        <td id=\"T_363b979c_fee8_11e9_891c_0242ac1c0002row0_col0\" class=\"data row0 col0\" >1</td>\n",
       "                        <td id=\"T_363b979c_fee8_11e9_891c_0242ac1c0002row0_col1\" class=\"data row0 col1\" >0.18</td>\n",
       "                        <td id=\"T_363b979c_fee8_11e9_891c_0242ac1c0002row0_col2\" class=\"data row0 col2\" >0.0045</td>\n",
       "                        <td id=\"T_363b979c_fee8_11e9_891c_0242ac1c0002row0_col3\" class=\"data row0 col3\" >0.0063</td>\n",
       "                        <td id=\"T_363b979c_fee8_11e9_891c_0242ac1c0002row0_col4\" class=\"data row0 col4\" >-0.12</td>\n",
       "                        <td id=\"T_363b979c_fee8_11e9_891c_0242ac1c0002row0_col5\" class=\"data row0 col5\" >0.15</td>\n",
       "                        <td id=\"T_363b979c_fee8_11e9_891c_0242ac1c0002row0_col6\" class=\"data row0 col6\" >0.0046</td>\n",
       "                        <td id=\"T_363b979c_fee8_11e9_891c_0242ac1c0002row0_col7\" class=\"data row0 col7\" >0.14</td>\n",
       "                        <td id=\"T_363b979c_fee8_11e9_891c_0242ac1c0002row0_col8\" class=\"data row0 col8\" >0.066</td>\n",
       "            </tr>\n",
       "            <tr>\n",
       "                        <th id=\"T_363b979c_fee8_11e9_891c_0242ac1c0002level0_row1\" class=\"row_heading level0 row1\" >price</th>\n",
       "                        <td id=\"T_363b979c_fee8_11e9_891c_0242ac1c0002row1_col0\" class=\"data row1 col0\" >0.18</td>\n",
       "                        <td id=\"T_363b979c_fee8_11e9_891c_0242ac1c0002row1_col1\" class=\"data row1 col1\" >1</td>\n",
       "                        <td id=\"T_363b979c_fee8_11e9_891c_0242ac1c0002row1_col2\" class=\"data row1 col2\" >-0.039</td>\n",
       "                        <td id=\"T_363b979c_fee8_11e9_891c_0242ac1c0002row1_col3\" class=\"data row1 col3\" >-0.018</td>\n",
       "                        <td id=\"T_363b979c_fee8_11e9_891c_0242ac1c0002row1_col4\" class=\"data row1 col4\" >-0.12</td>\n",
       "                        <td id=\"T_363b979c_fee8_11e9_891c_0242ac1c0002row1_col5\" class=\"data row1 col5\" >0.066</td>\n",
       "                        <td id=\"T_363b979c_fee8_11e9_891c_0242ac1c0002row1_col6\" class=\"data row1 col6\" >-0.0067</td>\n",
       "                        <td id=\"T_363b979c_fee8_11e9_891c_0242ac1c0002row1_col7\" class=\"data row1 col7\" >-0.03</td>\n",
       "                        <td id=\"T_363b979c_fee8_11e9_891c_0242ac1c0002row1_col8\" class=\"data row1 col8\" >0.047</td>\n",
       "            </tr>\n",
       "            <tr>\n",
       "                        <th id=\"T_363b979c_fee8_11e9_891c_0242ac1c0002level0_row2\" class=\"row_heading level0 row2\" >rating_count_tot</th>\n",
       "                        <td id=\"T_363b979c_fee8_11e9_891c_0242ac1c0002row2_col0\" class=\"data row2 col0\" >0.0045</td>\n",
       "                        <td id=\"T_363b979c_fee8_11e9_891c_0242ac1c0002row2_col1\" class=\"data row2 col1\" >-0.039</td>\n",
       "                        <td id=\"T_363b979c_fee8_11e9_891c_0242ac1c0002row2_col2\" class=\"data row2 col2\" >1</td>\n",
       "                        <td id=\"T_363b979c_fee8_11e9_891c_0242ac1c0002row2_col3\" class=\"data row2 col3\" >0.16</td>\n",
       "                        <td id=\"T_363b979c_fee8_11e9_891c_0242ac1c0002row2_col4\" class=\"data row2 col4\" >0.0088</td>\n",
       "                        <td id=\"T_363b979c_fee8_11e9_891c_0242ac1c0002row2_col5\" class=\"data row2 col5\" >0.016</td>\n",
       "                        <td id=\"T_363b979c_fee8_11e9_891c_0242ac1c0002row2_col6\" class=\"data row2 col6\" >0.14</td>\n",
       "                        <td id=\"T_363b979c_fee8_11e9_891c_0242ac1c0002row2_col7\" class=\"data row2 col7\" >0.0091</td>\n",
       "                        <td id=\"T_363b979c_fee8_11e9_891c_0242ac1c0002row2_col8\" class=\"data row2 col8\" >0.083</td>\n",
       "            </tr>\n",
       "            <tr>\n",
       "                        <th id=\"T_363b979c_fee8_11e9_891c_0242ac1c0002level0_row3\" class=\"row_heading level0 row3\" >rating_count_ver</th>\n",
       "                        <td id=\"T_363b979c_fee8_11e9_891c_0242ac1c0002row3_col0\" class=\"data row3 col0\" >0.0063</td>\n",
       "                        <td id=\"T_363b979c_fee8_11e9_891c_0242ac1c0002row3_col1\" class=\"data row3 col1\" >-0.018</td>\n",
       "                        <td id=\"T_363b979c_fee8_11e9_891c_0242ac1c0002row3_col2\" class=\"data row3 col2\" >0.16</td>\n",
       "                        <td id=\"T_363b979c_fee8_11e9_891c_0242ac1c0002row3_col3\" class=\"data row3 col3\" >1</td>\n",
       "                        <td id=\"T_363b979c_fee8_11e9_891c_0242ac1c0002row3_col4\" class=\"data row3 col4\" >0.038</td>\n",
       "                        <td id=\"T_363b979c_fee8_11e9_891c_0242ac1c0002row3_col5\" class=\"data row3 col5\" >0.024</td>\n",
       "                        <td id=\"T_363b979c_fee8_11e9_891c_0242ac1c0002row3_col6\" class=\"data row3 col6\" >0.013</td>\n",
       "                        <td id=\"T_363b979c_fee8_11e9_891c_0242ac1c0002row3_col7\" class=\"data row3 col7\" >0.0014</td>\n",
       "                        <td id=\"T_363b979c_fee8_11e9_891c_0242ac1c0002row3_col8\" class=\"data row3 col8\" >0.069</td>\n",
       "            </tr>\n",
       "            <tr>\n",
       "                        <th id=\"T_363b979c_fee8_11e9_891c_0242ac1c0002level0_row4\" class=\"row_heading level0 row4\" >sup_devices.num</th>\n",
       "                        <td id=\"T_363b979c_fee8_11e9_891c_0242ac1c0002row4_col0\" class=\"data row4 col0\" >-0.12</td>\n",
       "                        <td id=\"T_363b979c_fee8_11e9_891c_0242ac1c0002row4_col1\" class=\"data row4 col1\" >-0.12</td>\n",
       "                        <td id=\"T_363b979c_fee8_11e9_891c_0242ac1c0002row4_col2\" class=\"data row4 col2\" >0.0088</td>\n",
       "                        <td id=\"T_363b979c_fee8_11e9_891c_0242ac1c0002row4_col3\" class=\"data row4 col3\" >0.038</td>\n",
       "                        <td id=\"T_363b979c_fee8_11e9_891c_0242ac1c0002row4_col4\" class=\"data row4 col4\" >1</td>\n",
       "                        <td id=\"T_363b979c_fee8_11e9_891c_0242ac1c0002row4_col5\" class=\"data row4 col5\" >-0.038</td>\n",
       "                        <td id=\"T_363b979c_fee8_11e9_891c_0242ac1c0002row4_col6\" class=\"data row4 col6\" >-0.042</td>\n",
       "                        <td id=\"T_363b979c_fee8_11e9_891c_0242ac1c0002row4_col7\" class=\"data row4 col7\" >0.02</td>\n",
       "                        <td id=\"T_363b979c_fee8_11e9_891c_0242ac1c0002row4_col8\" class=\"data row4 col8\" >-0.042</td>\n",
       "            </tr>\n",
       "            <tr>\n",
       "                        <th id=\"T_363b979c_fee8_11e9_891c_0242ac1c0002level0_row5\" class=\"row_heading level0 row5\" >ipadSc_urls.num</th>\n",
       "                        <td id=\"T_363b979c_fee8_11e9_891c_0242ac1c0002row5_col0\" class=\"data row5 col0\" >0.15</td>\n",
       "                        <td id=\"T_363b979c_fee8_11e9_891c_0242ac1c0002row5_col1\" class=\"data row5 col1\" >0.066</td>\n",
       "                        <td id=\"T_363b979c_fee8_11e9_891c_0242ac1c0002row5_col2\" class=\"data row5 col2\" >0.016</td>\n",
       "                        <td id=\"T_363b979c_fee8_11e9_891c_0242ac1c0002row5_col3\" class=\"data row5 col3\" >0.024</td>\n",
       "                        <td id=\"T_363b979c_fee8_11e9_891c_0242ac1c0002row5_col4\" class=\"data row5 col4\" >-0.038</td>\n",
       "                        <td id=\"T_363b979c_fee8_11e9_891c_0242ac1c0002row5_col5\" class=\"data row5 col5\" >1</td>\n",
       "                        <td id=\"T_363b979c_fee8_11e9_891c_0242ac1c0002row5_col6\" class=\"data row5 col6\" >0.088</td>\n",
       "                        <td id=\"T_363b979c_fee8_11e9_891c_0242ac1c0002row5_col7\" class=\"data row5 col7\" >-0.11</td>\n",
       "                        <td id=\"T_363b979c_fee8_11e9_891c_0242ac1c0002row5_col8\" class=\"data row5 col8\" >0.27</td>\n",
       "            </tr>\n",
       "            <tr>\n",
       "                        <th id=\"T_363b979c_fee8_11e9_891c_0242ac1c0002level0_row6\" class=\"row_heading level0 row6\" >lang.num</th>\n",
       "                        <td id=\"T_363b979c_fee8_11e9_891c_0242ac1c0002row6_col0\" class=\"data row6 col0\" >0.0046</td>\n",
       "                        <td id=\"T_363b979c_fee8_11e9_891c_0242ac1c0002row6_col1\" class=\"data row6 col1\" >-0.0067</td>\n",
       "                        <td id=\"T_363b979c_fee8_11e9_891c_0242ac1c0002row6_col2\" class=\"data row6 col2\" >0.14</td>\n",
       "                        <td id=\"T_363b979c_fee8_11e9_891c_0242ac1c0002row6_col3\" class=\"data row6 col3\" >0.013</td>\n",
       "                        <td id=\"T_363b979c_fee8_11e9_891c_0242ac1c0002row6_col4\" class=\"data row6 col4\" >-0.042</td>\n",
       "                        <td id=\"T_363b979c_fee8_11e9_891c_0242ac1c0002row6_col5\" class=\"data row6 col5\" >0.088</td>\n",
       "                        <td id=\"T_363b979c_fee8_11e9_891c_0242ac1c0002row6_col6\" class=\"data row6 col6\" >1</td>\n",
       "                        <td id=\"T_363b979c_fee8_11e9_891c_0242ac1c0002row6_col7\" class=\"data row6 col7\" >-0.07</td>\n",
       "                        <td id=\"T_363b979c_fee8_11e9_891c_0242ac1c0002row6_col8\" class=\"data row6 col8\" >0.17</td>\n",
       "            </tr>\n",
       "            <tr>\n",
       "                        <th id=\"T_363b979c_fee8_11e9_891c_0242ac1c0002level0_row7\" class=\"row_heading level0 row7\" >cont_rating</th>\n",
       "                        <td id=\"T_363b979c_fee8_11e9_891c_0242ac1c0002row7_col0\" class=\"data row7 col0\" >0.14</td>\n",
       "                        <td id=\"T_363b979c_fee8_11e9_891c_0242ac1c0002row7_col1\" class=\"data row7 col1\" >-0.03</td>\n",
       "                        <td id=\"T_363b979c_fee8_11e9_891c_0242ac1c0002row7_col2\" class=\"data row7 col2\" >0.0091</td>\n",
       "                        <td id=\"T_363b979c_fee8_11e9_891c_0242ac1c0002row7_col3\" class=\"data row7 col3\" >0.0014</td>\n",
       "                        <td id=\"T_363b979c_fee8_11e9_891c_0242ac1c0002row7_col4\" class=\"data row7 col4\" >0.02</td>\n",
       "                        <td id=\"T_363b979c_fee8_11e9_891c_0242ac1c0002row7_col5\" class=\"data row7 col5\" >-0.11</td>\n",
       "                        <td id=\"T_363b979c_fee8_11e9_891c_0242ac1c0002row7_col6\" class=\"data row7 col6\" >-0.07</td>\n",
       "                        <td id=\"T_363b979c_fee8_11e9_891c_0242ac1c0002row7_col7\" class=\"data row7 col7\" >1</td>\n",
       "                        <td id=\"T_363b979c_fee8_11e9_891c_0242ac1c0002row7_col8\" class=\"data row7 col8\" >-0.098</td>\n",
       "            </tr>\n",
       "            <tr>\n",
       "                        <th id=\"T_363b979c_fee8_11e9_891c_0242ac1c0002level0_row8\" class=\"row_heading level0 row8\" >user_rating</th>\n",
       "                        <td id=\"T_363b979c_fee8_11e9_891c_0242ac1c0002row8_col0\" class=\"data row8 col0\" >0.066</td>\n",
       "                        <td id=\"T_363b979c_fee8_11e9_891c_0242ac1c0002row8_col1\" class=\"data row8 col1\" >0.047</td>\n",
       "                        <td id=\"T_363b979c_fee8_11e9_891c_0242ac1c0002row8_col2\" class=\"data row8 col2\" >0.083</td>\n",
       "                        <td id=\"T_363b979c_fee8_11e9_891c_0242ac1c0002row8_col3\" class=\"data row8 col3\" >0.069</td>\n",
       "                        <td id=\"T_363b979c_fee8_11e9_891c_0242ac1c0002row8_col4\" class=\"data row8 col4\" >-0.042</td>\n",
       "                        <td id=\"T_363b979c_fee8_11e9_891c_0242ac1c0002row8_col5\" class=\"data row8 col5\" >0.27</td>\n",
       "                        <td id=\"T_363b979c_fee8_11e9_891c_0242ac1c0002row8_col6\" class=\"data row8 col6\" >0.17</td>\n",
       "                        <td id=\"T_363b979c_fee8_11e9_891c_0242ac1c0002row8_col7\" class=\"data row8 col7\" >-0.098</td>\n",
       "                        <td id=\"T_363b979c_fee8_11e9_891c_0242ac1c0002row8_col8\" class=\"data row8 col8\" >1</td>\n",
       "            </tr>\n",
       "    </tbody></table>"
      ],
      "text/plain": [
       "<pandas.io.formats.style.Styler at 0x7fb4ba52de10>"
      ]
     },
     "execution_count": 51,
     "metadata": {
      "tags": []
     },
     "output_type": "execute_result"
    }
   ],
   "source": [
    "data.corr().style.background_gradient(cmap='coolwarm').set_precision(2)"
   ]
  },
  {
   "cell_type": "markdown",
   "metadata": {
    "colab_type": "text",
    "id": "2KL7cTylwmyA"
   },
   "source": [
    "И двойные графики"
   ]
  },
  {
   "cell_type": "code",
   "execution_count": 0,
   "metadata": {
    "colab": {
     "base_uri": "https://localhost:8080/",
     "height": 904
    },
    "colab_type": "code",
    "id": "hyzIA070wmyB",
    "outputId": "231357ed-a2cd-4736-8369-5c2f8ef00e3b"
   },
   "outputs": [
    {
     "data": {
      "image/png": "[encoded data removed]",
      "text/plain": [
       "<Figure size 1080x1080 with 81 Axes>"
      ]
     },
     "metadata": {
      "tags": []
     },
     "output_type": "display_data"
    }
   ],
   "source": [
    "pd.plotting.scatter_matrix(data, c=data[target_col], figsize=(15, 15), marker='o',\n",
    "                        hist_kwds={'bins': 20}, s=10, alpha=.8)\n",
    "None"
   ]
  },
  {
   "cell_type": "markdown",
   "metadata": {
    "colab_type": "text",
    "id": "1VzGvvInwmyE"
   },
   "source": [
    "**Упражнение**: Мы только что посмотрели на данные, какой из посмотренных графиков говорит, что мы вряд ли сможем сделать хорошую модель?\n",
    "> Ответ:"
   ]
  },
  {
   "cell_type": "markdown",
   "metadata": {
    "colab_type": "text",
    "id": "IjbWZJYMwmyE"
   },
   "source": [
    "В данном случае фичей мало, поэтому мы легко смогли посмотреть на них. Обычно фичей намного больше и построить такие графики для пар фичей не получится. Тогда в первую очередь можно посмотреть на корреляцию фичей с таргетом."
   ]
  },
  {
   "cell_type": "markdown",
   "metadata": {
    "colab_type": "text",
    "id": "x5PunMbGwmyF"
   },
   "source": [
    "# Подготовка данных\n",
    "\n",
    "### Очистка\n",
    "\n",
    "Данные достаточно чистые, в них вряд ли есть какие-то ошибки и не получается с первого взгляда найти выбросы (outliers). Поэтому и очищать особо нечего. Но в реальной жизни, ваши данные скорее всего будут полны мусора.\n",
    "\n",
    "Чаще всего нам пришлось бы убирать выбросы, исправлять очевидные ошибки итд.\n"
   ]
  },
  {
   "cell_type": "markdown",
   "metadata": {
    "colab_type": "text",
    "id": "PKapgqJQwmyG"
   },
   "source": [
    "### Создание фичей\n",
    "\n",
    "Чем сложнее зависимость между фичей и таргетом, тем более сложная модель потребуется, чтобы эту зависимость использовать. Почему бы просто не выбрать семейство самых гибких моделей? Проблема в том, что без большого количества данных для обучения будет происходить overfit. Это значит, что модель выучит зависимости, которые случайно появились в обучающих из-за ограниченного размера выборки. Такая модель будет хорошо работать на обучающей выборке, но будет плохо справляться с реальной задачей.\n",
    "\n",
    "Используя человеческие знания об устройстве мира, мы можем упростить такую зависимость, создав новые фичи. На самом деле, можно даже не использовать человеческие знания, а просто применить какой-нибудь алгоритм. Например, если у нас есть фичи $x_1, x_2, ..., x_n$, то мы можем добавить новые фичи вида \n",
    "$$x_{newij} = x_i x_j, i \\ne j$$\n",
    "и понадеяться, что это улучшит предсказания"
   ]
  },
  {
   "cell_type": "code",
   "execution_count": 0,
   "metadata": {
    "colab": {
     "base_uri": "https://localhost:8080/",
     "height": 204
    },
    "colab_type": "code",
    "id": "UfOCVymGwmyG",
    "outputId": "940da61d-430b-4999-925c-5e06f5d87f9b",
    "scrolled": false
   },
   "outputs": [
    {
     "data": {
      "text/html": [
       "<div>\n",
       "<style scoped>\n",
       "    .dataframe tbody tr th:only-of-type {\n",
       "        vertical-align: middle;\n",
       "    }\n",
       "\n",
       "    .dataframe tbody tr th {\n",
       "        vertical-align: top;\n",
       "    }\n",
       "\n",
       "    .dataframe thead th {\n",
       "        text-align: right;\n",
       "    }\n",
       "</style>\n",
       "<table border=\"1\" class=\"dataframe\">\n",
       "  <thead>\n",
       "    <tr style=\"text-align: right;\">\n",
       "      <th></th>\n",
       "      <th>size_bytes</th>\n",
       "      <th>price</th>\n",
       "      <th>rating_count_tot</th>\n",
       "      <th>rating_count_ver</th>\n",
       "      <th>sup_devices.num</th>\n",
       "      <th>ipadSc_urls.num</th>\n",
       "      <th>lang.num</th>\n",
       "      <th>cont_rating</th>\n",
       "      <th>prime_genre</th>\n",
       "      <th>user_rating</th>\n",
       "      <th>is_free</th>\n",
       "    </tr>\n",
       "  </thead>\n",
       "  <tbody>\n",
       "    <tr>\n",
       "      <th>0</th>\n",
       "      <td>100788224</td>\n",
       "      <td>3.99</td>\n",
       "      <td>21292</td>\n",
       "      <td>26</td>\n",
       "      <td>38</td>\n",
       "      <td>5</td>\n",
       "      <td>10</td>\n",
       "      <td>4</td>\n",
       "      <td>Games</td>\n",
       "      <td>4.0</td>\n",
       "      <td>False</td>\n",
       "    </tr>\n",
       "    <tr>\n",
       "      <th>1</th>\n",
       "      <td>158578688</td>\n",
       "      <td>0.00</td>\n",
       "      <td>161065</td>\n",
       "      <td>26</td>\n",
       "      <td>37</td>\n",
       "      <td>5</td>\n",
       "      <td>23</td>\n",
       "      <td>4</td>\n",
       "      <td>Productivity</td>\n",
       "      <td>4.0</td>\n",
       "      <td>True</td>\n",
       "    </tr>\n",
       "    <tr>\n",
       "      <th>2</th>\n",
       "      <td>100524032</td>\n",
       "      <td>0.00</td>\n",
       "      <td>188583</td>\n",
       "      <td>2822</td>\n",
       "      <td>37</td>\n",
       "      <td>5</td>\n",
       "      <td>3</td>\n",
       "      <td>4</td>\n",
       "      <td>Weather</td>\n",
       "      <td>3.5</td>\n",
       "      <td>True</td>\n",
       "    </tr>\n",
       "    <tr>\n",
       "      <th>3</th>\n",
       "      <td>128512000</td>\n",
       "      <td>0.00</td>\n",
       "      <td>262241</td>\n",
       "      <td>649</td>\n",
       "      <td>37</td>\n",
       "      <td>5</td>\n",
       "      <td>9</td>\n",
       "      <td>12</td>\n",
       "      <td>Shopping</td>\n",
       "      <td>4.0</td>\n",
       "      <td>True</td>\n",
       "    </tr>\n",
       "    <tr>\n",
       "      <th>4</th>\n",
       "      <td>92774400</td>\n",
       "      <td>0.00</td>\n",
       "      <td>985920</td>\n",
       "      <td>5320</td>\n",
       "      <td>37</td>\n",
       "      <td>5</td>\n",
       "      <td>45</td>\n",
       "      <td>4</td>\n",
       "      <td>Reference</td>\n",
       "      <td>4.5</td>\n",
       "      <td>True</td>\n",
       "    </tr>\n",
       "  </tbody>\n",
       "</table>\n",
       "</div>"
      ],
      "text/plain": [
       "   size_bytes  price  rating_count_tot  ...   prime_genre  user_rating  is_free\n",
       "0   100788224   3.99             21292  ...         Games          4.0    False\n",
       "1   158578688   0.00            161065  ...  Productivity          4.0     True\n",
       "2   100524032   0.00            188583  ...       Weather          3.5     True\n",
       "3   128512000   0.00            262241  ...      Shopping          4.0     True\n",
       "4    92774400   0.00            985920  ...     Reference          4.5     True\n",
       "\n",
       "[5 rows x 11 columns]"
      ]
     },
     "execution_count": 53,
     "metadata": {
      "tags": []
     },
     "output_type": "execute_result"
    }
   ],
   "source": [
    "# Добавим категориальную фичу, которая говорит, бесплатное приложение или нет\n",
    "data['is_free'] = data['price'] == 0\n",
    "cat_cols.append('is_free')\n",
    "data.head()"
   ]
  },
  {
   "cell_type": "markdown",
   "metadata": {
    "colab_type": "text",
    "id": "dG_FTYS7wmyI"
   },
   "source": [
    "### Работа с категориальными фичами\n",
    "\n",
    "Большинство алгоритмов не принимает категориальные фичи в чистом виде и нужно из как-то закодировать.\n",
    "\n",
    "Из популярных алгоритмов с категориальными фичами умеет работать Градиентный Бустинг. У этого алгоритма есть много реализаций и среди известных мне реализаций с категориальными фичами в виде строк/булевых значений/etc умеет работать только catboost (библиотека от Яндекса, реализующая градиентный бустинг). Для xgboost и lightgbm же категориальные фичи нужно превратить в числа. Градиентный бустинг в sklearn вообще не умеет по-особенному обрабатывать категориальные фичи и их нужно кодировать как и для других алгоритмов."
   ]
  },
  {
   "cell_type": "markdown",
   "metadata": {
    "colab_type": "text",
    "id": "LvUW4AvXwmyJ"
   },
   "source": [
    "#### One-hot-encoding\n",
    "Самый простой способ закодировать категориальные фичи - one hot encoding. Представьте, что у нас есть категориальная фича prime_genre с возможными значениями \n",
    "> ['Games', 'Entertainment', 'Education', 'Photo & Video']\n",
    "\n",
    "мы можем создать 4 новые бинарные фичи для каждого из столбцов\n",
    "\n",
    "> 'Entertaiment' -> [0, 1, 0, 0]\n",
    "\n",
    "В pandas очень удобно использовать get_dummies для one-hot-encoding"
   ]
  },
  {
   "cell_type": "code",
   "execution_count": 0,
   "metadata": {
    "colab": {
     "base_uri": "https://localhost:8080/",
     "height": 173
    },
    "colab_type": "code",
    "id": "6hAPBNHNwmyK",
    "outputId": "4a78ccb5-eda1-4766-c2aa-0a3d2b600d0c"
   },
   "outputs": [
    {
     "data": {
      "text/html": [
       "<div>\n",
       "<style scoped>\n",
       "    .dataframe tbody tr th:only-of-type {\n",
       "        vertical-align: middle;\n",
       "    }\n",
       "\n",
       "    .dataframe tbody tr th {\n",
       "        vertical-align: top;\n",
       "    }\n",
       "\n",
       "    .dataframe thead th {\n",
       "        text-align: right;\n",
       "    }\n",
       "</style>\n",
       "<table border=\"1\" class=\"dataframe\">\n",
       "  <thead>\n",
       "    <tr style=\"text-align: right;\">\n",
       "      <th></th>\n",
       "      <th>categorical</th>\n",
       "    </tr>\n",
       "  </thead>\n",
       "  <tbody>\n",
       "    <tr>\n",
       "      <th>0</th>\n",
       "      <td>a</td>\n",
       "    </tr>\n",
       "    <tr>\n",
       "      <th>1</th>\n",
       "      <td>b</td>\n",
       "    </tr>\n",
       "    <tr>\n",
       "      <th>2</th>\n",
       "      <td>a</td>\n",
       "    </tr>\n",
       "    <tr>\n",
       "      <th>3</th>\n",
       "      <td>c</td>\n",
       "    </tr>\n",
       "  </tbody>\n",
       "</table>\n",
       "</div>"
      ],
      "text/plain": [
       "  categorical\n",
       "0           a\n",
       "1           b\n",
       "2           a\n",
       "3           c"
      ]
     },
     "execution_count": 54,
     "metadata": {
      "tags": []
     },
     "output_type": "execute_result"
    }
   ],
   "source": [
    "a = pd.DataFrame.from_dict({'categorical': ['a', 'b', 'a', 'c']})\n",
    "a"
   ]
  },
  {
   "cell_type": "code",
   "execution_count": 0,
   "metadata": {
    "colab": {
     "base_uri": "https://localhost:8080/",
     "height": 173
    },
    "colab_type": "code",
    "id": "3yibkxWYwmyM",
    "outputId": "11cbbd1e-8405-4b1c-d92a-c3c858183455"
   },
   "outputs": [
    {
     "data": {
      "text/html": [
       "<div>\n",
       "<style scoped>\n",
       "    .dataframe tbody tr th:only-of-type {\n",
       "        vertical-align: middle;\n",
       "    }\n",
       "\n",
       "    .dataframe tbody tr th {\n",
       "        vertical-align: top;\n",
       "    }\n",
       "\n",
       "    .dataframe thead th {\n",
       "        text-align: right;\n",
       "    }\n",
       "</style>\n",
       "<table border=\"1\" class=\"dataframe\">\n",
       "  <thead>\n",
       "    <tr style=\"text-align: right;\">\n",
       "      <th></th>\n",
       "      <th>categorical_a</th>\n",
       "      <th>categorical_b</th>\n",
       "      <th>categorical_c</th>\n",
       "    </tr>\n",
       "  </thead>\n",
       "  <tbody>\n",
       "    <tr>\n",
       "      <th>0</th>\n",
       "      <td>1</td>\n",
       "      <td>0</td>\n",
       "      <td>0</td>\n",
       "    </tr>\n",
       "    <tr>\n",
       "      <th>1</th>\n",
       "      <td>0</td>\n",
       "      <td>1</td>\n",
       "      <td>0</td>\n",
       "    </tr>\n",
       "    <tr>\n",
       "      <th>2</th>\n",
       "      <td>1</td>\n",
       "      <td>0</td>\n",
       "      <td>0</td>\n",
       "    </tr>\n",
       "    <tr>\n",
       "      <th>3</th>\n",
       "      <td>0</td>\n",
       "      <td>0</td>\n",
       "      <td>1</td>\n",
       "    </tr>\n",
       "  </tbody>\n",
       "</table>\n",
       "</div>"
      ],
      "text/plain": [
       "   categorical_a  categorical_b  categorical_c\n",
       "0              1              0              0\n",
       "1              0              1              0\n",
       "2              1              0              0\n",
       "3              0              0              1"
      ]
     },
     "execution_count": 55,
     "metadata": {
      "tags": []
     },
     "output_type": "execute_result"
    }
   ],
   "source": [
    "pd.get_dummies(a)"
   ]
  },
  {
   "cell_type": "code",
   "execution_count": 0,
   "metadata": {
    "colab": {},
    "colab_type": "code",
    "id": "qCg2zrJEwmyO",
    "scrolled": false
   },
   "outputs": [],
   "source": [
    "# Задание: Теперь добавьте в датафрейм колонки для всех категориальных фичей и обновите список категориальных фичей\n"
   ]
  },
  {
   "cell_type": "code",
   "execution_count": 0,
   "metadata": {
    "colab": {
     "base_uri": "https://localhost:8080/",
     "height": 34
    },
    "colab_type": "code",
    "id": "PEw0iiAXxlKD",
    "outputId": "038105c1-a726-4689-a299-34bcad98bfe2"
   },
   "outputs": [
    {
     "name": "stdout",
     "output_type": "stream",
     "text": [
      "(7197, 34)\n"
     ]
    }
   ],
   "source": [
    "# print(cat_cols)\n",
    "#data = pd.get_dummies(data, columns=cat_cols)\n",
    "# print(data.shape)\n",
    "#print(data.columns)\n",
    "data.head()\n",
    "print(data.shape)"
   ]
  },
  {
   "cell_type": "code",
   "execution_count": 0,
   "metadata": {
    "colab": {
     "base_uri": "https://localhost:8080/",
     "height": 292
    },
    "colab_type": "code",
    "id": "Qf1vNN6BwmyP",
    "outputId": "f7ad089e-6197-46dd-d50c-227bc9eb52f1"
   },
   "outputs": [
    {
     "name": "stdout",
     "output_type": "stream",
     "text": [
      "['prime_genre', 'is_free'] ['prime_genre_Book', 'prime_genre_Business', 'prime_genre_Catalogs', 'prime_genre_Education', 'prime_genre_Entertainment', 'prime_genre_Finance', 'prime_genre_Food & Drink', 'prime_genre_Games', 'prime_genre_Health & Fitness', 'prime_genre_Lifestyle', 'prime_genre_Medical', 'prime_genre_Music', 'prime_genre_Navigation', 'prime_genre_News', 'prime_genre_Photo & Video', 'prime_genre_Productivity', 'prime_genre_Reference', 'prime_genre_Shopping', 'prime_genre_Social Networking', 'prime_genre_Sports', 'prime_genre_Travel', 'prime_genre_Utilities', 'prime_genre_Weather', 'is_free_False', 'is_free_True']\n",
      "Index(['size_bytes', 'price', 'rating_count_tot', 'rating_count_ver',\n",
      "       'sup_devices.num', 'ipadSc_urls.num', 'lang.num', 'cont_rating',\n",
      "       'user_rating', 'prime_genre_Book', 'prime_genre_Business',\n",
      "       'prime_genre_Catalogs', 'prime_genre_Education',\n",
      "       'prime_genre_Entertainment', 'prime_genre_Finance',\n",
      "       'prime_genre_Food & Drink', 'prime_genre_Games',\n",
      "       'prime_genre_Health & Fitness', 'prime_genre_Lifestyle',\n",
      "       'prime_genre_Medical', 'prime_genre_Music', 'prime_genre_Navigation',\n",
      "       'prime_genre_News', 'prime_genre_Photo & Video',\n",
      "       'prime_genre_Productivity', 'prime_genre_Reference',\n",
      "       'prime_genre_Shopping', 'prime_genre_Social Networking',\n",
      "       'prime_genre_Sports', 'prime_genre_Travel', 'prime_genre_Utilities',\n",
      "       'prime_genre_Weather', 'is_free_False', 'is_free_True'],\n",
      "      dtype='object')\n"
     ]
    }
   ],
   "source": [
    "cat_cols_new = []\n",
    "for col_name in cat_cols:\n",
    "    cat_cols_new.extend(filter(lambda x: x.startswith(col_name), data.columns))\n",
    "print(cat_cols, cat_cols_new)\n",
    "cat_cols = cat_cols_new\n",
    "\n",
    "print(data.columns)"
   ]
  },
  {
   "cell_type": "markdown",
   "metadata": {
    "colab_type": "text",
    "id": "syPQvZSHwmyR"
   },
   "source": [
    "### Уменьшение размерности\n",
    "\n",
    "Часто бывает ситуация, когда данные имеют слишком большую размерность, особенно после one-hot-encoding. В таком случае могут помочь алгоритмы для снижения размерности данных. Один из таких алгоритмов - PCA.\n",
    "\n",
    "<img src=\"https://s3.amazonaws.com/files.dezyre.com/images/Tutorials/Principal+Component+Analysis.jpg\">\n",
    "Source: https://www.dezyre.com/data-science-in-python-tutorial/principal-component-analysis-tutorial\n",
    "\n",
    "В этом алгоритме мы находим перпендикулярные направления, вдоль которых имеется наибольшая вариация данных (на картинке можно увидеть такие векторы), выбираем из таких направлений $k$ с самой большой вариацией и в качестве новых фичей берем проекции точек на эти направления."
   ]
  },
  {
   "cell_type": "code",
   "execution_count": 0,
   "metadata": {
    "colab": {},
    "colab_type": "code",
    "id": "VKCbRrDYwmyU"
   },
   "outputs": [],
   "source": [
    "from sklearn.decomposition import PCA\n",
    "\n",
    "pca = PCA(n_components=20)\n",
    "pca.fit(data[num_cols + cat_cols])\n",
    "# Выход pca - numpy матрица, положим ее в новую переменную со всеми фичами\n",
    "X = pca.transform(data[num_cols + cat_cols])\n",
    "\n",
    "# Или есть более простой способ \n",
    "X = pca.fit_transform(data[num_cols + cat_cols])"
   ]
  },
  {
   "cell_type": "markdown",
   "metadata": {
    "colab_type": "text",
    "id": "qfLdnNvNwmyX"
   },
   "source": [
    "# Разделение на train/test\n",
    "\n",
    "После того, как мы обучили нашу модель нам нужно как-то понять, насколько она хорошо работает. Выше мы уже говорили про переобучение на данные, с которыми сеть обучалась. Из-за такого переобучения мы не сможем посчитать адекватно узнать точность предсказаний, если проверим точность на тех же данных, на которых обучались. Чтобы с этим бороться обучающую выборку обычно делят на две части train и test. На первой мы будем обучать модель, а на второй проверять, насколько хорошо модель работает. Размер тестовой выборки в 30-40% - неплохой выбор.\n",
    "\n",
    "Иногда данных слишком мало, чтобы жертвовать ими на тестовую часть. Тогда применяется метод, который называет cross validation. Мы посмотрим на то, как он работает в секции про оценку модели.\n",
    "\n",
    "**На самом деле, мы сделали не совсем правильно, потому что разделение на train/test нужно делать до добавления новых фичей/их кодирования итд. Иначе возможны лики из test части в train часть.** Например, при нормализации и PCA мы работаем со всем массивом данных, а значит информация из test попадет и в train. Но для упрощения кода и понимания того, что происходит мы не поделили выборку заранее. Если бы мы все-таки разделили выборку заранее, то нужно использовать fit на train части, а transform уже на обеих."
   ]
  },
  {
   "cell_type": "code",
   "execution_count": 0,
   "metadata": {
    "colab": {},
    "colab_type": "code",
    "id": "ocdPzq9wwmyY"
   },
   "outputs": [],
   "source": [
    "from sklearn.model_selection import train_test_split"
   ]
  },
  {
   "cell_type": "code",
   "execution_count": 0,
   "metadata": {
    "colab": {
     "base_uri": "https://localhost:8080/",
     "height": 51
    },
    "colab_type": "code",
    "id": "vk4a2SvSwmya",
    "outputId": "2a0c4754-1e36-47f3-ffdd-209664d84652"
   },
   "outputs": [
    {
     "name": "stdout",
     "output_type": "stream",
     "text": [
      "(5037, 20) (5037,)\n",
      "(2160, 20) (2160,)\n"
     ]
    }
   ],
   "source": [
    "# Задание: Загуглите как работает эта функция и поделите выборку на две части\n",
    " X_train, X_test, y_train, y_test = train_test_split(X, data[target_col], test_size=0.3)\n",
    " print(X_train.shape, y_train.shape)\n",
    " print(X_test.shape, y_test.shape)"
   ]
  },
  {
   "cell_type": "code",
   "execution_count": 0,
   "metadata": {
    "colab": {
     "base_uri": "https://localhost:8080/",
     "height": 34
    },
    "colab_type": "code",
    "id": "sFOHjZiP14WN",
    "outputId": "a279ac6b-aa74-4970-cd79-70841d369cd4"
   },
   "outputs": [
    {
     "name": "stdout",
     "output_type": "stream",
     "text": [
      "(5037, 34) (2160, 34)\n"
     ]
    }
   ],
   "source": [
    " data_train, data_test = train_test_split(data, test_size=0.3)\n",
    " print(data_train.shape, data_test.shape)\n",
    " datasets = [data_train, data_test]"
   ]
  },
  {
   "cell_type": "markdown",
   "metadata": {
    "colab_type": "text",
    "id": "K8K_nX6pwmyc"
   },
   "source": [
    "Хорошо, теперь можно обучить модели"
   ]
  },
  {
   "cell_type": "markdown",
   "metadata": {
    "colab_type": "text",
    "id": "dxL9x7_kwmyc"
   },
   "source": [
    "# Обучение\n",
    "\n",
    "Самый хороший способ - попробовать максимум разных алгоритмов, посмотреть, какой из них лучше справляется и уже по метрикам выбрать лучший (возможно, объединить предсказания с помощью стэкинга или блендинга, о которых будет на следующем занятии)."
   ]
  },
  {
   "cell_type": "code",
   "execution_count": 0,
   "metadata": {
    "colab": {},
    "colab_type": "code",
    "id": "yE8a8QSTwmyd"
   },
   "outputs": [],
   "source": [
    "from sklearn.linear_model import LinearRegression, Ridge\n",
    "from sklearn.ensemble import GradientBoostingRegressor, RandomForestRegressor\n",
    "from sklearn.metrics import r2_score, mean_squared_error"
   ]
  },
  {
   "cell_type": "markdown",
   "metadata": {
    "colab_type": "text",
    "id": "H_RV_Rpvwmyf"
   },
   "source": [
    "Наш курс про нейронные сети, поэтому мы не будем фокусироваться на алгоритмах, которые здесь представлены. Все, что нужно знать Ridge - линейная регрессия с регуляризацией. GradientBoosting и RandmForest - алгоритмы, основанные на том, что у нас есть много решающих деревьев, результаты которых потом аггрегируются, чтобы получить финальное предсказание. Как выглядит решающее дерево:\n",
    "<img src=\"https://46gyn61z4i0t1u1pnq2bbk2e-wpengine.netdna-ssl.com/wp-content/uploads/2018/07/what-is-a-decision-tree.png\">\n",
    "Source: https://www.displayr.com/what-is-a-decision-tree/"
   ]
  },
  {
   "cell_type": "markdown",
   "metadata": {
    "colab_type": "text",
    "id": "MavOeg-Ywmyf"
   },
   "source": [
    "Лучше поговорим про метрики. В данном случае у нас задача регрессии, поэтому мы используем две метрики MSE и R_squared. \n",
    "\n",
    "$$R^2 = 1 - \\frac{\\sum_{i=1}^{n} (y^i - y_{pred}^i)^2}{\\sum_{i=1}^{n} (y^i - y_{mean})^2}$$\n",
    "\n",
    "Другими словами, это доля объясненной вариации. Максимальное значение = 1, когда у нас есть идеальный предсказатель. Значение меньше 0 означает, что наша модель хуже, чем константая модель, которая выдает просто среднее по таргету."
   ]
  },
  {
   "cell_type": "code",
   "execution_count": 0,
   "metadata": {
    "colab": {},
    "colab_type": "code",
    "id": "XU3Hmpt8wmyg"
   },
   "outputs": [],
   "source": [
    "def print_metrics(y_preds, y):\n",
    "    print(f'R^2: {r2_score(y_preds, y)}')\n",
    "    print(f'MSE: {mean_squared_error(y_preds, y)}')"
   ]
  },
  {
   "cell_type": "code",
   "execution_count": 0,
   "metadata": {
    "colab": {
     "base_uri": "https://localhost:8080/",
     "height": 51
    },
    "colab_type": "code",
    "id": "kZAkJCekwmyi",
    "outputId": "4e75ddd3-a6ef-4826-84b8-7bf60299168b"
   },
   "outputs": [
    {
     "name": "stdout",
     "output_type": "stream",
     "text": [
      "R^2: -5.725152744166251\n",
      "MSE: 1.946695589565976\n"
     ]
    }
   ],
   "source": [
    "# Используем обычную линейную регрессию, минимизирующую сумму квадратов ошибки\n",
    "lr = LinearRegression()\n",
    "lr.fit(X_train, y_train)\n",
    "\n",
    "print_metrics(lr.predict(X_test), y_test)"
   ]
  },
  {
   "cell_type": "code",
   "execution_count": 0,
   "metadata": {
    "colab": {
     "base_uri": "https://localhost:8080/",
     "height": 105
    },
    "colab_type": "code",
    "id": "NN0S14vXwmyj",
    "outputId": "58c15fbd-09f8-4aed-d10e-c19045feb87e"
   },
   "outputs": [
    {
     "name": "stdout",
     "output_type": "stream",
     "text": [
      "R^2: -5.740043063042472\n",
      "MSE: 1.946551683124014\n"
     ]
    },
    {
     "name": "stderr",
     "output_type": "stream",
     "text": [
      "/usr/local/lib/python3.6/dist-packages/sklearn/linear_model/ridge.py:147: LinAlgWarning: Ill-conditioned matrix (rcond=1.26586e-19): result may not be accurate.\n",
      "  overwrite_a=True).T\n"
     ]
    }
   ],
   "source": [
    "# Используем линейную регрессию с регуляризацией - в Loss добавляется сумма квадратов коэффициентов, умноженная\n",
    "# на некоторый коэффициент. Это позволяет бороться с тем, что колонки в данных могут быть линейно зависимы\n",
    "# А они у нас почти навреняка линейно зависимы из-за one hot encdoing\n",
    "rlr = Ridge(alpha=1)\n",
    "rlr.fit(X_train, y_train)\n",
    "\n",
    "print_metrics(rlr.predict(X_test), y_test)"
   ]
  },
  {
   "cell_type": "code",
   "execution_count": 0,
   "metadata": {
    "colab": {
     "base_uri": "https://localhost:8080/",
     "height": 51
    },
    "colab_type": "code",
    "id": "H5x5FRizwmyl",
    "outputId": "abe28283-32e8-4b5e-c9ce-769cb45b4b3a"
   },
   "outputs": [
    {
     "name": "stdout",
     "output_type": "stream",
     "text": [
      "R^2: 0.15850408100859215\n",
      "MSE: 1.037041250432775\n"
     ]
    }
   ],
   "source": [
    "gbr = GradientBoostingRegressor()\n",
    "gbr.fit(X_train, y_train)\n",
    "\n",
    "print_metrics(gbr.predict(X_test), y_test)"
   ]
  },
  {
   "cell_type": "code",
   "execution_count": 0,
   "metadata": {
    "colab": {
     "base_uri": "https://localhost:8080/",
     "height": 105
    },
    "colab_type": "code",
    "id": "1b5wPDZEwmyn",
    "outputId": "57ab9f72-f135-4ab3-b559-99465fb6d942"
   },
   "outputs": [
    {
     "name": "stderr",
     "output_type": "stream",
     "text": [
      "/usr/local/lib/python3.6/dist-packages/sklearn/ensemble/forest.py:245: FutureWarning: The default value of n_estimators will change from 10 in version 0.20 to 100 in 0.22.\n",
      "  \"10 in version 0.20 to 100 in 0.22.\", FutureWarning)\n"
     ]
    },
    {
     "name": "stdout",
     "output_type": "stream",
     "text": [
      "R^2: 0.4146476137127262\n",
      "MSE: 0.9080868055555555\n"
     ]
    }
   ],
   "source": [
    "rfr = RandomForestRegressor()\n",
    "rfr.fit(X_train, y_train)\n",
    "\n",
    "print_metrics(rfr.predict(X_test), y_test)"
   ]
  },
  {
   "cell_type": "markdown",
   "metadata": {
    "colab_type": "text",
    "id": "XzZSS4GMwmyo"
   },
   "source": [
    "Как видим, методы, основанные на линейной регрессии дали результаты хуже, чем предсказание константы, а вот методы, основанные на лесах уже сработали лучше. \n",
    "\n",
    "**Задание:** поиграйтесь с гиперпараметрами и улучшите предсказания моделей."
   ]
  },
  {
   "cell_type": "markdown",
   "metadata": {
    "colab_type": "text",
    "id": "oWYgaCIvwmyp"
   },
   "source": [
    "# Cross Validation\n",
    "\n",
    "До этого мы разбирали случай, когда выбоорка заранее делится на train/test, но часто данных итак не хватает и отдавать их часть на test слишком расточительно. В такой ситуации на помощью приходит кросс валидация:\n",
    "1. Выберем $k$ - количество частей, на которые разобьется наш датасет\n",
    "2. for $ i = 1..k$ \n",
    "    * Обучим модель на всех частях датасета, кроме i-ой.\n",
    "    * Посчитаем метрики или предсказания для i-ой части\n",
    "3. Саггрегируем все все предсказания или усредним метрики\n",
    "\n",
    "Таким образом мы сможем получить более объективные предсказания нашей модели, использовав весь датасет как train и как test, при этом не создав утечек данных.\n",
    "\n",
    "В sklearn существуют уже готовые классы моделей, которые за нас проводят все вышеописанные действия. Но у них есть один минус - выше мы уже писали, что лики могут произойти еще на этапе обработки данных. Избежать этого при ручной разбивке датасета легко, но в случае кросс валидации придется либо сдлеать специальный объект Pipeline, в котором будет скрыта вся обработка данных, и sklearn просто вызовет его $k$ раз, либо руками выбирать индексы объектов с помощью класса KFold и самостоятельно обрабатывать данные. Мы не будем делать ни то, ни другое, но покажем, как это может быть реализовано."
   ]
  },
  {
   "cell_type": "markdown",
   "metadata": {
    "colab_type": "text",
    "id": "Duh-8O8nwmyq"
   },
   "source": [
    "Получим из кроссвалидации метрики"
   ]
  },
  {
   "cell_type": "code",
   "execution_count": 0,
   "metadata": {
    "colab": {},
    "colab_type": "code",
    "id": "IGOMYPm5wmyq"
   },
   "outputs": [],
   "source": [
    "from sklearn.linear_model import LinearRegression, Ridge\n",
    "from sklearn.ensemble import GradientBoostingRegressor, RandomForestRegressor\n",
    "from sklearn.metrics import r2_score, mean_squared_error, make_scorer\n",
    "from sklearn.model_selection import cross_validate"
   ]
  },
  {
   "cell_type": "code",
   "execution_count": 0,
   "metadata": {
    "colab": {
     "base_uri": "https://localhost:8080/",
     "height": 85
    },
    "colab_type": "code",
    "id": "NT6Kdt-_wmyu",
    "outputId": "7bc8b617-36d5-405d-d46f-f4ae0cf0ea8b"
   },
   "outputs": [
    {
     "data": {
      "text/plain": [
       "{'fit_time': array([0.02331781, 0.0163455 , 0.01636219, 0.0162158 , 0.01668811]),\n",
       " 'score_time': array([0.00813413, 0.0048871 , 0.00447464, 0.00480509, 0.00452685]),\n",
       " 'test_mean_squared_error': array([1.62693772, 1.47707468, 1.92900806, 2.83114301, 2.94795558]),\n",
       " 'test_r2_score': array([-0.78789292,  0.07281239,  0.12093171,  0.10562761,  0.06601833])}"
      ]
     },
     "execution_count": 75,
     "metadata": {
      "tags": []
     },
     "output_type": "execute_result"
    }
   ],
   "source": [
    "cross_validate(LinearRegression(), X, data[target_col], cv=5, \n",
    "               scoring={'r2_score': make_scorer(r2_score), \n",
    "                        'mean_squared_error': make_scorer(mean_squared_error)})"
   ]
  },
  {
   "cell_type": "code",
   "execution_count": 0,
   "metadata": {
    "colab": {
     "base_uri": "https://localhost:8080/",
     "height": 275
    },
    "colab_type": "code",
    "id": "xeG9A6tCwmyw",
    "outputId": "00a01daf-1338-4204-f10a-cce88b514784"
   },
   "outputs": [
    {
     "name": "stderr",
     "output_type": "stream",
     "text": [
      "/usr/local/lib/python3.6/dist-packages/sklearn/linear_model/ridge.py:147: LinAlgWarning: Ill-conditioned matrix (rcond=7.30607e-20): result may not be accurate.\n",
      "  overwrite_a=True).T\n",
      "/usr/local/lib/python3.6/dist-packages/sklearn/linear_model/ridge.py:147: LinAlgWarning: Ill-conditioned matrix (rcond=1.28332e-19): result may not be accurate.\n",
      "  overwrite_a=True).T\n",
      "/usr/local/lib/python3.6/dist-packages/sklearn/linear_model/ridge.py:147: LinAlgWarning: Ill-conditioned matrix (rcond=1.37879e-19): result may not be accurate.\n",
      "  overwrite_a=True).T\n",
      "/usr/local/lib/python3.6/dist-packages/sklearn/linear_model/ridge.py:147: LinAlgWarning: Ill-conditioned matrix (rcond=1.22682e-19): result may not be accurate.\n",
      "  overwrite_a=True).T\n",
      "/usr/local/lib/python3.6/dist-packages/sklearn/linear_model/ridge.py:147: LinAlgWarning: Ill-conditioned matrix (rcond=1.33929e-19): result may not be accurate.\n",
      "  overwrite_a=True).T\n"
     ]
    },
    {
     "data": {
      "text/plain": [
       "{'fit_time': array([0.01131892, 0.00520945, 0.0050261 , 0.00663137, 0.00631404]),\n",
       " 'score_time': array([0.00809741, 0.00164628, 0.00195479, 0.00176287, 0.00168729]),\n",
       " 'test_mean_squared_error': array([1.62657466, 1.47683218, 1.92885566, 2.83146453, 2.94799021]),\n",
       " 'test_r2_score': array([-0.78749394,  0.07296461,  0.12100117,  0.10552604,  0.06600736])}"
      ]
     },
     "execution_count": 76,
     "metadata": {
      "tags": []
     },
     "output_type": "execute_result"
    }
   ],
   "source": [
    "cross_validate(Ridge(), X, data[target_col], cv=5, \n",
    "               scoring={'r2_score': make_scorer(r2_score, ), \n",
    "                        'mean_squared_error': make_scorer(mean_squared_error)})"
   ]
  },
  {
   "cell_type": "code",
   "execution_count": 0,
   "metadata": {
    "colab": {
     "base_uri": "https://localhost:8080/",
     "height": 85
    },
    "colab_type": "code",
    "id": "SD0Q14xzwmyy",
    "outputId": "b6683cf3-173b-4b74-96dc-c3b8440b5172"
   },
   "outputs": [
    {
     "data": {
      "text/plain": [
       "{'fit_time': array([1.09338737, 1.09144402, 1.09568667, 1.09751129, 1.08933306]),\n",
       " 'score_time': array([0.00621772, 0.00605631, 0.00623226, 0.00631428, 0.00592542]),\n",
       " 'test_mean_squared_error': array([0.66751471, 0.87431282, 1.04525139, 1.35658777, 1.46087228]),\n",
       " 'test_r2_score': array([0.26644713, 0.45117737, 0.52366848, 0.57144706, 0.5371613 ])}"
      ]
     },
     "execution_count": 77,
     "metadata": {
      "tags": []
     },
     "output_type": "execute_result"
    }
   ],
   "source": [
    "cross_validate(GradientBoostingRegressor(), X, data[target_col], cv=5, \n",
    "               scoring={'r2_score': make_scorer(r2_score, ), \n",
    "                        'mean_squared_error': make_scorer(mean_squared_error)})"
   ]
  },
  {
   "cell_type": "code",
   "execution_count": 0,
   "metadata": {
    "colab": {
     "base_uri": "https://localhost:8080/",
     "height": 275
    },
    "colab_type": "code",
    "id": "bG5XVz7uwmyz",
    "outputId": "670e6eaf-8468-4f32-ddc8-3c3d44c3ce60"
   },
   "outputs": [
    {
     "name": "stderr",
     "output_type": "stream",
     "text": [
      "/usr/local/lib/python3.6/dist-packages/sklearn/ensemble/forest.py:245: FutureWarning: The default value of n_estimators will change from 10 in version 0.20 to 100 in 0.22.\n",
      "  \"10 in version 0.20 to 100 in 0.22.\", FutureWarning)\n",
      "/usr/local/lib/python3.6/dist-packages/sklearn/ensemble/forest.py:245: FutureWarning: The default value of n_estimators will change from 10 in version 0.20 to 100 in 0.22.\n",
      "  \"10 in version 0.20 to 100 in 0.22.\", FutureWarning)\n",
      "/usr/local/lib/python3.6/dist-packages/sklearn/ensemble/forest.py:245: FutureWarning: The default value of n_estimators will change from 10 in version 0.20 to 100 in 0.22.\n",
      "  \"10 in version 0.20 to 100 in 0.22.\", FutureWarning)\n",
      "/usr/local/lib/python3.6/dist-packages/sklearn/ensemble/forest.py:245: FutureWarning: The default value of n_estimators will change from 10 in version 0.20 to 100 in 0.22.\n",
      "  \"10 in version 0.20 to 100 in 0.22.\", FutureWarning)\n",
      "/usr/local/lib/python3.6/dist-packages/sklearn/ensemble/forest.py:245: FutureWarning: The default value of n_estimators will change from 10 in version 0.20 to 100 in 0.22.\n",
      "  \"10 in version 0.20 to 100 in 0.22.\", FutureWarning)\n"
     ]
    },
    {
     "data": {
      "text/plain": [
       "{'fit_time': array([0.89489269, 0.82011724, 0.82307816, 0.86923742, 0.87238145]),\n",
       " 'score_time': array([0.00854993, 0.00848484, 0.00848341, 0.0096314 , 0.00938964]),\n",
       " 'test_mean_squared_error': array([0.62566146, 0.77894965, 0.87880473, 1.10843815, 1.39113447]),\n",
       " 'test_r2_score': array([0.31244099, 0.51103862, 0.59951989, 0.64983878, 0.55925588])}"
      ]
     },
     "execution_count": 78,
     "metadata": {
      "tags": []
     },
     "output_type": "execute_result"
    }
   ],
   "source": [
    "cross_validate(RandomForestRegressor(), X, data[target_col], cv=5, \n",
    "               scoring={'r2_score': make_scorer(r2_score, ), \n",
    "                        'mean_squared_error': make_scorer(mean_squared_error)})"
   ]
  },
  {
   "cell_type": "markdown",
   "metadata": {
    "colab_type": "text",
    "id": "bqUdv4HGwmy0"
   },
   "source": [
    "А еще с помощью кросс валидации можно искать гиперпараметры."
   ]
  },
  {
   "cell_type": "code",
   "execution_count": 0,
   "metadata": {
    "colab": {},
    "colab_type": "code",
    "id": "pgcFhpBiwmy1"
   },
   "outputs": [],
   "source": [
    "from sklearn.model_selection import GridSearchCV"
   ]
  },
  {
   "cell_type": "code",
   "execution_count": 0,
   "metadata": {
    "colab": {
     "base_uri": "https://localhost:8080/",
     "height": 1000
    },
    "colab_type": "code",
    "id": "fPTaZvtdwmy2",
    "outputId": "455ed21e-874d-4f24-aade-d30cda7211de",
    "scrolled": true
   },
   "outputs": [
    {
     "name": "stdout",
     "output_type": "stream",
     "text": [
      "Fitting 5 folds for each of 12 candidates, totalling 60 fits\n",
      "[CV] learning_rate=0.01, n_estimators=100 ............................\n"
     ]
    },
    {
     "name": "stderr",
     "output_type": "stream",
     "text": [
      "[Parallel(n_jobs=1)]: Using backend SequentialBackend with 1 concurrent workers.\n"
     ]
    },
    {
     "name": "stdout",
     "output_type": "stream",
     "text": [
      "[CV]  learning_rate=0.01, n_estimators=100, score=0.391, total=   0.9s\n",
      "[CV] learning_rate=0.01, n_estimators=100 ............................\n"
     ]
    },
    {
     "name": "stderr",
     "output_type": "stream",
     "text": [
      "[Parallel(n_jobs=1)]: Done   1 out of   1 | elapsed:    0.9s remaining:    0.0s\n"
     ]
    },
    {
     "name": "stdout",
     "output_type": "stream",
     "text": [
      "[CV]  learning_rate=0.01, n_estimators=100, score=0.389, total=   0.9s\n",
      "[CV] learning_rate=0.01, n_estimators=100 ............................\n"
     ]
    },
    {
     "name": "stderr",
     "output_type": "stream",
     "text": [
      "[Parallel(n_jobs=1)]: Done   2 out of   2 | elapsed:    1.8s remaining:    0.0s\n"
     ]
    },
    {
     "name": "stdout",
     "output_type": "stream",
     "text": [
      "[CV]  learning_rate=0.01, n_estimators=100, score=0.358, total=   0.9s\n",
      "[CV] learning_rate=0.01, n_estimators=100 ............................\n"
     ]
    },
    {
     "name": "stderr",
     "output_type": "stream",
     "text": [
      "[Parallel(n_jobs=1)]: Done   3 out of   3 | elapsed:    2.7s remaining:    0.0s\n"
     ]
    },
    {
     "name": "stdout",
     "output_type": "stream",
     "text": [
      "[CV]  learning_rate=0.01, n_estimators=100, score=0.388, total=   0.9s\n",
      "[CV] learning_rate=0.01, n_estimators=100 ............................\n"
     ]
    },
    {
     "name": "stderr",
     "output_type": "stream",
     "text": [
      "[Parallel(n_jobs=1)]: Done   4 out of   4 | elapsed:    3.6s remaining:    0.0s\n"
     ]
    },
    {
     "name": "stdout",
     "output_type": "stream",
     "text": [
      "[CV]  learning_rate=0.01, n_estimators=100, score=0.386, total=   0.9s\n",
      "[CV] learning_rate=0.01, n_estimators=150 ............................\n"
     ]
    },
    {
     "name": "stderr",
     "output_type": "stream",
     "text": [
      "[Parallel(n_jobs=1)]: Done   5 out of   5 | elapsed:    4.5s remaining:    0.0s\n"
     ]
    },
    {
     "name": "stdout",
     "output_type": "stream",
     "text": [
      "[CV]  learning_rate=0.01, n_estimators=150, score=0.447, total=   1.3s\n",
      "[CV] learning_rate=0.01, n_estimators=150 ............................\n"
     ]
    },
    {
     "name": "stderr",
     "output_type": "stream",
     "text": [
      "[Parallel(n_jobs=1)]: Done   6 out of   6 | elapsed:    5.8s remaining:    0.0s\n"
     ]
    },
    {
     "name": "stdout",
     "output_type": "stream",
     "text": [
      "[CV]  learning_rate=0.01, n_estimators=150, score=0.442, total=   1.3s\n",
      "[CV] learning_rate=0.01, n_estimators=150 ............................\n"
     ]
    },
    {
     "name": "stderr",
     "output_type": "stream",
     "text": [
      "[Parallel(n_jobs=1)]: Done   7 out of   7 | elapsed:    7.0s remaining:    0.0s\n"
     ]
    },
    {
     "name": "stdout",
     "output_type": "stream",
     "text": [
      "[CV]  learning_rate=0.01, n_estimators=150, score=0.401, total=   1.3s\n",
      "[CV] learning_rate=0.01, n_estimators=150 ............................\n"
     ]
    },
    {
     "name": "stderr",
     "output_type": "stream",
     "text": [
      "[Parallel(n_jobs=1)]: Done   8 out of   8 | elapsed:    8.3s remaining:    0.0s\n"
     ]
    },
    {
     "name": "stdout",
     "output_type": "stream",
     "text": [
      "[CV]  learning_rate=0.01, n_estimators=150, score=0.442, total=   1.3s\n",
      "[CV] learning_rate=0.01, n_estimators=150 ............................\n"
     ]
    },
    {
     "name": "stderr",
     "output_type": "stream",
     "text": [
      "[Parallel(n_jobs=1)]: Done   9 out of   9 | elapsed:    9.6s remaining:    0.0s\n"
     ]
    },
    {
     "name": "stdout",
     "output_type": "stream",
     "text": [
      "[CV]  learning_rate=0.01, n_estimators=150, score=0.440, total=   1.3s\n",
      "[CV] learning_rate=0.01, n_estimators=440 ............................\n",
      "[CV]  learning_rate=0.01, n_estimators=440, score=0.528, total=   3.6s\n",
      "[CV] learning_rate=0.01, n_estimators=440 ............................\n",
      "[CV]  learning_rate=0.01, n_estimators=440, score=0.514, total=   3.5s\n",
      "[CV] learning_rate=0.01, n_estimators=440 ............................\n",
      "[CV]  learning_rate=0.01, n_estimators=440, score=0.462, total=   3.5s\n",
      "[CV] learning_rate=0.01, n_estimators=440 ............................\n",
      "[CV]  learning_rate=0.01, n_estimators=440, score=0.521, total=   3.5s\n",
      "[CV] learning_rate=0.01, n_estimators=440 ............................\n",
      "[CV]  learning_rate=0.01, n_estimators=440, score=0.521, total=   3.5s\n",
      "[CV] learning_rate=0.05, n_estimators=100 ............................\n",
      "[CV]  learning_rate=0.05, n_estimators=100, score=0.532, total=   0.8s\n",
      "[CV] learning_rate=0.05, n_estimators=100 ............................\n",
      "[CV]  learning_rate=0.05, n_estimators=100, score=0.516, total=   0.8s\n",
      "[CV] learning_rate=0.05, n_estimators=100 ............................\n",
      "[CV]  learning_rate=0.05, n_estimators=100, score=0.469, total=   0.8s\n",
      "[CV] learning_rate=0.05, n_estimators=100 ............................\n",
      "[CV]  learning_rate=0.05, n_estimators=100, score=0.526, total=   0.8s\n",
      "[CV] learning_rate=0.05, n_estimators=100 ............................\n",
      "[CV]  learning_rate=0.05, n_estimators=100, score=0.520, total=   0.8s\n",
      "[CV] learning_rate=0.05, n_estimators=150 ............................\n",
      "[CV]  learning_rate=0.05, n_estimators=150, score=0.535, total=   1.2s\n",
      "[CV] learning_rate=0.05, n_estimators=150 ............................\n",
      "[CV]  learning_rate=0.05, n_estimators=150, score=0.518, total=   1.2s\n",
      "[CV] learning_rate=0.05, n_estimators=150 ............................\n",
      "[CV]  learning_rate=0.05, n_estimators=150, score=0.468, total=   1.2s\n",
      "[CV] learning_rate=0.05, n_estimators=150 ............................\n",
      "[CV]  learning_rate=0.05, n_estimators=150, score=0.535, total=   1.2s\n",
      "[CV] learning_rate=0.05, n_estimators=150 ............................\n",
      "[CV]  learning_rate=0.05, n_estimators=150, score=0.527, total=   1.2s\n",
      "[CV] learning_rate=0.05, n_estimators=440 ............................\n",
      "[CV]  learning_rate=0.05, n_estimators=440, score=0.562, total=   3.2s\n",
      "[CV] learning_rate=0.05, n_estimators=440 ............................\n",
      "[CV]  learning_rate=0.05, n_estimators=440, score=0.524, total=   3.2s\n",
      "[CV] learning_rate=0.05, n_estimators=440 ............................\n",
      "[CV]  learning_rate=0.05, n_estimators=440, score=0.472, total=   3.2s\n",
      "[CV] learning_rate=0.05, n_estimators=440 ............................\n",
      "[CV]  learning_rate=0.05, n_estimators=440, score=0.550, total=   3.2s\n",
      "[CV] learning_rate=0.05, n_estimators=440 ............................\n",
      "[CV]  learning_rate=0.05, n_estimators=440, score=0.523, total=   3.3s\n",
      "[CV] learning_rate=0.1, n_estimators=100 .............................\n",
      "[CV] . learning_rate=0.1, n_estimators=100, score=0.540, total=   0.8s\n",
      "[CV] learning_rate=0.1, n_estimators=100 .............................\n",
      "[CV] . learning_rate=0.1, n_estimators=100, score=0.524, total=   0.8s\n",
      "[CV] learning_rate=0.1, n_estimators=100 .............................\n",
      "[CV] . learning_rate=0.1, n_estimators=100, score=0.466, total=   0.7s\n",
      "[CV] learning_rate=0.1, n_estimators=100 .............................\n",
      "[CV] . learning_rate=0.1, n_estimators=100, score=0.543, total=   0.8s\n",
      "[CV] learning_rate=0.1, n_estimators=100 .............................\n",
      "[CV] . learning_rate=0.1, n_estimators=100, score=0.529, total=   0.8s\n",
      "[CV] learning_rate=0.1, n_estimators=150 .............................\n",
      "[CV] . learning_rate=0.1, n_estimators=150, score=0.550, total=   1.1s\n",
      "[CV] learning_rate=0.1, n_estimators=150 .............................\n",
      "[CV] . learning_rate=0.1, n_estimators=150, score=0.530, total=   1.1s\n",
      "[CV] learning_rate=0.1, n_estimators=150 .............................\n",
      "[CV] . learning_rate=0.1, n_estimators=150, score=0.467, total=   1.1s\n",
      "[CV] learning_rate=0.1, n_estimators=150 .............................\n",
      "[CV] . learning_rate=0.1, n_estimators=150, score=0.547, total=   1.1s\n",
      "[CV] learning_rate=0.1, n_estimators=150 .............................\n",
      "[CV] . learning_rate=0.1, n_estimators=150, score=0.527, total=   1.1s\n",
      "[CV] learning_rate=0.1, n_estimators=440 .............................\n",
      "[CV] . learning_rate=0.1, n_estimators=440, score=0.576, total=   3.2s\n",
      "[CV] learning_rate=0.1, n_estimators=440 .............................\n",
      "[CV] . learning_rate=0.1, n_estimators=440, score=0.539, total=   3.2s\n",
      "[CV] learning_rate=0.1, n_estimators=440 .............................\n",
      "[CV] . learning_rate=0.1, n_estimators=440, score=0.484, total=   3.2s\n",
      "[CV] learning_rate=0.1, n_estimators=440 .............................\n",
      "[CV] . learning_rate=0.1, n_estimators=440, score=0.574, total=   3.2s\n",
      "[CV] learning_rate=0.1, n_estimators=440 .............................\n",
      "[CV] . learning_rate=0.1, n_estimators=440, score=0.543, total=   3.2s\n",
      "[CV] learning_rate=0.15, n_estimators=100 ............................\n",
      "[CV]  learning_rate=0.15, n_estimators=100, score=0.559, total=   0.8s\n",
      "[CV] learning_rate=0.15, n_estimators=100 ............................\n",
      "[CV]  learning_rate=0.15, n_estimators=100, score=0.536, total=   0.8s\n",
      "[CV] learning_rate=0.15, n_estimators=100 ............................\n",
      "[CV]  learning_rate=0.15, n_estimators=100, score=0.461, total=   0.8s\n",
      "[CV] learning_rate=0.15, n_estimators=100 ............................\n",
      "[CV]  learning_rate=0.15, n_estimators=100, score=0.550, total=   0.7s\n",
      "[CV] learning_rate=0.15, n_estimators=100 ............................\n",
      "[CV]  learning_rate=0.15, n_estimators=100, score=0.517, total=   0.8s\n",
      "[CV] learning_rate=0.15, n_estimators=150 ............................\n",
      "[CV]  learning_rate=0.15, n_estimators=150, score=0.573, total=   1.1s\n",
      "[CV] learning_rate=0.15, n_estimators=150 ............................\n",
      "[CV]  learning_rate=0.15, n_estimators=150, score=0.545, total=   1.2s\n",
      "[CV] learning_rate=0.15, n_estimators=150 ............................\n",
      "[CV]  learning_rate=0.15, n_estimators=150, score=0.472, total=   1.1s\n",
      "[CV] learning_rate=0.15, n_estimators=150 ............................\n",
      "[CV]  learning_rate=0.15, n_estimators=150, score=0.556, total=   1.1s\n",
      "[CV] learning_rate=0.15, n_estimators=150 ............................\n",
      "[CV]  learning_rate=0.15, n_estimators=150, score=0.516, total=   1.1s\n",
      "[CV] learning_rate=0.15, n_estimators=440 ............................\n",
      "[CV]  learning_rate=0.15, n_estimators=440, score=0.574, total=   3.2s\n",
      "[CV] learning_rate=0.15, n_estimators=440 ............................\n",
      "[CV]  learning_rate=0.15, n_estimators=440, score=0.556, total=   3.2s\n",
      "[CV] learning_rate=0.15, n_estimators=440 ............................\n",
      "[CV]  learning_rate=0.15, n_estimators=440, score=0.480, total=   3.2s\n",
      "[CV] learning_rate=0.15, n_estimators=440 ............................\n",
      "[CV]  learning_rate=0.15, n_estimators=440, score=0.544, total=   3.1s\n",
      "[CV] learning_rate=0.15, n_estimators=440 ............................\n",
      "[CV]  learning_rate=0.15, n_estimators=440, score=0.536, total=   3.1s\n"
     ]
    },
    {
     "name": "stderr",
     "output_type": "stream",
     "text": [
      "[Parallel(n_jobs=1)]: Done  60 out of  60 | elapsed:  1.8min finished\n"
     ]
    },
    {
     "data": {
      "text/plain": [
       "GridSearchCV(cv=5, error_score=make_scorer(mean_squared_error),\n",
       "             estimator=GradientBoostingRegressor(alpha=0.9,\n",
       "                                                 criterion='friedman_mse',\n",
       "                                                 init=None, learning_rate=0.1,\n",
       "                                                 loss='ls', max_depth=3,\n",
       "                                                 max_features=None,\n",
       "                                                 max_leaf_nodes=None,\n",
       "                                                 min_impurity_decrease=0.0,\n",
       "                                                 min_impurity_split=None,\n",
       "                                                 min_samples_leaf=1,\n",
       "                                                 min_samples_split=2,\n",
       "                                                 min_weight_fraction_leaf=0.0,\n",
       "                                                 n_estimators=100,\n",
       "                                                 n_iter_no_change=None,\n",
       "                                                 presort='auto',\n",
       "                                                 random_state=None,\n",
       "                                                 subsample=1.0, tol=0.0001,\n",
       "                                                 validation_fraction=0.1,\n",
       "                                                 verbose=0, warm_start=False),\n",
       "             iid='warn', n_jobs=None,\n",
       "             param_grid=[{'learning_rate': [0.01, 0.05, 0.1, 0.15],\n",
       "                          'n_estimators': [100, 150, 440]}],\n",
       "             pre_dispatch='2*n_jobs', refit=True, return_train_score=False,\n",
       "             scoring=None, verbose=10)"
      ]
     },
     "execution_count": 80,
     "metadata": {
      "tags": []
     },
     "output_type": "execute_result"
    }
   ],
   "source": [
    "gbr_grid_search = GridSearchCV(GradientBoostingRegressor(), \n",
    "                               [{'n_estimators': [100, 150, 440], 'learning_rate': [0.01, 0.05, 0.1, 0.15]}],\n",
    "                               cv=5,\n",
    "                               error_score=make_scorer(mean_squared_error),\n",
    "                               verbose=10)\n",
    "gbr_grid_search.fit(X_train, y_train)"
   ]
  },
  {
   "cell_type": "code",
   "execution_count": 0,
   "metadata": {
    "colab": {
     "base_uri": "https://localhost:8080/",
     "height": 204
    },
    "colab_type": "code",
    "id": "1PcB_4eWwmy4",
    "outputId": "ca0dedf5-78e2-4a87-fef1-96d9c455d7ef"
   },
   "outputs": [
    {
     "name": "stdout",
     "output_type": "stream",
     "text": [
      "{'learning_rate': 0.1, 'n_estimators': 440}\n",
      "0.543138746330611\n",
      "GradientBoostingRegressor(alpha=0.9, criterion='friedman_mse', init=None,\n",
      "                          learning_rate=0.1, loss='ls', max_depth=3,\n",
      "                          max_features=None, max_leaf_nodes=None,\n",
      "                          min_impurity_decrease=0.0, min_impurity_split=None,\n",
      "                          min_samples_leaf=1, min_samples_split=2,\n",
      "                          min_weight_fraction_leaf=0.0, n_estimators=440,\n",
      "                          n_iter_no_change=None, presort='auto',\n",
      "                          random_state=None, subsample=1.0, tol=0.0001,\n",
      "                          validation_fraction=0.1, verbose=0, warm_start=False)\n"
     ]
    }
   ],
   "source": [
    "print(gbr_grid_search.best_params_)\n",
    "print(gbr_grid_search.best_score_)\n",
    "print(gbr_grid_search.best_estimator_)"
   ]
  },
  {
   "cell_type": "markdown",
   "metadata": {
    "colab_type": "text",
    "id": "kYWGzZn8wmy7"
   },
   "source": [
    "**Задание**: попробуйте поиск гиперпараметров для RandomForest, разберитесь как работает KFold по документации sklearn."
   ]
  },
  {
   "cell_type": "code",
   "execution_count": 0,
   "metadata": {
    "colab": {},
    "colab_type": "code",
    "id": "rUIjslfewmy8"
   },
   "outputs": [],
   "source": [
    "from sklearn.model_selection import KFold"
   ]
  },
  {
   "cell_type": "code",
   "execution_count": 0,
   "metadata": {
    "colab": {},
    "colab_type": "code",
    "id": "tAPQVOf_wmy9"
   },
   "outputs": [],
   "source": [
    "kf = KFold(n_splits=5)"
   ]
  },
  {
   "cell_type": "code",
   "execution_count": 0,
   "metadata": {
    "colab": {},
    "colab_type": "code",
    "id": "j5KmbP4IwmzA"
   },
   "outputs": [],
   "source": [
    "model = GradientBoostingRegressor()"
   ]
  },
  {
   "cell_type": "code",
   "execution_count": 0,
   "metadata": {
    "colab": {},
    "colab_type": "code",
    "id": "O0KdW1jLwmzB"
   },
   "outputs": [],
   "source": [
    "metrics = []\n",
    "for train_ind, test_ind in kf.split(X_train):\n",
    "    # we can do any pre-processing of data here\n",
    "    model.fit(X_train[train_ind], y_train.values[train_ind])\n",
    "    pred = model.predict(X_train[test_ind])\n",
    "    metrics.append(mean_squared_error(y_train.values[test_ind], pred))"
   ]
  },
  {
   "cell_type": "code",
   "execution_count": 0,
   "metadata": {
    "colab": {
     "base_uri": "https://localhost:8080/",
     "height": 102
    },
    "colab_type": "code",
    "id": "c6axw0wxwmzD",
    "outputId": "0d8fe043-4e66-4a05-81c2-0f18d285f374"
   },
   "outputs": [
    {
     "data": {
      "text/plain": [
       "[1.1249037845437644,\n",
       " 1.1019151430506628,\n",
       " 1.1470108713076104,\n",
       " 1.1139672688414495,\n",
       " 1.0564905065314019]"
      ]
     },
     "execution_count": 89,
     "metadata": {
      "tags": []
     },
     "output_type": "execute_result"
    }
   ],
   "source": [
    "metrics"
   ]
  },
  {
   "cell_type": "code",
   "execution_count": 0,
   "metadata": {
    "colab": {},
    "colab_type": "code",
    "id": "wACO5nvywmzF"
   },
   "outputs": [],
   "source": []
  }
 ],
 "metadata": {
  "colab": {
   "collapsed_sections": [],
   "name": "Copy of [seminar, prodv]4_ml_basics_refined.ipynb",
   "provenance": [],
   "toc_visible": true
  },
  "hide_input": false,
  "kernelspec": {
   "display_name": "Python 3",
   "language": "python",
   "name": "python3"
  },
  "language_info": {
   "codemirror_mode": {
    "name": "ipython",
    "version": 3
   },
   "file_extension": ".py",
   "mimetype": "text/x-python",
   "name": "python",
   "nbconvert_exporter": "python",
   "pygments_lexer": "ipython3",
   "version": "3.7.3"
  },
  "varInspector": {
   "cols": {
    "lenName": 16,
    "lenType": 16,
    "lenVar": 40
   },
   "kernels_config": {
    "python": {
     "delete_cmd_postfix": "",
     "delete_cmd_prefix": "del ",
     "library": "var_list.py",
     "varRefreshCmd": "print(var_dic_list())"
    },
    "r": {
     "delete_cmd_postfix": ") ",
     "delete_cmd_prefix": "rm(",
     "library": "var_list.r",
     "varRefreshCmd": "cat(var_dic_list()) "
    }
   },
   "types_to_exclude": [
    "module",
    "function",
    "builtin_function_or_method",
    "instance",
    "_Feature"
   ],
   "window_display": false
  }
 },
 "nbformat": 4,
 "nbformat_minor": 1
}
