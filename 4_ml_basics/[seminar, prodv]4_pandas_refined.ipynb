{
 "cells": [
  {
   "cell_type": "markdown",
   "metadata": {
    "colab_type": "text",
    "id": "p1-tlDoycBXw"
   },
   "source": [
    "<p style=\"align: center;\"><img align=center src=\"https://s8.hostingkartinok.com/uploads/images/2018/08/308b49fcfbc619d629fe4604bceb67ac.jpg\" width=500 height=450/></p>\n",
    "\n",
    "<h3 style=\"text-align: center;\"><b>\"Глубокое обучение\". Продвинутый поток</b></h3>\n",
    "\n",
    "<h2 style=\"text-align: center;\"><b>День 3. Библиотека <a href=\"http://pandas.pydata.org/\">pandas</a></b></h2>"
   ]
  },
  {
   "cell_type": "markdown",
   "metadata": {
    "colab_type": "text",
    "id": "Sq6JViDLcBXy"
   },
   "source": [
    "Библиотека `pandas` активно используется в современном data science для работы с данными, которые могут быть представлены в виде таблиц (а это очень, очень большая часть данных)"
   ]
  },
  {
   "cell_type": "markdown",
   "metadata": {
    "colab_type": "text",
    "id": "fFtNwha_cBXz"
   },
   "source": [
    "`pandas` есть в пакете Anaconda, но если вдруг у Вас её по каким-то причинам нет, то можно установить, раскомментировав следующую команду:"
   ]
  },
  {
   "cell_type": "code",
   "execution_count": 0,
   "metadata": {
    "colab": {},
    "colab_type": "code",
    "id": "JXjJmWhMcBX0"
   },
   "outputs": [],
   "source": [
    "# !pip install numpy pandas"
   ]
  },
  {
   "cell_type": "code",
   "execution_count": 2,
   "metadata": {
    "colab": {},
    "colab_type": "code",
    "id": "eWUVo5P4cBX3"
   },
   "outputs": [],
   "source": [
    "import numpy as np\n",
    "import pandas as pd"
   ]
  },
  {
   "cell_type": "markdown",
   "metadata": {
    "colab_type": "text",
    "id": "8CIOFZXUcBX5"
   },
   "source": [
    "## pd.Series"
   ]
  },
  {
   "cell_type": "markdown",
   "metadata": {
    "colab_type": "text",
    "id": "6s350flrcBX6"
   },
   "source": [
    "Одномерный набор данных. Похож на `np.ndarray`, но с более расширенным функционалом"
   ]
  },
  {
   "cell_type": "code",
   "execution_count": 0,
   "metadata": {
    "colab": {},
    "colab_type": "code",
    "id": "DnEgoCsJcBX7"
   },
   "outputs": [],
   "source": [
    "np.random.seed(42)"
   ]
  },
  {
   "cell_type": "code",
   "execution_count": 0,
   "metadata": {
    "colab": {
     "base_uri": "https://localhost:8080/",
     "height": 34
    },
    "colab_type": "code",
    "executionInfo": {
     "elapsed": 599,
     "status": "ok",
     "timestamp": 1572334689326,
     "user": {
      "displayName": "Heghine Melkonyan",
      "photoUrl": "https://lh3.googleusercontent.com/a-/AAuE7mBX_1bOb9wlWu5r3KpUI31WAtWvyeHly6qzELn0=s64",
      "userId": "07245827195424034873"
     },
     "user_tz": -240
    },
    "id": "KzMdEwzwcBX9",
    "outputId": "9e1f363b-4d4d-4002-bd7e-eca502302815"
   },
   "outputs": [
    {
     "data": {
      "text/plain": [
       "array([13, -1, -8,  5])"
      ]
     },
     "execution_count": 3,
     "metadata": {
      "tags": []
     },
     "output_type": "execute_result"
    }
   ],
   "source": [
    "np_array = np.random.randint(low=-15, high=20, size=4)\n",
    "np_array"
   ]
  },
  {
   "cell_type": "code",
   "execution_count": 0,
   "metadata": {
    "colab": {
     "base_uri": "https://localhost:8080/",
     "height": 102
    },
    "colab_type": "code",
    "executionInfo": {
     "elapsed": 752,
     "status": "ok",
     "timestamp": 1572334698256,
     "user": {
      "displayName": "Heghine Melkonyan",
      "photoUrl": "https://lh3.googleusercontent.com/a-/AAuE7mBX_1bOb9wlWu5r3KpUI31WAtWvyeHly6qzELn0=s64",
      "userId": "07245827195424034873"
     },
     "user_tz": -240
    },
    "id": "S0eKIDrYcBYA",
    "outputId": "54614b05-613f-4e45-f2fb-bce7e4facbb3"
   },
   "outputs": [
    {
     "data": {
      "text/plain": [
       "0    13\n",
       "1    -1\n",
       "2    -8\n",
       "3     5\n",
       "dtype: int64"
      ]
     },
     "execution_count": 4,
     "metadata": {
      "tags": []
     },
     "output_type": "execute_result"
    }
   ],
   "source": [
    "# Series можно сделать из массива\n",
    "pd_series_1 = pd.Series(np_array)\n",
    "pd_series_1"
   ]
  },
  {
   "cell_type": "code",
   "execution_count": 0,
   "metadata": {
    "colab": {
     "base_uri": "https://localhost:8080/",
     "height": 102
    },
    "colab_type": "code",
    "executionInfo": {
     "elapsed": 605,
     "status": "ok",
     "timestamp": 1572334715096,
     "user": {
      "displayName": "Heghine Melkonyan",
      "photoUrl": "https://lh3.googleusercontent.com/a-/AAuE7mBX_1bOb9wlWu5r3KpUI31WAtWvyeHly6qzELn0=s64",
      "userId": "07245827195424034873"
     },
     "user_tz": -240
    },
    "id": "obOrBzj6cBYD",
    "outputId": "75c17542-124b-4c0c-8dd6-7484a9243243"
   },
   "outputs": [
    {
     "data": {
      "text/plain": [
       "1st day    13\n",
       "2nd day    -1\n",
       "3rd day    -8\n",
       "4th day     5\n",
       "dtype: int64"
      ]
     },
     "execution_count": 5,
     "metadata": {
      "tags": []
     },
     "output_type": "execute_result"
    }
   ],
   "source": [
    "# Так же можно аннотировать индексы, чтобы потом было более удобно обращаться к элементам\n",
    "pd_series_2 = pd.Series(np_array, index=['1st day', '2nd day', '3rd day', '4th day'])\n",
    "pd_series_2"
   ]
  },
  {
   "cell_type": "code",
   "execution_count": 0,
   "metadata": {
    "colab": {
     "base_uri": "https://localhost:8080/",
     "height": 34
    },
    "colab_type": "code",
    "executionInfo": {
     "elapsed": 585,
     "status": "ok",
     "timestamp": 1572334752700,
     "user": {
      "displayName": "Heghine Melkonyan",
      "photoUrl": "https://lh3.googleusercontent.com/a-/AAuE7mBX_1bOb9wlWu5r3KpUI31WAtWvyeHly6qzELn0=s64",
      "userId": "07245827195424034873"
     },
     "user_tz": -240
    },
    "id": "pj2wwQSecBYF",
    "outputId": "f2c235f8-cbc4-49bc-d0c4-f77d90385c71"
   },
   "outputs": [
    {
     "data": {
      "text/plain": [
       "5"
      ]
     },
     "execution_count": 8,
     "metadata": {
      "tags": []
     },
     "output_type": "execute_result"
    }
   ],
   "source": [
    "pd_series_2['4th day']"
   ]
  },
  {
   "cell_type": "code",
   "execution_count": 0,
   "metadata": {
    "colab": {
     "base_uri": "https://localhost:8080/",
     "height": 102
    },
    "colab_type": "code",
    "executionInfo": {
     "elapsed": 598,
     "status": "ok",
     "timestamp": 1572334853079,
     "user": {
      "displayName": "Heghine Melkonyan",
      "photoUrl": "https://lh3.googleusercontent.com/a-/AAuE7mBX_1bOb9wlWu5r3KpUI31WAtWvyeHly6qzELn0=s64",
      "userId": "07245827195424034873"
     },
     "user_tz": -240
    },
    "id": "sMdNqqb0cBYJ",
    "outputId": "ec5fab19-649f-4639-d970-6f915755ed5e"
   },
   "outputs": [
    {
     "data": {
      "text/plain": [
       "st day     13\n",
       "2nd day    -1\n",
       "3rd day    -8\n",
       "4th day     5\n",
       "Name: Temperature, dtype: int64"
      ]
     },
     "execution_count": 11,
     "metadata": {
      "tags": []
     },
     "output_type": "execute_result"
    }
   ],
   "source": [
    "# А еще можно дать pd.Series имя, чтобы было совсем красиво\n",
    "pd_series_3 = pd.Series(np_array, index=['st day', '2nd day', '3rd day', '4th day'], name='Temperature')\n",
    "pd_series_3"
   ]
  },
  {
   "cell_type": "code",
   "execution_count": 0,
   "metadata": {
    "colab": {
     "base_uri": "https://localhost:8080/",
     "height": 204
    },
    "colab_type": "code",
    "executionInfo": {
     "elapsed": 591,
     "status": "ok",
     "timestamp": 1572334769381,
     "user": {
      "displayName": "Heghine Melkonyan",
      "photoUrl": "https://lh3.googleusercontent.com/a-/AAuE7mBX_1bOb9wlWu5r3KpUI31WAtWvyeHly6qzELn0=s64",
      "userId": "07245827195424034873"
     },
     "user_tz": -240
    },
    "id": "z7K8xegCcBYL",
    "outputId": "b10bbe40-a03e-4a41-c979-c484e3149167"
   },
   "outputs": [
    {
     "name": "stdout",
     "output_type": "stream",
     "text": [
      "13\n",
      "*****\n",
      "2nd day   -1\n",
      "3rd day   -8\n",
      "Name: Temperature, dtype: int64\n",
      "*****\n",
      "4th day     5\n",
      "3rd day    -8\n",
      "2nd day    -1\n",
      "1st day    13\n",
      "Name: Temperature, dtype: int64\n"
     ]
    }
   ],
   "source": [
    "# с индексами можно работать так же, как и в случае с обычным list\n",
    "print(pd_series_3[0])\n",
    "print('*'*5)\n",
    "print(pd_series_3[1:3])\n",
    "print('*'*5)\n",
    "print(pd_series_3[::-1])"
   ]
  },
  {
   "cell_type": "markdown",
   "metadata": {
    "colab_type": "text",
    "id": "-zBMhVelcBYN"
   },
   "source": [
    "`series` можно отсортировать как по значениям, так и по индексу"
   ]
  },
  {
   "cell_type": "code",
   "execution_count": 0,
   "metadata": {
    "colab": {
     "base_uri": "https://localhost:8080/",
     "height": 187
    },
    "colab_type": "code",
    "executionInfo": {
     "elapsed": 580,
     "status": "ok",
     "timestamp": 1572334860146,
     "user": {
      "displayName": "Heghine Melkonyan",
      "photoUrl": "https://lh3.googleusercontent.com/a-/AAuE7mBX_1bOb9wlWu5r3KpUI31WAtWvyeHly6qzELn0=s64",
      "userId": "07245827195424034873"
     },
     "user_tz": -240
    },
    "id": "q8KlElWhcBYO",
    "outputId": "bf58b579-33fc-4aa0-9a78-e40c89f9f9d9"
   },
   "outputs": [
    {
     "name": "stdout",
     "output_type": "stream",
     "text": [
      "st day     13\n",
      "2nd day    -1\n",
      "3rd day    -8\n",
      "4th day     5\n",
      "Name: Temperature, dtype: int64\n"
     ]
    },
    {
     "data": {
      "text/plain": [
       "2nd day    -1\n",
       "3rd day    -8\n",
       "4th day     5\n",
       "st day     13\n",
       "Name: Temperature, dtype: int64"
      ]
     },
     "execution_count": 12,
     "metadata": {
      "tags": []
     },
     "output_type": "execute_result"
    }
   ],
   "source": [
    "print(pd_series_3)\n",
    "pd_series_3.sort_index()"
   ]
  },
  {
   "cell_type": "code",
   "execution_count": 0,
   "metadata": {
    "colab": {
     "base_uri": "https://localhost:8080/",
     "height": 102
    },
    "colab_type": "code",
    "executionInfo": {
     "elapsed": 582,
     "status": "ok",
     "timestamp": 1572334880867,
     "user": {
      "displayName": "Heghine Melkonyan",
      "photoUrl": "https://lh3.googleusercontent.com/a-/AAuE7mBX_1bOb9wlWu5r3KpUI31WAtWvyeHly6qzELn0=s64",
      "userId": "07245827195424034873"
     },
     "user_tz": -240
    },
    "id": "chr3LIRrcBYQ",
    "outputId": "2c8a47cd-197a-4df6-fa70-ca84ef8c90b8"
   },
   "outputs": [
    {
     "data": {
      "text/plain": [
       "3rd day    -8\n",
       "2nd day    -1\n",
       "4th day     5\n",
       "st day     13\n",
       "Name: Temperature, dtype: int64"
      ]
     },
     "execution_count": 13,
     "metadata": {
      "tags": []
     },
     "output_type": "execute_result"
    }
   ],
   "source": [
    "pd_series_3.sort_values()"
   ]
  },
  {
   "cell_type": "markdown",
   "metadata": {
    "colab_type": "text",
    "id": "b0138GIgcBYS"
   },
   "source": [
    "с `series` можно работать как с `np.ndarray`"
   ]
  },
  {
   "cell_type": "code",
   "execution_count": 0,
   "metadata": {
    "colab": {
     "base_uri": "https://localhost:8080/",
     "height": 102
    },
    "colab_type": "code",
    "executionInfo": {
     "elapsed": 583,
     "status": "ok",
     "timestamp": 1572334919344,
     "user": {
      "displayName": "Heghine Melkonyan",
      "photoUrl": "https://lh3.googleusercontent.com/a-/AAuE7mBX_1bOb9wlWu5r3KpUI31WAtWvyeHly6qzELn0=s64",
      "userId": "07245827195424034873"
     },
     "user_tz": -240
    },
    "id": "qFZXVtincBYT",
    "outputId": "15fd0d3c-5bee-48b2-c457-bd237d1938ac",
    "scrolled": true
   },
   "outputs": [
    {
     "data": {
      "text/plain": [
       "st day     113\n",
       "2nd day     99\n",
       "3rd day     92\n",
       "4th day    105\n",
       "Name: Temperature, dtype: int64"
      ]
     },
     "execution_count": 14,
     "metadata": {
      "tags": []
     },
     "output_type": "execute_result"
    }
   ],
   "source": [
    "pd_series_3 + 100"
   ]
  },
  {
   "cell_type": "code",
   "execution_count": 0,
   "metadata": {
    "colab": {
     "base_uri": "https://localhost:8080/",
     "height": 102
    },
    "colab_type": "code",
    "executionInfo": {
     "elapsed": 581,
     "status": "ok",
     "timestamp": 1572334928921,
     "user": {
      "displayName": "Heghine Melkonyan",
      "photoUrl": "https://lh3.googleusercontent.com/a-/AAuE7mBX_1bOb9wlWu5r3KpUI31WAtWvyeHly6qzELn0=s64",
      "userId": "07245827195424034873"
     },
     "user_tz": -240
    },
    "id": "xmKsZ7MkcBYV",
    "outputId": "772d285c-4eb9-497b-8fa6-3565cfd9dbb8"
   },
   "outputs": [
    {
     "data": {
      "text/plain": [
       "st day     442413.392009\n",
       "2nd day         0.367879\n",
       "3rd day         0.000335\n",
       "4th day       148.413159\n",
       "Name: Temperature, dtype: float64"
      ]
     },
     "execution_count": 15,
     "metadata": {
      "tags": []
     },
     "output_type": "execute_result"
    }
   ],
   "source": [
    "np.exp(pd_series_3)"
   ]
  },
  {
   "cell_type": "code",
   "execution_count": 0,
   "metadata": {
    "colab": {
     "base_uri": "https://localhost:8080/",
     "height": 442
    },
    "colab_type": "code",
    "executionInfo": {
     "elapsed": 605,
     "status": "ok",
     "timestamp": 1572334955233,
     "user": {
      "displayName": "Heghine Melkonyan",
      "photoUrl": "https://lh3.googleusercontent.com/a-/AAuE7mBX_1bOb9wlWu5r3KpUI31WAtWvyeHly6qzELn0=s64",
      "userId": "07245827195424034873"
     },
     "user_tz": -240
    },
    "id": "1vwkeDivcBYX",
    "outputId": "a783cf86-fc72-474e-ec7e-f4280182eb06"
   },
   "outputs": [
    {
     "name": "stdout",
     "output_type": "stream",
     "text": [
      "Term1:\n",
      "0    6\n",
      "1    9\n",
      "2    2\n",
      "3    6\n",
      "4    7\n",
      "dtype: int64\n",
      "\n",
      "Term2:\n",
      "0    4\n",
      "1    3\n",
      "2    7\n",
      "3    7\n",
      "4    2\n",
      "5    5\n",
      "dtype: int64\n",
      "\n",
      "Sum:\n",
      "0    10.0\n",
      "1    12.0\n",
      "2     9.0\n",
      "3    13.0\n",
      "4     9.0\n",
      "5     NaN\n",
      "dtype: float64\n"
     ]
    }
   ],
   "source": [
    "term_1 = pd.Series(np.random.randint(0, 10, 5))\n",
    "term_2 = pd.Series(np.random.randint(0, 10, 6))\n",
    "\n",
    "print('Term1:\\n{}\\n\\nTerm2:\\n{}\\n\\nSum:\\n{}'.format(term_1, term_2, term_1 + term_2))"
   ]
  },
  {
   "cell_type": "code",
   "execution_count": 0,
   "metadata": {
    "colab": {
     "base_uri": "https://localhost:8080/",
     "height": 34
    },
    "colab_type": "code",
    "executionInfo": {
     "elapsed": 587,
     "status": "ok",
     "timestamp": 1572334966796,
     "user": {
      "displayName": "Heghine Melkonyan",
      "photoUrl": "https://lh3.googleusercontent.com/a-/AAuE7mBX_1bOb9wlWu5r3KpUI31WAtWvyeHly6qzELn0=s64",
      "userId": "07245827195424034873"
     },
     "user_tz": -240
    },
    "id": "ZHm7Bq3CcBYa",
    "outputId": "0a235341-4f41-4794-b45a-26479ee4a7c5"
   },
   "outputs": [
    {
     "data": {
      "text/plain": [
       "(5,)"
      ]
     },
     "execution_count": 17,
     "metadata": {
      "tags": []
     },
     "output_type": "execute_result"
    }
   ],
   "source": [
    "term_1.shape"
   ]
  },
  {
   "cell_type": "code",
   "execution_count": 0,
   "metadata": {
    "colab": {
     "base_uri": "https://localhost:8080/",
     "height": 204
    },
    "colab_type": "code",
    "executionInfo": {
     "elapsed": 571,
     "status": "ok",
     "timestamp": 1572335889935,
     "user": {
      "displayName": "Heghine Melkonyan",
      "photoUrl": "https://lh3.googleusercontent.com/a-/AAuE7mBX_1bOb9wlWu5r3KpUI31WAtWvyeHly6qzELn0=s64",
      "userId": "07245827195424034873"
     },
     "user_tz": -240
    },
    "id": "0ONbcJ9HcBYc",
    "outputId": "55b1fd9a-c9ac-481c-d4be-d51ee9ca33ca"
   },
   "outputs": [
    {
     "data": {
      "text/plain": [
       "2019-01-01    0.609997\n",
       "2019-01-02    0.833195\n",
       "2019-01-03    0.173365\n",
       "2019-01-04    0.391061\n",
       "2019-01-05    0.182236\n",
       "2019-01-06    0.755361\n",
       "2019-01-07    0.425156\n",
       "2019-01-08    0.207942\n",
       "2019-01-09    0.567700\n",
       "2019-01-10    0.031313\n",
       "Freq: D, dtype: float64"
      ]
     },
     "execution_count": 20,
     "metadata": {
      "tags": []
     },
     "output_type": "execute_result"
    }
   ],
   "source": [
    "date_range = pd.date_range('20190101', periods=10)\n",
    "pd_series_4 = pd.Series(np.random.rand(10), date_range)\n",
    "pd_series_4"
   ]
  },
  {
   "cell_type": "code",
   "execution_count": 0,
   "metadata": {
    "colab": {
     "base_uri": "https://localhost:8080/",
     "height": 204
    },
    "colab_type": "code",
    "executionInfo": {
     "elapsed": 577,
     "status": "ok",
     "timestamp": 1572335901508,
     "user": {
      "displayName": "Heghine Melkonyan",
      "photoUrl": "https://lh3.googleusercontent.com/a-/AAuE7mBX_1bOb9wlWu5r3KpUI31WAtWvyeHly6qzELn0=s64",
      "userId": "07245827195424034873"
     },
     "user_tz": -240
    },
    "id": "b-Q5fYwMcBYe",
    "outputId": "1000583a-6ba3-4157-f9cb-661373ce98d1"
   },
   "outputs": [
    {
     "data": {
      "text/plain": [
       "2019-01-01     True\n",
       "2019-01-02     True\n",
       "2019-01-03    False\n",
       "2019-01-04    False\n",
       "2019-01-05    False\n",
       "2019-01-06     True\n",
       "2019-01-07    False\n",
       "2019-01-08    False\n",
       "2019-01-09     True\n",
       "2019-01-10    False\n",
       "Freq: D, dtype: bool"
      ]
     },
     "execution_count": 21,
     "metadata": {
      "tags": []
     },
     "output_type": "execute_result"
    }
   ],
   "source": [
    "pd_series_4 > 0.5"
   ]
  },
  {
   "cell_type": "markdown",
   "metadata": {
    "colab_type": "text",
    "id": "gw_xrDTqcBYh"
   },
   "source": [
    "в качестве индекса можно указать выражение, и нам будут возвращены только те элементы, для которых знвчение является `True`"
   ]
  },
  {
   "cell_type": "code",
   "execution_count": 0,
   "metadata": {
    "colab": {
     "base_uri": "https://localhost:8080/",
     "height": 102
    },
    "colab_type": "code",
    "executionInfo": {
     "elapsed": 572,
     "status": "ok",
     "timestamp": 1572335914726,
     "user": {
      "displayName": "Heghine Melkonyan",
      "photoUrl": "https://lh3.googleusercontent.com/a-/AAuE7mBX_1bOb9wlWu5r3KpUI31WAtWvyeHly6qzELn0=s64",
      "userId": "07245827195424034873"
     },
     "user_tz": -240
    },
    "id": "sJIfGwVJcBYh",
    "outputId": "c221bd50-c290-4bf2-9116-5ba07b5f07d6"
   },
   "outputs": [
    {
     "data": {
      "text/plain": [
       "2019-01-01    0.609997\n",
       "2019-01-02    0.833195\n",
       "2019-01-06    0.755361\n",
       "2019-01-09    0.567700\n",
       "dtype: float64"
      ]
     },
     "execution_count": 22,
     "metadata": {
      "tags": []
     },
     "output_type": "execute_result"
    }
   ],
   "source": [
    "pd_series_4[pd_series_4 > 0.5]"
   ]
  },
  {
   "cell_type": "code",
   "execution_count": 0,
   "metadata": {
    "colab": {
     "base_uri": "https://localhost:8080/",
     "height": 51
    },
    "colab_type": "code",
    "executionInfo": {
     "elapsed": 647,
     "status": "ok",
     "timestamp": 1572335939604,
     "user": {
      "displayName": "Heghine Melkonyan",
      "photoUrl": "https://lh3.googleusercontent.com/a-/AAuE7mBX_1bOb9wlWu5r3KpUI31WAtWvyeHly6qzELn0=s64",
      "userId": "07245827195424034873"
     },
     "user_tz": -240
    },
    "id": "GTB3VkZhcBYm",
    "outputId": "dadcf856-0b4e-4469-dca2-264d727adaf6"
   },
   "outputs": [
    {
     "data": {
      "text/plain": [
       "2019-01-09    0.5677\n",
       "Freq: D, dtype: float64"
      ]
     },
     "execution_count": 23,
     "metadata": {
      "tags": []
     },
     "output_type": "execute_result"
    }
   ],
   "source": [
    "pd_series_4[(pd_series_4 > 0.5) & (pd_series_4 < 0.6)]"
   ]
  },
  {
   "cell_type": "code",
   "execution_count": 0,
   "metadata": {
    "colab": {
     "base_uri": "https://localhost:8080/",
     "height": 136
    },
    "colab_type": "code",
    "executionInfo": {
     "elapsed": 568,
     "status": "ok",
     "timestamp": 1572335954918,
     "user": {
      "displayName": "Heghine Melkonyan",
      "photoUrl": "https://lh3.googleusercontent.com/a-/AAuE7mBX_1bOb9wlWu5r3KpUI31WAtWvyeHly6qzELn0=s64",
      "userId": "07245827195424034873"
     },
     "user_tz": -240
    },
    "id": "uYGPGtp-cBYq",
    "outputId": "2a35105e-813e-4848-c664-ae29590903d3"
   },
   "outputs": [
    {
     "data": {
      "text/plain": [
       "2019-01-01    0.609997\n",
       "2019-01-02    0.833195\n",
       "2019-01-03    0.173365\n",
       "2019-01-05    0.182236\n",
       "2019-01-06    0.755361\n",
       "2019-01-10    0.031313\n",
       "dtype: float64"
      ]
     },
     "execution_count": 24,
     "metadata": {
      "tags": []
     },
     "output_type": "execute_result"
    }
   ],
   "source": [
    "pd_series_4[(pd_series_4 > 0.6) | (pd_series_4 < 0.2)]"
   ]
  },
  {
   "cell_type": "markdown",
   "metadata": {
    "colab_type": "text",
    "id": "e_iPBEGkcBYs"
   },
   "source": [
    "## DataFrame\n",
    "\n",
    "Двумерная таблица данных. Имеет индекс и набор столбцов (возможно, имеющих разные типы). Таблицу можно построить, например, из словаря, значениями в котором являются одномерные наборы данных."
   ]
  },
  {
   "cell_type": "code",
   "execution_count": 3,
   "metadata": {
    "colab": {
     "base_uri": "https://localhost:8080/",
     "height": 173
    },
    "colab_type": "code",
    "executionInfo": {
     "elapsed": 1069,
     "status": "ok",
     "timestamp": 1572361943880,
     "user": {
      "displayName": "Heghine Melkonyan",
      "photoUrl": "https://lh3.googleusercontent.com/a-/AAuE7mBX_1bOb9wlWu5r3KpUI31WAtWvyeHly6qzELn0=s64",
      "userId": "07245827195424034873"
     },
     "user_tz": -240
    },
    "id": "8YM5-H1GcBYt",
    "outputId": "172c7203-c086-47a6-a0e2-3bd5755f50d0"
   },
   "outputs": [
    {
     "data": {
      "text/html": [
       "<div>\n",
       "<style scoped>\n",
       "    .dataframe tbody tr th:only-of-type {\n",
       "        vertical-align: middle;\n",
       "    }\n",
       "\n",
       "    .dataframe tbody tr th {\n",
       "        vertical-align: top;\n",
       "    }\n",
       "\n",
       "    .dataframe thead th {\n",
       "        text-align: right;\n",
       "    }\n",
       "</style>\n",
       "<table border=\"1\" class=\"dataframe\">\n",
       "  <thead>\n",
       "    <tr style=\"text-align: right;\">\n",
       "      <th></th>\n",
       "      <th>one</th>\n",
       "      <th>two</th>\n",
       "    </tr>\n",
       "  </thead>\n",
       "  <tbody>\n",
       "    <tr>\n",
       "      <th>a</th>\n",
       "      <td>1.0</td>\n",
       "      <td>1</td>\n",
       "    </tr>\n",
       "    <tr>\n",
       "      <th>b</th>\n",
       "      <td>2.0</td>\n",
       "      <td>2</td>\n",
       "    </tr>\n",
       "    <tr>\n",
       "      <th>c</th>\n",
       "      <td>3.0</td>\n",
       "      <td>3</td>\n",
       "    </tr>\n",
       "    <tr>\n",
       "      <th>d</th>\n",
       "      <td>NaN</td>\n",
       "      <td>4</td>\n",
       "    </tr>\n",
       "  </tbody>\n",
       "</table>\n",
       "</div>"
      ],
      "text/plain": [
       "   one  two\n",
       "a  1.0    1\n",
       "b  2.0    2\n",
       "c  3.0    3\n",
       "d  NaN    4"
      ]
     },
     "execution_count": 3,
     "metadata": {
      "tags": []
     },
     "output_type": "execute_result"
    }
   ],
   "source": [
    "# Dataframe можно составить из словаря. Ключ будет соответсовать колонке\n",
    "d={'one':pd.Series([1,2,3],index=['a','b','c']),\n",
    "   'two':pd.Series([1,2,3,4],index=['a','b','c','d'])}\n",
    "df=pd.DataFrame(d)\n",
    "df"
   ]
  },
  {
   "cell_type": "code",
   "execution_count": 4,
   "metadata": {
    "colab": {
     "base_uri": "https://localhost:8080/",
     "height": 34
    },
    "colab_type": "code",
    "executionInfo": {
     "elapsed": 1072,
     "status": "ok",
     "timestamp": 1572361988246,
     "user": {
      "displayName": "Heghine Melkonyan",
      "photoUrl": "https://lh3.googleusercontent.com/a-/AAuE7mBX_1bOb9wlWu5r3KpUI31WAtWvyeHly6qzELn0=s64",
      "userId": "07245827195424034873"
     },
     "user_tz": -240
    },
    "id": "xwtbkhTzcBYv",
    "outputId": "24021441-4d67-4059-c6b2-9f2da8e85234"
   },
   "outputs": [
    {
     "data": {
      "text/plain": [
       "Index(['a', 'b', 'c', 'd'], dtype='object')"
      ]
     },
     "execution_count": 4,
     "metadata": {
      "tags": []
     },
     "output_type": "execute_result"
    }
   ],
   "source": [
    "df.index"
   ]
  },
  {
   "cell_type": "code",
   "execution_count": 5,
   "metadata": {
    "colab": {
     "base_uri": "https://localhost:8080/",
     "height": 34
    },
    "colab_type": "code",
    "executionInfo": {
     "elapsed": 762,
     "status": "ok",
     "timestamp": 1572362033480,
     "user": {
      "displayName": "Heghine Melkonyan",
      "photoUrl": "https://lh3.googleusercontent.com/a-/AAuE7mBX_1bOb9wlWu5r3KpUI31WAtWvyeHly6qzELn0=s64",
      "userId": "07245827195424034873"
     },
     "user_tz": -240
    },
    "id": "26zCtkkccBYw",
    "outputId": "c471fc1b-c5d5-42cc-ac11-ed20e365f565"
   },
   "outputs": [
    {
     "data": {
      "text/plain": [
       "Index(['one', 'two'], dtype='object')"
      ]
     },
     "execution_count": 5,
     "metadata": {
      "tags": []
     },
     "output_type": "execute_result"
    }
   ],
   "source": [
    "df.columns"
   ]
  },
  {
   "cell_type": "code",
   "execution_count": 14,
   "metadata": {
    "colab": {
     "base_uri": "https://localhost:8080/",
     "height": 68
    },
    "colab_type": "code",
    "executionInfo": {
     "elapsed": 566,
     "status": "ok",
     "timestamp": 1572362221981,
     "user": {
      "displayName": "Heghine Melkonyan",
      "photoUrl": "https://lh3.googleusercontent.com/a-/AAuE7mBX_1bOb9wlWu5r3KpUI31WAtWvyeHly6qzELn0=s64",
      "userId": "07245827195424034873"
     },
     "user_tz": -240
    },
    "id": "TBLN-DTScBYy",
    "outputId": "d5ae4e9f-ff70-45e3-aca0-8cd244db1a0f"
   },
   "outputs": [
    {
     "name": "stdout",
     "output_type": "stream",
     "text": [
      "3.0\n",
      "3.0\n",
      "3.0\n"
     ]
    }
   ],
   "source": [
    "print(df['one']['c'])\n",
    "print(df.at['c','one'])\n",
    "print(df.iat[2, 0])"
   ]
  },
  {
   "cell_type": "code",
   "execution_count": 8,
   "metadata": {
    "colab": {
     "base_uri": "https://localhost:8080/",
     "height": 102
    },
    "colab_type": "code",
    "executionInfo": {
     "elapsed": 529,
     "status": "ok",
     "timestamp": 1572362138186,
     "user": {
      "displayName": "Heghine Melkonyan",
      "photoUrl": "https://lh3.googleusercontent.com/a-/AAuE7mBX_1bOb9wlWu5r3KpUI31WAtWvyeHly6qzELn0=s64",
      "userId": "07245827195424034873"
     },
     "user_tz": -240
    },
    "id": "NJ4OFwuccBY0",
    "outputId": "46d5f609-74c4-4d0b-d7e0-310d556763fc"
   },
   "outputs": [
    {
     "data": {
      "text/plain": [
       "a    1\n",
       "b    2\n",
       "c    3\n",
       "d    4\n",
       "Name: two, dtype: int64"
      ]
     },
     "execution_count": 8,
     "metadata": {
      "tags": []
     },
     "output_type": "execute_result"
    }
   ],
   "source": [
    "df.two"
   ]
  },
  {
   "cell_type": "markdown",
   "metadata": {
    "colab_type": "text",
    "id": "dpugSmDpcBY2"
   },
   "source": [
    "Если указать диапазон индексов, то это означает диапазон строк. Причём **последняя строка включается в таблицу.**\n",
    "\n",
    "Диапазон целых чисел даёт диапазон строк с такими номерами, **не включая последнюю строку** (как обычно при индексировании списков). \n",
    "\n",
    "На это стоит обратить внимание"
   ]
  },
  {
   "cell_type": "code",
   "execution_count": 15,
   "metadata": {
    "colab": {
     "base_uri": "https://localhost:8080/",
     "height": 142
    },
    "colab_type": "code",
    "executionInfo": {
     "elapsed": 567,
     "status": "ok",
     "timestamp": 1572362249090,
     "user": {
      "displayName": "Heghine Melkonyan",
      "photoUrl": "https://lh3.googleusercontent.com/a-/AAuE7mBX_1bOb9wlWu5r3KpUI31WAtWvyeHly6qzELn0=s64",
      "userId": "07245827195424034873"
     },
     "user_tz": -240
    },
    "id": "a0UdlrG2cBY2",
    "outputId": "16c05b72-ad92-4304-9b4b-c501f3fa6535"
   },
   "outputs": [
    {
     "data": {
      "text/html": [
       "<div>\n",
       "<style scoped>\n",
       "    .dataframe tbody tr th:only-of-type {\n",
       "        vertical-align: middle;\n",
       "    }\n",
       "\n",
       "    .dataframe tbody tr th {\n",
       "        vertical-align: top;\n",
       "    }\n",
       "\n",
       "    .dataframe thead th {\n",
       "        text-align: right;\n",
       "    }\n",
       "</style>\n",
       "<table border=\"1\" class=\"dataframe\">\n",
       "  <thead>\n",
       "    <tr style=\"text-align: right;\">\n",
       "      <th></th>\n",
       "      <th>one</th>\n",
       "      <th>two</th>\n",
       "    </tr>\n",
       "  </thead>\n",
       "  <tbody>\n",
       "    <tr>\n",
       "      <th>b</th>\n",
       "      <td>2.0</td>\n",
       "      <td>2</td>\n",
       "    </tr>\n",
       "    <tr>\n",
       "      <th>c</th>\n",
       "      <td>3.0</td>\n",
       "      <td>3</td>\n",
       "    </tr>\n",
       "    <tr>\n",
       "      <th>d</th>\n",
       "      <td>NaN</td>\n",
       "      <td>4</td>\n",
       "    </tr>\n",
       "  </tbody>\n",
       "</table>\n",
       "</div>"
      ],
      "text/plain": [
       "   one  two\n",
       "b  2.0    2\n",
       "c  3.0    3\n",
       "d  NaN    4"
      ]
     },
     "execution_count": 15,
     "metadata": {
      "tags": []
     },
     "output_type": "execute_result"
    }
   ],
   "source": [
    "df['b':'d']"
   ]
  },
  {
   "cell_type": "code",
   "execution_count": 17,
   "metadata": {
    "colab": {
     "base_uri": "https://localhost:8080/",
     "height": 111
    },
    "colab_type": "code",
    "executionInfo": {
     "elapsed": 1221,
     "status": "ok",
     "timestamp": 1572362438399,
     "user": {
      "displayName": "Heghine Melkonyan",
      "photoUrl": "https://lh3.googleusercontent.com/a-/AAuE7mBX_1bOb9wlWu5r3KpUI31WAtWvyeHly6qzELn0=s64",
      "userId": "07245827195424034873"
     },
     "user_tz": -240
    },
    "id": "cFLZJJLJcBY4",
    "outputId": "4d2f8982-53af-4925-d542-d4b583ebf61c"
   },
   "outputs": [
    {
     "data": {
      "text/html": [
       "<div>\n",
       "<style scoped>\n",
       "    .dataframe tbody tr th:only-of-type {\n",
       "        vertical-align: middle;\n",
       "    }\n",
       "\n",
       "    .dataframe tbody tr th {\n",
       "        vertical-align: top;\n",
       "    }\n",
       "\n",
       "    .dataframe thead th {\n",
       "        text-align: right;\n",
       "    }\n",
       "</style>\n",
       "<table border=\"1\" class=\"dataframe\">\n",
       "  <thead>\n",
       "    <tr style=\"text-align: right;\">\n",
       "      <th></th>\n",
       "      <th>one</th>\n",
       "      <th>two</th>\n",
       "    </tr>\n",
       "  </thead>\n",
       "  <tbody>\n",
       "    <tr>\n",
       "      <th>d</th>\n",
       "      <td>NaN</td>\n",
       "      <td>4</td>\n",
       "    </tr>\n",
       "    <tr>\n",
       "      <th>c</th>\n",
       "      <td>3.0</td>\n",
       "      <td>3</td>\n",
       "    </tr>\n",
       "  </tbody>\n",
       "</table>\n",
       "</div>"
      ],
      "text/plain": [
       "   one  two\n",
       "d  NaN    4\n",
       "c  3.0    3"
      ]
     },
     "execution_count": 17,
     "metadata": {
      "tags": []
     },
     "output_type": "execute_result"
    }
   ],
   "source": [
    "#df[1:3:1]\n",
    "df[3:1:-1]"
   ]
  },
  {
   "cell_type": "code",
   "execution_count": 18,
   "metadata": {
    "colab": {
     "base_uri": "https://localhost:8080/",
     "height": 173
    },
    "colab_type": "code",
    "executionInfo": {
     "elapsed": 872,
     "status": "ok",
     "timestamp": 1572362460693,
     "user": {
      "displayName": "Heghine Melkonyan",
      "photoUrl": "https://lh3.googleusercontent.com/a-/AAuE7mBX_1bOb9wlWu5r3KpUI31WAtWvyeHly6qzELn0=s64",
      "userId": "07245827195424034873"
     },
     "user_tz": -240
    },
    "id": "3uXdl6pAcBY6",
    "outputId": "cfc7b0e8-b56e-417b-c0cb-e5338beda76d"
   },
   "outputs": [
    {
     "data": {
      "text/html": [
       "<div>\n",
       "<style scoped>\n",
       "    .dataframe tbody tr th:only-of-type {\n",
       "        vertical-align: middle;\n",
       "    }\n",
       "\n",
       "    .dataframe tbody tr th {\n",
       "        vertical-align: top;\n",
       "    }\n",
       "\n",
       "    .dataframe thead th {\n",
       "        text-align: right;\n",
       "    }\n",
       "</style>\n",
       "<table border=\"1\" class=\"dataframe\">\n",
       "  <thead>\n",
       "    <tr style=\"text-align: right;\">\n",
       "      <th></th>\n",
       "      <th>one</th>\n",
       "      <th>two</th>\n",
       "      <th>three</th>\n",
       "    </tr>\n",
       "  </thead>\n",
       "  <tbody>\n",
       "    <tr>\n",
       "      <th>a</th>\n",
       "      <td>1.0</td>\n",
       "      <td>1</td>\n",
       "      <td>1.0</td>\n",
       "    </tr>\n",
       "    <tr>\n",
       "      <th>b</th>\n",
       "      <td>2.0</td>\n",
       "      <td>2</td>\n",
       "      <td>4.0</td>\n",
       "    </tr>\n",
       "    <tr>\n",
       "      <th>c</th>\n",
       "      <td>3.0</td>\n",
       "      <td>3</td>\n",
       "      <td>9.0</td>\n",
       "    </tr>\n",
       "    <tr>\n",
       "      <th>d</th>\n",
       "      <td>NaN</td>\n",
       "      <td>4</td>\n",
       "      <td>NaN</td>\n",
       "    </tr>\n",
       "  </tbody>\n",
       "</table>\n",
       "</div>"
      ],
      "text/plain": [
       "   one  two  three\n",
       "a  1.0    1    1.0\n",
       "b  2.0    2    4.0\n",
       "c  3.0    3    9.0\n",
       "d  NaN    4    NaN"
      ]
     },
     "execution_count": 18,
     "metadata": {
      "tags": []
     },
     "output_type": "execute_result"
    }
   ],
   "source": [
    "df['three'] = df['one'] * df['two']\n",
    "df"
   ]
  },
  {
   "cell_type": "code",
   "execution_count": 19,
   "metadata": {
    "colab": {
     "base_uri": "https://localhost:8080/",
     "height": 111
    },
    "colab_type": "code",
    "executionInfo": {
     "elapsed": 808,
     "status": "ok",
     "timestamp": 1572362499724,
     "user": {
      "displayName": "Heghine Melkonyan",
      "photoUrl": "https://lh3.googleusercontent.com/a-/AAuE7mBX_1bOb9wlWu5r3KpUI31WAtWvyeHly6qzELn0=s64",
      "userId": "07245827195424034873"
     },
     "user_tz": -240
    },
    "id": "BuQaR8kicBY8",
    "outputId": "92554ba4-777c-498a-f589-13ccde1661f4"
   },
   "outputs": [
    {
     "data": {
      "text/html": [
       "<div>\n",
       "<style scoped>\n",
       "    .dataframe tbody tr th:only-of-type {\n",
       "        vertical-align: middle;\n",
       "    }\n",
       "\n",
       "    .dataframe tbody tr th {\n",
       "        vertical-align: top;\n",
       "    }\n",
       "\n",
       "    .dataframe thead th {\n",
       "        text-align: right;\n",
       "    }\n",
       "</style>\n",
       "<table border=\"1\" class=\"dataframe\">\n",
       "  <thead>\n",
       "    <tr style=\"text-align: right;\">\n",
       "      <th></th>\n",
       "      <th>one</th>\n",
       "      <th>one_tr</th>\n",
       "    </tr>\n",
       "  </thead>\n",
       "  <tbody>\n",
       "    <tr>\n",
       "      <th>e</th>\n",
       "      <td>0</td>\n",
       "      <td>2.0</td>\n",
       "    </tr>\n",
       "    <tr>\n",
       "      <th>f</th>\n",
       "      <td>1</td>\n",
       "      <td>NaN</td>\n",
       "    </tr>\n",
       "  </tbody>\n",
       "</table>\n",
       "</div>"
      ],
      "text/plain": [
       "   one  one_tr\n",
       "e    0     2.0\n",
       "f    1     NaN"
      ]
     },
     "execution_count": 19,
     "metadata": {
      "tags": []
     },
     "output_type": "execute_result"
    }
   ],
   "source": [
    "# concatinating\n",
    "df2=pd.DataFrame({'one':{'e':0,'f':1},'one_tr':{'e':2}})\n",
    "df2"
   ]
  },
  {
   "cell_type": "code",
   "execution_count": 20,
   "metadata": {
    "colab": {
     "base_uri": "https://localhost:8080/",
     "height": 235
    },
    "colab_type": "code",
    "executionInfo": {
     "elapsed": 668,
     "status": "ok",
     "timestamp": 1572362500972,
     "user": {
      "displayName": "Heghine Melkonyan",
      "photoUrl": "https://lh3.googleusercontent.com/a-/AAuE7mBX_1bOb9wlWu5r3KpUI31WAtWvyeHly6qzELn0=s64",
      "userId": "07245827195424034873"
     },
     "user_tz": -240
    },
    "id": "_DwnOc3ucBY-",
    "outputId": "cd9a9c04-af25-456b-ab46-8ab0a4bff517"
   },
   "outputs": [
    {
     "data": {
      "text/html": [
       "<div>\n",
       "<style scoped>\n",
       "    .dataframe tbody tr th:only-of-type {\n",
       "        vertical-align: middle;\n",
       "    }\n",
       "\n",
       "    .dataframe tbody tr th {\n",
       "        vertical-align: top;\n",
       "    }\n",
       "\n",
       "    .dataframe thead th {\n",
       "        text-align: right;\n",
       "    }\n",
       "</style>\n",
       "<table border=\"1\" class=\"dataframe\">\n",
       "  <thead>\n",
       "    <tr style=\"text-align: right;\">\n",
       "      <th></th>\n",
       "      <th>one</th>\n",
       "      <th>two</th>\n",
       "      <th>three</th>\n",
       "      <th>one_tr</th>\n",
       "    </tr>\n",
       "  </thead>\n",
       "  <tbody>\n",
       "    <tr>\n",
       "      <th>a</th>\n",
       "      <td>1.0</td>\n",
       "      <td>1.0</td>\n",
       "      <td>1.0</td>\n",
       "      <td>NaN</td>\n",
       "    </tr>\n",
       "    <tr>\n",
       "      <th>b</th>\n",
       "      <td>2.0</td>\n",
       "      <td>2.0</td>\n",
       "      <td>4.0</td>\n",
       "      <td>NaN</td>\n",
       "    </tr>\n",
       "    <tr>\n",
       "      <th>c</th>\n",
       "      <td>3.0</td>\n",
       "      <td>3.0</td>\n",
       "      <td>9.0</td>\n",
       "      <td>NaN</td>\n",
       "    </tr>\n",
       "    <tr>\n",
       "      <th>d</th>\n",
       "      <td>NaN</td>\n",
       "      <td>4.0</td>\n",
       "      <td>NaN</td>\n",
       "      <td>NaN</td>\n",
       "    </tr>\n",
       "    <tr>\n",
       "      <th>e</th>\n",
       "      <td>0.0</td>\n",
       "      <td>NaN</td>\n",
       "      <td>NaN</td>\n",
       "      <td>2.0</td>\n",
       "    </tr>\n",
       "    <tr>\n",
       "      <th>f</th>\n",
       "      <td>1.0</td>\n",
       "      <td>NaN</td>\n",
       "      <td>NaN</td>\n",
       "      <td>NaN</td>\n",
       "    </tr>\n",
       "  </tbody>\n",
       "</table>\n",
       "</div>"
      ],
      "text/plain": [
       "   one  two  three  one_tr\n",
       "a  1.0  1.0    1.0     NaN\n",
       "b  2.0  2.0    4.0     NaN\n",
       "c  3.0  3.0    9.0     NaN\n",
       "d  NaN  4.0    NaN     NaN\n",
       "e  0.0  NaN    NaN     2.0\n",
       "f  1.0  NaN    NaN     NaN"
      ]
     },
     "execution_count": 20,
     "metadata": {
      "tags": []
     },
     "output_type": "execute_result"
    }
   ],
   "source": [
    "pd.concat([df,df2], sort=False)"
   ]
  },
  {
   "cell_type": "markdown",
   "metadata": {
    "colab_type": "text",
    "id": "Vx0B5OoDcBZB"
   },
   "source": [
    "Теперь попробуем поработать с настоящими данными"
   ]
  },
  {
   "cell_type": "markdown",
   "metadata": {
    "colab_type": "text",
    "id": "R3FTTV7zcBZC"
   },
   "source": [
    "### Скачать данные: https://www.kaggle.com/ramamet4/app-store-apple-data-set-10k-apps"
   ]
  },
  {
   "cell_type": "code",
   "execution_count": 32,
   "metadata": {
    "colab": {
     "base_uri": "https://localhost:8080/",
     "height": 68
    },
    "colab_type": "code",
    "executionInfo": {
     "elapsed": 2016,
     "status": "ok",
     "timestamp": 1572363226276,
     "user": {
      "displayName": "Heghine Melkonyan",
      "photoUrl": "https://lh3.googleusercontent.com/a-/AAuE7mBX_1bOb9wlWu5r3KpUI31WAtWvyeHly6qzELn0=s64",
      "userId": "07245827195424034873"
     },
     "user_tz": -240
    },
    "id": "BaG6DHIPcBZC",
    "outputId": "0c7fd596-f507-4ca9-f88e-cdd4887bef61",
    "scrolled": false
   },
   "outputs": [
    {
     "name": "stdout",
     "output_type": "stream",
     "text": [
      "Archive:  app-store-apple-data-set-10k-apps.zip\n",
      "  inflating: AppleStore.csv          \n",
      "  inflating: appleStore_description.csv  \n"
     ]
    }
   ],
   "source": [
    "#!wget https://www.kaggle.com/ramamet4/app-store-apple-data-set-10k-apps\n",
    "#!ls app-store-apple-data-set-10k-apps/\n",
    "#!unzip app-store-apple-data-set-10k-apps.zip"
   ]
  },
  {
   "cell_type": "code",
   "execution_count": 3,
   "metadata": {
    "colab": {
     "base_uri": "https://localhost:8080/",
     "height": 496
    },
    "colab_type": "code",
    "executionInfo": {
     "elapsed": 589,
     "status": "ok",
     "timestamp": 1572363250180,
     "user": {
      "displayName": "Heghine Melkonyan",
      "photoUrl": "https://lh3.googleusercontent.com/a-/AAuE7mBX_1bOb9wlWu5r3KpUI31WAtWvyeHly6qzELn0=s64",
      "userId": "07245827195424034873"
     },
     "user_tz": -240
    },
    "id": "QgtmtFp6cBZF",
    "outputId": "8b85aa9a-6496-411b-cf7a-f78edc1f21ac"
   },
   "outputs": [
    {
     "data": {
      "text/html": [
       "<div>\n",
       "<style scoped>\n",
       "    .dataframe tbody tr th:only-of-type {\n",
       "        vertical-align: middle;\n",
       "    }\n",
       "\n",
       "    .dataframe tbody tr th {\n",
       "        vertical-align: top;\n",
       "    }\n",
       "\n",
       "    .dataframe thead th {\n",
       "        text-align: right;\n",
       "    }\n",
       "</style>\n",
       "<table border=\"1\" class=\"dataframe\">\n",
       "  <thead>\n",
       "    <tr style=\"text-align: right;\">\n",
       "      <th></th>\n",
       "      <th>Unnamed: 0</th>\n",
       "      <th>id</th>\n",
       "      <th>track_name</th>\n",
       "      <th>size_bytes</th>\n",
       "      <th>currency</th>\n",
       "      <th>price</th>\n",
       "      <th>rating_count_tot</th>\n",
       "      <th>rating_count_ver</th>\n",
       "      <th>user_rating</th>\n",
       "      <th>user_rating_ver</th>\n",
       "      <th>ver</th>\n",
       "      <th>cont_rating</th>\n",
       "      <th>prime_genre</th>\n",
       "      <th>sup_devices.num</th>\n",
       "      <th>ipadSc_urls.num</th>\n",
       "      <th>lang.num</th>\n",
       "      <th>vpp_lic</th>\n",
       "    </tr>\n",
       "  </thead>\n",
       "  <tbody>\n",
       "    <tr>\n",
       "      <th>3989</th>\n",
       "      <td>4933</td>\n",
       "      <td>1012712705</td>\n",
       "      <td>Tropical Wars - Pirate Battles</td>\n",
       "      <td>110904320</td>\n",
       "      <td>USD</td>\n",
       "      <td>0.00</td>\n",
       "      <td>1465</td>\n",
       "      <td>45</td>\n",
       "      <td>4.5</td>\n",
       "      <td>4.5</td>\n",
       "      <td>1.11.04</td>\n",
       "      <td>12+</td>\n",
       "      <td>Games</td>\n",
       "      <td>38</td>\n",
       "      <td>5</td>\n",
       "      <td>5</td>\n",
       "      <td>1</td>\n",
       "    </tr>\n",
       "    <tr>\n",
       "      <th>2380</th>\n",
       "      <td>2796</td>\n",
       "      <td>778658393</td>\n",
       "      <td>GoodNotes 4 - Notes &amp; PDF</td>\n",
       "      <td>195221504</td>\n",
       "      <td>USD</td>\n",
       "      <td>7.99</td>\n",
       "      <td>7004</td>\n",
       "      <td>85</td>\n",
       "      <td>4.5</td>\n",
       "      <td>4.5</td>\n",
       "      <td>4.11.10</td>\n",
       "      <td>4+</td>\n",
       "      <td>Productivity</td>\n",
       "      <td>37</td>\n",
       "      <td>5</td>\n",
       "      <td>11</td>\n",
       "      <td>1</td>\n",
       "    </tr>\n",
       "    <tr>\n",
       "      <th>1059</th>\n",
       "      <td>1237</td>\n",
       "      <td>480079300</td>\n",
       "      <td>58同城-招聘找工作兼职租房软件</td>\n",
       "      <td>139967488</td>\n",
       "      <td>USD</td>\n",
       "      <td>0.00</td>\n",
       "      <td>34</td>\n",
       "      <td>0</td>\n",
       "      <td>4.0</td>\n",
       "      <td>0.0</td>\n",
       "      <td>7.10.5</td>\n",
       "      <td>17+</td>\n",
       "      <td>Lifestyle</td>\n",
       "      <td>37</td>\n",
       "      <td>4</td>\n",
       "      <td>1</td>\n",
       "      <td>1</td>\n",
       "    </tr>\n",
       "    <tr>\n",
       "      <th>690</th>\n",
       "      <td>791</td>\n",
       "      <td>416023011</td>\n",
       "      <td>My Verizon</td>\n",
       "      <td>150791168</td>\n",
       "      <td>USD</td>\n",
       "      <td>0.00</td>\n",
       "      <td>126948</td>\n",
       "      <td>107245</td>\n",
       "      <td>4.5</td>\n",
       "      <td>4.5</td>\n",
       "      <td>5.10.0</td>\n",
       "      <td>4+</td>\n",
       "      <td>Utilities</td>\n",
       "      <td>37</td>\n",
       "      <td>3</td>\n",
       "      <td>2</td>\n",
       "      <td>1</td>\n",
       "    </tr>\n",
       "    <tr>\n",
       "      <th>6778</th>\n",
       "      <td>10044</td>\n",
       "      <td>1147002179</td>\n",
       "      <td>The Trail</td>\n",
       "      <td>542597120</td>\n",
       "      <td>USD</td>\n",
       "      <td>0.00</td>\n",
       "      <td>12573</td>\n",
       "      <td>372</td>\n",
       "      <td>4.0</td>\n",
       "      <td>4.5</td>\n",
       "      <td>1.6</td>\n",
       "      <td>9+</td>\n",
       "      <td>Games</td>\n",
       "      <td>25</td>\n",
       "      <td>5</td>\n",
       "      <td>1</td>\n",
       "      <td>1</td>\n",
       "    </tr>\n",
       "  </tbody>\n",
       "</table>\n",
       "</div>"
      ],
      "text/plain": [
       "      Unnamed: 0          id                      track_name  size_bytes  \\\n",
       "3989        4933  1012712705  Tropical Wars - Pirate Battles   110904320   \n",
       "2380        2796   778658393       GoodNotes 4 - Notes & PDF   195221504   \n",
       "1059        1237   480079300                58同城-招聘找工作兼职租房软件   139967488   \n",
       "690          791   416023011                      My Verizon   150791168   \n",
       "6778       10044  1147002179                       The Trail   542597120   \n",
       "\n",
       "     currency  price  rating_count_tot  rating_count_ver  user_rating  \\\n",
       "3989      USD   0.00              1465                45          4.5   \n",
       "2380      USD   7.99              7004                85          4.5   \n",
       "1059      USD   0.00                34                 0          4.0   \n",
       "690       USD   0.00            126948            107245          4.5   \n",
       "6778      USD   0.00             12573               372          4.0   \n",
       "\n",
       "      user_rating_ver      ver cont_rating   prime_genre  sup_devices.num  \\\n",
       "3989              4.5  1.11.04         12+         Games               38   \n",
       "2380              4.5  4.11.10          4+  Productivity               37   \n",
       "1059              0.0   7.10.5         17+     Lifestyle               37   \n",
       "690               4.5   5.10.0          4+     Utilities               37   \n",
       "6778              4.5      1.6          9+         Games               25   \n",
       "\n",
       "      ipadSc_urls.num  lang.num  vpp_lic  \n",
       "3989                5         5        1  \n",
       "2380                5        11        1  \n",
       "1059                4         1        1  \n",
       "690                 3         2        1  \n",
       "6778                5         1        1  "
      ]
     },
     "execution_count": 3,
     "metadata": {},
     "output_type": "execute_result"
    }
   ],
   "source": [
    "data = pd.read_csv('AppleStore.csv')\n",
    "\n",
    "# вывести первые 5 строк\n",
    "# data.head(10)\n",
    "# вывести последние 5 строк\n",
    "# data.tail(5)\n",
    "# вывести 5 случайных строк\n",
    "data.sample(5)"
   ]
  },
  {
   "cell_type": "code",
   "execution_count": 4,
   "metadata": {
    "colab": {},
    "colab_type": "code",
    "id": "oowjN75dcBZH",
    "outputId": "7e4562a1-e54f-410d-85f8-d60c851f48b3",
    "scrolled": true
   },
   "outputs": [
    {
     "data": {
      "text/html": [
       "<div>\n",
       "<style scoped>\n",
       "    .dataframe tbody tr th:only-of-type {\n",
       "        vertical-align: middle;\n",
       "    }\n",
       "\n",
       "    .dataframe tbody tr th {\n",
       "        vertical-align: top;\n",
       "    }\n",
       "\n",
       "    .dataframe thead th {\n",
       "        text-align: right;\n",
       "    }\n",
       "</style>\n",
       "<table border=\"1\" class=\"dataframe\">\n",
       "  <thead>\n",
       "    <tr style=\"text-align: right;\">\n",
       "      <th></th>\n",
       "      <th>id</th>\n",
       "      <th>track_name</th>\n",
       "      <th>size_bytes</th>\n",
       "      <th>currency</th>\n",
       "      <th>price</th>\n",
       "      <th>rating_count_tot</th>\n",
       "      <th>rating_count_ver</th>\n",
       "      <th>user_rating</th>\n",
       "      <th>user_rating_ver</th>\n",
       "      <th>ver</th>\n",
       "      <th>cont_rating</th>\n",
       "      <th>prime_genre</th>\n",
       "      <th>sup_devices.num</th>\n",
       "      <th>ipadSc_urls.num</th>\n",
       "      <th>lang.num</th>\n",
       "      <th>vpp_lic</th>\n",
       "    </tr>\n",
       "  </thead>\n",
       "  <tbody>\n",
       "    <tr>\n",
       "      <th>1</th>\n",
       "      <td>281656475</td>\n",
       "      <td>PAC-MAN Premium</td>\n",
       "      <td>100788224</td>\n",
       "      <td>USD</td>\n",
       "      <td>3.99</td>\n",
       "      <td>21292</td>\n",
       "      <td>26</td>\n",
       "      <td>4.0</td>\n",
       "      <td>4.5</td>\n",
       "      <td>6.3.5</td>\n",
       "      <td>4+</td>\n",
       "      <td>Games</td>\n",
       "      <td>38</td>\n",
       "      <td>5</td>\n",
       "      <td>10</td>\n",
       "      <td>1</td>\n",
       "    </tr>\n",
       "    <tr>\n",
       "      <th>2</th>\n",
       "      <td>281796108</td>\n",
       "      <td>Evernote - stay organized</td>\n",
       "      <td>158578688</td>\n",
       "      <td>USD</td>\n",
       "      <td>0.00</td>\n",
       "      <td>161065</td>\n",
       "      <td>26</td>\n",
       "      <td>4.0</td>\n",
       "      <td>3.5</td>\n",
       "      <td>8.2.2</td>\n",
       "      <td>4+</td>\n",
       "      <td>Productivity</td>\n",
       "      <td>37</td>\n",
       "      <td>5</td>\n",
       "      <td>23</td>\n",
       "      <td>1</td>\n",
       "    </tr>\n",
       "    <tr>\n",
       "      <th>3</th>\n",
       "      <td>281940292</td>\n",
       "      <td>WeatherBug - Local Weather, Radar, Maps, Alerts</td>\n",
       "      <td>100524032</td>\n",
       "      <td>USD</td>\n",
       "      <td>0.00</td>\n",
       "      <td>188583</td>\n",
       "      <td>2822</td>\n",
       "      <td>3.5</td>\n",
       "      <td>4.5</td>\n",
       "      <td>5.0.0</td>\n",
       "      <td>4+</td>\n",
       "      <td>Weather</td>\n",
       "      <td>37</td>\n",
       "      <td>5</td>\n",
       "      <td>3</td>\n",
       "      <td>1</td>\n",
       "    </tr>\n",
       "    <tr>\n",
       "      <th>4</th>\n",
       "      <td>282614216</td>\n",
       "      <td>eBay: Best App to Buy, Sell, Save! Online Shop...</td>\n",
       "      <td>128512000</td>\n",
       "      <td>USD</td>\n",
       "      <td>0.00</td>\n",
       "      <td>262241</td>\n",
       "      <td>649</td>\n",
       "      <td>4.0</td>\n",
       "      <td>4.5</td>\n",
       "      <td>5.10.0</td>\n",
       "      <td>12+</td>\n",
       "      <td>Shopping</td>\n",
       "      <td>37</td>\n",
       "      <td>5</td>\n",
       "      <td>9</td>\n",
       "      <td>1</td>\n",
       "    </tr>\n",
       "    <tr>\n",
       "      <th>5</th>\n",
       "      <td>282935706</td>\n",
       "      <td>Bible</td>\n",
       "      <td>92774400</td>\n",
       "      <td>USD</td>\n",
       "      <td>0.00</td>\n",
       "      <td>985920</td>\n",
       "      <td>5320</td>\n",
       "      <td>4.5</td>\n",
       "      <td>5.0</td>\n",
       "      <td>7.5.1</td>\n",
       "      <td>4+</td>\n",
       "      <td>Reference</td>\n",
       "      <td>37</td>\n",
       "      <td>5</td>\n",
       "      <td>45</td>\n",
       "      <td>1</td>\n",
       "    </tr>\n",
       "  </tbody>\n",
       "</table>\n",
       "</div>"
      ],
      "text/plain": [
       "          id                                         track_name  size_bytes  \\\n",
       "1  281656475                                    PAC-MAN Premium   100788224   \n",
       "2  281796108                          Evernote - stay organized   158578688   \n",
       "3  281940292    WeatherBug - Local Weather, Radar, Maps, Alerts   100524032   \n",
       "4  282614216  eBay: Best App to Buy, Sell, Save! Online Shop...   128512000   \n",
       "5  282935706                                              Bible    92774400   \n",
       "\n",
       "  currency  price  rating_count_tot  rating_count_ver  user_rating  \\\n",
       "1      USD   3.99             21292                26          4.0   \n",
       "2      USD   0.00            161065                26          4.0   \n",
       "3      USD   0.00            188583              2822          3.5   \n",
       "4      USD   0.00            262241               649          4.0   \n",
       "5      USD   0.00            985920              5320          4.5   \n",
       "\n",
       "   user_rating_ver     ver cont_rating   prime_genre  sup_devices.num  \\\n",
       "1              4.5   6.3.5          4+         Games               38   \n",
       "2              3.5   8.2.2          4+  Productivity               37   \n",
       "3              4.5   5.0.0          4+       Weather               37   \n",
       "4              4.5  5.10.0         12+      Shopping               37   \n",
       "5              5.0   7.5.1          4+     Reference               37   \n",
       "\n",
       "   ipadSc_urls.num  lang.num  vpp_lic  \n",
       "1                5        10        1  \n",
       "2                5        23        1  \n",
       "3                5         3        1  \n",
       "4                5         9        1  \n",
       "5                5        45        1  "
      ]
     },
     "execution_count": 4,
     "metadata": {},
     "output_type": "execute_result"
    }
   ],
   "source": [
    "data = pd.read_csv('./AppleStore.csv', index_col=0)\n",
    "\n",
    "data.head()"
   ]
  },
  {
   "cell_type": "markdown",
   "metadata": {
    "colab_type": "text",
    "id": "a_gar-YicBZJ"
   },
   "source": [
    "Можно узнать размер таблицы, информацию о значениях таблицы, различные статистики по значениям"
   ]
  },
  {
   "cell_type": "code",
   "execution_count": 5,
   "metadata": {
    "colab": {},
    "colab_type": "code",
    "id": "3HriktgCcBZK",
    "outputId": "7b42b3c9-af9a-44ea-b29a-fa2124f75ea1"
   },
   "outputs": [
    {
     "data": {
      "text/plain": [
       "(7197, 16)"
      ]
     },
     "execution_count": 5,
     "metadata": {},
     "output_type": "execute_result"
    }
   ],
   "source": [
    "data.shape"
   ]
  },
  {
   "cell_type": "code",
   "execution_count": 6,
   "metadata": {
    "colab": {},
    "colab_type": "code",
    "id": "ZZON-mrLcBZL",
    "outputId": "84e210cb-9b7e-4c0f-a002-b12e1ed96af7",
    "scrolled": false
   },
   "outputs": [
    {
     "name": "stdout",
     "output_type": "stream",
     "text": [
      "<class 'pandas.core.frame.DataFrame'>\n",
      "Int64Index: 7197 entries, 1 to 11097\n",
      "Data columns (total 16 columns):\n",
      "id                  7197 non-null int64\n",
      "track_name          7197 non-null object\n",
      "size_bytes          7197 non-null int64\n",
      "currency            7197 non-null object\n",
      "price               7197 non-null float64\n",
      "rating_count_tot    7197 non-null int64\n",
      "rating_count_ver    7197 non-null int64\n",
      "user_rating         7197 non-null float64\n",
      "user_rating_ver     7197 non-null float64\n",
      "ver                 7197 non-null object\n",
      "cont_rating         7197 non-null object\n",
      "prime_genre         7197 non-null object\n",
      "sup_devices.num     7197 non-null int64\n",
      "ipadSc_urls.num     7197 non-null int64\n",
      "lang.num            7197 non-null int64\n",
      "vpp_lic             7197 non-null int64\n",
      "dtypes: float64(3), int64(8), object(5)\n",
      "memory usage: 955.9+ KB\n"
     ]
    }
   ],
   "source": [
    "data.info()"
   ]
  },
  {
   "cell_type": "code",
   "execution_count": 7,
   "metadata": {
    "colab": {},
    "colab_type": "code",
    "id": "rhbkQSxPcBZN",
    "outputId": "12056ecf-8a9f-40db-936a-43ca3b653965"
   },
   "outputs": [
    {
     "data": {
      "text/html": [
       "<div>\n",
       "<style scoped>\n",
       "    .dataframe tbody tr th:only-of-type {\n",
       "        vertical-align: middle;\n",
       "    }\n",
       "\n",
       "    .dataframe tbody tr th {\n",
       "        vertical-align: top;\n",
       "    }\n",
       "\n",
       "    .dataframe thead th {\n",
       "        text-align: right;\n",
       "    }\n",
       "</style>\n",
       "<table border=\"1\" class=\"dataframe\">\n",
       "  <thead>\n",
       "    <tr style=\"text-align: right;\">\n",
       "      <th></th>\n",
       "      <th>id</th>\n",
       "      <th>size_bytes</th>\n",
       "      <th>price</th>\n",
       "      <th>rating_count_tot</th>\n",
       "      <th>rating_count_ver</th>\n",
       "      <th>user_rating</th>\n",
       "      <th>user_rating_ver</th>\n",
       "      <th>sup_devices.num</th>\n",
       "      <th>ipadSc_urls.num</th>\n",
       "      <th>lang.num</th>\n",
       "      <th>vpp_lic</th>\n",
       "    </tr>\n",
       "  </thead>\n",
       "  <tbody>\n",
       "    <tr>\n",
       "      <th>count</th>\n",
       "      <td>7.197000e+03</td>\n",
       "      <td>7.197000e+03</td>\n",
       "      <td>7197.000000</td>\n",
       "      <td>7.197000e+03</td>\n",
       "      <td>7197.000000</td>\n",
       "      <td>7197.000000</td>\n",
       "      <td>7197.000000</td>\n",
       "      <td>7197.000000</td>\n",
       "      <td>7197.000000</td>\n",
       "      <td>7197.000000</td>\n",
       "      <td>7197.000000</td>\n",
       "    </tr>\n",
       "    <tr>\n",
       "      <th>mean</th>\n",
       "      <td>8.631310e+08</td>\n",
       "      <td>1.991345e+08</td>\n",
       "      <td>1.726218</td>\n",
       "      <td>1.289291e+04</td>\n",
       "      <td>460.373906</td>\n",
       "      <td>3.526956</td>\n",
       "      <td>3.253578</td>\n",
       "      <td>37.361817</td>\n",
       "      <td>3.707100</td>\n",
       "      <td>5.434903</td>\n",
       "      <td>0.993053</td>\n",
       "    </tr>\n",
       "    <tr>\n",
       "      <th>std</th>\n",
       "      <td>2.712368e+08</td>\n",
       "      <td>3.592069e+08</td>\n",
       "      <td>5.833006</td>\n",
       "      <td>7.573941e+04</td>\n",
       "      <td>3920.455183</td>\n",
       "      <td>1.517948</td>\n",
       "      <td>1.809363</td>\n",
       "      <td>3.737715</td>\n",
       "      <td>1.986005</td>\n",
       "      <td>7.919593</td>\n",
       "      <td>0.083066</td>\n",
       "    </tr>\n",
       "    <tr>\n",
       "      <th>min</th>\n",
       "      <td>2.816565e+08</td>\n",
       "      <td>5.898240e+05</td>\n",
       "      <td>0.000000</td>\n",
       "      <td>0.000000e+00</td>\n",
       "      <td>0.000000</td>\n",
       "      <td>0.000000</td>\n",
       "      <td>0.000000</td>\n",
       "      <td>9.000000</td>\n",
       "      <td>0.000000</td>\n",
       "      <td>0.000000</td>\n",
       "      <td>0.000000</td>\n",
       "    </tr>\n",
       "    <tr>\n",
       "      <th>25%</th>\n",
       "      <td>6.000937e+08</td>\n",
       "      <td>4.692275e+07</td>\n",
       "      <td>0.000000</td>\n",
       "      <td>2.800000e+01</td>\n",
       "      <td>1.000000</td>\n",
       "      <td>3.500000</td>\n",
       "      <td>2.500000</td>\n",
       "      <td>37.000000</td>\n",
       "      <td>3.000000</td>\n",
       "      <td>1.000000</td>\n",
       "      <td>1.000000</td>\n",
       "    </tr>\n",
       "    <tr>\n",
       "      <th>50%</th>\n",
       "      <td>9.781482e+08</td>\n",
       "      <td>9.715302e+07</td>\n",
       "      <td>0.000000</td>\n",
       "      <td>3.000000e+02</td>\n",
       "      <td>23.000000</td>\n",
       "      <td>4.000000</td>\n",
       "      <td>4.000000</td>\n",
       "      <td>37.000000</td>\n",
       "      <td>5.000000</td>\n",
       "      <td>1.000000</td>\n",
       "      <td>1.000000</td>\n",
       "    </tr>\n",
       "    <tr>\n",
       "      <th>75%</th>\n",
       "      <td>1.082310e+09</td>\n",
       "      <td>1.819249e+08</td>\n",
       "      <td>1.990000</td>\n",
       "      <td>2.793000e+03</td>\n",
       "      <td>140.000000</td>\n",
       "      <td>4.500000</td>\n",
       "      <td>4.500000</td>\n",
       "      <td>38.000000</td>\n",
       "      <td>5.000000</td>\n",
       "      <td>8.000000</td>\n",
       "      <td>1.000000</td>\n",
       "    </tr>\n",
       "    <tr>\n",
       "      <th>max</th>\n",
       "      <td>1.188376e+09</td>\n",
       "      <td>4.025970e+09</td>\n",
       "      <td>299.990000</td>\n",
       "      <td>2.974676e+06</td>\n",
       "      <td>177050.000000</td>\n",
       "      <td>5.000000</td>\n",
       "      <td>5.000000</td>\n",
       "      <td>47.000000</td>\n",
       "      <td>5.000000</td>\n",
       "      <td>75.000000</td>\n",
       "      <td>1.000000</td>\n",
       "    </tr>\n",
       "  </tbody>\n",
       "</table>\n",
       "</div>"
      ],
      "text/plain": [
       "                 id    size_bytes        price  rating_count_tot  \\\n",
       "count  7.197000e+03  7.197000e+03  7197.000000      7.197000e+03   \n",
       "mean   8.631310e+08  1.991345e+08     1.726218      1.289291e+04   \n",
       "std    2.712368e+08  3.592069e+08     5.833006      7.573941e+04   \n",
       "min    2.816565e+08  5.898240e+05     0.000000      0.000000e+00   \n",
       "25%    6.000937e+08  4.692275e+07     0.000000      2.800000e+01   \n",
       "50%    9.781482e+08  9.715302e+07     0.000000      3.000000e+02   \n",
       "75%    1.082310e+09  1.819249e+08     1.990000      2.793000e+03   \n",
       "max    1.188376e+09  4.025970e+09   299.990000      2.974676e+06   \n",
       "\n",
       "       rating_count_ver  user_rating  user_rating_ver  sup_devices.num  \\\n",
       "count       7197.000000  7197.000000      7197.000000      7197.000000   \n",
       "mean         460.373906     3.526956         3.253578        37.361817   \n",
       "std         3920.455183     1.517948         1.809363         3.737715   \n",
       "min            0.000000     0.000000         0.000000         9.000000   \n",
       "25%            1.000000     3.500000         2.500000        37.000000   \n",
       "50%           23.000000     4.000000         4.000000        37.000000   \n",
       "75%          140.000000     4.500000         4.500000        38.000000   \n",
       "max       177050.000000     5.000000         5.000000        47.000000   \n",
       "\n",
       "       ipadSc_urls.num     lang.num      vpp_lic  \n",
       "count      7197.000000  7197.000000  7197.000000  \n",
       "mean          3.707100     5.434903     0.993053  \n",
       "std           1.986005     7.919593     0.083066  \n",
       "min           0.000000     0.000000     0.000000  \n",
       "25%           3.000000     1.000000     1.000000  \n",
       "50%           5.000000     1.000000     1.000000  \n",
       "75%           5.000000     8.000000     1.000000  \n",
       "max           5.000000    75.000000     1.000000  "
      ]
     },
     "execution_count": 7,
     "metadata": {},
     "output_type": "execute_result"
    }
   ],
   "source": [
    "data.describe()"
   ]
  },
  {
   "cell_type": "markdown",
   "metadata": {
    "colab_type": "text",
    "id": "Df89AhcPcBZP"
   },
   "source": [
    "Чтобы посмотреть, какие колонки есть в таблице, можно воспользоваться `columns`"
   ]
  },
  {
   "cell_type": "code",
   "execution_count": 8,
   "metadata": {
    "colab": {},
    "colab_type": "code",
    "id": "ymo_23NmcBZQ",
    "outputId": "f7f69be7-aa99-4aa3-dba9-8250233395f8"
   },
   "outputs": [
    {
     "data": {
      "text/plain": [
       "Index(['id', 'track_name', 'size_bytes', 'currency', 'price',\n",
       "       'rating_count_tot', 'rating_count_ver', 'user_rating',\n",
       "       'user_rating_ver', 'ver', 'cont_rating', 'prime_genre',\n",
       "       'sup_devices.num', 'ipadSc_urls.num', 'lang.num', 'vpp_lic'],\n",
       "      dtype='object')"
      ]
     },
     "execution_count": 8,
     "metadata": {},
     "output_type": "execute_result"
    }
   ],
   "source": [
    "data.columns"
   ]
  },
  {
   "cell_type": "markdown",
   "metadata": {
    "colab_type": "text",
    "id": "cNNqa82HcBZR"
   },
   "source": [
    "Метод `values` преобразует `pd.DataFrame` к `np.ndarray`"
   ]
  },
  {
   "cell_type": "code",
   "execution_count": 9,
   "metadata": {
    "colab": {},
    "colab_type": "code",
    "id": "UPM0VU8VcBZS",
    "outputId": "81dd44b7-4536-4781-c94b-56cfb55921a8"
   },
   "outputs": [
    {
     "data": {
      "text/plain": [
       "array([[281656475, 'PAC-MAN Premium', 100788224, ..., 5, 10, 1],\n",
       "       [281796108, 'Evernote - stay organized', 158578688, ..., 5, 23, 1],\n",
       "       [281940292, 'WeatherBug - Local Weather, Radar, Maps, Alerts',\n",
       "        100524032, ..., 5, 3, 1],\n",
       "       ...,\n",
       "       [1187779532, 'Bret Michaels Emojis + Lyric Keyboard', 111322112,\n",
       "        ..., 1, 1, 1],\n",
       "       [1187838770, 'VR Roller Coaster World - Virtual Reality',\n",
       "        97235968, ..., 0, 2, 1],\n",
       "       [1188375727, 'Escape the Sweet Shop Series', 90898432, ..., 0, 2,\n",
       "        1]], dtype=object)"
      ]
     },
     "execution_count": 9,
     "metadata": {},
     "output_type": "execute_result"
    }
   ],
   "source": [
    "data.values"
   ]
  },
  {
   "cell_type": "code",
   "execution_count": 10,
   "metadata": {
    "colab": {},
    "colab_type": "code",
    "id": "kbAU_cm6cBZU",
    "outputId": "a8e91fc9-4fff-41fe-b469-4396520a7561"
   },
   "outputs": [
    {
     "data": {
      "text/plain": [
       "numpy.ndarray"
      ]
     },
     "execution_count": 10,
     "metadata": {},
     "output_type": "execute_result"
    }
   ],
   "source": [
    "type(data.values)"
   ]
  },
  {
   "cell_type": "code",
   "execution_count": 11,
   "metadata": {
    "colab": {},
    "colab_type": "code",
    "id": "rsw2sD3VcBZW",
    "outputId": "4754dc64-178e-4312-80c6-41d7a9a6ce2f"
   },
   "outputs": [
    {
     "data": {
      "text/plain": [
       "array([281656475, 281796108, 281940292, ..., 1187779532, 1187838770,\n",
       "       1188375727], dtype=object)"
      ]
     },
     "execution_count": 11,
     "metadata": {},
     "output_type": "execute_result"
    }
   ],
   "source": [
    "data.values[:,0]"
   ]
  },
  {
   "cell_type": "markdown",
   "metadata": {
    "colab_type": "text",
    "id": "xNteKhE-cBZZ"
   },
   "source": [
    "Более продвинутое индексирование по таблице: **loc** и **iloc** "
   ]
  },
  {
   "cell_type": "markdown",
   "metadata": {
    "colab_type": "text",
    "id": "9tsXA7vLcBZa"
   },
   "source": [
    "`iloc` - index-based selection"
   ]
  },
  {
   "cell_type": "code",
   "execution_count": 14,
   "metadata": {
    "colab": {},
    "colab_type": "code",
    "id": "nest6QXJcBZa",
    "outputId": "d239826d-d5a1-46c2-a8a8-abff3325f642"
   },
   "outputs": [
    {
     "data": {
      "text/plain": [
       "id                        281656475\n",
       "track_name          PAC-MAN Premium\n",
       "size_bytes                100788224\n",
       "currency                        USD\n",
       "price                          3.99\n",
       "rating_count_tot              21292\n",
       "rating_count_ver                 26\n",
       "user_rating                       4\n",
       "user_rating_ver                 4.5\n",
       "ver                           6.3.5\n",
       "cont_rating                      4+\n",
       "prime_genre                   Games\n",
       "sup_devices.num                  38\n",
       "ipadSc_urls.num                   5\n",
       "lang.num                         10\n",
       "vpp_lic                           1\n",
       "Name: 1, dtype: object"
      ]
     },
     "execution_count": 14,
     "metadata": {},
     "output_type": "execute_result"
    }
   ],
   "source": [
    "data.iloc[0]\n",
    "# data.iloc[0, 0]"
   ]
  },
  {
   "cell_type": "code",
   "execution_count": 21,
   "metadata": {
    "colab": {},
    "colab_type": "code",
    "id": "st0ylZL6cBZc",
    "outputId": "3985a86d-a252-492e-ffe7-e870b2d17735"
   },
   "outputs": [
    {
     "data": {
      "text/html": [
       "<div>\n",
       "<style scoped>\n",
       "    .dataframe tbody tr th:only-of-type {\n",
       "        vertical-align: middle;\n",
       "    }\n",
       "\n",
       "    .dataframe tbody tr th {\n",
       "        vertical-align: top;\n",
       "    }\n",
       "\n",
       "    .dataframe thead th {\n",
       "        text-align: right;\n",
       "    }\n",
       "</style>\n",
       "<table border=\"1\" class=\"dataframe\">\n",
       "  <thead>\n",
       "    <tr style=\"text-align: right;\">\n",
       "      <th></th>\n",
       "      <th>track_name</th>\n",
       "      <th>size_bytes</th>\n",
       "    </tr>\n",
       "  </thead>\n",
       "  <tbody>\n",
       "    <tr>\n",
       "      <th>2</th>\n",
       "      <td>Evernote - stay organized</td>\n",
       "      <td>158578688</td>\n",
       "    </tr>\n",
       "    <tr>\n",
       "      <th>3</th>\n",
       "      <td>WeatherBug - Local Weather, Radar, Maps, Alerts</td>\n",
       "      <td>100524032</td>\n",
       "    </tr>\n",
       "  </tbody>\n",
       "</table>\n",
       "</div>"
      ],
      "text/plain": [
       "                                        track_name  size_bytes\n",
       "2                        Evernote - stay organized   158578688\n",
       "3  WeatherBug - Local Weather, Radar, Maps, Alerts   100524032"
      ]
     },
     "execution_count": 21,
     "metadata": {},
     "output_type": "execute_result"
    }
   ],
   "source": [
    "data.iloc[1:3, 1:3]\n",
    "# data.loc[1:3, ['track_name', 'size_bytes']]"
   ]
  },
  {
   "cell_type": "code",
   "execution_count": 16,
   "metadata": {
    "colab": {},
    "colab_type": "code",
    "id": "_P_yPh1xcBZd",
    "outputId": "3f121a06-e743-49f5-dc2a-8a16291bf3aa"
   },
   "outputs": [
    {
     "data": {
      "text/plain": [
       "1    281656475\n",
       "2    281796108\n",
       "3    281940292\n",
       "Name: id, dtype: int64"
      ]
     },
     "execution_count": 16,
     "metadata": {},
     "output_type": "execute_result"
    }
   ],
   "source": [
    "data.iloc[[0,1,2], 0]"
   ]
  },
  {
   "cell_type": "code",
   "execution_count": 17,
   "metadata": {
    "colab": {},
    "colab_type": "code",
    "id": "hbGJ-mxWcBZg",
    "outputId": "2355314f-ca88-482e-f055-fc9862f17be1"
   },
   "outputs": [
    {
     "data": {
      "text/plain": [
       "id                                    1188375727\n",
       "track_name          Escape the Sweet Shop Series\n",
       "size_bytes                              90898432\n",
       "currency                                     USD\n",
       "price                                          0\n",
       "rating_count_tot                               3\n",
       "rating_count_ver                               3\n",
       "user_rating                                    5\n",
       "user_rating_ver                                5\n",
       "ver                                          1.0\n",
       "cont_rating                                   4+\n",
       "prime_genre                                Games\n",
       "sup_devices.num                               40\n",
       "ipadSc_urls.num                                0\n",
       "lang.num                                       2\n",
       "vpp_lic                                        1\n",
       "Name: 11097, dtype: object"
      ]
     },
     "execution_count": 17,
     "metadata": {},
     "output_type": "execute_result"
    }
   ],
   "source": [
    "data.iloc[-1, :]"
   ]
  },
  {
   "cell_type": "markdown",
   "metadata": {
    "colab_type": "text",
    "id": "so7WamtxcBZi"
   },
   "source": [
    "`loc` - label-based selection"
   ]
  },
  {
   "cell_type": "code",
   "execution_count": 18,
   "metadata": {
    "colab": {},
    "colab_type": "code",
    "id": "cy90-SgecBZj",
    "outputId": "02a6d462-27f3-47e8-e6d3-50efa9e1178f"
   },
   "outputs": [
    {
     "data": {
      "text/plain": [
       "id                  281656475\n",
       "track_name    PAC-MAN Premium\n",
       "price                    3.99\n",
       "Name: 1, dtype: object"
      ]
     },
     "execution_count": 18,
     "metadata": {},
     "output_type": "execute_result"
    }
   ],
   "source": [
    "# первое значение - index, второе - имя колонки\n",
    "data.loc[1, ['id', 'track_name', 'price']]"
   ]
  },
  {
   "cell_type": "markdown",
   "metadata": {
    "colab_type": "text",
    "id": "pwtaYP0mcBZl"
   },
   "source": [
    "**Choosing between loc and iloc**\n",
    "\n",
    "When choosing or transitioning between loc and iloc, there is one \"gotcha\" worth keeping in mind, which is that the two methods use slightly different indexing schemes.\n",
    "\n",
    "`iloc` uses the Python stdlib indexing scheme, where the first element of the range is included and the last one excluded. So 0:10 will select entries 0,...,9. loc, meanwhile, indexes inclusively. So 0:10 will select entries 0,...,10.\n",
    "\n",
    "Why the change? Remember that loc can index any stdlib type: strings, for example. If we have a DataFrame with index values `Apples, ..., Potatoes, ...,` and we want to select \"all the alphabetical fruit choices between Apples and Potatoes\", then it's a lot more convenient to index `df.loc['Apples':'Potatoes']` than it is to index something like `df.loc['Apples', 'Potatoet']` (t coming after s in the alphabet).\n",
    "\n",
    "This is particularly confusing when the DataFrame index is a simple numerical list, e.g. 0,...,1000. In this case `df.iloc[0:1000]` will return 1000 entries, while `df.loc[0:1000]` return 1001 of them! To get 1000 elements using `loc`, you will need to go one lower and ask for `df.iloc[0:999]`.\n",
    "\n",
    "Otherwise, the semantics of using `loc` are the same as those for `iloc`."
   ]
  },
  {
   "cell_type": "markdown",
   "metadata": {
    "colab_type": "text",
    "id": "S-TZxX-8cBZm"
   },
   "source": [
    "`loc` может принимать булевы выражения (так же, как и в случае с `pd.Series`)\n",
    "\n",
    "Еще один полезный метод - `isin`"
   ]
  },
  {
   "cell_type": "code",
   "execution_count": 22,
   "metadata": {
    "colab": {},
    "colab_type": "code",
    "id": "7bPjAhmjcBZn",
    "outputId": "7835e4c0-ca38-4a67-ee90-ecbbea1139ec"
   },
   "outputs": [
    {
     "data": {
      "text/html": [
       "<div>\n",
       "<style scoped>\n",
       "    .dataframe tbody tr th:only-of-type {\n",
       "        vertical-align: middle;\n",
       "    }\n",
       "\n",
       "    .dataframe tbody tr th {\n",
       "        vertical-align: top;\n",
       "    }\n",
       "\n",
       "    .dataframe thead th {\n",
       "        text-align: right;\n",
       "    }\n",
       "</style>\n",
       "<table border=\"1\" class=\"dataframe\">\n",
       "  <thead>\n",
       "    <tr style=\"text-align: right;\">\n",
       "      <th></th>\n",
       "      <th>id</th>\n",
       "      <th>track_name</th>\n",
       "      <th>size_bytes</th>\n",
       "      <th>currency</th>\n",
       "      <th>price</th>\n",
       "      <th>rating_count_tot</th>\n",
       "      <th>rating_count_ver</th>\n",
       "      <th>user_rating</th>\n",
       "      <th>user_rating_ver</th>\n",
       "      <th>ver</th>\n",
       "      <th>cont_rating</th>\n",
       "      <th>prime_genre</th>\n",
       "      <th>sup_devices.num</th>\n",
       "      <th>ipadSc_urls.num</th>\n",
       "      <th>lang.num</th>\n",
       "      <th>vpp_lic</th>\n",
       "    </tr>\n",
       "  </thead>\n",
       "  <tbody>\n",
       "    <tr>\n",
       "      <th>1</th>\n",
       "      <td>281656475</td>\n",
       "      <td>PAC-MAN Premium</td>\n",
       "      <td>100788224</td>\n",
       "      <td>USD</td>\n",
       "      <td>3.99</td>\n",
       "      <td>21292</td>\n",
       "      <td>26</td>\n",
       "      <td>4.0</td>\n",
       "      <td>4.5</td>\n",
       "      <td>6.3.5</td>\n",
       "      <td>4+</td>\n",
       "      <td>Games</td>\n",
       "      <td>38</td>\n",
       "      <td>5</td>\n",
       "      <td>10</td>\n",
       "      <td>1</td>\n",
       "    </tr>\n",
       "    <tr>\n",
       "      <th>4</th>\n",
       "      <td>282614216</td>\n",
       "      <td>eBay: Best App to Buy, Sell, Save! Online Shop...</td>\n",
       "      <td>128512000</td>\n",
       "      <td>USD</td>\n",
       "      <td>0.00</td>\n",
       "      <td>262241</td>\n",
       "      <td>649</td>\n",
       "      <td>4.0</td>\n",
       "      <td>4.5</td>\n",
       "      <td>5.10.0</td>\n",
       "      <td>12+</td>\n",
       "      <td>Shopping</td>\n",
       "      <td>37</td>\n",
       "      <td>5</td>\n",
       "      <td>9</td>\n",
       "      <td>1</td>\n",
       "    </tr>\n",
       "    <tr>\n",
       "      <th>6</th>\n",
       "      <td>283619399</td>\n",
       "      <td>Shanghai Mahjong</td>\n",
       "      <td>10485713</td>\n",
       "      <td>USD</td>\n",
       "      <td>0.99</td>\n",
       "      <td>8253</td>\n",
       "      <td>5516</td>\n",
       "      <td>4.0</td>\n",
       "      <td>4.0</td>\n",
       "      <td>1.8</td>\n",
       "      <td>4+</td>\n",
       "      <td>Games</td>\n",
       "      <td>47</td>\n",
       "      <td>5</td>\n",
       "      <td>1</td>\n",
       "      <td>1</td>\n",
       "    </tr>\n",
       "    <tr>\n",
       "      <th>10</th>\n",
       "      <td>284736660</td>\n",
       "      <td>Ms. PAC-MAN</td>\n",
       "      <td>70023168</td>\n",
       "      <td>USD</td>\n",
       "      <td>3.99</td>\n",
       "      <td>7885</td>\n",
       "      <td>40</td>\n",
       "      <td>4.0</td>\n",
       "      <td>4.0</td>\n",
       "      <td>4.0.4</td>\n",
       "      <td>4+</td>\n",
       "      <td>Games</td>\n",
       "      <td>38</td>\n",
       "      <td>0</td>\n",
       "      <td>10</td>\n",
       "      <td>1</td>\n",
       "    </tr>\n",
       "    <tr>\n",
       "      <th>11</th>\n",
       "      <td>284791396</td>\n",
       "      <td>Solitaire by MobilityWare</td>\n",
       "      <td>49618944</td>\n",
       "      <td>USD</td>\n",
       "      <td>4.99</td>\n",
       "      <td>76720</td>\n",
       "      <td>4017</td>\n",
       "      <td>4.5</td>\n",
       "      <td>4.5</td>\n",
       "      <td>4.10.1</td>\n",
       "      <td>4+</td>\n",
       "      <td>Games</td>\n",
       "      <td>38</td>\n",
       "      <td>4</td>\n",
       "      <td>11</td>\n",
       "      <td>1</td>\n",
       "    </tr>\n",
       "  </tbody>\n",
       "</table>\n",
       "</div>"
      ],
      "text/plain": [
       "           id                                         track_name  size_bytes  \\\n",
       "1   281656475                                    PAC-MAN Premium   100788224   \n",
       "4   282614216  eBay: Best App to Buy, Sell, Save! Online Shop...   128512000   \n",
       "6   283619399                                   Shanghai Mahjong    10485713   \n",
       "10  284736660                                        Ms. PAC-MAN    70023168   \n",
       "11  284791396                          Solitaire by MobilityWare    49618944   \n",
       "\n",
       "   currency  price  rating_count_tot  rating_count_ver  user_rating  \\\n",
       "1       USD   3.99             21292                26          4.0   \n",
       "4       USD   0.00            262241               649          4.0   \n",
       "6       USD   0.99              8253              5516          4.0   \n",
       "10      USD   3.99              7885                40          4.0   \n",
       "11      USD   4.99             76720              4017          4.5   \n",
       "\n",
       "    user_rating_ver     ver cont_rating prime_genre  sup_devices.num  \\\n",
       "1               4.5   6.3.5          4+       Games               38   \n",
       "4               4.5  5.10.0         12+    Shopping               37   \n",
       "6               4.0     1.8          4+       Games               47   \n",
       "10              4.0   4.0.4          4+       Games               38   \n",
       "11              4.5  4.10.1          4+       Games               38   \n",
       "\n",
       "    ipadSc_urls.num  lang.num  vpp_lic  \n",
       "1                 5        10        1  \n",
       "4                 5         9        1  \n",
       "6                 5         1        1  \n",
       "10                0        10        1  \n",
       "11                4        11        1  "
      ]
     },
     "execution_count": 22,
     "metadata": {},
     "output_type": "execute_result"
    }
   ],
   "source": [
    "data.loc[data.prime_genre.isin(['Games', 'Shopping'])].head()"
   ]
  },
  {
   "cell_type": "markdown",
   "metadata": {
    "colab_type": "text",
    "id": "MRl-WOpccBZo"
   },
   "source": [
    "*Задания*"
   ]
  },
  {
   "cell_type": "markdown",
   "metadata": {
    "colab_type": "text",
    "id": "OIQQLY1IcBZp"
   },
   "source": [
    "---"
   ]
  },
  {
   "cell_type": "markdown",
   "metadata": {
    "colab_type": "text",
    "id": "53GJJqOucBZp"
   },
   "source": [
    "Получите ответ на следующие вопросы (с помощью pandas):\n",
    "\n",
    "1). Сколько приложений с максимальным рейтингом (`user_rating`)?\n",
    "\n",
    "2). Сколько всего жанров (`prime_genre`) и какие они? (Hint: `np.unique`)  \n",
    "\n",
    "3). Сколько суммарно байт (`size_bytes`) весят все приложения жанра Finance?  \n",
    "\n",
    "4). Сколько всего бесплатных приложений, у которых рейтинг юзеров больше трёх?  \n",
    "\n",
    "5). Есть ли приложения, которые стоят больше 100 долларов?\n",
    "\n",
    "6). Сколько приложений из жанра `Games` или `Shopping`, которые стоят дороже 10 USD или меньше 2 USD, но не являются бесплатными?"
   ]
  },
  {
   "cell_type": "code",
   "execution_count": 58,
   "metadata": {},
   "outputs": [
    {
     "data": {
      "text/plain": [
       "492"
      ]
     },
     "execution_count": 58,
     "metadata": {},
     "output_type": "execute_result"
    }
   ],
   "source": [
    "# 1). Сколько приложений с максимальным рейтингом (user_rating)?\n",
    "max_rate = data['user_rating'].max()\n",
    "data[data['user_rating'] >= max_rate].shape[0]\n",
    "#(data['user_rating'] == data['user_rating'].max()).sum()"
   ]
  },
  {
   "cell_type": "code",
   "execution_count": 52,
   "metadata": {},
   "outputs": [
    {
     "data": {
      "text/plain": [
       "Games                3862\n",
       "Entertainment         535\n",
       "Education             453\n",
       "Photo & Video         349\n",
       "Utilities             248\n",
       "Health & Fitness      180\n",
       "Productivity          178\n",
       "Social Networking     167\n",
       "Lifestyle             144\n",
       "Music                 138\n",
       "Shopping              122\n",
       "Sports                114\n",
       "Book                  112\n",
       "Finance               104\n",
       "Travel                 81\n",
       "News                   75\n",
       "Weather                72\n",
       "Reference              64\n",
       "Food & Drink           63\n",
       "Business               57\n",
       "Navigation             46\n",
       "Medical                23\n",
       "Catalogs               10\n",
       "Name: prime_genre, dtype: int64"
      ]
     },
     "execution_count": 52,
     "metadata": {},
     "output_type": "execute_result"
    }
   ],
   "source": [
    "# 2). Сколько всего жанров (prime_genre) и какие они? (Hint: np.unique)\n",
    "# data['prime_genre'].unique(), data['prime_genre'].unique().shape[0]\n",
    "# data.prime_genre.unique()\n",
    "data.prime_genre.value_counts()"
   ]
  },
  {
   "cell_type": "code",
   "execution_count": 56,
   "metadata": {},
   "outputs": [
    {
     "data": {
      "text/plain": [
       "8136529366"
      ]
     },
     "execution_count": 56,
     "metadata": {},
     "output_type": "execute_result"
    }
   ],
   "source": [
    "# 3). Сколько суммарно байт (size_bytes) весят все приложения жанра Finance?\n",
    "data[data.prime_genre == 'Finance'].size_bytes.sum()"
   ]
  },
  {
   "cell_type": "code",
   "execution_count": 71,
   "metadata": {},
   "outputs": [
    {
     "name": "stdout",
     "output_type": "stream",
     "text": [
      "2944\n"
     ]
    },
    {
     "data": {
      "text/plain": [
       "2944"
      ]
     },
     "execution_count": 71,
     "metadata": {},
     "output_type": "execute_result"
    }
   ],
   "source": [
    "# 4). Сколько всего бесплатных приложений, у которых рейтинг юзеров больше трёх?\n",
    "print((data[data.price == 0].user_rating > 3).sum())\n",
    "len(data[(data.price == 0) & (data.user_rating > 3)])"
   ]
  },
  {
   "cell_type": "code",
   "execution_count": 75,
   "metadata": {},
   "outputs": [
    {
     "data": {
      "text/plain": [
       "True"
      ]
     },
     "execution_count": 75,
     "metadata": {},
     "output_type": "execute_result"
    }
   ],
   "source": [
    "# 5). Есть ли приложения, которые стоят больше 100 долларов?\n",
    "len(data[data.price > 100]) > 0"
   ]
  },
  {
   "cell_type": "code",
   "execution_count": 84,
   "metadata": {},
   "outputs": [
    {
     "name": "stderr",
     "output_type": "stream",
     "text": [
      "C:\\ProgramData\\Anaconda3\\lib\\site-packages\\ipykernel_launcher.py:2: UserWarning: Boolean Series key will be reindexed to match DataFrame index.\n",
      "  \n"
     ]
    },
    {
     "data": {
      "text/plain": [
       "739"
      ]
     },
     "execution_count": 84,
     "metadata": {},
     "output_type": "execute_result"
    }
   ],
   "source": [
    "# 6). Сколько приложений из жанра Games или Shopping, которые стоят дороже 10 USD или меньше 2 USD, но не являются бесплатными?\n",
    "len(data[(data.prime_genre == 'Games') | (data.prime_genre == 'Shopping')][((data.price < 2) | (data.price > 10)) & (data.price > 0)])"
   ]
  },
  {
   "cell_type": "markdown",
   "metadata": {
    "colab_type": "text",
    "id": "r-zqj7jccBZq"
   },
   "source": [
    "---"
   ]
  },
  {
   "cell_type": "markdown",
   "metadata": {
    "colab_type": "text",
    "id": "-XdSLLfScBZq"
   },
   "source": [
    "Мы разобрали только малую часть работы с `pandas`. Это действительно мощный инструмент для работы с данными и его возможности обширны\n",
    "\n",
    "Из того, что мы не разобрали, стоит обратить внимание на следующие вещи:\n",
    "\n",
    "* Работа с пропущенными значениями (`fillna`)\n",
    "* Объединение таблиц (`join`)\n",
    "* Применение к данным функций (`apply`, `applymap`)\n",
    "* так же стоит посмотреть, как работать с базами данных в `pandas`"
   ]
  },
  {
   "cell_type": "markdown",
   "metadata": {
    "colab_type": "text",
    "id": "R8HojYkNcBZq"
   },
   "source": [
    "Список полезных ссылок:\n",
    "\n",
    "* Официальные туториалы: https://pandas.pydata.org/pandas-docs/stable/getting_started/tutorials.html\n",
    "\n",
    "* Официальная документация: https://pandas.pydata.org/pandas-docs/stable/\n",
    "\n",
    "* Статья на Хабре от OpenDataScience сообщества: https://habr.com/company/ods/blog/322626/\n",
    "\n",
    "* Подробный гайд: https://media.readthedocs.org/pdf/pandasguide/latest/pandasguide.pdf\n",
    "\n",
    "* Небольшой курс от kaggle: https://www.kaggle.com/learn/pandas"
   ]
  },
  {
   "cell_type": "markdown",
   "metadata": {
    "colab_type": "text",
    "id": "5g6HZyh4cBZr"
   },
   "source": [
    "Главное в работе с новыми библиотеками -- не бояться тыкать в разные функции, смотреть типы возвращаемых объектов и активно пользоваться Яндексом, читать документацию на официальном сайте (она довольно хорошо написана), а ещё лучше понимать всё из docstring'а (`Shift+Tab` при нахождении курсора внутри скобок функции)."
   ]
  }
 ],
 "metadata": {
  "colab": {
   "collapsed_sections": [
    "R3FTTV7zcBZC"
   ],
   "name": "Copy of [seminar, prodv]4_pandas_refined.ipynb",
   "provenance": [
    {
     "file_id": "1lGh6S6PWytOIVgUl6fSbBZh9HcpPD8sw",
     "timestamp": 1572334631304
    }
   ],
   "toc_visible": true
  },
  "hide_input": false,
  "kernelspec": {
   "display_name": "Python 3",
   "language": "python",
   "name": "python3"
  },
  "language_info": {
   "codemirror_mode": {
    "name": "ipython",
    "version": 3
   },
   "file_extension": ".py",
   "mimetype": "text/x-python",
   "name": "python",
   "nbconvert_exporter": "python",
   "pygments_lexer": "ipython3",
   "version": "3.7.3"
  },
  "varInspector": {
   "cols": {
    "lenName": 16,
    "lenType": 16,
    "lenVar": 40
   },
   "kernels_config": {
    "python": {
     "delete_cmd_postfix": "",
     "delete_cmd_prefix": "del ",
     "library": "var_list.py",
     "varRefreshCmd": "print(var_dic_list())"
    },
    "r": {
     "delete_cmd_postfix": ") ",
     "delete_cmd_prefix": "rm(",
     "library": "var_list.r",
     "varRefreshCmd": "cat(var_dic_list()) "
    }
   },
   "types_to_exclude": [
    "module",
    "function",
    "builtin_function_or_method",
    "instance",
    "_Feature"
   ],
   "window_display": false
  }
 },
 "nbformat": 4,
 "nbformat_minor": 1
}
