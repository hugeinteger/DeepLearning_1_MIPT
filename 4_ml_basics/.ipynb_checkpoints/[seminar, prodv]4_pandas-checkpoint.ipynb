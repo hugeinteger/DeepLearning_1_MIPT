{
 "cells": [
  {
   "cell_type": "markdown",
   "metadata": {
    "colab_type": "text",
    "id": "PQrmtyBc4dB7"
   },
   "source": [
    "<p style=\"align: center;\"><img align=center src=\"https://s8.hostingkartinok.com/uploads/images/2018/08/308b49fcfbc619d629fe4604bceb67ac.jpg\" width=500 height=450/></p>\n",
    "\n",
    "<h3 style=\"text-align: center;\"><b>\"Глубокое обучение\". Продвинутый поток</b></h3>\n",
    "\n",
    "<h2 style=\"text-align: center;\"><b>День 3. Библиотека <a href=\"http://pandas.pydata.org/\">pandas</a></b></h2>"
   ]
  },
  {
   "cell_type": "markdown",
   "metadata": {
    "colab_type": "text",
    "id": "UZSh9giZ4dCm"
   },
   "source": [
    "Библиотека `pandas` активно используется в современном data science для работы с данными, которые могут быть представлены в виде таблиц (а это очень, очень большая часть данных)"
   ]
  },
  {
   "cell_type": "markdown",
   "metadata": {
    "colab_type": "text",
    "id": "pesvo2Bh4dCx"
   },
   "source": [
    "`pandas` есть в пакете Anaconda, но если вдруг у Вас её по каким-то причинам нет, то можно установить, раскомментировав следующую команду:"
   ]
  },
  {
   "cell_type": "code",
   "execution_count": 0,
   "metadata": {
    "colab": {},
    "colab_type": "code",
    "id": "WHmbkSPX4dC0"
   },
   "outputs": [],
   "source": [
    "# !pip install numpy pandas"
   ]
  },
  {
   "cell_type": "code",
   "execution_count": 1,
   "metadata": {
    "colab": {},
    "colab_type": "code",
    "id": "oEpUOkt_4dC5"
   },
   "outputs": [],
   "source": [
    "import numpy as np\n",
    "import pandas as pd"
   ]
  },
  {
   "cell_type": "markdown",
   "metadata": {
    "colab_type": "text",
    "id": "nLh0Eixb4dC_"
   },
   "source": [
    "## pd.Series"
   ]
  },
  {
   "cell_type": "markdown",
   "metadata": {
    "colab_type": "text",
    "id": "3S0_Kyzu4dDB"
   },
   "source": [
    "Одномерный набор данных. Похож на `np.ndarray`, но с более расширенным функционалом"
   ]
  },
  {
   "cell_type": "code",
   "execution_count": 2,
   "metadata": {
    "colab": {},
    "colab_type": "code",
    "id": "PX7LmtHj4dDD"
   },
   "outputs": [],
   "source": [
    "np.random.seed(42)"
   ]
  },
  {
   "cell_type": "code",
   "execution_count": 3,
   "metadata": {
    "colab": {
     "base_uri": "https://localhost:8080/",
     "height": 35
    },
    "colab_type": "code",
    "executionInfo": {
     "elapsed": 1576,
     "status": "ok",
     "timestamp": 1570899406154,
     "user": {
      "displayName": "Deep Learning School",
      "photoUrl": "https://lh3.googleusercontent.com/a-/AAuE7mAZOxIFs492LdcPov50SO_pIXHE97bN30Cu9x9dyg=s64",
      "userId": "16549096980415837553"
     },
     "user_tz": -180
    },
    "id": "pPx_aqz-4dDF",
    "outputId": "2a75e17d-87f9-4e38-e1e2-2fdb7b60340a"
   },
   "outputs": [
    {
     "data": {
      "text/plain": [
       "array([13, -1, -8,  5])"
      ]
     },
     "execution_count": 3,
     "metadata": {},
     "output_type": "execute_result"
    }
   ],
   "source": [
    "np_array = np.random.randint(low=-15, high=20, size=4)\n",
    "np_array"
   ]
  },
  {
   "cell_type": "code",
   "execution_count": 4,
   "metadata": {
    "colab": {
     "base_uri": "https://localhost:8080/",
     "height": 104
    },
    "colab_type": "code",
    "executionInfo": {
     "elapsed": 2701,
     "status": "ok",
     "timestamp": 1570899407949,
     "user": {
      "displayName": "Deep Learning School",
      "photoUrl": "https://lh3.googleusercontent.com/a-/AAuE7mAZOxIFs492LdcPov50SO_pIXHE97bN30Cu9x9dyg=s64",
      "userId": "16549096980415837553"
     },
     "user_tz": -180
    },
    "id": "jPuV-sFF4dDU",
    "outputId": "034622b8-9e1f-4b77-8830-0e295a6d3144"
   },
   "outputs": [
    {
     "data": {
      "text/plain": [
       "0    13\n",
       "1    -1\n",
       "2    -8\n",
       "3     5\n",
       "dtype: int32"
      ]
     },
     "execution_count": 4,
     "metadata": {},
     "output_type": "execute_result"
    }
   ],
   "source": [
    "# Series можно сделать из массива\n",
    "pd_series_1 = pd.Series(np_array)\n",
    "pd_series_1"
   ]
  },
  {
   "cell_type": "code",
   "execution_count": 5,
   "metadata": {
    "colab": {
     "base_uri": "https://localhost:8080/",
     "height": 104
    },
    "colab_type": "code",
    "executionInfo": {
     "elapsed": 2032,
     "status": "ok",
     "timestamp": 1570899407952,
     "user": {
      "displayName": "Deep Learning School",
      "photoUrl": "https://lh3.googleusercontent.com/a-/AAuE7mAZOxIFs492LdcPov50SO_pIXHE97bN30Cu9x9dyg=s64",
      "userId": "16549096980415837553"
     },
     "user_tz": -180
    },
    "id": "3ecEsd814dDf",
    "outputId": "0e425616-ecf3-4d64-a332-bccbbcc82be4"
   },
   "outputs": [
    {
     "data": {
      "text/plain": [
       "1st day    13\n",
       "2nd day    -1\n",
       "3rd day    -8\n",
       "4th day     5\n",
       "dtype: int32"
      ]
     },
     "execution_count": 5,
     "metadata": {},
     "output_type": "execute_result"
    }
   ],
   "source": [
    "# Так же можно аннотировать индексы, чтобы потом было более удобно обращаться к элементам\n",
    "pd_series_2 = pd.Series(np_array, index=['1st day', '2nd day', '3rd day', '4th day'])\n",
    "pd_series_2"
   ]
  },
  {
   "cell_type": "code",
   "execution_count": 6,
   "metadata": {
    "colab": {
     "base_uri": "https://localhost:8080/",
     "height": 35
    },
    "colab_type": "code",
    "executionInfo": {
     "elapsed": 3677,
     "status": "ok",
     "timestamp": 1570899410392,
     "user": {
      "displayName": "Deep Learning School",
      "photoUrl": "https://lh3.googleusercontent.com/a-/AAuE7mAZOxIFs492LdcPov50SO_pIXHE97bN30Cu9x9dyg=s64",
      "userId": "16549096980415837553"
     },
     "user_tz": -180
    },
    "id": "k_O3NN0N4dDz",
    "outputId": "b2b04b07-18ea-48d9-dcdd-7d4d06f0b628"
   },
   "outputs": [
    {
     "data": {
      "text/plain": [
       "5"
      ]
     },
     "execution_count": 6,
     "metadata": {},
     "output_type": "execute_result"
    }
   ],
   "source": [
    "pd_series_2['4th day']"
   ]
  },
  {
   "cell_type": "code",
   "execution_count": 7,
   "metadata": {
    "colab": {
     "base_uri": "https://localhost:8080/",
     "height": 104
    },
    "colab_type": "code",
    "executionInfo": {
     "elapsed": 6229,
     "status": "ok",
     "timestamp": 1570899413670,
     "user": {
      "displayName": "Deep Learning School",
      "photoUrl": "https://lh3.googleusercontent.com/a-/AAuE7mAZOxIFs492LdcPov50SO_pIXHE97bN30Cu9x9dyg=s64",
      "userId": "16549096980415837553"
     },
     "user_tz": -180
    },
    "id": "DwBmuWWB4dD-",
    "outputId": "6310be66-c59a-4efb-e651-45e19f9c18a5"
   },
   "outputs": [
    {
     "data": {
      "text/plain": [
       "1st day    13\n",
       "2nd day    -1\n",
       "3rd day    -8\n",
       "4th day     5\n",
       "Name: Temperature, dtype: int32"
      ]
     },
     "execution_count": 7,
     "metadata": {},
     "output_type": "execute_result"
    }
   ],
   "source": [
    "# А еще можно дать pd.Series имя, чтобы было совсем красиво\n",
    "pd_series_3 = pd.Series(np_array, index=['1st day', '2nd day', '3rd day', '4th day'], name='Temperature')\n",
    "pd_series_3"
   ]
  },
  {
   "cell_type": "code",
   "execution_count": 8,
   "metadata": {
    "colab": {
     "base_uri": "https://localhost:8080/",
     "height": 208
    },
    "colab_type": "code",
    "executionInfo": {
     "elapsed": 7913,
     "status": "ok",
     "timestamp": 1570899416282,
     "user": {
      "displayName": "Deep Learning School",
      "photoUrl": "https://lh3.googleusercontent.com/a-/AAuE7mAZOxIFs492LdcPov50SO_pIXHE97bN30Cu9x9dyg=s64",
      "userId": "16549096980415837553"
     },
     "user_tz": -180
    },
    "id": "A4hQd-Of4dEF",
    "outputId": "aaa81db4-f690-41cd-db2e-129922a56563"
   },
   "outputs": [
    {
     "name": "stdout",
     "output_type": "stream",
     "text": [
      "13\n",
      "*****\n",
      "2nd day   -1\n",
      "3rd day   -8\n",
      "Name: Temperature, dtype: int32\n",
      "*****\n",
      "4th day     5\n",
      "3rd day    -8\n",
      "2nd day    -1\n",
      "1st day    13\n",
      "Name: Temperature, dtype: int32\n"
     ]
    }
   ],
   "source": [
    "# с индексами можно работать так же, как и в случае с обычным list\n",
    "print(pd_series_3[0])\n",
    "print('*'*5)\n",
    "print(pd_series_3[1:3])\n",
    "print('*'*5)\n",
    "print(pd_series_3[::-1])"
   ]
  },
  {
   "cell_type": "markdown",
   "metadata": {
    "colab_type": "text",
    "id": "Evujjel44dEP"
   },
   "source": [
    "`series` можно отсортировать как по значениям, так и по индексу"
   ]
  },
  {
   "cell_type": "code",
   "execution_count": 9,
   "metadata": {
    "colab": {
     "base_uri": "https://localhost:8080/",
     "height": 104
    },
    "colab_type": "code",
    "executionInfo": {
     "elapsed": 4292,
     "status": "ok",
     "timestamp": 1570899416286,
     "user": {
      "displayName": "Deep Learning School",
      "photoUrl": "https://lh3.googleusercontent.com/a-/AAuE7mAZOxIFs492LdcPov50SO_pIXHE97bN30Cu9x9dyg=s64",
      "userId": "16549096980415837553"
     },
     "user_tz": -180
    },
    "id": "rGWJOQ1C4dER",
    "outputId": "f6b28d20-b6bd-4437-ae9d-c168109dbabc"
   },
   "outputs": [
    {
     "data": {
      "text/plain": [
       "1st day    13\n",
       "2nd day    -1\n",
       "3rd day    -8\n",
       "4th day     5\n",
       "Name: Temperature, dtype: int32"
      ]
     },
     "execution_count": 9,
     "metadata": {},
     "output_type": "execute_result"
    }
   ],
   "source": [
    "pd_series_3.sort_index()"
   ]
  },
  {
   "cell_type": "code",
   "execution_count": 10,
   "metadata": {
    "colab": {
     "base_uri": "https://localhost:8080/",
     "height": 104
    },
    "colab_type": "code",
    "executionInfo": {
     "elapsed": 2801,
     "status": "ok",
     "timestamp": 1570899421648,
     "user": {
      "displayName": "Deep Learning School",
      "photoUrl": "https://lh3.googleusercontent.com/a-/AAuE7mAZOxIFs492LdcPov50SO_pIXHE97bN30Cu9x9dyg=s64",
      "userId": "16549096980415837553"
     },
     "user_tz": -180
    },
    "id": "TGbjDN9J4dEW",
    "outputId": "21947a71-22bb-4f33-eafd-59b4d008b2e1"
   },
   "outputs": [
    {
     "data": {
      "text/plain": [
       "3rd day    -8\n",
       "2nd day    -1\n",
       "4th day     5\n",
       "1st day    13\n",
       "Name: Temperature, dtype: int32"
      ]
     },
     "execution_count": 10,
     "metadata": {},
     "output_type": "execute_result"
    }
   ],
   "source": [
    "pd_series_3.sort_values()"
   ]
  },
  {
   "cell_type": "markdown",
   "metadata": {
    "colab_type": "text",
    "id": "MTipuuQ-4dEg"
   },
   "source": [
    "с `series` можно работать как с `np.ndarray`"
   ]
  },
  {
   "cell_type": "code",
   "execution_count": 11,
   "metadata": {
    "colab": {
     "base_uri": "https://localhost:8080/",
     "height": 104
    },
    "colab_type": "code",
    "executionInfo": {
     "elapsed": 1416,
     "status": "ok",
     "timestamp": 1570899430637,
     "user": {
      "displayName": "Deep Learning School",
      "photoUrl": "https://lh3.googleusercontent.com/a-/AAuE7mAZOxIFs492LdcPov50SO_pIXHE97bN30Cu9x9dyg=s64",
      "userId": "16549096980415837553"
     },
     "user_tz": -180
    },
    "id": "MKwWwrQu4dEj",
    "outputId": "9ee919d3-1110-4a18-d0ef-e832dd57340f"
   },
   "outputs": [
    {
     "data": {
      "text/plain": [
       "1st day    113\n",
       "2nd day     99\n",
       "3rd day     92\n",
       "4th day    105\n",
       "Name: Temperature, dtype: int32"
      ]
     },
     "execution_count": 11,
     "metadata": {},
     "output_type": "execute_result"
    }
   ],
   "source": [
    "pd_series_3 + 100"
   ]
  },
  {
   "cell_type": "code",
   "execution_count": 12,
   "metadata": {
    "colab": {
     "base_uri": "https://localhost:8080/",
     "height": 104
    },
    "colab_type": "code",
    "executionInfo": {
     "elapsed": 1355,
     "status": "ok",
     "timestamp": 1570899431779,
     "user": {
      "displayName": "Deep Learning School",
      "photoUrl": "https://lh3.googleusercontent.com/a-/AAuE7mAZOxIFs492LdcPov50SO_pIXHE97bN30Cu9x9dyg=s64",
      "userId": "16549096980415837553"
     },
     "user_tz": -180
    },
    "id": "taVXuE434dEx",
    "outputId": "9297cccc-d711-48e6-e159-c7e559f248d8"
   },
   "outputs": [
    {
     "data": {
      "text/plain": [
       "1st day    442413.392009\n",
       "2nd day         0.367879\n",
       "3rd day         0.000335\n",
       "4th day       148.413159\n",
       "Name: Temperature, dtype: float64"
      ]
     },
     "execution_count": 12,
     "metadata": {},
     "output_type": "execute_result"
    }
   ],
   "source": [
    "np.exp(pd_series_3)"
   ]
  },
  {
   "cell_type": "code",
   "execution_count": 13,
   "metadata": {
    "colab": {
     "base_uri": "https://localhost:8080/",
     "height": 451
    },
    "colab_type": "code",
    "executionInfo": {
     "elapsed": 1743,
     "status": "ok",
     "timestamp": 1570899432885,
     "user": {
      "displayName": "Deep Learning School",
      "photoUrl": "https://lh3.googleusercontent.com/a-/AAuE7mAZOxIFs492LdcPov50SO_pIXHE97bN30Cu9x9dyg=s64",
      "userId": "16549096980415837553"
     },
     "user_tz": -180
    },
    "id": "BAVt5BZu4dE8",
    "outputId": "355b4d6e-47b7-42ff-ffe4-8878a0d35996"
   },
   "outputs": [
    {
     "name": "stdout",
     "output_type": "stream",
     "text": [
      "Term1:\n",
      "0    6\n",
      "1    9\n",
      "2    2\n",
      "3    6\n",
      "4    7\n",
      "dtype: int32\n",
      "\n",
      "Term2:\n",
      "0    4\n",
      "1    3\n",
      "2    7\n",
      "3    7\n",
      "4    2\n",
      "5    5\n",
      "dtype: int32\n",
      "\n",
      "Sum:\n",
      "0    10.0\n",
      "1    12.0\n",
      "2     9.0\n",
      "3    13.0\n",
      "4     9.0\n",
      "5     NaN\n",
      "dtype: float64\n"
     ]
    }
   ],
   "source": [
    "term_1 = pd.Series(np.random.randint(0, 10, 5))\n",
    "term_2 = pd.Series(np.random.randint(0, 10, 6))\n",
    "\n",
    "print('Term1:\\n{}\\n\\nTerm2:\\n{}\\n\\nSum:\\n{}'.format(term_1, term_2, term_1 + term_2))"
   ]
  },
  {
   "cell_type": "code",
   "execution_count": 14,
   "metadata": {
    "colab": {
     "base_uri": "https://localhost:8080/",
     "height": 35
    },
    "colab_type": "code",
    "executionInfo": {
     "elapsed": 1943,
     "status": "ok",
     "timestamp": 1570899433884,
     "user": {
      "displayName": "Deep Learning School",
      "photoUrl": "https://lh3.googleusercontent.com/a-/AAuE7mAZOxIFs492LdcPov50SO_pIXHE97bN30Cu9x9dyg=s64",
      "userId": "16549096980415837553"
     },
     "user_tz": -180
    },
    "id": "mZoaYQiv4dFI",
    "outputId": "de2bde3c-6779-435e-e0d3-c3e5ef6bf228"
   },
   "outputs": [
    {
     "data": {
      "text/plain": [
       "(5,)"
      ]
     },
     "execution_count": 14,
     "metadata": {},
     "output_type": "execute_result"
    }
   ],
   "source": [
    "term_1.shape"
   ]
  },
  {
   "cell_type": "code",
   "execution_count": 15,
   "metadata": {
    "colab": {
     "base_uri": "https://localhost:8080/",
     "height": 208
    },
    "colab_type": "code",
    "executionInfo": {
     "elapsed": 1677,
     "status": "ok",
     "timestamp": 1570899434986,
     "user": {
      "displayName": "Deep Learning School",
      "photoUrl": "https://lh3.googleusercontent.com/a-/AAuE7mAZOxIFs492LdcPov50SO_pIXHE97bN30Cu9x9dyg=s64",
      "userId": "16549096980415837553"
     },
     "user_tz": -180
    },
    "id": "cC8YVeai4dFT",
    "outputId": "91944079-e46d-4181-c06a-25cce9a67d56"
   },
   "outputs": [
    {
     "data": {
      "text/plain": [
       "2019-01-01    0.056412\n",
       "2019-01-02    0.721999\n",
       "2019-01-03    0.938553\n",
       "2019-01-04    0.000779\n",
       "2019-01-05    0.992212\n",
       "2019-01-06    0.617482\n",
       "2019-01-07    0.611653\n",
       "2019-01-08    0.007066\n",
       "2019-01-09    0.023062\n",
       "2019-01-10    0.524775\n",
       "Freq: D, dtype: float64"
      ]
     },
     "execution_count": 15,
     "metadata": {},
     "output_type": "execute_result"
    }
   ],
   "source": [
    "date_range = pd.date_range('20190101', periods=10)\n",
    "pd_series_4 = pd.Series(np.random.rand(10), date_range)\n",
    "pd_series_4"
   ]
  },
  {
   "cell_type": "code",
   "execution_count": 16,
   "metadata": {
    "colab": {
     "base_uri": "https://localhost:8080/",
     "height": 208
    },
    "colab_type": "code",
    "executionInfo": {
     "elapsed": 7134,
     "status": "ok",
     "timestamp": 1570899441557,
     "user": {
      "displayName": "Deep Learning School",
      "photoUrl": "https://lh3.googleusercontent.com/a-/AAuE7mAZOxIFs492LdcPov50SO_pIXHE97bN30Cu9x9dyg=s64",
      "userId": "16549096980415837553"
     },
     "user_tz": -180
    },
    "id": "I_zvf7Zx4dFa",
    "outputId": "9b634fd3-2764-49fe-cbed-cd5850f9a567"
   },
   "outputs": [
    {
     "data": {
      "text/plain": [
       "2019-01-01    False\n",
       "2019-01-02     True\n",
       "2019-01-03     True\n",
       "2019-01-04    False\n",
       "2019-01-05     True\n",
       "2019-01-06     True\n",
       "2019-01-07     True\n",
       "2019-01-08    False\n",
       "2019-01-09    False\n",
       "2019-01-10     True\n",
       "Freq: D, dtype: bool"
      ]
     },
     "execution_count": 16,
     "metadata": {},
     "output_type": "execute_result"
    }
   ],
   "source": [
    "pd_series_4 > 0.5"
   ]
  },
  {
   "cell_type": "markdown",
   "metadata": {
    "colab_type": "text",
    "id": "HZKHHHnY4dFm"
   },
   "source": [
    "в качестве индекса можно указать выражение, и нам будут возвращены только те элементы, для которых знвчение является `True`"
   ]
  },
  {
   "cell_type": "code",
   "execution_count": 17,
   "metadata": {
    "colab": {
     "base_uri": "https://localhost:8080/",
     "height": 139
    },
    "colab_type": "code",
    "executionInfo": {
     "elapsed": 5069,
     "status": "ok",
     "timestamp": 1570899442185,
     "user": {
      "displayName": "Deep Learning School",
      "photoUrl": "https://lh3.googleusercontent.com/a-/AAuE7mAZOxIFs492LdcPov50SO_pIXHE97bN30Cu9x9dyg=s64",
      "userId": "16549096980415837553"
     },
     "user_tz": -180
    },
    "id": "piWNydpR4dFs",
    "outputId": "31139ec3-b411-475b-e64c-97fc841886e2"
   },
   "outputs": [
    {
     "data": {
      "text/plain": [
       "2019-01-02    0.721999\n",
       "2019-01-03    0.938553\n",
       "2019-01-05    0.992212\n",
       "2019-01-06    0.617482\n",
       "2019-01-07    0.611653\n",
       "2019-01-10    0.524775\n",
       "dtype: float64"
      ]
     },
     "execution_count": 17,
     "metadata": {},
     "output_type": "execute_result"
    }
   ],
   "source": [
    "pd_series_4[pd_series_4 > 0.5]"
   ]
  },
  {
   "cell_type": "code",
   "execution_count": 18,
   "metadata": {
    "colab": {
     "base_uri": "https://localhost:8080/",
     "height": 52
    },
    "colab_type": "code",
    "executionInfo": {
     "elapsed": 2930,
     "status": "ok",
     "timestamp": 1570899442186,
     "user": {
      "displayName": "Deep Learning School",
      "photoUrl": "https://lh3.googleusercontent.com/a-/AAuE7mAZOxIFs492LdcPov50SO_pIXHE97bN30Cu9x9dyg=s64",
      "userId": "16549096980415837553"
     },
     "user_tz": -180
    },
    "id": "N0QhO9d54dGN",
    "outputId": "5bcb7849-6fab-41bd-e8a4-ce251af9badd"
   },
   "outputs": [
    {
     "data": {
      "text/plain": [
       "2019-01-10    0.524775\n",
       "Freq: D, dtype: float64"
      ]
     },
     "execution_count": 18,
     "metadata": {},
     "output_type": "execute_result"
    }
   ],
   "source": [
    "pd_series_4[(pd_series_4 > 0.5) & (pd_series_4 < 0.6)]"
   ]
  },
  {
   "cell_type": "code",
   "execution_count": 19,
   "metadata": {
    "colab": {
     "base_uri": "https://localhost:8080/",
     "height": 191
    },
    "colab_type": "code",
    "executionInfo": {
     "elapsed": 1697,
     "status": "ok",
     "timestamp": 1570899442188,
     "user": {
      "displayName": "Deep Learning School",
      "photoUrl": "https://lh3.googleusercontent.com/a-/AAuE7mAZOxIFs492LdcPov50SO_pIXHE97bN30Cu9x9dyg=s64",
      "userId": "16549096980415837553"
     },
     "user_tz": -180
    },
    "id": "f6vFBIbT4dGX",
    "outputId": "dd953f86-aada-4fb7-fe10-9cf93803e20d"
   },
   "outputs": [
    {
     "data": {
      "text/plain": [
       "2019-01-01    0.056412\n",
       "2019-01-02    0.721999\n",
       "2019-01-03    0.938553\n",
       "2019-01-04    0.000779\n",
       "2019-01-05    0.992212\n",
       "2019-01-06    0.617482\n",
       "2019-01-07    0.611653\n",
       "2019-01-08    0.007066\n",
       "2019-01-09    0.023062\n",
       "Freq: D, dtype: float64"
      ]
     },
     "execution_count": 19,
     "metadata": {},
     "output_type": "execute_result"
    }
   ],
   "source": [
    "pd_series_4[(pd_series_4 > 0.6) | (pd_series_4 < 0.2)]"
   ]
  },
  {
   "cell_type": "markdown",
   "metadata": {
    "colab_type": "text",
    "id": "cQSkwJKA4dGd"
   },
   "source": [
    "## DataFrame\n",
    "\n",
    "Двумерная таблица данных. Имеет индекс и набор столбцов (возможно, имеющих разные типы). Таблицу можно построить, например, из словаря, значениями в котором являются одномерные наборы данных."
   ]
  },
  {
   "cell_type": "code",
   "execution_count": 20,
   "metadata": {
    "colab": {
     "base_uri": "https://localhost:8080/",
     "height": 171
    },
    "colab_type": "code",
    "executionInfo": {
     "elapsed": 3718,
     "status": "ok",
     "timestamp": 1570899446246,
     "user": {
      "displayName": "Deep Learning School",
      "photoUrl": "https://lh3.googleusercontent.com/a-/AAuE7mAZOxIFs492LdcPov50SO_pIXHE97bN30Cu9x9dyg=s64",
      "userId": "16549096980415837553"
     },
     "user_tz": -180
    },
    "id": "SFzX2-N64dGe",
    "outputId": "713a1ac2-baa8-402c-faf0-533fca6f0846"
   },
   "outputs": [
    {
     "data": {
      "text/html": [
       "<div>\n",
       "<style scoped>\n",
       "    .dataframe tbody tr th:only-of-type {\n",
       "        vertical-align: middle;\n",
       "    }\n",
       "\n",
       "    .dataframe tbody tr th {\n",
       "        vertical-align: top;\n",
       "    }\n",
       "\n",
       "    .dataframe thead th {\n",
       "        text-align: right;\n",
       "    }\n",
       "</style>\n",
       "<table border=\"1\" class=\"dataframe\">\n",
       "  <thead>\n",
       "    <tr style=\"text-align: right;\">\n",
       "      <th></th>\n",
       "      <th>one</th>\n",
       "      <th>two</th>\n",
       "    </tr>\n",
       "  </thead>\n",
       "  <tbody>\n",
       "    <tr>\n",
       "      <th>a</th>\n",
       "      <td>1.0</td>\n",
       "      <td>1</td>\n",
       "    </tr>\n",
       "    <tr>\n",
       "      <th>b</th>\n",
       "      <td>2.0</td>\n",
       "      <td>2</td>\n",
       "    </tr>\n",
       "    <tr>\n",
       "      <th>c</th>\n",
       "      <td>3.0</td>\n",
       "      <td>3</td>\n",
       "    </tr>\n",
       "    <tr>\n",
       "      <th>d</th>\n",
       "      <td>NaN</td>\n",
       "      <td>4</td>\n",
       "    </tr>\n",
       "  </tbody>\n",
       "</table>\n",
       "</div>"
      ],
      "text/plain": [
       "   one  two\n",
       "a  1.0    1\n",
       "b  2.0    2\n",
       "c  3.0    3\n",
       "d  NaN    4"
      ]
     },
     "execution_count": 20,
     "metadata": {},
     "output_type": "execute_result"
    }
   ],
   "source": [
    "# Dataframe можно составить из словаря. Ключ будет соответсовать колонке\n",
    "d={'one':pd.Series([1,2,3],index=['a','b','c']),\n",
    "   'two':pd.Series([1,2,3,4],index=['a','b','c','d'])}\n",
    "df=pd.DataFrame(d)\n",
    "df"
   ]
  },
  {
   "cell_type": "code",
   "execution_count": 21,
   "metadata": {},
   "outputs": [
    {
     "data": {
      "text/plain": [
       "(4, 2)"
      ]
     },
     "execution_count": 21,
     "metadata": {},
     "output_type": "execute_result"
    }
   ],
   "source": [
    "df.shape"
   ]
  },
  {
   "cell_type": "code",
   "execution_count": 22,
   "metadata": {
    "colab": {
     "base_uri": "https://localhost:8080/",
     "height": 35
    },
    "colab_type": "code",
    "executionInfo": {
     "elapsed": 6855,
     "status": "ok",
     "timestamp": 1570899455691,
     "user": {
      "displayName": "Deep Learning School",
      "photoUrl": "https://lh3.googleusercontent.com/a-/AAuE7mAZOxIFs492LdcPov50SO_pIXHE97bN30Cu9x9dyg=s64",
      "userId": "16549096980415837553"
     },
     "user_tz": -180
    },
    "id": "ZdO05kdD4dGh",
    "outputId": "cdcc813d-b545-438a-dd2d-b1e16a797558"
   },
   "outputs": [
    {
     "data": {
      "text/plain": [
       "Index(['a', 'b', 'c', 'd'], dtype='object')"
      ]
     },
     "execution_count": 22,
     "metadata": {},
     "output_type": "execute_result"
    }
   ],
   "source": [
    "df.index"
   ]
  },
  {
   "cell_type": "code",
   "execution_count": 23,
   "metadata": {
    "colab": {
     "base_uri": "https://localhost:8080/",
     "height": 35
    },
    "colab_type": "code",
    "executionInfo": {
     "elapsed": 5978,
     "status": "ok",
     "timestamp": 1570899455699,
     "user": {
      "displayName": "Deep Learning School",
      "photoUrl": "https://lh3.googleusercontent.com/a-/AAuE7mAZOxIFs492LdcPov50SO_pIXHE97bN30Cu9x9dyg=s64",
      "userId": "16549096980415837553"
     },
     "user_tz": -180
    },
    "id": "9NuwjLfb4dGr",
    "outputId": "f52a3dfe-0128-4ddd-c4fc-5625dfe47829"
   },
   "outputs": [
    {
     "data": {
      "text/plain": [
       "Index(['one', 'two'], dtype='object')"
      ]
     },
     "execution_count": 23,
     "metadata": {},
     "output_type": "execute_result"
    }
   ],
   "source": [
    "df.columns"
   ]
  },
  {
   "cell_type": "code",
   "execution_count": 24,
   "metadata": {
    "colab": {
     "base_uri": "https://localhost:8080/",
     "height": 35
    },
    "colab_type": "code",
    "executionInfo": {
     "elapsed": 9044,
     "status": "ok",
     "timestamp": 1570899459178,
     "user": {
      "displayName": "Deep Learning School",
      "photoUrl": "https://lh3.googleusercontent.com/a-/AAuE7mAZOxIFs492LdcPov50SO_pIXHE97bN30Cu9x9dyg=s64",
      "userId": "16549096980415837553"
     },
     "user_tz": -180
    },
    "id": "9gLpav4R4dG7",
    "outputId": "667a2a23-0bb1-4d9b-c626-465abcfb1495"
   },
   "outputs": [
    {
     "data": {
      "text/plain": [
       "3.0"
      ]
     },
     "execution_count": 24,
     "metadata": {},
     "output_type": "execute_result"
    }
   ],
   "source": [
    "df['one']['c']"
   ]
  },
  {
   "cell_type": "code",
   "execution_count": 25,
   "metadata": {
    "colab": {
     "base_uri": "https://localhost:8080/",
     "height": 104
    },
    "colab_type": "code",
    "executionInfo": {
     "elapsed": 8782,
     "status": "ok",
     "timestamp": 1570899459185,
     "user": {
      "displayName": "Deep Learning School",
      "photoUrl": "https://lh3.googleusercontent.com/a-/AAuE7mAZOxIFs492LdcPov50SO_pIXHE97bN30Cu9x9dyg=s64",
      "userId": "16549096980415837553"
     },
     "user_tz": -180
    },
    "id": "G4nfOQT94dHO",
    "outputId": "eedba97b-96ee-4ada-c970-91de8cdd42e9"
   },
   "outputs": [
    {
     "data": {
      "text/plain": [
       "a    1.0\n",
       "b    2.0\n",
       "c    3.0\n",
       "d    NaN\n",
       "Name: one, dtype: float64"
      ]
     },
     "execution_count": 25,
     "metadata": {},
     "output_type": "execute_result"
    }
   ],
   "source": [
    "df.one"
   ]
  },
  {
   "cell_type": "markdown",
   "metadata": {
    "colab_type": "text",
    "id": "x5VszQpv4dHf"
   },
   "source": [
    "Если указать диапазон индексов, то это означает диапазон строк. Причём **последняя строка включается в таблицу.**\n",
    "\n",
    "Диапазон целых чисел даёт диапазон строк с такими номерами, **не включая последнюю строку** (как обычно при индексировании списков). \n",
    "\n",
    "На это стоит обратить внимание"
   ]
  },
  {
   "cell_type": "code",
   "execution_count": 26,
   "metadata": {
    "colab": {
     "base_uri": "https://localhost:8080/",
     "height": 141
    },
    "colab_type": "code",
    "executionInfo": {
     "elapsed": 8348,
     "status": "ok",
     "timestamp": 1570899459378,
     "user": {
      "displayName": "Deep Learning School",
      "photoUrl": "https://lh3.googleusercontent.com/a-/AAuE7mAZOxIFs492LdcPov50SO_pIXHE97bN30Cu9x9dyg=s64",
      "userId": "16549096980415837553"
     },
     "user_tz": -180
    },
    "id": "exD-TJmV4dHh",
    "outputId": "8eba4371-d952-43f0-cc61-3ffd55fe5a82"
   },
   "outputs": [
    {
     "data": {
      "text/html": [
       "<div>\n",
       "<style scoped>\n",
       "    .dataframe tbody tr th:only-of-type {\n",
       "        vertical-align: middle;\n",
       "    }\n",
       "\n",
       "    .dataframe tbody tr th {\n",
       "        vertical-align: top;\n",
       "    }\n",
       "\n",
       "    .dataframe thead th {\n",
       "        text-align: right;\n",
       "    }\n",
       "</style>\n",
       "<table border=\"1\" class=\"dataframe\">\n",
       "  <thead>\n",
       "    <tr style=\"text-align: right;\">\n",
       "      <th></th>\n",
       "      <th>one</th>\n",
       "      <th>two</th>\n",
       "    </tr>\n",
       "  </thead>\n",
       "  <tbody>\n",
       "    <tr>\n",
       "      <th>b</th>\n",
       "      <td>2.0</td>\n",
       "      <td>2</td>\n",
       "    </tr>\n",
       "    <tr>\n",
       "      <th>c</th>\n",
       "      <td>3.0</td>\n",
       "      <td>3</td>\n",
       "    </tr>\n",
       "    <tr>\n",
       "      <th>d</th>\n",
       "      <td>NaN</td>\n",
       "      <td>4</td>\n",
       "    </tr>\n",
       "  </tbody>\n",
       "</table>\n",
       "</div>"
      ],
      "text/plain": [
       "   one  two\n",
       "b  2.0    2\n",
       "c  3.0    3\n",
       "d  NaN    4"
      ]
     },
     "execution_count": 26,
     "metadata": {},
     "output_type": "execute_result"
    }
   ],
   "source": [
    "df['b':'d']"
   ]
  },
  {
   "cell_type": "code",
   "execution_count": 27,
   "metadata": {
    "colab": {
     "base_uri": "https://localhost:8080/",
     "height": 110
    },
    "colab_type": "code",
    "executionInfo": {
     "elapsed": 7067,
     "status": "ok",
     "timestamp": 1570899459382,
     "user": {
      "displayName": "Deep Learning School",
      "photoUrl": "https://lh3.googleusercontent.com/a-/AAuE7mAZOxIFs492LdcPov50SO_pIXHE97bN30Cu9x9dyg=s64",
      "userId": "16549096980415837553"
     },
     "user_tz": -180
    },
    "id": "PsOpqodJ4dHj",
    "outputId": "5375d8b9-c5e0-4f6a-d80b-d764c5362ae6"
   },
   "outputs": [
    {
     "data": {
      "text/html": [
       "<div>\n",
       "<style scoped>\n",
       "    .dataframe tbody tr th:only-of-type {\n",
       "        vertical-align: middle;\n",
       "    }\n",
       "\n",
       "    .dataframe tbody tr th {\n",
       "        vertical-align: top;\n",
       "    }\n",
       "\n",
       "    .dataframe thead th {\n",
       "        text-align: right;\n",
       "    }\n",
       "</style>\n",
       "<table border=\"1\" class=\"dataframe\">\n",
       "  <thead>\n",
       "    <tr style=\"text-align: right;\">\n",
       "      <th></th>\n",
       "      <th>one</th>\n",
       "      <th>two</th>\n",
       "    </tr>\n",
       "  </thead>\n",
       "  <tbody>\n",
       "    <tr>\n",
       "      <th>b</th>\n",
       "      <td>2.0</td>\n",
       "      <td>2</td>\n",
       "    </tr>\n",
       "    <tr>\n",
       "      <th>c</th>\n",
       "      <td>3.0</td>\n",
       "      <td>3</td>\n",
       "    </tr>\n",
       "  </tbody>\n",
       "</table>\n",
       "</div>"
      ],
      "text/plain": [
       "   one  two\n",
       "b  2.0    2\n",
       "c  3.0    3"
      ]
     },
     "execution_count": 27,
     "metadata": {},
     "output_type": "execute_result"
    }
   ],
   "source": [
    "df[1:3]"
   ]
  },
  {
   "cell_type": "code",
   "execution_count": 28,
   "metadata": {
    "colab": {
     "base_uri": "https://localhost:8080/",
     "height": 171
    },
    "colab_type": "code",
    "executionInfo": {
     "elapsed": 6742,
     "status": "ok",
     "timestamp": 1570899459383,
     "user": {
      "displayName": "Deep Learning School",
      "photoUrl": "https://lh3.googleusercontent.com/a-/AAuE7mAZOxIFs492LdcPov50SO_pIXHE97bN30Cu9x9dyg=s64",
      "userId": "16549096980415837553"
     },
     "user_tz": -180
    },
    "id": "4SFFA8yd4dHo",
    "outputId": "561eddc2-f9ed-42fe-82bf-876adca9be1a"
   },
   "outputs": [
    {
     "data": {
      "text/html": [
       "<div>\n",
       "<style scoped>\n",
       "    .dataframe tbody tr th:only-of-type {\n",
       "        vertical-align: middle;\n",
       "    }\n",
       "\n",
       "    .dataframe tbody tr th {\n",
       "        vertical-align: top;\n",
       "    }\n",
       "\n",
       "    .dataframe thead th {\n",
       "        text-align: right;\n",
       "    }\n",
       "</style>\n",
       "<table border=\"1\" class=\"dataframe\">\n",
       "  <thead>\n",
       "    <tr style=\"text-align: right;\">\n",
       "      <th></th>\n",
       "      <th>one</th>\n",
       "      <th>two</th>\n",
       "      <th>three</th>\n",
       "    </tr>\n",
       "  </thead>\n",
       "  <tbody>\n",
       "    <tr>\n",
       "      <th>a</th>\n",
       "      <td>1.0</td>\n",
       "      <td>1</td>\n",
       "      <td>1.0</td>\n",
       "    </tr>\n",
       "    <tr>\n",
       "      <th>b</th>\n",
       "      <td>2.0</td>\n",
       "      <td>2</td>\n",
       "      <td>4.0</td>\n",
       "    </tr>\n",
       "    <tr>\n",
       "      <th>c</th>\n",
       "      <td>3.0</td>\n",
       "      <td>3</td>\n",
       "      <td>9.0</td>\n",
       "    </tr>\n",
       "    <tr>\n",
       "      <th>d</th>\n",
       "      <td>NaN</td>\n",
       "      <td>4</td>\n",
       "      <td>NaN</td>\n",
       "    </tr>\n",
       "  </tbody>\n",
       "</table>\n",
       "</div>"
      ],
      "text/plain": [
       "   one  two  three\n",
       "a  1.0    1    1.0\n",
       "b  2.0    2    4.0\n",
       "c  3.0    3    9.0\n",
       "d  NaN    4    NaN"
      ]
     },
     "execution_count": 28,
     "metadata": {},
     "output_type": "execute_result"
    }
   ],
   "source": [
    "df['three'] = df['one'] * df['two']\n",
    "df"
   ]
  },
  {
   "cell_type": "markdown",
   "metadata": {
    "colab_type": "text",
    "id": "y9mIs5GS4dHv"
   },
   "source": [
    "Иногда нам надо обьединить 2 таблицы вместе. В этом могут помочь методы `concat` и `join` "
   ]
  },
  {
   "cell_type": "code",
   "execution_count": 29,
   "metadata": {
    "colab": {
     "base_uri": "https://localhost:8080/",
     "height": 110
    },
    "colab_type": "code",
    "executionInfo": {
     "elapsed": 6277,
     "status": "ok",
     "timestamp": 1570899459384,
     "user": {
      "displayName": "Deep Learning School",
      "photoUrl": "https://lh3.googleusercontent.com/a-/AAuE7mAZOxIFs492LdcPov50SO_pIXHE97bN30Cu9x9dyg=s64",
      "userId": "16549096980415837553"
     },
     "user_tz": -180
    },
    "id": "aYt0Iyix4dH4",
    "outputId": "36dc1909-94ba-4985-95db-4e117c86bcab"
   },
   "outputs": [
    {
     "data": {
      "text/html": [
       "<div>\n",
       "<style scoped>\n",
       "    .dataframe tbody tr th:only-of-type {\n",
       "        vertical-align: middle;\n",
       "    }\n",
       "\n",
       "    .dataframe tbody tr th {\n",
       "        vertical-align: top;\n",
       "    }\n",
       "\n",
       "    .dataframe thead th {\n",
       "        text-align: right;\n",
       "    }\n",
       "</style>\n",
       "<table border=\"1\" class=\"dataframe\">\n",
       "  <thead>\n",
       "    <tr style=\"text-align: right;\">\n",
       "      <th></th>\n",
       "      <th>one</th>\n",
       "      <th>one_tr</th>\n",
       "    </tr>\n",
       "  </thead>\n",
       "  <tbody>\n",
       "    <tr>\n",
       "      <th>e</th>\n",
       "      <td>0</td>\n",
       "      <td>2.0</td>\n",
       "    </tr>\n",
       "    <tr>\n",
       "      <th>f</th>\n",
       "      <td>1</td>\n",
       "      <td>NaN</td>\n",
       "    </tr>\n",
       "  </tbody>\n",
       "</table>\n",
       "</div>"
      ],
      "text/plain": [
       "   one  one_tr\n",
       "e    0     2.0\n",
       "f    1     NaN"
      ]
     },
     "execution_count": 29,
     "metadata": {},
     "output_type": "execute_result"
    }
   ],
   "source": [
    "# concatinating\n",
    "df2=pd.DataFrame({'one':{'e':0,'f':1},'one_tr':{'e':2}})\n",
    "df2"
   ]
  },
  {
   "cell_type": "code",
   "execution_count": 30,
   "metadata": {
    "colab": {
     "base_uri": "https://localhost:8080/",
     "height": 233
    },
    "colab_type": "code",
    "executionInfo": {
     "elapsed": 6036,
     "status": "ok",
     "timestamp": 1570899459385,
     "user": {
      "displayName": "Deep Learning School",
      "photoUrl": "https://lh3.googleusercontent.com/a-/AAuE7mAZOxIFs492LdcPov50SO_pIXHE97bN30Cu9x9dyg=s64",
      "userId": "16549096980415837553"
     },
     "user_tz": -180
    },
    "id": "nQS2qwNu4dIR",
    "outputId": "529929c6-0edd-42fc-fdef-350f16f760ab"
   },
   "outputs": [
    {
     "data": {
      "text/html": [
       "<div>\n",
       "<style scoped>\n",
       "    .dataframe tbody tr th:only-of-type {\n",
       "        vertical-align: middle;\n",
       "    }\n",
       "\n",
       "    .dataframe tbody tr th {\n",
       "        vertical-align: top;\n",
       "    }\n",
       "\n",
       "    .dataframe thead th {\n",
       "        text-align: right;\n",
       "    }\n",
       "</style>\n",
       "<table border=\"1\" class=\"dataframe\">\n",
       "  <thead>\n",
       "    <tr style=\"text-align: right;\">\n",
       "      <th></th>\n",
       "      <th>one</th>\n",
       "      <th>two</th>\n",
       "      <th>three</th>\n",
       "      <th>one_tr</th>\n",
       "    </tr>\n",
       "  </thead>\n",
       "  <tbody>\n",
       "    <tr>\n",
       "      <th>a</th>\n",
       "      <td>1.0</td>\n",
       "      <td>1.0</td>\n",
       "      <td>1.0</td>\n",
       "      <td>NaN</td>\n",
       "    </tr>\n",
       "    <tr>\n",
       "      <th>b</th>\n",
       "      <td>2.0</td>\n",
       "      <td>2.0</td>\n",
       "      <td>4.0</td>\n",
       "      <td>NaN</td>\n",
       "    </tr>\n",
       "    <tr>\n",
       "      <th>c</th>\n",
       "      <td>3.0</td>\n",
       "      <td>3.0</td>\n",
       "      <td>9.0</td>\n",
       "      <td>NaN</td>\n",
       "    </tr>\n",
       "    <tr>\n",
       "      <th>d</th>\n",
       "      <td>NaN</td>\n",
       "      <td>4.0</td>\n",
       "      <td>NaN</td>\n",
       "      <td>NaN</td>\n",
       "    </tr>\n",
       "    <tr>\n",
       "      <th>e</th>\n",
       "      <td>0.0</td>\n",
       "      <td>NaN</td>\n",
       "      <td>NaN</td>\n",
       "      <td>2.0</td>\n",
       "    </tr>\n",
       "    <tr>\n",
       "      <th>f</th>\n",
       "      <td>1.0</td>\n",
       "      <td>NaN</td>\n",
       "      <td>NaN</td>\n",
       "      <td>NaN</td>\n",
       "    </tr>\n",
       "  </tbody>\n",
       "</table>\n",
       "</div>"
      ],
      "text/plain": [
       "   one  two  three  one_tr\n",
       "a  1.0  1.0    1.0     NaN\n",
       "b  2.0  2.0    4.0     NaN\n",
       "c  3.0  3.0    9.0     NaN\n",
       "d  NaN  4.0    NaN     NaN\n",
       "e  0.0  NaN    NaN     2.0\n",
       "f  1.0  NaN    NaN     NaN"
      ]
     },
     "execution_count": 30,
     "metadata": {},
     "output_type": "execute_result"
    }
   ],
   "source": [
    "pd.concat([df,df2], sort=False)"
   ]
  },
  {
   "cell_type": "code",
   "execution_count": 31,
   "metadata": {
    "colab": {
     "base_uri": "https://localhost:8080/",
     "height": 171
    },
    "colab_type": "code",
    "executionInfo": {
     "elapsed": 5665,
     "status": "ok",
     "timestamp": 1570899459416,
     "user": {
      "displayName": "Deep Learning School",
      "photoUrl": "https://lh3.googleusercontent.com/a-/AAuE7mAZOxIFs492LdcPov50SO_pIXHE97bN30Cu9x9dyg=s64",
      "userId": "16549096980415837553"
     },
     "user_tz": -180
    },
    "id": "rwISYARo4dIg",
    "outputId": "7787f9d1-f6a8-43e3-837e-52f7490c0fc1"
   },
   "outputs": [
    {
     "data": {
      "text/html": [
       "<div>\n",
       "<style scoped>\n",
       "    .dataframe tbody tr th:only-of-type {\n",
       "        vertical-align: middle;\n",
       "    }\n",
       "\n",
       "    .dataframe tbody tr th {\n",
       "        vertical-align: top;\n",
       "    }\n",
       "\n",
       "    .dataframe thead th {\n",
       "        text-align: right;\n",
       "    }\n",
       "</style>\n",
       "<table border=\"1\" class=\"dataframe\">\n",
       "  <thead>\n",
       "    <tr style=\"text-align: right;\">\n",
       "      <th></th>\n",
       "      <th>one</th>\n",
       "      <th>two</th>\n",
       "    </tr>\n",
       "  </thead>\n",
       "  <tbody>\n",
       "    <tr>\n",
       "      <th>a</th>\n",
       "      <td>1</td>\n",
       "      <td>5</td>\n",
       "    </tr>\n",
       "    <tr>\n",
       "      <th>b</th>\n",
       "      <td>2</td>\n",
       "      <td>6</td>\n",
       "    </tr>\n",
       "    <tr>\n",
       "      <th>c</th>\n",
       "      <td>3</td>\n",
       "      <td>7</td>\n",
       "    </tr>\n",
       "    <tr>\n",
       "      <th>d</th>\n",
       "      <td>4</td>\n",
       "      <td>8</td>\n",
       "    </tr>\n",
       "  </tbody>\n",
       "</table>\n",
       "</div>"
      ],
      "text/plain": [
       "   one  two\n",
       "a    1    5\n",
       "b    2    6\n",
       "c    3    7\n",
       "d    4    8"
      ]
     },
     "execution_count": 31,
     "metadata": {},
     "output_type": "execute_result"
    }
   ],
   "source": [
    "df1 = pd.DataFrame({\n",
    "    'one':pd.Series([1,2,3,4], index=['a','b','c','d']),\n",
    "    'two':pd.Series([5,6,7,8], index=['a','b','c','d'])\n",
    "})\n",
    "df1"
   ]
  },
  {
   "cell_type": "code",
   "execution_count": 32,
   "metadata": {
    "colab": {
     "base_uri": "https://localhost:8080/",
     "height": 202
    },
    "colab_type": "code",
    "executionInfo": {
     "elapsed": 1044,
     "status": "ok",
     "timestamp": 1570899472275,
     "user": {
      "displayName": "Deep Learning School",
      "photoUrl": "https://lh3.googleusercontent.com/a-/AAuE7mAZOxIFs492LdcPov50SO_pIXHE97bN30Cu9x9dyg=s64",
      "userId": "16549096980415837553"
     },
     "user_tz": -180
    },
    "id": "tBr2HZ2x4dIn",
    "outputId": "1f341b68-d837-4dbf-b542-83a9f26584e3"
   },
   "outputs": [
    {
     "data": {
      "text/html": [
       "<div>\n",
       "<style scoped>\n",
       "    .dataframe tbody tr th:only-of-type {\n",
       "        vertical-align: middle;\n",
       "    }\n",
       "\n",
       "    .dataframe tbody tr th {\n",
       "        vertical-align: top;\n",
       "    }\n",
       "\n",
       "    .dataframe thead th {\n",
       "        text-align: right;\n",
       "    }\n",
       "</style>\n",
       "<table border=\"1\" class=\"dataframe\">\n",
       "  <thead>\n",
       "    <tr style=\"text-align: right;\">\n",
       "      <th></th>\n",
       "      <th>one</th>\n",
       "      <th>three</th>\n",
       "    </tr>\n",
       "  </thead>\n",
       "  <tbody>\n",
       "    <tr>\n",
       "      <th>a</th>\n",
       "      <td>1</td>\n",
       "      <td>1</td>\n",
       "    </tr>\n",
       "    <tr>\n",
       "      <th>b</th>\n",
       "      <td>2</td>\n",
       "      <td>1</td>\n",
       "    </tr>\n",
       "    <tr>\n",
       "      <th>c</th>\n",
       "      <td>3</td>\n",
       "      <td>2</td>\n",
       "    </tr>\n",
       "    <tr>\n",
       "      <th>d</th>\n",
       "      <td>4</td>\n",
       "      <td>3</td>\n",
       "    </tr>\n",
       "    <tr>\n",
       "      <th>e</th>\n",
       "      <td>5</td>\n",
       "      <td>NaN</td>\n",
       "    </tr>\n",
       "  </tbody>\n",
       "</table>\n",
       "</div>"
      ],
      "text/plain": [
       "   one three\n",
       "a    1     1\n",
       "b    2     1\n",
       "c    3     2\n",
       "d    4     3\n",
       "e    5   NaN"
      ]
     },
     "execution_count": 32,
     "metadata": {},
     "output_type": "execute_result"
    }
   ],
   "source": [
    "\n",
    "df2 = pd.DataFrame({\n",
    "    'one':pd.Series([1,2,3,4,5], index=['a','b','c','d', 'e']),\n",
    "    'three':pd.Series(['1','1','2','3'], index=['a','b','c','d'])\n",
    "})\n",
    "df2"
   ]
  },
  {
   "cell_type": "code",
   "execution_count": 34,
   "metadata": {
    "colab": {
     "base_uri": "https://localhost:8080/",
     "height": 171
    },
    "colab_type": "code",
    "executionInfo": {
     "elapsed": 525,
     "status": "ok",
     "timestamp": 1570899472654,
     "user": {
      "displayName": "Deep Learning School",
      "photoUrl": "https://lh3.googleusercontent.com/a-/AAuE7mAZOxIFs492LdcPov50SO_pIXHE97bN30Cu9x9dyg=s64",
      "userId": "16549096980415837553"
     },
     "user_tz": -180
    },
    "id": "-w4AoQlO4dIs",
    "outputId": "07b9e985-ce5f-4b26-cf5b-d59eb3612278"
   },
   "outputs": [
    {
     "data": {
      "text/html": [
       "<div>\n",
       "<style scoped>\n",
       "    .dataframe tbody tr th:only-of-type {\n",
       "        vertical-align: middle;\n",
       "    }\n",
       "\n",
       "    .dataframe tbody tr th {\n",
       "        vertical-align: top;\n",
       "    }\n",
       "\n",
       "    .dataframe thead th {\n",
       "        text-align: right;\n",
       "    }\n",
       "</style>\n",
       "<table border=\"1\" class=\"dataframe\">\n",
       "  <thead>\n",
       "    <tr style=\"text-align: right;\">\n",
       "      <th></th>\n",
       "      <th>one</th>\n",
       "      <th>two</th>\n",
       "      <th>three</th>\n",
       "    </tr>\n",
       "  </thead>\n",
       "  <tbody>\n",
       "    <tr>\n",
       "      <th>a</th>\n",
       "      <td>1</td>\n",
       "      <td>5</td>\n",
       "      <td>1</td>\n",
       "    </tr>\n",
       "    <tr>\n",
       "      <th>b</th>\n",
       "      <td>2</td>\n",
       "      <td>6</td>\n",
       "      <td>1</td>\n",
       "    </tr>\n",
       "    <tr>\n",
       "      <th>c</th>\n",
       "      <td>3</td>\n",
       "      <td>7</td>\n",
       "      <td>2</td>\n",
       "    </tr>\n",
       "    <tr>\n",
       "      <th>d</th>\n",
       "      <td>4</td>\n",
       "      <td>8</td>\n",
       "      <td>3</td>\n",
       "    </tr>\n",
       "  </tbody>\n",
       "</table>\n",
       "</div>"
      ],
      "text/plain": [
       "   one  two three\n",
       "a    1    5     1\n",
       "b    2    6     1\n",
       "c    3    7     2\n",
       "d    4    8     3"
      ]
     },
     "execution_count": 34,
     "metadata": {},
     "output_type": "execute_result"
    }
   ],
   "source": [
    "df1.join(df2.set_index('one'), on='one')"
   ]
  },
  {
   "cell_type": "markdown",
   "metadata": {
    "colab_type": "text",
    "id": "WjsrJHTC4dIy"
   },
   "source": [
    "Более подробно про join:  https://pandas.pydata.org/pandas-docs/stable/reference/api/pandas.DataFrame.join.html"
   ]
  },
  {
   "cell_type": "markdown",
   "metadata": {
    "colab_type": "text",
    "id": "TVh5gjzO4dI9"
   },
   "source": [
    "Теперь попробуем поработать с настоящими данными"
   ]
  },
  {
   "cell_type": "markdown",
   "metadata": {
    "colab_type": "text",
    "id": "mtQjMB214dJD"
   },
   "source": [
    "### Скачать данные: https://www.kaggle.com/ramamet4/app-store-apple-data-set-10k-apps"
   ]
  },
  {
   "cell_type": "code",
   "execution_count": 73,
   "metadata": {
    "colab": {
     "base_uri": "https://localhost:8080/",
     "height": 505
    },
    "colab_type": "code",
    "executionInfo": {
     "elapsed": 3541,
     "status": "ok",
     "timestamp": 1570899503905,
     "user": {
      "displayName": "Deep Learning School",
      "photoUrl": "https://lh3.googleusercontent.com/a-/AAuE7mAZOxIFs492LdcPov50SO_pIXHE97bN30Cu9x9dyg=s64",
      "userId": "16549096980415837553"
     },
     "user_tz": -180
    },
    "id": "D2vjIQcg4dJI",
    "outputId": "225a988f-57c9-4b84-9031-16d4ccf7e93c",
    "scrolled": false
   },
   "outputs": [
    {
     "name": "stdout",
     "output_type": "stream",
     "text": [
      "--2019-10-12 16:58:19--  https://www.dropbox.com/s/o9uiqxb3yr6ch6k/app-store-apple-data-set-10k-apps.zip?dl=0\n",
      "Resolving www.dropbox.com (www.dropbox.com)... 162.125.1.1, 2620:100:601b:1::a27d:801\n",
      "Connecting to www.dropbox.com (www.dropbox.com)|162.125.1.1|:443... connected.\n",
      "HTTP request sent, awaiting response... 301 Moved Permanently\n",
      "Location: /s/raw/o9uiqxb3yr6ch6k/app-store-apple-data-set-10k-apps.zip [following]\n",
      "--2019-10-12 16:58:19--  https://www.dropbox.com/s/raw/o9uiqxb3yr6ch6k/app-store-apple-data-set-10k-apps.zip\n",
      "Reusing existing connection to www.dropbox.com:443.\n",
      "HTTP request sent, awaiting response... 302 Found\n",
      "Location: https://uc16f4058dc520467910f87b74a9.dl.dropboxusercontent.com/cd/0/inline/AqSQo3ZIGN1yw87yE7GYxqRxmwRp1_DPjBdgIwD1wX9Dm22_kgYQ25fJVQk80NP6PAdjB5I5zYK9fG6c9WqDllu44Gt7sfAru4wiQk0w_knr7npFYXofgRBf_1O_yRn1vgM/file# [following]\n",
      "--2019-10-12 16:58:19--  https://uc16f4058dc520467910f87b74a9.dl.dropboxusercontent.com/cd/0/inline/AqSQo3ZIGN1yw87yE7GYxqRxmwRp1_DPjBdgIwD1wX9Dm22_kgYQ25fJVQk80NP6PAdjB5I5zYK9fG6c9WqDllu44Gt7sfAru4wiQk0w_knr7npFYXofgRBf_1O_yRn1vgM/file\n",
      "Resolving uc16f4058dc520467910f87b74a9.dl.dropboxusercontent.com (uc16f4058dc520467910f87b74a9.dl.dropboxusercontent.com)... 162.125.1.6, 2620:100:6016:6::a27d:106\n",
      "Connecting to uc16f4058dc520467910f87b74a9.dl.dropboxusercontent.com (uc16f4058dc520467910f87b74a9.dl.dropboxusercontent.com)|162.125.1.6|:443... connected.\n",
      "HTTP request sent, awaiting response... 302 FOUND\n",
      "Location: /cd/0/inline2/AqS1wJSanFLijBBBbvzDUfO4at-GeQCmWBa9nrHpPh4jhbxam5CPDVG4M9TleJw5fuw6xvqlToCBFjHpBjK9OBsTGo-C5vmbsJagv1uxfvauqbjJddoc58BMIAO9Us6-nNhSvwS26eG6z5fNqnnnGMlR9f7ogvXzSOJbGa41_o_mP_ePyolcvJewzBiIBWsHqf1XwuUM0QGjcqUafGBkOnI6SMGKlzHNIIby_nPdOMBy2sNzasvItuytsoU0K1NimLqRg_gXA4Ly6HQBc2hmCPOpRyqHy7KDBPKbchVatxLo6xwqIfBlbFx9D7FTJD_3HOXn2XxVDdzNupjs0MM4jnyusKqHPpYVp3ZaorhyyIyZzA/file [following]\n",
      "--2019-10-12 16:58:19--  https://uc16f4058dc520467910f87b74a9.dl.dropboxusercontent.com/cd/0/inline2/AqS1wJSanFLijBBBbvzDUfO4at-GeQCmWBa9nrHpPh4jhbxam5CPDVG4M9TleJw5fuw6xvqlToCBFjHpBjK9OBsTGo-C5vmbsJagv1uxfvauqbjJddoc58BMIAO9Us6-nNhSvwS26eG6z5fNqnnnGMlR9f7ogvXzSOJbGa41_o_mP_ePyolcvJewzBiIBWsHqf1XwuUM0QGjcqUafGBkOnI6SMGKlzHNIIby_nPdOMBy2sNzasvItuytsoU0K1NimLqRg_gXA4Ly6HQBc2hmCPOpRyqHy7KDBPKbchVatxLo6xwqIfBlbFx9D7FTJD_3HOXn2XxVDdzNupjs0MM4jnyusKqHPpYVp3ZaorhyyIyZzA/file\n",
      "Reusing existing connection to uc16f4058dc520467910f87b74a9.dl.dropboxusercontent.com:443.\n",
      "HTTP request sent, awaiting response... 200 OK\n",
      "Length: 5905027 (5.6M) [application/zip]\n",
      "Saving to: ‘app-store-apple-data-set-10k-apps.zip?dl=0.1’\n",
      "\n",
      "app-store-apple-dat 100%[===================>]   5.63M  --.-KB/s    in 0.08s   \n",
      "\n",
      "2019-10-12 16:58:20 (69.4 MB/s) - ‘app-store-apple-data-set-10k-apps.zip?dl=0.1’ saved [5905027/5905027]\n",
      "\n",
      "Archive:  app-store-apple-data-set-10k-apps.zip?dl=0\n",
      "  inflating: AppleStore.csv          \n",
      "  inflating: appleStore_description.csv  \n"
     ]
    }
   ],
   "source": [
    "!wget https://www.dropbox.com/s/o9uiqxb3yr6ch6k/app-store-apple-data-set-10k-apps.zip?dl=0\n",
    "!unzip app-store-apple-data-set-10k-apps.zip?dl=0"
   ]
  },
  {
   "cell_type": "code",
   "execution_count": 74,
   "metadata": {
    "colab": {
     "base_uri": "https://localhost:8080/",
     "height": 430
    },
    "colab_type": "code",
    "executionInfo": {
     "elapsed": 548,
     "status": "ok",
     "timestamp": 1570899509786,
     "user": {
      "displayName": "Deep Learning School",
      "photoUrl": "https://lh3.googleusercontent.com/a-/AAuE7mAZOxIFs492LdcPov50SO_pIXHE97bN30Cu9x9dyg=s64",
      "userId": "16549096980415837553"
     },
     "user_tz": -180
    },
    "id": "7C-GpEqU4dJn",
    "outputId": "46152aaa-905e-490f-cb9a-f0a21c24286a"
   },
   "outputs": [
    {
     "data": {
      "text/html": [
       "<div>\n",
       "<style scoped>\n",
       "    .dataframe tbody tr th:only-of-type {\n",
       "        vertical-align: middle;\n",
       "    }\n",
       "\n",
       "    .dataframe tbody tr th {\n",
       "        vertical-align: top;\n",
       "    }\n",
       "\n",
       "    .dataframe thead th {\n",
       "        text-align: right;\n",
       "    }\n",
       "</style>\n",
       "<table border=\"1\" class=\"dataframe\">\n",
       "  <thead>\n",
       "    <tr style=\"text-align: right;\">\n",
       "      <th></th>\n",
       "      <th>Unnamed: 0</th>\n",
       "      <th>id</th>\n",
       "      <th>track_name</th>\n",
       "      <th>size_bytes</th>\n",
       "      <th>currency</th>\n",
       "      <th>price</th>\n",
       "      <th>rating_count_tot</th>\n",
       "      <th>rating_count_ver</th>\n",
       "      <th>user_rating</th>\n",
       "      <th>user_rating_ver</th>\n",
       "      <th>ver</th>\n",
       "      <th>cont_rating</th>\n",
       "      <th>prime_genre</th>\n",
       "      <th>sup_devices.num</th>\n",
       "      <th>ipadSc_urls.num</th>\n",
       "      <th>lang.num</th>\n",
       "      <th>vpp_lic</th>\n",
       "    </tr>\n",
       "  </thead>\n",
       "  <tbody>\n",
       "    <tr>\n",
       "      <th>5634</th>\n",
       "      <td>7638</td>\n",
       "      <td>1091186897</td>\n",
       "      <td>Horror Story 2016　こわい話</td>\n",
       "      <td>29597696</td>\n",
       "      <td>USD</td>\n",
       "      <td>0.00</td>\n",
       "      <td>0</td>\n",
       "      <td>0</td>\n",
       "      <td>0.0</td>\n",
       "      <td>0.0</td>\n",
       "      <td>1.0.1</td>\n",
       "      <td>12+</td>\n",
       "      <td>Book</td>\n",
       "      <td>37</td>\n",
       "      <td>0</td>\n",
       "      <td>1</td>\n",
       "      <td>1</td>\n",
       "    </tr>\n",
       "    <tr>\n",
       "      <th>4951</th>\n",
       "      <td>6457</td>\n",
       "      <td>1067024404</td>\n",
       "      <td>Hatoful Boyfriend</td>\n",
       "      <td>1297310720</td>\n",
       "      <td>USD</td>\n",
       "      <td>4.99</td>\n",
       "      <td>137</td>\n",
       "      <td>41</td>\n",
       "      <td>4.5</td>\n",
       "      <td>4.5</td>\n",
       "      <td>1.3</td>\n",
       "      <td>9+</td>\n",
       "      <td>Games</td>\n",
       "      <td>40</td>\n",
       "      <td>5</td>\n",
       "      <td>1</td>\n",
       "      <td>1</td>\n",
       "    </tr>\n",
       "    <tr>\n",
       "      <th>4359</th>\n",
       "      <td>5504</td>\n",
       "      <td>1039910808</td>\n",
       "      <td>Patchmania KIDS - A Puzzle About Bunny Revenge!</td>\n",
       "      <td>102250496</td>\n",
       "      <td>USD</td>\n",
       "      <td>3.99</td>\n",
       "      <td>3</td>\n",
       "      <td>3</td>\n",
       "      <td>4.5</td>\n",
       "      <td>4.5</td>\n",
       "      <td>1.0</td>\n",
       "      <td>4+</td>\n",
       "      <td>Games</td>\n",
       "      <td>38</td>\n",
       "      <td>5</td>\n",
       "      <td>13</td>\n",
       "      <td>1</td>\n",
       "    </tr>\n",
       "    <tr>\n",
       "      <th>1615</th>\n",
       "      <td>1874</td>\n",
       "      <td>572534490</td>\n",
       "      <td>Beat the Boss 2</td>\n",
       "      <td>205271040</td>\n",
       "      <td>USD</td>\n",
       "      <td>0.00</td>\n",
       "      <td>117338</td>\n",
       "      <td>22708</td>\n",
       "      <td>4.5</td>\n",
       "      <td>4.5</td>\n",
       "      <td>2.8.0</td>\n",
       "      <td>12+</td>\n",
       "      <td>Games</td>\n",
       "      <td>43</td>\n",
       "      <td>5</td>\n",
       "      <td>15</td>\n",
       "      <td>1</td>\n",
       "    </tr>\n",
       "    <tr>\n",
       "      <th>3554</th>\n",
       "      <td>4320</td>\n",
       "      <td>974529966</td>\n",
       "      <td>Jelly Squares Free</td>\n",
       "      <td>52018176</td>\n",
       "      <td>USD</td>\n",
       "      <td>0.00</td>\n",
       "      <td>173</td>\n",
       "      <td>1</td>\n",
       "      <td>4.5</td>\n",
       "      <td>5.0</td>\n",
       "      <td>1.3.5</td>\n",
       "      <td>4+</td>\n",
       "      <td>Games</td>\n",
       "      <td>37</td>\n",
       "      <td>1</td>\n",
       "      <td>11</td>\n",
       "      <td>1</td>\n",
       "    </tr>\n",
       "  </tbody>\n",
       "</table>\n",
       "</div>"
      ],
      "text/plain": [
       "      Unnamed: 0          id  ... lang.num  vpp_lic\n",
       "5634        7638  1091186897  ...        1        1\n",
       "4951        6457  1067024404  ...        1        1\n",
       "4359        5504  1039910808  ...       13        1\n",
       "1615        1874   572534490  ...       15        1\n",
       "3554        4320   974529966  ...       11        1\n",
       "\n",
       "[5 rows x 17 columns]"
      ]
     },
     "execution_count": 74,
     "metadata": {
      "tags": []
     },
     "output_type": "execute_result"
    }
   ],
   "source": [
    "data = pd.read_csv('AppleStore.csv')\n",
    "\n",
    "# вывести первые 5 строк\n",
    "# data.head(5)\n",
    "# вывести последние 5 строк\n",
    "# data.tail(5)\n",
    "# вывести 5 случайных строк\n",
    "data.sample(5)"
   ]
  },
  {
   "cell_type": "code",
   "execution_count": 75,
   "metadata": {
    "colab": {
     "base_uri": "https://localhost:8080/",
     "height": 413
    },
    "colab_type": "code",
    "executionInfo": {
     "elapsed": 573,
     "status": "ok",
     "timestamp": 1570899513568,
     "user": {
      "displayName": "Deep Learning School",
      "photoUrl": "https://lh3.googleusercontent.com/a-/AAuE7mAZOxIFs492LdcPov50SO_pIXHE97bN30Cu9x9dyg=s64",
      "userId": "16549096980415837553"
     },
     "user_tz": -180
    },
    "id": "mqTvJRZs4dJq",
    "outputId": "dbfb11e4-a86e-4984-b498-a40e4000fcf6"
   },
   "outputs": [
    {
     "data": {
      "text/html": [
       "<div>\n",
       "<style scoped>\n",
       "    .dataframe tbody tr th:only-of-type {\n",
       "        vertical-align: middle;\n",
       "    }\n",
       "\n",
       "    .dataframe tbody tr th {\n",
       "        vertical-align: top;\n",
       "    }\n",
       "\n",
       "    .dataframe thead th {\n",
       "        text-align: right;\n",
       "    }\n",
       "</style>\n",
       "<table border=\"1\" class=\"dataframe\">\n",
       "  <thead>\n",
       "    <tr style=\"text-align: right;\">\n",
       "      <th></th>\n",
       "      <th>id</th>\n",
       "      <th>track_name</th>\n",
       "      <th>size_bytes</th>\n",
       "      <th>currency</th>\n",
       "      <th>price</th>\n",
       "      <th>rating_count_tot</th>\n",
       "      <th>rating_count_ver</th>\n",
       "      <th>user_rating</th>\n",
       "      <th>user_rating_ver</th>\n",
       "      <th>ver</th>\n",
       "      <th>cont_rating</th>\n",
       "      <th>prime_genre</th>\n",
       "      <th>sup_devices.num</th>\n",
       "      <th>ipadSc_urls.num</th>\n",
       "      <th>lang.num</th>\n",
       "      <th>vpp_lic</th>\n",
       "    </tr>\n",
       "  </thead>\n",
       "  <tbody>\n",
       "    <tr>\n",
       "      <th>1</th>\n",
       "      <td>281656475</td>\n",
       "      <td>PAC-MAN Premium</td>\n",
       "      <td>100788224</td>\n",
       "      <td>USD</td>\n",
       "      <td>3.99</td>\n",
       "      <td>21292</td>\n",
       "      <td>26</td>\n",
       "      <td>4.0</td>\n",
       "      <td>4.5</td>\n",
       "      <td>6.3.5</td>\n",
       "      <td>4+</td>\n",
       "      <td>Games</td>\n",
       "      <td>38</td>\n",
       "      <td>5</td>\n",
       "      <td>10</td>\n",
       "      <td>1</td>\n",
       "    </tr>\n",
       "    <tr>\n",
       "      <th>2</th>\n",
       "      <td>281796108</td>\n",
       "      <td>Evernote - stay organized</td>\n",
       "      <td>158578688</td>\n",
       "      <td>USD</td>\n",
       "      <td>0.00</td>\n",
       "      <td>161065</td>\n",
       "      <td>26</td>\n",
       "      <td>4.0</td>\n",
       "      <td>3.5</td>\n",
       "      <td>8.2.2</td>\n",
       "      <td>4+</td>\n",
       "      <td>Productivity</td>\n",
       "      <td>37</td>\n",
       "      <td>5</td>\n",
       "      <td>23</td>\n",
       "      <td>1</td>\n",
       "    </tr>\n",
       "    <tr>\n",
       "      <th>3</th>\n",
       "      <td>281940292</td>\n",
       "      <td>WeatherBug - Local Weather, Radar, Maps, Alerts</td>\n",
       "      <td>100524032</td>\n",
       "      <td>USD</td>\n",
       "      <td>0.00</td>\n",
       "      <td>188583</td>\n",
       "      <td>2822</td>\n",
       "      <td>3.5</td>\n",
       "      <td>4.5</td>\n",
       "      <td>5.0.0</td>\n",
       "      <td>4+</td>\n",
       "      <td>Weather</td>\n",
       "      <td>37</td>\n",
       "      <td>5</td>\n",
       "      <td>3</td>\n",
       "      <td>1</td>\n",
       "    </tr>\n",
       "    <tr>\n",
       "      <th>4</th>\n",
       "      <td>282614216</td>\n",
       "      <td>eBay: Best App to Buy, Sell, Save! Online Shop...</td>\n",
       "      <td>128512000</td>\n",
       "      <td>USD</td>\n",
       "      <td>0.00</td>\n",
       "      <td>262241</td>\n",
       "      <td>649</td>\n",
       "      <td>4.0</td>\n",
       "      <td>4.5</td>\n",
       "      <td>5.10.0</td>\n",
       "      <td>12+</td>\n",
       "      <td>Shopping</td>\n",
       "      <td>37</td>\n",
       "      <td>5</td>\n",
       "      <td>9</td>\n",
       "      <td>1</td>\n",
       "    </tr>\n",
       "    <tr>\n",
       "      <th>5</th>\n",
       "      <td>282935706</td>\n",
       "      <td>Bible</td>\n",
       "      <td>92774400</td>\n",
       "      <td>USD</td>\n",
       "      <td>0.00</td>\n",
       "      <td>985920</td>\n",
       "      <td>5320</td>\n",
       "      <td>4.5</td>\n",
       "      <td>5.0</td>\n",
       "      <td>7.5.1</td>\n",
       "      <td>4+</td>\n",
       "      <td>Reference</td>\n",
       "      <td>37</td>\n",
       "      <td>5</td>\n",
       "      <td>45</td>\n",
       "      <td>1</td>\n",
       "    </tr>\n",
       "  </tbody>\n",
       "</table>\n",
       "</div>"
      ],
      "text/plain": [
       "          id  ... vpp_lic\n",
       "1  281656475  ...       1\n",
       "2  281796108  ...       1\n",
       "3  281940292  ...       1\n",
       "4  282614216  ...       1\n",
       "5  282935706  ...       1\n",
       "\n",
       "[5 rows x 16 columns]"
      ]
     },
     "execution_count": 75,
     "metadata": {
      "tags": []
     },
     "output_type": "execute_result"
    }
   ],
   "source": [
    "data = pd.read_csv('./AppleStore.csv', index_col=0)\n",
    "\n",
    "data.head()"
   ]
  },
  {
   "cell_type": "markdown",
   "metadata": {
    "colab_type": "text",
    "id": "sO6Lasf94dJw"
   },
   "source": [
    "Можно узнать размер таблицы, информацию о значениях таблицы, различные статистики по значениям"
   ]
  },
  {
   "cell_type": "code",
   "execution_count": 76,
   "metadata": {
    "colab": {
     "base_uri": "https://localhost:8080/",
     "height": 35
    },
    "colab_type": "code",
    "executionInfo": {
     "elapsed": 830,
     "status": "ok",
     "timestamp": 1570899516189,
     "user": {
      "displayName": "Deep Learning School",
      "photoUrl": "https://lh3.googleusercontent.com/a-/AAuE7mAZOxIFs492LdcPov50SO_pIXHE97bN30Cu9x9dyg=s64",
      "userId": "16549096980415837553"
     },
     "user_tz": -180
    },
    "id": "eRlhpJJG4dJy",
    "outputId": "ae9700a8-df56-4f34-f7eb-4e6fcd781d48"
   },
   "outputs": [
    {
     "data": {
      "text/plain": [
       "(7197, 16)"
      ]
     },
     "execution_count": 76,
     "metadata": {
      "tags": []
     },
     "output_type": "execute_result"
    }
   ],
   "source": [
    "data.shape"
   ]
  },
  {
   "cell_type": "code",
   "execution_count": 77,
   "metadata": {
    "colab": {
     "base_uri": "https://localhost:8080/",
     "height": 381
    },
    "colab_type": "code",
    "executionInfo": {
     "elapsed": 603,
     "status": "ok",
     "timestamp": 1570899517740,
     "user": {
      "displayName": "Deep Learning School",
      "photoUrl": "https://lh3.googleusercontent.com/a-/AAuE7mAZOxIFs492LdcPov50SO_pIXHE97bN30Cu9x9dyg=s64",
      "userId": "16549096980415837553"
     },
     "user_tz": -180
    },
    "id": "w79raNIQ4dKH",
    "outputId": "1c292da6-a12b-47fd-d7fe-98fbd72c08ca"
   },
   "outputs": [
    {
     "name": "stdout",
     "output_type": "stream",
     "text": [
      "<class 'pandas.core.frame.DataFrame'>\n",
      "Int64Index: 7197 entries, 1 to 11097\n",
      "Data columns (total 16 columns):\n",
      "id                  7197 non-null int64\n",
      "track_name          7197 non-null object\n",
      "size_bytes          7197 non-null int64\n",
      "currency            7197 non-null object\n",
      "price               7197 non-null float64\n",
      "rating_count_tot    7197 non-null int64\n",
      "rating_count_ver    7197 non-null int64\n",
      "user_rating         7197 non-null float64\n",
      "user_rating_ver     7197 non-null float64\n",
      "ver                 7197 non-null object\n",
      "cont_rating         7197 non-null object\n",
      "prime_genre         7197 non-null object\n",
      "sup_devices.num     7197 non-null int64\n",
      "ipadSc_urls.num     7197 non-null int64\n",
      "lang.num            7197 non-null int64\n",
      "vpp_lic             7197 non-null int64\n",
      "dtypes: float64(3), int64(8), object(5)\n",
      "memory usage: 955.9+ KB\n"
     ]
    }
   ],
   "source": [
    "data.info()"
   ]
  },
  {
   "cell_type": "code",
   "execution_count": 78,
   "metadata": {
    "colab": {
     "base_uri": "https://localhost:8080/",
     "height": 314
    },
    "colab_type": "code",
    "executionInfo": {
     "elapsed": 844,
     "status": "ok",
     "timestamp": 1570899522908,
     "user": {
      "displayName": "Deep Learning School",
      "photoUrl": "https://lh3.googleusercontent.com/a-/AAuE7mAZOxIFs492LdcPov50SO_pIXHE97bN30Cu9x9dyg=s64",
      "userId": "16549096980415837553"
     },
     "user_tz": -180
    },
    "id": "KBlztg4i4dKl",
    "outputId": "7396356f-6db2-45cb-d05f-b4e61b210622"
   },
   "outputs": [
    {
     "data": {
      "text/html": [
       "<div>\n",
       "<style scoped>\n",
       "    .dataframe tbody tr th:only-of-type {\n",
       "        vertical-align: middle;\n",
       "    }\n",
       "\n",
       "    .dataframe tbody tr th {\n",
       "        vertical-align: top;\n",
       "    }\n",
       "\n",
       "    .dataframe thead th {\n",
       "        text-align: right;\n",
       "    }\n",
       "</style>\n",
       "<table border=\"1\" class=\"dataframe\">\n",
       "  <thead>\n",
       "    <tr style=\"text-align: right;\">\n",
       "      <th></th>\n",
       "      <th>id</th>\n",
       "      <th>size_bytes</th>\n",
       "      <th>price</th>\n",
       "      <th>rating_count_tot</th>\n",
       "      <th>rating_count_ver</th>\n",
       "      <th>user_rating</th>\n",
       "      <th>user_rating_ver</th>\n",
       "      <th>sup_devices.num</th>\n",
       "      <th>ipadSc_urls.num</th>\n",
       "      <th>lang.num</th>\n",
       "      <th>vpp_lic</th>\n",
       "    </tr>\n",
       "  </thead>\n",
       "  <tbody>\n",
       "    <tr>\n",
       "      <th>count</th>\n",
       "      <td>7.197000e+03</td>\n",
       "      <td>7.197000e+03</td>\n",
       "      <td>7197.000000</td>\n",
       "      <td>7.197000e+03</td>\n",
       "      <td>7197.000000</td>\n",
       "      <td>7197.000000</td>\n",
       "      <td>7197.000000</td>\n",
       "      <td>7197.000000</td>\n",
       "      <td>7197.000000</td>\n",
       "      <td>7197.000000</td>\n",
       "      <td>7197.000000</td>\n",
       "    </tr>\n",
       "    <tr>\n",
       "      <th>mean</th>\n",
       "      <td>8.631310e+08</td>\n",
       "      <td>1.991345e+08</td>\n",
       "      <td>1.726218</td>\n",
       "      <td>1.289291e+04</td>\n",
       "      <td>460.373906</td>\n",
       "      <td>3.526956</td>\n",
       "      <td>3.253578</td>\n",
       "      <td>37.361817</td>\n",
       "      <td>3.707100</td>\n",
       "      <td>5.434903</td>\n",
       "      <td>0.993053</td>\n",
       "    </tr>\n",
       "    <tr>\n",
       "      <th>std</th>\n",
       "      <td>2.712368e+08</td>\n",
       "      <td>3.592069e+08</td>\n",
       "      <td>5.833006</td>\n",
       "      <td>7.573941e+04</td>\n",
       "      <td>3920.455183</td>\n",
       "      <td>1.517948</td>\n",
       "      <td>1.809363</td>\n",
       "      <td>3.737715</td>\n",
       "      <td>1.986005</td>\n",
       "      <td>7.919593</td>\n",
       "      <td>0.083066</td>\n",
       "    </tr>\n",
       "    <tr>\n",
       "      <th>min</th>\n",
       "      <td>2.816565e+08</td>\n",
       "      <td>5.898240e+05</td>\n",
       "      <td>0.000000</td>\n",
       "      <td>0.000000e+00</td>\n",
       "      <td>0.000000</td>\n",
       "      <td>0.000000</td>\n",
       "      <td>0.000000</td>\n",
       "      <td>9.000000</td>\n",
       "      <td>0.000000</td>\n",
       "      <td>0.000000</td>\n",
       "      <td>0.000000</td>\n",
       "    </tr>\n",
       "    <tr>\n",
       "      <th>25%</th>\n",
       "      <td>6.000937e+08</td>\n",
       "      <td>4.692275e+07</td>\n",
       "      <td>0.000000</td>\n",
       "      <td>2.800000e+01</td>\n",
       "      <td>1.000000</td>\n",
       "      <td>3.500000</td>\n",
       "      <td>2.500000</td>\n",
       "      <td>37.000000</td>\n",
       "      <td>3.000000</td>\n",
       "      <td>1.000000</td>\n",
       "      <td>1.000000</td>\n",
       "    </tr>\n",
       "    <tr>\n",
       "      <th>50%</th>\n",
       "      <td>9.781482e+08</td>\n",
       "      <td>9.715302e+07</td>\n",
       "      <td>0.000000</td>\n",
       "      <td>3.000000e+02</td>\n",
       "      <td>23.000000</td>\n",
       "      <td>4.000000</td>\n",
       "      <td>4.000000</td>\n",
       "      <td>37.000000</td>\n",
       "      <td>5.000000</td>\n",
       "      <td>1.000000</td>\n",
       "      <td>1.000000</td>\n",
       "    </tr>\n",
       "    <tr>\n",
       "      <th>75%</th>\n",
       "      <td>1.082310e+09</td>\n",
       "      <td>1.819249e+08</td>\n",
       "      <td>1.990000</td>\n",
       "      <td>2.793000e+03</td>\n",
       "      <td>140.000000</td>\n",
       "      <td>4.500000</td>\n",
       "      <td>4.500000</td>\n",
       "      <td>38.000000</td>\n",
       "      <td>5.000000</td>\n",
       "      <td>8.000000</td>\n",
       "      <td>1.000000</td>\n",
       "    </tr>\n",
       "    <tr>\n",
       "      <th>max</th>\n",
       "      <td>1.188376e+09</td>\n",
       "      <td>4.025970e+09</td>\n",
       "      <td>299.990000</td>\n",
       "      <td>2.974676e+06</td>\n",
       "      <td>177050.000000</td>\n",
       "      <td>5.000000</td>\n",
       "      <td>5.000000</td>\n",
       "      <td>47.000000</td>\n",
       "      <td>5.000000</td>\n",
       "      <td>75.000000</td>\n",
       "      <td>1.000000</td>\n",
       "    </tr>\n",
       "  </tbody>\n",
       "</table>\n",
       "</div>"
      ],
      "text/plain": [
       "                 id    size_bytes  ...     lang.num      vpp_lic\n",
       "count  7.197000e+03  7.197000e+03  ...  7197.000000  7197.000000\n",
       "mean   8.631310e+08  1.991345e+08  ...     5.434903     0.993053\n",
       "std    2.712368e+08  3.592069e+08  ...     7.919593     0.083066\n",
       "min    2.816565e+08  5.898240e+05  ...     0.000000     0.000000\n",
       "25%    6.000937e+08  4.692275e+07  ...     1.000000     1.000000\n",
       "50%    9.781482e+08  9.715302e+07  ...     1.000000     1.000000\n",
       "75%    1.082310e+09  1.819249e+08  ...     8.000000     1.000000\n",
       "max    1.188376e+09  4.025970e+09  ...    75.000000     1.000000\n",
       "\n",
       "[8 rows x 11 columns]"
      ]
     },
     "execution_count": 78,
     "metadata": {
      "tags": []
     },
     "output_type": "execute_result"
    }
   ],
   "source": [
    "data.describe()"
   ]
  },
  {
   "cell_type": "markdown",
   "metadata": {
    "colab_type": "text",
    "id": "mUDzOl9q4dLX"
   },
   "source": [
    "Чтобы посмотреть, какие колонки есть в таблице, можно воспользоваться `columns`"
   ]
  },
  {
   "cell_type": "code",
   "execution_count": 79,
   "metadata": {
    "colab": {
     "base_uri": "https://localhost:8080/",
     "height": 104
    },
    "colab_type": "code",
    "executionInfo": {
     "elapsed": 518,
     "status": "ok",
     "timestamp": 1570899524631,
     "user": {
      "displayName": "Deep Learning School",
      "photoUrl": "https://lh3.googleusercontent.com/a-/AAuE7mAZOxIFs492LdcPov50SO_pIXHE97bN30Cu9x9dyg=s64",
      "userId": "16549096980415837553"
     },
     "user_tz": -180
    },
    "id": "P91n9F6S4dLY",
    "outputId": "37e4593f-84e4-492b-8dc4-216c75d8fd25"
   },
   "outputs": [
    {
     "data": {
      "text/plain": [
       "Index(['id', 'track_name', 'size_bytes', 'currency', 'price',\n",
       "       'rating_count_tot', 'rating_count_ver', 'user_rating',\n",
       "       'user_rating_ver', 'ver', 'cont_rating', 'prime_genre',\n",
       "       'sup_devices.num', 'ipadSc_urls.num', 'lang.num', 'vpp_lic'],\n",
       "      dtype='object')"
      ]
     },
     "execution_count": 79,
     "metadata": {
      "tags": []
     },
     "output_type": "execute_result"
    }
   ],
   "source": [
    "data.columns"
   ]
  },
  {
   "cell_type": "markdown",
   "metadata": {
    "colab_type": "text",
    "id": "1A6l5EAP4dMc"
   },
   "source": [
    "Метод `values` преобразует `pd.DataFrame` к `np.ndarray`"
   ]
  },
  {
   "cell_type": "code",
   "execution_count": 80,
   "metadata": {
    "colab": {
     "base_uri": "https://localhost:8080/",
     "height": 208
    },
    "colab_type": "code",
    "executionInfo": {
     "elapsed": 449,
     "status": "ok",
     "timestamp": 1570899526363,
     "user": {
      "displayName": "Deep Learning School",
      "photoUrl": "https://lh3.googleusercontent.com/a-/AAuE7mAZOxIFs492LdcPov50SO_pIXHE97bN30Cu9x9dyg=s64",
      "userId": "16549096980415837553"
     },
     "user_tz": -180
    },
    "id": "AGR08Oe_4dMd",
    "outputId": "b1ef11b8-ced9-4109-a564-dc09fcb5eb73"
   },
   "outputs": [
    {
     "data": {
      "text/plain": [
       "array([[281656475, 'PAC-MAN Premium', 100788224, ..., 5, 10, 1],\n",
       "       [281796108, 'Evernote - stay organized', 158578688, ..., 5, 23, 1],\n",
       "       [281940292, 'WeatherBug - Local Weather, Radar, Maps, Alerts',\n",
       "        100524032, ..., 5, 3, 1],\n",
       "       ...,\n",
       "       [1187779532, 'Bret Michaels Emojis + Lyric Keyboard', 111322112,\n",
       "        ..., 1, 1, 1],\n",
       "       [1187838770, 'VR Roller Coaster World - Virtual Reality',\n",
       "        97235968, ..., 0, 2, 1],\n",
       "       [1188375727, 'Escape the Sweet Shop Series', 90898432, ..., 0, 2,\n",
       "        1]], dtype=object)"
      ]
     },
     "execution_count": 80,
     "metadata": {
      "tags": []
     },
     "output_type": "execute_result"
    }
   ],
   "source": [
    "data.values"
   ]
  },
  {
   "cell_type": "code",
   "execution_count": 81,
   "metadata": {
    "colab": {
     "base_uri": "https://localhost:8080/",
     "height": 35
    },
    "colab_type": "code",
    "executionInfo": {
     "elapsed": 2001,
     "status": "ok",
     "timestamp": 1570899528633,
     "user": {
      "displayName": "Deep Learning School",
      "photoUrl": "https://lh3.googleusercontent.com/a-/AAuE7mAZOxIFs492LdcPov50SO_pIXHE97bN30Cu9x9dyg=s64",
      "userId": "16549096980415837553"
     },
     "user_tz": -180
    },
    "id": "Ky-g_VNp4dM5",
    "outputId": "5ac127c8-6487-4a32-bc41-3f796002d43c"
   },
   "outputs": [
    {
     "data": {
      "text/plain": [
       "numpy.ndarray"
      ]
     },
     "execution_count": 81,
     "metadata": {
      "tags": []
     },
     "output_type": "execute_result"
    }
   ],
   "source": [
    "type(data.values)"
   ]
  },
  {
   "cell_type": "code",
   "execution_count": 82,
   "metadata": {
    "colab": {
     "base_uri": "https://localhost:8080/",
     "height": 52
    },
    "colab_type": "code",
    "executionInfo": {
     "elapsed": 1173,
     "status": "ok",
     "timestamp": 1570899528969,
     "user": {
      "displayName": "Deep Learning School",
      "photoUrl": "https://lh3.googleusercontent.com/a-/AAuE7mAZOxIFs492LdcPov50SO_pIXHE97bN30Cu9x9dyg=s64",
      "userId": "16549096980415837553"
     },
     "user_tz": -180
    },
    "id": "mvxCmz304dM_",
    "outputId": "cdcf98b8-9878-4ace-87ff-aaf9fc623d8d"
   },
   "outputs": [
    {
     "data": {
      "text/plain": [
       "array([281656475, 281796108, 281940292, ..., 1187779532, 1187838770,\n",
       "       1188375727], dtype=object)"
      ]
     },
     "execution_count": 82,
     "metadata": {
      "tags": []
     },
     "output_type": "execute_result"
    }
   ],
   "source": [
    "data.values[:,0]"
   ]
  },
  {
   "cell_type": "markdown",
   "metadata": {
    "colab_type": "text",
    "id": "aobDQZI_4dNb"
   },
   "source": [
    "Более продвинутое индексирование по таблице: **loc** и **iloc** "
   ]
  },
  {
   "cell_type": "markdown",
   "metadata": {
    "colab_type": "text",
    "id": "evQeHPTS4dNh"
   },
   "source": [
    "`iloc` - index-based selection"
   ]
  },
  {
   "cell_type": "code",
   "execution_count": 83,
   "metadata": {
    "colab": {
     "base_uri": "https://localhost:8080/",
     "height": 312
    },
    "colab_type": "code",
    "executionInfo": {
     "elapsed": 533,
     "status": "ok",
     "timestamp": 1570899532209,
     "user": {
      "displayName": "Deep Learning School",
      "photoUrl": "https://lh3.googleusercontent.com/a-/AAuE7mAZOxIFs492LdcPov50SO_pIXHE97bN30Cu9x9dyg=s64",
      "userId": "16549096980415837553"
     },
     "user_tz": -180
    },
    "id": "mTJ_nVIf4dNt",
    "outputId": "d3f2604b-d7ab-4a20-f4f8-bd18e305706e"
   },
   "outputs": [
    {
     "data": {
      "text/plain": [
       "id                        281656475\n",
       "track_name          PAC-MAN Premium\n",
       "size_bytes                100788224\n",
       "currency                        USD\n",
       "price                          3.99\n",
       "rating_count_tot              21292\n",
       "rating_count_ver                 26\n",
       "user_rating                       4\n",
       "user_rating_ver                 4.5\n",
       "ver                           6.3.5\n",
       "cont_rating                      4+\n",
       "prime_genre                   Games\n",
       "sup_devices.num                  38\n",
       "ipadSc_urls.num                   5\n",
       "lang.num                         10\n",
       "vpp_lic                           1\n",
       "Name: 1, dtype: object"
      ]
     },
     "execution_count": 83,
     "metadata": {
      "tags": []
     },
     "output_type": "execute_result"
    }
   ],
   "source": [
    "data.iloc[0]"
   ]
  },
  {
   "cell_type": "code",
   "execution_count": 85,
   "metadata": {
    "colab": {
     "base_uri": "https://localhost:8080/",
     "height": 110
    },
    "colab_type": "code",
    "executionInfo": {
     "elapsed": 562,
     "status": "ok",
     "timestamp": 1570899581600,
     "user": {
      "displayName": "Deep Learning School",
      "photoUrl": "https://lh3.googleusercontent.com/a-/AAuE7mAZOxIFs492LdcPov50SO_pIXHE97bN30Cu9x9dyg=s64",
      "userId": "16549096980415837553"
     },
     "user_tz": -180
    },
    "id": "oAkFOemq4dN0",
    "outputId": "570776ad-081e-4636-8dcb-352b063eecd8"
   },
   "outputs": [
    {
     "data": {
      "text/html": [
       "<div>\n",
       "<style scoped>\n",
       "    .dataframe tbody tr th:only-of-type {\n",
       "        vertical-align: middle;\n",
       "    }\n",
       "\n",
       "    .dataframe tbody tr th {\n",
       "        vertical-align: top;\n",
       "    }\n",
       "\n",
       "    .dataframe thead th {\n",
       "        text-align: right;\n",
       "    }\n",
       "</style>\n",
       "<table border=\"1\" class=\"dataframe\">\n",
       "  <thead>\n",
       "    <tr style=\"text-align: right;\">\n",
       "      <th></th>\n",
       "      <th>track_name</th>\n",
       "      <th>size_bytes</th>\n",
       "    </tr>\n",
       "  </thead>\n",
       "  <tbody>\n",
       "    <tr>\n",
       "      <th>2</th>\n",
       "      <td>Evernote - stay organized</td>\n",
       "      <td>158578688</td>\n",
       "    </tr>\n",
       "    <tr>\n",
       "      <th>3</th>\n",
       "      <td>WeatherBug - Local Weather, Radar, Maps, Alerts</td>\n",
       "      <td>100524032</td>\n",
       "    </tr>\n",
       "  </tbody>\n",
       "</table>\n",
       "</div>"
      ],
      "text/plain": [
       "                                        track_name  size_bytes\n",
       "2                        Evernote - stay organized   158578688\n",
       "3  WeatherBug - Local Weather, Radar, Maps, Alerts   100524032"
      ]
     },
     "execution_count": 85,
     "metadata": {
      "tags": []
     },
     "output_type": "execute_result"
    }
   ],
   "source": [
    "data.iloc[1:3, 1:3]"
   ]
  },
  {
   "cell_type": "code",
   "execution_count": 86,
   "metadata": {
    "colab": {
     "base_uri": "https://localhost:8080/",
     "height": 87
    },
    "colab_type": "code",
    "executionInfo": {
     "elapsed": 810,
     "status": "ok",
     "timestamp": 1570899604709,
     "user": {
      "displayName": "Deep Learning School",
      "photoUrl": "https://lh3.googleusercontent.com/a-/AAuE7mAZOxIFs492LdcPov50SO_pIXHE97bN30Cu9x9dyg=s64",
      "userId": "16549096980415837553"
     },
     "user_tz": -180
    },
    "id": "Lbhdhwk94dOA",
    "outputId": "be157e52-117d-459b-d1c5-e3cdcee86d26"
   },
   "outputs": [
    {
     "data": {
      "text/plain": [
       "1    281656475\n",
       "2    281796108\n",
       "3    281940292\n",
       "Name: id, dtype: int64"
      ]
     },
     "execution_count": 86,
     "metadata": {
      "tags": []
     },
     "output_type": "execute_result"
    }
   ],
   "source": [
    "data.iloc[[0,1,2], 0]"
   ]
  },
  {
   "cell_type": "code",
   "execution_count": 87,
   "metadata": {
    "colab": {
     "base_uri": "https://localhost:8080/",
     "height": 312
    },
    "colab_type": "code",
    "executionInfo": {
     "elapsed": 561,
     "status": "ok",
     "timestamp": 1570899607500,
     "user": {
      "displayName": "Deep Learning School",
      "photoUrl": "https://lh3.googleusercontent.com/a-/AAuE7mAZOxIFs492LdcPov50SO_pIXHE97bN30Cu9x9dyg=s64",
      "userId": "16549096980415837553"
     },
     "user_tz": -180
    },
    "id": "swCPlMdM4dOJ",
    "outputId": "63d7fd04-c6d8-4c3c-bf10-ba83dd3c8cd0"
   },
   "outputs": [
    {
     "data": {
      "text/plain": [
       "id                                    1188375727\n",
       "track_name          Escape the Sweet Shop Series\n",
       "size_bytes                              90898432\n",
       "currency                                     USD\n",
       "price                                          0\n",
       "rating_count_tot                               3\n",
       "rating_count_ver                               3\n",
       "user_rating                                    5\n",
       "user_rating_ver                                5\n",
       "ver                                          1.0\n",
       "cont_rating                                   4+\n",
       "prime_genre                                Games\n",
       "sup_devices.num                               40\n",
       "ipadSc_urls.num                                0\n",
       "lang.num                                       2\n",
       "vpp_lic                                        1\n",
       "Name: 11097, dtype: object"
      ]
     },
     "execution_count": 87,
     "metadata": {
      "tags": []
     },
     "output_type": "execute_result"
    }
   ],
   "source": [
    "data.iloc[-1, :]"
   ]
  },
  {
   "cell_type": "markdown",
   "metadata": {
    "colab_type": "text",
    "id": "6RmVZVhH4dOR"
   },
   "source": [
    "`loc` - label-based selection"
   ]
  },
  {
   "cell_type": "code",
   "execution_count": 88,
   "metadata": {
    "colab": {
     "base_uri": "https://localhost:8080/",
     "height": 87
    },
    "colab_type": "code",
    "executionInfo": {
     "elapsed": 661,
     "status": "ok",
     "timestamp": 1570899614891,
     "user": {
      "displayName": "Deep Learning School",
      "photoUrl": "https://lh3.googleusercontent.com/a-/AAuE7mAZOxIFs492LdcPov50SO_pIXHE97bN30Cu9x9dyg=s64",
      "userId": "16549096980415837553"
     },
     "user_tz": -180
    },
    "id": "BZpbGFVu4dOS",
    "outputId": "600d150d-aef4-49ce-e9d3-028eef52aaa8"
   },
   "outputs": [
    {
     "data": {
      "text/plain": [
       "id                  281656475\n",
       "track_name    PAC-MAN Premium\n",
       "price                    3.99\n",
       "Name: 1, dtype: object"
      ]
     },
     "execution_count": 88,
     "metadata": {
      "tags": []
     },
     "output_type": "execute_result"
    }
   ],
   "source": [
    "# первое значение - index, второе - имя колонки\n",
    "data.loc[1, ['id', 'track_name', 'price']]"
   ]
  },
  {
   "cell_type": "markdown",
   "metadata": {
    "colab_type": "text",
    "id": "FtXWJ9JI4dOc"
   },
   "source": [
    "**Choosing between loc and iloc**\n",
    "\n",
    "When choosing or transitioning between loc and iloc, there is one \"gotcha\" worth keeping in mind, which is that the two methods use slightly different indexing schemes.\n",
    "\n",
    "`iloc` uses the Python stdlib indexing scheme, where the first element of the range is included and the last one excluded. So 0:10 will select entries 0,...,9. loc, meanwhile, indexes inclusively. So 0:10 will select entries 0,...,10.\n",
    "\n",
    "Why the change? Remember that loc can index any stdlib type: strings, for example. If we have a DataFrame with index values `Apples, ..., Potatoes, ...,` and we want to select \"all the alphabetical fruit choices between Apples and Potatoes\", then it's a lot more convenient to index `df.loc['Apples':'Potatoes']` than it is to index something like `df.loc['Apples', 'Potatoet']` (t coming after s in the alphabet).\n",
    "\n",
    "This is particularly confusing when the DataFrame index is a simple numerical list, e.g. 0,...,1000. In this case `df.iloc[0:1000]` will return 1000 entries, while `df.loc[0:1000]` return 1001 of them! To get 1000 elements using `loc`, you will need to go one lower and ask for `df.iloc[0:999]`.\n",
    "\n",
    "Otherwise, the semantics of using `loc` are the same as those for `iloc`."
   ]
  },
  {
   "cell_type": "markdown",
   "metadata": {
    "colab_type": "text",
    "id": "_qsrARqq4dOd"
   },
   "source": [
    "`loc` может принимать булевы выражения (так же, как и в случае с `pd.Series`)\n",
    "\n",
    "Еще один полезный метод - `isin`"
   ]
  },
  {
   "cell_type": "code",
   "execution_count": 89,
   "metadata": {
    "colab": {
     "base_uri": "https://localhost:8080/",
     "height": 361
    },
    "colab_type": "code",
    "executionInfo": {
     "elapsed": 784,
     "status": "ok",
     "timestamp": 1570899622577,
     "user": {
      "displayName": "Deep Learning School",
      "photoUrl": "https://lh3.googleusercontent.com/a-/AAuE7mAZOxIFs492LdcPov50SO_pIXHE97bN30Cu9x9dyg=s64",
      "userId": "16549096980415837553"
     },
     "user_tz": -180
    },
    "id": "-pcl_fH04dOj",
    "outputId": "d4e834c9-2e3c-4148-fddd-7b7695ed0589"
   },
   "outputs": [
    {
     "data": {
      "text/html": [
       "<div>\n",
       "<style scoped>\n",
       "    .dataframe tbody tr th:only-of-type {\n",
       "        vertical-align: middle;\n",
       "    }\n",
       "\n",
       "    .dataframe tbody tr th {\n",
       "        vertical-align: top;\n",
       "    }\n",
       "\n",
       "    .dataframe thead th {\n",
       "        text-align: right;\n",
       "    }\n",
       "</style>\n",
       "<table border=\"1\" class=\"dataframe\">\n",
       "  <thead>\n",
       "    <tr style=\"text-align: right;\">\n",
       "      <th></th>\n",
       "      <th>id</th>\n",
       "      <th>track_name</th>\n",
       "      <th>size_bytes</th>\n",
       "      <th>currency</th>\n",
       "      <th>price</th>\n",
       "      <th>rating_count_tot</th>\n",
       "      <th>rating_count_ver</th>\n",
       "      <th>user_rating</th>\n",
       "      <th>user_rating_ver</th>\n",
       "      <th>ver</th>\n",
       "      <th>cont_rating</th>\n",
       "      <th>prime_genre</th>\n",
       "      <th>sup_devices.num</th>\n",
       "      <th>ipadSc_urls.num</th>\n",
       "      <th>lang.num</th>\n",
       "      <th>vpp_lic</th>\n",
       "    </tr>\n",
       "  </thead>\n",
       "  <tbody>\n",
       "    <tr>\n",
       "      <th>1</th>\n",
       "      <td>281656475</td>\n",
       "      <td>PAC-MAN Premium</td>\n",
       "      <td>100788224</td>\n",
       "      <td>USD</td>\n",
       "      <td>3.99</td>\n",
       "      <td>21292</td>\n",
       "      <td>26</td>\n",
       "      <td>4.0</td>\n",
       "      <td>4.5</td>\n",
       "      <td>6.3.5</td>\n",
       "      <td>4+</td>\n",
       "      <td>Games</td>\n",
       "      <td>38</td>\n",
       "      <td>5</td>\n",
       "      <td>10</td>\n",
       "      <td>1</td>\n",
       "    </tr>\n",
       "    <tr>\n",
       "      <th>4</th>\n",
       "      <td>282614216</td>\n",
       "      <td>eBay: Best App to Buy, Sell, Save! Online Shop...</td>\n",
       "      <td>128512000</td>\n",
       "      <td>USD</td>\n",
       "      <td>0.00</td>\n",
       "      <td>262241</td>\n",
       "      <td>649</td>\n",
       "      <td>4.0</td>\n",
       "      <td>4.5</td>\n",
       "      <td>5.10.0</td>\n",
       "      <td>12+</td>\n",
       "      <td>Shopping</td>\n",
       "      <td>37</td>\n",
       "      <td>5</td>\n",
       "      <td>9</td>\n",
       "      <td>1</td>\n",
       "    </tr>\n",
       "    <tr>\n",
       "      <th>6</th>\n",
       "      <td>283619399</td>\n",
       "      <td>Shanghai Mahjong</td>\n",
       "      <td>10485713</td>\n",
       "      <td>USD</td>\n",
       "      <td>0.99</td>\n",
       "      <td>8253</td>\n",
       "      <td>5516</td>\n",
       "      <td>4.0</td>\n",
       "      <td>4.0</td>\n",
       "      <td>1.8</td>\n",
       "      <td>4+</td>\n",
       "      <td>Games</td>\n",
       "      <td>47</td>\n",
       "      <td>5</td>\n",
       "      <td>1</td>\n",
       "      <td>1</td>\n",
       "    </tr>\n",
       "    <tr>\n",
       "      <th>10</th>\n",
       "      <td>284736660</td>\n",
       "      <td>Ms. PAC-MAN</td>\n",
       "      <td>70023168</td>\n",
       "      <td>USD</td>\n",
       "      <td>3.99</td>\n",
       "      <td>7885</td>\n",
       "      <td>40</td>\n",
       "      <td>4.0</td>\n",
       "      <td>4.0</td>\n",
       "      <td>4.0.4</td>\n",
       "      <td>4+</td>\n",
       "      <td>Games</td>\n",
       "      <td>38</td>\n",
       "      <td>0</td>\n",
       "      <td>10</td>\n",
       "      <td>1</td>\n",
       "    </tr>\n",
       "    <tr>\n",
       "      <th>11</th>\n",
       "      <td>284791396</td>\n",
       "      <td>Solitaire by MobilityWare</td>\n",
       "      <td>49618944</td>\n",
       "      <td>USD</td>\n",
       "      <td>4.99</td>\n",
       "      <td>76720</td>\n",
       "      <td>4017</td>\n",
       "      <td>4.5</td>\n",
       "      <td>4.5</td>\n",
       "      <td>4.10.1</td>\n",
       "      <td>4+</td>\n",
       "      <td>Games</td>\n",
       "      <td>38</td>\n",
       "      <td>4</td>\n",
       "      <td>11</td>\n",
       "      <td>1</td>\n",
       "    </tr>\n",
       "  </tbody>\n",
       "</table>\n",
       "</div>"
      ],
      "text/plain": [
       "           id  ... vpp_lic\n",
       "1   281656475  ...       1\n",
       "4   282614216  ...       1\n",
       "6   283619399  ...       1\n",
       "10  284736660  ...       1\n",
       "11  284791396  ...       1\n",
       "\n",
       "[5 rows x 16 columns]"
      ]
     },
     "execution_count": 89,
     "metadata": {
      "tags": []
     },
     "output_type": "execute_result"
    }
   ],
   "source": [
    "data.loc[data.prime_genre.isin(['Games', 'Shopping'])].head()"
   ]
  },
  {
   "cell_type": "markdown",
   "metadata": {
    "colab_type": "text",
    "id": "1zlKXGBW4dO2"
   },
   "source": [
    "Иногда бывает так, что мы хотим как-то сагрегировать данные, чтобы ответить на интересующие нас вопросы"
   ]
  },
  {
   "cell_type": "markdown",
   "metadata": {
    "colab_type": "text",
    "id": "5SNKUgTe4dO4"
   },
   "source": [
    "Например, мы хотим узнать какая максимальная цена приложения, среди приложений, которые получили одинаковые оценки пользователей\n",
    "\n",
    "для этого нам поможет метод `groupby`"
   ]
  },
  {
   "cell_type": "code",
   "execution_count": 90,
   "metadata": {
    "colab": {
     "base_uri": "https://localhost:8080/",
     "height": 139
    },
    "colab_type": "code",
    "executionInfo": {
     "elapsed": 560,
     "status": "ok",
     "timestamp": 1570899654736,
     "user": {
      "displayName": "Deep Learning School",
      "photoUrl": "https://lh3.googleusercontent.com/a-/AAuE7mAZOxIFs492LdcPov50SO_pIXHE97bN30Cu9x9dyg=s64",
      "userId": "16549096980415837553"
     },
     "user_tz": -180
    },
    "id": "xNbqqp9S4dO_",
    "outputId": "579f41d4-a942-4d24-f64b-5ab98ecacc24"
   },
   "outputs": [
    {
     "data": {
      "text/plain": [
       "user_rating\n",
       "0.0    47.99\n",
       "1.0    24.99\n",
       "1.5     4.99\n",
       "2.0     9.99\n",
       "2.5     9.99\n",
       "Name: price, dtype: float64"
      ]
     },
     "execution_count": 90,
     "metadata": {
      "tags": []
     },
     "output_type": "execute_result"
    }
   ],
   "source": [
    "data.groupby('user_rating').price.max().head()"
   ]
  },
  {
   "cell_type": "markdown",
   "metadata": {
    "colab_type": "text",
    "id": "c4b0yzp04dPH"
   },
   "source": [
    "*Задания*"
   ]
  },
  {
   "cell_type": "markdown",
   "metadata": {
    "colab_type": "text",
    "id": "wR8mtsnK4dPP"
   },
   "source": [
    "---"
   ]
  },
  {
   "cell_type": "markdown",
   "metadata": {
    "colab_type": "text",
    "id": "gP1oLtzV4dPU"
   },
   "source": [
    "Получите ответ на следующие вопросы (с помощью pandas):\n",
    "\n",
    "1). Сколько приложений с максимальным рейтингом (`user_rating`)?\n",
    "\n",
    "2). Сколько всего жанров (`prime_genre`) и какие они? (Hint: `np.unique`)  \n",
    "\n",
    "3). Сколько суммарно байт (`size_bytes`) весят все приложения жанра Finance?  \n",
    "\n",
    "4). Сколько всего бесплатных приложений, у которых рейтинг юзеров больше трёх?  \n",
    "\n",
    "5). Есть ли приложения, которые стоят больше 100 долларов?\n",
    "\n",
    "6). Сколько приложений из жанра `Games` или `Shopping`, которые стоят дороже 10 USD или меньше 2 USD, но не являются бесплатными?\n",
    "\n",
    "7). Посчитайте среднюю цену приложений, которые имеют рейтинг 4.5 и возрастное ограничение (`cont_rating`) 12+"
   ]
  },
  {
   "cell_type": "markdown",
   "metadata": {
    "colab_type": "text",
    "id": "6XF2RdJR4dPV"
   },
   "source": [
    "---"
   ]
  },
  {
   "cell_type": "markdown",
   "metadata": {
    "colab_type": "text",
    "id": "0UnsJkxp4dPZ"
   },
   "source": [
    "Мы разобрали только малую часть работы с `pandas`. Это действительно мощный инструмент для работы с данными и его возможности обширны\n",
    "\n",
    "Из того, что мы не разобрали (уделили мало внимания), стоит обратить внимание на следующие вещи:\n",
    "\n",
    "* Работа с пропущенными значениями (`fillna`)\n",
    "* Объединение таблиц (`join`)\n",
    "* Агрегирование таблицы (`gropby`)\n",
    "* Применение к данным функций (`apply`, `applymap`)\n",
    "* так же стоит посмотреть, как работать с базами данных в `pandas`"
   ]
  },
  {
   "cell_type": "markdown",
   "metadata": {
    "colab_type": "text",
    "id": "TORXWi6_4dPd"
   },
   "source": [
    "Список полезных ссылок:\n",
    "\n",
    "* Официальные туториалы: https://pandas.pydata.org/pandas-docs/stable/getting_started/tutorials.html\n",
    "\n",
    "* Официальная документация: https://pandas.pydata.org/pandas-docs/stable/\n",
    "\n",
    "* Статья на Хабре от OpenDataScience сообщества: https://habr.com/company/ods/blog/322626/\n",
    "\n",
    "* Подробный гайд: https://media.readthedocs.org/pdf/pandasguide/latest/pandasguide.pdf\n",
    "\n",
    "* Небольшой курс от kaggle: https://www.kaggle.com/learn/pandas"
   ]
  },
  {
   "cell_type": "markdown",
   "metadata": {
    "colab_type": "text",
    "id": "JLDQSffQ4dPe"
   },
   "source": [
    "Главное в работе с новыми библиотеками -- не бояться тыкать в разные функции, смотреть типы возвращаемых объектов и активно пользоваться Яндексом, читать документацию на официальном сайте (она довольно хорошо написана), а ещё лучше понимать всё из docstring'а (`Shift+Tab` при нахождении курсора внутри скобок функции)."
   ]
  }
 ],
 "metadata": {
  "colab": {
   "name": "[seminar, prodv]4_pandas.ipynb",
   "provenance": []
  },
  "kernelspec": {
   "display_name": "Python 3",
   "language": "python",
   "name": "python3"
  },
  "language_info": {
   "codemirror_mode": {
    "name": "ipython",
    "version": 3
   },
   "file_extension": ".py",
   "mimetype": "text/x-python",
   "name": "python",
   "nbconvert_exporter": "python",
   "pygments_lexer": "ipython3",
   "version": "3.7.3"
  }
 },
 "nbformat": 4,
 "nbformat_minor": 1
}
