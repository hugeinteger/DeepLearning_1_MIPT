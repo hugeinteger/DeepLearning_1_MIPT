{
 "cells": [
  {
   "cell_type": "markdown",
   "metadata": {
    "colab_type": "text",
    "id": "wU-s4PgBFoRY"
   },
   "source": [
    "<p style=\"align: center;\"><img src=\"https://static.tildacdn.com/tild6636-3531-4239-b465-376364646465/Deep_Learning_School.png\" width=\"300\"></p>\n",
    "\n",
    "<h3 style=\"text-align: center;\"><b>Физтех-Школа Прикладной математики и информатики (ФПМИ) МФТИ</b></h3>"
   ]
  },
  {
   "cell_type": "markdown",
   "metadata": {
    "colab_type": "text",
    "id": "datr8Mp5FoRf"
   },
   "source": [
    "---"
   ]
  },
  {
   "cell_type": "markdown",
   "metadata": {
    "colab_type": "text",
    "id": "GEmhGa2kFoRi"
   },
   "source": [
    "В этом ноутбке будет рассказано об основах машинного обучения."
   ]
  },
  {
   "cell_type": "markdown",
   "metadata": {
    "colab_type": "text",
    "id": "ZRDXUuj7FoRo"
   },
   "source": [
    "# 1. Основные понятия и пример"
   ]
  },
  {
   "cell_type": "markdown",
   "metadata": {
    "colab_type": "text",
    "id": "r42wjO9XFoRr"
   },
   "source": [
    "Машинное обучение -- наука о восстановлении закономерностей по частным данным. Рассмотрим на примере, что под этим имеется в виду."
   ]
  },
  {
   "cell_type": "markdown",
   "metadata": {
    "colab_type": "text",
    "id": "jjnobv6mFoRt"
   },
   "source": [
    "<img src=\"https://fm.cnbc.com/applications/cnbc.com/resources/img/editorial/2013/06/14/100816105-157952284.1910x1000.jpg\" width=400>"
   ]
  },
  {
   "cell_type": "markdown",
   "metadata": {
    "colab_type": "text",
    "id": "ZhJJpOEqFoRx"
   },
   "source": [
    "Предположим, что Вы -- начинающий фермер-любитель, и занимаетесь выращиванием картофеля. Ваш огород разделён на несколько участков, и уже прошёл месяц с того момента, как Вы посадили картофель. К сожалению, в этом году особенно много колорадских жуков, а оставшегося у Вас средства от вредителей хватит только на один из этих участков. Жуки очень очень его боятся, и трогать обработанный участок не будут. Однако все остальные картофельные кусты они съедят подчистую. Поэтому Вы хотите узнать, какой из участков принёсёт Вам больше всего килограмм картофеля."
   ]
  },
  {
   "cell_type": "markdown",
   "metadata": {
    "colab_type": "text",
    "id": "C0AcmpOwFoRz"
   },
   "source": [
    "Иными словами, Вы хотите по каждому из участков научится определять, сколько картофеля он принесёт. Однако, к Вашему сожалению, Вы не имеете никакого понятия, от чего это может зависеть. Однако, к Вашему счастью, в прошлом году Вы, по какой-то причине, решили измерить площадь и число кустов картофеля на каждом из участков на соседнем огороде, а также записали, каков был урожай на каждом из них. Если бы Вы могли, **используя эти данные, восстановить закон**, по которому площадь и число кустов на участке переходит в киллограмы картофеля, то Ваш урожай был бы спасён!"
   ]
  },
  {
   "cell_type": "markdown",
   "metadata": {
    "colab_type": "text",
    "id": "0EVF3F4FFoR3"
   },
   "source": [
    "## 1.1 Термины"
   ]
  },
  {
   "cell_type": "markdown",
   "metadata": {
    "colab_type": "text",
    "id": "aAoesGSCFoR7"
   },
   "source": [
    "Формулируя задачу в терминах машинного обучения, множество участков с картофелем (как наших, так и соседа) будет называться *пространством объектов*, и обозначаться через $\\mathbb{X}$ (обратите внимание на шрифт). А величина, которую мы хотим научиться определять -- в данном случае, количество килограмм картофеля при сборе урожая -- *целевой переменной*. Множество значений целевой переменной -- в данном случае, это вещественные неотрицательные числа -- обозначается через $\\mathbb{Y}$."
   ]
  },
  {
   "cell_type": "markdown",
   "metadata": {
    "colab_type": "text",
    "id": "caTkMvr_FoR-"
   },
   "source": [
    "Множество объектов, для которых нам известно значение целевой переменной -- в данном случае \n",
    "это множество участков на соседнем огороде -- называются *обучающей выборкой*,  для которой используется обозначение $X = \\{ x_1, \\ldots, x_n\\}$, где $x_i$ -- это участок $i$. Соответственно, значения целевой переменной $y_1, \\ldots, y_n$ -- объёмы урожая на каждом из этих участков."
   ]
  },
  {
   "cell_type": "markdown",
   "metadata": {
    "colab_type": "text",
    "id": "0YzrXv9KFoSB"
   },
   "source": [
    "Непонятно, как можно построить формальный закон, оперируя такими неясными с математической точки зрения объектами как участок с картофелем. Поэтому каждому объекту выборки соотносят набор параметров, который этот объект описывает, который называют *вектором признаков*. В нашем примере это -- площадь участка и число кустов на нём. Обычно объект отождествляют с его вектором признаков, поэтому будем считать, что $x_i$ -- это набор признаков объекта $i$."
   ]
  },
  {
   "cell_type": "markdown",
   "metadata": {
    "colab_type": "text",
    "id": "4INRLM1SFoSC"
   },
   "source": [
    "Цель задачи машинного обучения -- найти такую функцию $f$, переводящую вектор признаков в целевую переменную -- площадь и число кустов в число киллограммов -- что её значение будут \"наиболее близко\" приближать истинные значения целевой переменной. Такая функция $f$ называется *моделью*. Конечно, в идеале нам хотелось бы, чтобы $f$ всегда давала точный ответ, но такой точности почти никогда не получается добиться.  "
   ]
  },
  {
   "cell_type": "markdown",
   "metadata": {
    "colab_type": "text",
    "id": "2Z44-L5aFoSE"
   },
   "source": [
    "Но что означает \"наиболее близко\"? Которая ошибается не больше, чем 1 киллограмм? Но таких функций может быть много. Какую из них выбрать?"
   ]
  },
  {
   "cell_type": "markdown",
   "metadata": {
    "colab_type": "text",
    "id": "rFwbgrROFoSG"
   },
   "source": [
    "Заметим, что судить о \"точности\" нашей модели мы можем только по обучающей выборке, так как только для неё мы знаем истинные ответы. Поэтому в машинном обучении используется подход, основанный на так называемой *функции потерь*."
   ]
  },
  {
   "cell_type": "markdown",
   "metadata": {
    "colab_type": "text",
    "id": "zncEp_xTFoSI"
   },
   "source": [
    "Функция потерь $L(f, X, y)$ даёт нам численную оценку \"точности\" нашей модели на выборке $X$. То есть, формально говоря, она сопоставляет паре из модели и выборки число. Очень часто используется так называемая среднеквадратичная ошибка:\n",
    "$$\n",
    "    L(f, X, y) = \\frac{1}{n}\\sum\\limits_{i=1}^{n} (f(x_i) - y_i)^2\n",
    "$$"
   ]
  },
  {
   "cell_type": "markdown",
   "metadata": {
    "colab_type": "text",
    "id": "DDUjdRBqFoSK"
   },
   "source": [
    "Весьма логично было бы взять такую функцию $f$, для которой значение функции потерь было бы минимальным. Но тут нас встречает ещё она проблема. В принципе, никто не мешает нам взять такую функцию $f$, что её значение на векторах из обучающей выборки будут в точности равны целевой переменной, а на всех остальных -- $0$. Однако пользы от такой модели никакой, поскольку когда мы попытаемся предсказать с её помощью значение $y$ на новых данных, мы получим $0$."
   ]
  },
  {
   "cell_type": "markdown",
   "metadata": {
    "colab_type": "text",
    "id": "86nffGYnFoSN"
   },
   "source": [
    "Поэтому множество всех возможных моделей ограничивают каким-то семейством (множеством) $\\mathcal{A}$, в котором потом и ищут наилучшую модель."
   ]
  },
  {
   "cell_type": "markdown",
   "metadata": {
    "colab_type": "text",
    "id": "rWuib9DSFoSQ"
   },
   "source": [
    "Таким образом, в общей форме задача машинного обучения звучит так: найти такую функцию $f$ из $\\mathcal{A}$, что значение функции потерь $L$ на выборке $X, y$ было бы минимальным, или\n",
    "$$\n",
    "    f^* = \\arg \\min_{f \\in \\mathcal{A}} L(f, X, y)\n",
    "$$\n",
    "Задачи такого рода называются задачами оптимизации, или минимизации."
   ]
  },
  {
   "cell_type": "markdown",
   "metadata": {
    "colab_type": "text",
    "id": "OzcCkLBUFoST"
   },
   "source": [
    "Обычно семейство $\\mathcal{A}$ можно параметризовать, то есть поставить в соответствие каждой модели из $\\mathcal{A}$ какое-то число или вектор из чисел $w$. Тогда соответствующая задача оптимизации будет выглядеть следующим образом:\n",
    "$$\n",
    "    w^* = \\arg \\min_{w \\in \\mathbb{W}} L(f_w, X, y)\n",
    "$$"
   ]
  },
  {
   "cell_type": "markdown",
   "metadata": {
    "colab_type": "text",
    "id": "_3cId_9vFoSV"
   },
   "source": [
    "## 1.2 Пример"
   ]
  },
  {
   "cell_type": "markdown",
   "metadata": {
    "colab_type": "text",
    "id": "jhdwNf05FoSa"
   },
   "source": [
    "Разберём это на нашем примере. В нашем примере вектор признаков -- это пара из площади и числа кустов, которые обозначим за $s_i$ и $k_i$. В качестве функции потерь будем рассматривать среднеквадратичную ошибку. Наконец, в качестве множества $\\mathcal{A}$ будем использовать *линейные модели*, то есть функции вида:\n",
    "$$\n",
    "    f(s, k) = a + bs + ck\n",
    "$$\n",
    "где $a, b, c$ -- произвольные вещественные числа.\n",
    "\n",
    "Заметим, что на таком множестве можно ввести очень естественную параметризацию, а именно $w \\in \\mathbb{R}^3$:\n",
    "$$\n",
    "    f_w(s, k) = w_0 + w_1s + w_2k\n",
    "$$\n",
    "Отметим, что зачастую параметр $w$ записывают как аргумент для функции $f$:\n",
    "$$\n",
    "    f(w, s, k) = w_0 + w_1s + w_2k\n",
    "$$\n",
    "Пожалуйста, будте внимательны и не путайте параметры и аргументы функции."
   ]
  },
  {
   "cell_type": "markdown",
   "metadata": {
    "colab_type": "text",
    "id": "b9xku2eyFoSd"
   },
   "source": [
    "Теперь запишем это в виде задачи оптимизации:\n",
    "$$\n",
    "    w^* = \\arg \\min_{w \\in \\mathbb{R}^3} L(f_w, X, y) = \n",
    "    \\arg \\min_{w \\in \\mathbb{R}^3}  \\frac{1}{n} \\sum\\limits_{i=1}^{n}(f_w(x_i) - y_i)^2 =\n",
    "    \\arg \\min_{w \\in \\mathbb{R}^3}  \\frac{1}{n} \\sum\\limits_{i=1}^{n}(w_0 + w_1s + w_2k - y_i)^2\n",
    "$$"
   ]
  },
  {
   "cell_type": "markdown",
   "metadata": {
    "colab_type": "text",
    "id": "vYEajIvaFoSf"
   },
   "source": [
    "### 1.2.1 А как найти минимум?"
   ]
  },
  {
   "cell_type": "markdown",
   "metadata": {
    "colab_type": "text",
    "id": "7cI0laFGFoSi"
   },
   "source": [
    "В самом деле, всё что нас отделяет от успеха -- это, собственно, поиск минимума. К сожалению, в общем случае выписать явную формулу не удаётся, и приходится использовать приближённые методы -- такие, как градиентный спуск. Вообще, методы оптимизации -- это отдельная большая наука. Но, тем не менее, если достаточно сильно упростить задачу, решить её сможет любой школьник."
   ]
  },
  {
   "cell_type": "markdown",
   "metadata": {
    "colab_type": "text",
    "id": "76fG7N42FoSj"
   },
   "source": [
    "###  1.2.2 Очень простой пример"
   ]
  },
  {
   "cell_type": "markdown",
   "metadata": {
    "colab_type": "text",
    "id": "sepCjXErFoSm"
   },
   "source": [
    "Упростим постановку задачи, упростив множество $\\mathcal{A}$. В принципе, никто не запрещает нам игнорировать один из наших признаков -- скажем, число кустов. Также избавимся от свободного члена $w_0$. Тогда наша функция приобретёт вид\n",
    "$$\n",
    "f_w(s) = ws, w \\in \\mathbb{R}\n",
    "$$\n",
    "Подставим это в функцию потерь.\n",
    "$$\n",
    "L(w, X) = \\frac{1}{n} \\sum\\limits_{i=1}^{n} (ws_i - y_i)^2\n",
    "$$\n",
    "Раскроем скобки\n",
    "$$\n",
    "L(w, X) = \\frac{1}{n} \\sum\\limits_{i=1}^{n} (s_i^2 w^2 - 2 y_i s_i w + y_i^2)\n",
    "$$\n",
    "Перегруппируем слагаемые\n",
    "$$\n",
    "L(w, X) = \\frac{1}{n}( \\sum\\limits_{i=1}^{n} (s_i^2) w^2 - \\sum\\limits_{i=1}^{n}(2 y_i s_i) w + \\sum\\limits_{i=1}^{n} (y_i^2))\n",
    "$$\n",
    "Теперь обозначим $a = \\frac{1}{n} \\sum\\limits_{i=1}^{n} (s_i^2) $, $b = -\\frac{1}{n} \\sum\\limits_{i=1}^{n}(2 y_i s_i)$, $c = \\frac{1}{n} \\sum\\limits_{i=1}^{n} (y_i^2)$. Таким образом\n",
    "$$\n",
    "L(w, X) = aw^2 + bw + c\n",
    "$$\n",
    "Как мы видим, мы получили обычный квадратный трёхчлен от $w$. Как всем известно, если $a > 0$ (что, как можно видеть, в данном случае выполняется), то его минимум достигается в точке \n",
    "$$\n",
    "w^* = \\frac{-b}{2a} = \\frac{\\frac{1}{n} \\sum\\limits_{i=1}^{n}2 y_i s_i}{\\frac{2}{n} \\sum\\limits_{i=1}^{n} s_i^2} = \n",
    "\\frac{\\sum\\limits_{i=1}^{n}y_i s_i}{\\sum\\limits_{i=1}^{n} s_i^2} \n",
    "$$"
   ]
  },
  {
   "cell_type": "markdown",
   "metadata": {
    "colab_type": "text",
    "id": "AhmQVUPSFoSn"
   },
   "source": [
    "К сожалению, очевидно, что сколь-нибудь нетривиальную зависимость выразить таким способов не выдет, однако даже это хороший пример того, как нужно менять параметры модели, чтобы она предсказывала оптимально (с точки зрения выбранной функции потерь). \n",
    "\n",
    "То есть суть ***обучения*** состоит в том, чтобы **изменить параметры** модели из выбранного семейства таким образом, чтобы она предсказывала **оптимально** с точки зрения **выбранной функции потерь**, для этого используется определённый  **алгоритм оптимизации**."
   ]
  },
  {
   "cell_type": "markdown",
   "metadata": {
    "colab_type": "text",
    "id": "H2K7LDZ1FoSo"
   },
   "source": [
    "# 2. Заключение"
   ]
  },
  {
   "cell_type": "markdown",
   "metadata": {
    "colab_type": "text",
    "id": "42u4CQbjFoSp"
   },
   "source": [
    "Рассмотренная нами задача относится к *задаче регрессии* -- то есть её целевая переменная принимает значения в $\\mathbb{R}$. Кроме неё существует множество других задач, например задача классификации.\n",
    "\n",
    "Кроме того, эта задача является примером задачи *обучения с учителем* -- то есть, нам даны обучающие примеры с известными значениями целевой переменной. Задачи, в которых целевые переменные неизвестны, относятся к задачам *обучения без учителя*.\n",
    "\n",
    "Мир машинного обучения черезвычайно разнообразен, поэтому в нашем курсе мы сможем познакомить вас лишь с его небольшой частью, перед тем, как углубиться в нейронные сети."
   ]
  },
  {
   "cell_type": "markdown",
   "metadata": {
    "colab_type": "text",
    "id": "-SFYozOuFoSx"
   },
   "source": [
    "# 3. Полезные ссылки"
   ]
  },
  {
   "cell_type": "markdown",
   "metadata": {
    "colab_type": "text",
    "id": "LPgBJ6-WFoSz"
   },
   "source": [
    "1. [Больше о разных направлениях машинного обучения](http://www.machinelearning.ru/wiki/index.php?title=%D0%9C%D0%B0%D1%88%D0%B8%D0%BD%D0%BD%D0%BE%D0%B5_%D0%BE%D0%B1%D1%83%D1%87%D0%B5%D0%BD%D0%B8%D0%B5)\n",
    "2. Лекции Евгения Соколова https://github.com/esokolov/ml-course-msu/tree/master/ML15/lecture-notes"
   ]
  },
  {
   "cell_type": "markdown",
   "metadata": {
    "colab_type": "text",
    "id": "tE4F_HBTuZWg"
   },
   "source": [
    "# 4. Практическое занятие"
   ]
  },
  {
   "cell_type": "markdown",
   "metadata": {
    "colab_type": "text",
    "id": "NF22ukZWuZWh"
   },
   "source": [
    "# Данные\n",
    "\n",
    "Данные - информация о приложениях из AppStore. Поставим регрессионную задачу - предсказать рейтинг приложения. \n",
    "\n",
    "Скачать данные: https://www.kaggle.com/ramamet4/app-store-apple-data-set-10k-apps"
   ]
  },
  {
   "cell_type": "markdown",
   "metadata": {
    "colab_type": "text",
    "id": "2jr0tfdPuZWi"
   },
   "source": [
    "# Анализ данных\n",
    "\n",
    "Начнем с самой важной части - посмотрим на данные. "
   ]
  },
  {
   "cell_type": "code",
   "execution_count": 1,
   "metadata": {
    "colab": {},
    "colab_type": "code",
    "id": "RXPnN-I-uZWj"
   },
   "outputs": [],
   "source": [
    "import pandas as pd\n",
    "import numpy as np\n",
    "from matplotlib import pyplot as plt"
   ]
  },
  {
   "cell_type": "code",
   "execution_count": 2,
   "metadata": {
    "colab": {},
    "colab_type": "code",
    "id": "XEEZttwsuZWl",
    "outputId": "84fe245f-9377-4c2b-fd28-b4372fe1e8a7"
   },
   "outputs": [
    {
     "data": {
      "text/html": [
       "<div>\n",
       "<style scoped>\n",
       "    .dataframe tbody tr th:only-of-type {\n",
       "        vertical-align: middle;\n",
       "    }\n",
       "\n",
       "    .dataframe tbody tr th {\n",
       "        vertical-align: top;\n",
       "    }\n",
       "\n",
       "    .dataframe thead th {\n",
       "        text-align: right;\n",
       "    }\n",
       "</style>\n",
       "<table border=\"1\" class=\"dataframe\">\n",
       "  <thead>\n",
       "    <tr style=\"text-align: right;\">\n",
       "      <th></th>\n",
       "      <th>Unnamed: 0</th>\n",
       "      <th>id</th>\n",
       "      <th>track_name</th>\n",
       "      <th>size_bytes</th>\n",
       "      <th>currency</th>\n",
       "      <th>price</th>\n",
       "      <th>rating_count_tot</th>\n",
       "      <th>rating_count_ver</th>\n",
       "      <th>user_rating</th>\n",
       "      <th>user_rating_ver</th>\n",
       "      <th>ver</th>\n",
       "      <th>cont_rating</th>\n",
       "      <th>prime_genre</th>\n",
       "      <th>sup_devices.num</th>\n",
       "      <th>ipadSc_urls.num</th>\n",
       "      <th>lang.num</th>\n",
       "      <th>vpp_lic</th>\n",
       "    </tr>\n",
       "  </thead>\n",
       "  <tbody>\n",
       "    <tr>\n",
       "      <th>0</th>\n",
       "      <td>1</td>\n",
       "      <td>281656475</td>\n",
       "      <td>PAC-MAN Premium</td>\n",
       "      <td>100788224</td>\n",
       "      <td>USD</td>\n",
       "      <td>3.99</td>\n",
       "      <td>21292</td>\n",
       "      <td>26</td>\n",
       "      <td>4.0</td>\n",
       "      <td>4.5</td>\n",
       "      <td>6.3.5</td>\n",
       "      <td>4+</td>\n",
       "      <td>Games</td>\n",
       "      <td>38</td>\n",
       "      <td>5</td>\n",
       "      <td>10</td>\n",
       "      <td>1</td>\n",
       "    </tr>\n",
       "    <tr>\n",
       "      <th>1</th>\n",
       "      <td>2</td>\n",
       "      <td>281796108</td>\n",
       "      <td>Evernote - stay organized</td>\n",
       "      <td>158578688</td>\n",
       "      <td>USD</td>\n",
       "      <td>0.00</td>\n",
       "      <td>161065</td>\n",
       "      <td>26</td>\n",
       "      <td>4.0</td>\n",
       "      <td>3.5</td>\n",
       "      <td>8.2.2</td>\n",
       "      <td>4+</td>\n",
       "      <td>Productivity</td>\n",
       "      <td>37</td>\n",
       "      <td>5</td>\n",
       "      <td>23</td>\n",
       "      <td>1</td>\n",
       "    </tr>\n",
       "    <tr>\n",
       "      <th>2</th>\n",
       "      <td>3</td>\n",
       "      <td>281940292</td>\n",
       "      <td>WeatherBug - Local Weather, Radar, Maps, Alerts</td>\n",
       "      <td>100524032</td>\n",
       "      <td>USD</td>\n",
       "      <td>0.00</td>\n",
       "      <td>188583</td>\n",
       "      <td>2822</td>\n",
       "      <td>3.5</td>\n",
       "      <td>4.5</td>\n",
       "      <td>5.0.0</td>\n",
       "      <td>4+</td>\n",
       "      <td>Weather</td>\n",
       "      <td>37</td>\n",
       "      <td>5</td>\n",
       "      <td>3</td>\n",
       "      <td>1</td>\n",
       "    </tr>\n",
       "    <tr>\n",
       "      <th>3</th>\n",
       "      <td>4</td>\n",
       "      <td>282614216</td>\n",
       "      <td>eBay: Best App to Buy, Sell, Save! Online Shop...</td>\n",
       "      <td>128512000</td>\n",
       "      <td>USD</td>\n",
       "      <td>0.00</td>\n",
       "      <td>262241</td>\n",
       "      <td>649</td>\n",
       "      <td>4.0</td>\n",
       "      <td>4.5</td>\n",
       "      <td>5.10.0</td>\n",
       "      <td>12+</td>\n",
       "      <td>Shopping</td>\n",
       "      <td>37</td>\n",
       "      <td>5</td>\n",
       "      <td>9</td>\n",
       "      <td>1</td>\n",
       "    </tr>\n",
       "    <tr>\n",
       "      <th>4</th>\n",
       "      <td>5</td>\n",
       "      <td>282935706</td>\n",
       "      <td>Bible</td>\n",
       "      <td>92774400</td>\n",
       "      <td>USD</td>\n",
       "      <td>0.00</td>\n",
       "      <td>985920</td>\n",
       "      <td>5320</td>\n",
       "      <td>4.5</td>\n",
       "      <td>5.0</td>\n",
       "      <td>7.5.1</td>\n",
       "      <td>4+</td>\n",
       "      <td>Reference</td>\n",
       "      <td>37</td>\n",
       "      <td>5</td>\n",
       "      <td>45</td>\n",
       "      <td>1</td>\n",
       "    </tr>\n",
       "  </tbody>\n",
       "</table>\n",
       "</div>"
      ],
      "text/plain": [
       "   Unnamed: 0         id                                         track_name  \\\n",
       "0           1  281656475                                    PAC-MAN Premium   \n",
       "1           2  281796108                          Evernote - stay organized   \n",
       "2           3  281940292    WeatherBug - Local Weather, Radar, Maps, Alerts   \n",
       "3           4  282614216  eBay: Best App to Buy, Sell, Save! Online Shop...   \n",
       "4           5  282935706                                              Bible   \n",
       "\n",
       "   size_bytes currency  price  rating_count_tot  rating_count_ver  \\\n",
       "0   100788224      USD   3.99             21292                26   \n",
       "1   158578688      USD   0.00            161065                26   \n",
       "2   100524032      USD   0.00            188583              2822   \n",
       "3   128512000      USD   0.00            262241               649   \n",
       "4    92774400      USD   0.00            985920              5320   \n",
       "\n",
       "   user_rating  user_rating_ver     ver cont_rating   prime_genre  \\\n",
       "0          4.0              4.5   6.3.5          4+         Games   \n",
       "1          4.0              3.5   8.2.2          4+  Productivity   \n",
       "2          3.5              4.5   5.0.0          4+       Weather   \n",
       "3          4.0              4.5  5.10.0         12+      Shopping   \n",
       "4          4.5              5.0   7.5.1          4+     Reference   \n",
       "\n",
       "   sup_devices.num  ipadSc_urls.num  lang.num  vpp_lic  \n",
       "0               38                5        10        1  \n",
       "1               37                5        23        1  \n",
       "2               37                5         3        1  \n",
       "3               37                5         9        1  \n",
       "4               37                5        45        1  "
      ]
     },
     "execution_count": 2,
     "metadata": {},
     "output_type": "execute_result"
    }
   ],
   "source": [
    "# Загрузим данные и посмотрим на небольшую часть\n",
    "data = pd.read_csv('AppleStore.csv')\n",
    "data.head()"
   ]
  },
  {
   "cell_type": "markdown",
   "metadata": {
    "colab_type": "text",
    "id": "Qcu5fGEPuZWp"
   },
   "source": [
    "Выделим фичи из датасета и поделим их на числовые и категориальные. "
   ]
  },
  {
   "cell_type": "code",
   "execution_count": 3,
   "metadata": {
    "colab": {},
    "colab_type": "code",
    "id": "MmhcAvi8uZWq"
   },
   "outputs": [],
   "source": [
    "num_cols = [\n",
    "    'size_bytes',\n",
    "    'price',\n",
    "    'rating_count_tot',\n",
    "    'rating_count_ver',\n",
    "    'sup_devices.num',\n",
    "    'ipadSc_urls.num',\n",
    "    'lang.num',\n",
    "    # Эта фича - не числовая, а порядковая, но мы все равно возьмем ее как числовую для удобства\n",
    "    'cont_rating',\n",
    "]\n",
    "\n",
    "cat_cols = [\n",
    "    'currency',\n",
    "    'prime_genre'\n",
    "]\n",
    "\n",
    "target_col = 'user_rating'\n",
    "\n",
    "cols = num_cols + cat_cols + [target_col]"
   ]
  },
  {
   "cell_type": "code",
   "execution_count": 4,
   "metadata": {
    "colab": {},
    "colab_type": "code",
    "id": "RNbXpbP9uZWs",
    "outputId": "d074097f-92d6-4837-8a0c-f608e6e761bd",
    "scrolled": false
   },
   "outputs": [
    {
     "data": {
      "text/html": [
       "<div>\n",
       "<style scoped>\n",
       "    .dataframe tbody tr th:only-of-type {\n",
       "        vertical-align: middle;\n",
       "    }\n",
       "\n",
       "    .dataframe tbody tr th {\n",
       "        vertical-align: top;\n",
       "    }\n",
       "\n",
       "    .dataframe thead th {\n",
       "        text-align: right;\n",
       "    }\n",
       "</style>\n",
       "<table border=\"1\" class=\"dataframe\">\n",
       "  <thead>\n",
       "    <tr style=\"text-align: right;\">\n",
       "      <th></th>\n",
       "      <th>size_bytes</th>\n",
       "      <th>price</th>\n",
       "      <th>rating_count_tot</th>\n",
       "      <th>rating_count_ver</th>\n",
       "      <th>sup_devices.num</th>\n",
       "      <th>ipadSc_urls.num</th>\n",
       "      <th>lang.num</th>\n",
       "      <th>cont_rating</th>\n",
       "      <th>currency</th>\n",
       "      <th>prime_genre</th>\n",
       "      <th>user_rating</th>\n",
       "    </tr>\n",
       "  </thead>\n",
       "  <tbody>\n",
       "    <tr>\n",
       "      <th>0</th>\n",
       "      <td>100788224</td>\n",
       "      <td>3.99</td>\n",
       "      <td>21292</td>\n",
       "      <td>26</td>\n",
       "      <td>38</td>\n",
       "      <td>5</td>\n",
       "      <td>10</td>\n",
       "      <td>4</td>\n",
       "      <td>USD</td>\n",
       "      <td>Games</td>\n",
       "      <td>4.0</td>\n",
       "    </tr>\n",
       "    <tr>\n",
       "      <th>1</th>\n",
       "      <td>158578688</td>\n",
       "      <td>0.00</td>\n",
       "      <td>161065</td>\n",
       "      <td>26</td>\n",
       "      <td>37</td>\n",
       "      <td>5</td>\n",
       "      <td>23</td>\n",
       "      <td>4</td>\n",
       "      <td>USD</td>\n",
       "      <td>Productivity</td>\n",
       "      <td>4.0</td>\n",
       "    </tr>\n",
       "    <tr>\n",
       "      <th>2</th>\n",
       "      <td>100524032</td>\n",
       "      <td>0.00</td>\n",
       "      <td>188583</td>\n",
       "      <td>2822</td>\n",
       "      <td>37</td>\n",
       "      <td>5</td>\n",
       "      <td>3</td>\n",
       "      <td>4</td>\n",
       "      <td>USD</td>\n",
       "      <td>Weather</td>\n",
       "      <td>3.5</td>\n",
       "    </tr>\n",
       "    <tr>\n",
       "      <th>3</th>\n",
       "      <td>128512000</td>\n",
       "      <td>0.00</td>\n",
       "      <td>262241</td>\n",
       "      <td>649</td>\n",
       "      <td>37</td>\n",
       "      <td>5</td>\n",
       "      <td>9</td>\n",
       "      <td>12</td>\n",
       "      <td>USD</td>\n",
       "      <td>Shopping</td>\n",
       "      <td>4.0</td>\n",
       "    </tr>\n",
       "    <tr>\n",
       "      <th>4</th>\n",
       "      <td>92774400</td>\n",
       "      <td>0.00</td>\n",
       "      <td>985920</td>\n",
       "      <td>5320</td>\n",
       "      <td>37</td>\n",
       "      <td>5</td>\n",
       "      <td>45</td>\n",
       "      <td>4</td>\n",
       "      <td>USD</td>\n",
       "      <td>Reference</td>\n",
       "      <td>4.5</td>\n",
       "    </tr>\n",
       "  </tbody>\n",
       "</table>\n",
       "</div>"
      ],
      "text/plain": [
       "   size_bytes  price  rating_count_tot  rating_count_ver  sup_devices.num  \\\n",
       "0   100788224   3.99             21292                26               38   \n",
       "1   158578688   0.00            161065                26               37   \n",
       "2   100524032   0.00            188583              2822               37   \n",
       "3   128512000   0.00            262241               649               37   \n",
       "4    92774400   0.00            985920              5320               37   \n",
       "\n",
       "   ipadSc_urls.num  lang.num  cont_rating currency   prime_genre  user_rating  \n",
       "0                5        10            4      USD         Games          4.0  \n",
       "1                5        23            4      USD  Productivity          4.0  \n",
       "2                5         3            4      USD       Weather          3.5  \n",
       "3                5         9           12      USD      Shopping          4.0  \n",
       "4                5        45            4      USD     Reference          4.5  "
      ]
     },
     "execution_count": 4,
     "metadata": {},
     "output_type": "execute_result"
    }
   ],
   "source": [
    "data = data[cols]\n",
    "# Возраст записан не в виде числа, исправим это, вырезав последний символ и скастовав к числу\n",
    "data['cont_rating'] = data['cont_rating'].str.slice(0, -1).astype(int)\n",
    "data.head()"
   ]
  },
  {
   "cell_type": "code",
   "execution_count": 5,
   "metadata": {
    "colab": {},
    "colab_type": "code",
    "id": "tOHmuzFCuZWv",
    "outputId": "bf8c54fb-2002-4bec-fab6-99f02db9db46"
   },
   "outputs": [
    {
     "data": {
      "text/plain": [
       "size_bytes          0.0\n",
       "price               0.0\n",
       "rating_count_tot    0.0\n",
       "rating_count_ver    0.0\n",
       "sup_devices.num     0.0\n",
       "ipadSc_urls.num     0.0\n",
       "lang.num            0.0\n",
       "cont_rating         0.0\n",
       "currency            0.0\n",
       "prime_genre         0.0\n",
       "user_rating         0.0\n",
       "dtype: float64"
      ]
     },
     "execution_count": 5,
     "metadata": {},
     "output_type": "execute_result"
    }
   ],
   "source": [
    "# Посмотрим на пропущенные значения\n",
    "data.isna().mean()"
   ]
  },
  {
   "cell_type": "code",
   "execution_count": 6,
   "metadata": {
    "colab": {},
    "colab_type": "code",
    "id": "kS-JBVNOuZWy",
    "outputId": "089a78f4-630d-43af-f57e-f5ebcaa999c3"
   },
   "outputs": [
    {
     "name": "stdout",
     "output_type": "stream",
     "text": [
      "currency DISTRIBUTION\n",
      "USD    7197\n",
      "Name: currency, dtype: int64\n",
      "\n",
      "prime_genre DISTRIBUTION\n",
      "Games                3862\n",
      "Entertainment         535\n",
      "Education             453\n",
      "Photo & Video         349\n",
      "Utilities             248\n",
      "Health & Fitness      180\n",
      "Productivity          178\n",
      "Social Networking     167\n",
      "Lifestyle             144\n",
      "Music                 138\n",
      "Shopping              122\n",
      "Sports                114\n",
      "Book                  112\n",
      "Finance               104\n",
      "Travel                 81\n",
      "News                   75\n",
      "Weather                72\n",
      "Reference              64\n",
      "Food & Drink           63\n",
      "Business               57\n",
      "Navigation             46\n",
      "Medical                23\n",
      "Catalogs               10\n",
      "Name: prime_genre, dtype: int64\n",
      "\n"
     ]
    }
   ],
   "source": [
    "# Посмотрим на распределение категориальных фичей\n",
    "for col in cat_cols:\n",
    "    print(f\"{col} DISTRIBUTION\")\n",
    "    print(data[col].value_counts())\n",
    "    print()"
   ]
  },
  {
   "cell_type": "code",
   "execution_count": 7,
   "metadata": {
    "colab": {},
    "colab_type": "code",
    "id": "8lc7uub8uZW0"
   },
   "outputs": [],
   "source": [
    "# Как мы видим, в колонке currency только одно значение, можно колонку убрать\n",
    "data = data.drop(columns=['currency'])\n",
    "cat_cols.remove('currency')"
   ]
  },
  {
   "cell_type": "code",
   "execution_count": 9,
   "metadata": {
    "colab": {},
    "colab_type": "code",
    "id": "nl8pNBl_uZW2",
    "outputId": "9ba61ecd-01b0-4fa1-9daf-f561287da03a",
    "scrolled": false
   },
   "outputs": [
    {
     "data": {
      "image/png": "[encoded data removed]",
      "text/plain": [
       "<Figure size 1008x720 with 9 Axes>"
      ]
     },
     "metadata": {
      "needs_background": "light"
     },
     "output_type": "display_data"
    }
   ],
   "source": [
    "# Посмотрим на распредление величин\n"
   ]
  },
  {
   "cell_type": "markdown",
   "metadata": {
    "colab_type": "text",
    "id": "vJXjGrhTuZW5"
   },
   "source": [
    "А теперь посмотрим на корреляции между фичами"
   ]
  },
  {
   "cell_type": "code",
   "execution_count": 10,
   "metadata": {
    "colab": {},
    "colab_type": "code",
    "id": "wm2cIRCZuZW6",
    "outputId": "da22c6b3-9fe2-4d10-ca4c-f89ffae8c529",
    "scrolled": true
   },
   "outputs": [
    {
     "data": {
      "text/html": [
       "<style  type=\"text/css\" >\n",
       "    #T_d5f91cf4_fe76_11e9_b14a_8086f2d65785row0_col0 {\n",
       "            background-color:  #b40426;\n",
       "            color:  #f1f1f1;\n",
       "        }    #T_d5f91cf4_fe76_11e9_b14a_8086f2d65785row0_col1 {\n",
       "            background-color:  #93b5fe;\n",
       "            color:  #000000;\n",
       "        }    #T_d5f91cf4_fe76_11e9_b14a_8086f2d65785row0_col2 {\n",
       "            background-color:  #465ecf;\n",
       "            color:  #f1f1f1;\n",
       "        }    #T_d5f91cf4_fe76_11e9_b14a_8086f2d65785row0_col3 {\n",
       "            background-color:  #4257c9;\n",
       "            color:  #f1f1f1;\n",
       "        }    #T_d5f91cf4_fe76_11e9_b14a_8086f2d65785row0_col4 {\n",
       "            background-color:  #3b4cc0;\n",
       "            color:  #f1f1f1;\n",
       "        }    #T_d5f91cf4_fe76_11e9_b14a_8086f2d65785row0_col5 {\n",
       "            background-color:  #88abfd;\n",
       "            color:  #000000;\n",
       "        }    #T_d5f91cf4_fe76_11e9_b14a_8086f2d65785row0_col6 {\n",
       "            background-color:  #4f69d9;\n",
       "            color:  #000000;\n",
       "        }    #T_d5f91cf4_fe76_11e9_b14a_8086f2d65785row0_col7 {\n",
       "            background-color:  #84a7fc;\n",
       "            color:  #000000;\n",
       "        }    #T_d5f91cf4_fe76_11e9_b14a_8086f2d65785row0_col8 {\n",
       "            background-color:  #6a8bef;\n",
       "            color:  #000000;\n",
       "        }    #T_d5f91cf4_fe76_11e9_b14a_8086f2d65785row1_col0 {\n",
       "            background-color:  #93b5fe;\n",
       "            color:  #000000;\n",
       "        }    #T_d5f91cf4_fe76_11e9_b14a_8086f2d65785row1_col1 {\n",
       "            background-color:  #b40426;\n",
       "            color:  #f1f1f1;\n",
       "        }    #T_d5f91cf4_fe76_11e9_b14a_8086f2d65785row1_col2 {\n",
       "            background-color:  #3b4cc0;\n",
       "            color:  #f1f1f1;\n",
       "        }    #T_d5f91cf4_fe76_11e9_b14a_8086f2d65785row1_col3 {\n",
       "            background-color:  #3b4cc0;\n",
       "            color:  #f1f1f1;\n",
       "        }    #T_d5f91cf4_fe76_11e9_b14a_8086f2d65785row1_col4 {\n",
       "            background-color:  #3b4cc0;\n",
       "            color:  #f1f1f1;\n",
       "        }    #T_d5f91cf4_fe76_11e9_b14a_8086f2d65785row1_col5 {\n",
       "            background-color:  #6c8ff1;\n",
       "            color:  #000000;\n",
       "        }    #T_d5f91cf4_fe76_11e9_b14a_8086f2d65785row1_col6 {\n",
       "            background-color:  #4c66d6;\n",
       "            color:  #000000;\n",
       "        }    #T_d5f91cf4_fe76_11e9_b14a_8086f2d65785row1_col7 {\n",
       "            background-color:  #506bda;\n",
       "            color:  #000000;\n",
       "        }    #T_d5f91cf4_fe76_11e9_b14a_8086f2d65785row1_col8 {\n",
       "            background-color:  #6384eb;\n",
       "            color:  #000000;\n",
       "        }    #T_d5f91cf4_fe76_11e9_b14a_8086f2d65785row2_col0 {\n",
       "            background-color:  #5d7ce6;\n",
       "            color:  #000000;\n",
       "        }    #T_d5f91cf4_fe76_11e9_b14a_8086f2d65785row2_col1 {\n",
       "            background-color:  #4f69d9;\n",
       "            color:  #000000;\n",
       "        }    #T_d5f91cf4_fe76_11e9_b14a_8086f2d65785row2_col2 {\n",
       "            background-color:  #b40426;\n",
       "            color:  #f1f1f1;\n",
       "        }    #T_d5f91cf4_fe76_11e9_b14a_8086f2d65785row2_col3 {\n",
       "            background-color:  #7396f5;\n",
       "            color:  #000000;\n",
       "        }    #T_d5f91cf4_fe76_11e9_b14a_8086f2d65785row2_col4 {\n",
       "            background-color:  #5e7de7;\n",
       "            color:  #000000;\n",
       "        }    #T_d5f91cf4_fe76_11e9_b14a_8086f2d65785row2_col5 {\n",
       "            background-color:  #5d7ce6;\n",
       "            color:  #000000;\n",
       "        }    #T_d5f91cf4_fe76_11e9_b14a_8086f2d65785row2_col6 {\n",
       "            background-color:  #799cf8;\n",
       "            color:  #000000;\n",
       "        }    #T_d5f91cf4_fe76_11e9_b14a_8086f2d65785row2_col7 {\n",
       "            background-color:  #5b7ae5;\n",
       "            color:  #000000;\n",
       "        }    #T_d5f91cf4_fe76_11e9_b14a_8086f2d65785row2_col8 {\n",
       "            background-color:  #6f92f3;\n",
       "            color:  #000000;\n",
       "        }    #T_d5f91cf4_fe76_11e9_b14a_8086f2d65785row3_col0 {\n",
       "            background-color:  #5d7ce6;\n",
       "            color:  #000000;\n",
       "        }    #T_d5f91cf4_fe76_11e9_b14a_8086f2d65785row3_col1 {\n",
       "            background-color:  #5572df;\n",
       "            color:  #000000;\n",
       "        }    #T_d5f91cf4_fe76_11e9_b14a_8086f2d65785row3_col2 {\n",
       "            background-color:  #799cf8;\n",
       "            color:  #000000;\n",
       "        }    #T_d5f91cf4_fe76_11e9_b14a_8086f2d65785row3_col3 {\n",
       "            background-color:  #b40426;\n",
       "            color:  #f1f1f1;\n",
       "        }    #T_d5f91cf4_fe76_11e9_b14a_8086f2d65785row3_col4 {\n",
       "            background-color:  #6687ed;\n",
       "            color:  #000000;\n",
       "        }    #T_d5f91cf4_fe76_11e9_b14a_8086f2d65785row3_col5 {\n",
       "            background-color:  #5f7fe8;\n",
       "            color:  #000000;\n",
       "        }    #T_d5f91cf4_fe76_11e9_b14a_8086f2d65785row3_col6 {\n",
       "            background-color:  #516ddb;\n",
       "            color:  #000000;\n",
       "        }    #T_d5f91cf4_fe76_11e9_b14a_8086f2d65785row3_col7 {\n",
       "            background-color:  #5977e3;\n",
       "            color:  #000000;\n",
       "        }    #T_d5f91cf4_fe76_11e9_b14a_8086f2d65785row3_col8 {\n",
       "            background-color:  #6a8bef;\n",
       "            color:  #000000;\n",
       "        }    #T_d5f91cf4_fe76_11e9_b14a_8086f2d65785row4_col0 {\n",
       "            background-color:  #3b4cc0;\n",
       "            color:  #f1f1f1;\n",
       "        }    #T_d5f91cf4_fe76_11e9_b14a_8086f2d65785row4_col1 {\n",
       "            background-color:  #3b4cc0;\n",
       "            color:  #f1f1f1;\n",
       "        }    #T_d5f91cf4_fe76_11e9_b14a_8086f2d65785row4_col2 {\n",
       "            background-color:  #485fd1;\n",
       "            color:  #f1f1f1;\n",
       "        }    #T_d5f91cf4_fe76_11e9_b14a_8086f2d65785row4_col3 {\n",
       "            background-color:  #4b64d5;\n",
       "            color:  #f1f1f1;\n",
       "        }    #T_d5f91cf4_fe76_11e9_b14a_8086f2d65785row4_col4 {\n",
       "            background-color:  #b40426;\n",
       "            color:  #f1f1f1;\n",
       "        }    #T_d5f91cf4_fe76_11e9_b14a_8086f2d65785row4_col5 {\n",
       "            background-color:  #4e68d8;\n",
       "            color:  #000000;\n",
       "        }    #T_d5f91cf4_fe76_11e9_b14a_8086f2d65785row4_col6 {\n",
       "            background-color:  #4257c9;\n",
       "            color:  #f1f1f1;\n",
       "        }    #T_d5f91cf4_fe76_11e9_b14a_8086f2d65785row4_col7 {\n",
       "            background-color:  #5e7de7;\n",
       "            color:  #000000;\n",
       "        }    #T_d5f91cf4_fe76_11e9_b14a_8086f2d65785row4_col8 {\n",
       "            background-color:  #4961d2;\n",
       "            color:  #f1f1f1;\n",
       "        }    #T_d5f91cf4_fe76_11e9_b14a_8086f2d65785row5_col0 {\n",
       "            background-color:  #8badfd;\n",
       "            color:  #000000;\n",
       "        }    #T_d5f91cf4_fe76_11e9_b14a_8086f2d65785row5_col1 {\n",
       "            background-color:  #6e90f2;\n",
       "            color:  #000000;\n",
       "        }    #T_d5f91cf4_fe76_11e9_b14a_8086f2d65785row5_col2 {\n",
       "            background-color:  #4a63d3;\n",
       "            color:  #f1f1f1;\n",
       "        }    #T_d5f91cf4_fe76_11e9_b14a_8086f2d65785row5_col3 {\n",
       "            background-color:  #465ecf;\n",
       "            color:  #f1f1f1;\n",
       "        }    #T_d5f91cf4_fe76_11e9_b14a_8086f2d65785row5_col4 {\n",
       "            background-color:  #506bda;\n",
       "            color:  #000000;\n",
       "        }    #T_d5f91cf4_fe76_11e9_b14a_8086f2d65785row5_col5 {\n",
       "            background-color:  #b40426;\n",
       "            color:  #f1f1f1;\n",
       "        }    #T_d5f91cf4_fe76_11e9_b14a_8086f2d65785row5_col6 {\n",
       "            background-color:  #688aef;\n",
       "            color:  #000000;\n",
       "        }    #T_d5f91cf4_fe76_11e9_b14a_8086f2d65785row5_col7 {\n",
       "            background-color:  #3b4cc0;\n",
       "            color:  #f1f1f1;\n",
       "        }    #T_d5f91cf4_fe76_11e9_b14a_8086f2d65785row5_col8 {\n",
       "            background-color:  #a9c6fd;\n",
       "            color:  #000000;\n",
       "        }    #T_d5f91cf4_fe76_11e9_b14a_8086f2d65785row6_col0 {\n",
       "            background-color:  #5d7ce6;\n",
       "            color:  #000000;\n",
       "        }    #T_d5f91cf4_fe76_11e9_b14a_8086f2d65785row6_col1 {\n",
       "            background-color:  #5875e1;\n",
       "            color:  #000000;\n",
       "        }    #T_d5f91cf4_fe76_11e9_b14a_8086f2d65785row6_col2 {\n",
       "            background-color:  #7093f3;\n",
       "            color:  #000000;\n",
       "        }    #T_d5f91cf4_fe76_11e9_b14a_8086f2d65785row6_col3 {\n",
       "            background-color:  #4358cb;\n",
       "            color:  #f1f1f1;\n",
       "        }    #T_d5f91cf4_fe76_11e9_b14a_8086f2d65785row6_col4 {\n",
       "            background-color:  #4f69d9;\n",
       "            color:  #000000;\n",
       "        }    #T_d5f91cf4_fe76_11e9_b14a_8086f2d65785row6_col5 {\n",
       "            background-color:  #7396f5;\n",
       "            color:  #000000;\n",
       "        }    #T_d5f91cf4_fe76_11e9_b14a_8086f2d65785row6_col6 {\n",
       "            background-color:  #b40426;\n",
       "            color:  #f1f1f1;\n",
       "        }    #T_d5f91cf4_fe76_11e9_b14a_8086f2d65785row6_col7 {\n",
       "            background-color:  #445acc;\n",
       "            color:  #f1f1f1;\n",
       "        }    #T_d5f91cf4_fe76_11e9_b14a_8086f2d65785row6_col8 {\n",
       "            background-color:  #8badfd;\n",
       "            color:  #000000;\n",
       "        }    #T_d5f91cf4_fe76_11e9_b14a_8086f2d65785row7_col0 {\n",
       "            background-color:  #86a9fc;\n",
       "            color:  #000000;\n",
       "        }    #T_d5f91cf4_fe76_11e9_b14a_8086f2d65785row7_col1 {\n",
       "            background-color:  #516ddb;\n",
       "            color:  #000000;\n",
       "        }    #T_d5f91cf4_fe76_11e9_b14a_8086f2d65785row7_col2 {\n",
       "            background-color:  #485fd1;\n",
       "            color:  #f1f1f1;\n",
       "        }    #T_d5f91cf4_fe76_11e9_b14a_8086f2d65785row7_col3 {\n",
       "            background-color:  #3f53c6;\n",
       "            color:  #f1f1f1;\n",
       "        }    #T_d5f91cf4_fe76_11e9_b14a_8086f2d65785row7_col4 {\n",
       "            background-color:  #6180e9;\n",
       "            color:  #000000;\n",
       "        }    #T_d5f91cf4_fe76_11e9_b14a_8086f2d65785row7_col5 {\n",
       "            background-color:  #3b4cc0;\n",
       "            color:  #f1f1f1;\n",
       "        }    #T_d5f91cf4_fe76_11e9_b14a_8086f2d65785row7_col6 {\n",
       "            background-color:  #3b4cc0;\n",
       "            color:  #f1f1f1;\n",
       "        }    #T_d5f91cf4_fe76_11e9_b14a_8086f2d65785row7_col7 {\n",
       "            background-color:  #b40426;\n",
       "            color:  #f1f1f1;\n",
       "        }    #T_d5f91cf4_fe76_11e9_b14a_8086f2d65785row7_col8 {\n",
       "            background-color:  #3b4cc0;\n",
       "            color:  #f1f1f1;\n",
       "        }    #T_d5f91cf4_fe76_11e9_b14a_8086f2d65785row8_col0 {\n",
       "            background-color:  #6f92f3;\n",
       "            color:  #000000;\n",
       "        }    #T_d5f91cf4_fe76_11e9_b14a_8086f2d65785row8_col1 {\n",
       "            background-color:  #688aef;\n",
       "            color:  #000000;\n",
       "        }    #T_d5f91cf4_fe76_11e9_b14a_8086f2d65785row8_col2 {\n",
       "            background-color:  #5f7fe8;\n",
       "            color:  #000000;\n",
       "        }    #T_d5f91cf4_fe76_11e9_b14a_8086f2d65785row8_col3 {\n",
       "            background-color:  #5470de;\n",
       "            color:  #000000;\n",
       "        }    #T_d5f91cf4_fe76_11e9_b14a_8086f2d65785row8_col4 {\n",
       "            background-color:  #4f69d9;\n",
       "            color:  #000000;\n",
       "        }    #T_d5f91cf4_fe76_11e9_b14a_8086f2d65785row8_col5 {\n",
       "            background-color:  #abc8fd;\n",
       "            color:  #000000;\n",
       "        }    #T_d5f91cf4_fe76_11e9_b14a_8086f2d65785row8_col6 {\n",
       "            background-color:  #84a7fc;\n",
       "            color:  #000000;\n",
       "        }    #T_d5f91cf4_fe76_11e9_b14a_8086f2d65785row8_col7 {\n",
       "            background-color:  #3d50c3;\n",
       "            color:  #f1f1f1;\n",
       "        }    #T_d5f91cf4_fe76_11e9_b14a_8086f2d65785row8_col8 {\n",
       "            background-color:  #b40426;\n",
       "            color:  #f1f1f1;\n",
       "        }</style><table id=\"T_d5f91cf4_fe76_11e9_b14a_8086f2d65785\" ><thead>    <tr>        <th class=\"blank level0\" ></th>        <th class=\"col_heading level0 col0\" >size_bytes</th>        <th class=\"col_heading level0 col1\" >price</th>        <th class=\"col_heading level0 col2\" >rating_count_tot</th>        <th class=\"col_heading level0 col3\" >rating_count_ver</th>        <th class=\"col_heading level0 col4\" >sup_devices.num</th>        <th class=\"col_heading level0 col5\" >ipadSc_urls.num</th>        <th class=\"col_heading level0 col6\" >lang.num</th>        <th class=\"col_heading level0 col7\" >cont_rating</th>        <th class=\"col_heading level0 col8\" >user_rating</th>    </tr></thead><tbody>\n",
       "                <tr>\n",
       "                        <th id=\"T_d5f91cf4_fe76_11e9_b14a_8086f2d65785level0_row0\" class=\"row_heading level0 row0\" >size_bytes</th>\n",
       "                        <td id=\"T_d5f91cf4_fe76_11e9_b14a_8086f2d65785row0_col0\" class=\"data row0 col0\" >1</td>\n",
       "                        <td id=\"T_d5f91cf4_fe76_11e9_b14a_8086f2d65785row0_col1\" class=\"data row0 col1\" >0.18</td>\n",
       "                        <td id=\"T_d5f91cf4_fe76_11e9_b14a_8086f2d65785row0_col2\" class=\"data row0 col2\" >0.0045</td>\n",
       "                        <td id=\"T_d5f91cf4_fe76_11e9_b14a_8086f2d65785row0_col3\" class=\"data row0 col3\" >0.0063</td>\n",
       "                        <td id=\"T_d5f91cf4_fe76_11e9_b14a_8086f2d65785row0_col4\" class=\"data row0 col4\" >-0.12</td>\n",
       "                        <td id=\"T_d5f91cf4_fe76_11e9_b14a_8086f2d65785row0_col5\" class=\"data row0 col5\" >0.15</td>\n",
       "                        <td id=\"T_d5f91cf4_fe76_11e9_b14a_8086f2d65785row0_col6\" class=\"data row0 col6\" >0.0046</td>\n",
       "                        <td id=\"T_d5f91cf4_fe76_11e9_b14a_8086f2d65785row0_col7\" class=\"data row0 col7\" >0.14</td>\n",
       "                        <td id=\"T_d5f91cf4_fe76_11e9_b14a_8086f2d65785row0_col8\" class=\"data row0 col8\" >0.066</td>\n",
       "            </tr>\n",
       "            <tr>\n",
       "                        <th id=\"T_d5f91cf4_fe76_11e9_b14a_8086f2d65785level0_row1\" class=\"row_heading level0 row1\" >price</th>\n",
       "                        <td id=\"T_d5f91cf4_fe76_11e9_b14a_8086f2d65785row1_col0\" class=\"data row1 col0\" >0.18</td>\n",
       "                        <td id=\"T_d5f91cf4_fe76_11e9_b14a_8086f2d65785row1_col1\" class=\"data row1 col1\" >1</td>\n",
       "                        <td id=\"T_d5f91cf4_fe76_11e9_b14a_8086f2d65785row1_col2\" class=\"data row1 col2\" >-0.039</td>\n",
       "                        <td id=\"T_d5f91cf4_fe76_11e9_b14a_8086f2d65785row1_col3\" class=\"data row1 col3\" >-0.018</td>\n",
       "                        <td id=\"T_d5f91cf4_fe76_11e9_b14a_8086f2d65785row1_col4\" class=\"data row1 col4\" >-0.12</td>\n",
       "                        <td id=\"T_d5f91cf4_fe76_11e9_b14a_8086f2d65785row1_col5\" class=\"data row1 col5\" >0.066</td>\n",
       "                        <td id=\"T_d5f91cf4_fe76_11e9_b14a_8086f2d65785row1_col6\" class=\"data row1 col6\" >-0.0067</td>\n",
       "                        <td id=\"T_d5f91cf4_fe76_11e9_b14a_8086f2d65785row1_col7\" class=\"data row1 col7\" >-0.03</td>\n",
       "                        <td id=\"T_d5f91cf4_fe76_11e9_b14a_8086f2d65785row1_col8\" class=\"data row1 col8\" >0.047</td>\n",
       "            </tr>\n",
       "            <tr>\n",
       "                        <th id=\"T_d5f91cf4_fe76_11e9_b14a_8086f2d65785level0_row2\" class=\"row_heading level0 row2\" >rating_count_tot</th>\n",
       "                        <td id=\"T_d5f91cf4_fe76_11e9_b14a_8086f2d65785row2_col0\" class=\"data row2 col0\" >0.0045</td>\n",
       "                        <td id=\"T_d5f91cf4_fe76_11e9_b14a_8086f2d65785row2_col1\" class=\"data row2 col1\" >-0.039</td>\n",
       "                        <td id=\"T_d5f91cf4_fe76_11e9_b14a_8086f2d65785row2_col2\" class=\"data row2 col2\" >1</td>\n",
       "                        <td id=\"T_d5f91cf4_fe76_11e9_b14a_8086f2d65785row2_col3\" class=\"data row2 col3\" >0.16</td>\n",
       "                        <td id=\"T_d5f91cf4_fe76_11e9_b14a_8086f2d65785row2_col4\" class=\"data row2 col4\" >0.0088</td>\n",
       "                        <td id=\"T_d5f91cf4_fe76_11e9_b14a_8086f2d65785row2_col5\" class=\"data row2 col5\" >0.016</td>\n",
       "                        <td id=\"T_d5f91cf4_fe76_11e9_b14a_8086f2d65785row2_col6\" class=\"data row2 col6\" >0.14</td>\n",
       "                        <td id=\"T_d5f91cf4_fe76_11e9_b14a_8086f2d65785row2_col7\" class=\"data row2 col7\" >0.0091</td>\n",
       "                        <td id=\"T_d5f91cf4_fe76_11e9_b14a_8086f2d65785row2_col8\" class=\"data row2 col8\" >0.083</td>\n",
       "            </tr>\n",
       "            <tr>\n",
       "                        <th id=\"T_d5f91cf4_fe76_11e9_b14a_8086f2d65785level0_row3\" class=\"row_heading level0 row3\" >rating_count_ver</th>\n",
       "                        <td id=\"T_d5f91cf4_fe76_11e9_b14a_8086f2d65785row3_col0\" class=\"data row3 col0\" >0.0063</td>\n",
       "                        <td id=\"T_d5f91cf4_fe76_11e9_b14a_8086f2d65785row3_col1\" class=\"data row3 col1\" >-0.018</td>\n",
       "                        <td id=\"T_d5f91cf4_fe76_11e9_b14a_8086f2d65785row3_col2\" class=\"data row3 col2\" >0.16</td>\n",
       "                        <td id=\"T_d5f91cf4_fe76_11e9_b14a_8086f2d65785row3_col3\" class=\"data row3 col3\" >1</td>\n",
       "                        <td id=\"T_d5f91cf4_fe76_11e9_b14a_8086f2d65785row3_col4\" class=\"data row3 col4\" >0.038</td>\n",
       "                        <td id=\"T_d5f91cf4_fe76_11e9_b14a_8086f2d65785row3_col5\" class=\"data row3 col5\" >0.024</td>\n",
       "                        <td id=\"T_d5f91cf4_fe76_11e9_b14a_8086f2d65785row3_col6\" class=\"data row3 col6\" >0.013</td>\n",
       "                        <td id=\"T_d5f91cf4_fe76_11e9_b14a_8086f2d65785row3_col7\" class=\"data row3 col7\" >0.0014</td>\n",
       "                        <td id=\"T_d5f91cf4_fe76_11e9_b14a_8086f2d65785row3_col8\" class=\"data row3 col8\" >0.069</td>\n",
       "            </tr>\n",
       "            <tr>\n",
       "                        <th id=\"T_d5f91cf4_fe76_11e9_b14a_8086f2d65785level0_row4\" class=\"row_heading level0 row4\" >sup_devices.num</th>\n",
       "                        <td id=\"T_d5f91cf4_fe76_11e9_b14a_8086f2d65785row4_col0\" class=\"data row4 col0\" >-0.12</td>\n",
       "                        <td id=\"T_d5f91cf4_fe76_11e9_b14a_8086f2d65785row4_col1\" class=\"data row4 col1\" >-0.12</td>\n",
       "                        <td id=\"T_d5f91cf4_fe76_11e9_b14a_8086f2d65785row4_col2\" class=\"data row4 col2\" >0.0088</td>\n",
       "                        <td id=\"T_d5f91cf4_fe76_11e9_b14a_8086f2d65785row4_col3\" class=\"data row4 col3\" >0.038</td>\n",
       "                        <td id=\"T_d5f91cf4_fe76_11e9_b14a_8086f2d65785row4_col4\" class=\"data row4 col4\" >1</td>\n",
       "                        <td id=\"T_d5f91cf4_fe76_11e9_b14a_8086f2d65785row4_col5\" class=\"data row4 col5\" >-0.038</td>\n",
       "                        <td id=\"T_d5f91cf4_fe76_11e9_b14a_8086f2d65785row4_col6\" class=\"data row4 col6\" >-0.042</td>\n",
       "                        <td id=\"T_d5f91cf4_fe76_11e9_b14a_8086f2d65785row4_col7\" class=\"data row4 col7\" >0.02</td>\n",
       "                        <td id=\"T_d5f91cf4_fe76_11e9_b14a_8086f2d65785row4_col8\" class=\"data row4 col8\" >-0.042</td>\n",
       "            </tr>\n",
       "            <tr>\n",
       "                        <th id=\"T_d5f91cf4_fe76_11e9_b14a_8086f2d65785level0_row5\" class=\"row_heading level0 row5\" >ipadSc_urls.num</th>\n",
       "                        <td id=\"T_d5f91cf4_fe76_11e9_b14a_8086f2d65785row5_col0\" class=\"data row5 col0\" >0.15</td>\n",
       "                        <td id=\"T_d5f91cf4_fe76_11e9_b14a_8086f2d65785row5_col1\" class=\"data row5 col1\" >0.066</td>\n",
       "                        <td id=\"T_d5f91cf4_fe76_11e9_b14a_8086f2d65785row5_col2\" class=\"data row5 col2\" >0.016</td>\n",
       "                        <td id=\"T_d5f91cf4_fe76_11e9_b14a_8086f2d65785row5_col3\" class=\"data row5 col3\" >0.024</td>\n",
       "                        <td id=\"T_d5f91cf4_fe76_11e9_b14a_8086f2d65785row5_col4\" class=\"data row5 col4\" >-0.038</td>\n",
       "                        <td id=\"T_d5f91cf4_fe76_11e9_b14a_8086f2d65785row5_col5\" class=\"data row5 col5\" >1</td>\n",
       "                        <td id=\"T_d5f91cf4_fe76_11e9_b14a_8086f2d65785row5_col6\" class=\"data row5 col6\" >0.088</td>\n",
       "                        <td id=\"T_d5f91cf4_fe76_11e9_b14a_8086f2d65785row5_col7\" class=\"data row5 col7\" >-0.11</td>\n",
       "                        <td id=\"T_d5f91cf4_fe76_11e9_b14a_8086f2d65785row5_col8\" class=\"data row5 col8\" >0.27</td>\n",
       "            </tr>\n",
       "            <tr>\n",
       "                        <th id=\"T_d5f91cf4_fe76_11e9_b14a_8086f2d65785level0_row6\" class=\"row_heading level0 row6\" >lang.num</th>\n",
       "                        <td id=\"T_d5f91cf4_fe76_11e9_b14a_8086f2d65785row6_col0\" class=\"data row6 col0\" >0.0046</td>\n",
       "                        <td id=\"T_d5f91cf4_fe76_11e9_b14a_8086f2d65785row6_col1\" class=\"data row6 col1\" >-0.0067</td>\n",
       "                        <td id=\"T_d5f91cf4_fe76_11e9_b14a_8086f2d65785row6_col2\" class=\"data row6 col2\" >0.14</td>\n",
       "                        <td id=\"T_d5f91cf4_fe76_11e9_b14a_8086f2d65785row6_col3\" class=\"data row6 col3\" >0.013</td>\n",
       "                        <td id=\"T_d5f91cf4_fe76_11e9_b14a_8086f2d65785row6_col4\" class=\"data row6 col4\" >-0.042</td>\n",
       "                        <td id=\"T_d5f91cf4_fe76_11e9_b14a_8086f2d65785row6_col5\" class=\"data row6 col5\" >0.088</td>\n",
       "                        <td id=\"T_d5f91cf4_fe76_11e9_b14a_8086f2d65785row6_col6\" class=\"data row6 col6\" >1</td>\n",
       "                        <td id=\"T_d5f91cf4_fe76_11e9_b14a_8086f2d65785row6_col7\" class=\"data row6 col7\" >-0.07</td>\n",
       "                        <td id=\"T_d5f91cf4_fe76_11e9_b14a_8086f2d65785row6_col8\" class=\"data row6 col8\" >0.17</td>\n",
       "            </tr>\n",
       "            <tr>\n",
       "                        <th id=\"T_d5f91cf4_fe76_11e9_b14a_8086f2d65785level0_row7\" class=\"row_heading level0 row7\" >cont_rating</th>\n",
       "                        <td id=\"T_d5f91cf4_fe76_11e9_b14a_8086f2d65785row7_col0\" class=\"data row7 col0\" >0.14</td>\n",
       "                        <td id=\"T_d5f91cf4_fe76_11e9_b14a_8086f2d65785row7_col1\" class=\"data row7 col1\" >-0.03</td>\n",
       "                        <td id=\"T_d5f91cf4_fe76_11e9_b14a_8086f2d65785row7_col2\" class=\"data row7 col2\" >0.0091</td>\n",
       "                        <td id=\"T_d5f91cf4_fe76_11e9_b14a_8086f2d65785row7_col3\" class=\"data row7 col3\" >0.0014</td>\n",
       "                        <td id=\"T_d5f91cf4_fe76_11e9_b14a_8086f2d65785row7_col4\" class=\"data row7 col4\" >0.02</td>\n",
       "                        <td id=\"T_d5f91cf4_fe76_11e9_b14a_8086f2d65785row7_col5\" class=\"data row7 col5\" >-0.11</td>\n",
       "                        <td id=\"T_d5f91cf4_fe76_11e9_b14a_8086f2d65785row7_col6\" class=\"data row7 col6\" >-0.07</td>\n",
       "                        <td id=\"T_d5f91cf4_fe76_11e9_b14a_8086f2d65785row7_col7\" class=\"data row7 col7\" >1</td>\n",
       "                        <td id=\"T_d5f91cf4_fe76_11e9_b14a_8086f2d65785row7_col8\" class=\"data row7 col8\" >-0.098</td>\n",
       "            </tr>\n",
       "            <tr>\n",
       "                        <th id=\"T_d5f91cf4_fe76_11e9_b14a_8086f2d65785level0_row8\" class=\"row_heading level0 row8\" >user_rating</th>\n",
       "                        <td id=\"T_d5f91cf4_fe76_11e9_b14a_8086f2d65785row8_col0\" class=\"data row8 col0\" >0.066</td>\n",
       "                        <td id=\"T_d5f91cf4_fe76_11e9_b14a_8086f2d65785row8_col1\" class=\"data row8 col1\" >0.047</td>\n",
       "                        <td id=\"T_d5f91cf4_fe76_11e9_b14a_8086f2d65785row8_col2\" class=\"data row8 col2\" >0.083</td>\n",
       "                        <td id=\"T_d5f91cf4_fe76_11e9_b14a_8086f2d65785row8_col3\" class=\"data row8 col3\" >0.069</td>\n",
       "                        <td id=\"T_d5f91cf4_fe76_11e9_b14a_8086f2d65785row8_col4\" class=\"data row8 col4\" >-0.042</td>\n",
       "                        <td id=\"T_d5f91cf4_fe76_11e9_b14a_8086f2d65785row8_col5\" class=\"data row8 col5\" >0.27</td>\n",
       "                        <td id=\"T_d5f91cf4_fe76_11e9_b14a_8086f2d65785row8_col6\" class=\"data row8 col6\" >0.17</td>\n",
       "                        <td id=\"T_d5f91cf4_fe76_11e9_b14a_8086f2d65785row8_col7\" class=\"data row8 col7\" >-0.098</td>\n",
       "                        <td id=\"T_d5f91cf4_fe76_11e9_b14a_8086f2d65785row8_col8\" class=\"data row8 col8\" >1</td>\n",
       "            </tr>\n",
       "    </tbody></table>"
      ],
      "text/plain": [
       "<pandas.io.formats.style.Styler at 0x29750cf1a20>"
      ]
     },
     "execution_count": 10,
     "metadata": {},
     "output_type": "execute_result"
    }
   ],
   "source": [
    "data.corr().style.background_gradient(cmap='coolwarm').set_precision(2)"
   ]
  },
  {
   "cell_type": "markdown",
   "metadata": {
    "colab_type": "text",
    "id": "zemTQhvUuZW-"
   },
   "source": [
    "И двойные графики"
   ]
  },
  {
   "cell_type": "code",
   "execution_count": 0,
   "metadata": {
    "colab": {},
    "colab_type": "code",
    "id": "K8DUqnYVuZW_",
    "outputId": "74eff48f-48cb-4884-f081-be842a2014ba"
   },
   "outputs": [
    {
     "data": {
      "image/png": "[encoded data removed]",
      "text/plain": [
       "<Figure size 1080x1080 with 81 Axes>"
      ]
     },
     "metadata": {
      "needs_background": "light",
      "tags": []
     },
     "output_type": "display_data"
    }
   ],
   "source": [
    "pd.plotting.scatter_matrix(data, c=data[target_col], figsize=(15, 15), marker='o',\n",
    "                        hist_kwds={'bins': 20}, s=10, alpha=.8)\n",
    "None"
   ]
  },
  {
   "cell_type": "markdown",
   "metadata": {
    "colab_type": "text",
    "id": "9QrGUlSmuZXE"
   },
   "source": [
    "**Упражнение**: Мы только что посмотрели на данные, какой из посмотренных графиков говорит, что мы вряд ли сможем сделать хорошую модель?\n",
    "> Ответ:"
   ]
  },
  {
   "cell_type": "markdown",
   "metadata": {
    "colab_type": "text",
    "id": "-AtTx0RuuZXG"
   },
   "source": [
    "В данном случае фичей мало, поэтому мы легко смогли посмотреть на них. Обычно фичей намного больше и построить такие графики для пар фичей не получится. Тогда в первую очередь можно посмотреть на корреляцию фичей с таргетом."
   ]
  },
  {
   "cell_type": "markdown",
   "metadata": {
    "colab_type": "text",
    "id": "svSpPtc2uZXH"
   },
   "source": [
    "# Подготовка данных\n",
    "\n",
    "### Очистка\n",
    "\n",
    "Данные достаточно чистые, в них вряд ли есть какие-то ошибки и не получается с первого взгляда найти выбросы (outliers). Поэтому и очищать особо нечего. Но в реальной жизни, ваши данные скорее всего будут полны мусора.\n",
    "\n",
    "Чаще всего нам пришлось бы убирать выбросы, исправлять очевидные ошибки итд.\n"
   ]
  },
  {
   "cell_type": "markdown",
   "metadata": {
    "colab_type": "text",
    "id": "wQDcleNIuZXI"
   },
   "source": [
    "### Создание фичей\n",
    "\n",
    "Чем сложнее зависимость между фичей и таргетом, тем более сложная модель потребуется, чтобы эту зависимость использовать. Почему бы просто не выбрать семейство самых гибких моделей? Проблема в том, что без большого количества данных для обучения будет происходить overfit. Это значит, что модель выучит зависимости, которые случайно появились в обучающих из-за ограниченного размера выборки. Такая модель будет хорошо работать на обучающей выборке, но будет плохо справляться с реальной задачей.\n",
    "\n",
    "Используя человеческие знания об устройстве мира, мы можем упростить такую зависимость, создав новые фичи. На самом деле, можно даже не использовать человеческие знания, а просто применить какой-нибудь алгоритм. Например, если у нас есть фичи $x_1, x_2, ..., x_n$, то мы можем добавить новые фичи вида \n",
    "$$x_{newij} = x_i x_j, i \\ne j$$\n",
    "и понадеяться, что это улучшит предсказания"
   ]
  },
  {
   "cell_type": "code",
   "execution_count": 11,
   "metadata": {
    "colab": {},
    "colab_type": "code",
    "id": "MU03G7DHuZXJ",
    "outputId": "7cf0db92-a544-4340-b711-f5460cba7b81",
    "scrolled": true
   },
   "outputs": [
    {
     "data": {
      "text/html": [
       "<div>\n",
       "<style scoped>\n",
       "    .dataframe tbody tr th:only-of-type {\n",
       "        vertical-align: middle;\n",
       "    }\n",
       "\n",
       "    .dataframe tbody tr th {\n",
       "        vertical-align: top;\n",
       "    }\n",
       "\n",
       "    .dataframe thead th {\n",
       "        text-align: right;\n",
       "    }\n",
       "</style>\n",
       "<table border=\"1\" class=\"dataframe\">\n",
       "  <thead>\n",
       "    <tr style=\"text-align: right;\">\n",
       "      <th></th>\n",
       "      <th>size_bytes</th>\n",
       "      <th>price</th>\n",
       "      <th>rating_count_tot</th>\n",
       "      <th>rating_count_ver</th>\n",
       "      <th>sup_devices.num</th>\n",
       "      <th>ipadSc_urls.num</th>\n",
       "      <th>lang.num</th>\n",
       "      <th>cont_rating</th>\n",
       "      <th>prime_genre</th>\n",
       "      <th>user_rating</th>\n",
       "      <th>is_free</th>\n",
       "    </tr>\n",
       "  </thead>\n",
       "  <tbody>\n",
       "    <tr>\n",
       "      <th>0</th>\n",
       "      <td>100788224</td>\n",
       "      <td>3.99</td>\n",
       "      <td>21292</td>\n",
       "      <td>26</td>\n",
       "      <td>38</td>\n",
       "      <td>5</td>\n",
       "      <td>10</td>\n",
       "      <td>4</td>\n",
       "      <td>Games</td>\n",
       "      <td>4.0</td>\n",
       "      <td>False</td>\n",
       "    </tr>\n",
       "    <tr>\n",
       "      <th>1</th>\n",
       "      <td>158578688</td>\n",
       "      <td>0.00</td>\n",
       "      <td>161065</td>\n",
       "      <td>26</td>\n",
       "      <td>37</td>\n",
       "      <td>5</td>\n",
       "      <td>23</td>\n",
       "      <td>4</td>\n",
       "      <td>Productivity</td>\n",
       "      <td>4.0</td>\n",
       "      <td>True</td>\n",
       "    </tr>\n",
       "    <tr>\n",
       "      <th>2</th>\n",
       "      <td>100524032</td>\n",
       "      <td>0.00</td>\n",
       "      <td>188583</td>\n",
       "      <td>2822</td>\n",
       "      <td>37</td>\n",
       "      <td>5</td>\n",
       "      <td>3</td>\n",
       "      <td>4</td>\n",
       "      <td>Weather</td>\n",
       "      <td>3.5</td>\n",
       "      <td>True</td>\n",
       "    </tr>\n",
       "    <tr>\n",
       "      <th>3</th>\n",
       "      <td>128512000</td>\n",
       "      <td>0.00</td>\n",
       "      <td>262241</td>\n",
       "      <td>649</td>\n",
       "      <td>37</td>\n",
       "      <td>5</td>\n",
       "      <td>9</td>\n",
       "      <td>12</td>\n",
       "      <td>Shopping</td>\n",
       "      <td>4.0</td>\n",
       "      <td>True</td>\n",
       "    </tr>\n",
       "    <tr>\n",
       "      <th>4</th>\n",
       "      <td>92774400</td>\n",
       "      <td>0.00</td>\n",
       "      <td>985920</td>\n",
       "      <td>5320</td>\n",
       "      <td>37</td>\n",
       "      <td>5</td>\n",
       "      <td>45</td>\n",
       "      <td>4</td>\n",
       "      <td>Reference</td>\n",
       "      <td>4.5</td>\n",
       "      <td>True</td>\n",
       "    </tr>\n",
       "  </tbody>\n",
       "</table>\n",
       "</div>"
      ],
      "text/plain": [
       "   size_bytes  price  rating_count_tot  rating_count_ver  sup_devices.num  \\\n",
       "0   100788224   3.99             21292                26               38   \n",
       "1   158578688   0.00            161065                26               37   \n",
       "2   100524032   0.00            188583              2822               37   \n",
       "3   128512000   0.00            262241               649               37   \n",
       "4    92774400   0.00            985920              5320               37   \n",
       "\n",
       "   ipadSc_urls.num  lang.num  cont_rating   prime_genre  user_rating  is_free  \n",
       "0                5        10            4         Games          4.0    False  \n",
       "1                5        23            4  Productivity          4.0     True  \n",
       "2                5         3            4       Weather          3.5     True  \n",
       "3                5         9           12      Shopping          4.0     True  \n",
       "4                5        45            4     Reference          4.5     True  "
      ]
     },
     "execution_count": 11,
     "metadata": {},
     "output_type": "execute_result"
    }
   ],
   "source": [
    "# Добавим категориальную фичу, которая говорит, бесплатное приложение или нет\n",
    "data['is_free'] = data['price'] == 0\n",
    "cat_cols.append('is_free')\n",
    "data.head()"
   ]
  },
  {
   "cell_type": "markdown",
   "metadata": {
    "colab_type": "text",
    "id": "B9gNvZbNuZXL"
   },
   "source": [
    "### Работа с категориальными фичами\n",
    "\n",
    "Большинство алгоритмов не принимает категориальные фичи в чистом виде и нужно из как-то закодировать.\n",
    "\n",
    "Из популярных алгоритмов с категориальными фичами умеет работать Градиентный Бустинг. У этого алгоритма есть много реализаций и среди известных мне реализаций с категориальными фичами в виде строк/булевых значений/etc умеет работать только catboost (библиотека от Яндекса, реализующая градиентный бустинг). Для xgboost и lightgbm же категориальные фичи нужно превратить в числа. Градиентный бустинг в sklearn вообще не умеет по-особенному обрабатывать категориальные фичи и их нужно кодировать как и для других алгоритмов."
   ]
  },
  {
   "cell_type": "markdown",
   "metadata": {
    "colab_type": "text",
    "id": "J-iuN2_MuZXL"
   },
   "source": [
    "#### Label Encoding\n",
    "\n",
    "Давайте посмотрим, как "
   ]
  },
  {
   "cell_type": "markdown",
   "metadata": {
    "colab_type": "text",
    "id": "L-HWGi9_uZXM"
   },
   "source": [
    "#### One-hot-encoding\n",
    "Самый простой способ закодировать категориальные фичи - one hot encoding. Представьте, что у нас есть категориальная фича prime_genre с возможными значениями \n",
    "> ['Games', 'Entertainment', 'Education', 'Photo & Video']\n",
    "\n",
    "мы можем создать 4 новые бинарные фичи для каждого из столбцов\n",
    "\n",
    "> 'Entertaiment' -> [0, 1, 0, 0]\n",
    "\n",
    "В pandas очень удобно использовать get_dummies для one-hot-encoding"
   ]
  },
  {
   "cell_type": "code",
   "execution_count": 0,
   "metadata": {
    "colab": {},
    "colab_type": "code",
    "id": "aVqqG9Y_uZXN",
    "outputId": "8f487e14-7e2a-48d4-d7b6-7438ec5b0973"
   },
   "outputs": [
    {
     "data": {
      "text/html": [
       "<div>\n",
       "<style scoped>\n",
       "    .dataframe tbody tr th:only-of-type {\n",
       "        vertical-align: middle;\n",
       "    }\n",
       "\n",
       "    .dataframe tbody tr th {\n",
       "        vertical-align: top;\n",
       "    }\n",
       "\n",
       "    .dataframe thead th {\n",
       "        text-align: right;\n",
       "    }\n",
       "</style>\n",
       "<table border=\"1\" class=\"dataframe\">\n",
       "  <thead>\n",
       "    <tr style=\"text-align: right;\">\n",
       "      <th></th>\n",
       "      <th>categorical</th>\n",
       "    </tr>\n",
       "  </thead>\n",
       "  <tbody>\n",
       "    <tr>\n",
       "      <td>0</td>\n",
       "      <td>a</td>\n",
       "    </tr>\n",
       "    <tr>\n",
       "      <td>1</td>\n",
       "      <td>b</td>\n",
       "    </tr>\n",
       "    <tr>\n",
       "      <td>2</td>\n",
       "      <td>a</td>\n",
       "    </tr>\n",
       "    <tr>\n",
       "      <td>3</td>\n",
       "      <td>c</td>\n",
       "    </tr>\n",
       "  </tbody>\n",
       "</table>\n",
       "</div>"
      ],
      "text/plain": [
       "  categorical\n",
       "0           a\n",
       "1           b\n",
       "2           a\n",
       "3           c"
      ]
     },
     "execution_count": 19,
     "metadata": {
      "tags": []
     },
     "output_type": "execute_result"
    }
   ],
   "source": [
    "a = pd.DataFrame.from_dict({'categorical': ['a', 'b', 'a', 'c']})\n",
    "a"
   ]
  },
  {
   "cell_type": "code",
   "execution_count": 0,
   "metadata": {
    "colab": {},
    "colab_type": "code",
    "id": "JsSGeNqVuZXQ",
    "outputId": "12d825db-3aaa-401f-f231-847f5da492a1"
   },
   "outputs": [
    {
     "data": {
      "text/html": [
       "<div>\n",
       "<style scoped>\n",
       "    .dataframe tbody tr th:only-of-type {\n",
       "        vertical-align: middle;\n",
       "    }\n",
       "\n",
       "    .dataframe tbody tr th {\n",
       "        vertical-align: top;\n",
       "    }\n",
       "\n",
       "    .dataframe thead th {\n",
       "        text-align: right;\n",
       "    }\n",
       "</style>\n",
       "<table border=\"1\" class=\"dataframe\">\n",
       "  <thead>\n",
       "    <tr style=\"text-align: right;\">\n",
       "      <th></th>\n",
       "      <th>categorical_a</th>\n",
       "      <th>categorical_b</th>\n",
       "      <th>categorical_c</th>\n",
       "    </tr>\n",
       "  </thead>\n",
       "  <tbody>\n",
       "    <tr>\n",
       "      <td>0</td>\n",
       "      <td>1</td>\n",
       "      <td>0</td>\n",
       "      <td>0</td>\n",
       "    </tr>\n",
       "    <tr>\n",
       "      <td>1</td>\n",
       "      <td>0</td>\n",
       "      <td>1</td>\n",
       "      <td>0</td>\n",
       "    </tr>\n",
       "    <tr>\n",
       "      <td>2</td>\n",
       "      <td>1</td>\n",
       "      <td>0</td>\n",
       "      <td>0</td>\n",
       "    </tr>\n",
       "    <tr>\n",
       "      <td>3</td>\n",
       "      <td>0</td>\n",
       "      <td>0</td>\n",
       "      <td>1</td>\n",
       "    </tr>\n",
       "  </tbody>\n",
       "</table>\n",
       "</div>"
      ],
      "text/plain": [
       "   categorical_a  categorical_b  categorical_c\n",
       "0              1              0              0\n",
       "1              0              1              0\n",
       "2              1              0              0\n",
       "3              0              0              1"
      ]
     },
     "execution_count": 20,
     "metadata": {
      "tags": []
     },
     "output_type": "execute_result"
    }
   ],
   "source": [
    "pd.get_dummies(a)"
   ]
  },
  {
   "cell_type": "code",
   "execution_count": 12,
   "metadata": {
    "colab": {},
    "colab_type": "code",
    "id": "9WhGBLpxuZXS",
    "outputId": "f3e856d7-722f-49c1-958a-7af2da92940c"
   },
   "outputs": [
    {
     "data": {
      "text/html": [
       "<div>\n",
       "<style scoped>\n",
       "    .dataframe tbody tr th:only-of-type {\n",
       "        vertical-align: middle;\n",
       "    }\n",
       "\n",
       "    .dataframe tbody tr th {\n",
       "        vertical-align: top;\n",
       "    }\n",
       "\n",
       "    .dataframe thead th {\n",
       "        text-align: right;\n",
       "    }\n",
       "</style>\n",
       "<table border=\"1\" class=\"dataframe\">\n",
       "  <thead>\n",
       "    <tr style=\"text-align: right;\">\n",
       "      <th></th>\n",
       "      <th>size_bytes</th>\n",
       "      <th>price</th>\n",
       "      <th>rating_count_tot</th>\n",
       "      <th>rating_count_ver</th>\n",
       "      <th>sup_devices.num</th>\n",
       "      <th>ipadSc_urls.num</th>\n",
       "      <th>lang.num</th>\n",
       "      <th>cont_rating</th>\n",
       "      <th>user_rating</th>\n",
       "      <th>prime_genre_Book</th>\n",
       "      <th>...</th>\n",
       "      <th>prime_genre_Productivity</th>\n",
       "      <th>prime_genre_Reference</th>\n",
       "      <th>prime_genre_Shopping</th>\n",
       "      <th>prime_genre_Social Networking</th>\n",
       "      <th>prime_genre_Sports</th>\n",
       "      <th>prime_genre_Travel</th>\n",
       "      <th>prime_genre_Utilities</th>\n",
       "      <th>prime_genre_Weather</th>\n",
       "      <th>is_free_False</th>\n",
       "      <th>is_free_True</th>\n",
       "    </tr>\n",
       "  </thead>\n",
       "  <tbody>\n",
       "    <tr>\n",
       "      <th>0</th>\n",
       "      <td>100788224</td>\n",
       "      <td>3.99</td>\n",
       "      <td>21292</td>\n",
       "      <td>26</td>\n",
       "      <td>38</td>\n",
       "      <td>5</td>\n",
       "      <td>10</td>\n",
       "      <td>4</td>\n",
       "      <td>4.0</td>\n",
       "      <td>0</td>\n",
       "      <td>...</td>\n",
       "      <td>0</td>\n",
       "      <td>0</td>\n",
       "      <td>0</td>\n",
       "      <td>0</td>\n",
       "      <td>0</td>\n",
       "      <td>0</td>\n",
       "      <td>0</td>\n",
       "      <td>0</td>\n",
       "      <td>1</td>\n",
       "      <td>0</td>\n",
       "    </tr>\n",
       "    <tr>\n",
       "      <th>1</th>\n",
       "      <td>158578688</td>\n",
       "      <td>0.00</td>\n",
       "      <td>161065</td>\n",
       "      <td>26</td>\n",
       "      <td>37</td>\n",
       "      <td>5</td>\n",
       "      <td>23</td>\n",
       "      <td>4</td>\n",
       "      <td>4.0</td>\n",
       "      <td>0</td>\n",
       "      <td>...</td>\n",
       "      <td>1</td>\n",
       "      <td>0</td>\n",
       "      <td>0</td>\n",
       "      <td>0</td>\n",
       "      <td>0</td>\n",
       "      <td>0</td>\n",
       "      <td>0</td>\n",
       "      <td>0</td>\n",
       "      <td>0</td>\n",
       "      <td>1</td>\n",
       "    </tr>\n",
       "    <tr>\n",
       "      <th>2</th>\n",
       "      <td>100524032</td>\n",
       "      <td>0.00</td>\n",
       "      <td>188583</td>\n",
       "      <td>2822</td>\n",
       "      <td>37</td>\n",
       "      <td>5</td>\n",
       "      <td>3</td>\n",
       "      <td>4</td>\n",
       "      <td>3.5</td>\n",
       "      <td>0</td>\n",
       "      <td>...</td>\n",
       "      <td>0</td>\n",
       "      <td>0</td>\n",
       "      <td>0</td>\n",
       "      <td>0</td>\n",
       "      <td>0</td>\n",
       "      <td>0</td>\n",
       "      <td>0</td>\n",
       "      <td>1</td>\n",
       "      <td>0</td>\n",
       "      <td>1</td>\n",
       "    </tr>\n",
       "    <tr>\n",
       "      <th>3</th>\n",
       "      <td>128512000</td>\n",
       "      <td>0.00</td>\n",
       "      <td>262241</td>\n",
       "      <td>649</td>\n",
       "      <td>37</td>\n",
       "      <td>5</td>\n",
       "      <td>9</td>\n",
       "      <td>12</td>\n",
       "      <td>4.0</td>\n",
       "      <td>0</td>\n",
       "      <td>...</td>\n",
       "      <td>0</td>\n",
       "      <td>0</td>\n",
       "      <td>1</td>\n",
       "      <td>0</td>\n",
       "      <td>0</td>\n",
       "      <td>0</td>\n",
       "      <td>0</td>\n",
       "      <td>0</td>\n",
       "      <td>0</td>\n",
       "      <td>1</td>\n",
       "    </tr>\n",
       "    <tr>\n",
       "      <th>4</th>\n",
       "      <td>92774400</td>\n",
       "      <td>0.00</td>\n",
       "      <td>985920</td>\n",
       "      <td>5320</td>\n",
       "      <td>37</td>\n",
       "      <td>5</td>\n",
       "      <td>45</td>\n",
       "      <td>4</td>\n",
       "      <td>4.5</td>\n",
       "      <td>0</td>\n",
       "      <td>...</td>\n",
       "      <td>0</td>\n",
       "      <td>1</td>\n",
       "      <td>0</td>\n",
       "      <td>0</td>\n",
       "      <td>0</td>\n",
       "      <td>0</td>\n",
       "      <td>0</td>\n",
       "      <td>0</td>\n",
       "      <td>0</td>\n",
       "      <td>1</td>\n",
       "    </tr>\n",
       "  </tbody>\n",
       "</table>\n",
       "<p>5 rows × 34 columns</p>\n",
       "</div>"
      ],
      "text/plain": [
       "   size_bytes  price  rating_count_tot  rating_count_ver  sup_devices.num  \\\n",
       "0   100788224   3.99             21292                26               38   \n",
       "1   158578688   0.00            161065                26               37   \n",
       "2   100524032   0.00            188583              2822               37   \n",
       "3   128512000   0.00            262241               649               37   \n",
       "4    92774400   0.00            985920              5320               37   \n",
       "\n",
       "   ipadSc_urls.num  lang.num  cont_rating  user_rating  prime_genre_Book  ...  \\\n",
       "0                5        10            4          4.0                 0  ...   \n",
       "1                5        23            4          4.0                 0  ...   \n",
       "2                5         3            4          3.5                 0  ...   \n",
       "3                5         9           12          4.0                 0  ...   \n",
       "4                5        45            4          4.5                 0  ...   \n",
       "\n",
       "   prime_genre_Productivity  prime_genre_Reference  prime_genre_Shopping  \\\n",
       "0                         0                      0                     0   \n",
       "1                         1                      0                     0   \n",
       "2                         0                      0                     0   \n",
       "3                         0                      0                     1   \n",
       "4                         0                      1                     0   \n",
       "\n",
       "   prime_genre_Social Networking  prime_genre_Sports  prime_genre_Travel  \\\n",
       "0                              0                   0                   0   \n",
       "1                              0                   0                   0   \n",
       "2                              0                   0                   0   \n",
       "3                              0                   0                   0   \n",
       "4                              0                   0                   0   \n",
       "\n",
       "   prime_genre_Utilities  prime_genre_Weather  is_free_False  is_free_True  \n",
       "0                      0                    0              1             0  \n",
       "1                      0                    0              0             1  \n",
       "2                      0                    1              0             1  \n",
       "3                      0                    0              0             1  \n",
       "4                      0                    0              0             1  \n",
       "\n",
       "[5 rows x 34 columns]"
      ]
     },
     "execution_count": 12,
     "metadata": {},
     "output_type": "execute_result"
    }
   ],
   "source": [
    "# Задание: Теперь добавьте в датафрейм колонки для всех категориальных фичей и обновите список категориальных фичей\n",
    "\n",
    "data = pd.get_dummies(data, columns=cat_cols)\n",
    "data.head()"
   ]
  },
  {
   "cell_type": "code",
   "execution_count": 17,
   "metadata": {
    "colab": {},
    "colab_type": "code",
    "id": "LT8LM1k9uZXT"
   },
   "outputs": [],
   "source": [
    "cat_cols_new = []\n",
    "for col_name in cat_cols:\n",
    "    # print(col_name)\n",
    "    cat_cols_new.extend(filter(lambda x: x.startswith(col_name), data.columns))\n",
    "\n",
    "# print(cat_cols_new)\n",
    "cat_cols = cat_cols_new"
   ]
  },
  {
   "cell_type": "markdown",
   "metadata": {
    "colab_type": "text",
    "id": "ZMhxyaCkuZXV"
   },
   "source": [
    "### Уменьшение размерности\n",
    "\n",
    "Часто бывает ситуация, когда данные имеют слишком большую размерность, особенно после one-hot-encoding. В таком случае могут помочь алгоритмы для снижения размерности данных. Один из таких алгоритмов - PCA.\n",
    "\n",
    "<img src=\"https://s3.amazonaws.com/files.dezyre.com/images/Tutorials/Principal+Component+Analysis.jpg\">\n",
    "Source: https://www.dezyre.com/data-science-in-python-tutorial/principal-component-analysis-tutorial\n",
    "\n",
    "В этом алгоритме мы находим перпендикулярные направления, вдоль которых имеется наибольшая вариация данных (на картинке можно увидеть такие векторы), выбираем из таких направлений $k$ с самой большой вариацией и в качестве новых фичей берем проекции точек на эти направления."
   ]
  },
  {
   "cell_type": "markdown",
   "metadata": {
    "colab": {},
    "colab_type": "code",
    "id": "b2v8LUW0uZXW"
   },
   "source": [
    "##### from sklearn.decomposition import PCA\n",
    "\n",
    "pca = PCA(n_components=20)\n",
    "pca.fit(data[num_cols + cat_cols])\n",
    "# Выход pca - numpy матрица, положим ее в новую переменную со всеми фичами\n",
    "X = pca.transform(data[num_cols + cat_cols])\n",
    "\n",
    "# Или есть более простой способ \n",
    "X = pca.fit_transform(data[num_cols + cat_cols])"
   ]
  },
  {
   "cell_type": "markdown",
   "metadata": {
    "colab_type": "text",
    "id": "Mq8Yy98GuZXY"
   },
   "source": [
    "# Разделение на train/test\n",
    "\n",
    "После того, как мы обучили нашу модель нам нужно как-то понять, насколько она хорошо работает. Выше мы уже говорили про переобучение на данные, с которыми сеть обучалась. Из-за такого переобучения мы не сможем посчитать адекватно узнать точность предсказаний, если проверим точность на тех же данных, на которых обучались. Чтобы с этим бороться обучающую выборку обычно делят на две части train и test. На первой мы будем обучать модель, а на второй проверять, насколько хорошо модель работает. Размер тестовой выборки в 30-40% - неплохой выбор.\n",
    "\n",
    "Иногда данных слишком мало, чтобы жертвовать ими на тестовую часть. Тогда применяется метод, который называет cross validation. Мы посмотрим на то, как он работает в секции про оценку модели.\n",
    "\n",
    "**На самом деле, мы сделали не совсем правильно, потому что разделение на train/test нужно делать до добавления новых фичей/их кодирования итд. Иначе возможны лики из test части в train часть.** Например, при нормализации и PCA мы работаем со всем массивом данных, а значит информация из test попадет и в train. Но для упрощения кода и понимания того, что происходит мы не поделили выборку заранее. Если бы мы все-таки разделили выборку заранее, то нужно использовать fit на train части, а transform уже на обеих."
   ]
  },
  {
   "cell_type": "code",
   "execution_count": 18,
   "metadata": {
    "colab": {},
    "colab_type": "code",
    "id": "19g_pY3iuZXZ"
   },
   "outputs": [],
   "source": [
    "from sklearn.model_selection import train_test_split"
   ]
  },
  {
   "cell_type": "markdown",
   "metadata": {
    "colab_type": "text",
    "id": "uzYsZCT-vuWZ"
   },
   "source": []
  },
  {
   "cell_type": "code",
   "execution_count": 20,
   "metadata": {
    "colab": {},
    "colab_type": "code",
    "id": "hB7mg326uZXb"
   },
   "outputs": [
    {
     "ename": "NameError",
     "evalue": "name 'X' is not defined",
     "output_type": "error",
     "traceback": [
      "\u001b[1;31m---------------------------------------------------------------------------\u001b[0m",
      "\u001b[1;31mNameError\u001b[0m                                 Traceback (most recent call last)",
      "\u001b[1;32m<ipython-input-20-7518bbd1ec9e>\u001b[0m in \u001b[0;36m<module>\u001b[1;34m\u001b[0m\n\u001b[0;32m      1\u001b[0m \u001b[1;31m# Задание: Загуглите как работает эта функция и поделите выборку на две части\u001b[0m\u001b[1;33m\u001b[0m\u001b[1;33m\u001b[0m\u001b[1;33m\u001b[0m\u001b[0m\n\u001b[1;32m----> 2\u001b[1;33m \u001b[0mX_train\u001b[0m\u001b[1;33m,\u001b[0m \u001b[0mX_test\u001b[0m\u001b[1;33m,\u001b[0m \u001b[0my_train\u001b[0m\u001b[1;33m,\u001b[0m \u001b[0my_test\u001b[0m \u001b[1;33m=\u001b[0m \u001b[0mtrain_test_split\u001b[0m\u001b[1;33m(\u001b[0m\u001b[0mX\u001b[0m\u001b[1;33m,\u001b[0m \u001b[0mdata\u001b[0m\u001b[1;33m[\u001b[0m\u001b[0mtarget_col\u001b[0m\u001b[1;33m]\u001b[0m\u001b[1;33m,\u001b[0m \u001b[0mtest_size\u001b[0m\u001b[1;33m=\u001b[0m\u001b[1;36m0.3\u001b[0m\u001b[1;33m)\u001b[0m\u001b[1;33m\u001b[0m\u001b[1;33m\u001b[0m\u001b[0m\n\u001b[0m\u001b[0;32m      3\u001b[0m \u001b[0mprint\u001b[0m\u001b[1;33m(\u001b[0m\u001b[0mX_train\u001b[0m\u001b[1;33m.\u001b[0m\u001b[0mshape\u001b[0m\u001b[1;33m,\u001b[0m \u001b[0my_train\u001b[0m\u001b[1;33m.\u001b[0m\u001b[0mshape\u001b[0m\u001b[1;33m)\u001b[0m\u001b[1;33m\u001b[0m\u001b[1;33m\u001b[0m\u001b[0m\n\u001b[0;32m      4\u001b[0m \u001b[0mprint\u001b[0m\u001b[1;33m(\u001b[0m\u001b[0mX_test\u001b[0m\u001b[1;33m.\u001b[0m\u001b[0mshape\u001b[0m\u001b[1;33m,\u001b[0m \u001b[0my_test\u001b[0m\u001b[1;33m.\u001b[0m\u001b[0mshape\u001b[0m\u001b[1;33m)\u001b[0m\u001b[1;33m\u001b[0m\u001b[1;33m\u001b[0m\u001b[0m\n",
      "\u001b[1;31mNameError\u001b[0m: name 'X' is not defined"
     ]
    }
   ],
   "source": [
    "# Задание: Загуглите как работает эта функция и поделите выборку на две части\n",
    "X_train, X_test, y_train, y_test = train_test_split(X, data[target_col], test_size=0.3)\n",
    "print(X_train.shape, y_train.shape)\n",
    "print(X_test.shape, y_test.shape)"
   ]
  },
  {
   "cell_type": "markdown",
   "metadata": {
    "colab_type": "text",
    "id": "0L93NYo-uZXd"
   },
   "source": [
    "Хорошо, теперь можно обучить модели"
   ]
  },
  {
   "cell_type": "markdown",
   "metadata": {
    "colab_type": "text",
    "id": "xL1lZIYQuZXe"
   },
   "source": [
    "# Обучение\n",
    "\n",
    "Самый хороший способ - попробовать максимум разных алгоритмов, посмотреть, какой из них лучше справляется и уже по метрикам выбрать лучший (возможно, объединить предсказания с помощью стэкинга или блендинга, о которых будет на следующем занятии)."
   ]
  },
  {
   "cell_type": "code",
   "execution_count": 0,
   "metadata": {
    "colab": {},
    "colab_type": "code",
    "id": "nyyMDk2wuZXe"
   },
   "outputs": [],
   "source": [
    "from sklearn.linear_model import LinearRegression, Ridge\n",
    "from sklearn.ensemble import GradientBoostingRegressor, RandomForestRegressor\n",
    "from sklearn.metrics import r2_score, mean_squared_error"
   ]
  },
  {
   "cell_type": "markdown",
   "metadata": {
    "colab_type": "text",
    "id": "X2LVv8MyuZXh"
   },
   "source": [
    "Наш курс про нейронные сети, поэтому мы не будем фокусироваться на алгоритмах, которые здесь представлены. Все, что нужно знать Ridge - линейная регрессия с регуляризацией. GradientBoosting и RandmForest - алгоритмы, основанные на том, что у нас есть много решающих деревьев, результаты которых потом аггрегируются, чтобы получить финальное предсказание. Как выглядит решающее дерево:\n",
    "<img src=\"https://46gyn61z4i0t1u1pnq2bbk2e-wpengine.netdna-ssl.com/wp-content/uploads/2018/07/what-is-a-decision-tree.png\">\n",
    "Source: https://www.displayr.com/what-is-a-decision-tree/"
   ]
  },
  {
   "cell_type": "markdown",
   "metadata": {
    "colab_type": "text",
    "id": "mZMaSIT3uZXi"
   },
   "source": [
    "Лучше поговорим про метрики. В данном случае у нас задача регрессии, поэтому мы используем две метрики MSE и R_squared. \n",
    "\n",
    "$$R^2 = 1 - \\frac{\\sum_{i=1}^{n} (y^i - y_{pred}^i)^2}{\\sum_{i=1}^{n} (y^i - y_{mean})^2}$$\n",
    "\n",
    "Другими словами, это доля объясненной вариации. Максимальное значение = 1, когда у нас есть идеальный предсказатель. Значение меньше 0 означает, что наша модель хуже, чем константая модель, которая выдает просто среднее по таргету."
   ]
  },
  {
   "cell_type": "code",
   "execution_count": 0,
   "metadata": {
    "colab": {},
    "colab_type": "code",
    "id": "PFU8tDDhuZXj"
   },
   "outputs": [],
   "source": [
    "def print_metrics(y_preds, y):\n",
    "    print(f'R^2: {r2_score(y_preds, y)}')\n",
    "    print(f'MSE: {mean_squared_error(y_preds, y)}')"
   ]
  },
  {
   "cell_type": "code",
   "execution_count": 0,
   "metadata": {
    "colab": {},
    "colab_type": "code",
    "id": "ab5K_nRfuZXl",
    "outputId": "934de412-4be6-4b3c-ff9d-3e3ff795f0e1"
   },
   "outputs": [
    {
     "name": "stdout",
     "output_type": "stream",
     "text": [
      "R^2: -6.326774575851654\n",
      "MSE: 2.085552524748136\n"
     ]
    }
   ],
   "source": [
    "# Используем обычную линейную регрессию, минимизирующую сумму квадратов ошибки\n",
    "lr = LinearRegression()\n",
    "lr.fit(X_train, y_train)\n",
    "\n",
    "print_metrics(lr.predict(X_test), y_test)"
   ]
  },
  {
   "cell_type": "code",
   "execution_count": 0,
   "metadata": {
    "colab": {},
    "colab_type": "code",
    "id": "6Aa0TuSuuZXn",
    "outputId": "28d3eb8c-abd7-45d9-d124-493554a092e7"
   },
   "outputs": [
    {
     "name": "stdout",
     "output_type": "stream",
     "text": [
      "R^2: -6.346126349356133\n",
      "MSE: 2.0855089153965825\n"
     ]
    },
    {
     "name": "stderr",
     "output_type": "stream",
     "text": [
      "/home/alexander/Workspace/dlschool/env/lib/python3.6/site-packages/sklearn/linear_model/ridge.py:147: LinAlgWarning: Ill-conditioned matrix (rcond=1.14081e-19): result may not be accurate.\n",
      "  overwrite_a=True).T\n"
     ]
    }
   ],
   "source": [
    "# Используем линейную регрессию с регуляризацией - в Loss добавляется сумма квадратов коэффициентов, умноженная\n",
    "# на некоторый коэффициент. Это позволяет бороться с тем, что колонки в данных могут быть линейно зависимы\n",
    "# А они у нас почти навреняка линейно зависимы из-за one hot encdoing\n",
    "rlr = Ridge(alpha=1)\n",
    "rlr.fit(X_train, y_train)\n",
    "\n",
    "print_metrics(rlr.predict(X_test), y_test)"
   ]
  },
  {
   "cell_type": "code",
   "execution_count": 0,
   "metadata": {
    "colab": {},
    "colab_type": "code",
    "id": "ih1d1dMauZXq",
    "outputId": "1f923e09-adfe-489c-e543-f78d3dab6b1b"
   },
   "outputs": [
    {
     "name": "stdout",
     "output_type": "stream",
     "text": [
      "R^2: 0.13230521759614222\n",
      "MSE: 1.0657806785468742\n"
     ]
    }
   ],
   "source": [
    "gbr = GradientBoostingRegressor()\n",
    "gbr.fit(X_train, y_train)\n",
    "\n",
    "print_metrics(gbr.predict(X_test), y_test)"
   ]
  },
  {
   "cell_type": "code",
   "execution_count": 0,
   "metadata": {
    "colab": {},
    "colab_type": "code",
    "id": "BbwPqNbNuZXr",
    "outputId": "d3422170-5380-4fc3-f9df-62eae8bb37dc"
   },
   "outputs": [
    {
     "name": "stderr",
     "output_type": "stream",
     "text": [
      "/home/alexander/Workspace/dlschool/env/lib/python3.6/site-packages/sklearn/ensemble/forest.py:245: FutureWarning: The default value of n_estimators will change from 10 in version 0.20 to 100 in 0.22.\n",
      "  \"10 in version 0.20 to 100 in 0.22.\", FutureWarning)\n"
     ]
    },
    {
     "name": "stdout",
     "output_type": "stream",
     "text": [
      "R^2: 0.4247623347060241\n",
      "MSE: 0.9305532407407408\n"
     ]
    }
   ],
   "source": [
    "rfr = RandomForestRegressor()\n",
    "rfr.fit(X_train, y_train)\n",
    "\n",
    "print_metrics(rfr.predict(X_test), y_test)"
   ]
  },
  {
   "cell_type": "markdown",
   "metadata": {
    "colab_type": "text",
    "id": "p_zZWoHDuZXt"
   },
   "source": [
    "Как видим, методы, основанные на линейной регрессии дали результаты хуже, чем предсказание константы, а вот методы, основанные на лесах уже сработали лучше. \n",
    "\n",
    "**Задание:** поиграйтесь с гиперпараметрами и улучшите предсказания моделей."
   ]
  },
  {
   "cell_type": "markdown",
   "metadata": {
    "colab_type": "text",
    "id": "dVY22XanuZXt"
   },
   "source": [
    "# Cross Validation\n",
    "\n",
    "До этого мы разбирали случай, когда выбоорка заранее делится на train/test, но часто данных итак не хватает и отдавать их часть на test слишком расточительно. В такой ситуации на помощью приходит кросс валидация:\n",
    "1. Выберем $k$ - количество частей, на которые разобьется наш датасет\n",
    "2. for $ i = 1..k$ \n",
    "    * Обучим модель на всех частях датасета, кроме i-ой.\n",
    "    * Посчитаем метрики или предсказания для i-ой части\n",
    "3. Усредним все метрики или предсказания.\n",
    "\n",
    "Таким образом мы сможем получить более объективные предсказания нашей модели, использовав весь датасет как train и как test, при этом не создав утечек данных.\n",
    "\n",
    "В sklearn существуют уже готовые классы моделей, которые за нас проводят все вышеописанные действия. Но у них есть один минус - выше мы уже писали, что лики могут произойти еще на этапе обработки данных. Избежать этого при ручной разбивке датасета легко, но в случае кросс валидации придется либо сдлеать специальный объект Pipeline, в котором будет скрыта вся обработка данных, и sklearn просто вызовет его $k$ раз, либо руками выбирать индексы объектов с помощью класса KFold и самостоятельно обрабатывать данные. Мы не будем делать ни то, ни другое, но покажем, как это может быть реализовано."
   ]
  },
  {
   "cell_type": "markdown",
   "metadata": {
    "colab_type": "text",
    "id": "wFzdxl9wuZXu"
   },
   "source": [
    "Получим из кроссвалидации метрики"
   ]
  },
  {
   "cell_type": "code",
   "execution_count": 0,
   "metadata": {
    "colab": {},
    "colab_type": "code",
    "id": "3Rg07vbuuZXu"
   },
   "outputs": [],
   "source": [
    "from sklearn.linear_model import LinearRegression, Ridge\n",
    "from sklearn.ensemble import GradientBoostingRegressor, RandomForestRegressor\n",
    "from sklearn.metrics import r2_score, mean_squared_error, make_scorer\n",
    "from sklearn.model_selection import cross_validate"
   ]
  },
  {
   "cell_type": "code",
   "execution_count": 0,
   "metadata": {
    "colab": {},
    "colab_type": "code",
    "id": "6anHOyEvuZXx",
    "outputId": "d788e39b-45fa-46ad-bcb2-eac0d7a5d072"
   },
   "outputs": [
    {
     "data": {
      "text/plain": [
       "{'fit_time': array([0.00655031, 0.00818133, 0.00521255, 0.00511026, 0.00480866]),\n",
       " 'score_time': array([0.00204539, 0.00696611, 0.01354742, 0.00122857, 0.0086472 ]),\n",
       " 'test_r2_score': array([-0.78789306,  0.07281248,  0.12093207,  0.10562781,  0.06601854]),\n",
       " 'test_mean_squared_error': array([1.62693785, 1.47707453, 1.92900728, 2.83114236, 2.94795492])}"
      ]
     },
     "execution_count": 36,
     "metadata": {
      "tags": []
     },
     "output_type": "execute_result"
    }
   ],
   "source": [
    "cross_validate(LinearRegression(), X, data[target_col], cv=5, \n",
    "               scoring={'r2_score': make_scorer(r2_score, ), \n",
    "                        'mean_squared_error': make_scorer(mean_squared_error)})"
   ]
  },
  {
   "cell_type": "code",
   "execution_count": 0,
   "metadata": {
    "colab": {},
    "colab_type": "code",
    "id": "Dv5Q2zijuZX3",
    "outputId": "cd283200-5c57-4863-8732-f4a7a08a8730"
   },
   "outputs": [
    {
     "name": "stderr",
     "output_type": "stream",
     "text": [
      "/home/alexander/Workspace/dlschool/env/lib/python3.6/site-packages/sklearn/linear_model/ridge.py:147: LinAlgWarning: Ill-conditioned matrix (rcond=7.30606e-20): result may not be accurate.\n",
      "  overwrite_a=True).T\n",
      "/home/alexander/Workspace/dlschool/env/lib/python3.6/site-packages/sklearn/linear_model/ridge.py:147: LinAlgWarning: Ill-conditioned matrix (rcond=1.28332e-19): result may not be accurate.\n",
      "  overwrite_a=True).T\n",
      "/home/alexander/Workspace/dlschool/env/lib/python3.6/site-packages/sklearn/linear_model/ridge.py:147: LinAlgWarning: Ill-conditioned matrix (rcond=1.37879e-19): result may not be accurate.\n",
      "  overwrite_a=True).T\n",
      "/home/alexander/Workspace/dlschool/env/lib/python3.6/site-packages/sklearn/linear_model/ridge.py:147: LinAlgWarning: Ill-conditioned matrix (rcond=1.22682e-19): result may not be accurate.\n",
      "  overwrite_a=True).T\n",
      "/home/alexander/Workspace/dlschool/env/lib/python3.6/site-packages/sklearn/linear_model/ridge.py:147: LinAlgWarning: Ill-conditioned matrix (rcond=1.33929e-19): result may not be accurate.\n",
      "  overwrite_a=True).T\n"
     ]
    },
    {
     "data": {
      "text/plain": [
       "{'fit_time': array([0.00626016, 0.00541329, 0.00465727, 0.00440025, 0.00400138]),\n",
       " 'score_time': array([0.00313258, 0.00196075, 0.00161028, 0.00151753, 0.00131607]),\n",
       " 'test_r2_score': array([-0.78749407,  0.07296471,  0.12100152,  0.10552624,  0.06600756]),\n",
       " 'test_mean_squared_error': array([1.62657477, 1.47683203, 1.92885488, 2.83146388, 2.94798956])}"
      ]
     },
     "execution_count": 37,
     "metadata": {
      "tags": []
     },
     "output_type": "execute_result"
    }
   ],
   "source": [
    "cross_validate(Ridge(), X, data[target_col], cv=5, \n",
    "               scoring={'r2_score': make_scorer(r2_score, ), \n",
    "                        'mean_squared_error': make_scorer(mean_squared_error)})"
   ]
  },
  {
   "cell_type": "code",
   "execution_count": 0,
   "metadata": {
    "colab": {},
    "colab_type": "code",
    "id": "3AtgR8qeuZX5",
    "outputId": "cb495a2d-68d0-4549-b107-fc6c28c979cb"
   },
   "outputs": [
    {
     "name": "stderr",
     "output_type": "stream",
     "text": [
      "/home/runfme/anaconda3/lib/python3.6/site-packages/sklearn/utils/deprecation.py:125: FutureWarning: You are accessing a training score ('train_r2_score'), which will not be available by default any more in 0.21. If you need training scores, please set return_train_score=True\n",
      "  warnings.warn(*warn_args, **warn_kwargs)\n",
      "/home/runfme/anaconda3/lib/python3.6/site-packages/sklearn/utils/deprecation.py:125: FutureWarning: You are accessing a training score ('train_mean_squared_error'), which will not be available by default any more in 0.21. If you need training scores, please set return_train_score=True\n",
      "  warnings.warn(*warn_args, **warn_kwargs)\n"
     ]
    },
    {
     "data": {
      "text/plain": [
       "{'fit_time': array([0.97817612, 1.00348306, 0.96615648, 0.98209   , 0.92284417]),\n",
       " 'score_time': array([0.00516725, 0.00561404, 0.00517249, 0.00589442, 0.0057044 ]),\n",
       " 'test_r2_score': array([0.26753455, 0.45145115, 0.52309582, 0.57126741, 0.53689265]),\n",
       " 'train_r2_score': array([0.62248412, 0.61612093, 0.61536563, 0.60742584, 0.62628517]),\n",
       " 'test_mean_squared_error': array([0.66652519, 0.87387666, 1.04650802, 1.35715646, 1.46172021]),\n",
       " 'train_mean_squared_error': array([0.98624882, 0.94185866, 0.89580792, 0.80483248, 0.76344258])}"
      ]
     },
     "execution_count": 227,
     "metadata": {
      "tags": []
     },
     "output_type": "execute_result"
    }
   ],
   "source": [
    "cross_validate(GradientBoostingRegressor(), X, y, cv=5, \n",
    "               scoring={'r2_score': make_scorer(r2_score, ), \n",
    "                        'mean_squared_error': make_scorer(mean_squared_error)})"
   ]
  },
  {
   "cell_type": "code",
   "execution_count": 0,
   "metadata": {
    "colab": {},
    "colab_type": "code",
    "id": "9m4080WluZX7",
    "outputId": "09c2c1d9-380b-43e6-c7af-3660a2e426b3"
   },
   "outputs": [
    {
     "name": "stderr",
     "output_type": "stream",
     "text": [
      "/home/alexander/Workspace/dlschool/env/lib/python3.6/site-packages/sklearn/ensemble/forest.py:245: FutureWarning: The default value of n_estimators will change from 10 in version 0.20 to 100 in 0.22.\n",
      "  \"10 in version 0.20 to 100 in 0.22.\", FutureWarning)\n",
      "/home/alexander/Workspace/dlschool/env/lib/python3.6/site-packages/sklearn/ensemble/forest.py:245: FutureWarning: The default value of n_estimators will change from 10 in version 0.20 to 100 in 0.22.\n",
      "  \"10 in version 0.20 to 100 in 0.22.\", FutureWarning)\n",
      "/home/alexander/Workspace/dlschool/env/lib/python3.6/site-packages/sklearn/ensemble/forest.py:245: FutureWarning: The default value of n_estimators will change from 10 in version 0.20 to 100 in 0.22.\n",
      "  \"10 in version 0.20 to 100 in 0.22.\", FutureWarning)\n",
      "/home/alexander/Workspace/dlschool/env/lib/python3.6/site-packages/sklearn/ensemble/forest.py:245: FutureWarning: The default value of n_estimators will change from 10 in version 0.20 to 100 in 0.22.\n",
      "  \"10 in version 0.20 to 100 in 0.22.\", FutureWarning)\n",
      "/home/alexander/Workspace/dlschool/env/lib/python3.6/site-packages/sklearn/ensemble/forest.py:245: FutureWarning: The default value of n_estimators will change from 10 in version 0.20 to 100 in 0.22.\n",
      "  \"10 in version 0.20 to 100 in 0.22.\", FutureWarning)\n"
     ]
    },
    {
     "data": {
      "text/plain": [
       "{'fit_time': array([0.71912861, 0.69125772, 0.72233605, 0.7345624 , 0.74056196]),\n",
       " 'score_time': array([0.00570607, 0.00616646, 0.00671077, 0.00615978, 0.00635767]),\n",
       " 'test_r2_score': array([0.32099396, 0.54621049, 0.59255677, 0.63868167, 0.60271838]),\n",
       " 'test_mean_squared_error': array([0.61787847, 0.7229184 , 0.89408443, 1.14375608, 1.2539524 ])}"
      ]
     },
     "execution_count": 38,
     "metadata": {
      "tags": []
     },
     "output_type": "execute_result"
    }
   ],
   "source": [
    "cross_validate(RandomForestRegressor(), X, data[target_col], cv=5, \n",
    "               scoring={'r2_score': make_scorer(r2_score, ), \n",
    "                        'mean_squared_error': make_scorer(mean_squared_error)})"
   ]
  },
  {
   "cell_type": "markdown",
   "metadata": {
    "colab_type": "text",
    "id": "4sRq4x4EuZX9"
   },
   "source": [
    "А еще с помощью кросс валидации можно искать гиперпараметры."
   ]
  },
  {
   "cell_type": "code",
   "execution_count": 0,
   "metadata": {
    "colab": {},
    "colab_type": "code",
    "id": "ZSSS-FfUuZX9"
   },
   "outputs": [],
   "source": [
    "from sklearn.model_selection import GridSearchCV"
   ]
  },
  {
   "cell_type": "code",
   "execution_count": 0,
   "metadata": {
    "colab": {},
    "colab_type": "code",
    "id": "TpTmS4nOuZX_",
    "outputId": "ebd9a088-5d59-4595-b52b-b3241cf5e722",
    "scrolled": true
   },
   "outputs": [
    {
     "name": "stdout",
     "output_type": "stream",
     "text": [
      "Fitting 5 folds for each of 12 candidates, totalling 60 fits\n",
      "[CV] learning_rate=0.01, n_estimators=100 ............................\n"
     ]
    },
    {
     "name": "stderr",
     "output_type": "stream",
     "text": [
      "[Parallel(n_jobs=1)]: Using backend SequentialBackend with 1 concurrent workers.\n"
     ]
    },
    {
     "name": "stdout",
     "output_type": "stream",
     "text": [
      "[CV]  learning_rate=0.01, n_estimators=100, score=0.375, total=   0.7s\n",
      "[CV] learning_rate=0.01, n_estimators=100 ............................\n"
     ]
    },
    {
     "name": "stderr",
     "output_type": "stream",
     "text": [
      "[Parallel(n_jobs=1)]: Done   1 out of   1 | elapsed:    0.7s remaining:    0.0s\n"
     ]
    },
    {
     "name": "stdout",
     "output_type": "stream",
     "text": [
      "[CV]  learning_rate=0.01, n_estimators=100, score=0.381, total=   0.7s\n",
      "[CV] learning_rate=0.01, n_estimators=100 ............................\n"
     ]
    },
    {
     "name": "stderr",
     "output_type": "stream",
     "text": [
      "[Parallel(n_jobs=1)]: Done   2 out of   2 | elapsed:    1.5s remaining:    0.0s\n"
     ]
    },
    {
     "name": "stdout",
     "output_type": "stream",
     "text": [
      "[CV]  learning_rate=0.01, n_estimators=100, score=0.371, total=   0.7s\n",
      "[CV] learning_rate=0.01, n_estimators=100 ............................\n"
     ]
    },
    {
     "name": "stderr",
     "output_type": "stream",
     "text": [
      "[Parallel(n_jobs=1)]: Done   3 out of   3 | elapsed:    2.2s remaining:    0.0s\n"
     ]
    },
    {
     "name": "stdout",
     "output_type": "stream",
     "text": [
      "[CV]  learning_rate=0.01, n_estimators=100, score=0.353, total=   0.7s\n",
      "[CV] learning_rate=0.01, n_estimators=100 ............................\n"
     ]
    },
    {
     "name": "stderr",
     "output_type": "stream",
     "text": [
      "[Parallel(n_jobs=1)]: Done   4 out of   4 | elapsed:    2.9s remaining:    0.0s\n"
     ]
    },
    {
     "name": "stdout",
     "output_type": "stream",
     "text": [
      "[CV]  learning_rate=0.01, n_estimators=100, score=0.402, total=   0.7s\n",
      "[CV] learning_rate=0.01, n_estimators=150 ............................\n"
     ]
    },
    {
     "name": "stderr",
     "output_type": "stream",
     "text": [
      "[Parallel(n_jobs=1)]: Done   5 out of   5 | elapsed:    3.7s remaining:    0.0s\n"
     ]
    },
    {
     "name": "stdout",
     "output_type": "stream",
     "text": [
      "[CV]  learning_rate=0.01, n_estimators=150, score=0.426, total=   1.0s\n",
      "[CV] learning_rate=0.01, n_estimators=150 ............................\n"
     ]
    },
    {
     "name": "stderr",
     "output_type": "stream",
     "text": [
      "[Parallel(n_jobs=1)]: Done   6 out of   6 | elapsed:    4.6s remaining:    0.0s\n"
     ]
    },
    {
     "name": "stdout",
     "output_type": "stream",
     "text": [
      "[CV]  learning_rate=0.01, n_estimators=150, score=0.436, total=   0.9s\n",
      "[CV] learning_rate=0.01, n_estimators=150 ............................\n"
     ]
    },
    {
     "name": "stderr",
     "output_type": "stream",
     "text": [
      "[Parallel(n_jobs=1)]: Done   7 out of   7 | elapsed:    5.6s remaining:    0.0s\n"
     ]
    },
    {
     "name": "stdout",
     "output_type": "stream",
     "text": [
      "[CV]  learning_rate=0.01, n_estimators=150, score=0.418, total=   1.0s\n",
      "[CV] learning_rate=0.01, n_estimators=150 ............................\n"
     ]
    },
    {
     "name": "stderr",
     "output_type": "stream",
     "text": [
      "[Parallel(n_jobs=1)]: Done   8 out of   8 | elapsed:    6.5s remaining:    0.0s\n"
     ]
    },
    {
     "name": "stdout",
     "output_type": "stream",
     "text": [
      "[CV]  learning_rate=0.01, n_estimators=150, score=0.402, total=   1.0s\n",
      "[CV] learning_rate=0.01, n_estimators=150 ............................\n"
     ]
    },
    {
     "name": "stderr",
     "output_type": "stream",
     "text": [
      "[Parallel(n_jobs=1)]: Done   9 out of   9 | elapsed:    7.6s remaining:    0.0s\n"
     ]
    },
    {
     "name": "stdout",
     "output_type": "stream",
     "text": [
      "[CV]  learning_rate=0.01, n_estimators=150, score=0.460, total=   1.0s\n",
      "[CV] learning_rate=0.01, n_estimators=440 ............................\n",
      "[CV]  learning_rate=0.01, n_estimators=440, score=0.512, total=   2.8s\n",
      "[CV] learning_rate=0.01, n_estimators=440 ............................\n",
      "[CV]  learning_rate=0.01, n_estimators=440, score=0.524, total=   3.1s\n",
      "[CV] learning_rate=0.01, n_estimators=440 ............................\n",
      "[CV]  learning_rate=0.01, n_estimators=440, score=0.474, total=   3.3s\n",
      "[CV] learning_rate=0.01, n_estimators=440 ............................\n",
      "[CV]  learning_rate=0.01, n_estimators=440, score=0.469, total=   3.3s\n",
      "[CV] learning_rate=0.01, n_estimators=440 ............................\n",
      "[CV]  learning_rate=0.01, n_estimators=440, score=0.544, total=   3.3s\n",
      "[CV] learning_rate=0.05, n_estimators=100 ............................\n",
      "[CV]  learning_rate=0.05, n_estimators=100, score=0.518, total=   0.8s\n",
      "[CV] learning_rate=0.05, n_estimators=100 ............................\n",
      "[CV]  learning_rate=0.05, n_estimators=100, score=0.526, total=   0.7s\n",
      "[CV] learning_rate=0.05, n_estimators=100 ............................\n",
      "[CV]  learning_rate=0.05, n_estimators=100, score=0.478, total=   0.7s\n",
      "[CV] learning_rate=0.05, n_estimators=100 ............................\n",
      "[CV]  learning_rate=0.05, n_estimators=100, score=0.469, total=   0.8s\n",
      "[CV] learning_rate=0.05, n_estimators=100 ............................\n",
      "[CV]  learning_rate=0.05, n_estimators=100, score=0.546, total=   0.7s\n",
      "[CV] learning_rate=0.05, n_estimators=150 ............................\n",
      "[CV]  learning_rate=0.05, n_estimators=150, score=0.528, total=   1.2s\n",
      "[CV] learning_rate=0.05, n_estimators=150 ............................\n",
      "[CV]  learning_rate=0.05, n_estimators=150, score=0.533, total=   1.1s\n",
      "[CV] learning_rate=0.05, n_estimators=150 ............................\n",
      "[CV]  learning_rate=0.05, n_estimators=150, score=0.484, total=   1.1s\n",
      "[CV] learning_rate=0.05, n_estimators=150 ............................\n",
      "[CV]  learning_rate=0.05, n_estimators=150, score=0.473, total=   0.9s\n",
      "[CV] learning_rate=0.05, n_estimators=150 ............................\n",
      "[CV]  learning_rate=0.05, n_estimators=150, score=0.551, total=   0.9s\n",
      "[CV] learning_rate=0.05, n_estimators=440 ............................\n",
      "[CV]  learning_rate=0.05, n_estimators=440, score=0.547, total=   2.7s\n",
      "[CV] learning_rate=0.05, n_estimators=440 ............................\n",
      "[CV]  learning_rate=0.05, n_estimators=440, score=0.544, total=   2.5s\n",
      "[CV] learning_rate=0.05, n_estimators=440 ............................\n",
      "[CV]  learning_rate=0.05, n_estimators=440, score=0.494, total=   2.6s\n",
      "[CV] learning_rate=0.05, n_estimators=440 ............................\n",
      "[CV]  learning_rate=0.05, n_estimators=440, score=0.472, total=   2.6s\n",
      "[CV] learning_rate=0.05, n_estimators=440 ............................\n",
      "[CV]  learning_rate=0.05, n_estimators=440, score=0.562, total=   2.5s\n",
      "[CV] learning_rate=0.1, n_estimators=100 .............................\n",
      "[CV] . learning_rate=0.1, n_estimators=100, score=0.532, total=   0.6s\n",
      "[CV] learning_rate=0.1, n_estimators=100 .............................\n",
      "[CV] . learning_rate=0.1, n_estimators=100, score=0.543, total=   0.7s\n",
      "[CV] learning_rate=0.1, n_estimators=100 .............................\n",
      "[CV] . learning_rate=0.1, n_estimators=100, score=0.485, total=   0.6s\n",
      "[CV] learning_rate=0.1, n_estimators=100 .............................\n",
      "[CV] . learning_rate=0.1, n_estimators=100, score=0.471, total=   0.6s\n",
      "[CV] learning_rate=0.1, n_estimators=100 .............................\n",
      "[CV] . learning_rate=0.1, n_estimators=100, score=0.549, total=   0.6s\n",
      "[CV] learning_rate=0.1, n_estimators=150 .............................\n",
      "[CV] . learning_rate=0.1, n_estimators=150, score=0.544, total=   0.9s\n",
      "[CV] learning_rate=0.1, n_estimators=150 .............................\n",
      "[CV] . learning_rate=0.1, n_estimators=150, score=0.540, total=   1.1s\n",
      "[CV] learning_rate=0.1, n_estimators=150 .............................\n",
      "[CV] . learning_rate=0.1, n_estimators=150, score=0.494, total=   1.1s\n",
      "[CV] learning_rate=0.1, n_estimators=150 .............................\n",
      "[CV] . learning_rate=0.1, n_estimators=150, score=0.473, total=   1.1s\n",
      "[CV] learning_rate=0.1, n_estimators=150 .............................\n",
      "[CV] . learning_rate=0.1, n_estimators=150, score=0.561, total=   1.1s\n",
      "[CV] learning_rate=0.1, n_estimators=440 .............................\n",
      "[CV] . learning_rate=0.1, n_estimators=440, score=0.548, total=   3.1s\n",
      "[CV] learning_rate=0.1, n_estimators=440 .............................\n",
      "[CV] . learning_rate=0.1, n_estimators=440, score=0.556, total=   3.1s\n",
      "[CV] learning_rate=0.1, n_estimators=440 .............................\n",
      "[CV] . learning_rate=0.1, n_estimators=440, score=0.511, total=   3.1s\n",
      "[CV] learning_rate=0.1, n_estimators=440 .............................\n",
      "[CV] . learning_rate=0.1, n_estimators=440, score=0.472, total=   3.0s\n",
      "[CV] learning_rate=0.1, n_estimators=440 .............................\n",
      "[CV] . learning_rate=0.1, n_estimators=440, score=0.581, total=   2.9s\n",
      "[CV] learning_rate=0.15, n_estimators=100 ............................\n",
      "[CV]  learning_rate=0.15, n_estimators=100, score=0.523, total=   0.7s\n",
      "[CV] learning_rate=0.15, n_estimators=100 ............................\n",
      "[CV]  learning_rate=0.15, n_estimators=100, score=0.540, total=   0.7s\n",
      "[CV] learning_rate=0.15, n_estimators=100 ............................\n",
      "[CV]  learning_rate=0.15, n_estimators=100, score=0.488, total=   0.7s\n",
      "[CV] learning_rate=0.15, n_estimators=100 ............................\n",
      "[CV]  learning_rate=0.15, n_estimators=100, score=0.474, total=   0.7s\n",
      "[CV] learning_rate=0.15, n_estimators=100 ............................\n",
      "[CV]  learning_rate=0.15, n_estimators=100, score=0.545, total=   0.7s\n",
      "[CV] learning_rate=0.15, n_estimators=150 ............................\n",
      "[CV]  learning_rate=0.15, n_estimators=150, score=0.541, total=   1.0s\n",
      "[CV] learning_rate=0.15, n_estimators=150 ............................\n",
      "[CV]  learning_rate=0.15, n_estimators=150, score=0.539, total=   1.0s\n",
      "[CV] learning_rate=0.15, n_estimators=150 ............................\n",
      "[CV]  learning_rate=0.15, n_estimators=150, score=0.496, total=   1.0s\n",
      "[CV] learning_rate=0.15, n_estimators=150 ............................\n",
      "[CV]  learning_rate=0.15, n_estimators=150, score=0.473, total=   1.0s\n",
      "[CV] learning_rate=0.15, n_estimators=150 ............................\n",
      "[CV]  learning_rate=0.15, n_estimators=150, score=0.550, total=   1.0s\n",
      "[CV] learning_rate=0.15, n_estimators=440 ............................\n",
      "[CV]  learning_rate=0.15, n_estimators=440, score=0.551, total=   2.7s\n",
      "[CV] learning_rate=0.15, n_estimators=440 ............................\n",
      "[CV]  learning_rate=0.15, n_estimators=440, score=0.537, total=   2.3s\n",
      "[CV] learning_rate=0.15, n_estimators=440 ............................\n",
      "[CV]  learning_rate=0.15, n_estimators=440, score=0.507, total=   2.4s\n",
      "[CV] learning_rate=0.15, n_estimators=440 ............................\n",
      "[CV]  learning_rate=0.15, n_estimators=440, score=0.498, total=   2.3s\n",
      "[CV] learning_rate=0.15, n_estimators=440 ............................\n",
      "[CV]  learning_rate=0.15, n_estimators=440, score=0.582, total=   2.5s\n"
     ]
    },
    {
     "name": "stderr",
     "output_type": "stream",
     "text": [
      "[Parallel(n_jobs=1)]: Done  60 out of  60 | elapsed:  1.5min finished\n"
     ]
    },
    {
     "data": {
      "text/plain": [
       "GridSearchCV(cv=5, error_score=make_scorer(mean_squared_error),\n",
       "             estimator=GradientBoostingRegressor(alpha=0.9,\n",
       "                                                 criterion='friedman_mse',\n",
       "                                                 init=None, learning_rate=0.1,\n",
       "                                                 loss='ls', max_depth=3,\n",
       "                                                 max_features=None,\n",
       "                                                 max_leaf_nodes=None,\n",
       "                                                 min_impurity_decrease=0.0,\n",
       "                                                 min_impurity_split=None,\n",
       "                                                 min_samples_leaf=1,\n",
       "                                                 min_samples_split=2,\n",
       "                                                 min_weight_fraction_leaf=0.0,\n",
       "                                                 n_estimators=100,\n",
       "                                                 n_iter_no_change=None,\n",
       "                                                 presort='auto',\n",
       "                                                 random_state=None,\n",
       "                                                 subsample=1.0, tol=0.0001,\n",
       "                                                 validation_fraction=0.1,\n",
       "                                                 verbose=0, warm_start=False),\n",
       "             iid='warn', n_jobs=None,\n",
       "             param_grid=[{'learning_rate': [0.01, 0.05, 0.1, 0.15],\n",
       "                          'n_estimators': [100, 150, 440]}],\n",
       "             pre_dispatch='2*n_jobs', refit=True, return_train_score=False,\n",
       "             scoring=None, verbose=10)"
      ]
     },
     "execution_count": 41,
     "metadata": {
      "tags": []
     },
     "output_type": "execute_result"
    }
   ],
   "source": [
    "gbr_grid_search = GridSearchCV(GradientBoostingRegressor(), \n",
    "                               [{'n_estimators': [100, 150, 440], 'learning_rate': [0.01, 0.05, 0.1, 0.15]}],\n",
    "                               cv=5,\n",
    "                               error_score=make_scorer(mean_squared_error),\n",
    "                               verbose=10)\n",
    "gbr_grid_search.fit(X_train, y_train)"
   ]
  },
  {
   "cell_type": "code",
   "execution_count": 0,
   "metadata": {
    "colab": {},
    "colab_type": "code",
    "id": "BwW6vo6AuZYB",
    "outputId": "1e56f0d5-1831-4620-b033-d3766cb65cce"
   },
   "outputs": [
    {
     "name": "stdout",
     "output_type": "stream",
     "text": [
      "{'learning_rate': 0.15, 'n_estimators': 440}\n",
      "0.5349456000937608\n",
      "GradientBoostingRegressor(alpha=0.9, criterion='friedman_mse', init=None,\n",
      "                          learning_rate=0.15, loss='ls', max_depth=3,\n",
      "                          max_features=None, max_leaf_nodes=None,\n",
      "                          min_impurity_decrease=0.0, min_impurity_split=None,\n",
      "                          min_samples_leaf=1, min_samples_split=2,\n",
      "                          min_weight_fraction_leaf=0.0, n_estimators=440,\n",
      "                          n_iter_no_change=None, presort='auto',\n",
      "                          random_state=None, subsample=1.0, tol=0.0001,\n",
      "                          validation_fraction=0.1, verbose=0, warm_start=False)\n"
     ]
    }
   ],
   "source": [
    "print(gbr_grid_search.best_params_)\n",
    "print(gbr_grid_search.best_score_)\n",
    "print(gbr_grid_search.best_estimator_)"
   ]
  },
  {
   "cell_type": "markdown",
   "metadata": {
    "colab_type": "text",
    "id": "Ln4vdaZ8uZYC"
   },
   "source": [
    "**Задание**: попробуйте поиск гиперпараметров для RandomForest, разберитесь как работает KFold по документации sklearn."
   ]
  },
  {
   "cell_type": "code",
   "execution_count": 0,
   "metadata": {
    "colab": {},
    "colab_type": "code",
    "id": "NS1tpzSnuZYD"
   },
   "outputs": [],
   "source": [
    "# Kfold"
   ]
  }
 ],
 "metadata": {
  "colab": {
   "collapsed_sections": [],
   "name": "[seminar, prodv]4_ml_basics.ipynb",
   "provenance": []
  },
  "hide_input": false,
  "kernelspec": {
   "display_name": "Python 3",
   "language": "python",
   "name": "python3"
  },
  "language_info": {
   "codemirror_mode": {
    "name": "ipython",
    "version": 3
   },
   "file_extension": ".py",
   "mimetype": "text/x-python",
   "name": "python",
   "nbconvert_exporter": "python",
   "pygments_lexer": "ipython3",
   "version": "3.7.3"
  },
  "varInspector": {
   "cols": {
    "lenName": 16,
    "lenType": 16,
    "lenVar": 40
   },
   "kernels_config": {
    "python": {
     "delete_cmd_postfix": "",
     "delete_cmd_prefix": "del ",
     "library": "var_list.py",
     "varRefreshCmd": "print(var_dic_list())"
    },
    "r": {
     "delete_cmd_postfix": ") ",
     "delete_cmd_prefix": "rm(",
     "library": "var_list.r",
     "varRefreshCmd": "cat(var_dic_list()) "
    }
   },
   "types_to_exclude": [
    "module",
    "function",
    "builtin_function_or_method",
    "instance",
    "_Feature"
   ],
   "window_display": false
  }
 },
 "nbformat": 4,
 "nbformat_minor": 1
}
